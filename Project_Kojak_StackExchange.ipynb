{
 "cells": [
  {
   "cell_type": "markdown",
   "metadata": {},
   "source": [
    "###At what point in high school do students give up on math? Identifying knowledge gaps in high school and college math education using Stack Exchange's Math forum\n",
    "\n",
    "#### Additional Questions:\n",
    "    1. What are the most popular subjects over time? (Upvotes, Favorites and Views)\n",
    "    2. What are the most hotly debated subjects over time? (Comment Count, Longevity)\n",
    "    3. What are the most fundamental subjects students are asking about over time? (Asked multiple times, answered quickly and by only a few commenters)\n",
    "    4. What are the demographics of the posters and commenters? (Education level, age and location)\n",
    "    5. Who are the most active math people? How quickly do they reply? Who has way too much free time?\n",
    "    6. Can I determine sex from username?"
   ]
  },
  {
   "cell_type": "code",
   "execution_count": 1,
   "metadata": {
    "collapsed": false
   },
   "outputs": [],
   "source": [
    "import numpy as np\n",
    "import pandas as pd\n",
    "\n",
    "from xml.etree import ElementTree as ET\n",
    "from HTMLParser import HTMLParser\n",
    "\n",
    "import matplotlib.pyplot as plt\n",
    "%matplotlib inline \n",
    "import seaborn as sns"
   ]
  },
  {
   "cell_type": "markdown",
   "metadata": {},
   "source": [
    "#Parse Stackoverflow XML files"
   ]
  },
  {
   "cell_type": "code",
   "execution_count": 161,
   "metadata": {
    "collapsed": true
   },
   "outputs": [],
   "source": [
    "class MLStripper(HTMLParser):\n",
    "    def __init__(self):\n",
    "        self.reset()\n",
    "        self.fed = []\n",
    "    def handle_data(self, d):\n",
    "        self.fed.append(d)\n",
    "    def get_data(self):\n",
    "        return ''.join(self.fed)\n",
    "\n",
    "def strip_tags(html):\n",
    "    s = MLStripper()\n",
    "    s.feed(html)\n",
    "    return s.get_data()"
   ]
  },
  {
   "cell_type": "code",
   "execution_count": 162,
   "metadata": {
    "collapsed": false,
    "scrolled": true
   },
   "outputs": [],
   "source": [
    "etree = ET.parse('Data/Math/math.stackexchange.com/Posts.xml')\n",
    "root = etree.getroot()\n",
    "i = 0\n",
    "postdicts = []\n",
    "for x in root.iter():\n",
    "    postdicts.append(x.attrib)\n",
    "postdata = pd.DataFrame(postdicts).ix[1:]"
   ]
  },
  {
   "cell_type": "code",
   "execution_count": 163,
   "metadata": {
    "collapsed": true
   },
   "outputs": [],
   "source": [
    "for index, row in postdata.iterrows():\n",
    "    row['Body'] = strip_tags(row['Body'])"
   ]
  },
  {
   "cell_type": "code",
   "execution_count": 164,
   "metadata": {
    "collapsed": false,
    "scrolled": true
   },
   "outputs": [],
   "source": [
    "etree = ET.parse('Data/Math/math.stackexchange.com/Users.xml')\n",
    "root = etree.getroot()\n",
    "i = 0\n",
    "userdicts = []\n",
    "for x in root.iter():\n",
    "    userdicts.append(x.attrib)\n",
    "userdata = pd.DataFrame(userdicts).ix[1:]"
   ]
  },
  {
   "cell_type": "markdown",
   "metadata": {},
   "source": [
    "#Where are the users?"
   ]
  },
  {
   "cell_type": "code",
   "execution_count": 165,
   "metadata": {
    "collapsed": true
   },
   "outputs": [],
   "source": [
    "location2 = userdata['Location']"
   ]
  },
  {
   "cell_type": "code",
   "execution_count": 166,
   "metadata": {
    "collapsed": false
   },
   "outputs": [],
   "source": [
    "userdata.replace(to_replace=['Bangalore, India','London, United Kingdom','New York, United States','San Francisco, CA','Mumbai, India','Paris, France','Sydney, Australia','Toronto, Canada','Moscow, Russia','Chennai, India','Los Angeles, CA','Berlin, Germany','Montreal, Canada','Melbourne, Australia','Hyderabad, India','Pune, India','Beijing, China','Vancouver, Canada','Stockholm, Sweden','Kolkata, India','New Delhi, India','UK','London'], \n",
    "                 value=['India','United Kingdom','New York, NY','California','India','France','Australia','Canada','Russia','India','California','Germany','Canada','Australia','India','India','China','Canada','Sweden','India','India','United Kingdom','United Kingdom'],inplace=True)"
   ]
  },
  {
   "cell_type": "code",
   "execution_count": 167,
   "metadata": {
    "collapsed": true
   },
   "outputs": [],
   "source": [
    "userdata.replace(to_replace=['California','New York, NY','Seattle, WA','Boston, MA','Chicago, IL','Austin, TX','Atlanta, GA','Pittsburgh, PA','Portland, OR','USA','San Diego, CA','Berkeley, CA'],value='United States',inplace=True)"
   ]
  },
  {
   "cell_type": "code",
   "execution_count": 168,
   "metadata": {
    "collapsed": false
   },
   "outputs": [
    {
     "data": {
      "text/plain": [
       "Index([u'AboutMe', u'AccountId', u'Age', u'CreationDate', u'DisplayName', u'DownVotes', u'Id', u'LastAccessDate', u'Location', u'ProfileImageUrl', u'Reputation', u'UpVotes', u'Views', u'WebsiteUrl', u'Location2'], dtype='object')"
      ]
     },
     "execution_count": 168,
     "metadata": {},
     "output_type": "execute_result"
    }
   ],
   "source": [
    "userdata['Location2'] = location2\n",
    "userdata.columns"
   ]
  },
  {
   "cell_type": "code",
   "execution_count": 169,
   "metadata": {
    "collapsed": false
   },
   "outputs": [],
   "source": [
    "def counter(x):\n",
    "    x['Counter'] = x.Location.count()\n",
    "    return x\n",
    "counts = userdata.groupby(\"Location\").apply(counter)\n",
    "counts2 = counts[['Location','Counter']]\n",
    "counts3 = counts2.drop_duplicates(cols='Location',take_last = True)\n",
    "counts3.sort(columns='Counter',ascending=False,inplace=True)\n",
    "counts4 = counts3[['Location','Counter']]\n",
    "# userdata2.sort(columns='',ascending=False,inplace=True)"
   ]
  },
  {
   "cell_type": "code",
   "execution_count": 170,
   "metadata": {
    "collapsed": false
   },
   "outputs": [
    {
     "data": {
      "text/html": [
       "<div style=\"max-height:1000px;max-width:1500px;overflow:auto;\">\n",
       "<table border=\"1\" class=\"dataframe\">\n",
       "  <thead>\n",
       "    <tr style=\"text-align: right;\">\n",
       "      <th></th>\n",
       "      <th>Location</th>\n",
       "      <th>Counter</th>\n",
       "    </tr>\n",
       "  </thead>\n",
       "  <tbody>\n",
       "    <tr>\n",
       "      <th>171513</th>\n",
       "      <td>United States</td>\n",
       "      <td>3945</td>\n",
       "    </tr>\n",
       "    <tr>\n",
       "      <th>171322</th>\n",
       "      <td>India</td>\n",
       "      <td>2706</td>\n",
       "    </tr>\n",
       "    <tr>\n",
       "      <th>171622</th>\n",
       "      <td>United Kingdom</td>\n",
       "      <td>1482</td>\n",
       "    </tr>\n",
       "    <tr>\n",
       "      <th>171489</th>\n",
       "      <td>Germany</td>\n",
       "      <td>902</td>\n",
       "    </tr>\n",
       "    <tr>\n",
       "      <th>171132</th>\n",
       "      <td>Canada</td>\n",
       "      <td>877</td>\n",
       "    </tr>\n",
       "    <tr>\n",
       "      <th>171559</th>\n",
       "      <td>Australia</td>\n",
       "      <td>623</td>\n",
       "    </tr>\n",
       "    <tr>\n",
       "      <th>170315</th>\n",
       "      <td>France</td>\n",
       "      <td>576</td>\n",
       "    </tr>\n",
       "    <tr>\n",
       "      <th>171718</th>\n",
       "      <td>Russia</td>\n",
       "      <td>462</td>\n",
       "    </tr>\n",
       "    <tr>\n",
       "      <th>167586</th>\n",
       "      <td>Sweden</td>\n",
       "      <td>382</td>\n",
       "    </tr>\n",
       "    <tr>\n",
       "      <th>171098</th>\n",
       "      <td>Netherlands</td>\n",
       "      <td>325</td>\n",
       "    </tr>\n",
       "    <tr>\n",
       "      <th>170847</th>\n",
       "      <td>Brazil</td>\n",
       "      <td>324</td>\n",
       "    </tr>\n",
       "    <tr>\n",
       "      <th>170762</th>\n",
       "      <td>China</td>\n",
       "      <td>320</td>\n",
       "    </tr>\n",
       "    <tr>\n",
       "      <th>165159</th>\n",
       "      <td>Israel</td>\n",
       "      <td>278</td>\n",
       "    </tr>\n",
       "    <tr>\n",
       "      <th>170942</th>\n",
       "      <td>Italy</td>\n",
       "      <td>272</td>\n",
       "    </tr>\n",
       "    <tr>\n",
       "      <th>160127</th>\n",
       "      <td>Belgium</td>\n",
       "      <td>199</td>\n",
       "    </tr>\n",
       "    <tr>\n",
       "      <th>168057</th>\n",
       "      <td>Denmark</td>\n",
       "      <td>177</td>\n",
       "    </tr>\n",
       "    <tr>\n",
       "      <th>170791</th>\n",
       "      <td>Poland</td>\n",
       "      <td>176</td>\n",
       "    </tr>\n",
       "    <tr>\n",
       "      <th>171140</th>\n",
       "      <td>Switzerland</td>\n",
       "      <td>166</td>\n",
       "    </tr>\n",
       "    <tr>\n",
       "      <th>170072</th>\n",
       "      <td>Singapore</td>\n",
       "      <td>162</td>\n",
       "    </tr>\n",
       "    <tr>\n",
       "      <th>171557</th>\n",
       "      <td>Iran</td>\n",
       "      <td>146</td>\n",
       "    </tr>\n",
       "    <tr>\n",
       "      <th>160559</th>\n",
       "      <td>South Africa</td>\n",
       "      <td>124</td>\n",
       "    </tr>\n",
       "    <tr>\n",
       "      <th>168173</th>\n",
       "      <td>Ukraine</td>\n",
       "      <td>120</td>\n",
       "    </tr>\n",
       "    <tr>\n",
       "      <th>168420</th>\n",
       "      <td>Earth</td>\n",
       "      <td>119</td>\n",
       "    </tr>\n",
       "    <tr>\n",
       "      <th>165967</th>\n",
       "      <td>Norway</td>\n",
       "      <td>115</td>\n",
       "    </tr>\n",
       "    <tr>\n",
       "      <th>171089</th>\n",
       "      <td>Spain</td>\n",
       "      <td>109</td>\n",
       "    </tr>\n",
       "    <tr>\n",
       "      <th>170483</th>\n",
       "      <td>Hong Kong</td>\n",
       "      <td>108</td>\n",
       "    </tr>\n",
       "    <tr>\n",
       "      <th>170304</th>\n",
       "      <td>Finland</td>\n",
       "      <td>104</td>\n",
       "    </tr>\n",
       "    <tr>\n",
       "      <th>169434</th>\n",
       "      <td>Dhaka, Bangladesh</td>\n",
       "      <td>104</td>\n",
       "    </tr>\n",
       "    <tr>\n",
       "      <th>167757</th>\n",
       "      <td>Mexico</td>\n",
       "      <td>103</td>\n",
       "    </tr>\n",
       "    <tr>\n",
       "      <th>171192</th>\n",
       "      <td>Turkey</td>\n",
       "      <td>102</td>\n",
       "    </tr>\n",
       "  </tbody>\n",
       "</table>\n",
       "</div>"
      ],
      "text/plain": [
       "                 Location  Counter\n",
       "171513      United States     3945\n",
       "171322              India     2706\n",
       "171622     United Kingdom     1482\n",
       "171489            Germany      902\n",
       "171132             Canada      877\n",
       "171559          Australia      623\n",
       "170315             France      576\n",
       "171718             Russia      462\n",
       "167586             Sweden      382\n",
       "171098        Netherlands      325\n",
       "170847             Brazil      324\n",
       "170762              China      320\n",
       "165159             Israel      278\n",
       "170942              Italy      272\n",
       "160127            Belgium      199\n",
       "168057            Denmark      177\n",
       "170791             Poland      176\n",
       "171140        Switzerland      166\n",
       "170072          Singapore      162\n",
       "171557               Iran      146\n",
       "160559       South Africa      124\n",
       "168173            Ukraine      120\n",
       "168420              Earth      119\n",
       "165967             Norway      115\n",
       "171089              Spain      109\n",
       "170483          Hong Kong      108\n",
       "170304            Finland      104\n",
       "169434  Dhaka, Bangladesh      104\n",
       "167757             Mexico      103\n",
       "171192             Turkey      102"
      ]
     },
     "execution_count": 170,
     "metadata": {},
     "output_type": "execute_result"
    }
   ],
   "source": [
    "counts4.head(30)"
   ]
  },
  {
   "cell_type": "code",
   "execution_count": 171,
   "metadata": {
    "collapsed": false
   },
   "outputs": [
    {
     "data": {
      "image/png": "[encoded data removed]",
      "text/plain": [
       "<matplotlib.figure.Figure at 0x1d0495210>"
      ]
     },
     "metadata": {},
     "output_type": "display_data"
    }
   ],
   "source": [
    "# Who are the users of the Math Forum?\n",
    "sns.set_palette(\"deep\", desat=.8)\n",
    "sns.set(font_scale=2.0)\n",
    "sns.set_context(rc={\"figure.figsize\": (20, 10)})   \n",
    "ax = counts4[0:20].plot(x='Location', y='Counter',kind='bar',colormap='jet',title='Top 20 User Locations',legend=False)"
   ]
  },
  {
   "cell_type": "code",
   "execution_count": 172,
   "metadata": {
    "collapsed": false
   },
   "outputs": [],
   "source": [
    "postdata = pd.merge(postdata, userdata, left_on='OwnerUserId', right_on='Id', how='left')"
   ]
  },
  {
   "cell_type": "code",
   "execution_count": 173,
   "metadata": {
    "collapsed": false,
    "scrolled": false
   },
   "outputs": [],
   "source": [
    "etree = ET.parse('Data/Math/math.stackexchange.com/Comments.xml')\n",
    "root = etree.getroot()\n",
    "i = 0\n",
    "commentdicts = []\n",
    "for x in root.iter():\n",
    "    commentdicts.append(x.attrib)\n",
    "commentdata = pd.DataFrame(commentdicts).ix[1:]"
   ]
  },
  {
   "cell_type": "code",
   "execution_count": 174,
   "metadata": {
    "collapsed": true
   },
   "outputs": [],
   "source": [
    "for index, row in commentdata.iterrows():\n",
    "    row['Text'] = strip_tags(row['Text'])"
   ]
  },
  {
   "cell_type": "code",
   "execution_count": 175,
   "metadata": {
    "collapsed": false
   },
   "outputs": [],
   "source": [
    "commentdata = pd.merge(commentdata, userdata, left_on='UserId', right_on='Id', how='left')"
   ]
  },
  {
   "cell_type": "code",
   "execution_count": 176,
   "metadata": {
    "collapsed": false
   },
   "outputs": [],
   "source": [
    "postdata.CreationDate_x = pd.to_datetime(postdata.CreationDate_x)\n",
    "postdata.LastActivityDate = pd.to_datetime(postdata.LastActivityDate)"
   ]
  },
  {
   "cell_type": "code",
   "execution_count": 177,
   "metadata": {
    "collapsed": false
   },
   "outputs": [],
   "source": [
    "postdata['Longevity'] = postdata.LastActivityDate - postdata.CreationDate_x"
   ]
  },
  {
   "cell_type": "code",
   "execution_count": 178,
   "metadata": {
    "collapsed": false
   },
   "outputs": [],
   "source": [
    "LongevitySeconds = []\n",
    "for row in postdata.Longevity:\n",
    "    LongevitySeconds.append(row.total_seconds())\n",
    "postdata['LongevitySeconds'] = LongevitySeconds"
   ]
  },
  {
   "cell_type": "code",
   "execution_count": 179,
   "metadata": {
    "collapsed": false,
    "scrolled": false
   },
   "outputs": [
    {
     "data": {
      "text/plain": [
       "0                            set-theory,intuition,faq,\n",
       "1                          calculus,limits,definition,\n",
       "2             soft-question,big-list,online-resources,\n",
       "3                                                  NaN\n",
       "4                    number-theory,irrational-numbers,\n",
       "5                         soft-question,math-software,\n",
       "6                                                  NaN\n",
       "7    linear-algebra,combinatorics,generating-functi...\n",
       "8                                                  NaN\n",
       "9               algebra-precalculus,decimal-expansion,\n",
       "Name: Tags, dtype: object"
      ]
     },
     "execution_count": 179,
     "metadata": {},
     "output_type": "execute_result"
    }
   ],
   "source": [
    "# Pull out tags\n",
    "postdata.Tags = postdata.Tags.str.replace('\\\\<', '')\n",
    "postdata.Tags = postdata.Tags.str.replace('\\\\>', ',')\n",
    "postdata.Tags[0:10]"
   ]
  },
  {
   "cell_type": "code",
   "execution_count": 180,
   "metadata": {
    "collapsed": false
   },
   "outputs": [],
   "source": [
    "removenans = postdata.Tags\n",
    "removenans = removenans.fillna('')\n",
    "postdata.Tags = removenans\n",
    "postdata.Tags = postdata.Tags.str.strip(',')"
   ]
  },
  {
   "cell_type": "code",
   "execution_count": 181,
   "metadata": {
    "collapsed": false
   },
   "outputs": [
    {
     "name": "stdout",
     "output_type": "stream",
     "text": [
      "0     269\n",
      "1      71\n",
      "2      72\n",
      "3     191\n",
      "4     196\n",
      "5     117\n",
      "6     285\n",
      "7     392\n",
      "8    1490\n",
      "9     122\n",
      "Name: BodyLength, dtype: int64\n"
     ]
    }
   ],
   "source": [
    "postdata['BodyLength'] = postdata['Body'].str.len()\n",
    "print postdata['BodyLength'][0:10]"
   ]
  },
  {
   "cell_type": "code",
   "execution_count": 182,
   "metadata": {
    "collapsed": false
   },
   "outputs": [],
   "source": [
    "# Get unique list of subjects and their counts\n",
    "subjectlist = []\n",
    "for row in postdata.Tags:\n",
    "    for subject in row.split(','):\n",
    "        subjectlist.append(subject)"
   ]
  },
  {
   "cell_type": "code",
   "execution_count": 183,
   "metadata": {
    "collapsed": false
   },
   "outputs": [],
   "source": [
    "from collections import Counter\n",
    "counts = Counter(subjectlist)"
   ]
  },
  {
   "cell_type": "code",
   "execution_count": 184,
   "metadata": {
    "collapsed": false
   },
   "outputs": [],
   "source": [
    "taglist = []\n",
    "tagcounts = []\n",
    "for word, count in counts.iteritems():\n",
    "    taglist.append(word)\n",
    "    tagcounts.append(count)\n",
    "uniquetaglist = zip(*[taglist,tagcounts])\n",
    "uniquetags = pd.DataFrame(uniquetaglist)\n",
    "uniquetags.columns = ['Tag','Count']\n",
    "uniquetags.sort(columns='Count',ascending=False,inplace=True)"
   ]
  },
  {
   "cell_type": "code",
   "execution_count": 185,
   "metadata": {
    "collapsed": false
   },
   "outputs": [],
   "source": [
    "# Modify with high-school, non-high school values in Excel\n",
    "# uniquetags.to_csv('uniquetags.csv')"
   ]
  },
  {
   "cell_type": "code",
   "execution_count": 186,
   "metadata": {
    "collapsed": false
   },
   "outputs": [],
   "source": [
    "uniquetags2 = uniquetags.from_csv('uniquetags.csv',header = 0)"
   ]
  },
  {
   "cell_type": "code",
   "execution_count": 187,
   "metadata": {
    "collapsed": false
   },
   "outputs": [
    {
     "data": {
      "text/plain": [
       "Index([u'Tag', u'Count', u'HighSchoolSubjects'], dtype='object')"
      ]
     },
     "execution_count": 187,
     "metadata": {},
     "output_type": "execute_result"
    }
   ],
   "source": [
    "uniquetags2.columns"
   ]
  },
  {
   "cell_type": "code",
   "execution_count": 188,
   "metadata": {
    "collapsed": false
   },
   "outputs": [
    {
     "data": {
      "text/plain": [
       "['real-analysis',\n",
       " 'linear-algebra',\n",
       " 'probability',\n",
       " 'abstract-algebra',\n",
       " 'sequences-and-series',\n",
       " 'general-topology',\n",
       " 'combinatorics',\n",
       " 'group-theory',\n",
       " 'complex-analysis']"
      ]
     },
     "execution_count": 188,
     "metadata": {},
     "output_type": "execute_result"
    }
   ],
   "source": [
    "highschoolbinary = uniquetags2['HighSchoolSubjects'].tolist()\n",
    "tagstemp = uniquetags2['Tag'].tolist()\n",
    "subjectbinary = zip(*[tagstemp,highschoolbinary])\n",
    "highschooltags = []\n",
    "defnothighschooltags = []\n",
    "for item in subjectbinary:\n",
    "    if item[1] == 1:\n",
    "        highschooltags.append(item[0])\n",
    "    elif item[1] == 0:\n",
    "        defnothighschooltags.append(item[0])\n",
    "highschooltags[0:9]    \n",
    "defnothighschooltags[0:9]"
   ]
  },
  {
   "cell_type": "code",
   "execution_count": 189,
   "metadata": {
    "collapsed": true
   },
   "outputs": [],
   "source": [
    "# Develop training set from subjects I am sure are \n",
    "# high-school or not high-school level\n",
    "highschoolsubject = []\n",
    "for row in postdata.Tags:\n",
    "    if any(subject not in highschooltags for subject in row.split(',')):\n",
    "        if any(subject in defnothighschooltags for subject in row.split(',')):\n",
    "            highschoolsubject.append(0.0)\n",
    "        else:\n",
    "            highschoolsubject.append(0.5)\n",
    "    elif any(subject not in defnothighschooltags for subject in row.split(',')):\n",
    "        highschoolsubject.append(1.0)\n",
    "    else:\n",
    "        highschoolsubject.append(1)\n",
    "    for subject in row.split(','):\n",
    "        subjectlist.append(subject)\n",
    "postdata['HighSchoolSubject'] = highschoolsubject"
   ]
  },
  {
   "cell_type": "code",
   "execution_count": 190,
   "metadata": {
    "collapsed": false
   },
   "outputs": [
    {
     "data": {
      "text/html": [
       "<div style=\"max-height:1000px;max-width:1500px;overflow:auto;\">\n",
       "<table border=\"1\" class=\"dataframe\">\n",
       "  <thead>\n",
       "    <tr style=\"text-align: right;\">\n",
       "      <th></th>\n",
       "      <th>Tags</th>\n",
       "      <th>HighSchoolSubject</th>\n",
       "    </tr>\n",
       "  </thead>\n",
       "  <tbody>\n",
       "    <tr>\n",
       "      <th>0</th>\n",
       "      <td>set-theory,intuition,faq</td>\n",
       "      <td>0.0</td>\n",
       "    </tr>\n",
       "    <tr>\n",
       "      <th>1</th>\n",
       "      <td>calculus,limits,definition</td>\n",
       "      <td>0.5</td>\n",
       "    </tr>\n",
       "    <tr>\n",
       "      <th>2</th>\n",
       "      <td>soft-question,big-list,online-resources</td>\n",
       "      <td>0.5</td>\n",
       "    </tr>\n",
       "    <tr>\n",
       "      <th>3</th>\n",
       "      <td></td>\n",
       "      <td>0.5</td>\n",
       "    </tr>\n",
       "    <tr>\n",
       "      <th>4</th>\n",
       "      <td>number-theory,irrational-numbers</td>\n",
       "      <td>0.0</td>\n",
       "    </tr>\n",
       "    <tr>\n",
       "      <th>5</th>\n",
       "      <td>soft-question,math-software</td>\n",
       "      <td>0.5</td>\n",
       "    </tr>\n",
       "    <tr>\n",
       "      <th>6</th>\n",
       "      <td></td>\n",
       "      <td>0.5</td>\n",
       "    </tr>\n",
       "    <tr>\n",
       "      <th>7</th>\n",
       "      <td>linear-algebra,combinatorics,generating-functi...</td>\n",
       "      <td>0.0</td>\n",
       "    </tr>\n",
       "    <tr>\n",
       "      <th>8</th>\n",
       "      <td></td>\n",
       "      <td>0.5</td>\n",
       "    </tr>\n",
       "  </tbody>\n",
       "</table>\n",
       "</div>"
      ],
      "text/plain": [
       "                                                Tags  HighSchoolSubject\n",
       "0                           set-theory,intuition,faq                0.0\n",
       "1                         calculus,limits,definition                0.5\n",
       "2            soft-question,big-list,online-resources                0.5\n",
       "3                                                                   0.5\n",
       "4                   number-theory,irrational-numbers                0.0\n",
       "5                        soft-question,math-software                0.5\n",
       "6                                                                   0.5\n",
       "7  linear-algebra,combinatorics,generating-functi...                0.0\n",
       "8                                                                   0.5"
      ]
     },
     "execution_count": 190,
     "metadata": {},
     "output_type": "execute_result"
    }
   ],
   "source": [
    "postdata[['Tags','HighSchoolSubject']][0:9]"
   ]
  },
  {
   "cell_type": "code",
   "execution_count": 191,
   "metadata": {
    "collapsed": false
   },
   "outputs": [],
   "source": [
    "postdata.AnswerCount = postdata.AnswerCount.fillna(0)\n",
    "postdata.Longevity = postdata.Longevity.fillna(0)\n",
    "postdata.FavoriteCount = postdata.FavoriteCount.fillna(0)\n",
    "postdata.CommentCount = postdata.CommentCount.fillna(0)\n",
    "postdata.ViewCount = postdata.ViewCount.fillna(0)\n",
    "postdata.BodyLength = postdata.BodyLength.fillna(0)\n",
    "for col in ['AnswerCount', 'FavoriteCount', 'CommentCount', 'ViewCount']:\n",
    "    postdata[col] = postdata[col].astype(float)"
   ]
  },
  {
   "cell_type": "markdown",
   "metadata": {},
   "source": [
    "### Pickle dataframe for posterity"
   ]
  },
  {
   "cell_type": "code",
   "execution_count": 192,
   "metadata": {
    "collapsed": false
   },
   "outputs": [],
   "source": [
    "# import pickle\n",
    "# with open('StackOverflowPostData.pkl', 'w') as picklefile:\n",
    "#     pickle.dump(postdata, picklefile)"
   ]
  },
  {
   "cell_type": "markdown",
   "metadata": {
    "collapsed": true
   },
   "source": [
    "###Unpickle"
   ]
  },
  {
   "cell_type": "code",
   "execution_count": 2,
   "metadata": {
    "collapsed": false
   },
   "outputs": [],
   "source": [
    "import pickle\n",
    "with open(\"StackOverflowPostData.pkl\", 'r') as picklefile: \n",
    "    postdata = pickle.load(picklefile)"
   ]
  },
  {
   "cell_type": "markdown",
   "metadata": {
    "collapsed": true
   },
   "source": [
    "#What are the most popular topics?"
   ]
  },
  {
   "cell_type": "code",
   "execution_count": 82,
   "metadata": {
    "collapsed": false
   },
   "outputs": [],
   "source": [
    "# %%timeit\n",
    "things = ['LongevitySeconds', 'AnswerCount', 'FavoriteCount',\n",
    "          'CommentCount', 'ViewCount', 'BodyLength']\n",
    "results = {}\n",
    "running_sum = 0\n",
    "running_count = 0\n",
    "for index in xrange(len(postdata)):\n",
    "    tags = postdata.iloc[index]['Tags'].split(',')\n",
    "    for tag in tags:\n",
    "        for thing in things:\n",
    "            value = postdata.iloc[index][thing]\n",
    "            running_sum, running_count = results.setdefault(tag, {}).get(thing, (0, 0))\n",
    "            results[tag][thing] = [running_sum + value, running_count + 1]"
   ]
  },
  {
   "cell_type": "code",
   "execution_count": 83,
   "metadata": {
    "collapsed": false
   },
   "outputs": [],
   "source": [
    "tagstats = pd.DataFrame.from_dict(results)\n",
    "tagstats2 = tagstats.transpose()"
   ]
  },
  {
   "cell_type": "code",
   "execution_count": 84,
   "metadata": {
    "collapsed": false
   },
   "outputs": [
    {
     "name": "stdout",
     "output_type": "stream",
     "text": [
      "[596320, 9, 7, 814, 193, 957, 51, 73, 576, 22687]\n"
     ]
    }
   ],
   "source": [
    "Frequency = []\n",
    "for row in tagstats2.AnswerCount:\n",
    "    Frequency.append(row.pop())\n",
    "print Frequency[0:10]"
   ]
  },
  {
   "cell_type": "code",
   "execution_count": 85,
   "metadata": {
    "collapsed": false
   },
   "outputs": [],
   "source": [
    "for index in xrange(len(tagstats2)):\n",
    "    for col in range(1,6):\n",
    "        tagstats2.iloc[index][col].pop()"
   ]
  },
  {
   "cell_type": "code",
   "execution_count": 86,
   "metadata": {
    "collapsed": false
   },
   "outputs": [
    {
     "data": {
      "text/html": [
       "<div style=\"max-height:1000px;max-width:1500px;overflow:auto;\">\n",
       "<table border=\"1\" class=\"dataframe\">\n",
       "  <thead>\n",
       "    <tr style=\"text-align: right;\">\n",
       "      <th></th>\n",
       "      <th>AnswerCount</th>\n",
       "      <th>BodyLength</th>\n",
       "      <th>CommentCount</th>\n",
       "      <th>FavoriteCount</th>\n",
       "      <th>LongevitySeconds</th>\n",
       "      <th>ViewCount</th>\n",
       "    </tr>\n",
       "  </thead>\n",
       "  <tbody>\n",
       "    <tr>\n",
       "      <th></th>\n",
       "      <td>[0.0]</td>\n",
       "      <td>[422587540]</td>\n",
       "      <td>[896301.0]</td>\n",
       "      <td>[0.0]</td>\n",
       "      <td>[360427361860.0]</td>\n",
       "      <td>[0.0]</td>\n",
       "    </tr>\n",
       "    <tr>\n",
       "      <th>2-categories</th>\n",
       "      <td>[6.0]</td>\n",
       "      <td>[6131]</td>\n",
       "      <td>[8.0]</td>\n",
       "      <td>[2.0]</td>\n",
       "      <td>[6516330.828]</td>\n",
       "      <td>[370.0]</td>\n",
       "    </tr>\n",
       "    <tr>\n",
       "      <th>2-groups</th>\n",
       "      <td>[6.0]</td>\n",
       "      <td>[4762]</td>\n",
       "      <td>[29.0]</td>\n",
       "      <td>[17.0]</td>\n",
       "      <td>[183307981.115]</td>\n",
       "      <td>[772.0]</td>\n",
       "    </tr>\n",
       "    <tr>\n",
       "      <th>3d</th>\n",
       "      <td>[966.0]</td>\n",
       "      <td>[617443]</td>\n",
       "      <td>[1583.0]</td>\n",
       "      <td>[254.0]</td>\n",
       "      <td>[3962347268.74]</td>\n",
       "      <td>[413932.0]</td>\n",
       "    </tr>\n",
       "    <tr>\n",
       "      <th>abelian-categories</th>\n",
       "      <td>[197.0]</td>\n",
       "      <td>[150127]</td>\n",
       "      <td>[443.0]</td>\n",
       "      <td>[221.0]</td>\n",
       "      <td>[777818719.881]</td>\n",
       "      <td>[34933.0]</td>\n",
       "    </tr>\n",
       "  </tbody>\n",
       "</table>\n",
       "</div>"
      ],
      "text/plain": [
       "                   AnswerCount   BodyLength CommentCount FavoriteCount  \\\n",
       "                         [0.0]  [422587540]   [896301.0]         [0.0]   \n",
       "2-categories             [6.0]       [6131]        [8.0]         [2.0]   \n",
       "2-groups                 [6.0]       [4762]       [29.0]        [17.0]   \n",
       "3d                     [966.0]     [617443]     [1583.0]       [254.0]   \n",
       "abelian-categories     [197.0]     [150127]      [443.0]       [221.0]   \n",
       "\n",
       "                    LongevitySeconds   ViewCount  \n",
       "                    [360427361860.0]       [0.0]  \n",
       "2-categories           [6516330.828]     [370.0]  \n",
       "2-groups             [183307981.115]     [772.0]  \n",
       "3d                   [3962347268.74]  [413932.0]  \n",
       "abelian-categories   [777818719.881]   [34933.0]  "
      ]
     },
     "execution_count": 86,
     "metadata": {},
     "output_type": "execute_result"
    }
   ],
   "source": [
    "tagstats2.head()"
   ]
  },
  {
   "cell_type": "code",
   "execution_count": 87,
   "metadata": {
    "collapsed": false
   },
   "outputs": [],
   "source": [
    "for index in xrange(len(tagstats2)):\n",
    "    for col in range(0,6):\n",
    "        tagstats2.iloc[index][col] = tagstats2.iloc[index][col][0]"
   ]
  },
  {
   "cell_type": "code",
   "execution_count": 88,
   "metadata": {
    "collapsed": false
   },
   "outputs": [],
   "source": [
    "tagstats2['Frequency'] = Frequency"
   ]
  },
  {
   "cell_type": "code",
   "execution_count": 89,
   "metadata": {
    "collapsed": false
   },
   "outputs": [],
   "source": [
    "tagstats2.LongevitySeconds = tagstats2.LongevitySeconds/3600.0"
   ]
  },
  {
   "cell_type": "code",
   "execution_count": 90,
   "metadata": {
    "collapsed": true
   },
   "outputs": [],
   "source": [
    "tagstats2.columns = ['AnswerCount','BodyLength','CommentCount','FavoriteCount','LongevityHours','ViewCount','Frequency']"
   ]
  },
  {
   "cell_type": "code",
   "execution_count": 91,
   "metadata": {
    "collapsed": false
   },
   "outputs": [
    {
     "data": {
      "text/html": [
       "<div style=\"max-height:1000px;max-width:1500px;overflow:auto;\">\n",
       "<table border=\"1\" class=\"dataframe\">\n",
       "  <thead>\n",
       "    <tr style=\"text-align: right;\">\n",
       "      <th></th>\n",
       "      <th>AnswerCount</th>\n",
       "      <th>BodyLength</th>\n",
       "      <th>CommentCount</th>\n",
       "      <th>FavoriteCount</th>\n",
       "      <th>LongevityHours</th>\n",
       "      <th>ViewCount</th>\n",
       "      <th>Frequency</th>\n",
       "    </tr>\n",
       "  </thead>\n",
       "  <tbody>\n",
       "    <tr>\n",
       "      <th></th>\n",
       "      <td>0</td>\n",
       "      <td>422587540</td>\n",
       "      <td>896301</td>\n",
       "      <td>0</td>\n",
       "      <td>1.001187e+08</td>\n",
       "      <td>0</td>\n",
       "      <td>596320</td>\n",
       "    </tr>\n",
       "    <tr>\n",
       "      <th>2-categories</th>\n",
       "      <td>6</td>\n",
       "      <td>6131</td>\n",
       "      <td>8</td>\n",
       "      <td>2</td>\n",
       "      <td>1810.092</td>\n",
       "      <td>370</td>\n",
       "      <td>9</td>\n",
       "    </tr>\n",
       "    <tr>\n",
       "      <th>2-groups</th>\n",
       "      <td>6</td>\n",
       "      <td>4762</td>\n",
       "      <td>29</td>\n",
       "      <td>17</td>\n",
       "      <td>50918.88</td>\n",
       "      <td>772</td>\n",
       "      <td>7</td>\n",
       "    </tr>\n",
       "    <tr>\n",
       "      <th>3d</th>\n",
       "      <td>966</td>\n",
       "      <td>617443</td>\n",
       "      <td>1583</td>\n",
       "      <td>254</td>\n",
       "      <td>1100652</td>\n",
       "      <td>413932</td>\n",
       "      <td>814</td>\n",
       "    </tr>\n",
       "    <tr>\n",
       "      <th>abelian-categories</th>\n",
       "      <td>197</td>\n",
       "      <td>150127</td>\n",
       "      <td>443</td>\n",
       "      <td>221</td>\n",
       "      <td>216060.8</td>\n",
       "      <td>34933</td>\n",
       "      <td>193</td>\n",
       "    </tr>\n",
       "  </tbody>\n",
       "</table>\n",
       "</div>"
      ],
      "text/plain": [
       "                   AnswerCount BodyLength CommentCount FavoriteCount  \\\n",
       "                             0  422587540       896301             0   \n",
       "2-categories                 6       6131            8             2   \n",
       "2-groups                     6       4762           29            17   \n",
       "3d                         966     617443         1583           254   \n",
       "abelian-categories         197     150127          443           221   \n",
       "\n",
       "                   LongevityHours ViewCount  Frequency  \n",
       "                     1.001187e+08         0     596320  \n",
       "2-categories             1810.092       370          9  \n",
       "2-groups                 50918.88       772          7  \n",
       "3d                        1100652    413932        814  \n",
       "abelian-categories       216060.8     34933        193  "
      ]
     },
     "execution_count": 91,
     "metadata": {},
     "output_type": "execute_result"
    }
   ],
   "source": [
    "tagstats2.head()"
   ]
  },
  {
   "cell_type": "code",
   "execution_count": 92,
   "metadata": {
    "collapsed": false
   },
   "outputs": [
    {
     "name": "stderr",
     "output_type": "stream",
     "text": [
      "/usr/local/lib/python2.7/site-packages/pandas/core/generic.py:2005: SettingWithCopyWarning: \n",
      "A value is trying to be set on a copy of a slice from a DataFrame.\n",
      "Try using .loc[row_indexer,col_indexer] = value instead\n",
      "\n",
      "See the the caveats in the documentation: http://pandas.pydata.org/pandas-docs/stable/indexing.html#indexing-view-versus-copy\n",
      "  self[name] = value\n"
     ]
    }
   ],
   "source": [
    "toptopics = tagstats2[['Frequency','CommentCount','ViewCount','FavoriteCount']]\n",
    "toptopics.CommentCount = toptopics.CommentCount / toptopics.Frequency\n",
    "toptopics.ViewCount = toptopics.ViewCount / toptopics.Frequency\n",
    "toptopics.FavoriteCount = toptopics.FavoriteCount / toptopics.Frequency\n",
    "toptopics.sort(columns='ViewCount',ascending=False,inplace=True)"
   ]
  },
  {
   "cell_type": "code",
   "execution_count": 93,
   "metadata": {
    "collapsed": false
   },
   "outputs": [],
   "source": [
    "toptopics2 = toptopics.apply(lambda c: c / c.sum() * 100, axis=0)\n",
    "toptopics2['SumOfTotal'] = (toptopics2.Frequency + toptopics2.CommentCount + toptopics2.ViewCount + toptopics2.FavoriteCount) / 4.0"
   ]
  },
  {
   "cell_type": "code",
   "execution_count": 94,
   "metadata": {
    "collapsed": false
   },
   "outputs": [
    {
     "data": {
      "text/html": [
       "<div style=\"max-height:1000px;max-width:1500px;overflow:auto;\">\n",
       "<table border=\"1\" class=\"dataframe\">\n",
       "  <thead>\n",
       "    <tr style=\"text-align: right;\">\n",
       "      <th></th>\n",
       "      <th>Frequency</th>\n",
       "      <th>CommentCount</th>\n",
       "      <th>ViewCount</th>\n",
       "      <th>FavoriteCount</th>\n",
       "      <th>SumOfTotal</th>\n",
       "    </tr>\n",
       "  </thead>\n",
       "  <tbody>\n",
       "    <tr>\n",
       "      <th>faq</th>\n",
       "      <td>0.003975</td>\n",
       "      <td>0.158527</td>\n",
       "      <td>1.563809</td>\n",
       "      <td>1.426973</td>\n",
       "      <td>0.788321</td>\n",
       "    </tr>\n",
       "    <tr>\n",
       "      <th>calculus</th>\n",
       "      <td>2.453872</td>\n",
       "      <td>0.099888</td>\n",
       "      <td>0.121150</td>\n",
       "      <td>0.074706</td>\n",
       "      <td>0.687404</td>\n",
       "    </tr>\n",
       "    <tr>\n",
       "      <th>big-list</th>\n",
       "      <td>0.055930</td>\n",
       "      <td>0.210802</td>\n",
       "      <td>0.922642</td>\n",
       "      <td>1.343721</td>\n",
       "      <td>0.633274</td>\n",
       "    </tr>\n",
       "    <tr>\n",
       "      <th>real-analysis</th>\n",
       "      <td>2.240752</td>\n",
       "      <td>0.096296</td>\n",
       "      <td>0.080328</td>\n",
       "      <td>0.067275</td>\n",
       "      <td>0.621163</td>\n",
       "    </tr>\n",
       "    <tr>\n",
       "      <th>differential-field</th>\n",
       "      <td>0.000279</td>\n",
       "      <td>0.181528</td>\n",
       "      <td>0.501039</td>\n",
       "      <td>1.747037</td>\n",
       "      <td>0.607471</td>\n",
       "    </tr>\n",
       "    <tr>\n",
       "      <th>linear-algebra</th>\n",
       "      <td>2.057551</td>\n",
       "      <td>0.089543</td>\n",
       "      <td>0.118755</td>\n",
       "      <td>0.044665</td>\n",
       "      <td>0.577628</td>\n",
       "    </tr>\n",
       "    <tr>\n",
       "      <th>fair-division</th>\n",
       "      <td>0.001674</td>\n",
       "      <td>0.139508</td>\n",
       "      <td>1.016114</td>\n",
       "      <td>1.112185</td>\n",
       "      <td>0.567370</td>\n",
       "    </tr>\n",
       "    <tr>\n",
       "      <th>music-theory</th>\n",
       "      <td>0.002441</td>\n",
       "      <td>0.162511</td>\n",
       "      <td>0.852564</td>\n",
       "      <td>0.887020</td>\n",
       "      <td>0.476134</td>\n",
       "    </tr>\n",
       "    <tr>\n",
       "      <th>probability</th>\n",
       "      <td>1.627685</td>\n",
       "      <td>0.081255</td>\n",
       "      <td>0.121350</td>\n",
       "      <td>0.038417</td>\n",
       "      <td>0.467177</td>\n",
       "    </tr>\n",
       "    <tr>\n",
       "      <th>abstract-algebra</th>\n",
       "      <td>1.582147</td>\n",
       "      <td>0.103705</td>\n",
       "      <td>0.077735</td>\n",
       "      <td>0.066250</td>\n",
       "      <td>0.457459</td>\n",
       "    </tr>\n",
       "    <tr>\n",
       "      <th>career-development</th>\n",
       "      <td>0.006555</td>\n",
       "      <td>0.215860</td>\n",
       "      <td>0.625789</td>\n",
       "      <td>0.928666</td>\n",
       "      <td>0.444217</td>\n",
       "    </tr>\n",
       "    <tr>\n",
       "      <th>finitism</th>\n",
       "      <td>0.000558</td>\n",
       "      <td>0.221868</td>\n",
       "      <td>0.438194</td>\n",
       "      <td>1.002398</td>\n",
       "      <td>0.415754</td>\n",
       "    </tr>\n",
       "    <tr>\n",
       "      <th>mathematicians</th>\n",
       "      <td>0.003626</td>\n",
       "      <td>0.231952</td>\n",
       "      <td>0.608919</td>\n",
       "      <td>0.709390</td>\n",
       "      <td>0.388472</td>\n",
       "    </tr>\n",
       "    <tr>\n",
       "      <th>integration</th>\n",
       "      <td>1.204585</td>\n",
       "      <td>0.100918</td>\n",
       "      <td>0.104942</td>\n",
       "      <td>0.101189</td>\n",
       "      <td>0.377908</td>\n",
       "    </tr>\n",
       "    <tr>\n",
       "      <th>hardware</th>\n",
       "      <td>0.000767</td>\n",
       "      <td>0.179694</td>\n",
       "      <td>0.701821</td>\n",
       "      <td>0.614457</td>\n",
       "      <td>0.374185</td>\n",
       "    </tr>\n",
       "    <tr>\n",
       "      <th>sequences-and-series</th>\n",
       "      <td>1.061901</td>\n",
       "      <td>0.104570</td>\n",
       "      <td>0.094795</td>\n",
       "      <td>0.094502</td>\n",
       "      <td>0.338942</td>\n",
       "    </tr>\n",
       "    <tr>\n",
       "      <th>teaching</th>\n",
       "      <td>0.030964</td>\n",
       "      <td>0.212873</td>\n",
       "      <td>0.544828</td>\n",
       "      <td>0.554480</td>\n",
       "      <td>0.335786</td>\n",
       "    </tr>\n",
       "    <tr>\n",
       "      <th>soft-question</th>\n",
       "      <td>0.312078</td>\n",
       "      <td>0.183335</td>\n",
       "      <td>0.364410</td>\n",
       "      <td>0.455628</td>\n",
       "      <td>0.328863</td>\n",
       "    </tr>\n",
       "    <tr>\n",
       "      <th>combinatorics</th>\n",
       "      <td>0.984073</td>\n",
       "      <td>0.093226</td>\n",
       "      <td>0.112900</td>\n",
       "      <td>0.062496</td>\n",
       "      <td>0.313174</td>\n",
       "    </tr>\n",
       "    <tr>\n",
       "      <th>learning</th>\n",
       "      <td>0.020782</td>\n",
       "      <td>0.175843</td>\n",
       "      <td>0.467098</td>\n",
       "      <td>0.588176</td>\n",
       "      <td>0.312975</td>\n",
       "    </tr>\n",
       "  </tbody>\n",
       "</table>\n",
       "</div>"
      ],
      "text/plain": [
       "                      Frequency  CommentCount  ViewCount  FavoriteCount  \\\n",
       "faq                    0.003975      0.158527   1.563809       1.426973   \n",
       "calculus               2.453872      0.099888   0.121150       0.074706   \n",
       "big-list               0.055930      0.210802   0.922642       1.343721   \n",
       "real-analysis          2.240752      0.096296   0.080328       0.067275   \n",
       "differential-field     0.000279      0.181528   0.501039       1.747037   \n",
       "linear-algebra         2.057551      0.089543   0.118755       0.044665   \n",
       "fair-division          0.001674      0.139508   1.016114       1.112185   \n",
       "music-theory           0.002441      0.162511   0.852564       0.887020   \n",
       "probability            1.627685      0.081255   0.121350       0.038417   \n",
       "abstract-algebra       1.582147      0.103705   0.077735       0.066250   \n",
       "career-development     0.006555      0.215860   0.625789       0.928666   \n",
       "finitism               0.000558      0.221868   0.438194       1.002398   \n",
       "mathematicians         0.003626      0.231952   0.608919       0.709390   \n",
       "integration            1.204585      0.100918   0.104942       0.101189   \n",
       "hardware               0.000767      0.179694   0.701821       0.614457   \n",
       "sequences-and-series   1.061901      0.104570   0.094795       0.094502   \n",
       "teaching               0.030964      0.212873   0.544828       0.554480   \n",
       "soft-question          0.312078      0.183335   0.364410       0.455628   \n",
       "combinatorics          0.984073      0.093226   0.112900       0.062496   \n",
       "learning               0.020782      0.175843   0.467098       0.588176   \n",
       "\n",
       "                      SumOfTotal  \n",
       "faq                     0.788321  \n",
       "calculus                0.687404  \n",
       "big-list                0.633274  \n",
       "real-analysis           0.621163  \n",
       "differential-field      0.607471  \n",
       "linear-algebra          0.577628  \n",
       "fair-division           0.567370  \n",
       "music-theory            0.476134  \n",
       "probability             0.467177  \n",
       "abstract-algebra        0.457459  \n",
       "career-development      0.444217  \n",
       "finitism                0.415754  \n",
       "mathematicians          0.388472  \n",
       "integration             0.377908  \n",
       "hardware                0.374185  \n",
       "sequences-and-series    0.338942  \n",
       "teaching                0.335786  \n",
       "soft-question           0.328863  \n",
       "combinatorics           0.313174  \n",
       "learning                0.312975  "
      ]
     },
     "execution_count": 94,
     "metadata": {},
     "output_type": "execute_result"
    }
   ],
   "source": [
    "toptopics2.sort(columns='SumOfTotal',ascending=False,inplace=True)\n",
    "toptopics2[1:21]"
   ]
  },
  {
   "cell_type": "code",
   "execution_count": 95,
   "metadata": {
    "collapsed": false
   },
   "outputs": [
    {
     "data": {
      "image/png": "[encoded data removed]",
      "text/plain": [
       "<matplotlib.figure.Figure at 0x12e9162d0>"
      ]
     },
     "metadata": {},
     "output_type": "display_data"
    }
   ],
   "source": [
    "toptopics3 = toptopics2[['Frequency','CommentCount','ViewCount','FavoriteCount']]\n",
    "sns.set(font_scale=1.2)   \n",
    "sns.set_palette(\"deep\", desat=.8)\n",
    "ax = toptopics3[1:26].plot(kind='barh',stacked=True,title='Most Popular Subjects as % of Total',rot=0)\n",
    "ax.set_ylabel(\"Subject Tag\",rotation = 90)\n",
    "sns.set_context(rc={\"figure.figsize\": (8, 20),'figure.facecolor':'cornflowerblue'})"
   ]
  },
  {
   "cell_type": "markdown",
   "metadata": {},
   "source": [
    "# Create training set of classified subjects\n",
    "#non-highschool education topics"
   ]
  },
  {
   "cell_type": "code",
   "execution_count": 154,
   "metadata": {
    "collapsed": true
   },
   "outputs": [],
   "source": [
    "import numpy as np\n",
    "import pandas as pd\n",
    "import nltk\n",
    "import re\n",
    "import os\n",
    "import codecs\n",
    "from sklearn import feature_extraction\n",
    "import mpld3\n",
    "\n",
    "sample_size = 5000"
   ]
  },
  {
   "cell_type": "code",
   "execution_count": 66,
   "metadata": {
    "collapsed": true
   },
   "outputs": [],
   "source": [
    "import pickle\n",
    "with open(\"StackOverflowPostData.pkl\", 'r') as picklefile: \n",
    "    postdata = pickle.load(picklefile)"
   ]
  },
  {
   "cell_type": "code",
   "execution_count": 67,
   "metadata": {
    "collapsed": true
   },
   "outputs": [],
   "source": [
    "postdata.replace(to_replace='\\//', value='',inplace=True)"
   ]
  },
  {
   "cell_type": "code",
   "execution_count": 155,
   "metadata": {
    "collapsed": false
   },
   "outputs": [],
   "source": [
    "highschool = postdata[postdata.HighSchoolSubject == 1]"
   ]
  },
  {
   "cell_type": "code",
   "execution_count": 156,
   "metadata": {
    "collapsed": false
   },
   "outputs": [
    {
     "data": {
      "text/plain": [
       "29785"
      ]
     },
     "execution_count": 156,
     "metadata": {},
     "output_type": "execute_result"
    }
   ],
   "source": [
    "len(highschool)"
   ]
  },
  {
   "cell_type": "code",
   "execution_count": 69,
   "metadata": {
    "collapsed": false
   },
   "outputs": [],
   "source": [
    "# IdsToRemove = ['639691','961354','355318']\n",
    "# criterion = lambda row: row['Id_x'] not in IdsToRemove\n",
    "# postdatadc2 = postdatadc[postdatadc.apply(criterion, axis=1)]\n",
    "# len(postdatadc2)"
   ]
  },
  {
   "cell_type": "code",
   "execution_count": 157,
   "metadata": {
    "collapsed": false
   },
   "outputs": [],
   "source": [
    "import random\n",
    "\n",
    "def some(x, n):\n",
    "    return x.ix[random.sample(x.index, n)]\n",
    "highschool2 = some(highschool,sample_size)"
   ]
  },
  {
   "cell_type": "code",
   "execution_count": 150,
   "metadata": {
    "collapsed": false
   },
   "outputs": [
    {
     "data": {
      "text/plain": [
       "5000"
      ]
     },
     "execution_count": 150,
     "metadata": {},
     "output_type": "execute_result"
    }
   ],
   "source": [
    "len(highschool2)"
   ]
  },
  {
   "cell_type": "code",
   "execution_count": 158,
   "metadata": {
    "collapsed": false
   },
   "outputs": [],
   "source": [
    "highschool2.reset_index(inplace=True)"
   ]
  },
  {
   "cell_type": "code",
   "execution_count": 159,
   "metadata": {
    "collapsed": false,
    "scrolled": true
   },
   "outputs": [],
   "source": [
    "highschool2 = highschool2.drop('index', 1)"
   ]
  },
  {
   "cell_type": "code",
   "execution_count": 160,
   "metadata": {
    "collapsed": false
   },
   "outputs": [
    {
     "data": {
      "text/html": [
       "<div style=\"max-height:1000px;max-width:1500px;overflow:auto;\">\n",
       "<table border=\"1\" class=\"dataframe\">\n",
       "  <thead>\n",
       "    <tr style=\"text-align: right;\">\n",
       "      <th></th>\n",
       "      <th>AcceptedAnswerId</th>\n",
       "      <th>AnswerCount</th>\n",
       "      <th>Body</th>\n",
       "      <th>ClosedDate</th>\n",
       "      <th>CommentCount</th>\n",
       "      <th>CommunityOwnedDate</th>\n",
       "      <th>CreationDate_x</th>\n",
       "      <th>FavoriteCount</th>\n",
       "      <th>Id_x</th>\n",
       "      <th>LastActivityDate</th>\n",
       "      <th>...</th>\n",
       "      <th>ProfileImageUrl</th>\n",
       "      <th>Reputation</th>\n",
       "      <th>UpVotes</th>\n",
       "      <th>Views</th>\n",
       "      <th>WebsiteUrl</th>\n",
       "      <th>Location2</th>\n",
       "      <th>Longevity</th>\n",
       "      <th>LongevitySeconds</th>\n",
       "      <th>BodyLength</th>\n",
       "      <th>HighSchoolSubject</th>\n",
       "    </tr>\n",
       "  </thead>\n",
       "  <tbody>\n",
       "    <tr>\n",
       "      <th>0</th>\n",
       "      <td>469609</td>\n",
       "      <td>1</td>\n",
       "      <td>I need to get count of a number like 12346 it ...</td>\n",
       "      <td>NaN</td>\n",
       "      <td>1</td>\n",
       "      <td>NaN</td>\n",
       "      <td>2013-08-17 09:01:26.200000</td>\n",
       "      <td>0</td>\n",
       "      <td>469606</td>\n",
       "      <td>2013-11-04 22:20:37.937000</td>\n",
       "      <td>...</td>\n",
       "      <td>http://i.stack.imgur.com/Zs1z9.jpg?s=128&amp;g=1</td>\n",
       "      <td>150</td>\n",
       "      <td>5</td>\n",
       "      <td>38</td>\n",
       "      <td>http://127.0.0.1</td>\n",
       "      <td>Iran, Shiraz</td>\n",
       "      <td>79 days 13:19:11.737000</td>\n",
       "      <td>6873551.737</td>\n",
       "      <td>186</td>\n",
       "      <td>1</td>\n",
       "    </tr>\n",
       "    <tr>\n",
       "      <th>1</th>\n",
       "      <td>499004</td>\n",
       "      <td>1</td>\n",
       "      <td>Suppose that $f(4)=5$ and $f'(4)=5$ . Use the ...</td>\n",
       "      <td>NaN</td>\n",
       "      <td>0</td>\n",
       "      <td>NaN</td>\n",
       "      <td>2013-09-19 21:22:53.300000</td>\n",
       "      <td>0</td>\n",
       "      <td>499003</td>\n",
       "      <td>2013-09-19 21:24:06.163000</td>\n",
       "      <td>...</td>\n",
       "      <td>NaN</td>\n",
       "      <td>357</td>\n",
       "      <td>18</td>\n",
       "      <td>64</td>\n",
       "      <td>NaN</td>\n",
       "      <td>NaN</td>\n",
       "      <td>0 days 00:01:12.863000</td>\n",
       "      <td>72.863</td>\n",
       "      <td>291</td>\n",
       "      <td>1</td>\n",
       "    </tr>\n",
       "    <tr>\n",
       "      <th>2</th>\n",
       "      <td>NaN</td>\n",
       "      <td>3</td>\n",
       "      <td>Simplify: $\\log_4(\\sqrt{2+\\sqrt{3}}+\\sqrt{2-\\s...</td>\n",
       "      <td>NaN</td>\n",
       "      <td>4</td>\n",
       "      <td>NaN</td>\n",
       "      <td>2013-03-17 09:52:56.523000</td>\n",
       "      <td>0</td>\n",
       "      <td>332636</td>\n",
       "      <td>2013-03-17 17:41:45.600000</td>\n",
       "      <td>...</td>\n",
       "      <td>NaN</td>\n",
       "      <td>216</td>\n",
       "      <td>0</td>\n",
       "      <td>76</td>\n",
       "      <td>NaN</td>\n",
       "      <td>NaN</td>\n",
       "      <td>0 days 07:48:49.077000</td>\n",
       "      <td>28129.077</td>\n",
       "      <td>301</td>\n",
       "      <td>1</td>\n",
       "    </tr>\n",
       "    <tr>\n",
       "      <th>3</th>\n",
       "      <td>805362</td>\n",
       "      <td>1</td>\n",
       "      <td>I have the following configuration:\\n\\n\\n\\n\\nI...</td>\n",
       "      <td>NaN</td>\n",
       "      <td>3</td>\n",
       "      <td>NaN</td>\n",
       "      <td>2014-05-22 12:59:13.997000</td>\n",
       "      <td>0</td>\n",
       "      <td>805336</td>\n",
       "      <td>2014-05-22 13:47:31.467000</td>\n",
       "      <td>...</td>\n",
       "      <td>https://www.gravatar.com/avatar/ff75c7220eff90...</td>\n",
       "      <td>105</td>\n",
       "      <td>1</td>\n",
       "      <td>0</td>\n",
       "      <td>NaN</td>\n",
       "      <td>NaN</td>\n",
       "      <td>0 days 00:48:17.470000</td>\n",
       "      <td>2897.470</td>\n",
       "      <td>876</td>\n",
       "      <td>1</td>\n",
       "    </tr>\n",
       "    <tr>\n",
       "      <th>4</th>\n",
       "      <td>485521</td>\n",
       "      <td>1</td>\n",
       "      <td>I have been given the equation $\\sin^2 x+ \\cos...</td>\n",
       "      <td>NaN</td>\n",
       "      <td>0</td>\n",
       "      <td>NaN</td>\n",
       "      <td>2013-09-06 06:34:17.647000</td>\n",
       "      <td>0</td>\n",
       "      <td>485515</td>\n",
       "      <td>2013-09-06 06:49:29.797000</td>\n",
       "      <td>...</td>\n",
       "      <td>NaN</td>\n",
       "      <td>13</td>\n",
       "      <td>0</td>\n",
       "      <td>1</td>\n",
       "      <td>NaN</td>\n",
       "      <td>NaN</td>\n",
       "      <td>0 days 00:15:12.150000</td>\n",
       "      <td>912.150</td>\n",
       "      <td>617</td>\n",
       "      <td>1</td>\n",
       "    </tr>\n",
       "  </tbody>\n",
       "</table>\n",
       "<p>5 rows × 40 columns</p>\n",
       "</div>"
      ],
      "text/plain": [
       "  AcceptedAnswerId  AnswerCount  \\\n",
       "0           469609            1   \n",
       "1           499004            1   \n",
       "2              NaN            3   \n",
       "3           805362            1   \n",
       "4           485521            1   \n",
       "\n",
       "                                                Body ClosedDate  CommentCount  \\\n",
       "0  I need to get count of a number like 12346 it ...        NaN             1   \n",
       "1  Suppose that $f(4)=5$ and $f'(4)=5$ . Use the ...        NaN             0   \n",
       "2  Simplify: $\\log_4(\\sqrt{2+\\sqrt{3}}+\\sqrt{2-\\s...        NaN             4   \n",
       "3  I have the following configuration:\\n\\n\\n\\n\\nI...        NaN             3   \n",
       "4  I have been given the equation $\\sin^2 x+ \\cos...        NaN             0   \n",
       "\n",
       "  CommunityOwnedDate             CreationDate_x  FavoriteCount    Id_x  \\\n",
       "0                NaN 2013-08-17 09:01:26.200000              0  469606   \n",
       "1                NaN 2013-09-19 21:22:53.300000              0  499003   \n",
       "2                NaN 2013-03-17 09:52:56.523000              0  332636   \n",
       "3                NaN 2014-05-22 12:59:13.997000              0  805336   \n",
       "4                NaN 2013-09-06 06:34:17.647000              0  485515   \n",
       "\n",
       "            LastActivityDate        ...         \\\n",
       "0 2013-11-04 22:20:37.937000        ...          \n",
       "1 2013-09-19 21:24:06.163000        ...          \n",
       "2 2013-03-17 17:41:45.600000        ...          \n",
       "3 2014-05-22 13:47:31.467000        ...          \n",
       "4 2013-09-06 06:49:29.797000        ...          \n",
       "\n",
       "                                     ProfileImageUrl Reputation UpVotes Views  \\\n",
       "0       http://i.stack.imgur.com/Zs1z9.jpg?s=128&g=1        150       5    38   \n",
       "1                                                NaN        357      18    64   \n",
       "2                                                NaN        216       0    76   \n",
       "3  https://www.gravatar.com/avatar/ff75c7220eff90...        105       1     0   \n",
       "4                                                NaN         13       0     1   \n",
       "\n",
       "         WebsiteUrl     Location2               Longevity LongevitySeconds  \\\n",
       "0  http://127.0.0.1  Iran, Shiraz 79 days 13:19:11.737000      6873551.737   \n",
       "1               NaN           NaN  0 days 00:01:12.863000           72.863   \n",
       "2               NaN           NaN  0 days 07:48:49.077000        28129.077   \n",
       "3               NaN           NaN  0 days 00:48:17.470000         2897.470   \n",
       "4               NaN           NaN  0 days 00:15:12.150000          912.150   \n",
       "\n",
       "  BodyLength HighSchoolSubject  \n",
       "0        186                 1  \n",
       "1        291                 1  \n",
       "2        301                 1  \n",
       "3        876                 1  \n",
       "4        617                 1  \n",
       "\n",
       "[5 rows x 40 columns]"
      ]
     },
     "execution_count": 160,
     "metadata": {},
     "output_type": "execute_result"
    }
   ],
   "source": [
    "highschool2.head()"
   ]
  },
  {
   "cell_type": "markdown",
   "metadata": {},
   "source": [
    "##Create Tf-idf matrix\n",
    "### Every question is a row, every column is a word"
   ]
  },
  {
   "cell_type": "code",
   "execution_count": 161,
   "metadata": {
    "collapsed": true
   },
   "outputs": [],
   "source": [
    "stopwords = nltk.corpus.stopwords.words('english')\n",
    "from nltk.stem.snowball import SnowballStemmer\n",
    "stemmer = SnowballStemmer(\"english\")"
   ]
  },
  {
   "cell_type": "code",
   "execution_count": 162,
   "metadata": {
    "collapsed": true
   },
   "outputs": [],
   "source": [
    "def tokenize_and_stem(text):\n",
    "    # first tokenize by sentence, then by word to ensure that punctuation is caught as its own token\n",
    "    tokens = [word for sent in nltk.sent_tokenize(text) for word in nltk.word_tokenize(sent)]\n",
    "    filtered_tokens = []\n",
    "    # filter out any tokens not containing letters (e.g., numeric tokens, raw punctuation)\n",
    "    for token in tokens:\n",
    "        regex = re.compile('[^a-zA-Z]')\n",
    "        cleaned = regex.sub('', token).rstrip()\n",
    "        if len(cleaned) > 1:\n",
    "            filtered_tokens.append(cleaned)\n",
    "#         if re.search('[a-zA-Z]', token):\n",
    "#             filtered_tokens.append(token)\n",
    "    stems = [stemmer.stem(t) for t in filtered_tokens]\n",
    "    return stems\n",
    "\n",
    "\n",
    "def tokenize_only(text):\n",
    "    # first tokenize by sentence, then by word to ensure that punctuation is caught as its own token\n",
    "    tokens = [word.lower() for sent in nltk.sent_tokenize(text) for word in nltk.word_tokenize(sent)]\n",
    "    filtered_tokens = []\n",
    "    # filter out any tokens not containing letters (e.g., numeric tokens, raw punctuation)\n",
    "    for token in tokens:\n",
    "        regex = re.compile('[^a-zA-Z]')\n",
    "        cleaned = regex.sub('', token).rstrip()\n",
    "        if len(cleaned) > 1:\n",
    "            filtered_tokens.append(cleaned)\n",
    "#         if re.search('[a-zA-Z]', token):\n",
    "#             filtered_tokens.append(token)\n",
    "    return filtered_tokens"
   ]
  },
  {
   "cell_type": "code",
   "execution_count": 165,
   "metadata": {
    "collapsed": false,
    "scrolled": true
   },
   "outputs": [],
   "source": [
    "totalvocab_stemmed = []\n",
    "totalvocab_tokenized = []\n",
    "skipped_indexes = []\n",
    "j = 0\n",
    "for i in highschool2.Body:\n",
    "    allwords_stemmed = tokenize_and_stem(i) #for each item in 'synopses', tokenize/stem\n",
    "    allwords_tokenized = tokenize_only(i)\n",
    "    \n",
    "    if len(allwords_stemmed) == len(allwords_tokenized):\n",
    "        totalvocab_tokenized.extend(allwords_tokenized)\n",
    "        totalvocab_stemmed.extend(allwords_stemmed)\n",
    "    else:\n",
    "#         print i\n",
    "#         print \"\\n\"\n",
    "        skipped_indexes.append(j)\n",
    "    j += 1    \n",
    "    if j % 10000 == 0:\n",
    "        print(j)\n",
    "#     if len(totalvocab_tokenized) != len(totalvocab_stemmed):\n",
    "#         print j, i, tokenize_only(i), tokenize_and_stem(i)\n",
    "#         break"
   ]
  },
  {
   "cell_type": "code",
   "execution_count": 168,
   "metadata": {
    "collapsed": false
   },
   "outputs": [
    {
     "name": "stdout",
     "output_type": "stream",
     "text": [
      "there are 302828 items in vocab_frame\n"
     ]
    }
   ],
   "source": [
    "vocab_frame = pd.DataFrame({'words': totalvocab_tokenized}, index = totalvocab_stemmed)\n",
    "print('there are ' + str(vocab_frame.shape[0]) + ' items in vocab_frame')"
   ]
  },
  {
   "cell_type": "code",
   "execution_count": 170,
   "metadata": {
    "collapsed": false
   },
   "outputs": [
    {
     "name": "stdout",
     "output_type": "stream",
     "text": [
      "[]\n"
     ]
    }
   ],
   "source": [
    "print(skipped_indexes)"
   ]
  },
  {
   "cell_type": "code",
   "execution_count": 171,
   "metadata": {
    "collapsed": false
   },
   "outputs": [],
   "source": [
    "highschool3 = highschool2.drop(finaldf.index[skipped_indexes])"
   ]
  },
  {
   "cell_type": "code",
   "execution_count": 173,
   "metadata": {
    "collapsed": false
   },
   "outputs": [
    {
     "name": "stdout",
     "output_type": "stream",
     "text": [
      "5000\n",
      "5000\n"
     ]
    }
   ],
   "source": [
    "print(len(highschool2))\n",
    "print(len(highschool3))"
   ]
  },
  {
   "cell_type": "code",
   "execution_count": 174,
   "metadata": {
    "collapsed": false,
    "scrolled": true
   },
   "outputs": [
    {
     "name": "stdout",
     "output_type": "stream",
     "text": [
      "CPU times: user 17.5 s, sys: 856 ms, total: 18.3 s\n",
      "Wall time: 18.1 s\n",
      "(5000, 5676)\n"
     ]
    }
   ],
   "source": [
    "from sklearn.feature_extraction.text import TfidfVectorizer\n",
    "\n",
    "#define vectorizer parameters\n",
    "tfidf_vectorizer = TfidfVectorizer(max_df= 0.99,\n",
    "                                 min_df= 0.001, \n",
    "                                 stop_words='english',\n",
    "                                 use_idf=True, \n",
    "                                 tokenizer=tokenize_and_stem, \n",
    "                                 ngram_range=(1,3))\n",
    "\n",
    "%time tfidf_matrix = tfidf_vectorizer.fit_transform(highschool3.Body) #fit the vectorizer to body\n",
    "\n",
    "print(tfidf_matrix.shape)"
   ]
  },
  {
   "cell_type": "code",
   "execution_count": 175,
   "metadata": {
    "collapsed": false
   },
   "outputs": [],
   "source": [
    "terms = tfidf_vectorizer.get_feature_names()"
   ]
  },
  {
   "cell_type": "code",
   "execution_count": 176,
   "metadata": {
    "collapsed": false
   },
   "outputs": [],
   "source": [
    "from sklearn.metrics.pairwise import cosine_similarity\n",
    "dist = 1 - cosine_similarity(tfidf_matrix)"
   ]
  },
  {
   "cell_type": "markdown",
   "metadata": {},
   "source": [
    "##Mini batch K-means clustering algorithm to get topics"
   ]
  },
  {
   "cell_type": "code",
   "execution_count": 108,
   "metadata": {
    "collapsed": true
   },
   "outputs": [],
   "source": [
    "## Document Clustering\n",
    "# k-means have to specify clusters\n",
    "# look at inertia curve for a natural kink \n",
    "# with mini-batch k-means it is much faster (for full dataset)\n",
    "\n",
    "# hierarchical - don't have to specify\n",
    "\n",
    "# run mini batch k-means with a bunch of different k's\n",
    "# look at inertia curve for a kink, with different k's, what is the squared distance between centroid and top'\n",
    "# use cosine distance\n",
    "# run aglomerative hierarchical clustering so don't need to know how many clusters\n",
    "# tweak as much as time allows"
   ]
  },
  {
   "cell_type": "code",
   "execution_count": 320,
   "metadata": {
    "collapsed": false
   },
   "outputs": [
    {
     "name": "stdout",
     "output_type": "stream",
     "text": [
      "CPU times: user 112 ms, sys: 25 ms, total: 137 ms\n",
      "Wall time: 206 ms\n"
     ]
    }
   ],
   "source": [
    "from sklearn.cluster import MiniBatchKMeans\n",
    "\n",
    "num_clusters = 5\n",
    "\n",
    "km = MiniBatchKMeans(n_clusters=num_clusters, \n",
    "                     init='k-means++', \n",
    "                     max_iter=100, \n",
    "                     batch_size=100, \n",
    "                     verbose=0, \n",
    "                     compute_labels=True, \n",
    "                     random_state=None, \n",
    "                     tol=0.0, \n",
    "                     max_no_improvement=10, \n",
    "                     init_size=None, \n",
    "                     n_init=3, \n",
    "                     reassignment_ratio=0.01)\n",
    "\n",
    "%time km.fit(tfidf_matrix)\n",
    "\n",
    "clusters = km.labels_.tolist()"
   ]
  },
  {
   "cell_type": "code",
   "execution_count": 321,
   "metadata": {
    "collapsed": false
   },
   "outputs": [],
   "source": [
    "from sklearn.externals import joblib\n",
    "\n",
    "#uncomment the below to save your model \n",
    "#since I've already run my model I am loading from the pickle\n",
    "\n",
    "joblib.dump(km,  'doc_cluster.pkl')\n",
    "\n",
    "# km = joblib.load('doc_cluster.pkl')\n",
    "clusters = km.labels_.tolist()"
   ]
  },
  {
   "cell_type": "code",
   "execution_count": 322,
   "metadata": {
    "collapsed": false
   },
   "outputs": [],
   "source": [
    "highschool3.UpVotes = highschool3.UpVotes.astype(float)"
   ]
  },
  {
   "cell_type": "code",
   "execution_count": 323,
   "metadata": {
    "collapsed": false
   },
   "outputs": [],
   "source": [
    "questions = { 'title': highschool3.Title, 'rank': highschool3.ViewCount, 'body': highschool3.Body, 'cluster': clusters, 'Tags': highschool3.Tags }\n",
    "\n",
    "frame = pd.DataFrame(questions, index = [clusters] , columns = ['title', 'rank', 'cluster', 'Tags'])"
   ]
  },
  {
   "cell_type": "code",
   "execution_count": 324,
   "metadata": {
    "collapsed": false
   },
   "outputs": [
    {
     "data": {
      "text/html": [
       "<div style=\"max-height:1000px;max-width:1500px;overflow:auto;\">\n",
       "<table border=\"1\" class=\"dataframe\">\n",
       "  <thead>\n",
       "    <tr style=\"text-align: right;\">\n",
       "      <th></th>\n",
       "      <th>title</th>\n",
       "      <th>rank</th>\n",
       "      <th>cluster</th>\n",
       "      <th>Tags</th>\n",
       "    </tr>\n",
       "  </thead>\n",
       "  <tbody>\n",
       "    <tr>\n",
       "      <th>2</th>\n",
       "      <td>Logarithm simplification</td>\n",
       "      <td>67</td>\n",
       "      <td>2</td>\n",
       "      <td>algebra-precalculus,logarithms</td>\n",
       "    </tr>\n",
       "    <tr>\n",
       "      <th>0</th>\n",
       "      <td>How to get count of digits of a number</td>\n",
       "      <td>230</td>\n",
       "      <td>0</td>\n",
       "      <td>arithmetic</td>\n",
       "    </tr>\n",
       "    <tr>\n",
       "      <th>3</th>\n",
       "      <td>Finding the positions of 2 points in a simple ...</td>\n",
       "      <td>41</td>\n",
       "      <td>3</td>\n",
       "      <td>geometry</td>\n",
       "    </tr>\n",
       "    <tr>\n",
       "      <th>1</th>\n",
       "      <td>Did I write down the derivative product rule c...</td>\n",
       "      <td>60</td>\n",
       "      <td>1</td>\n",
       "      <td>calculus,derivatives</td>\n",
       "    </tr>\n",
       "    <tr>\n",
       "      <th>1</th>\n",
       "      <td>Did I write down the derivative product rule c...</td>\n",
       "      <td>60</td>\n",
       "      <td>1</td>\n",
       "      <td>calculus,derivatives</td>\n",
       "    </tr>\n",
       "    <tr>\n",
       "      <th>0</th>\n",
       "      <td>How to get count of digits of a number</td>\n",
       "      <td>230</td>\n",
       "      <td>0</td>\n",
       "      <td>arithmetic</td>\n",
       "    </tr>\n",
       "    <tr>\n",
       "      <th>2</th>\n",
       "      <td>Logarithm simplification</td>\n",
       "      <td>67</td>\n",
       "      <td>2</td>\n",
       "      <td>algebra-precalculus,logarithms</td>\n",
       "    </tr>\n",
       "    <tr>\n",
       "      <th>2</th>\n",
       "      <td>Logarithm simplification</td>\n",
       "      <td>67</td>\n",
       "      <td>2</td>\n",
       "      <td>algebra-precalculus,logarithms</td>\n",
       "    </tr>\n",
       "    <tr>\n",
       "      <th>2</th>\n",
       "      <td>Logarithm simplification</td>\n",
       "      <td>67</td>\n",
       "      <td>2</td>\n",
       "      <td>algebra-precalculus,logarithms</td>\n",
       "    </tr>\n",
       "    <tr>\n",
       "      <th>4</th>\n",
       "      <td>Trigonometric equation in two ways gives diffe...</td>\n",
       "      <td>86</td>\n",
       "      <td>4</td>\n",
       "      <td>trigonometry</td>\n",
       "    </tr>\n",
       "  </tbody>\n",
       "</table>\n",
       "</div>"
      ],
      "text/plain": [
       "                                               title  rank  cluster  \\\n",
       "2                           Logarithm simplification    67        2   \n",
       "0             How to get count of digits of a number   230        0   \n",
       "3  Finding the positions of 2 points in a simple ...    41        3   \n",
       "1  Did I write down the derivative product rule c...    60        1   \n",
       "1  Did I write down the derivative product rule c...    60        1   \n",
       "0             How to get count of digits of a number   230        0   \n",
       "2                           Logarithm simplification    67        2   \n",
       "2                           Logarithm simplification    67        2   \n",
       "2                           Logarithm simplification    67        2   \n",
       "4  Trigonometric equation in two ways gives diffe...    86        4   \n",
       "\n",
       "                             Tags  \n",
       "2  algebra-precalculus,logarithms  \n",
       "0                      arithmetic  \n",
       "3                        geometry  \n",
       "1            calculus,derivatives  \n",
       "1            calculus,derivatives  \n",
       "0                      arithmetic  \n",
       "2  algebra-precalculus,logarithms  \n",
       "2  algebra-precalculus,logarithms  \n",
       "2  algebra-precalculus,logarithms  \n",
       "4                    trigonometry  "
      ]
     },
     "execution_count": 324,
     "metadata": {},
     "output_type": "execute_result"
    }
   ],
   "source": [
    "frame.head(10)"
   ]
  },
  {
   "cell_type": "code",
   "execution_count": 325,
   "metadata": {
    "collapsed": false
   },
   "outputs": [
    {
     "data": {
      "text/plain": [
       "2    2594\n",
       "0     870\n",
       "4     741\n",
       "1     469\n",
       "3     326\n",
       "dtype: int64"
      ]
     },
     "execution_count": 325,
     "metadata": {},
     "output_type": "execute_result"
    }
   ],
   "source": [
    "frame.cluster.value_counts()"
   ]
  },
  {
   "cell_type": "code",
   "execution_count": 326,
   "metadata": {
    "collapsed": false
   },
   "outputs": [
    {
     "data": {
      "text/plain": [
       "cluster\n",
       "0    230\n",
       "1     60\n",
       "2     67\n",
       "3     41\n",
       "4     86\n",
       "Name: rank, dtype: float64"
      ]
     },
     "execution_count": 326,
     "metadata": {},
     "output_type": "execute_result"
    }
   ],
   "source": [
    "grouped = frame['rank'].groupby(frame['cluster']) #groupby cluster for aggregation purposes\n",
    "grouped.mean() #average rank (1 to 100) per cluster"
   ]
  },
  {
   "cell_type": "code",
   "execution_count": 327,
   "metadata": {
    "collapsed": false
   },
   "outputs": [
    {
     "data": {
      "text/plain": [
       "(5000, 5000)"
      ]
     },
     "execution_count": 327,
     "metadata": {},
     "output_type": "execute_result"
    }
   ],
   "source": [
    "dist.shape"
   ]
  },
  {
   "cell_type": "code",
   "execution_count": 328,
   "metadata": {
    "collapsed": false
   },
   "outputs": [
    {
     "name": "stdout",
     "output_type": "stream",
     "text": [
      "\n"
     ]
    }
   ],
   "source": [
    "# import os  # for os.path.basename\n",
    "\n",
    "# import matplotlib.pyplot as plt\n",
    "# import matplotlib as mpl\n",
    "\n",
    "# from sklearn.manifold import MDS\n",
    "\n",
    "# MDS()\n",
    "\n",
    "# # convert two components as we're plotting points in a two-dimensional plane\n",
    "# # \"precomputed\" because we provide a distance matrix\n",
    "# # we will also specify `random_state` so the plot is reproducible.\n",
    "# mds = MDS(n_components=2, dissimilarity=\"precomputed\", random_state=1)\n",
    "\n",
    "# pos = mds.fit_transform(dist)  # shape (n_components, n_samples)\n",
    "\n",
    "xs, ys = dist[:, 0], dist[:, 1]\n",
    "print()"
   ]
  },
  {
   "cell_type": "code",
   "execution_count": 250,
   "metadata": {
    "collapsed": true
   },
   "outputs": [],
   "source": [
    "import pickle\n",
    "with open('mds_pos.pkl', 'w') as picklefile:\n",
    "    pickle.dump(pos, picklefile)"
   ]
  },
  {
   "cell_type": "code",
   "execution_count": 337,
   "metadata": {
    "collapsed": true
   },
   "outputs": [],
   "source": [
    "xs, ys = pos[:, 0], pos[:, 1]"
   ]
  },
  {
   "cell_type": "code",
   "execution_count": 353,
   "metadata": {
    "collapsed": false
   },
   "outputs": [
    {
     "name": "stdout",
     "output_type": "stream",
     "text": [
      "Top terms per cluster:\n",
      "\n",
      "Cluster 0 words: frac, int, dx, integral, frac, infty,\n",
      "\n",
      "\n",
      "\n",
      "Cluster 1 words: sin, cos, theta, frac, pi, sin,\n",
      "\n",
      "\n",
      "\n",
      "Cluster 2 words: nt, function, frac, know, solve, use,\n",
      "\n",
      "\n",
      "\n",
      "Cluster 3 words: sqrt, sqrt, frac, frac, square, sqrt,\n",
      "\n",
      "\n",
      "\n",
      "Cluster 4 words: points, angle, line, triangle, circle, length,\n",
      "\n",
      "\n",
      "\n",
      "\n",
      "\n"
     ]
    }
   ],
   "source": [
    "from __future__ import print_function\n",
    "\n",
    "print(\"Top terms per cluster:\")\n",
    "print()\n",
    "#sort cluster centers by proximity to centroid\n",
    "order_centroids = km.cluster_centers_.argsort()[:, ::-1] \n",
    "\n",
    "for i in range(num_clusters):\n",
    "    print(\"Cluster %d words:\" % i, end='')\n",
    "    \n",
    "    for ind in order_centroids[i, :6]: #replace 6 with n words per cluster\n",
    "        print(' %s' % vocab_frame.ix[terms[ind].split(' ')].values.tolist()[0][0].encode('utf-8', 'ignore'), end=',')\n",
    "    print() #add whitespace\n",
    "    print() #add whitespace\n",
    "    \n",
    "#     print(\"Cluster %d titles:\" % i, end='')\n",
    "#     for title in frame.ix[i]['title'].values.tolist():\n",
    "#         print(' %s,' % title, end='')\n",
    "    print() #add whitespace\n",
    "    print() #add whitespace\n",
    "    \n",
    "print()\n",
    "print()"
   ]
  },
  {
   "cell_type": "code",
   "execution_count": null,
   "metadata": {
    "collapsed": true
   },
   "outputs": [],
   "source": [
    "break"
   ]
  },
  {
   "cell_type": "code",
   "execution_count": 354,
   "metadata": {
    "collapsed": false
   },
   "outputs": [],
   "source": [
    "#set up colors per clusters using a dict\n",
    "cluster_colors = {0: '#0070ff', 1: '#ffbf00', 2: '#7570b3', 3: '#e7298a', 4: '#66a61e'}\n",
    "\n",
    "#light green:'#d95f02\n",
    "\n",
    "#set up cluster names using a dict\n",
    "cluster_names = {0: 'int, dx, integral, infty', \n",
    "                 1: 'sin, cos, theta, pi, sin',\n",
    "                 2: 'nt, function, know, solve, use',\n",
    "                 3: 'log, ln, logarithm, square, sqrt',\n",
    "                 4: 'points, angle, line, triangle, circle, length'\n",
    "                }"
   ]
  },
  {
   "cell_type": "code",
   "execution_count": 244,
   "metadata": {
    "collapsed": false
   },
   "outputs": [
    {
     "data": {
      "text/plain": [
       "5000"
      ]
     },
     "execution_count": 244,
     "metadata": {},
     "output_type": "execute_result"
    }
   ],
   "source": [
    "len(titles)"
   ]
  },
  {
   "cell_type": "code",
   "execution_count": 333,
   "metadata": {
    "collapsed": false
   },
   "outputs": [
    {
     "ename": "ValueError",
     "evalue": "\n\\sin(\\frac{\\pi}{12})=\\frac{\\sqrt3-1}{2\\sqrt{2}}.\n                                ^\nExpected \\sqrt{value} (at char 32), (line:1, col:33)",
     "output_type": "error",
     "traceback": [
      "\u001b[0;31m---------------------------------------------------------------------------\u001b[0m",
      "\u001b[0;31mValueError\u001b[0m                                Traceback (most recent call last)",
      "\u001b[0;32m/usr/local/lib/python2.7/site-packages/IPython/core/formatters.pyc\u001b[0m in \u001b[0;36m__call__\u001b[0;34m(self, obj)\u001b[0m\n\u001b[1;32m    328\u001b[0m                 \u001b[0;32mpass\u001b[0m\u001b[0;34m\u001b[0m\u001b[0m\n\u001b[1;32m    329\u001b[0m             \u001b[0;32melse\u001b[0m\u001b[0;34m:\u001b[0m\u001b[0;34m\u001b[0m\u001b[0m\n\u001b[0;32m--> 330\u001b[0;31m                 \u001b[0;32mreturn\u001b[0m \u001b[0mprinter\u001b[0m\u001b[0;34m(\u001b[0m\u001b[0mobj\u001b[0m\u001b[0;34m)\u001b[0m\u001b[0;34m\u001b[0m\u001b[0m\n\u001b[0m\u001b[1;32m    331\u001b[0m             \u001b[0;31m# Finally look for special method names\u001b[0m\u001b[0;34m\u001b[0m\u001b[0;34m\u001b[0m\u001b[0m\n\u001b[1;32m    332\u001b[0m             \u001b[0mmethod\u001b[0m \u001b[0;34m=\u001b[0m \u001b[0m_safe_get_formatter_method\u001b[0m\u001b[0;34m(\u001b[0m\u001b[0mobj\u001b[0m\u001b[0;34m,\u001b[0m \u001b[0mself\u001b[0m\u001b[0;34m.\u001b[0m\u001b[0mprint_method\u001b[0m\u001b[0;34m)\u001b[0m\u001b[0;34m\u001b[0m\u001b[0m\n",
      "\u001b[0;32m/usr/local/lib/python2.7/site-packages/IPython/core/pylabtools.pyc\u001b[0m in \u001b[0;36m<lambda>\u001b[0;34m(fig)\u001b[0m\n\u001b[1;32m    205\u001b[0m \u001b[0;34m\u001b[0m\u001b[0m\n\u001b[1;32m    206\u001b[0m     \u001b[0;32mif\u001b[0m \u001b[0;34m'png'\u001b[0m \u001b[0;32min\u001b[0m \u001b[0mformats\u001b[0m\u001b[0;34m:\u001b[0m\u001b[0;34m\u001b[0m\u001b[0m\n\u001b[0;32m--> 207\u001b[0;31m         \u001b[0mpng_formatter\u001b[0m\u001b[0;34m.\u001b[0m\u001b[0mfor_type\u001b[0m\u001b[0;34m(\u001b[0m\u001b[0mFigure\u001b[0m\u001b[0;34m,\u001b[0m \u001b[0;32mlambda\u001b[0m \u001b[0mfig\u001b[0m\u001b[0;34m:\u001b[0m \u001b[0mprint_figure\u001b[0m\u001b[0;34m(\u001b[0m\u001b[0mfig\u001b[0m\u001b[0;34m,\u001b[0m \u001b[0;34m'png'\u001b[0m\u001b[0;34m,\u001b[0m \u001b[0;34m**\u001b[0m\u001b[0mkwargs\u001b[0m\u001b[0;34m)\u001b[0m\u001b[0;34m)\u001b[0m\u001b[0;34m\u001b[0m\u001b[0m\n\u001b[0m\u001b[1;32m    208\u001b[0m     \u001b[0;32mif\u001b[0m \u001b[0;34m'retina'\u001b[0m \u001b[0;32min\u001b[0m \u001b[0mformats\u001b[0m \u001b[0;32mor\u001b[0m \u001b[0;34m'png2x'\u001b[0m \u001b[0;32min\u001b[0m \u001b[0mformats\u001b[0m\u001b[0;34m:\u001b[0m\u001b[0;34m\u001b[0m\u001b[0m\n\u001b[1;32m    209\u001b[0m         \u001b[0mpng_formatter\u001b[0m\u001b[0;34m.\u001b[0m\u001b[0mfor_type\u001b[0m\u001b[0;34m(\u001b[0m\u001b[0mFigure\u001b[0m\u001b[0;34m,\u001b[0m \u001b[0;32mlambda\u001b[0m \u001b[0mfig\u001b[0m\u001b[0;34m:\u001b[0m \u001b[0mretina_figure\u001b[0m\u001b[0;34m(\u001b[0m\u001b[0mfig\u001b[0m\u001b[0;34m,\u001b[0m \u001b[0;34m**\u001b[0m\u001b[0mkwargs\u001b[0m\u001b[0;34m)\u001b[0m\u001b[0;34m)\u001b[0m\u001b[0;34m\u001b[0m\u001b[0m\n",
      "\u001b[0;32m/usr/local/lib/python2.7/site-packages/IPython/core/pylabtools.pyc\u001b[0m in \u001b[0;36mprint_figure\u001b[0;34m(fig, fmt, bbox_inches, **kwargs)\u001b[0m\n\u001b[1;32m    115\u001b[0m \u001b[0;34m\u001b[0m\u001b[0m\n\u001b[1;32m    116\u001b[0m     \u001b[0mbytes_io\u001b[0m \u001b[0;34m=\u001b[0m \u001b[0mBytesIO\u001b[0m\u001b[0;34m(\u001b[0m\u001b[0;34m)\u001b[0m\u001b[0;34m\u001b[0m\u001b[0m\n\u001b[0;32m--> 117\u001b[0;31m     \u001b[0mfig\u001b[0m\u001b[0;34m.\u001b[0m\u001b[0mcanvas\u001b[0m\u001b[0;34m.\u001b[0m\u001b[0mprint_figure\u001b[0m\u001b[0;34m(\u001b[0m\u001b[0mbytes_io\u001b[0m\u001b[0;34m,\u001b[0m \u001b[0;34m**\u001b[0m\u001b[0mkw\u001b[0m\u001b[0;34m)\u001b[0m\u001b[0;34m\u001b[0m\u001b[0m\n\u001b[0m\u001b[1;32m    118\u001b[0m     \u001b[0mdata\u001b[0m \u001b[0;34m=\u001b[0m \u001b[0mbytes_io\u001b[0m\u001b[0;34m.\u001b[0m\u001b[0mgetvalue\u001b[0m\u001b[0;34m(\u001b[0m\u001b[0;34m)\u001b[0m\u001b[0;34m\u001b[0m\u001b[0m\n\u001b[1;32m    119\u001b[0m     \u001b[0;32mif\u001b[0m \u001b[0mfmt\u001b[0m \u001b[0;34m==\u001b[0m \u001b[0;34m'svg'\u001b[0m\u001b[0;34m:\u001b[0m\u001b[0;34m\u001b[0m\u001b[0m\n",
      "\u001b[0;32m/usr/local/lib/python2.7/site-packages/matplotlib/backend_bases.pyc\u001b[0m in \u001b[0;36mprint_figure\u001b[0;34m(self, filename, dpi, facecolor, edgecolor, orientation, format, **kwargs)\u001b[0m\n\u001b[1;32m   2156\u001b[0m                     \u001b[0morientation\u001b[0m\u001b[0;34m=\u001b[0m\u001b[0morientation\u001b[0m\u001b[0;34m,\u001b[0m\u001b[0;34m\u001b[0m\u001b[0m\n\u001b[1;32m   2157\u001b[0m                     \u001b[0mdryrun\u001b[0m\u001b[0;34m=\u001b[0m\u001b[0mTrue\u001b[0m\u001b[0;34m,\u001b[0m\u001b[0;34m\u001b[0m\u001b[0m\n\u001b[0;32m-> 2158\u001b[0;31m                     **kwargs)\n\u001b[0m\u001b[1;32m   2159\u001b[0m                 \u001b[0mrenderer\u001b[0m \u001b[0;34m=\u001b[0m \u001b[0mself\u001b[0m\u001b[0;34m.\u001b[0m\u001b[0mfigure\u001b[0m\u001b[0;34m.\u001b[0m\u001b[0m_cachedRenderer\u001b[0m\u001b[0;34m\u001b[0m\u001b[0m\n\u001b[1;32m   2160\u001b[0m                 \u001b[0mbbox_inches\u001b[0m \u001b[0;34m=\u001b[0m \u001b[0mself\u001b[0m\u001b[0;34m.\u001b[0m\u001b[0mfigure\u001b[0m\u001b[0;34m.\u001b[0m\u001b[0mget_tightbbox\u001b[0m\u001b[0;34m(\u001b[0m\u001b[0mrenderer\u001b[0m\u001b[0;34m)\u001b[0m\u001b[0;34m\u001b[0m\u001b[0m\n",
      "\u001b[0;32m/usr/local/lib/python2.7/site-packages/matplotlib/backends/backend_agg.pyc\u001b[0m in \u001b[0;36mprint_png\u001b[0;34m(self, filename_or_obj, *args, **kwargs)\u001b[0m\n\u001b[1;32m    519\u001b[0m \u001b[0;34m\u001b[0m\u001b[0m\n\u001b[1;32m    520\u001b[0m     \u001b[0;32mdef\u001b[0m \u001b[0mprint_png\u001b[0m\u001b[0;34m(\u001b[0m\u001b[0mself\u001b[0m\u001b[0;34m,\u001b[0m \u001b[0mfilename_or_obj\u001b[0m\u001b[0;34m,\u001b[0m \u001b[0;34m*\u001b[0m\u001b[0margs\u001b[0m\u001b[0;34m,\u001b[0m \u001b[0;34m**\u001b[0m\u001b[0mkwargs\u001b[0m\u001b[0;34m)\u001b[0m\u001b[0;34m:\u001b[0m\u001b[0;34m\u001b[0m\u001b[0m\n\u001b[0;32m--> 521\u001b[0;31m         \u001b[0mFigureCanvasAgg\u001b[0m\u001b[0;34m.\u001b[0m\u001b[0mdraw\u001b[0m\u001b[0;34m(\u001b[0m\u001b[0mself\u001b[0m\u001b[0;34m)\u001b[0m\u001b[0;34m\u001b[0m\u001b[0m\n\u001b[0m\u001b[1;32m    522\u001b[0m         \u001b[0mrenderer\u001b[0m \u001b[0;34m=\u001b[0m \u001b[0mself\u001b[0m\u001b[0;34m.\u001b[0m\u001b[0mget_renderer\u001b[0m\u001b[0;34m(\u001b[0m\u001b[0;34m)\u001b[0m\u001b[0;34m\u001b[0m\u001b[0m\n\u001b[1;32m    523\u001b[0m         \u001b[0moriginal_dpi\u001b[0m \u001b[0;34m=\u001b[0m \u001b[0mrenderer\u001b[0m\u001b[0;34m.\u001b[0m\u001b[0mdpi\u001b[0m\u001b[0;34m\u001b[0m\u001b[0m\n",
      "\u001b[0;32m/usr/local/lib/python2.7/site-packages/matplotlib/backends/backend_agg.pyc\u001b[0m in \u001b[0;36mdraw\u001b[0;34m(self)\u001b[0m\n\u001b[1;32m    467\u001b[0m \u001b[0;34m\u001b[0m\u001b[0m\n\u001b[1;32m    468\u001b[0m         \u001b[0;32mtry\u001b[0m\u001b[0;34m:\u001b[0m\u001b[0;34m\u001b[0m\u001b[0m\n\u001b[0;32m--> 469\u001b[0;31m             \u001b[0mself\u001b[0m\u001b[0;34m.\u001b[0m\u001b[0mfigure\u001b[0m\u001b[0;34m.\u001b[0m\u001b[0mdraw\u001b[0m\u001b[0;34m(\u001b[0m\u001b[0mself\u001b[0m\u001b[0;34m.\u001b[0m\u001b[0mrenderer\u001b[0m\u001b[0;34m)\u001b[0m\u001b[0;34m\u001b[0m\u001b[0m\n\u001b[0m\u001b[1;32m    470\u001b[0m         \u001b[0;32mfinally\u001b[0m\u001b[0;34m:\u001b[0m\u001b[0;34m\u001b[0m\u001b[0m\n\u001b[1;32m    471\u001b[0m             \u001b[0mRendererAgg\u001b[0m\u001b[0;34m.\u001b[0m\u001b[0mlock\u001b[0m\u001b[0;34m.\u001b[0m\u001b[0mrelease\u001b[0m\u001b[0;34m(\u001b[0m\u001b[0;34m)\u001b[0m\u001b[0;34m\u001b[0m\u001b[0m\n",
      "\u001b[0;32m/usr/local/lib/python2.7/site-packages/matplotlib/artist.pyc\u001b[0m in \u001b[0;36mdraw_wrapper\u001b[0;34m(artist, renderer, *args, **kwargs)\u001b[0m\n\u001b[1;32m     57\u001b[0m     \u001b[0;32mdef\u001b[0m \u001b[0mdraw_wrapper\u001b[0m\u001b[0;34m(\u001b[0m\u001b[0martist\u001b[0m\u001b[0;34m,\u001b[0m \u001b[0mrenderer\u001b[0m\u001b[0;34m,\u001b[0m \u001b[0;34m*\u001b[0m\u001b[0margs\u001b[0m\u001b[0;34m,\u001b[0m \u001b[0;34m**\u001b[0m\u001b[0mkwargs\u001b[0m\u001b[0;34m)\u001b[0m\u001b[0;34m:\u001b[0m\u001b[0;34m\u001b[0m\u001b[0m\n\u001b[1;32m     58\u001b[0m         \u001b[0mbefore\u001b[0m\u001b[0;34m(\u001b[0m\u001b[0martist\u001b[0m\u001b[0;34m,\u001b[0m \u001b[0mrenderer\u001b[0m\u001b[0;34m)\u001b[0m\u001b[0;34m\u001b[0m\u001b[0m\n\u001b[0;32m---> 59\u001b[0;31m         \u001b[0mdraw\u001b[0m\u001b[0;34m(\u001b[0m\u001b[0martist\u001b[0m\u001b[0;34m,\u001b[0m \u001b[0mrenderer\u001b[0m\u001b[0;34m,\u001b[0m \u001b[0;34m*\u001b[0m\u001b[0margs\u001b[0m\u001b[0;34m,\u001b[0m \u001b[0;34m**\u001b[0m\u001b[0mkwargs\u001b[0m\u001b[0;34m)\u001b[0m\u001b[0;34m\u001b[0m\u001b[0m\n\u001b[0m\u001b[1;32m     60\u001b[0m         \u001b[0mafter\u001b[0m\u001b[0;34m(\u001b[0m\u001b[0martist\u001b[0m\u001b[0;34m,\u001b[0m \u001b[0mrenderer\u001b[0m\u001b[0;34m)\u001b[0m\u001b[0;34m\u001b[0m\u001b[0m\n\u001b[1;32m     61\u001b[0m \u001b[0;34m\u001b[0m\u001b[0m\n",
      "\u001b[0;32m/usr/local/lib/python2.7/site-packages/matplotlib/figure.pyc\u001b[0m in \u001b[0;36mdraw\u001b[0;34m(self, renderer)\u001b[0m\n\u001b[1;32m   1083\u001b[0m         \u001b[0mdsu\u001b[0m\u001b[0;34m.\u001b[0m\u001b[0msort\u001b[0m\u001b[0;34m(\u001b[0m\u001b[0mkey\u001b[0m\u001b[0;34m=\u001b[0m\u001b[0mitemgetter\u001b[0m\u001b[0;34m(\u001b[0m\u001b[0;36m0\u001b[0m\u001b[0;34m)\u001b[0m\u001b[0;34m)\u001b[0m\u001b[0;34m\u001b[0m\u001b[0m\n\u001b[1;32m   1084\u001b[0m         \u001b[0;32mfor\u001b[0m \u001b[0mzorder\u001b[0m\u001b[0;34m,\u001b[0m \u001b[0ma\u001b[0m\u001b[0;34m,\u001b[0m \u001b[0mfunc\u001b[0m\u001b[0;34m,\u001b[0m \u001b[0margs\u001b[0m \u001b[0;32min\u001b[0m \u001b[0mdsu\u001b[0m\u001b[0;34m:\u001b[0m\u001b[0;34m\u001b[0m\u001b[0m\n\u001b[0;32m-> 1085\u001b[0;31m             \u001b[0mfunc\u001b[0m\u001b[0;34m(\u001b[0m\u001b[0;34m*\u001b[0m\u001b[0margs\u001b[0m\u001b[0;34m)\u001b[0m\u001b[0;34m\u001b[0m\u001b[0m\n\u001b[0m\u001b[1;32m   1086\u001b[0m \u001b[0;34m\u001b[0m\u001b[0m\n\u001b[1;32m   1087\u001b[0m         \u001b[0mrenderer\u001b[0m\u001b[0;34m.\u001b[0m\u001b[0mclose_group\u001b[0m\u001b[0;34m(\u001b[0m\u001b[0;34m'figure'\u001b[0m\u001b[0;34m)\u001b[0m\u001b[0;34m\u001b[0m\u001b[0m\n",
      "\u001b[0;32m/usr/local/lib/python2.7/site-packages/matplotlib/artist.pyc\u001b[0m in \u001b[0;36mdraw_wrapper\u001b[0;34m(artist, renderer, *args, **kwargs)\u001b[0m\n\u001b[1;32m     57\u001b[0m     \u001b[0;32mdef\u001b[0m \u001b[0mdraw_wrapper\u001b[0m\u001b[0;34m(\u001b[0m\u001b[0martist\u001b[0m\u001b[0;34m,\u001b[0m \u001b[0mrenderer\u001b[0m\u001b[0;34m,\u001b[0m \u001b[0;34m*\u001b[0m\u001b[0margs\u001b[0m\u001b[0;34m,\u001b[0m \u001b[0;34m**\u001b[0m\u001b[0mkwargs\u001b[0m\u001b[0;34m)\u001b[0m\u001b[0;34m:\u001b[0m\u001b[0;34m\u001b[0m\u001b[0m\n\u001b[1;32m     58\u001b[0m         \u001b[0mbefore\u001b[0m\u001b[0;34m(\u001b[0m\u001b[0martist\u001b[0m\u001b[0;34m,\u001b[0m \u001b[0mrenderer\u001b[0m\u001b[0;34m)\u001b[0m\u001b[0;34m\u001b[0m\u001b[0m\n\u001b[0;32m---> 59\u001b[0;31m         \u001b[0mdraw\u001b[0m\u001b[0;34m(\u001b[0m\u001b[0martist\u001b[0m\u001b[0;34m,\u001b[0m \u001b[0mrenderer\u001b[0m\u001b[0;34m,\u001b[0m \u001b[0;34m*\u001b[0m\u001b[0margs\u001b[0m\u001b[0;34m,\u001b[0m \u001b[0;34m**\u001b[0m\u001b[0mkwargs\u001b[0m\u001b[0;34m)\u001b[0m\u001b[0;34m\u001b[0m\u001b[0m\n\u001b[0m\u001b[1;32m     60\u001b[0m         \u001b[0mafter\u001b[0m\u001b[0;34m(\u001b[0m\u001b[0martist\u001b[0m\u001b[0;34m,\u001b[0m \u001b[0mrenderer\u001b[0m\u001b[0;34m)\u001b[0m\u001b[0;34m\u001b[0m\u001b[0m\n\u001b[1;32m     61\u001b[0m \u001b[0;34m\u001b[0m\u001b[0m\n",
      "\u001b[0;32m/usr/local/lib/python2.7/site-packages/matplotlib/axes/_base.pyc\u001b[0m in \u001b[0;36mdraw\u001b[0;34m(self, renderer, inframe)\u001b[0m\n\u001b[1;32m   2108\u001b[0m \u001b[0;34m\u001b[0m\u001b[0m\n\u001b[1;32m   2109\u001b[0m         \u001b[0;32mfor\u001b[0m \u001b[0mzorder\u001b[0m\u001b[0;34m,\u001b[0m \u001b[0ma\u001b[0m \u001b[0;32min\u001b[0m \u001b[0mdsu\u001b[0m\u001b[0;34m:\u001b[0m\u001b[0;34m\u001b[0m\u001b[0m\n\u001b[0;32m-> 2110\u001b[0;31m             \u001b[0ma\u001b[0m\u001b[0;34m.\u001b[0m\u001b[0mdraw\u001b[0m\u001b[0;34m(\u001b[0m\u001b[0mrenderer\u001b[0m\u001b[0;34m)\u001b[0m\u001b[0;34m\u001b[0m\u001b[0m\n\u001b[0m\u001b[1;32m   2111\u001b[0m \u001b[0;34m\u001b[0m\u001b[0m\n\u001b[1;32m   2112\u001b[0m         \u001b[0mrenderer\u001b[0m\u001b[0;34m.\u001b[0m\u001b[0mclose_group\u001b[0m\u001b[0;34m(\u001b[0m\u001b[0;34m'axes'\u001b[0m\u001b[0;34m)\u001b[0m\u001b[0;34m\u001b[0m\u001b[0m\n",
      "\u001b[0;32m/usr/local/lib/python2.7/site-packages/matplotlib/artist.pyc\u001b[0m in \u001b[0;36mdraw_wrapper\u001b[0;34m(artist, renderer, *args, **kwargs)\u001b[0m\n\u001b[1;32m     57\u001b[0m     \u001b[0;32mdef\u001b[0m \u001b[0mdraw_wrapper\u001b[0m\u001b[0;34m(\u001b[0m\u001b[0martist\u001b[0m\u001b[0;34m,\u001b[0m \u001b[0mrenderer\u001b[0m\u001b[0;34m,\u001b[0m \u001b[0;34m*\u001b[0m\u001b[0margs\u001b[0m\u001b[0;34m,\u001b[0m \u001b[0;34m**\u001b[0m\u001b[0mkwargs\u001b[0m\u001b[0;34m)\u001b[0m\u001b[0;34m:\u001b[0m\u001b[0;34m\u001b[0m\u001b[0m\n\u001b[1;32m     58\u001b[0m         \u001b[0mbefore\u001b[0m\u001b[0;34m(\u001b[0m\u001b[0martist\u001b[0m\u001b[0;34m,\u001b[0m \u001b[0mrenderer\u001b[0m\u001b[0;34m)\u001b[0m\u001b[0;34m\u001b[0m\u001b[0m\n\u001b[0;32m---> 59\u001b[0;31m         \u001b[0mdraw\u001b[0m\u001b[0;34m(\u001b[0m\u001b[0martist\u001b[0m\u001b[0;34m,\u001b[0m \u001b[0mrenderer\u001b[0m\u001b[0;34m,\u001b[0m \u001b[0;34m*\u001b[0m\u001b[0margs\u001b[0m\u001b[0;34m,\u001b[0m \u001b[0;34m**\u001b[0m\u001b[0mkwargs\u001b[0m\u001b[0;34m)\u001b[0m\u001b[0;34m\u001b[0m\u001b[0m\n\u001b[0m\u001b[1;32m     60\u001b[0m         \u001b[0mafter\u001b[0m\u001b[0;34m(\u001b[0m\u001b[0martist\u001b[0m\u001b[0;34m,\u001b[0m \u001b[0mrenderer\u001b[0m\u001b[0;34m)\u001b[0m\u001b[0;34m\u001b[0m\u001b[0m\n\u001b[1;32m     61\u001b[0m \u001b[0;34m\u001b[0m\u001b[0m\n",
      "\u001b[0;32m/usr/local/lib/python2.7/site-packages/matplotlib/text.pyc\u001b[0m in \u001b[0;36mdraw\u001b[0;34m(self, renderer)\u001b[0m\n\u001b[1;32m    593\u001b[0m         \u001b[0mrenderer\u001b[0m\u001b[0;34m.\u001b[0m\u001b[0mopen_group\u001b[0m\u001b[0;34m(\u001b[0m\u001b[0;34m'text'\u001b[0m\u001b[0;34m,\u001b[0m \u001b[0mself\u001b[0m\u001b[0;34m.\u001b[0m\u001b[0mget_gid\u001b[0m\u001b[0;34m(\u001b[0m\u001b[0;34m)\u001b[0m\u001b[0;34m)\u001b[0m\u001b[0;34m\u001b[0m\u001b[0m\n\u001b[1;32m    594\u001b[0m \u001b[0;34m\u001b[0m\u001b[0m\n\u001b[0;32m--> 595\u001b[0;31m         \u001b[0mbbox\u001b[0m\u001b[0;34m,\u001b[0m \u001b[0minfo\u001b[0m\u001b[0;34m,\u001b[0m \u001b[0mdescent\u001b[0m \u001b[0;34m=\u001b[0m \u001b[0mself\u001b[0m\u001b[0;34m.\u001b[0m\u001b[0m_get_layout\u001b[0m\u001b[0;34m(\u001b[0m\u001b[0mrenderer\u001b[0m\u001b[0;34m)\u001b[0m\u001b[0;34m\u001b[0m\u001b[0m\n\u001b[0m\u001b[1;32m    596\u001b[0m         \u001b[0mtrans\u001b[0m \u001b[0;34m=\u001b[0m \u001b[0mself\u001b[0m\u001b[0;34m.\u001b[0m\u001b[0mget_transform\u001b[0m\u001b[0;34m(\u001b[0m\u001b[0;34m)\u001b[0m\u001b[0;34m\u001b[0m\u001b[0m\n\u001b[1;32m    597\u001b[0m \u001b[0;34m\u001b[0m\u001b[0m\n",
      "\u001b[0;32m/usr/local/lib/python2.7/site-packages/matplotlib/text.pyc\u001b[0m in \u001b[0;36m_get_layout\u001b[0;34m(self, renderer)\u001b[0m\n\u001b[1;32m    318\u001b[0m                 w, h, d = renderer.get_text_width_height_descent(clean_line,\n\u001b[1;32m    319\u001b[0m                                                         \u001b[0mself\u001b[0m\u001b[0;34m.\u001b[0m\u001b[0m_fontproperties\u001b[0m\u001b[0;34m,\u001b[0m\u001b[0;34m\u001b[0m\u001b[0m\n\u001b[0;32m--> 320\u001b[0;31m                                                         ismath=ismath)\n\u001b[0m\u001b[1;32m    321\u001b[0m             \u001b[0;32melse\u001b[0m\u001b[0;34m:\u001b[0m\u001b[0;34m\u001b[0m\u001b[0m\n\u001b[1;32m    322\u001b[0m                 \u001b[0mw\u001b[0m\u001b[0;34m,\u001b[0m \u001b[0mh\u001b[0m\u001b[0;34m,\u001b[0m \u001b[0md\u001b[0m \u001b[0;34m=\u001b[0m \u001b[0;36m0\u001b[0m\u001b[0;34m,\u001b[0m \u001b[0;36m0\u001b[0m\u001b[0;34m,\u001b[0m \u001b[0;36m0\u001b[0m\u001b[0;34m\u001b[0m\u001b[0m\n",
      "\u001b[0;32m/usr/local/lib/python2.7/site-packages/matplotlib/backends/backend_agg.pyc\u001b[0m in \u001b[0;36mget_text_width_height_descent\u001b[0;34m(self, s, prop, ismath)\u001b[0m\n\u001b[1;32m    226\u001b[0m         \u001b[0;32mif\u001b[0m \u001b[0mismath\u001b[0m\u001b[0;34m:\u001b[0m\u001b[0;34m\u001b[0m\u001b[0m\n\u001b[1;32m    227\u001b[0m             \u001b[0mox\u001b[0m\u001b[0;34m,\u001b[0m \u001b[0moy\u001b[0m\u001b[0;34m,\u001b[0m \u001b[0mwidth\u001b[0m\u001b[0;34m,\u001b[0m \u001b[0mheight\u001b[0m\u001b[0;34m,\u001b[0m \u001b[0mdescent\u001b[0m\u001b[0;34m,\u001b[0m \u001b[0mfonts\u001b[0m\u001b[0;34m,\u001b[0m \u001b[0mused_characters\u001b[0m \u001b[0;34m=\u001b[0m\u001b[0;31m \u001b[0m\u001b[0;31m\\\u001b[0m\u001b[0;34m\u001b[0m\u001b[0m\n\u001b[0;32m--> 228\u001b[0;31m                 \u001b[0mself\u001b[0m\u001b[0;34m.\u001b[0m\u001b[0mmathtext_parser\u001b[0m\u001b[0;34m.\u001b[0m\u001b[0mparse\u001b[0m\u001b[0;34m(\u001b[0m\u001b[0ms\u001b[0m\u001b[0;34m,\u001b[0m \u001b[0mself\u001b[0m\u001b[0;34m.\u001b[0m\u001b[0mdpi\u001b[0m\u001b[0;34m,\u001b[0m \u001b[0mprop\u001b[0m\u001b[0;34m)\u001b[0m\u001b[0;34m\u001b[0m\u001b[0m\n\u001b[0m\u001b[1;32m    229\u001b[0m             \u001b[0;32mreturn\u001b[0m \u001b[0mwidth\u001b[0m\u001b[0;34m,\u001b[0m \u001b[0mheight\u001b[0m\u001b[0;34m,\u001b[0m \u001b[0mdescent\u001b[0m\u001b[0;34m\u001b[0m\u001b[0m\n\u001b[1;32m    230\u001b[0m \u001b[0;34m\u001b[0m\u001b[0m\n",
      "\u001b[0;32m/usr/local/lib/python2.7/site-packages/matplotlib/mathtext.pyc\u001b[0m in \u001b[0;36mparse\u001b[0;34m(self, s, dpi, prop)\u001b[0m\n\u001b[1;32m   3003\u001b[0m             \u001b[0mself\u001b[0m\u001b[0;34m.\u001b[0m\u001b[0m__class__\u001b[0m\u001b[0;34m.\u001b[0m\u001b[0m_parser\u001b[0m \u001b[0;34m=\u001b[0m \u001b[0mParser\u001b[0m\u001b[0;34m(\u001b[0m\u001b[0;34m)\u001b[0m\u001b[0;34m\u001b[0m\u001b[0m\n\u001b[1;32m   3004\u001b[0m \u001b[0;34m\u001b[0m\u001b[0m\n\u001b[0;32m-> 3005\u001b[0;31m         \u001b[0mbox\u001b[0m \u001b[0;34m=\u001b[0m \u001b[0mself\u001b[0m\u001b[0;34m.\u001b[0m\u001b[0m_parser\u001b[0m\u001b[0;34m.\u001b[0m\u001b[0mparse\u001b[0m\u001b[0;34m(\u001b[0m\u001b[0ms\u001b[0m\u001b[0;34m,\u001b[0m \u001b[0mfont_output\u001b[0m\u001b[0;34m,\u001b[0m \u001b[0mfontsize\u001b[0m\u001b[0;34m,\u001b[0m \u001b[0mdpi\u001b[0m\u001b[0;34m)\u001b[0m\u001b[0;34m\u001b[0m\u001b[0m\n\u001b[0m\u001b[1;32m   3006\u001b[0m         \u001b[0mfont_output\u001b[0m\u001b[0;34m.\u001b[0m\u001b[0mset_canvas_size\u001b[0m\u001b[0;34m(\u001b[0m\u001b[0mbox\u001b[0m\u001b[0;34m.\u001b[0m\u001b[0mwidth\u001b[0m\u001b[0;34m,\u001b[0m \u001b[0mbox\u001b[0m\u001b[0;34m.\u001b[0m\u001b[0mheight\u001b[0m\u001b[0;34m,\u001b[0m \u001b[0mbox\u001b[0m\u001b[0;34m.\u001b[0m\u001b[0mdepth\u001b[0m\u001b[0;34m)\u001b[0m\u001b[0;34m\u001b[0m\u001b[0m\n\u001b[1;32m   3007\u001b[0m         \u001b[0mresult\u001b[0m \u001b[0;34m=\u001b[0m \u001b[0mfont_output\u001b[0m\u001b[0;34m.\u001b[0m\u001b[0mget_results\u001b[0m\u001b[0;34m(\u001b[0m\u001b[0mbox\u001b[0m\u001b[0;34m)\u001b[0m\u001b[0;34m\u001b[0m\u001b[0m\n",
      "\u001b[0;32m/usr/local/lib/python2.7/site-packages/matplotlib/mathtext.pyc\u001b[0m in \u001b[0;36mparse\u001b[0;34m(self, s, fonts_object, fontsize, dpi)\u001b[0m\n\u001b[1;32m   2337\u001b[0m                         \u001b[0merr\u001b[0m\u001b[0;34m.\u001b[0m\u001b[0mline\u001b[0m\u001b[0;34m,\u001b[0m\u001b[0;34m\u001b[0m\u001b[0m\n\u001b[1;32m   2338\u001b[0m                         \u001b[0;34m\" \"\u001b[0m \u001b[0;34m*\u001b[0m \u001b[0;34m(\u001b[0m\u001b[0merr\u001b[0m\u001b[0;34m.\u001b[0m\u001b[0mcolumn\u001b[0m \u001b[0;34m-\u001b[0m \u001b[0;36m1\u001b[0m\u001b[0;34m)\u001b[0m \u001b[0;34m+\u001b[0m \u001b[0;34m\"^\"\u001b[0m\u001b[0;34m,\u001b[0m\u001b[0;34m\u001b[0m\u001b[0m\n\u001b[0;32m-> 2339\u001b[0;31m                         six.text_type(err)]))\n\u001b[0m\u001b[1;32m   2340\u001b[0m         \u001b[0mself\u001b[0m\u001b[0;34m.\u001b[0m\u001b[0m_state_stack\u001b[0m \u001b[0;34m=\u001b[0m \u001b[0mNone\u001b[0m\u001b[0;34m\u001b[0m\u001b[0m\n\u001b[1;32m   2341\u001b[0m         \u001b[0mself\u001b[0m\u001b[0;34m.\u001b[0m\u001b[0m_em_width_cache\u001b[0m \u001b[0;34m=\u001b[0m \u001b[0;34m{\u001b[0m\u001b[0;34m}\u001b[0m\u001b[0;34m\u001b[0m\u001b[0m\n",
      "\u001b[0;31mValueError\u001b[0m: \n\\sin(\\frac{\\pi}{12})=\\frac{\\sqrt3-1}{2\\sqrt{2}}.\n                                ^\nExpected \\sqrt{value} (at char 32), (line:1, col:33)"
     ]
    },
    {
     "data": {
      "text/plain": [
       "<matplotlib.figure.Figure at 0x14430b710>"
      ]
     },
     "metadata": {},
     "output_type": "display_data"
    }
   ],
   "source": [
    "#some ipython magic to show the matplotlib plots inline\n",
    "%matplotlib inline \n",
    "titles = highschool3.Title\n",
    "#create data frame that has the result of the MDS plus the cluster numbers and titles\n",
    "df = pd.DataFrame(dict(x=xs, y=ys, label=clusters, title=titles)) \n",
    "\n",
    "#group by cluster\n",
    "groups = df.groupby('label')\n",
    "\n",
    "\n",
    "# set up plot\n",
    "fig, ax = plt.subplots(figsize=(17, 9)) # set size\n",
    "ax.margins(0.05) # Optional, just adds 5% padding to the autoscaling\n",
    "\n",
    "#iterate through groups to layer the plot\n",
    "#note that I use the cluster_name and cluster_color dicts with the 'name' lookup to return the appropriate color/label\n",
    "for name, group in groups:\n",
    "    ax.plot(group.x, group.y, marker='o', linestyle='', ms=12, \n",
    "            label=cluster_names[name], color=cluster_colors[name], \n",
    "            mec='none')\n",
    "    ax.set_aspect('auto')\n",
    "    ax.tick_params(\\\n",
    "        axis= 'x',          # changes apply to the x-axis\n",
    "        which='both',      # both major and minor ticks are affected\n",
    "        bottom='off',      # ticks along the bottom edge are off\n",
    "        top='off',         # ticks along the top edge are off\n",
    "        labelbottom='off')\n",
    "    ax.tick_params(\\\n",
    "        axis= 'y',         # changes apply to the y-axis\n",
    "        which='both',      # both major and minor ticks are affected\n",
    "        left='off',      # ticks along the bottom edge are off\n",
    "        top='off',         # ticks along the top edge are off\n",
    "        labelleft='off')\n",
    "    \n",
    "ax.legend(numpoints=1)  #show legend with only 1 point\n",
    "\n",
    "#add label in x,y position with the label as the film title\n",
    "for i in range(len(df)):\n",
    "    ax.text(df.ix[i]['x'], df.ix[i]['y'], df.ix[i]['title'], size=8)  \n",
    "\n",
    "    \n",
    "    \n",
    "plt.show() #show the plot\n",
    "\n",
    "#uncomment the below to save the plot if need be\n",
    "#plt.savefig('clusters_small_noaxes.png', dpi=200)"
   ]
  },
  {
   "cell_type": "code",
   "execution_count": 335,
   "metadata": {
    "collapsed": true
   },
   "outputs": [],
   "source": [
    "#define custom toolbar location\n",
    "class TopToolbar(mpld3.plugins.PluginBase):\n",
    "    \"\"\"Plugin for moving toolbar to top of figure\"\"\"\n",
    "\n",
    "    JAVASCRIPT = \"\"\"\n",
    "    mpld3.register_plugin(\"toptoolbar\", TopToolbar);\n",
    "    TopToolbar.prototype = Object.create(mpld3.Plugin.prototype);\n",
    "    TopToolbar.prototype.constructor = TopToolbar;\n",
    "    function TopToolbar(fig, props){\n",
    "        mpld3.Plugin.call(this, fig, props);\n",
    "    };\n",
    "\n",
    "    TopToolbar.prototype.draw = function(){\n",
    "      // the toolbar svg doesn't exist\n",
    "      // yet, so first draw it\n",
    "      this.fig.toolbar.draw();\n",
    "\n",
    "      // then change the y position to be\n",
    "      // at the top of the figure\n",
    "      this.fig.toolbar.toolbar.attr(\"x\", 150);\n",
    "      this.fig.toolbar.toolbar.attr(\"y\", 400);\n",
    "\n",
    "      // then remove the draw function,\n",
    "      // so that it is not called again\n",
    "      this.fig.toolbar.draw = function() {}\n",
    "    }\n",
    "    \"\"\"\n",
    "    def __init__(self):\n",
    "        self.dict_ = {\"type\": \"toptoolbar\"}"
   ]
  },
  {
   "cell_type": "code",
   "execution_count": 381,
   "metadata": {
    "collapsed": false
   },
   "outputs": [
    {
     "data": {
      "text/html": [
       "\n",
       "\n",
       "<style>\n",
       "\n",
       "text.mpld3-text, div.mpld3-tooltip {\n",
       "  font-family:Arial, Helvetica, sans-serif;\n",
       "}\n",
       "\n",
       "g.mpld3-xaxis, g.mpld3-yaxis {\n",
       "display: none; }\n",
       "\n",
       "svg.mpld3-figure {\n",
       "margin-left: -100px;\n",
       "margin-top: -50px;\n",
       "margin-right: -100px;\n",
       "margin-bottom: -50px;}\n",
       "\n",
       "text.mpld3-text, div.mpld3-tooltip {\n",
       "  font-family:Arial, Helvetica, sans-serif;\n",
       "}\n",
       "\n",
       "g.mpld3-xaxis, g.mpld3-yaxis {\n",
       "display: none; }\n",
       "\n",
       "svg.mpld3-figure {\n",
       "margin-left: -100px;\n",
       "margin-top: -50px;\n",
       "margin-right: -100px;\n",
       "margin-bottom: -50px;}\n",
       "\n",
       "text.mpld3-text, div.mpld3-tooltip {\n",
       "  font-family:Arial, Helvetica, sans-serif;\n",
       "}\n",
       "\n",
       "g.mpld3-xaxis, g.mpld3-yaxis {\n",
       "display: none; }\n",
       "\n",
       "svg.mpld3-figure {\n",
       "margin-left: -100px;\n",
       "margin-top: -50px;\n",
       "margin-right: -100px;\n",
       "margin-bottom: -50px;}\n",
       "\n",
       "text.mpld3-text, div.mpld3-tooltip {\n",
       "  font-family:Arial, Helvetica, sans-serif;\n",
       "}\n",
       "\n",
       "g.mpld3-xaxis, g.mpld3-yaxis {\n",
       "display: none; }\n",
       "\n",
       "svg.mpld3-figure {\n",
       "margin-left: -100px;\n",
       "margin-top: -50px;\n",
       "margin-right: -100px;\n",
       "margin-bottom: -50px;}\n",
       "\n",
       "text.mpld3-text, div.mpld3-tooltip {\n",
       "  font-family:Arial, Helvetica, sans-serif;\n",
       "}\n",
       "\n",
       "g.mpld3-xaxis, g.mpld3-yaxis {\n",
       "display: none; }\n",
       "\n",
       "svg.mpld3-figure {\n",
       "margin-left: -100px;\n",
       "margin-top: -50px;\n",
       "margin-right: -100px;\n",
       "margin-bottom: -50px;}\n",
       "\n",
       "</style>\n",
       "\n",
       "<div id=\"fig_el9595853750945446552526953\"></div>\n",
       "<script>\n",
       "function mpld3_load_lib(url, callback){\n",
       "  var s = document.createElement('script');\n",
       "  s.src = url;\n",
       "  s.async = true;\n",
       "  s.onreadystatechange = s.onload = callback;\n",
       "  s.onerror = function(){console.warn(\"failed to load library \" + url);};\n",
       "  document.getElementsByTagName(\"head\")[0].appendChild(s);\n",
       "}\n",
       "\n",
       "if(typeof(mpld3) !== \"undefined\" && mpld3._mpld3IsLoaded){\n",
       "   // already loaded: just create the figure\n",
       "   !function(mpld3){\n",
       "       \n",
       "    mpld3.register_plugin(\"htmltooltip\", HtmlTooltipPlugin);\n",
       "    HtmlTooltipPlugin.prototype = Object.create(mpld3.Plugin.prototype);\n",
       "    HtmlTooltipPlugin.prototype.constructor = HtmlTooltipPlugin;\n",
       "    HtmlTooltipPlugin.prototype.requiredProps = [\"id\"];\n",
       "    HtmlTooltipPlugin.prototype.defaultProps = {labels:null, hoffset:0, voffset:10};\n",
       "    function HtmlTooltipPlugin(fig, props){\n",
       "        mpld3.Plugin.call(this, fig, props);\n",
       "    };\n",
       "\n",
       "    HtmlTooltipPlugin.prototype.draw = function(){\n",
       "       var obj = mpld3.get_element(this.props.id);\n",
       "       var labels = this.props.labels;\n",
       "       var tooltip = d3.select(\"body\").append(\"div\")\n",
       "                    .attr(\"class\", \"mpld3-tooltip\")\n",
       "                    .style(\"position\", \"absolute\")\n",
       "                    .style(\"z-index\", \"10\")\n",
       "                    .style(\"visibility\", \"hidden\");\n",
       "\n",
       "       obj.elements()\n",
       "           .on(\"mouseover\", function(d, i){\n",
       "                              tooltip.html(labels[i])\n",
       "                                     .style(\"visibility\", \"visible\");})\n",
       "           .on(\"mousemove\", function(d, i){\n",
       "                    tooltip\n",
       "                      .style(\"top\", d3.event.pageY + this.props.voffset + \"px\")\n",
       "                      .style(\"left\",d3.event.pageX + this.props.hoffset + \"px\");\n",
       "                 }.bind(this))\n",
       "           .on(\"mouseout\",  function(d, i){\n",
       "                           tooltip.style(\"visibility\", \"hidden\");});\n",
       "    };\n",
       "    \n",
       "    mpld3.register_plugin(\"toptoolbar\", TopToolbar);\n",
       "    TopToolbar.prototype = Object.create(mpld3.Plugin.prototype);\n",
       "    TopToolbar.prototype.constructor = TopToolbar;\n",
       "    function TopToolbar(fig, props){\n",
       "        mpld3.Plugin.call(this, fig, props);\n",
       "    };\n",
       "\n",
       "    TopToolbar.prototype.draw = function(){\n",
       "      // the toolbar svg doesn't exist\n",
       "      // yet, so first draw it\n",
       "      this.fig.toolbar.draw();\n",
       "\n",
       "      // then change the y position to be\n",
       "      // at the top of the figure\n",
       "      this.fig.toolbar.toolbar.attr(\"x\", 150);\n",
       "      this.fig.toolbar.toolbar.attr(\"y\", 400);\n",
       "\n",
       "      // then remove the draw function,\n",
       "      // so that it is not called again\n",
       "      this.fig.toolbar.draw = function() {}\n",
       "    }\n",
       "    \n",
       "    mpld3.register_plugin(\"htmltooltip\", HtmlTooltipPlugin);\n",
       "    HtmlTooltipPlugin.prototype = Object.create(mpld3.Plugin.prototype);\n",
       "    HtmlTooltipPlugin.prototype.constructor = HtmlTooltipPlugin;\n",
       "    HtmlTooltipPlugin.prototype.requiredProps = [\"id\"];\n",
       "    HtmlTooltipPlugin.prototype.defaultProps = {labels:null, hoffset:0, voffset:10};\n",
       "    function HtmlTooltipPlugin(fig, props){\n",
       "        mpld3.Plugin.call(this, fig, props);\n",
       "    };\n",
       "\n",
       "    HtmlTooltipPlugin.prototype.draw = function(){\n",
       "       var obj = mpld3.get_element(this.props.id);\n",
       "       var labels = this.props.labels;\n",
       "       var tooltip = d3.select(\"body\").append(\"div\")\n",
       "                    .attr(\"class\", \"mpld3-tooltip\")\n",
       "                    .style(\"position\", \"absolute\")\n",
       "                    .style(\"z-index\", \"10\")\n",
       "                    .style(\"visibility\", \"hidden\");\n",
       "\n",
       "       obj.elements()\n",
       "           .on(\"mouseover\", function(d, i){\n",
       "                              tooltip.html(labels[i])\n",
       "                                     .style(\"visibility\", \"visible\");})\n",
       "           .on(\"mousemove\", function(d, i){\n",
       "                    tooltip\n",
       "                      .style(\"top\", d3.event.pageY + this.props.voffset + \"px\")\n",
       "                      .style(\"left\",d3.event.pageX + this.props.hoffset + \"px\");\n",
       "                 }.bind(this))\n",
       "           .on(\"mouseout\",  function(d, i){\n",
       "                           tooltip.style(\"visibility\", \"hidden\");});\n",
       "    };\n",
       "    \n",
       "    mpld3.register_plugin(\"toptoolbar\", TopToolbar);\n",
       "    TopToolbar.prototype = Object.create(mpld3.Plugin.prototype);\n",
       "    TopToolbar.prototype.constructor = TopToolbar;\n",
       "    function TopToolbar(fig, props){\n",
       "        mpld3.Plugin.call(this, fig, props);\n",
       "    };\n",
       "\n",
       "    TopToolbar.prototype.draw = function(){\n",
       "      // the toolbar svg doesn't exist\n",
       "      // yet, so first draw it\n",
       "      this.fig.toolbar.draw();\n",
       "\n",
       "      // then change the y position to be\n",
       "      // at the top of the figure\n",
       "      this.fig.toolbar.toolbar.attr(\"x\", 150);\n",
       "      this.fig.toolbar.toolbar.attr(\"y\", 400);\n",
       "\n",
       "      // then remove the draw function,\n",
       "      // so that it is not called again\n",
       "      this.fig.toolbar.draw = function() {}\n",
       "    }\n",
       "    \n",
       "    mpld3.register_plugin(\"htmltooltip\", HtmlTooltipPlugin);\n",
       "    HtmlTooltipPlugin.prototype = Object.create(mpld3.Plugin.prototype);\n",
       "    HtmlTooltipPlugin.prototype.constructor = HtmlTooltipPlugin;\n",
       "    HtmlTooltipPlugin.prototype.requiredProps = [\"id\"];\n",
       "    HtmlTooltipPlugin.prototype.defaultProps = {labels:null, hoffset:0, voffset:10};\n",
       "    function HtmlTooltipPlugin(fig, props){\n",
       "        mpld3.Plugin.call(this, fig, props);\n",
       "    };\n",
       "\n",
       "    HtmlTooltipPlugin.prototype.draw = function(){\n",
       "       var obj = mpld3.get_element(this.props.id);\n",
       "       var labels = this.props.labels;\n",
       "       var tooltip = d3.select(\"body\").append(\"div\")\n",
       "                    .attr(\"class\", \"mpld3-tooltip\")\n",
       "                    .style(\"position\", \"absolute\")\n",
       "                    .style(\"z-index\", \"10\")\n",
       "                    .style(\"visibility\", \"hidden\");\n",
       "\n",
       "       obj.elements()\n",
       "           .on(\"mouseover\", function(d, i){\n",
       "                              tooltip.html(labels[i])\n",
       "                                     .style(\"visibility\", \"visible\");})\n",
       "           .on(\"mousemove\", function(d, i){\n",
       "                    tooltip\n",
       "                      .style(\"top\", d3.event.pageY + this.props.voffset + \"px\")\n",
       "                      .style(\"left\",d3.event.pageX + this.props.hoffset + \"px\");\n",
       "                 }.bind(this))\n",
       "           .on(\"mouseout\",  function(d, i){\n",
       "                           tooltip.style(\"visibility\", \"hidden\");});\n",
       "    };\n",
       "    \n",
       "    mpld3.register_plugin(\"toptoolbar\", TopToolbar);\n",
       "    TopToolbar.prototype = Object.create(mpld3.Plugin.prototype);\n",
       "    TopToolbar.prototype.constructor = TopToolbar;\n",
       "    function TopToolbar(fig, props){\n",
       "        mpld3.Plugin.call(this, fig, props);\n",
       "    };\n",
       "\n",
       "    TopToolbar.prototype.draw = function(){\n",
       "      // the toolbar svg doesn't exist\n",
       "      // yet, so first draw it\n",
       "      this.fig.toolbar.draw();\n",
       "\n",
       "      // then change the y position to be\n",
       "      // at the top of the figure\n",
       "      this.fig.toolbar.toolbar.attr(\"x\", 150);\n",
       "      this.fig.toolbar.toolbar.attr(\"y\", 400);\n",
       "\n",
       "      // then remove the draw function,\n",
       "      // so that it is not called again\n",
       "      this.fig.toolbar.draw = function() {}\n",
       "    }\n",
       "    \n",
       "    mpld3.register_plugin(\"htmltooltip\", HtmlTooltipPlugin);\n",
       "    HtmlTooltipPlugin.prototype = Object.create(mpld3.Plugin.prototype);\n",
       "    HtmlTooltipPlugin.prototype.constructor = HtmlTooltipPlugin;\n",
       "    HtmlTooltipPlugin.prototype.requiredProps = [\"id\"];\n",
       "    HtmlTooltipPlugin.prototype.defaultProps = {labels:null, hoffset:0, voffset:10};\n",
       "    function HtmlTooltipPlugin(fig, props){\n",
       "        mpld3.Plugin.call(this, fig, props);\n",
       "    };\n",
       "\n",
       "    HtmlTooltipPlugin.prototype.draw = function(){\n",
       "       var obj = mpld3.get_element(this.props.id);\n",
       "       var labels = this.props.labels;\n",
       "       var tooltip = d3.select(\"body\").append(\"div\")\n",
       "                    .attr(\"class\", \"mpld3-tooltip\")\n",
       "                    .style(\"position\", \"absolute\")\n",
       "                    .style(\"z-index\", \"10\")\n",
       "                    .style(\"visibility\", \"hidden\");\n",
       "\n",
       "       obj.elements()\n",
       "           .on(\"mouseover\", function(d, i){\n",
       "                              tooltip.html(labels[i])\n",
       "                                     .style(\"visibility\", \"visible\");})\n",
       "           .on(\"mousemove\", function(d, i){\n",
       "                    tooltip\n",
       "                      .style(\"top\", d3.event.pageY + this.props.voffset + \"px\")\n",
       "                      .style(\"left\",d3.event.pageX + this.props.hoffset + \"px\");\n",
       "                 }.bind(this))\n",
       "           .on(\"mouseout\",  function(d, i){\n",
       "                           tooltip.style(\"visibility\", \"hidden\");});\n",
       "    };\n",
       "    \n",
       "    mpld3.register_plugin(\"toptoolbar\", TopToolbar);\n",
       "    TopToolbar.prototype = Object.create(mpld3.Plugin.prototype);\n",
       "    TopToolbar.prototype.constructor = TopToolbar;\n",
       "    function TopToolbar(fig, props){\n",
       "        mpld3.Plugin.call(this, fig, props);\n",
       "    };\n",
       "\n",
       "    TopToolbar.prototype.draw = function(){\n",
       "      // the toolbar svg doesn't exist\n",
       "      // yet, so first draw it\n",
       "      this.fig.toolbar.draw();\n",
       "\n",
       "      // then change the y position to be\n",
       "      // at the top of the figure\n",
       "      this.fig.toolbar.toolbar.attr(\"x\", 150);\n",
       "      this.fig.toolbar.toolbar.attr(\"y\", 400);\n",
       "\n",
       "      // then remove the draw function,\n",
       "      // so that it is not called again\n",
       "      this.fig.toolbar.draw = function() {}\n",
       "    }\n",
       "    \n",
       "    mpld3.register_plugin(\"htmltooltip\", HtmlTooltipPlugin);\n",
       "    HtmlTooltipPlugin.prototype = Object.create(mpld3.Plugin.prototype);\n",
       "    HtmlTooltipPlugin.prototype.constructor = HtmlTooltipPlugin;\n",
       "    HtmlTooltipPlugin.prototype.requiredProps = [\"id\"];\n",
       "    HtmlTooltipPlugin.prototype.defaultProps = {labels:null, hoffset:0, voffset:10};\n",
       "    function HtmlTooltipPlugin(fig, props){\n",
       "        mpld3.Plugin.call(this, fig, props);\n",
       "    };\n",
       "\n",
       "    HtmlTooltipPlugin.prototype.draw = function(){\n",
       "       var obj = mpld3.get_element(this.props.id);\n",
       "       var labels = this.props.labels;\n",
       "       var tooltip = d3.select(\"body\").append(\"div\")\n",
       "                    .attr(\"class\", \"mpld3-tooltip\")\n",
       "                    .style(\"position\", \"absolute\")\n",
       "                    .style(\"z-index\", \"10\")\n",
       "                    .style(\"visibility\", \"hidden\");\n",
       "\n",
       "       obj.elements()\n",
       "           .on(\"mouseover\", function(d, i){\n",
       "                              tooltip.html(labels[i])\n",
       "                                     .style(\"visibility\", \"visible\");})\n",
       "           .on(\"mousemove\", function(d, i){\n",
       "                    tooltip\n",
       "                      .style(\"top\", d3.event.pageY + this.props.voffset + \"px\")\n",
       "                      .style(\"left\",d3.event.pageX + this.props.hoffset + \"px\");\n",
       "                 }.bind(this))\n",
       "           .on(\"mouseout\",  function(d, i){\n",
       "                           tooltip.style(\"visibility\", \"hidden\");});\n",
       "    };\n",
       "    \n",
       "    mpld3.register_plugin(\"toptoolbar\", TopToolbar);\n",
       "    TopToolbar.prototype = Object.create(mpld3.Plugin.prototype);\n",
       "    TopToolbar.prototype.constructor = TopToolbar;\n",
       "    function TopToolbar(fig, props){\n",
       "        mpld3.Plugin.call(this, fig, props);\n",
       "    };\n",
       "\n",
       "    TopToolbar.prototype.draw = function(){\n",
       "      // the toolbar svg doesn't exist\n",
       "      // yet, so first draw it\n",
       "      this.fig.toolbar.draw();\n",
       "\n",
       "      // then change the y position to be\n",
       "      // at the top of the figure\n",
       "      this.fig.toolbar.toolbar.attr(\"x\", 150);\n",
       "      this.fig.toolbar.toolbar.attr(\"y\", 400);\n",
       "\n",
       "      // then remove the draw function,\n",
       "      // so that it is not called again\n",
       "      this.fig.toolbar.draw = function() {}\n",
       "    }\n",
       "    \n",
       "       mpld3.draw_figure(\"fig_el9595853750945446552526953\", {\"axes\": [{\"xlim\": [-1.1168828407897538, 1.1255764791570526], \"yscale\": \"linear\", \"axesbg\": \"none\", \"texts\": [{\"v_baseline\": \"auto\", \"h_anchor\": \"start\", \"color\": \"#262626\", \"text\": \"None\", \"coordinates\": \"axes\", \"zorder\": 1000003.0, \"alpha\": 1, \"fontsize\": 10.0, \"position\": [-0.16129032258064518, -0.16129032258064518], \"rotation\": -0.0, \"id\": \"el959585415973840\"}, {\"v_baseline\": \"auto\", \"h_anchor\": \"start\", \"color\": \"#262626\", \"text\": \"int, dx, integral, infty\", \"coordinates\": \"axes\", \"zorder\": 1000003.0, \"alpha\": 1, \"fontsize\": 11.0, \"position\": [0.0607825567502987, 0.21415770609319001], \"rotation\": -0.0, \"id\": \"el959585412420688\"}, {\"v_baseline\": \"auto\", \"h_anchor\": \"start\", \"color\": \"#262626\", \"text\": \"sin, cos, theta, pi, sin\", \"coordinates\": \"axes\", \"zorder\": 1000003.0, \"alpha\": 1, \"fontsize\": 11.0, \"position\": [0.0607825567502987, 0.16935483870967749], \"rotation\": -0.0, \"id\": \"el959585411695248\"}, {\"v_baseline\": \"auto\", \"h_anchor\": \"start\", \"color\": \"#262626\", \"text\": \"nt, function, know, solve, use\", \"coordinates\": \"axes\", \"zorder\": 1000003.0, \"alpha\": 1, \"fontsize\": 11.0, \"position\": [0.0607825567502987, 0.12455197132616491], \"rotation\": -0.0, \"id\": \"el959585410735824\"}, {\"v_baseline\": \"auto\", \"h_anchor\": \"start\", \"color\": \"#262626\", \"text\": \"log, ln, logarithm, square, sqrt\", \"coordinates\": \"axes\", \"zorder\": 1000003.0, \"alpha\": 1, \"fontsize\": 11.0, \"position\": [0.0607825567502987, 0.079749103942652388], \"rotation\": -0.0, \"id\": \"el959585411492368\"}, {\"v_baseline\": \"auto\", \"h_anchor\": \"start\", \"color\": \"#262626\", \"text\": \"points, angle, line, triangle, circle, length\", \"coordinates\": \"axes\", \"zorder\": 1000003.0, \"alpha\": 1, \"fontsize\": 11.0, \"position\": [0.0607825567502987, 0.034946236559139809], \"rotation\": -0.0, \"id\": \"el959585410418768\"}], \"zoomable\": true, \"images\": [], \"xdomain\": [-1.1168828407897538, 1.1255764791570526], \"ylim\": [-1.1132274098712966, 1.1098107406827971], \"paths\": [{\"edgecolor\": \"#FFFFFF\", \"facecolor\": \"none\", \"edgewidth\": 0.3, \"pathcodes\": [\"M\", \"L\", \"L\", \"L\", \"Z\"], \"yindex\": 1, \"coordinates\": \"axes\", \"dasharray\": \"10,0\", \"zorder\": 1000001.0, \"alpha\": 1, \"xindex\": 0, \"data\": \"data07\", \"id\": \"el959585415574352\"}], \"sharey\": [], \"sharex\": [], \"axesbgalpha\": null, \"axes\": [{\"scale\": \"linear\", \"tickformat\": \"\", \"grid\": {\"gridOn\": false}, \"fontsize\": null, \"position\": \"bottom\", \"nticks\": 0, \"tickvalues\": []}, {\"scale\": \"linear\", \"tickformat\": \"\", \"grid\": {\"gridOn\": false}, \"fontsize\": null, \"position\": \"left\", \"nticks\": 0, \"tickvalues\": []}], \"lines\": [], \"markers\": [{\"edgecolor\": \"none\", \"facecolor\": \"#0070FF\", \"edgewidth\": 0.0, \"yindex\": 1, \"coordinates\": \"data\", \"zorder\": 2, \"markerpath\": [[[0.0, 4.5], [1.19341395, 4.5], [2.3381094185318405, 4.025851612147088], [3.1819805153394642, 3.1819805153394642], [4.025851612147088, 2.3381094185318405], [4.5, 1.19341395], [4.5, 0.0], [4.5, -1.19341395], [4.025851612147088, -2.3381094185318405], [3.1819805153394642, -3.1819805153394642], [2.3381094185318405, -4.025851612147088], [1.19341395, -4.5], [0.0, -4.5], [-1.19341395, -4.5], [-2.3381094185318405, -4.025851612147088], [-3.1819805153394642, -3.1819805153394642], [-4.025851612147088, -2.3381094185318405], [-4.5, -1.19341395], [-4.5, 0.0], [-4.5, 1.19341395], [-4.025851612147088, 2.3381094185318405], [-3.1819805153394642, 3.1819805153394642], [-2.3381094185318405, 4.025851612147088], [-1.19341395, 4.5], [0.0, 4.5]], [\"M\", \"C\", \"C\", \"C\", \"C\", \"C\", \"C\", \"C\", \"C\", \"Z\"]], \"alpha\": 1, \"xindex\": 0, \"data\": \"data01\", \"id\": \"el959585372227856pts\"}, {\"edgecolor\": \"none\", \"facecolor\": \"#FFBF00\", \"edgewidth\": 0.0, \"yindex\": 1, \"coordinates\": \"data\", \"zorder\": 2, \"markerpath\": [[[0.0, 4.5], [1.19341395, 4.5], [2.3381094185318405, 4.025851612147088], [3.1819805153394642, 3.1819805153394642], [4.025851612147088, 2.3381094185318405], [4.5, 1.19341395], [4.5, 0.0], [4.5, -1.19341395], [4.025851612147088, -2.3381094185318405], [3.1819805153394642, -3.1819805153394642], [2.3381094185318405, -4.025851612147088], [1.19341395, -4.5], [0.0, -4.5], [-1.19341395, -4.5], [-2.3381094185318405, -4.025851612147088], [-3.1819805153394642, -3.1819805153394642], [-4.025851612147088, -2.3381094185318405], [-4.5, -1.19341395], [-4.5, 0.0], [-4.5, 1.19341395], [-4.025851612147088, 2.3381094185318405], [-3.1819805153394642, 3.1819805153394642], [-2.3381094185318405, 4.025851612147088], [-1.19341395, 4.5], [0.0, 4.5]], [\"M\", \"C\", \"C\", \"C\", \"C\", \"C\", \"C\", \"C\", \"C\", \"Z\"]], \"alpha\": 1, \"xindex\": 0, \"data\": \"data02\", \"id\": \"el959585415571856pts\"}, {\"edgecolor\": \"none\", \"facecolor\": \"#7570B3\", \"edgewidth\": 0.0, \"yindex\": 1, \"coordinates\": \"data\", \"zorder\": 2, \"markerpath\": [[[0.0, 4.5], [1.19341395, 4.5], [2.3381094185318405, 4.025851612147088], [3.1819805153394642, 3.1819805153394642], [4.025851612147088, 2.3381094185318405], [4.5, 1.19341395], [4.5, 0.0], [4.5, -1.19341395], [4.025851612147088, -2.3381094185318405], [3.1819805153394642, -3.1819805153394642], [2.3381094185318405, -4.025851612147088], [1.19341395, -4.5], [0.0, -4.5], [-1.19341395, -4.5], [-2.3381094185318405, -4.025851612147088], [-3.1819805153394642, -3.1819805153394642], [-4.025851612147088, -2.3381094185318405], [-4.5, -1.19341395], [-4.5, 0.0], [-4.5, 1.19341395], [-4.025851612147088, 2.3381094185318405], [-3.1819805153394642, 3.1819805153394642], [-2.3381094185318405, 4.025851612147088], [-1.19341395, 4.5], [0.0, 4.5]], [\"M\", \"C\", \"C\", \"C\", \"C\", \"C\", \"C\", \"C\", \"C\", \"Z\"]], \"alpha\": 1, \"xindex\": 0, \"data\": \"data03\", \"id\": \"el959585414734032pts\"}, {\"edgecolor\": \"none\", \"facecolor\": \"#E7298A\", \"edgewidth\": 0.0, \"yindex\": 1, \"coordinates\": \"data\", \"zorder\": 2, \"markerpath\": [[[0.0, 4.5], [1.19341395, 4.5], [2.3381094185318405, 4.025851612147088], [3.1819805153394642, 3.1819805153394642], [4.025851612147088, 2.3381094185318405], [4.5, 1.19341395], [4.5, 0.0], [4.5, -1.19341395], [4.025851612147088, -2.3381094185318405], [3.1819805153394642, -3.1819805153394642], [2.3381094185318405, -4.025851612147088], [1.19341395, -4.5], [0.0, -4.5], [-1.19341395, -4.5], [-2.3381094185318405, -4.025851612147088], [-3.1819805153394642, -3.1819805153394642], [-4.025851612147088, -2.3381094185318405], [-4.5, -1.19341395], [-4.5, 0.0], [-4.5, 1.19341395], [-4.025851612147088, 2.3381094185318405], [-3.1819805153394642, 3.1819805153394642], [-2.3381094185318405, 4.025851612147088], [-1.19341395, 4.5], [0.0, 4.5]], [\"M\", \"C\", \"C\", \"C\", \"C\", \"C\", \"C\", \"C\", \"C\", \"Z\"]], \"alpha\": 1, \"xindex\": 0, \"data\": \"data04\", \"id\": \"el959585418505360pts\"}, {\"edgecolor\": \"none\", \"facecolor\": \"#66A61E\", \"edgewidth\": 0.0, \"yindex\": 1, \"coordinates\": \"data\", \"zorder\": 2, \"markerpath\": [[[0.0, 4.5], [1.19341395, 4.5], [2.3381094185318405, 4.025851612147088], [3.1819805153394642, 3.1819805153394642], [4.025851612147088, 2.3381094185318405], [4.5, 1.19341395], [4.5, 0.0], [4.5, -1.19341395], [4.025851612147088, -2.3381094185318405], [3.1819805153394642, -3.1819805153394642], [2.3381094185318405, -4.025851612147088], [1.19341395, -4.5], [0.0, -4.5], [-1.19341395, -4.5], [-2.3381094185318405, -4.025851612147088], [-3.1819805153394642, -3.1819805153394642], [-4.025851612147088, -2.3381094185318405], [-4.5, -1.19341395], [-4.5, 0.0], [-4.5, 1.19341395], [-4.025851612147088, 2.3381094185318405], [-3.1819805153394642, 3.1819805153394642], [-2.3381094185318405, 4.025851612147088], [-1.19341395, 4.5], [0.0, 4.5]], [\"M\", \"C\", \"C\", \"C\", \"C\", \"C\", \"C\", \"C\", \"C\", \"Z\"]], \"alpha\": 1, \"xindex\": 0, \"data\": \"data05\", \"id\": \"el959585408126160pts\"}, {\"edgecolor\": \"none\", \"facecolor\": \"#0070FF\", \"edgewidth\": 0.0, \"yindex\": 1, \"coordinates\": \"axes\", \"zorder\": 1000002.0, \"markerpath\": [[[0.0, 4.5], [1.19341395, 4.5], [2.3381094185318405, 4.025851612147088], [3.1819805153394642, 3.1819805153394642], [4.025851612147088, 2.3381094185318405], [4.5, 1.19341395], [4.5, 0.0], [4.5, -1.19341395], [4.025851612147088, -2.3381094185318405], [3.1819805153394642, -3.1819805153394642], [2.3381094185318405, -4.025851612147088], [1.19341395, -4.5], [0.0, -4.5], [-1.19341395, -4.5], [-2.3381094185318405, -4.025851612147088], [-3.1819805153394642, -3.1819805153394642], [-4.025851612147088, -2.3381094185318405], [-4.5, -1.19341395], [-4.5, 0.0], [-4.5, 1.19341395], [-4.025851612147088, 2.3381094185318405], [-3.1819805153394642, 3.1819805153394642], [-2.3381094185318405, 4.025851612147088], [-1.19341395, 4.5], [0.0, 4.5]], [\"M\", \"C\", \"C\", \"C\", \"C\", \"C\", \"C\", \"C\", \"C\", \"Z\"]], \"alpha\": 1, \"xindex\": 0, \"data\": \"data06\", \"id\": \"el959585407768336pts\"}, {\"edgecolor\": \"none\", \"facecolor\": \"#FFBF00\", \"edgewidth\": 0.0, \"yindex\": 2, \"coordinates\": \"axes\", \"zorder\": 1000002.0, \"markerpath\": [[[0.0, 4.5], [1.19341395, 4.5], [2.3381094185318405, 4.025851612147088], [3.1819805153394642, 3.1819805153394642], [4.025851612147088, 2.3381094185318405], [4.5, 1.19341395], [4.5, 0.0], [4.5, -1.19341395], [4.025851612147088, -2.3381094185318405], [3.1819805153394642, -3.1819805153394642], [2.3381094185318405, -4.025851612147088], [1.19341395, -4.5], [0.0, -4.5], [-1.19341395, -4.5], [-2.3381094185318405, -4.025851612147088], [-3.1819805153394642, -3.1819805153394642], [-4.025851612147088, -2.3381094185318405], [-4.5, -1.19341395], [-4.5, 0.0], [-4.5, 1.19341395], [-4.025851612147088, 2.3381094185318405], [-3.1819805153394642, 3.1819805153394642], [-2.3381094185318405, 4.025851612147088], [-1.19341395, 4.5], [0.0, 4.5]], [\"M\", \"C\", \"C\", \"C\", \"C\", \"C\", \"C\", \"C\", \"C\", \"Z\"]], \"alpha\": 1, \"xindex\": 0, \"data\": \"data06\", \"id\": \"el959585410735120pts\"}, {\"edgecolor\": \"none\", \"facecolor\": \"#7570B3\", \"edgewidth\": 0.0, \"yindex\": 3, \"coordinates\": \"axes\", \"zorder\": 1000002.0, \"markerpath\": [[[0.0, 4.5], [1.19341395, 4.5], [2.3381094185318405, 4.025851612147088], [3.1819805153394642, 3.1819805153394642], [4.025851612147088, 2.3381094185318405], [4.5, 1.19341395], [4.5, 0.0], [4.5, -1.19341395], [4.025851612147088, -2.3381094185318405], [3.1819805153394642, -3.1819805153394642], [2.3381094185318405, -4.025851612147088], [1.19341395, -4.5], [0.0, -4.5], [-1.19341395, -4.5], [-2.3381094185318405, -4.025851612147088], [-3.1819805153394642, -3.1819805153394642], [-4.025851612147088, -2.3381094185318405], [-4.5, -1.19341395], [-4.5, 0.0], [-4.5, 1.19341395], [-4.025851612147088, 2.3381094185318405], [-3.1819805153394642, 3.1819805153394642], [-2.3381094185318405, 4.025851612147088], [-1.19341395, 4.5], [0.0, 4.5]], [\"M\", \"C\", \"C\", \"C\", \"C\", \"C\", \"C\", \"C\", \"C\", \"Z\"]], \"alpha\": 1, \"xindex\": 0, \"data\": \"data06\", \"id\": \"el959585415812880pts\"}, {\"edgecolor\": \"none\", \"facecolor\": \"#E7298A\", \"edgewidth\": 0.0, \"yindex\": 4, \"coordinates\": \"axes\", \"zorder\": 1000002.0, \"markerpath\": [[[0.0, 4.5], [1.19341395, 4.5], [2.3381094185318405, 4.025851612147088], [3.1819805153394642, 3.1819805153394642], [4.025851612147088, 2.3381094185318405], [4.5, 1.19341395], [4.5, 0.0], [4.5, -1.19341395], [4.025851612147088, -2.3381094185318405], [3.1819805153394642, -3.1819805153394642], [2.3381094185318405, -4.025851612147088], [1.19341395, -4.5], [0.0, -4.5], [-1.19341395, -4.5], [-2.3381094185318405, -4.025851612147088], [-3.1819805153394642, -3.1819805153394642], [-4.025851612147088, -2.3381094185318405], [-4.5, -1.19341395], [-4.5, 0.0], [-4.5, 1.19341395], [-4.025851612147088, 2.3381094185318405], [-3.1819805153394642, 3.1819805153394642], [-2.3381094185318405, 4.025851612147088], [-1.19341395, 4.5], [0.0, 4.5]], [\"M\", \"C\", \"C\", \"C\", \"C\", \"C\", \"C\", \"C\", \"C\", \"Z\"]], \"alpha\": 1, \"xindex\": 0, \"data\": \"data06\", \"id\": \"el959585410421840pts\"}, {\"edgecolor\": \"none\", \"facecolor\": \"#66A61E\", \"edgewidth\": 0.0, \"yindex\": 5, \"coordinates\": \"axes\", \"zorder\": 1000002.0, \"markerpath\": [[[0.0, 4.5], [1.19341395, 4.5], [2.3381094185318405, 4.025851612147088], [3.1819805153394642, 3.1819805153394642], [4.025851612147088, 2.3381094185318405], [4.5, 1.19341395], [4.5, 0.0], [4.5, -1.19341395], [4.025851612147088, -2.3381094185318405], [3.1819805153394642, -3.1819805153394642], [2.3381094185318405, -4.025851612147088], [1.19341395, -4.5], [0.0, -4.5], [-1.19341395, -4.5], [-2.3381094185318405, -4.025851612147088], [-3.1819805153394642, -3.1819805153394642], [-4.025851612147088, -2.3381094185318405], [-4.5, -1.19341395], [-4.5, 0.0], [-4.5, 1.19341395], [-4.025851612147088, 2.3381094185318405], [-3.1819805153394642, 3.1819805153394642], [-2.3381094185318405, 4.025851612147088], [-1.19341395, 4.5], [0.0, 4.5]], [\"M\", \"C\", \"C\", \"C\", \"C\", \"C\", \"C\", \"C\", \"C\", \"Z\"]], \"alpha\": 1, \"xindex\": 0, \"data\": \"data06\", \"id\": \"el959585418555472pts\"}], \"id\": \"el959585407562896\", \"ydomain\": [-1.1132274098712966, 1.1098107406827971], \"collections\": [], \"xscale\": \"linear\", \"bbox\": [0.125, 0.125, 0.77500000000000002, 0.77500000000000002]}], \"height\": 480.0, \"width\": 960.0, \"plugins\": [{\"type\": \"reset\"}, {\"enabled\": false, \"button\": true, \"type\": \"zoom\"}, {\"enabled\": false, \"button\": true, \"type\": \"boxzoom\"}, {\"voffset\": 10, \"labels\": [\"What is $\\\\cot(\\\\pi/2)$?\", \"Is $\\\\int_a^b f(x) dx = \\\\int_{f(a)}^{f(b)} f^{-1}(x) dy$?\", \"Derivation of Rational Expression\", \"Computing the integral of $e^{-x^2}$ over the entire line\", \"Find Equation of a normal to a curve - Where is my mistake?\", \"evaluation of limit $\\\\lim_{n\\\\rightarrow \\\\infty}\\\\left(\\\\frac{n!}{n^n}\\\\right)^{\\\\frac{1}{n}}$\", \"Integration by Parts via Tabular Integration, where am I wrong?\", \"Integrating $\\\\int{3\\\\sin^2x\\\\cos x \\\\;dx}$\", \"Difficult integration problem (unique headline)\", \"Using trig substitution to solve for integration?\", \"Differentiating under Integral sign for all n\", \"A problem in continuity of f(x)\", \"Why am I not getting an infinite limit?\", \"What technique of integration is applicable for this?\", \"Maclaurin polynomial of $\\\\ln(1+x)$\", \"integration by parts of $x f(x)f'(x)$\", \"How can I find $\\\\int\\\\tan\\\\;x\\\\;\\\\cos\\\\;2x\\\\;\\\\mathrm dx$?\", \"Parametric problem (differentiation under the integral sign)\", \"integral representation\", \"Calculus question on application of the quotient rule\", \"Evaluate the given integral\", \"Integral calculus by part or with complex numbers\", \"How do I use substitution in integrals?\", \"Indefinite Integral $\\\\int \\\\sin (x) \\\\ln (\\\\tan (x))dx$\", \"Constants of integration in integration by parts\", \"Evaluation of $\\\\int\\\\frac{1}{(x^3+1)^2}\\\\mathrm dx \\\\cdots$\", \"why does integration by parts give a different answer\", \"Simple Calculus with PDEs\", \"How to integrate a function that has no exact integration and cannot be expanded by a Taylor series\", \"Calculate:$\\\\int \\\\frac{1}{(x+1)^\\\\frac{3}{4}(x+2)^{\\\\frac{5}{4}}}\\\\ dx$\", \"Stuck in definite integral of a function\", \"Prove the reduction formula\", \"integrate $\\\\int{\\\\sin(x)\\\\cos(2x)dx}$\", \"Prove that $\\\\int_0^{\\\\infty}\\\\left(\\\\frac{\\\\log (1+x)}{x}\\\\right)^2dx$ converges.\", \"Proving the reduction formula\", \"Why are the units Radians? Related rates with an angle and $\\\\frac{d\\\\theta}{dt}$\", \"Confused with Leibniz notation of a derivative\", \"Evaluate $\\\\int_{1}^{2}\\\\frac{x}{(x^2-3)^2}\\\\mathrm dx$\", \"Simple Partial Fractions Question\", \"calculus - possible u sub or trig sub\", \"Separation of an integral\", \"need help on this fraction equation $2/5 = 2/3 - r/5$\", \"What is Leibnitz rule for a double integral?\", \"Integrate difference of exponentials\", \"Consider the function $f(x)=\\\\tan(\\\\frac{\\\\pi x}{2})$ and $g(x)=\\\\frac12\\\\sec(\\\\frac{\\\\pi x}{2})$\", \"Partial Fraction Decomposition Problem... half answered...\", \"How do I solve this integral (volume of a torus)?\", \"factorisation of algebra\", \"How to solve the integral $\\\\frac{d}{dx} \\\\int_0^{7x^2} \\\\frac{t}{t+66}\\\\ dt$\", \"Series Problem in Stewart's Calculus Book\", \"Tricky Gaussian\", \"Interpretation of an integral involving two curves\", \"Evaluating: $\\\\int^{n}_{1}[\\\\ln(x) - \\\\ln(\\\\lfloor x \\\\rfloor)] dx $\", \"Distance point on ellipse to centre\", \"Problem with integrating by parts\", \"Very basic line integrals (worked out)\", \"Calculating the following integral:\", \"Evaluating $\\\\int\\\\sqrt{1 + \\\\frac1{x^2}}\\\\mathrm dx$\", \"Integral calculus\", \"trigonometric function integration\", \"Limit of Functions Using $\\\\lim_{n\\\\to\\\\infty} (1+\\\\frac{x}{n}) ^n = e^x $\", \"How to integrate these two?\", \"Given a relation between two variables, find another.\", \"derivative $\\\\frac{d}{dt} \\\\left[ \\\\frac{-2}{\\\\dot{x}^3} + \\\\frac{-2x^2}{\\\\dot{x}^3} \\\\right]$\", \"$\\\\int_0^{1/2} \\\\cos^{-1} x \\\\, dx$ using integration by parts.\", \"Spivak's Calculus Chapter 11, Problem 39 (a)\", \"Simple Integral Involving Radicals: Why Does Mathematica Fail?\", \"Does this inequality hold in general?\", \"Total derivative of scalar function with respect to a vector\", \"Is my answer to this trig question correct\", \"Showing an Integral Exists\", \"Differential calculus: word problem\", \"Forget about the sin and cos functions, show that $(x-x^3/3!+x^5/5!-x^7/7!+...)^2+ (1-x^2/2!+x^4/4!-x^6/6!+...)^2=1$.\", \"Following integral?\", \"Integration of a trigonometric function\", \"How to integrate fraction\", \"How to determine solutions: $\\\\;2^x=3^y=36^{-z}\\\\; \\\\implies \\\\frac1x +\\\\frac 1y +\\\\frac 1{2z} = \\\\quad ?$\", \"Compute $\\\\int_{-\\\\pi}^\\\\pi{x^2\\\\sin\\\\frac{x}{2}dx}$\", \"How to evaluate this definite integral $\\\\int_0^2(1-x^2)^\\\\frac{1}{3}~dx$\", \"Applying The Cauchy-Schwarz Inequality\", \"Need help with a power equation\", \"Reducing to exact form by integrating factor\", \"Definite Integrals problem\", \"Problem with trigonometric substitution proof\", \"How to calculate the following integral?\", \"To evaluate $\\\\int_0^{\\\\frac{\\\\pi}2} \\\\frac{\\\\cos x}{x+2} dx $ and $\\\\int_0^4{\\\\frac{\\\\sin x \\\\cos x}{(x+1)^2}} dx$\", \"What property allows me to integrate a gaussian function?\", \"Help with evaluating $\\\\frac{1}{\\\\pi} \\\\int_{-\\\\infty}^\\\\infty exp(-iwx) g(x) dx $\", \"Derivative of double integral over Region\", \"How to caluclate the integral of $\\\\int \\\\frac{1}{\\\\sqrt{4x^{2}+1}}dx$ using a trig substitution?\", \"How to integrate $\\\\frac{1}{x^4\\\\sqrt{(x^2+3)}}$\", \"Integral of $\\\\int \\\\tan^4 x \\\\, \\\\sec^6 x dx$\", \"How can I integrate $\\\\int_{2}^{\\\\infty}\\\\frac{\\\\ln x}{x^3}\\\\,\\\\mathrm dx$\", \"Need help evaluating the definite integral.\", \"How to integrate this function\", \"How do I solve for $dy/dx$ if $y=\\\\ln (\\\\sin x+\\\\ln x)$?\", \"Integration using different substitutions resulting in different answers?\", \"Integrating an equation with both cos and tan\", \"A transform function from $(-\\\\infty, \\\\infty)$ to $(t_0, \\\\infty)$?\", \"Integral relationship problem\", \"Integral of gaussian and sine/cosine\", \"What exactly happens in the algebraic steps here?\", \"Leibniz Integral Rule\", \"How to integrate by parts and $u$-sub $8 \\\\ln(\\\\sqrt[3]{x})$?\", \"Another parametric integral relating to hyperbolic function\", \"$\\\\frac{\\\\frac{dx}{dt}}{\\\\frac{dy}{dt}}$, for $x(t),y(t)$\", \"$\\\\int \\\\frac{x^3}{x^3-a^3} \\\\, dx$\", \"i cant find this integral $\\\\int_0^1 x^{-x} \\\\mathrm{dx}$\", \"How to prove $ \\\\int \\\\sqrt{a^2-u^2}du $\", \"Work required to pump water out of a tank in the shape of a right circular cone\", \"How to prove $\\\\int_0^1 \\\\frac{\\\\arctan( a x)}{x \\\\sqrt{1 - x^2}} dx = \\\\frac{\\\\pi}{2} \\\\ln (a + \\\\sqrt{1 + a^2})$?\", \"Prove some identites.\", \"AM-GM application\", \"Double checking my progress on finding critical numbers\", \"Integral $\\\\int_{-\\\\infty}^{\\\\infty}\\\\frac{\\\\mathrm dx}{(ax^2+2bx+c)^{\\\\alpha}}$\", \"Differentiation of improper integral\", \"Definite integral resolution\", \"Integration Formula\", \"How to evaluate the definite integral?\", \"Conversion a three-dimensional integral into a one-dimensional one\", \"Integral Equation $\\\\int_{-\\\\infty}^\\\\infty \\\\frac{f(y)}{1+(x-y)^2}\\\\mathrm dy =0 \\\\quad \\\\forall x$\", \"Can't figure out a way to integrate $\\\\int_{A}\\\\log(\\\\sin(x-y))dx dy$\", \"the smallest value of $\\\\alpha$\", \"Integration: How to Begin?\", \"Instantaneous relative growth\", \"Implicit diff on $\\\\frac{2x}{y} - \\\\frac{3y}{x} = 8$\", \"Show $\\\\lim_{\\\\lambda \\\\to \\\\infty} \\\\ \\\\frac{S}{hs} = 4 \\\\pi$\", \"Integration by parts: $\\\\int xe^{-x}dx$\", \"Intuition for why ln|x| is the integral for 1/x\", \"How to calculate the integral\", \"How to integrate $\\\\int_{0}^{\\\\sqrt{3\\\\pi}}\\\\int_{y}^{\\\\sqrt{3\\\\pi}}\\\\cos 7x^2\\\\;dxdy$?\", \"What's a better way to integrate this?\", \"Splitting up the interval of integration\", \"Long division in integration by partial fractions\", \"Evaluate $\\\\int \\\\limits _{0}^{\\\\infty}\\\\ln\\\\left({x+\\\\frac{1}{x}}\\\\right)\\\\cdot\\\\frac{\\\\mathrm dx}{1+x^2}$\", \"Why is my solution wrong? (Putnam 1985 B2)\", \"Evaluate the Integral $\\\\frac{\\\\sec^2\\\\theta}{\\\\tan^4\\\\theta-1}$\", \"Differentiation with sigma notation\", \"Volume problem: Is my integral correct?\", \"Integrating square of derivative of log function\", \"Steps in evaluating $\\\\int \\\\frac{1}{x^4-c^4} dx$?\", \"I need more help on calculus integrals\", \"Estimating Residues in McLauren's Polynomial\", \"Probably a dumb question on integration(Geometry of a simple double integral of $x$\", \"Solve for $x$ ; $\\\\dfrac{2x}{4\\\\pi}+\\\\dfrac{1-x}{2}=0$\", \"Integrate $\\\\int \\\\sqrt{(\\\\sec{x} +\\\\tan{x})}\\\\ \\\\cdot \\\\sec^2x\\\\,dx$\", \"Optimal decomposition of $\\\\frac{m}{n}$\", \"Definite integral reciprocal of polynomial plus trig function\", \"Is $\\\\frac{1}{\\\\min(\\\\frac{1}{a},\\\\frac{1}{b})}=\\\\max(a,b)$?\", \"Solve this equation $\\\\frac{1}{x+\\\\sqrt{x^2-1}}=\\\\frac{1}{4x}+\\\\frac{3x}{2x^2+2}$\", \"How do you apply $u$-substitution to the integral $\\\\int v\\\\sqrt{2v^2+1}\\\\,dv$?\", \"If $dx/dy =\\\\sin(x)$ then is $dy/dx = 1/\\\\sin(x)$?\", \"related rate problem\", \"Integrate $\\\\int{9x^5\\\\sqrt[4]{x^3+8} dx}$\", \"Integrating $3\\\\sin(x/2)$.\", \"How to differentiate this function\", \"Integral of exponential and algebraic function\", \"I am trying to find derivative $f$\", \"$\\\\int_{-\\\\pi}^{\\\\pi}\\\\sinh(x) \\\\sin(nx)dx$, using complex transformation.\", \"Estimate the decrease in the period of the satellite to the nearest one-hundredth hour....\", \"Convergence of type $1/(kn+r)$ type series\", \"$\\\\int_{y=-1}^{y=1}\\\\int_{x=y^{2/3}}^{x=(2-y)^2}f(x,y)\\\\ \\\\mathrm dx \\\\mathrm dy$ what does the region look like?\"], \"type\": \"htmltooltip\", \"id\": \"el959585372227856pts\", \"hoffset\": 10}, {\"type\": \"toptoolbar\"}, {\"voffset\": 10, \"labels\": [\"Write $\\\\cos(x)$ in terms of $\\\\sin(x)$\", \"Evaluating $\\\\int_0^L\\\\int_0^L \\\\cos^{-1}\\\\left(\\\\frac{x^2+y^2-a^2}{2xy}\\\\right)xy~dx~dy$\", \"Calculus - Find critical points\", \"Find all $ x \\\\in [0^{\\\\circ},360^{\\\\circ}] $ for which $ |2 \\\\sin(x) \\u2212 5| < 4 $.\", \"Precalculus Trig Problem\", \"Solve $\\\\cos(\\\\theta) + \\\\sin(\\\\theta) = x$ for known $x$, unknown $\\\\theta$?\", \"real solution of eqn. in $\\\\sin x+2\\\\sin 2x-\\\\sin 3x = 3,$ where $x\\\\in (0,\\\\pi)$.\", \"Where did I miss the minus?\", \"a question on : why sin(x) = sin(180-x)\", \"How can this be re-written with the following identity?\", \"Integral in greatest integer and absolute functions\", \"Another magic re-write question, picture!\", \"Find $f(4)$ if $x \\\\sin(\\\\pi x) = \\\\int_0^{x^2} f(t)\\\\,\\\\mathrm dt$\", \"How to tackle these trig questions correctly\", \"Area computed using polar coordinates\", \"trigonometric equations calculations and their implementation in practise.\", \"Integrate $\\\\sin^5 x$\", \"Integral of Form $(a^2 - x^2)^{1/2}$\", \"Adding sine waves of different phase, sin(\\u03c0/2) + sin(3\\u03c0/2)?\", \"What have I done incorrectly; integration by parts\", \"Computing the indefinite integral $\\\\int x^n \\\\sin x\\\\,dx$\", \"Expressing $\\\\cos\\\\theta - \\\\sqrt{3}\\\\sin\\\\theta = r\\\\sin(\\\\theta - \\\\alpha)$\", \"Trigonometric functions - finding solutions\", \"Showing that $\\\\frac{2}{3\\\\pi}\\\\leq\\\\int_{2\\\\pi}^{3\\\\pi}\\\\frac{\\\\sin x}{x} \\\\, dx \\\\leq \\\\frac{1}{\\\\pi}$\", \"What is the easiest way to find the maximum of $9\\\\cos(t) - 8\\\\cos(3t)$?\", \"How to differentiate integrals with variable limits?\", \"Evaluate $\\\\int_0^\\\\pi xf(\\\\sin x)dx$\", \"Please solve this equation\", \"Issue with proof of theorem limx->0 (sinx)/(x)=1\", \"How to prove two trigonometric identities\", \"Differentiability of function involving absolute values\", \"Position of a point on a moving unit circle?\", \"Proving that $x\\\\sin x+\\\\cos x=x^2$ has only one positive answer\", \"Prove $\\\\int_0^{2\\\\pi}\\\\frac{3a\\\\sin^2\\\\theta}{(1-a\\\\cos \\\\theta)^4}$ or $\\\\int_0^{2\\\\pi}\\\\frac{\\\\cos\\\\theta}{(1-a\\\\cos\\\\theta)^3}=\\\\frac{3a\\\\pi}{(1-a^2)^{5/2}}$\", \"Prove this identity...\", \"How to factorize this expression?\", \"Evaluate $ \\\\int \\\\cfrac { \\\\sec^2x}{ ( \\\\sec x + \\\\tan x)^{9/2}}dx $\", \"Solve for $x$; $\\\\cos^2x-\\\\sin^2x=\\\\sin x; -\\\\pi\\\\lt x\\\\leq\\\\pi$\", \"If $\\\\left(1+\\\\sin \\\\phi\\\\right)\\\\cdot \\\\left(1+\\\\cos \\\\phi\\\\right) = \\\\frac{5}{4}\\\\;,$ Then $\\\\left(1-\\\\sin \\\\phi\\\\right)\\\\cdot \\\\left(1-\\\\cos \\\\phi\\\\right)$\", \"How prove this $\\\\sum_{k=0}^{l}\\\\frac{(2l-2k)!(2k)!}{2^{2l}(k!)^2[(l-k)!]^2}\\\\sin{(l-2k)\\\\theta}=0$\", \"Basic trigonometry\", \"Calculate depth using triginometry\", \"Lissajous curve - highest velocity\", \"Trigonometric development help.\", \"Is $\\\\sin^3 x=\\\\frac{3}{4}\\\\sin x - \\\\frac{1}{4}\\\\sin 3x$?\", \"Evaluate $\\\\int \\\\sin^5{(x)}\\\\cos^4{(x)} \\\\ dx$\", \"did:$\\\\lim_{x\\\\to 0}\\\\frac{\\\\sin(x^2 + \\\\frac{1}{x} )- \\\\sin(\\\\frac{1}{x}))}{x}$\", \"Darboux sums. find an integral .\", \"Simple trigonometry question\", \"Differentiate y=Cot\\u00b2(sinx)\", \"Question about fundamental theorem of calculus\", \"Find the exact value of $t$ that maximizes $\\\\int_{t}^{t+1}\\\\sin e^x \\\\ dx$\", \"trigonometry: $2cos^2(x)+3cos(x)-2=0$ -> $cos(x)=-2$ OR $cos(x)=1/2$\", \"Eliminating $\\\\theta$ from the system\", \"What is $\\\\cos^2(t) + \\\\sin^2(-t)$?\", \"Can someone explain the math used in this query?\", \"Find the second derivative of the given function\", \"How can I differentiate this?\", \"Equation with sin 1/x\", \"Trigonometry $1+\\\\tan{x}=\\\\frac{\\\\sin{(\\\\frac{\\\\pi}{4}+x)}}{\\\\cos{\\\\frac{\\\\pi}{4}}\\\\cos{x}}$\", \"Losing information when solving trig problem\", \"What would be the sum of Trigonometric Functions\", \"Trigonometric Identity $\\\\frac{1}{1-\\\\cos t} + \\\\frac{1}{1+\\\\cos t}$\", \"Faster way of deriving equations of this type?\", \"Proving Sin Cos Tan\", \"Derivative of following functions $f(x) = \\\\cos^{-1}\\\\left(1-2x^2\\\\right)$\", \"What is an intuitive way to see $\\\\frac{d}{dx}\\\\sin^{-1}x+\\\\frac{d}{dx}\\\\cos^{-1}x=0$?\", \"The cosine of the angle between two vectors proof\", \"$\\\\int_{C}{|y|ds}$\", \"prove the following equations\", \"Trigonometric Functions Problem\", \"Help with implicit differentation\", \"Finding intersection with newton's method for $\\\\cos(x) = 2x$\", \"Stuck in a simple trigonometry problem\", \"Substitution integral with sines and cosines\", \"Integral of cos(5x)cos(3x)cos(4x)dx\", \"check my work on this problem: given tan(2x), find sin x + cos x?\", \"The antiderivative of $\\\\cos^5(x)\\\\sin^5(x)$ - is this incorrect?\", \"Trigonometric equation, missing some solutions\", \"G\\u00e2teaux and Fr\\u00e9chet derivate\", \"Solving the trigonometric equation $\\\\cos(x)-.4=0$.\", \"How to solve $a\\\\cos^2(\\\\theta) + b \\\\sin^2(\\\\theta) = 0$ for $\\\\theta$\", \"Can I get some assistance with this intregral / area problem?\", \"How prove or disprove this limit $\\\\lim_{n\\\\to\\\\infty}\\\\frac{\\\\sum_{k=1}^{n}|\\\\sin{(x+k)}|}{n}=\\\\dfrac{1}{\\\\pi}\\\\int_{0}^{\\\\pi}|\\\\sin{x}|dx$\", \"Sin in terms of t , 0 < B < pi/2\", \"Precalc - Trig Identities\", \"Assuming *only* that $\\\\sin^2{\\\\theta}$ + $\\\\cos^2{\\\\theta} = 1$, show that $\\\\sin{\\\\theta}\\\\cos{\\\\theta}\\\\le1/2$\"], \"type\": \"htmltooltip\", \"id\": \"el959585415571856pts\", \"hoffset\": 10}, {\"type\": \"toptoolbar\"}, {\"voffset\": 10, \"labels\": [\"The integral $\\\\int_{\\\\varepsilon}^1 r^n(1-r)^{k-n}\\\\,dr $\", \"Sum of all numbers x such that $(3x^2+9x-2012)^{(x^3-2012x^2-10x+1)} = 1$?\", \"Can someone please explain the ratio test to me please?\", \"How to do a Riemann Sum\", \"Problems with Trigonometric Identities\", \"Problems understanding error of approximation\", \"Comb Function -- First Derivative at a Point\", \"Explain this proof without words of integration by parts to me\", \"Word problem,percentage\", \"please help me. ive been trying to solve this for hours\", \"Finding asymptotes to general functions\", \"Optimal yarn balls\", \"Elliptic Cylinder Coordinates Integral\", \"Trying to reverse an equation and solve for a different variable\", \"Calculating wholesale and shipping costs for book order\", \"If $|z| = 2$. Then Locus of $z$ Representing The Complex no. $-1+5z,$ is\", \"dividing a unit in several different ways\", \"$f(0) = 65$, $f(20) = 60$, Possible to determine $f(x)$?\", \"Why can we only talk about derivatives on an open interval?\", \"complex conjugate of exponent\", \"Converting solution of linear equations to slope intercept form\", \"Solving for the value inside a base 10 logarithm\", \"Given the graph of $y=f(x)$ on the left, and $f(x)=(x-2)^2-7$ graph the function\", \"Volume of Cylindrical Wedge (not Segment)\", \"trying to prove equality of composition of functions\", \"Can two regular tetrahedrons make an octahedron?\", \"Average of all numbers from $1$ to $100$ that end in $2$\", \"Area of an elliptic?\", \"What is this question asking and Help me solve this equation step by step\", \"Graph $\\\\ell(x) = 3x +2$. What would $\\\\ell(x+1) - \\\\ell(x)$ be for all $x$?\", \"find the extremal of a function\", \"Use of integration and difference between two equations in monograph\", \"using the chain rule for f(x,y)\", \"Problem about a simple division\", \"Help with this binomial coefficent problem\", \"Question which has no answers\", \"Maximum, minimum, rate of change behavior of $H(t)=t^6-\\\\frac{3}{4}t^8$\", \"Property of a Cissoid?\", \"Rate of global resource consumption\", \"Work out value between two numbers from percentage.\", \"How many mappings $\\\\phi:\\\\Bbb{N}\\\\cup\\\\{0\\\\}\\\\to\\\\Bbb{N}\\\\cup\\\\{0\\\\}$ exist such that $\\\\phi(ab)=\\\\phi(a)+\\\\phi(b)$?\", \"Help with trigonometry problem\", \"General solution of the equation $x_1 \\\\cdots x_n + A = 0$ in complex numbers\", \"Write $\\\\csc(x)$ in terms of $\\\\sec(x)$\", \"How to find the $x^2+y^2=?$\", \"Applications of differentiation\", \"What is Derivative of order more than one?\", \"Find largest function such that the limit goes to 0\", \"A rectangle is scissors congruent to a square of the same area.\", \"Find all the values of $x \\\\in \\\\mathbb R$ from an equation\", \"directional derivative of convex function always exist\", \"How to integrate a multiplication\", \"How can I factor the polynomial $125x^3 + 216$?\", \"What is natural logarithm of this expression?\", \"Figuring out the proof of limit\", \"How to solve these equations?\", \"Parameterizing a function where you cannot isolate y\", \"length of Cardioid\", \"Volume of half torus. What's wrong with my solution?\", \"Write in Terms of sine and cosine and simplify\", \"Darboux sums inequality\", \"What does $\\\\cos(2\\\\tan^{\\u22121} x)$ mean and how do solve?\", \"Similar Triangles, Ratios and Proportions, Similar Polygons\", \"$a^2-b^2=bc$ and $b^2-c^2=ac \\\\Rightarrow a^2-c^2=ab$\", \"$\\\\epsilon$-$\\\\delta$ proof of discontinuity\", \"sum of the alternating series $\\\\sum_{n=0}^\\\\infty (-1)^n (n+1)/n!$\", \"How do I factor a polynomial over the reals?\", \"Suppose that $f(x)= xg(x)$ for some function $g$ which is continuous at $0$. Prove that $f$ is differentiable at 0 , and find $f'(0)$ in terms of $g$.\", \"Find $n$ satisfying the equation $[\\\\log_21]+[\\\\log_22]+[\\\\log_23]+\\\\dots[\\\\log_2n]=1538 $\", \"What is the name of this identity for a power symmetric polynomial?\", \"How to understand sinus?\", \"How to solve the following equation by extracting square roots?\", \"How to find the surface area of an egg?\", \"Solving for distance and time. Please help, I am stuck, and need to know how to do this please.\", \"Prove that the sum of a sequence diverges\", \"Gabriel's horn, calculus Integration\", \"How to evaluate this using algebra?\", \"How many solutions are there for this equation: $(x^2-x-1)^{x^2}=(x^2-x-1)$\", \"What is the slope of the line tangent to $f(x)=-2x^2+4x+6$ when $x=3$?\", \"given that the curve $x^3+ax^2+bx$ has no turning points show that $a^2<3b$\", \"Finding possible 2d positions of a transmitter, using multilateration.\", \"Minimizing a multivariable function given restraint\", \"Show that the set of polynomials $P = \\\\{p_k(x) = x^{5k + 4} + x^3 + x^2 + x + 1| k\\\\in \\\\mathbb{N}\\\\}$ has a common non-trivial polynomial divisor\", \"A completes 36% work in 12 days.\", \"Conditions for integrability\", \"Simplification of a simple expression\", \"Finding concavity and factoring\", \"Calculate the good Paypal fees\", \"If $(x^y)^z = x^{y\\\\cdot z}$, why does $(-5)^{2^{0.5}}$not equal $(-5)^1$?\", \"Simplifying a fraction.\", \"Writing a number as power of two\", \"Reverse a formula with codependent expressions\", \"Finding the solution to a trig equation\", \"What is this geometric pattern called?\", \"Calculate the angle of a vector in compass (360) direction\", \"how to prove that the curvature of sin x is greatest at its extremum?\", \"Find the rate of change. $P=250(1+(2t/(49+t^2)))$\", \"Find the derivative of $y=(2x-1)^{10}(x-1)^3$\", \"Probability 5th grade\", \"Convert percentage to number between 120 and 150\", \"Prove in harmonic progression\", \"Error of Equirectangular Approximation for spherical distance\", \"How to move from powers to simple logarithms?\", \"Using the numbers 2, 0, 1 and 3: 1-100\", \"How to make this polynomial have equal roots?\", \"Rewriting an equation in percentage terms\", \"Mixed integration problem\", \"Inequalities In Algebra\", \"How to solve this equation?\", \"Natural logarithm, equivalent function\", \"Is it possible to simplify $\\\\frac{2^{2x-1} - 2^{x-1}}{2^{2x-1}}$?\", \"Integral: $\\\\int_0^{1/2}\\\\frac{\\\\ln(1+2x)}{1+4x^2}{\\\\rm d}x$ [Other method type question.]\", \"solving time with the given distance and acceleration\", \"How do I arrange the following to solve for\", \"What is $\\\\sin x \\\\sin 2x \\\\sin 4x$ converted to a sum?\", \"Evaluating $\\\\int_{0}^{1} x^m \\\\ln^\\\\alpha(x) dx$\", \"I can't find differences between $P(1+r)^n$ and $P(2.71828)^{rn}$\", \"surface area of $y = e^{-x}, x \\\\geq 1$, about $x$-axis\", \"Find the mass of a rod with the given density function\", \"How to find $\\\\theta$ for $\\\\tan\\\\theta=-\\\\frac{4}{3}$?\", \"Evaluating fractional indices (negative)\", \"differentiation of Polynomials\", \"Prove this differential equation of a angle\", \"Showing a function can't be even\", \"perimeter and side length linear equation section\", \"Evaluating one integral in terms of another\", \"Solve for $x$ in $0 = e^{x^2} (2x)$\", \"Work done pulling a leaky bucket\", \"If a second car leaves later at a higher speed, how long will it take to catch up?\", \"A family of functions graphing\", \"Eliminate $A$ from these two equations.\", \"Which is bigger $x^{log(x)}$ OR $(log(x))^x$\", \"Second derivative multivariate functions\", \"If integral is zero and function is continuous and non negative, then what about the function?\", \"find $\\\\alpha$ such that $f(x)=x^\\\\alpha*sin(\\\\frac{1}{x})$ is n th order derivable at (0,0)\", \"Proving that a point is the maximum of a continuous function\", \"Logarithm Expansion Question\", \"Determining which intervals decrease and increase and concavity\", \"Complex mathematical question. Any help is much appreciated.\", \"Derivative of the area under $f(x)$ between $a(x)$ and $b(x)$\", \"What is glide reflection?\", \"Show that the directional derivative is linear by definition\", \"derive formula for height of tower on a hill\", \"Does anyone know names of some of Newton's THEOREM?\", \"How prove $\\\\sum_{j=k}^{n}x_{j}\\\\prod_{i=j+1}^{n}(1-x_{i})=1-(1-x_{1})(1-x_{2})\\\\cdots(1-x_{k})$\", \"Solving for volume using washer and cylindrical shell method\", \"Derivative of $x^2$\", \"Modeling Linear Functions\", \"Equality of norms on $L^1 (\\\\mathbb{R}, \\\\mathbb{R})$\", \"proof by negation - there is no supremum\", \"Minimum value Of trigonometry expression\", \"Solve $\\\\log x + \\\\log(2x-5) = \\\\log 96 \\u2013 \\\\log 8$\", \"Finding the ratio of two persons time spent driving to a meeting\", \"Reverse percentages\", \"$f(4)=3$ and $f'(4)=7$. If $g(x)=x^2f(x)$ then find $g'(4)$.\", \"planarity of a quadrilateral\", \"Is there a rule for integrating $f(x) f(f(x))$?\", \"Prove Why is Less than a number equals to this?\", \"How to solve the proportion $3n(n-5) = n-6(3n+1)$?\", \"How to find absolute min and max of a function over interval?\", \"Textbook clarification: $\\\\log = \\\\ln$\", \"Simplifying formula with Laplacians\", \"Transformational geometry software\", \"Extending hyperbolas to 3 and 4 foci\", \"How do they integrate this exponential?\", \"Solving a differential equation with composite functions\", \"Harmonic progression\", \"Chain rule and gradients\", \"Logarithmic differentiation for this function\", \"Two proofs I'm having difficulty with\", \"closed form solution for summation of  $\\\\log(i)$\", \"Given the angle find the dot product\", \"solid of revolution (x-axis)\", \"Prove that $\\\\tan55^\\\\circ\\\\cdot\\\\tan65^\\\\circ\\\\cdot\\\\tan75^\\\\circ=\\\\tan85^\\\\circ$\", \"How to solve $x \\\\log^2x - c=0$?\", \"Is there a \\\"more correct\\\" way to differentiate $\\\\frac{f(x)}{g(x)}$?\", \"What is this result called: $\\\\int_a^b f(x)g(x)dx=f(c)\\\\int_a^b g(x)dx$?\", \"Convergence of a series question: $\\\\sum_{n=1}^\\\\infty\\\\frac{n^{3/2}(-1)^n}{3n^3-(-1)^n}$\", \"Remainder Theorem, solve for K\", \"How find this value $\\\\frac{S_{\\\\Delta ABC}}{\\\\overrightarrow{OA}\\\\cdot\\\\overrightarrow{OB}}$\", \"How to solve $\\\\int \\\\ln(x)\\\\cos(x)\\\\: \\\\mathrm{d}x$?\", \"Deriving Simple Interest from given compound interest of 3 years.\", \"Wrong step in linear equations with fractions\", \"Solve this Trigonometric equation\", \"Proving that for every real $x$ there exists $y$ with $x+y^2\\\\in\\\\mathbb{Q}$\", \"simplify $x^4-3x^2+2=0$\", \"Find the equation of the tangent and normal to the curve $y = x + \\\\frac{1}{x}$ at $x = 1$.\", \"does it exist a formula for $a^2 + b^2$?\", \"-10 - 2 = -8 : How can I make this equation true?\", \"Ideas To Show this statement: $\\\\prod_2^{2n+1}(1-k^{-2})=(n+1)/(2n+1)$\", \"How can I prove the even derivatives of $\\\\frac{d^n}{dx^n}\\\\left \\\\{ \\\\right.tan(x)\\\\left. \\\\right \\\\}=0$ at $x=\\\\pi$\", \"Descrbing solutions of $\\\\sin\\\\theta = k$ & $\\\\cos\\\\theta = k$.\", \"Origin or author of 'Japanese Multiplication Method'\", \"Showing a function is differentiable at the origin\", \"Differentiate the following expression: $f(x)=2x^2 + 7x - \\\\ln(x^2+1)$\", \"Error function--How to take the limit?\", \"Computing the derivative of $H(z)= \\\\int_{e^z}^{\\\\cos z} \\\\ln(w^3) ~dw$\", \"Factor the Expression completely$ (a+b)^2 - (a-b)^2$\", \"Tangent lines in parametric curve\", \"Infinite derivative\", \"An awful factorisation question.\", \"\\\"Maximum area enclosing rectangle\\\"\", \"Determine the inverse function of $f(x)=3^{x-1}-2$\", \"Coordinate substitution between two cartesian systems\", \"exponentiation with the base between 0 and 1\", \"Work calculation from Thomas' calculus...does the text contain an error?\", \"Equivalence of growth rate found through derivation of growth equation and rate found through $A = Pe^{rt}$.\", \"Prove that there are $n$ pairwise distinct numbers $t_1,t_2,...,t_n$ in $(0,1)$, such that $\\\\sum_{i=1}^n\\\\frac{k_i}{f'(t_i)}=\\\\sum_{i=1}^n k_i$\", \"Skipping and percentage\", \"Shadow of a Tesseract\", \"Proving that $\\\\lim\\\\limits_{h\\\\to 0}\\\\frac{f(x+h)-2f(x)+f(x-h)}{h^2}=f''(x)$\", \"limit of a function that includes floor function\", \"The derivative of square root of $g$ from numerical values of $g$ and $g'$\", \"How many k-hyper-cubes does a n-hyper-cube have?\", \"Solving a sets problem with fractions.\", \"partial fraction decomposition and balancing rule\", \"Prove that $\\\\sin^7 x + \\\\cos^7 x < 1$ if $0 < x < \\\\frac{\\\\pi}{2}. $\", \"Prove that at any given moment, there exists a pair of diametrically opposed points on the equator of the Earth that have the same temperature.\", \"Does it Make Sense to Use the Variable of Integration as a Bound?\", \"Calculus definite integrals declining word problem\", \"Reciprocal sum equal to $1$\", \"Calculate number of pages given n items\", \"Express the length a, b, c, and d in the figure in terms of the trigonometric ratios of \\u03b8.\", \"Space filling curve with locality for odd column/row count\", \"Logarithm Question $\\\\log_{3}9x+\\\\log_{3}x=4$\", \"Are there oscillating functions that don't reduce to trigonometric functions?\", \"Prove, using the mean value theorem, that $x+1 \\\\lt e^x \\\\lt xe^x+1$ for $x \\\\gt 0$\", \"Why exactly is the sum/difference of two (and possibly more) differentiable and continous functions also inherit this property?\", \"Let $f(x)$ denote the sum of the infinite trigonometric series, $f(x) =\\\\sum^{\\\\infty}_{n=1} \\\\sin\\\\frac{2x}{3^n}\\\\sin\\\\frac{x}{3^n}$\", \"Capacity of car radiator\", \"$0=a \\\\cos (\\\\phi + b) +c \\\\cos (\\\\phi +d)$\", \"Integrate a rational function with a denominator in the form a - cos(x)\", \"Solution of trigonometric equation $at + \\\\sin(t) = 0$\", \"How to calculate sin(65) without a calculator.\", \"What is the solution set of $x-(1/x)\\\\le 0$?\", \"Analytic solution of $ \\\\int_t^{t+r} \\\\frac{x^2}{(t+r-\\\\sqrt{2rx-x^2})^4}dx $\", \"What is the minimum possible value of $(a+b+c)$?\", \"Expressing a multivarible function as \\u2207\\u03d5\", \"How find this integral $I=\\\\int_{0}^{1}\\\\frac{1}{2-x}\\\\ln{\\\\frac{1}{x}}dx$\", \"The proportionality symbol\", \"How can I find the area of the region bounded by the hyperbola\", \"Testing $\\\\sin\\\\theta$ and $\\\\cos\\\\theta$ without referring to the trigonometric functions\", \"If $f(x)g(x) = x$, then is it possible that $f$ and $g$ are differentiable and $f(0)=g(0)=0$?\", \"Is this function infinitly often differentiable?\", \"Differential to estimate a number\", \"Formula for Damage Calculation Based on Distance\", \"Calculating the amout of rotation on a line and the length compared to a gear\", \"Solve for: $8\\\\log_4\\\\sqrt{x^2-9}+3\\\\sqrt{2\\\\log_4\\\\left(x+3\\\\right)^2}=10+\\\\log_2\\\\left(x-3\\\\right)^2$\", \"(4x^2+2kx-5)/(x+2) remainder is 3 find value of k?\", \"Fundamental theorem of Calculus Part 1\", \"What is the relationship between the area of a triangle and an area of a segment of a circle?\", \"Integral Application Word Problem\", \"Finding the derivative of $y=12x^4\\\\sqrt[3]{x^2}-2e^x+9$\", \"Is $\\\\frac{5x}{3}$ The Same As $\\\\frac{5}{3}x$?\", \"Show that $x$, $y$, and $z$ are not distinct if $x^2(z-y) + y^2(x-z) + z^2(y-x) = 0$.\", \"Is any sequence of the form $\\\\lim_{n \\\\to \\\\infty} a_n \\\\ne L$ is divergent?\", \"True or False: Between 2 sequential roots of $f'(x)$ there is at most one root for $f(x)$\", \"Which of the following is true\", \"What Percent of two numbers to get to one\", \"Cylinderical Shell Calculus Question\", \"Find the value of x if $\\\\log_{2}({5 * 2^x + 1})$, $\\\\log_{2}({2^{1 -x} + 1})$ and 1 are in arithmetic progression\", \"find the differential dy\", \"How would I go about showing that f is one-to-one?\", \"Convex hull of Minkowski sums\", \"How to solve following equation?\", \"What is this type of problem called?\", \"Expand $(a\\u2212b)^2 +(b\\u2212c)^2 +(a\\u2212c)^2$ , and hence prove that $a ^2 +b^2 +c^2 \\u2265 ab+bc+ac$.\", \"Refinement of Notion of Integration\", \"Closed form for $\\\\int \\\\left(k e^{-2x}+4e^{-x}\\\\right)^{-1/2}dx$\", \"How to find $\\\\arccos(\\\\cos15\\\\pi/11)$?\", \"Problem with understanding integration by parts method?\", \"Calculate the area bounded by two different curves\", \"Hydrostatic Force and Integration\", \"Find all Critical Values for a Function\", \"Solve the following equation algebraically for n. Show your working using factorial notation.?\", \"Proving the function is concave\", \"Definite integral with negative log\", \"Proving that $\\\\frac{\\\\csc\\\\theta}{\\\\cot\\\\theta}-\\\\frac{\\\\cot\\\\theta}{\\\\csc\\\\theta}=\\\\tan\\\\theta\\\\sin\\\\theta$\", \"differentiability check\", \"intuition behind logarithm properties\", \"Work and time, when work is split into parts\", \"Solving $35(1-e^{-10k})=20(1-e^{-20k})$\", \"Problem Solving an Inverse Function\", \"calculus volume problem\", \"Calculating area of a shaded region inside a square\", \"general formulation for 1/g(x) derivative\", \"Fast way to prove that $(a^2+b^2+c^2-ab-ac-bc)^2=(a-b)^2\\\\times (a-c)^2 + (b-c)^2\\\\times(b-a)^2 + (c-b)^2\\\\times(c-a)^2$\", \"Find the instantaneous velocity\", \"pyramid with a trapezoid as a base.\", \"Signing $y''$ from $\\\\log(\\\\frac{x+y}{x})=x+y$\", \"How to determine $x$ and $y$ intercepts for $y = 4(x - 2)^2(x + 2)^3$\", \"Expressing $ 12\\\\sin( \\\\omega t - 10) $ in cosine form\", \"absolute and conditional convergence of series\", \"Cannot solve by hand:$ x + y = 2; 4x^2 + y^2 = 5(2x - y)(xy)^{\\\\frac12}$\", \"How to express $\\\\max\\\\{a,b,c\\\\}$\", \"Manipulation of differentials\", \"Evaluating a sum(could be decomposed into partial sum)\", \"If $f(x)=\\\\int_0^x x^2 \\\\sin {t^2}~dt $, find $f'(x)$.\", \"Prove the following trig identities\", \"If the first 10 positive integer is placed in a circle(any order), 3 integer in consecutive locations around the circle that have a sum > 17?\", \"Find $log_{p}X^2$?\", \"Why is it true that $\\\\int_0^\\\\pi \\\\! \\\\sin(z\\\\cos\\\\theta) (\\\\sin\\\\theta)^{2\\\\nu} \\\\, d\\\\theta = 0$?\", \"Prove that $f(x)$ be a constant\", \"Chemicals from a storage tank are leaking into a pond!\", \"Solving a tricky equation\", \"Why dividing by zero still works\", \"Finding the area between 2 curves using Green's Theorem\", \"Using integrating factor\", \"How to evaluate $\\\\displaystyle\\\\int {1\\\\over (1+kx^2)^{3/2}}dx$\", \"Find Volume of solid using method of cylindrical shells\", \"Proof of Vector Valued Function Derivative\", \"How to simplify $(x+4)^2$?\", \"Find interval of increase and decrease\", \"Algebra Equation with equals on left hand side\", \"Epsilon-Delta More Confusion\", \"Trapezoidal vs Simpsons Rule\", \"Doing simple math in your head\", \"Solution of the equation $\\\\left(x+\\\\frac{1}{x}\\\\right)^{\\\\frac{1}{x}}=A$\", \"Ignoring constants when finding derivatives of trig functions\", \"Solving an equation with variable in exponent\", \"An equation involving an integral\", \"Find the inverse function of $ f(x) = 4 - x^2$,$ x\\\\geq 0$\", \"Question about continuous functions and indefinite integrals\", \"Can you encode if-then-else in arithmetic\", \"Consider a function $g(x)$ with derivative of $g(x)$ prime = $x^3(x-2)^2(x+8)^9$. For what value(s) of $x$ does $g(x)$ have a local maximum\", \"Why is the absolute value function not differentiable at $X=0$?\", \"Vector Field, Curl and Divergence. Simple computing and proving:\", \"Proof of the image of a set\", \"How can I write an epsilon-delta proof that a rational function has a certain limit?\", \"Invent transformation mapping ellipsoid to unit sphere\", \"On convex $n$-gons with special properties\", \"An inequality containing prime numbers.\", \"Product of a geometric series from it's middle term\", \"Finding the number of each type of fruit bought\", \"finding the value of $Z+Z^{2}+Z^{3}........ $ if...\", \"Could trigonometry exist in one dimension?\", \"Sketch the Graph $x = {(y + 4)^2} - 8$\", \"When is this statement true?\", \"What is the derivative of the following?\", \"Cosine proof of vectors\", \"Find the closed form of $\\\\tan\\\\frac{\\\\pi }{64}$ by using the number $2$ only?\", \"Is this $f(x)$ answer correct in regards to functions?\", \"Simple logarithmic equation\", \"integrating $x^e$\", \"Is the given function exponential?\", \"Stuck with factoring an expression\", \"How to differentiate $-x^3(3x^4-2)$\", \"Question about differential function.\", \"vector - clarification\", \"I don't understand this step in this exercise involving algebra\", \"L'Hospital Rule With Exponents - $ \\\\tan x/x $\", \"Exponential Equations\", \"Inverse of an exponential summatory\", \"Function Problem\", \"Fundamental theorem of calculus problem - trig functions\", \"SAT practice problem question\", \"Evaluate the definite integral.\", \"Integration of a complicated rational function\", \"Find the function $f(x,y)$ if $f_y(x,y)=x^2+2y$ and $f(x,x^2)=1$\", \"Antiderivative function of $\\\\arccos(1/x)/\\\\sqrt{x^2-a}$\", \"When multiplying a number with an exponent attached do you add or multiply the exponent?\", \"Troubled by the question of showing that $f \\\\equiv 0$\", \"Does a differentiable $f[g(x)]$ imply a differentiable $g(x)$ or the reverse?\", \"Minimizing Volume of Solid\", \"Finding a four digit number\", \"Confirm right model\", \"Find the resulting speed and direction\", \"$X=(1 + \\\\tan 1^{\\\\circ})(1 + \\\\tan 2^{\\\\circ})(1 + \\\\tan 3^{\\\\circ})\\\\ldots(1 + \\\\tan {45}^{\\\\circ})$. what is the value of X?\", \"What are the steps necessary to solve this Calculus problem?\", \"Solve $x^{\\\\frac{1}{x}}=0$\", \"Prove that a function is bounded\", \"Calculus Electricity problem\", \"Can you solve for a value within a floor function?\", \"discovering the optimum 'spacing' formula?\", \"Arc Lengths of Sine Curve\", \"No real solution to logarithmic equation?\", \"Rate of Change of Cylindrical Roll's Volume as it Unrolls\", \"limit of $f$ and $f''$ exists implies limit of $f'$ is 0\", \"Show there is a closed interval $[a, b]$ such that the function $f(x) = |x|^{\\\\frac1{2}}$ is continuous but not Lipschitz on on $[a, b]$.\", \"gradient of function on unit circle\", \"Area of a circular segment.\", \"Without performing the integral to show\", \"Is the equation $\\\\log[A/(-B)]=\\\\log[(-A)/B]$ valid?\", \"How to prove $L_{f}(P) \\\\leq L_{f}(Q)$ when $Q$ and $P$ are partitions of $[a,b]$ and $Q \\\\supseteq P$\", \"How to show a function is identically equal to zero?\", \"Prove: the function series, $\\\\sum_{n=0}^{\\\\infty}\\\\frac{(-1)^{n-1}x^2}{(1+x^2)^n}$ uniformly converges\", \"Use the laws of Logarithms to express $\\\\log_3(\\\\sqrt{27}/9)$\", \"Find the derivative of an integral.\", \"calculus essay assistance\", \"Question about the variations\", \"Calculate the double integral $\\\\iint x + y\\\\; dxdy$ over the ellipse segment\", \"$\\\\int_0^x f(t)dt = [f(x)]^2$ and f is never 0\", \"solving this equation sinx-cosx=1/\\u221a2\", \"Calculating the number of times a digit is written when given two numbers\", \"Find parameter \\\"$a$\\\" given an implicit curve and a tangent\", \"How to differentiate this function?\", \"Algebra simplification question\", \"Can someone explain to me the thought process behind this proof for a linear equation?\", \"exponent y=x^a sequences.\", \"Dividing a picture into N number of equal parts\", \"Minimizing a functional definite integral\", \"Is this function bounded?\", \"Definite integral of trig function\", \"I want to prove the following limit $\\\\lim_{x\\\\rightarrow 0} \\\\frac{\\\\sin x}{x^{2}}=\\\\infty$ using the definition of limit.\", \"Need help with hydroponic ML to Gallon conversion\", \"If $x \\\\in (0,1)$ then how do you show the inequality $r > s > 0$ implies $x^r < x^s$?\", \"Calculate Hourly vacation accrual\", \"How to find how far something has traveled. trig help\", \"Simplifying a trigonometric equation\", \"Problem with spherical coordiantes\", \"How many positive values of $a$ are possible in $2^{3}\\\\le a\\\\lfloor a\\\\rfloor \\\\le 4^{2} + 1$\", \"If $ f(x) = \\\\sin x+\\\\lfloor \\\\frac{x^2}{a}\\\\rfloor $ be an odd function. Then the set of values of parameter $a$ is/are\", \"Precalculus word problem on rocket height\", \"$(1-\\\\frac{x}{n})^n\\\\lt \\\\exp(-x)$\", \"Find a number such that the sum of the number and its square will be as small as possible.\", \"Why is speed * travel duration = total distance?\", \"How to perform a double integration\", \"Is a ball a polyhedron?\", \"d/dx Notation Explanation please?\", \"Map range of values to another range, non-linearly\", \"How to calculate average of sine squared\", \"Complicated multivariable implicit differentiation problem\", \"Fractional Power Interpretation\", \"A nonlinear single variable equation\", \"question about logarithms\", \"Related Rates Galore!\", \"How does one solve $y^y-x^x=x$ for $x$ as a function of $y$?\", \"Properties of exponents with logarithims\", \"How to prove that $\\\\int_0^{\\\\pi} \\\\log(|\\\\sin t|)\\\\,\\\\textrm{dt} \\\\;\\\\;\\\\textrm{is integrable }$\", \"Show transformation is locally invertible\", \"using Integration by parts\", \"Solving $2x+8=6x-12$ by using the guess and check method\", \"prove that there is no supremum for mn/1+m+n\", \"Exponential growth and bacteria\", \"Integral of $re^{-r/a}$\", \"Why does $7^{2\\\\ln x}\\\\cdot \\\\ln(7) \\\\cdot (2/x)$ equal to $7^{2\\\\ln x}\\\\cdot \\\\ln(49) /x$?\", \"Solve$(log_{2}(x+1))^2=4$\", \"Find the points on the given curve where the tangent line is horizontal or vertical\", \"Can asymptotes be imaginary?\", \"Find the solution of the differential equation that satisfies the given initial condition\", \"Trouble factoring polynomial\", \"What is the graph of $r^{2} = 16\\\\cos\\\\left(2\\\\theta\\\\right)$ ?.\", \"simplifying $\\\\min(\\\\max(A,B),C) $\", \"Solve $\\\\cos x>1/2$ for $-180<x<180$\", \"Implicit Differentiation... the triple product rule?\", \"CORE 1, Expanding and Simplifying - HELP?\", \"Proof that $\\\\int_1^x \\\\frac{1}{t} dt$ is $\\\\ln(x)$\", \"How many days are there in 70 years?\", \"Related Rates and Angle of elevation\", \"Can't understand a reduction formula question\", \"Definition of linear approximation\", \"Factor $x^2+10x+21$\", \"How to calculate a reverse scale factor?\", \"Solve two equations\", \"Why is n^(1/m) no valid way to calculate a root\", \"if $a,b$ such $a^2+b^2+4=2a+ab+2b$,find $a^2b$\", \"Let $f(x)=a_0^2x^n+a_1x^{n-1}+a_2x^{n-2}+...........+a_n,\\\\,$ where $a_0,a_1,....,a_n \\\\in \\\\Bbb R$\", \"Is it possible to express addition as repeated multiplication?\", \"Extract time frames from days\", \"Why is x^(a/b) equivalent to the bth root of x raised to the a power?\", \"Simple algebra question\", \"The error in simple Taylor's Polynomial with gap between power\", \"Solving $\\\\sum_{\\\\alpha=1}^{\\\\mu}\\\\frac{1}{\\\\alpha!}\\\\Big(1-\\\\alpha(2 \\\\mu- \\\\alpha)\\\\Big(\\\\frac{M-2l}{2 \\\\mu^2 KM}\\\\Big)\\\\Big)^{\\\\lambda}$\", \"Find the value of $A$ and $B$ such that $P$ is a rational number\", \"Using Lagrange multipliers to find volume of a cone\", \"The volume is to be found\", \"Calculate $1*1+2*2+3*3+4*4+....+r*r$\", \"For what value of k, $x^{2} + 2(k-1)x + k+5$ has at least one positive root?\", \"Number to the exponent divided by exponent value\", \"Algebra Word Problem\", \"Trig identity problem from Gelfand's Trigonometry\", \"Concavity related question.\", \"Proof involving circumradius of triangle and Law of Sines\", \"Derivative of a multiple sum of matrix elements\", \"$\\\\int\\\\frac{\\\\sin\\\\left(x\\\\right)}{\\\\cos\\\\left(x\\\\right)}\\\\,\\\\mathrm{d}x$ by substitution\", \"Integrating 2(100+t)\", \"How to link definite integral $\\\\leftrightarrow$ Area under curve $\\\\leftrightarrow$ total displacement\", \"Calculate the derivative of $\\\\sqrt{1+\\\\cot^2(x)}$\", \"Long division differs from calculator\", \"Prove that $m^{2} + n^{2} = \\\\csc^{2}\\\\left(\\\\theta\\\\right)$\", \"I have a really dumb algebra question for you\", \"Good arguments to why a modified Dirichlet function has a derivative at some points\", \"Piecewise Continuity\", \"Solve simultaneous equations $2\\\\log(y) = \\\\log(2) + \\\\log(x)$ and $2^y = 4^x$\", \"Find a simplified form for $n!+(n-1)!+(n-2)!+(n-3)!+ \\\\dots +1!$ .\", \"Derivative of special function\", \"Word Problem - Finding a Function for Volume\", \"$\\\\lim\\\\limits_{x\\\\to\\\\infty } \\\\frac{\\\\ln x}{\\\\sqrt{x}\\\\,{\\\\sin{x}}}$\", \"Investments in M -HomeWork\", \"Calculate Danny allowances in 2010.\", \"Integration with respect to a parameter\", \"How do I solve for $t$ and $s$ in $y = x^{-t/s}$?\", \"remainder of stirling formula divergent?\", \"Determine whether $\\\\int _{1}^{\\\\infty}\\\\frac{x\\\\sin\\\\left(x\\\\right)}{\\\\sqrt{1+x^5}}\\\\,{\\\\rm d}x$ is convergent or divergent\", \"Find all pairs of positive whole numbers\", \"Consider the function, f and its second derivative:\", \"Differentiable only at $x=0$ and $f'(0)>0$\", \"Is any submanifold of $\\\\mathbb{R}^{n}$ the zero set of some polynomial?\", \"How to solve $\\\\sqrt{3}x-\\\\cos 2x=0$ for sketching the graph of $y=\\\\sqrt{3}x-\\\\cos 2x$?\", \"Derivative inside integral of a translated function\", \"$\\\\prod \\\\cos(x2^{-k})$\", \"Operations for operands with powers of different bases\", \"Parallelogram inside of a quadrilateral.\", \"Find the value of $\\\\sin(x + y)$\", \"How much above the cost price must he marks his goods above the cost price to make a profit of 17%\", \"How can I find the derivative $ \\\\operatorname{sech}^2(e^x)$?\", \"To find the arc length\", \"evaluating trig without a calculator\", \"Derivative of a fraction with respect to another\", \"Evaluate $\\\\int_0^\\\\infty e^{-b\\\\left(\\\\frac{r^2}{a^2}+1\\\\right)^\\\\frac{-\\\\gamma}{2}}\\\\left (\\\\frac{r^2}{a^2}+1\\\\right)^\\\\frac{-\\\\gamma}{2} r^2 dr $\", \"A problem of Logarithm\", \"How would you find $\\\\tan(3\\\\cdot\\\\arctan(x))$?\", \"Find the formula\", \"Simple equation, but I don't get it\", \"Trigonometry - Bearings\", \"Solve $\\\\sqrt{3}\\\\cos2\\\\theta+\\\\sin2\\\\theta-1=0$\", \"Olympiad Algebra Problem\", \"Light bulb decimal question\", \"Why do we have a symbol for root of -1, but none for divide by zero?\", \"Rate of flow Question\", \"Velocity word problem\", \"How do you differentiate a function with respect to the negative of its variable?\", \"Solving A Second Order Ordinary Differential Equation\", \"How to calculate extreme values for functions with three variables using derivatives?\", \"Find limit of function as $x$ approaches $ 0$\", \"Show $ a\\u00b7b = |a| \\u00d7 |b| \\\\cos(\\\\theta)$ geometrically and by using no algebraic arguments at all\", \"Salary paid a week early - does that mean I get less of my annual salary?\", \"Series Problems\", \"Is it possible to have a fraction wherein the numerator and denominator are also fractions?\", \"Solving log equation\", \"Determing the order when moving to the other side of the equation.\", \"How do you solve this using only given values, logarithm rules and no calculator?\", \"Absolute value => Directly integrable, separable and/or linear?\", \"Lopsided percentages\", \"An exercise from 'Giaquinta,Modica,Mathematical Analysis,2'\", \"Euler's theorem regarding Homogenous Functions\", \"prove that $\\\\displaystyle\\\\lim_{x\\\\rightarrow 1}\\\\frac{x^{1/m}-1}{x^{1/n}-1}=\\\\frac{n}{m}$\", \"Show that these are equivalent $x-\\\\ln|1+e^x| = -\\\\ln|e^{-x}+1|$\", \"a question on definite integral $\\\\int\\\\limits_0^t e^{\\\\alpha t}\\\\sin(\\\\omega t)\\\\,\\\\mathrm dt$\", \"Example of function that is differentiable at $0$, and has inverse function that is not continuous at $0$?\"], \"type\": \"htmltooltip\", \"id\": \"el959585414734032pts\", \"hoffset\": 10}, {\"type\": \"toptoolbar\"}, {\"voffset\": 10, \"labels\": [\"Solve equations $\\\\sqrt{t +9} - \\\\sqrt{t} = 1$\", \"Formula for perimeter of a figure formed by cutting 4 inscribed congruent figures.\", \"If $y^y=x$, can $y$ be expressed as a function of $x$?\", \"Proof of identity $\\\\sqrt {xy} = \\\\sqrt x \\\\sqrt y$ for $x,y \\\\in \\\\mathbb R^+$\", \"Simplifying the expression\", \"How to justify the rule for the product of square roots of real numbers?\", \"How do I simplify $\\\\frac{\\\\sqrt{1-x} + \\\\frac{1}{\\\\sqrt{1+x}}}{1 + \\\\frac{1}{\\\\sqrt{1-x}}}$?\", \"How are $\\\\pi/4$ and $3\\\\pi/4$ solutions to $\\\\sec^2 \\\\theta -2 = 0$?\", \"How can $\\\\frac12 \\\\log(x) = \\\\log(\\\\sqrt{x})$?\", \"absolute and Cubic System of equations of $3$ variables\", \"Inspecting the function $f(x)=-x\\\\sqrt{1-x^2}$\", \"Derivative of the Square Root of a Logarithm\", \"How to approach, substitution - definite integral\", \"Simplify $\\\\frac{1-\\\\sqrt{x+1}}{1+\\\\sqrt{x+1}}$.\", \"How to simplify $\\\\frac{\\\\sqrt{4+h}-2}{h}$\", \"Prove Minimum values\", \"Limit with square root\", \"$f(x,y) = \\\\sqrt{x^2+(y-1)^2}+\\\\sqrt{(x-3)^2+(y-4)^2}-\\\\sqrt{x^2+y^2}-\\\\sqrt{(x-1)^2+y^2}\\\\;\\\\;,x,y\\\\in \\\\mathbb{R}$.\", \"About the Magnitude of a variable\", \"Write this surd in its simplest form.\", \"Finding the inverse function.\", \"Derivative of $f(x)=\\\\frac{7x^3+3x+30}{\\\\sqrt{x}}$\", \"Help finding trig values with the given information\", \"$\\\\lim\\\\limits_{x\\\\to\\\\infty} \\\\frac{\\\\sqrt{(4x +3) +2\\\\sqrt{1+ x}}}{\\\\sqrt x}$ without L'H\\u00f4pital's rule\", \"$\\\\int_0^{2\\\\pi} \\\\sqrt{1-\\\\cos(x)}\\\\,dx = 4\\\\sqrt{2}$. Why?\", \"Solve $\\\\int{\\\\frac{x-1}{x\\\\sqrt{3x^2-4}}}\\\\;dx$\", \"What is the limit of $\\\\lim_{x\\\\to -\\\\infty}\\\\frac{\\\\sqrt{x^2}}{x}$?\", \"Operations with surds (Pre-calculus)\", \"Simplify this expression with nested radical signs\", \"Square Root in inequalities\", \"Find the value of $\\\\sqrt{i+\\\\sqrt{\\\\frac12i+\\\\sqrt{\\\\frac13i+\\\\dots}}}$\", \"Roots equal constant\", \"Solving a trigonometric function\", \"How to show that alle graphs share a point\", \"How do we solve the equation?\", \"Rationalize Below Equation\", \"Evaluting $\\\\tan15\\u00b0$ using difference formula\", \"How do I solve an equation with three terms, with the unknown inside a square root, inside a third root, in two of them?\", \"Differentiation using first principles with rational powers\", \"Help with logarithmic differentiation problems\", \"Set up an integral for the length of the curve.\", \"How to find an analytic solution to $\\\\lim_{x \\\\to +\\\\infty} \\\\frac{x+\\\\sin(x^2)}{\\\\sqrt{x^2+1}}$\", \"solving $\\\\sqrt{3-\\\\sqrt{3+x}}=x$.\", \"Are my derivatives correct? my answer is different from my books.\", \"How do you Compute a Squareroot limit?\", \"Trigonometric equations with cosec\", \"Solving $\\\\sqrt{x+2}+\\\\sqrt{x-3}=\\\\sqrt{3x+4}$\", \"if $ -3\\\\left(x-\\\\lfloor x \\\\rfloor \\\\right)^2+2(x-\\\\lfloor x \\\\rfloor )+a^2=0$.has no integral solution, then $a$ is\", \"Find the derivative of the function\", \"How is the plus-minus sign used for solving exponential and radical equations?\", \"Solving $\\\\sqrt{(x-2)^2 + (y-1)^2} = \\\\sqrt 2$\", \"Differentiate $5(\\\\sqrt{x})(x^3\\u22125\\\\sqrt{x}+5)$\", \"Closed form solution?\", \"Max value of half circle\", \"Solve: $\\\\int_{2}^{3}\\\\ \\\\left(\\\\sqrt {2x -\\\\sqrt{5\\\\left(4x-5\\\\right)}}+\\\\sqrt {2x +\\\\sqrt{5\\\\left(4x-5\\\\right)}}\\\\right)dx $\", \"Differentiating function with radicals\", \"Solving for a variable with square roots in equation\", \"Finding equation of the tangent line\", \"How do you solve this radical equation $\\\\sqrt{2x+5} + 2\\\\sqrt{x+6} = 5$?\", \"Orthonormal Functions\", \"Adding square roots\", \"Trig substitution; why can we ignore the absolute value?\", \"How does one simplify the expression $\\\\sqrt[3]{2 \\\\sqrt{2}}\\\\left(\\\\sqrt{2-\\\\sqrt{3}}+\\\\sqrt{2+\\\\sqrt{3}}\\\\right)$\", \"What is the farthest distance a vertice of the smaller square could be from a vertice of the big square?\"], \"type\": \"htmltooltip\", \"id\": \"el959585418505360pts\", \"hoffset\": 10}, {\"type\": \"toptoolbar\"}, {\"voffset\": 10, \"labels\": [\"compare slopes of two line\", \"Coordinates of Intersection of two circles\", \"Equation of a tangent line: $f(x)=(x-4)(x^2-5)$, at $(2,2)$\", \"Calc 1: story problems using maximums and minumums\", \"Do these three lines intersect the same point, and if so, where?\", \"How can I calculate the angle of a slice of an ellipse?\", \"finding a tangent vector\", \"How to construct a perfect cube in two point perspective\", \"Find the area of the smallest tangential trapezoid?\", \"Angle between two vectors, where am I wrong?\", \"How to find a center/axis of rotation?\", \"How to find the area of a segment of an ellipse\", \"How to get a parabola from 2 points and a slope\", \"Find an equation of the plane\", \"Integration ( Area of a shaded region )\", \"Find connected components of a a set Y\", \"9th grade trig question\", \"Equation for the family of lines that passes through $3y-5x-10=0$ and $3y-\\\\frac{x}{3}-\\\\frac{5}{3}=0$\", \"How to calculate the total number of possible triangles where the perimeter is given, and all sides are integers?\", \"Prove that these two angles are equal\", \"Simplifying a trigonom. expression\", \"What creates a unique quaternion?\", \"Finding the MidPoint of a Right Angle triangle\", \"Triangles in the Gauss Plane\", \"Algebra - Find the equation of the line perpendicular to 3x+2y-4=0 going through point (2,-3)\", \"Tetrahedron- Inscribed Sphere\", \"Find the equation of a parabola which passes through the points $(5,10),(\\u22125,0),(9,\\u22126)$?\", \"What's the diameter of a circle suppose to be if\", \"Find a the value of a point on the tangent line\", \"Very simple problem for my daughter but we, adults, find 2 different answers\", \"find equation of tangent line to y=1/x^2 at point where x=-1\", \"quasi concave function and convex set => unique maximum\", \"Similar angle problem\", \"Does $f'(0)$ exist?\", \"Finding a point in a parallelogram\", \"If $x=a$ is not an inflection point and $f''(a)=0$, is $f(a)$ a local extremum?\", \"Prove that Honeycomb Structures are the Most Geometrically Efficient Structure\", \"How do I calculate the distance between 2 unmeasured points in a cloud?\", \"What is the relationship between geometric center and geometric mean?\", \"Geometry problem without using trigonometry or similar triangles.\", \"acute triangle and internal point\", \"Trigonometry: Height of a Tree\", \"How do I find $x$ for a parabola such that the arc length is equal to\", \"How to find the distance using dot product from point $A$ to the line through $B$ and $C$?\", \"Board Cuts for Platter\", \"Finding the angle of a sector\", \"Area of a square inscribed in a triangle?\", \"how to apply implicit function in derivatives\", \"Difficult elementary triangle problem\", \"Finding minimum value of a function of two variables\", \"Application of pythagoras theorems (circles on sides of a right triangle)\", \"Find angle inside of isosceles triangle\", \"How to solve when the unknown is given?\", \"Dealing with Coordinates and curves\", \"tangent line parallel to vector\", \"How to apply the law of sines in a non right triangle?\", \"Determine the central angle theta\", \"how many lines can be drawn from a point in space with n degrees of freedom?\", \"Software for solving geometry problems symbolically\", \"How to draw this particular rectangle?\", \"Finding two sides of a triangle\", \"Parallels in the planes: Differences between horizontal and vertical\", \"angle of rotation and axis of rotation of 3x3 matrix\", \"flaw in law of cosines usage\", \"Almost identical map\", \"Incircle in triangle\", \"Predicate for intersection of polygons\", \"Construction of the equation from a given graph\", \"Calculate the height of a distant object using estimated angles from two different points.\", \"How did Archimedes find the surface area of a sphere?\", \"Find the intersection points of the line L with the three coordinate planes Oxy, Oyz, and Ozx\", \"Use Stoke's theorem to calculate the surface integral\", \"How to find the sum of maximum and minimum area of a triangle within a rectangle?\", \"Steepest tangent vector to an explicit surface\", \"condition required for a quadrilateral $ABCD$ such that every point inside $ABCD$ satisfies $PA^2+PC^2 = PB^2+PD^2$\", \"Common Triangle\", \"Can I cut a lamington into 3 congruent pieces having equal icing?\", \"Find the intersection of two parametric equations at one point\", \"Angles of a Triangle\", \"Is the set of lines through the origin equals to $\\\\mathbb{R}^2$?\", \"Implicit Differentiation and Tangent Lines\", \"the intersection of n disks/circles\", \"finding solutions by using the discriminant\", \"Would like some pointers on this geometry problem\", \"Triple Angle Condition\", \"Simplest way to calculate the intersect area of two rectangles\", \"Surface bounded by a cylinder and two planes\", \"Is this property of parabola true?\", \"Finding the angle\", \"How many such squares can be formed?\", \"What is a Solid Angle?\", \"Forming a ring with equilateral triangle of the same size\", \"Intersection between a sphere and a plane\", \"Show that $x$ and $y$ satisfy the equation $y = x^2$ if $(x, y)$ is equidistant from $y = -1/4$ and $(0, 1/4)$\", \"Intersection of a disc with an axis-aligned cube\", \"In a similar triangle, if the property is SAS the the other two property automatically becomes true?\", \"Product and Quotient rules in Calculus\", \"Implicit Differentiation to find equation if the tangent line to a curve\", \"Does the normal line exist at $x=2$ given a parabola $f(x)=x^2-4x+3$?\", \"Maximize and Minimize a 12\\\" piece of wire into a square and circle\", \"Intersection of line with elliptic curve\", \"Rotate a 2D function\", \"How to calculate the angle made by 3 coordinates without using cosine rule\", \"Find the area of the convex quadrilateral\", \"Generalized Mass Points\", \"\\\"The intersection of a plane with a right circular cylinder could be which of the following?\\\"\", \"Why integrate using dy instead of dx using shell method?\", \"Quadrilateral Top Point\", \"Find points on a triangle\", \"How does the graph shows horizontal tangency,but how?\", \"Linear and circular distance to horizon\", \"Finding the 3D coordinates of an unknown point from three known points\", \"Find tangent line to graph by computing a limit\", \"How to prove: $S=\\\\frac{4}{3}\\\\sqrt{ m(m-m_a)(m-m_b)(m-m_c)}$\", \"What is the locus of vertices of isosceles triangles with a given base?\", \"How to find the length of a right triangle?\", \"How to get to linear form?\", \"Geometry Problem on medians\", \"Isn't this definition of an isosceles trapezoid slightly redundant?\", \"solving 3D trigonometry\", \"Maximum area / perimeter ratio\", \"Area of intersection between line and circle?\", \"Find the Angle ( as Measured in Counter Clock Wise Direction) Between Two Edges\", \"Finite points from graph of the following equations?\", \"Condition for a quadrilateral to be tangential\", \"Finding Length Of Segment\", \"Give $3$ coterminal angles\", \"How find the maximum possible length of OC, where ABCD is a square, and AD is the chord of the circle?\", \"Determine a regular hexagon given points\", \"Critical points for undefined fraction on closed interval\", \"A point $(x,y)$ moves so that its distance from the line...\", \"Standard form of the equation of a circle involving two points.\", \"Rotate around a horizontal line\", \"Calculate point on hypotenuse of right-angled triangle\", \"[Geometry]Prove that $AZ = 2ZC$\", \"Check whether a point is within a 3D Triangle\", \"The $y$ coordinate when rotating around the $x$-axis.\", \"Finding Speed at a Single Point\", \"Find equation of the tangent line, given a point at which the function is undefined?\", \"Square-To what should $x$ be equal?\", \"diamond circumscribes a circle\", \"Find the value of $a>1$ such that the curve $y=a^x$ meets the line $y=x$ once and only once.\", \"Stationary points of a function\", \"Generalized Heron's formula for n-dimensional \\\"n-angle\\\" instead of \\\"triangle\\\"\", \"How prove this $|ON|\\\\le \\\\sqrt{a^2+b^2}$\", \"Regular polygon determined by three vertices\", \"Calculus Vector Question\"], \"type\": \"htmltooltip\", \"id\": \"el959585408126160pts\", \"hoffset\": 10}, {\"type\": \"toptoolbar\"}], \"data\": {\"data06\": [[0.031212664277180398, 0.2256571087216249, 0.18085424133811237, 0.1360513739545998, 0.09124850657108728, 0.046445639187574696]], \"data07\": [[0.008213859020310632, 0.016427718040621292], [0.360175384557945, 0.016427718040621292], [0.360175384557945, 0.2502986857825568], [0.008213859020310632, 0.2502986857825568]], \"data04\": [[-0.48810275541968323, -0.10538283752472935], [-0.526705855124262, -0.5431862425707211], [-0.39031054941116244, -0.3322523289957465], [-0.39615151985384556, -0.2774689982630765], [0.37214461933016446, -0.41360178559637845], [-0.38100228620494075, 0.4181428787054151], [-0.33459084830973584, -0.229816615179357], [-0.4571805272699887, -0.05916116028923408], [-0.5167324271692431, -0.48079687920579356], [0.1859619324933247, -0.5612170608081818], [-0.22644263330228764, -0.2063624511095321], [-0.6029502536157973, 0.04844511995861488], [-0.5964485558320608, 0.3069322398635609], [-0.32619721930003637, -0.5384985645481178], [-0.18825696455025787, -0.4242302711878834], [-0.201353709965961, -0.49649646833235306], [0.31327674851022574, -0.5653435105990526], [0.47896214709956475, -0.18121489890455525], [0.6280021342182275, 0.10890729970892551], [-0.5564190298231211, -0.23793937009348434], [0.09694113615113342, -0.4415296424210905], [0.25639894477717856, 0.4031274467120443], [-0.2026056258129301, 0.335144285734071], [-0.09541639370205547, 0.5156652109584676], [-0.12745343650283641, 0.10799151764755084], [-0.2102830544298811, -0.12724722436129732], [-0.48813966434946865, -0.3785850476002692], [0.20461429311006632, 0.12998950667029868], [-0.39201529974337884, -0.24535957657970645], [-0.5173763952646612, 0.258730983713211], [-0.3401309422505665, 0.5770087869745183], [-0.6500794442170676, 0.028161792094328675], [-0.4526347630352065, 0.2682677646774], [-0.37795762965574564, -0.043358136480193626], [0.2642553528274249, 0.30204438201039174], [-0.48317442854371195, -0.17231238264501078], [-0.22196432508812436, -0.24839691260822017], [-0.6695540423174298, -0.0872663105937689], [0.2964667585026629, -0.12984684889592832], [0.3206338625249749, -0.2510932708622615], [-0.6474154246708396, 0.14913146122408918], [-0.28875028318313467, -0.2480797588389106], [-0.334080933028821, -0.5242533481042624], [-0.19211484602999918, 0.5920149152426962], [-0.4405424776788592, -0.41235830884777136], [-0.12316276767876057, 0.08944120522045164], [0.3141249361139134, 0.048851685110648135], [-0.07284661461491432, -0.5756724095255831], [-0.47708916352530734, 0.25439444604742256], [-0.6459860519743083, -0.25850067811191324], [-0.37113669190947135, -0.5246134579116294], [-0.31989788584435896, -0.2033427868336956], [0.25332087087948907, -0.08516166366565464], [0.08489359465628828, -0.5795634398938376], [-0.37696694589098, -0.37915044130029196], [-0.31567678454771064, -0.10932264036846553], [-0.2249219904366887, -0.26022739085169677], [-0.623035631176021, 0.44351690407567507], [0.49940439415044857, 0.06517475551042626], [-0.19492029565413077, 0.09745804402760055], [0.2707714819345035, 0.36319916637572497], [-0.2555242572253583, 0.2719363896014579], [-0.5130648915999173, -0.000656963836787], [-0.7176027804553937, 0.23710611791816313]], \"data05\": [[0.7039114445745522, -0.16974774038470275], [-0.22271980632155147, 0.6457306883129919], [0.6969349141448524, 0.21033158265245586], [-0.4512763109168459, 0.5194699713932495], [-0.3087973612487063, -0.6129131787752137], [0.5767257765381145, 0.49912810673923763], [-0.7203423878745756, -0.19055936202002718], [-0.6325225312507942, -0.38724433889709137], [-0.6801224261811217, 0.3753827398165824], [-0.5892765389529454, 0.44769131863422273], [0.45242173405273184, -0.5728758365383706], [0.7047319986606104, -0.3036212240786214], [-0.1423803556735558, 0.7713959936194986], [0.16632218025647508, -0.6992968049745427], [0.26367513469310666, 0.5221048102762843], [0.4933496621333483, 0.5150089839381732], [0.6223979727829695, -0.3951595793554278], [-0.08937708034123613, -0.7291913570958362], [0.7100409000765433, 0.2810984130705463], [0.39416540283697565, 0.6127734987162325], [0.21652810751669221, 0.6410352338000428], [-0.12944738846880735, -0.7375354119032717], [0.2570828474557739, 0.474144729144197], [-0.748072093808972, 0.1774868708527205], [-0.671599570519992, -0.009195115468745229], [-0.6766396743382236, -0.41515740588017824], [-0.6230182355063301, 0.42788808835256026], [-0.541564151938485, 0.5419435031165732], [0.3180635643676583, -0.5535996597320173], [-0.6566351196369669, 0.25128863648854716], [0.45837854245112797, 0.04954640274236978], [-0.44033989993875966, 0.6405030353693038], [0.6578773003685825, 0.30333781307406493], [-0.3272416839636816, 0.3009589314863178], [0.335003995817591, -0.6985132327713446], [0.34509115722009187, -0.662680946299771], [-0.6883378589156727, 0.26334578366705375], [-0.7279526357007491, 0.08926412606821194], [0.5807315419465867, -0.5465337642216777], [-0.39715194442279717, 0.5399602662938963], [-0.40581791621287716, -0.17188894405675512], [-0.6548549770082819, -0.45267372331918826], [0.29374419780552147, -0.7278688166769316], [0.43263877307844634, 0.5541996284684617], [-0.7965315093687814, 0.10762043248046692], [0.6301837067270523, 0.4259241838671862], [0.4828753836047261, 0.42074684323141776], [0.582362815244249, 0.5194909573190271], [-0.29863965399271564, -0.6616304172526474], [0.6768621220958436, 0.10743794617516145], [-0.7463892819728724, 0.1500206890593889], [0.5190095561780372, 0.5623304939837453], [0.7360281225572688, 0.07658421044716497], [0.5016033141058294, -0.40303455581628245], [0.12254189640939085, -0.6095338417320142], [0.6312576989800694, -0.17865496107624046], [-0.6834577327363249, 0.4070741561686414], [0.4954684083106724, -0.09170028808421142], [0.2662636444254574, 0.6826090054574959], [-0.48377270317371823, -0.6112590234000683], [0.16827724941302777, 0.6641783239746355], [-0.11086139752600806, -0.7859367579751234], [0.3754587391110646, -0.6693770632067843], [-0.29681611938219016, 0.530606493964382], [0.7666060215205056, 0.006378659578447938], [-0.42334839039255434, -0.5737650310195677], [0.44783908946098283, 0.622338180104985], [-0.1905804145779325, 0.4445770232634214], [-0.7181860571176212, 0.043079222215081085], [0.737052250718978, -0.08879023313130183], [-0.33692901350821447, 0.637434350765625], [0.38699591135646244, 0.6359884336890705], [-0.6692258691929774, 0.23432246612274835], [0.569692526517602, 0.2886233996021121], [0.6508975873319304, 0.4001824125223796], [0.6904500580489579, 0.33475423246749314], [0.2365773233217462, 0.7547771890010783], [-0.4076801097315785, -0.6200792851446874], [0.6737230188850444, 0.20409141798965855], [-0.32206312763332645, 0.49405512072677094], [-0.1296690217794527, -0.7270922670304281], [0.2482568985492113, 0.7238423505763135], [0.2857746144871449, 0.7322092523650948], [-0.23449040729021992, 0.4247959189819012], [0.6790389748324202, 0.19637061701146122], [-0.0379689236428659, -0.5922707261345127], [-0.39405150818635315, 0.6640403161843385], [-0.566086483784271, -0.49662515054097395], [-0.6113804898789978, -0.4678723512216308], [-0.5440271251799472, -0.4990377560727023], [-0.37761024264219334, 0.6978003537730015], [0.2188984885550259, 0.654964244052062], [0.5724643503000116, -0.48205862494670776], [0.37817618406987935, 0.5337559111202669], [0.2019420578067334, -0.739252046433586], [0.31024184286954104, -0.6854883004120139], [-0.42773748281146495, 0.5847899015488942], [-0.26675146630940566, -0.562233875463578], [-0.44573365788064806, 0.5446119119697556], [0.4138328008673909, -0.32835522822198654], [0.021724408207053177, 0.7537023444939673], [-0.6137410985297953, -0.4628865621697942], [-0.1543583405564286, 0.3990757101621329], [0.2591535504658894, 0.3746196036185336], [0.5003350417030269, 0.5868413864227021], [-0.38067206784219915, -0.692338373846287], [0.612941791447375, 0.5099946016502898], [0.1372631661427483, 0.2838836521270862], [0.5105678614068621, 0.5199966799483153], [0.6379664117996477, 0.34191510277564413], [-0.5125997439252108, -0.47217749485444266], [-0.7036628816643353, 0.2997620108922344], [-0.31402336651241153, -0.6823596969435176], [-0.3036100650865574, -0.6871953985093392], [0.134462820103091, -0.7707670601060018], [-0.7494197129769028, 0.052417957656549975], [-0.6994717878138097, -0.18756487369916158], [0.11859259231852075, 0.7891022265064502], [-0.3394644133116327, 0.5518165813403968], [0.5033336700181178, -0.6070694256053834], [-0.6783986387991617, -0.0940787412764546], [-0.5489759633390501, 0.4717372158293518], [0.04402656438500719, 0.684322532572785], [0.5936100027537934, 0.3145289445511443], [0.5911226385521559, -0.4698727209140259], [0.19348803909149906, 0.7429134014502378], [-0.64362215651373, 0.4635334731649617], [0.7459135364874464, -0.1463851583980634], [-0.5168468664655069, 0.507266177454313], [0.3159530319529217, -0.4039685903326893], [0.5981265697320796, 0.148017735267258], [-0.47480242631083147, -0.2872808237196497], [0.7755558808449786, 0.07135049500171498], [-0.5193799224941227, -0.5873729216736976], [0.6050070788638248, 0.4529381911694851], [-0.27437814207292643, -0.7096641682339119], [0.5036207235488914, 0.03710869175955399], [-0.6554009817824136, 0.19622005255162386], [0.3560256304072942, 0.49040681778626116], [-0.10526817274296148, -0.5103668587720067], [-0.7686670705934917, 0.016297855844812914], [0.2799595076668361, -0.7355905081344509], [-0.7386013112698339, -0.30816790291791757], [0.5834401717623879, 0.4618512042873319], [-0.5899893004572307, 0.1997828276922248], [-0.20712423314720896, -0.7608454219602293], [-0.5325844643548152, 0.15523570732242514]], \"data02\": [[0.020468288553787135, 0.5622083202138032], [0.15988727650510812, 0.33862356741133803], [0.0919529357060706, 0.6356331766378072], [0.6437171433638196, 0.3805710476184124], [0.13573368963823207, 0.6425321810247524], [-0.03404015857660939, 0.369523271571711], [0.19877446065991838, 0.6053128555525799], [-0.2669389006655125, 0.40152219328213506], [-0.2836620037078639, 0.5478508815640603], [0.05095926364574067, 0.35945233484858874], [0.026955018396896294, 0.3375892171522645], [0.1592191667355046, 0.19316731567250078], [0.14473542164484166, 0.44714165358143365], [-0.39346024780797195, 0.2600513533774746], [-0.09664788300878828, 0.35484586147145664], [-0.37265236896253473, 0.5152400520799078], [-0.12248436358981171, 0.6678161025460776], [-0.09189722738164735, 0.5325997925479506], [-0.4099929923282383, -0.5558811081735031], [-0.03323424961705231, 0.5543181195782138], [0.6333204258971793, -0.058353324929268785], [0.07128394560962022, -0.3813333811573962], [-0.01359837692832617, 0.4836528390301068], [0.06720684408324006, 0.1667617345924264], [0.05158238747231832, 0.739198678075469], [0.4392536898854215, 0.24104615960855277], [0.05369057850930309, 0.6091593304065416], [0.2908915962334544, 0.48996247990512304], [0.3408697040546773, 0.2911769718876204], [0.195301651834214, 0.21444273486495824], [-0.08327803276518936, 0.05540546406185022], [-0.0027899573891217947, 0.3442542566950388], [-0.32268496171580285, 0.17638996621262243], [0.070732887249437, 0.13599562348117253], [0.08700157602061478, 0.4133446990973795], [-0.49829316308777827, -0.587584508602997], [0.2512247579708373, -0.0767570527853406], [-0.2052307776260399, -0.6431024029606472], [-0.19499609110614838, 0.23866940981368717], [0.17519410163587398, 0.5334692079642723], [0.21766792214807917, 0.5478417930404198], [0.07340554979830081, 0.2808951557797489], [-0.036489360812505145, 0.436458397748311], [0.5798377170293669, 0.479924879239835], [0.13198343533740597, 0.46633302870575655], [0.15681206459583863, 0.6156917263258843], [0.036667583149352416, -0.04076313036897119], [0.35644376684454376, 0.40832460298390305], [0.2237904020698019, 0.5761931241425877], [0.35233358001704923, -0.4971818366191561], [-0.06556806257926638, 0.2048859562946959], [0.08330016156491302, 0.23091064096010933], [0.006412753526528463, 0.7583742046670638], [-0.3669771813392636, 0.5751788531912113], [-0.13945885771161382, 0.51657350887906], [0.24151100385956867, 0.7164363620781594], [0.18619874891237775, 0.3167568904924973], [0.015913842071538474, -0.024874536431543224], [0.2521213117333129, 0.5052842477066661], [0.031102101985810152, 0.2530459164011007], [-0.059349276558443916, 0.5635318163289091], [0.07833826534980783, 0.5063021371765889], [-0.15136173368120312, 0.3276734303052683], [-0.12920438409731744, -0.4532114297493992], [0.0646480686488344, 0.4914216783134552], [-0.018631823156454366, 0.3911263512393337], [0.2920258011126088, 0.36130829946309545], [-0.5315746520049733, 0.5389087012594957], [0.2239611182468027, 0.20603235182435847], [0.19020983449717982, 0.5828751316037873], [0.004925296744000381, 0.4444201729646183], [0.0775320601950393, 0.2698923214412838], [0.4093857771036997, 0.3846446601860915], [-0.06000922185021591, 0.19723536974839972], [-0.030071393059119347, 0.5867063751883045], [0.05593448491271499, 0.39865214309569885], [-0.32409974887068965, -0.255882598067168], [-0.04508549458282056, 0.2563001421340435], [0.011821829242307383, 0.3765808623367696], [0.13762792799201878, -0.6912416227436742], [0.42102542878336174, 0.033313773312321805], [0.25994846255882786, 0.6522761859589621], [0.33318708042791123, 0.4275888966569349], [-0.13775308054080324, 0.5142809448816633], [0.05060533429244058, 0.4805513957112766], [0.0716538661754303, 0.5787864659034363], [0.16838718425655497, 0.6877584039581074]], \"data03\": [[0.6713851494478756, 0.20902497808442913], [0.7391662977255314, 0.30974960287910147], [-0.17247714647970894, 0.7594106715896541], [0.19623773668177652, -0.4104193387899268], [0.4751640156024675, 0.02882768641951659], [0.6519816094030572, -0.28398188167644545], [0.34762212944289433, -0.3531677602189578], [0.539614803008408, -0.09073523020985233], [-0.5791021684845807, 0.5523618477148879], [0.7937470641729938, -0.1272491421663961], [-0.6124451970825895, -0.33958538267923105], [0.5770468521474879, 0.5298862058744169], [0.2101602793979981, 0.6795435102093307], [0.3436600817705955, 0.5053469294971138], [-0.7730670098329123, 0.2122318673112158], [0.6238120487662164, 0.40077935598603487], [0.434129583400342, 0.6450387646482684], [0.5606121442734502, -0.39534239855852843], [0.2591886070126128, -0.6941384824945396], [0.2430325910469253, -0.7313214114386812], [0.4017009431081246, 0.28714731081932876], [0.12205007083340584, 0.7157020231902606], [0.7794462712459604, 0.1228682637348973], [0.7017156471275565, -0.35224621257889394], [0.008003849966409887, -0.6110377422419289], [-0.7466709974843955, 0.2649215138404344], [0.6079739740172642, -0.46384299829673203], [-0.5714706200579067, 0.4521600382878802], [0.23810773671279659, -0.6822899417981899], [-0.4729561744559862, 0.6061754403134157], [0.32287203035247686, 0.04200936990216103], [0.4813366096999946, 0.5230476827334168], [0.4309507269289328, -0.12136691071304784], [-0.71991978155633, -0.264172829491858], [-0.22663227288315899, -0.7027675174709419], [-0.7015912766375121, 0.16679392964907372], [0.7888905752002954, -0.06506153641483292], [-0.7624054273273216, 0.13313520858512654], [0.7651193449789505, 0.2283406150041523], [0.6441283980971941, -0.25001482341413794], [0.5968444784002126, 0.4805204137779656], [0.2567712768595407, -0.557023229491996], [-0.7391454728016832, 0.20029617775246275], [-0.36259678325771383, -0.061891757950868424], [0.09358422107456768, -0.7174641399267158], [0.7999868208517548, 0.04902379646281006], [0.7265825856417527, -0.06179377340358543], [-0.606086248030326, 0.15344808909036214], [-0.49099121269902274, -0.6280396417051384], [0.4818159864743182, 0.6158780091332254], [-0.6100340288486046, -0.16254829797924977], [-0.24153707974297622, 0.7350891928174088], [0.05750387342050905, -0.6775949588182871], [-0.7887389571284498, -0.05953473169019101], [0.4371812012493881, 0.05208813925991317], [-0.7490577341087418, 0.07791812081454542], [0.39318712127687094, -0.1100545614638929], [0.479633319770632, -0.3603397132239581], [0.33621030901463866, 0.41619559283486524], [-0.08258364008908031, 0.6768712722892122], [0.542661428492409, -0.42412979107317617], [0.48241661811354475, 0.5909242270089612], [-0.2634852886832553, -0.7003419654273361], [-0.0003402842490284861, -0.41751256890764493], [-0.522409093722036, 0.4957361663560114], [-0.7589711415702171, 0.0943318165248781], [-0.7890224615831468, -0.012342829430812108], [0.21774485814445263, -0.3037962484481777], [-0.5848310516224208, 0.28199780917944467], [-0.48325271869649844, -0.6494925182077356], [-0.6817376381116327, 0.1698800699713999], [-0.7466033719714159, -0.17238993945538986], [0.517546552158156, 0.5703320152369438], [0.5816898078039108, -0.5589290764446189], [0.7498211594040555, 0.1951829563333787], [0.5006685997234277, -0.48799699706547867], [-0.6682034061323453, -0.3715415462070395], [0.4703792823800849, 0.5999220320533885], [0.4172906204337041, -0.39423117676449393], [0.727103259019165, -0.16332767591338737], [-0.47377108877134044, 0.07457507319667836], [0.7115802601429974, -0.10358428176331963], [-0.23208813872033984, -0.7586624136318918], [-0.7844788802252249, 0.06481535527422058], [-0.6028661484590911, 0.3854123455075517], [0.7465580277639705, 0.03690125443402125], [0.40931714990878787, -0.2698950212929168], [-0.3646354873228255, -0.6912962052988293], [0.4862724874014734, 0.44377686884548284], [0.08125117100853844, -0.6804838293826794], [0.5516922203726055, 0.2080565157761077], [0.4556405879500004, 0.13259867504439962], [-0.14997934607336955, 0.6440374686264511], [-0.3561123175831875, -0.7325743163307328], [-0.6915646714609157, -0.24891333533432053], [-0.3052724768833078, 0.6463192302374732], [0.1999056598285711, -0.7341043898424902], [-0.010539571368853458, 0.7095615744678262], [0.5074385116464739, -0.6146911900950035], [-0.6017934615161685, 0.39626871065311586], [-0.248408745355465, 0.7404459988341932], [-0.7329614835056056, 0.19200043708548242], [0.5935562924022147, 0.29832733881719603], [0.18105030267227215, 0.5627394565275087], [-0.6872336543405928, -0.0033819239596554525], [0.6175112695633183, 0.07732592175775434], [0.36256778305238613, 0.5519468526545478], [-0.4194578542055554, -0.11426028493075135], [0.5201239411822187, 0.04070424517737502], [0.5292866891994736, -0.14855972701127293], [0.38219082102834995, 0.6554425731584095], [0.5358042515669095, -0.11507813567334914], [-0.7852733042485511, 0.13437014007250409], [-0.24838028357592795, -0.5115908874999913], [0.6208303750860731, -0.29679212619650086], [-0.44837947451947585, 0.4685185888168546], [-0.2768266494402912, -0.6560106037695767], [0.703464825017899, 0.08163067544080396], [-0.3219265631755231, -0.3970805307089927], [0.3803402345845526, -0.38192399998947457], [0.6483876216668059, -0.3559958730101921], [-0.39416231562423143, 0.22553724725714844], [-0.44212418661878755, 0.2058077617655556], [0.43394659387888324, -0.3039559471592205], [0.8052251477360803, -0.08595796713637932], [0.6380923975274305, -0.41429488009458904], [-0.704509537213847, -0.3488209661090731], [-0.5131474785042297, -0.5798700566923959], [-0.7791389886537102, -0.09221204268771721], [-0.7774524307726243, -0.07556964428939493], [0.7227117068770523, 0.2661340821423493], [-0.1742094489101268, -0.709642646649213], [-0.1602844665738463, 0.37546737296343524], [0.5020257149517577, -0.2971302878653026], [-0.42398359274229946, 0.08918371678393296], [0.42402998197487596, -0.5199015552828252], [-0.6716768159948865, -0.2247867941315407], [0.47333585488247776, 0.5267633523822792], [-0.32203207258900013, -0.7139770394332012], [0.6767099246980316, -0.1285849187495249], [-0.2675935080717334, 0.761421014386186], [-0.6758312505616911, 0.29710877922169476], [0.42780686844345495, 0.49467900154872996], [0.46722982215047415, 0.5728105689414743], [-0.16512066073168008, -0.6875096380443023], [-0.7271208369362087, -0.12363013317972582], [-0.15806535395356527, 0.7001441292528757], [-0.08099891540145622, -0.6748199133623092], [0.7267747699022925, 0.2679035222245462], [0.3407954820212655, -0.6480891519553481], [0.32454463584142657, 0.6528280542107533], [0.41259317697053965, 0.6256279536601824], [-0.7613766719919356, -0.26702663835639917], [0.2736624822684799, -0.7127648973449839], [-0.3999710619757621, -0.6652275929865561], [0.6943694453085484, -0.11359534736130955], [-0.5664813116804507, -0.42244088293244053], [-0.11362408779831529, -0.7110752998317822], [-0.7290634948458423, 0.22319541028894496], [-0.2734615081285359, 0.6244119643197054], [0.6658538684652472, 0.4165881167747335], [-0.10746017118860758, 0.7851968896915671], [-0.7273080871954575, -0.3039454222196751], [-0.7539686529002501, 0.0028307535471533032], [-0.6764633773217696, 0.3386508883100622], [-0.43302196746815236, -0.6285774746499013], [0.7549092352656007, -0.23225142416704767], [0.772889221471662, -0.12752156751280883], [-0.5907656630756324, -0.4330473317010911], [-0.3431376844635737, -0.6155394877535236], [0.5694354397848235, -0.4270950692256181], [0.7612173723593023, -0.12765775326289622], [0.47938806617694085, 0.5836818869349433], [0.5361568042018067, -0.5115748993236126], [-0.737887191085311, -0.2096247371007553], [0.5159480084618308, -0.1431601066456867], [0.019868503748732898, -0.7117401287215055], [0.018791040639349745, 0.7339779155554323], [-0.35544500222878794, 0.6896984974647179], [0.5672288127026123, 0.46793567881194814], [-0.3760688379168063, -0.5047736275885932], [0.7117363153852053, -0.06546940867531217], [-0.3520184505816025, -0.31401774719466025], [0.6516504004426621, -0.45205307099192615], [5.5081193619653584e-06, -0.7363057694106422], [0.5968659274303281, -0.43661765754296816], [-0.7304493283304444, -0.16875386436343848], [-0.51734236065223, 0.569066931990511], [0.5934395523903382, -0.11800466677263635], [0.5597781506640077, 0.49340393825675105], [0.11278979856155612, -0.5984127816465261], [-0.2896703519570632, -0.4897271759314112], [0.767100569180024, 0.2017603628106323], [-0.12474823218841005, -0.522485278181634], [-0.5211338060269234, -0.28570852514248807], [-0.7116355614349299, -0.10911593077765436], [0.14069247770122048, 0.664097929291467], [0.015092565285380917, 0.7629573950798617], [0.11955354697239853, 0.604294651101363], [0.1039253717558811, -0.4593367465377803], [-0.14326053306341208, 0.7504865714151044], [-0.08390019012912008, -0.7574387997455035], [0.046084082365290845, -0.7742999612687164], [-0.06311821141306725, 0.761972065920399], [-0.592440064737878, 0.47120406119936054], [-0.7337207548392011, -0.012893631652356127], [0.18062451399795876, -0.4813990647323638], [0.467375403824353, 0.38530935807408423], [0.48605445014121945, -0.6164773970638222], [-0.2654632547946029, -0.743636784081039], [0.5046716206218971, 0.5497840357708398], [0.1753039046012875, 0.7657035950626574], [-0.7246640450475526, 0.28221285449809713], [0.3194918335667837, 0.73451413515039], [0.5249897117893638, 0.5129214075400814], [-0.33557441199273624, -0.3794926087312527], [-0.19095033004605108, -0.7651371248266596], [-0.20350714876665674, 0.7289260544837395], [-0.2729621733294549, 0.5043889021988045], [-0.4093099447931701, -0.6754846157364851], [-0.46008481217193115, -0.6200187114510866], [-0.746158462668745, -0.2951880630566749], [-0.259772261499331, -0.7130406461907857], [0.009324106115909444, -0.7696679061965007], [-0.7249052694707518, -0.16932982227706952], [-0.008646939137224391, -0.6739989930711778], [-0.5876660716769585, 0.33417980078300535], [-0.1280075644023879, -0.6252552019427704], [0.5447452243478921, -0.3926311633816321], [-0.6049765593519989, -0.007355120422050574], [0.25913157612667176, -0.14383163838330157], [-0.10286022123698513, 0.4543022150771522], [0.47480941861264214, 0.4570535908048598], [-0.5174134311570396, -0.020234001260014647], [-0.7605968360504147, 0.20266761759634355], [-0.21994583524565955, -0.6196090003458324], [-0.5402985823909356, -0.4282771266128361], [0.19282183051314464, -0.769620323441543], [-0.07557766507739316, -0.7956505312207117], [-0.6041028891639845, 0.07849018094742934], [0.6901225825561172, 0.06663227705816539], [-0.7176709021219726, 0.15641735330666945], [0.18070293309551835, 0.7230109386786489], [-0.5713491422037051, 0.3436049310244444], [-0.4175599451318789, 0.45915830537858177], [0.5610328164221419, -0.13463477756075903], [0.6345431417732522, -0.19450186777078393], [-0.6657749648563671, 0.43371332434762666], [-0.6323575697697604, 0.4044297261609439], [0.5279576512120986, -0.09446756569245218], [0.6043678614705144, 0.09089616155223723], [0.5447673803355222, -0.5372466990401842], [0.7377876616468441, 0.29114250515123974], [0.7582950895445132, -0.14400944537091376], [-0.5108888309634867, -0.6228364446669228], [0.7155633215857838, 0.1803102246058847], [-0.1693231654526551, 0.6777726777571365], [0.44978848279803907, 0.4157582426612806], [0.2380023340282166, 0.7009287450954614], [-0.646383425450664, 0.12306065483974554], [-0.5652414263707867, -0.38024070406448096], [-0.13663968104021937, 0.7406083737571383], [-0.031174165786413417, -0.6196025606774791], [0.7635218358535385, 0.17563864188657863], [-0.4172065056169626, -0.6201588797488573], [0.504534307645772, 0.04386937402889942], [0.47902841800163143, -0.5925404584504521], [0.27044652819233145, 0.3337176606789196], [-0.4754911260556663, -0.038637379564264135], [-0.7825021597005013, -0.006262678757703431], [-0.29319574118743985, 0.39083405797165505], [0.6527312723978574, 0.4434465627960222], [-0.2222583592726976, -0.642158645394096], [0.6459555234805235, -0.2648713986643502], [0.5747435766152503, 0.23385031538525006], [0.26403766658157724, -0.38752133455376764], [0.3322525508175532, 0.08588769104270269], [-0.5721095494823624, 0.4283494015036664], [0.5015287210220679, -0.0806587272121097], [0.43557501527454545, 0.47170956748025555], [-0.5734409549001557, 0.4310329704396133], [-0.3150001652832008, 0.32140639549657635], [0.6852955934894928, -0.11097890105901309], [0.510514620245461, 0.12770648594998057], [-0.22109272847474665, -0.7341474442793174], [0.7414487634612281, 0.2120934714379932], [0.6114493914681822, -0.4735610512580632], [0.6148111398247363, 0.5165237513116469], [0.4003978703386005, 0.674768755506313], [0.3404158144321458, -0.346440021387793], [0.2916065753094867, 0.6576032001613396], [-0.3443927926317969, -0.5101332497195187], [-0.6671472308481247, 0.2792011203164294], [0.4103520751861865, 0.6136839080735986], [0.4427931850329728, 0.6424380519713626], [0.17672160792073122, -0.3649939458524753], [-0.2152816012063766, -0.7290720485255817], [0.251056935545088, -0.6801279020742205], [0.2825174363381217, -0.71347442939823], [-0.5742741726434737, -0.4243658937311661], [-0.15194134382074134, 0.7429763561878485], [-0.3351688612140836, 0.3231524064005916], [-0.05033544783663897, -0.7035565801614128], [-0.6382205708185973, -0.018324369239900155], [-0.4103069883040558, -0.6385233839796017], [0.7063018773906127, -0.30781672912932656], [-0.3966213464135375, 0.38471626461325975], [0.5130480067266453, -0.27975295024258556], [0.5056697783680107, 0.3414145659126816], [-0.2622223017080526, -0.7156142048918244], [0.3969651559090499, 0.508470369351966], [0.7240106392135386, -0.3046658854239654], [-0.6409631449008032, -0.4661590862411119], [0.3013084668983007, -0.732137036585272], [0.4069418053191511, -0.6775641881479574], [-0.6377555363204364, -0.24777696676078273], [0.3869273180580821, 0.5586874358472278], [0.3499917248800046, -0.2231911688563796], [0.4241824372757261, 0.00975672550220194], [0.2870186631973624, -0.5091552594183688], [-0.3091560723094655, 0.6765171281757351], [-0.38391900859973727, 0.6361688428541695], [0.5183547117708518, -0.4060081801186043], [-0.04279585490781689, -0.7725344509888991], [-0.5278085262984408, -0.4262179014229749], [0.6413573367847624, 0.04958928248627094], [0.610052508660911, 0.42224598308876365], [0.7173418944033562, 0.21746365930030426], [0.529473667842075, -0.3907244452739913], [0.6713022985457267, -0.18769853760480065], [-0.7286219187941205, -0.06002857644242719], [-0.6539639483524244, 0.2034762792328099], [0.1875327975074115, 0.7421786014625174], [0.08730198970400822, 0.7922338620322122], [0.0585932649332226, 0.7405278889426856], [0.2518387724378744, 0.6468868408146917], [0.7207071434744218, -0.31462409653816614], [0.4753312552475074, -0.5173142387674081], [0.5615428811683683, 0.18715310508065142], [0.16472644092039335, 0.7559746342671521], [0.5014916590521653, 0.5231840994451561], [0.3552915128275882, 0.6711372835540909], [-0.7494963669970461, 0.08406351737764081], [0.07813873657955064, 0.7152915108245766], [-0.6895731776286789, -0.3028678787784262], [-0.3611778135028707, 0.6174879820099528], [0.6742497195431211, -0.4025630523527797], [0.2633771284266894, -0.5893296287290605], [0.025260098478837527, -0.7395987839704524], [0.3006036767688109, 0.7320714435462582], [-0.5151997427007686, -0.20079062971820236], [0.2904512400594709, 0.6446592914613142], [0.39847197038801846, 0.1509459422675576], [-0.5606504369386623, -0.457864352695545], [0.15739339205706168, 0.6492562249225952], [0.09203053958325576, -0.7786647596105591], [0.35930432806874024, 0.01649707234318113], [-0.7268269654552268, 0.025708605419945053], [-0.39077883406662756, -0.499447279880242], [0.3063485414393771, -0.47093992558844666], [0.573959080503749, -0.5521758816164777], [0.20202627344993532, -0.5719427628179306], [0.7353140345738786, 0.17316333995657865], [-0.45272759311780275, -0.6207769448506277], [-0.5907545679582787, -0.3196893823790051], [0.7356716239616308, 0.058497908331956006], [-0.3645302688589025, 0.70002322207592], [0.355407975323609, -0.7185504358850401], [0.0712463582738092, -0.637398632727492], [-0.4877844716043279, 0.024587839538786627], [-0.1335408974682981, 0.7450493846345282], [-0.3914239742843743, -0.4770805664763549], [-0.13558995882247568, 0.7471028909744554], [0.10307518889305935, -0.72835466465701], [0.3747790213270081, 0.28901758467986083], [0.38014856854429474, -0.4952112817278196], [-0.6129727400472326, 0.3940941442374044], [0.6990713969876424, -0.3958220302670295], [0.2545446079809538, 0.6217093151031893], [0.34369557089783, -0.5996825330703887], [0.36201898895607004, -0.06929596702393417], [-0.3788524591751832, 0.5959536470759512], [-0.5127446773800244, -0.6063429461500036], [0.7374007676336073, 0.13189962732185542], [0.5985540296876406, 0.3449645268797079], [0.3394178763095043, 0.532739614593951], [0.4508624717446507, 0.4417339635018757], [-0.2454895715375006, 0.5823298272568386], [0.3725557195221251, 0.3211701048839651], [0.7683102741690139, -0.057635098980709384], [-0.32863121401808937, 0.7207617654839572], [0.41747693356896737, 0.3244415721019887], [-0.7289136490747529, 0.3075063443692448], [-0.41615546045623836, -0.4888699524946135], [-0.2589707659841494, 0.2555819356152577], [0.3085657526765551, -0.22938598034534377], [0.14724169889520622, -0.7259831422701085], [-0.024722212819152222, -0.6897902441039213], [0.3212006629763009, -0.6820434837148163], [0.6123198581145476, 0.37941461888795597], [-0.1705141610307684, 0.5751149480486399], [-0.5920295594261471, -0.04603786545173305], [0.4878849951931214, 0.2391620413166696], [0.5535696535558609, 0.12948681306138274], [0.7475321003985572, -0.25468271140905935], [0.4681533815406383, -0.6133571908604986], [-0.5269326073847018, 0.5165233897349129], [0.0819469660435938, -0.7270807637132933], [-0.6657694619733613, 0.12430356443596306], [-0.7745895356555306, 0.14857633637629533], [0.4181078113598563, 0.6139853411436434], [0.23653355020653963, 0.08621293979241738], [-0.674227658462448, -0.17584111123287247], [-0.709209720311919, 0.07090937941060091], [-0.7559640491730266, -0.19191618550716744], [-0.6444098547646477, -0.29200445772120526], [0.6023333685664262, -0.036421880765243025], [0.07654355906339302, -0.7743492792854042], [0.025193864134049084, -0.6095951140029212], [0.21342890369557568, -0.7527223769785322], [-0.7298207504358483, -0.10175226812581631], [0.46622711531557465, 0.19691269935024616], [-0.7254756150152933, -0.2692829706903337], [-0.10649889144889456, -0.5726281379583833], [-0.6853635020714121, 0.42644827634843163], [0.7447065040198685, 0.2618514781424522], [0.5822770277977763, 0.167845351458971], [-0.562432011250579, -0.4050784115218784], [-0.1068690064462279, -0.6758026910569959], [0.7402264855358777, -0.03518906038052775], [-0.0020479070313508185, -0.6899343379942555], [-0.4939087716744539, 0.38779311331325533], [-0.712900537261328, -0.15929926527567848], [0.4369093177334197, -0.6017123109067756], [0.34128066559874687, 0.6187397725729795], [-0.21284585321141236, 0.7431913195082953], [0.056200440999200185, 0.7730879144770936], [0.6325306300182261, -0.409481469245847], [-0.3736325587208313, 0.5387625518756706], [0.569493509338785, -0.5201196378577468], [-0.004256769229783439, -0.5169898548573633], [-0.7550601373460244, 0.2803854567979095], [-0.26720890559194843, 0.7236222832075266], [0.6508168448042292, -0.09400213871871156], [0.7734578994704054, -0.03991983699075037], [-0.3754732799725763, -0.49460541956938153], [0.6273004354373362, -0.28825331785600705], [-0.6937219230746224, -0.3901354449598456], [-0.5203911480581532, 0.38577014625771183], [-0.3446790371698603, -0.5891862938999354], [0.4711993883694581, -0.46972723331780847], [0.2890621368875082, -0.6630839405669333], [0.6832022805127238, 0.397653876418984], [-0.01975342094152725, 0.6883424512135965], [-0.3385183443802223, -0.6210393277831853], [0.33161060032707296, -0.5013726776622075], [-0.6217405069234476, 0.30657359607122575], [0.6446377355696497, -0.2997578874126359], [-0.39199177902350557, 0.6192479977644595], [0.7268733856420756, 0.24011904385751984], [-0.7270699989453551, 0.13994790314376845], [-0.48353223837898135, -0.5509046056215732], [-0.5829464677864096, 0.16713299967746642], [-0.43947944114415544, 0.3897180055828785], [-0.11563744701787068, 0.7752500387262519], [0.29004556249544927, -0.6305905030999865], [0.42811489100436156, -0.18135745815067697], [0.5560418302572766, -0.44167445564703006], [0.38090141489582335, 0.49635194945218286], [-0.23123599564007954, 0.7375016469840484], [0.5857719105615817, 0.30001318608167227], [-0.37315224193859353, -0.7090764858642601], [-0.5152046375029377, 0.2888887096058468], [0.7902462827457597, 0.002216917965256967], [-0.5512382728446188, 0.49839905866354184], [0.44523807345009303, 0.5278275147268852], [0.4004787465896647, -0.5048953030990694], [0.512576975634758, -0.057367273067185615], [-0.6503633376612104, 0.39246613937967073], [0.7641907517813963, 0.1964931915320999], [0.10409446119454799, -0.7044741930584998], [0.4720931345915605, -0.2162777558376902], [0.5169769807432629, -0.4352083106297074], [0.04447966765516875, -0.7223748313558237], [-0.7123923199306741, -0.13104843972176639], [-0.06952497098465237, 0.70315886324585], [0.4385720316742489, -0.578328422889539], [0.34418616822572845, -0.07513801527331536], [0.2459035161460403, -0.7630687080374131], [-0.6527401774249051, -0.41052892315693473], [0.38967977488645317, 0.36007843134760187], [0.17004908937575197, -0.7713478939272297], [-0.5987988596434298, -0.46053344353011966], [-0.548912005237949, 0.07801290653660149], [-0.7284449463533844, 0.053528924156936296], [-0.3537221363540081, -0.41820354524079395], [-0.6417987419793246, 0.43999780928117926], [0.6172562772334843, -0.32517327213860475], [-0.475673117477625, 0.19184650979966694], [0.2562709557424838, -0.21961486877870898], [-0.6835841858375807, -0.2662197743408432], [0.24928801914357016, -0.6652330117358743], [-0.30020508993346656, -0.7449124421898721], [0.20964182145427568, 0.17354922396277245], [0.7470662680591365, -0.1816516259934284], [-0.7374523261141822, 0.11126688232567263], [0.7109530233247396, 0.12090760415551688], [0.5917850169648631, -0.14659526677934698], [0.22907055770954313, 0.7547290425355813], [-0.3789013406251549, 0.10600567308646885], [-0.27938819160812556, -0.4923319071156022], [-0.23647423308165086, 0.6756624827592297], [-0.5600333521649038, 0.5670856785749833], [-0.07754393798577225, 0.6072913967944453], [-0.5570774918381094, -0.3463156567954712], [0.3915256082738484, 0.41564819382773976], [0.31190565993446956, 0.6995300428903632], [-0.7035093428421049, -0.37878670681095145], [-0.7885189697286528, -0.09782641581455437], [-0.19037726776141878, -0.5275100543868257], [0.5444962826122577, 0.3044939769746555], [-0.3186131683106572, 0.6960622830784226], [0.5369752010038142, -0.0395845397048477], [0.6635388350473569, -0.024760130849550876], [0.30426406877403833, -0.7184095868864513], [-0.23066422126754385, 0.6561129964129444], [0.6744153289683966, 0.3017753167037166], [-0.3725388137245114, 0.6811557000223593], [-0.38928959171357086, 0.6290372437285804], [-0.2166235307306562, -0.47386021884705254], [-0.6593390642873614, -0.3040207862232152], [0.054899976360019496, -0.6873246671873623], [-0.41383890790018163, 0.13189664001573073], [0.5649329685467249, 0.5308949006013448], [0.7346883067702834, -0.16495771497922035], [0.6958183188645733, -0.008607391417650215], [-0.19632143224368762, -0.565262585366949], [0.4371654950644252, 0.1602632283274614], [0.5209309223546651, 0.3264047007093118], [0.7176403495606056, -0.11445153715881808]], \"data01\": [[0.07962863414778083, -0.042154420092388185], [-0.13150752522916873, 0.6290390188798965], [-0.015082879399628284, -0.39798452837524273], [-0.4074240508665376, 0.04636413698005844], [0.1691532018806749, -0.21711130986762092], [0.155742387881699, -0.46097397114796596], [-0.25289506470050693, 0.015349772323687018], [-0.15463486035612295, 0.11632619937640808], [0.32980191972436307, 0.2315549442107672], [-0.30328863708358517, 0.07703061900020562], [-0.2841806795877949, 0.009130061452524551], [0.6463409848601542, -0.37603770744316245], [-0.5894058320670511, 0.0503449999428328], [0.0010576058178176874, 0.34027090214588196], [-0.0003776674686432991, -0.22655469273251835], [0.20514229903920497, -0.31904359639978597], [-0.06752563820167097, 0.5950133616250877], [0.01971390100730157, -0.038037602089121596], [-0.03179666627670831, -0.0673975012084281], [-0.1808662770659755, 0.39898205942452314], [0.30848353440270326, -0.0879020371352589], [0.15503080834697336, 0.48304829491765217], [-0.5389674724662139, 0.2887372764965489], [0.04833619347419827, 0.1468381680856259], [0.04524602622227379, -0.1285139471811457], [0.23935370327024744, -0.3028727336743308], [0.01894699042595326, -0.4406084349357061], [-0.6047018982257755, -0.27187558898763187], [-0.032954615562081284, -0.14050771700848977], [-0.06006215559786057, -0.19232329886943944], [0.09521336623272787, 0.1832372199323275], [-0.14218229379781205, -0.04250781299485284], [0.13372809060887753, 0.3812152484643267], [-0.49409864240783474, 0.1593493879590638], [0.38372862878131275, -0.2713965028457916], [-0.3057542156900223, -0.08165587979926912], [0.11008220076061133, -0.3030616487802066], [-0.41930688521474213, 0.13716389495169362], [-0.087858755735054, -0.18253778889054556], [-0.2155306903380099, -0.16296418875816693], [0.38231870674748847, -0.548105310478035], [-0.1498574300093231, -0.4008388566196244], [-0.1524492191295616, 0.04042033807361081], [-0.21973211299670545, 0.12660912361398963], [-0.1354907607679833, -0.5034043207293621], [-0.15117212268709132, -0.16230132981974504], [0.25304666140325816, 0.2296252970597289], [0.2912390465250367, -0.33839925764240314], [-0.29058677098049784, 0.06663029775951605], [-0.07979210407526352, -0.17504164550439577], [0.5522252717036927, 0.05110866006326578], [-0.131899680089763, 0.10554296064971003], [-0.17130665007921483, -0.6397286881991614], [-0.09969283564168671, 0.06809189426463648], [-0.3592431473041488, -0.22185937452884125], [-0.05639226270329298, -0.03942704509334614], [0.528000854002542, -0.062303214663159134], [-0.37294232714118397, -0.0750528257103519], [-0.7012179063207766, -0.10526828786505976], [0.07496748714793416, 0.11085970585254645], [-0.35092941017277407, -0.3299595854640707], [-0.12096511555357209, -0.5889006832272182], [-0.13563130573663418, -0.43343841420568846], [-0.25338984329424524, 0.3464046304290582], [0.08692777388543849, 0.42234061225437847], [0.06411427200769435, -0.41359737346310843], [0.2171877269278248, 0.25007151712556097], [-0.124463277149656, -0.5068749797477455], [-0.49001195520577834, 0.11205113777350938], [0.015252956379471437, 0.013826623443083271], [0.2653274998059575, -0.282241671791498], [0.002951383470698694, -0.7274838902129105], [-0.04378043474768361, -0.14659844618332102], [-0.23620530933296652, -0.19556208196684916], [-0.34842208573499966, 0.07201281753514847], [0.18172370701206828, -0.10609703998741062], [-0.19321703451299949, -0.4464283413570244], [0.17554192578815292, 0.39825614758141564], [0.28314763118808783, -0.07826400962161546], [0.587777763355285, -0.12277947861307878], [-0.25467077984389697, -0.4043766114559389], [-0.4643105064587206, -0.0501757818720399], [-0.4516892957208022, 0.09130741759185577], [-0.2815858280087, 0.06209712031693372], [0.4457288618706585, 0.13536020582467037], [-0.06100402234984929, 0.21667464288016042], [-0.4722874478321494, -0.24880920751334476], [-0.16849796654789348, 0.05751352981994495], [0.23614884620370732, -0.31747816056177486], [-0.03626590814261906, 0.013874188321496317], [-0.5257005185744859, -0.003497473517555729], [-0.060357815458711425, 0.06746744073563757], [-0.2542141908737153, 0.16889980278312994], [-0.27549081859363966, -0.34207192739922926], [-0.27100737685429377, 0.4456338979192383], [0.18330264778861508, 0.35970238709817115], [-0.10788147499523972, 0.04612308808393821], [0.28578555315542575, 0.12648119208454012], [0.742897189344218, 0.04395535002978857], [-0.41534527087590617, 0.14830258514664327], [0.1471060763769428, -0.3606715117435268], [-0.06196987143236579, -0.38341301600715405], [-0.3799286724164824, 0.06516027527708237], [-0.43258022352039865, 0.14702093642489222], [0.5306779886561165, 0.39891747169425984], [-0.2026496784067507, -0.32486431865457105], [0.447754780392178, -0.08472705220679017], [0.41404521976836395, -0.6061388590711287], [0.03660474461478901, -0.37334419542055797], [-0.09972447412802087, 0.09827731556843387], [-0.10367639009314356, -0.01943732620496514], [-0.1305673443029279, -0.20394729085316468], [-0.1077390743148148, -0.4399947088848374], [-0.062053486129603735, -0.2622726020198184], [-0.38219324855047687, 0.27158040512342535], [0.22543326301815042, -0.187254413535951], [-0.2433574781429616, 0.1352785504551903], [-0.42421818998363325, 0.006166511971052838], [-0.30762525319117034, -0.020510660327534975], [0.35166917329800684, -0.018970253422998205], [0.3801937134934446, -0.31590194220826223], [-0.17861556380895763, 0.15596533132835796], [0.1818422669577901, -0.25649332270062203], [-0.014969708614956142, 0.007032135580028056], [0.21073833325818597, -0.45111182540682543], [0.02933864152342427, -0.23903971407260965], [0.1557656748732507, -0.0908545772698627], [0.15292510433539194, 0.4998676888595269], [-0.28400164939795547, -0.4124879660047289], [0.3894555898447487, -0.06665607526166974], [-0.39163088267652535, 0.11557866508603698], [-0.3414640044250605, -0.3137133968300924], [-0.31422375102813394, 0.4118947434337187], [0.09498133128221245, -0.09670015478954747], [0.14961153104964148, -0.08371414041411261], [-0.45113190141431314, -0.1645046672582977], [0.3833789732348598, -0.2935121961379051], [-0.5425972033421539, -0.2812355452763881], [-0.31061637815422377, 0.2701861302570477], [-0.2801342523814973, -0.056220985540262225], [-0.1414681531874929, -0.0911097719353495], [0.5313600012765068, 0.4840401817712571], [0.1912450904528835, -0.4651029939560354], [0.2827751368116269, 0.06277790022237886], [0.251182962459145, 0.21642190439346215], [-0.7094204175524559, 0.20678277040843418], [-0.17434503301399779, -0.4026876521983756], [-0.24726877580883616, 0.22977410325564038], [-0.16173592696718928, -0.3406604854329406], [0.048225563371603136, -0.2727543315838017], [0.607830136116495, -0.3124129909029272], [-0.27040150668064555, 0.6245208961894061], [-0.033080476315658726, -0.4005139794120688], [0.6286848459844527, -0.1135233945397764], [-0.23583839076063984, -0.06734806189244931], [-0.27485300420732417, -0.42813451087868937], [-0.6020145012208536, 0.09774238403484349], [0.18936383110695837, -0.20090393365984238], [0.24260536726420903, 0.3442011648235405], [-0.4256914294036336, -0.07549420946315605], [-0.4668961552799955, -0.3454755187099525], [-0.6473162814675759, -0.34457542916648887]]}, \"id\": \"el959585375094544\"});\n",
       "   }(mpld3);\n",
       "}else if(typeof define === \"function\" && define.amd){\n",
       "   // require.js is available: use it to load d3/mpld3\n",
       "   require.config({paths: {d3: \"https://mpld3.github.io/js/d3.v3.min\"}});\n",
       "   require([\"d3\"], function(d3){\n",
       "      window.d3 = d3;\n",
       "      mpld3_load_lib(\"https://mpld3.github.io/js/mpld3.v0.2.js\", function(){\n",
       "         \n",
       "    mpld3.register_plugin(\"htmltooltip\", HtmlTooltipPlugin);\n",
       "    HtmlTooltipPlugin.prototype = Object.create(mpld3.Plugin.prototype);\n",
       "    HtmlTooltipPlugin.prototype.constructor = HtmlTooltipPlugin;\n",
       "    HtmlTooltipPlugin.prototype.requiredProps = [\"id\"];\n",
       "    HtmlTooltipPlugin.prototype.defaultProps = {labels:null, hoffset:0, voffset:10};\n",
       "    function HtmlTooltipPlugin(fig, props){\n",
       "        mpld3.Plugin.call(this, fig, props);\n",
       "    };\n",
       "\n",
       "    HtmlTooltipPlugin.prototype.draw = function(){\n",
       "       var obj = mpld3.get_element(this.props.id);\n",
       "       var labels = this.props.labels;\n",
       "       var tooltip = d3.select(\"body\").append(\"div\")\n",
       "                    .attr(\"class\", \"mpld3-tooltip\")\n",
       "                    .style(\"position\", \"absolute\")\n",
       "                    .style(\"z-index\", \"10\")\n",
       "                    .style(\"visibility\", \"hidden\");\n",
       "\n",
       "       obj.elements()\n",
       "           .on(\"mouseover\", function(d, i){\n",
       "                              tooltip.html(labels[i])\n",
       "                                     .style(\"visibility\", \"visible\");})\n",
       "           .on(\"mousemove\", function(d, i){\n",
       "                    tooltip\n",
       "                      .style(\"top\", d3.event.pageY + this.props.voffset + \"px\")\n",
       "                      .style(\"left\",d3.event.pageX + this.props.hoffset + \"px\");\n",
       "                 }.bind(this))\n",
       "           .on(\"mouseout\",  function(d, i){\n",
       "                           tooltip.style(\"visibility\", \"hidden\");});\n",
       "    };\n",
       "    \n",
       "    mpld3.register_plugin(\"toptoolbar\", TopToolbar);\n",
       "    TopToolbar.prototype = Object.create(mpld3.Plugin.prototype);\n",
       "    TopToolbar.prototype.constructor = TopToolbar;\n",
       "    function TopToolbar(fig, props){\n",
       "        mpld3.Plugin.call(this, fig, props);\n",
       "    };\n",
       "\n",
       "    TopToolbar.prototype.draw = function(){\n",
       "      // the toolbar svg doesn't exist\n",
       "      // yet, so first draw it\n",
       "      this.fig.toolbar.draw();\n",
       "\n",
       "      // then change the y position to be\n",
       "      // at the top of the figure\n",
       "      this.fig.toolbar.toolbar.attr(\"x\", 150);\n",
       "      this.fig.toolbar.toolbar.attr(\"y\", 400);\n",
       "\n",
       "      // then remove the draw function,\n",
       "      // so that it is not called again\n",
       "      this.fig.toolbar.draw = function() {}\n",
       "    }\n",
       "    \n",
       "    mpld3.register_plugin(\"htmltooltip\", HtmlTooltipPlugin);\n",
       "    HtmlTooltipPlugin.prototype = Object.create(mpld3.Plugin.prototype);\n",
       "    HtmlTooltipPlugin.prototype.constructor = HtmlTooltipPlugin;\n",
       "    HtmlTooltipPlugin.prototype.requiredProps = [\"id\"];\n",
       "    HtmlTooltipPlugin.prototype.defaultProps = {labels:null, hoffset:0, voffset:10};\n",
       "    function HtmlTooltipPlugin(fig, props){\n",
       "        mpld3.Plugin.call(this, fig, props);\n",
       "    };\n",
       "\n",
       "    HtmlTooltipPlugin.prototype.draw = function(){\n",
       "       var obj = mpld3.get_element(this.props.id);\n",
       "       var labels = this.props.labels;\n",
       "       var tooltip = d3.select(\"body\").append(\"div\")\n",
       "                    .attr(\"class\", \"mpld3-tooltip\")\n",
       "                    .style(\"position\", \"absolute\")\n",
       "                    .style(\"z-index\", \"10\")\n",
       "                    .style(\"visibility\", \"hidden\");\n",
       "\n",
       "       obj.elements()\n",
       "           .on(\"mouseover\", function(d, i){\n",
       "                              tooltip.html(labels[i])\n",
       "                                     .style(\"visibility\", \"visible\");})\n",
       "           .on(\"mousemove\", function(d, i){\n",
       "                    tooltip\n",
       "                      .style(\"top\", d3.event.pageY + this.props.voffset + \"px\")\n",
       "                      .style(\"left\",d3.event.pageX + this.props.hoffset + \"px\");\n",
       "                 }.bind(this))\n",
       "           .on(\"mouseout\",  function(d, i){\n",
       "                           tooltip.style(\"visibility\", \"hidden\");});\n",
       "    };\n",
       "    \n",
       "    mpld3.register_plugin(\"toptoolbar\", TopToolbar);\n",
       "    TopToolbar.prototype = Object.create(mpld3.Plugin.prototype);\n",
       "    TopToolbar.prototype.constructor = TopToolbar;\n",
       "    function TopToolbar(fig, props){\n",
       "        mpld3.Plugin.call(this, fig, props);\n",
       "    };\n",
       "\n",
       "    TopToolbar.prototype.draw = function(){\n",
       "      // the toolbar svg doesn't exist\n",
       "      // yet, so first draw it\n",
       "      this.fig.toolbar.draw();\n",
       "\n",
       "      // then change the y position to be\n",
       "      // at the top of the figure\n",
       "      this.fig.toolbar.toolbar.attr(\"x\", 150);\n",
       "      this.fig.toolbar.toolbar.attr(\"y\", 400);\n",
       "\n",
       "      // then remove the draw function,\n",
       "      // so that it is not called again\n",
       "      this.fig.toolbar.draw = function() {}\n",
       "    }\n",
       "    \n",
       "    mpld3.register_plugin(\"htmltooltip\", HtmlTooltipPlugin);\n",
       "    HtmlTooltipPlugin.prototype = Object.create(mpld3.Plugin.prototype);\n",
       "    HtmlTooltipPlugin.prototype.constructor = HtmlTooltipPlugin;\n",
       "    HtmlTooltipPlugin.prototype.requiredProps = [\"id\"];\n",
       "    HtmlTooltipPlugin.prototype.defaultProps = {labels:null, hoffset:0, voffset:10};\n",
       "    function HtmlTooltipPlugin(fig, props){\n",
       "        mpld3.Plugin.call(this, fig, props);\n",
       "    };\n",
       "\n",
       "    HtmlTooltipPlugin.prototype.draw = function(){\n",
       "       var obj = mpld3.get_element(this.props.id);\n",
       "       var labels = this.props.labels;\n",
       "       var tooltip = d3.select(\"body\").append(\"div\")\n",
       "                    .attr(\"class\", \"mpld3-tooltip\")\n",
       "                    .style(\"position\", \"absolute\")\n",
       "                    .style(\"z-index\", \"10\")\n",
       "                    .style(\"visibility\", \"hidden\");\n",
       "\n",
       "       obj.elements()\n",
       "           .on(\"mouseover\", function(d, i){\n",
       "                              tooltip.html(labels[i])\n",
       "                                     .style(\"visibility\", \"visible\");})\n",
       "           .on(\"mousemove\", function(d, i){\n",
       "                    tooltip\n",
       "                      .style(\"top\", d3.event.pageY + this.props.voffset + \"px\")\n",
       "                      .style(\"left\",d3.event.pageX + this.props.hoffset + \"px\");\n",
       "                 }.bind(this))\n",
       "           .on(\"mouseout\",  function(d, i){\n",
       "                           tooltip.style(\"visibility\", \"hidden\");});\n",
       "    };\n",
       "    \n",
       "    mpld3.register_plugin(\"toptoolbar\", TopToolbar);\n",
       "    TopToolbar.prototype = Object.create(mpld3.Plugin.prototype);\n",
       "    TopToolbar.prototype.constructor = TopToolbar;\n",
       "    function TopToolbar(fig, props){\n",
       "        mpld3.Plugin.call(this, fig, props);\n",
       "    };\n",
       "\n",
       "    TopToolbar.prototype.draw = function(){\n",
       "      // the toolbar svg doesn't exist\n",
       "      // yet, so first draw it\n",
       "      this.fig.toolbar.draw();\n",
       "\n",
       "      // then change the y position to be\n",
       "      // at the top of the figure\n",
       "      this.fig.toolbar.toolbar.attr(\"x\", 150);\n",
       "      this.fig.toolbar.toolbar.attr(\"y\", 400);\n",
       "\n",
       "      // then remove the draw function,\n",
       "      // so that it is not called again\n",
       "      this.fig.toolbar.draw = function() {}\n",
       "    }\n",
       "    \n",
       "    mpld3.register_plugin(\"htmltooltip\", HtmlTooltipPlugin);\n",
       "    HtmlTooltipPlugin.prototype = Object.create(mpld3.Plugin.prototype);\n",
       "    HtmlTooltipPlugin.prototype.constructor = HtmlTooltipPlugin;\n",
       "    HtmlTooltipPlugin.prototype.requiredProps = [\"id\"];\n",
       "    HtmlTooltipPlugin.prototype.defaultProps = {labels:null, hoffset:0, voffset:10};\n",
       "    function HtmlTooltipPlugin(fig, props){\n",
       "        mpld3.Plugin.call(this, fig, props);\n",
       "    };\n",
       "\n",
       "    HtmlTooltipPlugin.prototype.draw = function(){\n",
       "       var obj = mpld3.get_element(this.props.id);\n",
       "       var labels = this.props.labels;\n",
       "       var tooltip = d3.select(\"body\").append(\"div\")\n",
       "                    .attr(\"class\", \"mpld3-tooltip\")\n",
       "                    .style(\"position\", \"absolute\")\n",
       "                    .style(\"z-index\", \"10\")\n",
       "                    .style(\"visibility\", \"hidden\");\n",
       "\n",
       "       obj.elements()\n",
       "           .on(\"mouseover\", function(d, i){\n",
       "                              tooltip.html(labels[i])\n",
       "                                     .style(\"visibility\", \"visible\");})\n",
       "           .on(\"mousemove\", function(d, i){\n",
       "                    tooltip\n",
       "                      .style(\"top\", d3.event.pageY + this.props.voffset + \"px\")\n",
       "                      .style(\"left\",d3.event.pageX + this.props.hoffset + \"px\");\n",
       "                 }.bind(this))\n",
       "           .on(\"mouseout\",  function(d, i){\n",
       "                           tooltip.style(\"visibility\", \"hidden\");});\n",
       "    };\n",
       "    \n",
       "    mpld3.register_plugin(\"toptoolbar\", TopToolbar);\n",
       "    TopToolbar.prototype = Object.create(mpld3.Plugin.prototype);\n",
       "    TopToolbar.prototype.constructor = TopToolbar;\n",
       "    function TopToolbar(fig, props){\n",
       "        mpld3.Plugin.call(this, fig, props);\n",
       "    };\n",
       "\n",
       "    TopToolbar.prototype.draw = function(){\n",
       "      // the toolbar svg doesn't exist\n",
       "      // yet, so first draw it\n",
       "      this.fig.toolbar.draw();\n",
       "\n",
       "      // then change the y position to be\n",
       "      // at the top of the figure\n",
       "      this.fig.toolbar.toolbar.attr(\"x\", 150);\n",
       "      this.fig.toolbar.toolbar.attr(\"y\", 400);\n",
       "\n",
       "      // then remove the draw function,\n",
       "      // so that it is not called again\n",
       "      this.fig.toolbar.draw = function() {}\n",
       "    }\n",
       "    \n",
       "    mpld3.register_plugin(\"htmltooltip\", HtmlTooltipPlugin);\n",
       "    HtmlTooltipPlugin.prototype = Object.create(mpld3.Plugin.prototype);\n",
       "    HtmlTooltipPlugin.prototype.constructor = HtmlTooltipPlugin;\n",
       "    HtmlTooltipPlugin.prototype.requiredProps = [\"id\"];\n",
       "    HtmlTooltipPlugin.prototype.defaultProps = {labels:null, hoffset:0, voffset:10};\n",
       "    function HtmlTooltipPlugin(fig, props){\n",
       "        mpld3.Plugin.call(this, fig, props);\n",
       "    };\n",
       "\n",
       "    HtmlTooltipPlugin.prototype.draw = function(){\n",
       "       var obj = mpld3.get_element(this.props.id);\n",
       "       var labels = this.props.labels;\n",
       "       var tooltip = d3.select(\"body\").append(\"div\")\n",
       "                    .attr(\"class\", \"mpld3-tooltip\")\n",
       "                    .style(\"position\", \"absolute\")\n",
       "                    .style(\"z-index\", \"10\")\n",
       "                    .style(\"visibility\", \"hidden\");\n",
       "\n",
       "       obj.elements()\n",
       "           .on(\"mouseover\", function(d, i){\n",
       "                              tooltip.html(labels[i])\n",
       "                                     .style(\"visibility\", \"visible\");})\n",
       "           .on(\"mousemove\", function(d, i){\n",
       "                    tooltip\n",
       "                      .style(\"top\", d3.event.pageY + this.props.voffset + \"px\")\n",
       "                      .style(\"left\",d3.event.pageX + this.props.hoffset + \"px\");\n",
       "                 }.bind(this))\n",
       "           .on(\"mouseout\",  function(d, i){\n",
       "                           tooltip.style(\"visibility\", \"hidden\");});\n",
       "    };\n",
       "    \n",
       "    mpld3.register_plugin(\"toptoolbar\", TopToolbar);\n",
       "    TopToolbar.prototype = Object.create(mpld3.Plugin.prototype);\n",
       "    TopToolbar.prototype.constructor = TopToolbar;\n",
       "    function TopToolbar(fig, props){\n",
       "        mpld3.Plugin.call(this, fig, props);\n",
       "    };\n",
       "\n",
       "    TopToolbar.prototype.draw = function(){\n",
       "      // the toolbar svg doesn't exist\n",
       "      // yet, so first draw it\n",
       "      this.fig.toolbar.draw();\n",
       "\n",
       "      // then change the y position to be\n",
       "      // at the top of the figure\n",
       "      this.fig.toolbar.toolbar.attr(\"x\", 150);\n",
       "      this.fig.toolbar.toolbar.attr(\"y\", 400);\n",
       "\n",
       "      // then remove the draw function,\n",
       "      // so that it is not called again\n",
       "      this.fig.toolbar.draw = function() {}\n",
       "    }\n",
       "    \n",
       "         mpld3.draw_figure(\"fig_el9595853750945446552526953\", {\"axes\": [{\"xlim\": [-1.1168828407897538, 1.1255764791570526], \"yscale\": \"linear\", \"axesbg\": \"none\", \"texts\": [{\"v_baseline\": \"auto\", \"h_anchor\": \"start\", \"color\": \"#262626\", \"text\": \"None\", \"coordinates\": \"axes\", \"zorder\": 1000003.0, \"alpha\": 1, \"fontsize\": 10.0, \"position\": [-0.16129032258064518, -0.16129032258064518], \"rotation\": -0.0, \"id\": \"el959585415973840\"}, {\"v_baseline\": \"auto\", \"h_anchor\": \"start\", \"color\": \"#262626\", \"text\": \"int, dx, integral, infty\", \"coordinates\": \"axes\", \"zorder\": 1000003.0, \"alpha\": 1, \"fontsize\": 11.0, \"position\": [0.0607825567502987, 0.21415770609319001], \"rotation\": -0.0, \"id\": \"el959585412420688\"}, {\"v_baseline\": \"auto\", \"h_anchor\": \"start\", \"color\": \"#262626\", \"text\": \"sin, cos, theta, pi, sin\", \"coordinates\": \"axes\", \"zorder\": 1000003.0, \"alpha\": 1, \"fontsize\": 11.0, \"position\": [0.0607825567502987, 0.16935483870967749], \"rotation\": -0.0, \"id\": \"el959585411695248\"}, {\"v_baseline\": \"auto\", \"h_anchor\": \"start\", \"color\": \"#262626\", \"text\": \"nt, function, know, solve, use\", \"coordinates\": \"axes\", \"zorder\": 1000003.0, \"alpha\": 1, \"fontsize\": 11.0, \"position\": [0.0607825567502987, 0.12455197132616491], \"rotation\": -0.0, \"id\": \"el959585410735824\"}, {\"v_baseline\": \"auto\", \"h_anchor\": \"start\", \"color\": \"#262626\", \"text\": \"log, ln, logarithm, square, sqrt\", \"coordinates\": \"axes\", \"zorder\": 1000003.0, \"alpha\": 1, \"fontsize\": 11.0, \"position\": [0.0607825567502987, 0.079749103942652388], \"rotation\": -0.0, \"id\": \"el959585411492368\"}, {\"v_baseline\": \"auto\", \"h_anchor\": \"start\", \"color\": \"#262626\", \"text\": \"points, angle, line, triangle, circle, length\", \"coordinates\": \"axes\", \"zorder\": 1000003.0, \"alpha\": 1, \"fontsize\": 11.0, \"position\": [0.0607825567502987, 0.034946236559139809], \"rotation\": -0.0, \"id\": \"el959585410418768\"}], \"zoomable\": true, \"images\": [], \"xdomain\": [-1.1168828407897538, 1.1255764791570526], \"ylim\": [-1.1132274098712966, 1.1098107406827971], \"paths\": [{\"edgecolor\": \"#FFFFFF\", \"facecolor\": \"none\", \"edgewidth\": 0.3, \"pathcodes\": [\"M\", \"L\", \"L\", \"L\", \"Z\"], \"yindex\": 1, \"coordinates\": \"axes\", \"dasharray\": \"10,0\", \"zorder\": 1000001.0, \"alpha\": 1, \"xindex\": 0, \"data\": \"data07\", \"id\": \"el959585415574352\"}], \"sharey\": [], \"sharex\": [], \"axesbgalpha\": null, \"axes\": [{\"scale\": \"linear\", \"tickformat\": \"\", \"grid\": {\"gridOn\": false}, \"fontsize\": null, \"position\": \"bottom\", \"nticks\": 0, \"tickvalues\": []}, {\"scale\": \"linear\", \"tickformat\": \"\", \"grid\": {\"gridOn\": false}, \"fontsize\": null, \"position\": \"left\", \"nticks\": 0, \"tickvalues\": []}], \"lines\": [], \"markers\": [{\"edgecolor\": \"none\", \"facecolor\": \"#0070FF\", \"edgewidth\": 0.0, \"yindex\": 1, \"coordinates\": \"data\", \"zorder\": 2, \"markerpath\": [[[0.0, 4.5], [1.19341395, 4.5], [2.3381094185318405, 4.025851612147088], [3.1819805153394642, 3.1819805153394642], [4.025851612147088, 2.3381094185318405], [4.5, 1.19341395], [4.5, 0.0], [4.5, -1.19341395], [4.025851612147088, -2.3381094185318405], [3.1819805153394642, -3.1819805153394642], [2.3381094185318405, -4.025851612147088], [1.19341395, -4.5], [0.0, -4.5], [-1.19341395, -4.5], [-2.3381094185318405, -4.025851612147088], [-3.1819805153394642, -3.1819805153394642], [-4.025851612147088, -2.3381094185318405], [-4.5, -1.19341395], [-4.5, 0.0], [-4.5, 1.19341395], [-4.025851612147088, 2.3381094185318405], [-3.1819805153394642, 3.1819805153394642], [-2.3381094185318405, 4.025851612147088], [-1.19341395, 4.5], [0.0, 4.5]], [\"M\", \"C\", \"C\", \"C\", \"C\", \"C\", \"C\", \"C\", \"C\", \"Z\"]], \"alpha\": 1, \"xindex\": 0, \"data\": \"data01\", \"id\": \"el959585372227856pts\"}, {\"edgecolor\": \"none\", \"facecolor\": \"#FFBF00\", \"edgewidth\": 0.0, \"yindex\": 1, \"coordinates\": \"data\", \"zorder\": 2, \"markerpath\": [[[0.0, 4.5], [1.19341395, 4.5], [2.3381094185318405, 4.025851612147088], [3.1819805153394642, 3.1819805153394642], [4.025851612147088, 2.3381094185318405], [4.5, 1.19341395], [4.5, 0.0], [4.5, -1.19341395], [4.025851612147088, -2.3381094185318405], [3.1819805153394642, -3.1819805153394642], [2.3381094185318405, -4.025851612147088], [1.19341395, -4.5], [0.0, -4.5], [-1.19341395, -4.5], [-2.3381094185318405, -4.025851612147088], [-3.1819805153394642, -3.1819805153394642], [-4.025851612147088, -2.3381094185318405], [-4.5, -1.19341395], [-4.5, 0.0], [-4.5, 1.19341395], [-4.025851612147088, 2.3381094185318405], [-3.1819805153394642, 3.1819805153394642], [-2.3381094185318405, 4.025851612147088], [-1.19341395, 4.5], [0.0, 4.5]], [\"M\", \"C\", \"C\", \"C\", \"C\", \"C\", \"C\", \"C\", \"C\", \"Z\"]], \"alpha\": 1, \"xindex\": 0, \"data\": \"data02\", \"id\": \"el959585415571856pts\"}, {\"edgecolor\": \"none\", \"facecolor\": \"#7570B3\", \"edgewidth\": 0.0, \"yindex\": 1, \"coordinates\": \"data\", \"zorder\": 2, \"markerpath\": [[[0.0, 4.5], [1.19341395, 4.5], [2.3381094185318405, 4.025851612147088], [3.1819805153394642, 3.1819805153394642], [4.025851612147088, 2.3381094185318405], [4.5, 1.19341395], [4.5, 0.0], [4.5, -1.19341395], [4.025851612147088, -2.3381094185318405], [3.1819805153394642, -3.1819805153394642], [2.3381094185318405, -4.025851612147088], [1.19341395, -4.5], [0.0, -4.5], [-1.19341395, -4.5], [-2.3381094185318405, -4.025851612147088], [-3.1819805153394642, -3.1819805153394642], [-4.025851612147088, -2.3381094185318405], [-4.5, -1.19341395], [-4.5, 0.0], [-4.5, 1.19341395], [-4.025851612147088, 2.3381094185318405], [-3.1819805153394642, 3.1819805153394642], [-2.3381094185318405, 4.025851612147088], [-1.19341395, 4.5], [0.0, 4.5]], [\"M\", \"C\", \"C\", \"C\", \"C\", \"C\", \"C\", \"C\", \"C\", \"Z\"]], \"alpha\": 1, \"xindex\": 0, \"data\": \"data03\", \"id\": \"el959585414734032pts\"}, {\"edgecolor\": \"none\", \"facecolor\": \"#E7298A\", \"edgewidth\": 0.0, \"yindex\": 1, \"coordinates\": \"data\", \"zorder\": 2, \"markerpath\": [[[0.0, 4.5], [1.19341395, 4.5], [2.3381094185318405, 4.025851612147088], [3.1819805153394642, 3.1819805153394642], [4.025851612147088, 2.3381094185318405], [4.5, 1.19341395], [4.5, 0.0], [4.5, -1.19341395], [4.025851612147088, -2.3381094185318405], [3.1819805153394642, -3.1819805153394642], [2.3381094185318405, -4.025851612147088], [1.19341395, -4.5], [0.0, -4.5], [-1.19341395, -4.5], [-2.3381094185318405, -4.025851612147088], [-3.1819805153394642, -3.1819805153394642], [-4.025851612147088, -2.3381094185318405], [-4.5, -1.19341395], [-4.5, 0.0], [-4.5, 1.19341395], [-4.025851612147088, 2.3381094185318405], [-3.1819805153394642, 3.1819805153394642], [-2.3381094185318405, 4.025851612147088], [-1.19341395, 4.5], [0.0, 4.5]], [\"M\", \"C\", \"C\", \"C\", \"C\", \"C\", \"C\", \"C\", \"C\", \"Z\"]], \"alpha\": 1, \"xindex\": 0, \"data\": \"data04\", \"id\": \"el959585418505360pts\"}, {\"edgecolor\": \"none\", \"facecolor\": \"#66A61E\", \"edgewidth\": 0.0, \"yindex\": 1, \"coordinates\": \"data\", \"zorder\": 2, \"markerpath\": [[[0.0, 4.5], [1.19341395, 4.5], [2.3381094185318405, 4.025851612147088], [3.1819805153394642, 3.1819805153394642], [4.025851612147088, 2.3381094185318405], [4.5, 1.19341395], [4.5, 0.0], [4.5, -1.19341395], [4.025851612147088, -2.3381094185318405], [3.1819805153394642, -3.1819805153394642], [2.3381094185318405, -4.025851612147088], [1.19341395, -4.5], [0.0, -4.5], [-1.19341395, -4.5], [-2.3381094185318405, -4.025851612147088], [-3.1819805153394642, -3.1819805153394642], [-4.025851612147088, -2.3381094185318405], [-4.5, -1.19341395], [-4.5, 0.0], [-4.5, 1.19341395], [-4.025851612147088, 2.3381094185318405], [-3.1819805153394642, 3.1819805153394642], [-2.3381094185318405, 4.025851612147088], [-1.19341395, 4.5], [0.0, 4.5]], [\"M\", \"C\", \"C\", \"C\", \"C\", \"C\", \"C\", \"C\", \"C\", \"Z\"]], \"alpha\": 1, \"xindex\": 0, \"data\": \"data05\", \"id\": \"el959585408126160pts\"}, {\"edgecolor\": \"none\", \"facecolor\": \"#0070FF\", \"edgewidth\": 0.0, \"yindex\": 1, \"coordinates\": \"axes\", \"zorder\": 1000002.0, \"markerpath\": [[[0.0, 4.5], [1.19341395, 4.5], [2.3381094185318405, 4.025851612147088], [3.1819805153394642, 3.1819805153394642], [4.025851612147088, 2.3381094185318405], [4.5, 1.19341395], [4.5, 0.0], [4.5, -1.19341395], [4.025851612147088, -2.3381094185318405], [3.1819805153394642, -3.1819805153394642], [2.3381094185318405, -4.025851612147088], [1.19341395, -4.5], [0.0, -4.5], [-1.19341395, -4.5], [-2.3381094185318405, -4.025851612147088], [-3.1819805153394642, -3.1819805153394642], [-4.025851612147088, -2.3381094185318405], [-4.5, -1.19341395], [-4.5, 0.0], [-4.5, 1.19341395], [-4.025851612147088, 2.3381094185318405], [-3.1819805153394642, 3.1819805153394642], [-2.3381094185318405, 4.025851612147088], [-1.19341395, 4.5], [0.0, 4.5]], [\"M\", \"C\", \"C\", \"C\", \"C\", \"C\", \"C\", \"C\", \"C\", \"Z\"]], \"alpha\": 1, \"xindex\": 0, \"data\": \"data06\", \"id\": \"el959585407768336pts\"}, {\"edgecolor\": \"none\", \"facecolor\": \"#FFBF00\", \"edgewidth\": 0.0, \"yindex\": 2, \"coordinates\": \"axes\", \"zorder\": 1000002.0, \"markerpath\": [[[0.0, 4.5], [1.19341395, 4.5], [2.3381094185318405, 4.025851612147088], [3.1819805153394642, 3.1819805153394642], [4.025851612147088, 2.3381094185318405], [4.5, 1.19341395], [4.5, 0.0], [4.5, -1.19341395], [4.025851612147088, -2.3381094185318405], [3.1819805153394642, -3.1819805153394642], [2.3381094185318405, -4.025851612147088], [1.19341395, -4.5], [0.0, -4.5], [-1.19341395, -4.5], [-2.3381094185318405, -4.025851612147088], [-3.1819805153394642, -3.1819805153394642], [-4.025851612147088, -2.3381094185318405], [-4.5, -1.19341395], [-4.5, 0.0], [-4.5, 1.19341395], [-4.025851612147088, 2.3381094185318405], [-3.1819805153394642, 3.1819805153394642], [-2.3381094185318405, 4.025851612147088], [-1.19341395, 4.5], [0.0, 4.5]], [\"M\", \"C\", \"C\", \"C\", \"C\", \"C\", \"C\", \"C\", \"C\", \"Z\"]], \"alpha\": 1, \"xindex\": 0, \"data\": \"data06\", \"id\": \"el959585410735120pts\"}, {\"edgecolor\": \"none\", \"facecolor\": \"#7570B3\", \"edgewidth\": 0.0, \"yindex\": 3, \"coordinates\": \"axes\", \"zorder\": 1000002.0, \"markerpath\": [[[0.0, 4.5], [1.19341395, 4.5], [2.3381094185318405, 4.025851612147088], [3.1819805153394642, 3.1819805153394642], [4.025851612147088, 2.3381094185318405], [4.5, 1.19341395], [4.5, 0.0], [4.5, -1.19341395], [4.025851612147088, -2.3381094185318405], [3.1819805153394642, -3.1819805153394642], [2.3381094185318405, -4.025851612147088], [1.19341395, -4.5], [0.0, -4.5], [-1.19341395, -4.5], [-2.3381094185318405, -4.025851612147088], [-3.1819805153394642, -3.1819805153394642], [-4.025851612147088, -2.3381094185318405], [-4.5, -1.19341395], [-4.5, 0.0], [-4.5, 1.19341395], [-4.025851612147088, 2.3381094185318405], [-3.1819805153394642, 3.1819805153394642], [-2.3381094185318405, 4.025851612147088], [-1.19341395, 4.5], [0.0, 4.5]], [\"M\", \"C\", \"C\", \"C\", \"C\", \"C\", \"C\", \"C\", \"C\", \"Z\"]], \"alpha\": 1, \"xindex\": 0, \"data\": \"data06\", \"id\": \"el959585415812880pts\"}, {\"edgecolor\": \"none\", \"facecolor\": \"#E7298A\", \"edgewidth\": 0.0, \"yindex\": 4, \"coordinates\": \"axes\", \"zorder\": 1000002.0, \"markerpath\": [[[0.0, 4.5], [1.19341395, 4.5], [2.3381094185318405, 4.025851612147088], [3.1819805153394642, 3.1819805153394642], [4.025851612147088, 2.3381094185318405], [4.5, 1.19341395], [4.5, 0.0], [4.5, -1.19341395], [4.025851612147088, -2.3381094185318405], [3.1819805153394642, -3.1819805153394642], [2.3381094185318405, -4.025851612147088], [1.19341395, -4.5], [0.0, -4.5], [-1.19341395, -4.5], [-2.3381094185318405, -4.025851612147088], [-3.1819805153394642, -3.1819805153394642], [-4.025851612147088, -2.3381094185318405], [-4.5, -1.19341395], [-4.5, 0.0], [-4.5, 1.19341395], [-4.025851612147088, 2.3381094185318405], [-3.1819805153394642, 3.1819805153394642], [-2.3381094185318405, 4.025851612147088], [-1.19341395, 4.5], [0.0, 4.5]], [\"M\", \"C\", \"C\", \"C\", \"C\", \"C\", \"C\", \"C\", \"C\", \"Z\"]], \"alpha\": 1, \"xindex\": 0, \"data\": \"data06\", \"id\": \"el959585410421840pts\"}, {\"edgecolor\": \"none\", \"facecolor\": \"#66A61E\", \"edgewidth\": 0.0, \"yindex\": 5, \"coordinates\": \"axes\", \"zorder\": 1000002.0, \"markerpath\": [[[0.0, 4.5], [1.19341395, 4.5], [2.3381094185318405, 4.025851612147088], [3.1819805153394642, 3.1819805153394642], [4.025851612147088, 2.3381094185318405], [4.5, 1.19341395], [4.5, 0.0], [4.5, -1.19341395], [4.025851612147088, -2.3381094185318405], [3.1819805153394642, -3.1819805153394642], [2.3381094185318405, -4.025851612147088], [1.19341395, -4.5], [0.0, -4.5], [-1.19341395, -4.5], [-2.3381094185318405, -4.025851612147088], [-3.1819805153394642, -3.1819805153394642], [-4.025851612147088, -2.3381094185318405], [-4.5, -1.19341395], [-4.5, 0.0], [-4.5, 1.19341395], [-4.025851612147088, 2.3381094185318405], [-3.1819805153394642, 3.1819805153394642], [-2.3381094185318405, 4.025851612147088], [-1.19341395, 4.5], [0.0, 4.5]], [\"M\", \"C\", \"C\", \"C\", \"C\", \"C\", \"C\", \"C\", \"C\", \"Z\"]], \"alpha\": 1, \"xindex\": 0, \"data\": \"data06\", \"id\": \"el959585418555472pts\"}], \"id\": \"el959585407562896\", \"ydomain\": [-1.1132274098712966, 1.1098107406827971], \"collections\": [], \"xscale\": \"linear\", \"bbox\": [0.125, 0.125, 0.77500000000000002, 0.77500000000000002]}], \"height\": 480.0, \"width\": 960.0, \"plugins\": [{\"type\": \"reset\"}, {\"enabled\": false, \"button\": true, \"type\": \"zoom\"}, {\"enabled\": false, \"button\": true, \"type\": \"boxzoom\"}, {\"voffset\": 10, \"labels\": [\"What is $\\\\cot(\\\\pi/2)$?\", \"Is $\\\\int_a^b f(x) dx = \\\\int_{f(a)}^{f(b)} f^{-1}(x) dy$?\", \"Derivation of Rational Expression\", \"Computing the integral of $e^{-x^2}$ over the entire line\", \"Find Equation of a normal to a curve - Where is my mistake?\", \"evaluation of limit $\\\\lim_{n\\\\rightarrow \\\\infty}\\\\left(\\\\frac{n!}{n^n}\\\\right)^{\\\\frac{1}{n}}$\", \"Integration by Parts via Tabular Integration, where am I wrong?\", \"Integrating $\\\\int{3\\\\sin^2x\\\\cos x \\\\;dx}$\", \"Difficult integration problem (unique headline)\", \"Using trig substitution to solve for integration?\", \"Differentiating under Integral sign for all n\", \"A problem in continuity of f(x)\", \"Why am I not getting an infinite limit?\", \"What technique of integration is applicable for this?\", \"Maclaurin polynomial of $\\\\ln(1+x)$\", \"integration by parts of $x f(x)f'(x)$\", \"How can I find $\\\\int\\\\tan\\\\;x\\\\;\\\\cos\\\\;2x\\\\;\\\\mathrm dx$?\", \"Parametric problem (differentiation under the integral sign)\", \"integral representation\", \"Calculus question on application of the quotient rule\", \"Evaluate the given integral\", \"Integral calculus by part or with complex numbers\", \"How do I use substitution in integrals?\", \"Indefinite Integral $\\\\int \\\\sin (x) \\\\ln (\\\\tan (x))dx$\", \"Constants of integration in integration by parts\", \"Evaluation of $\\\\int\\\\frac{1}{(x^3+1)^2}\\\\mathrm dx \\\\cdots$\", \"why does integration by parts give a different answer\", \"Simple Calculus with PDEs\", \"How to integrate a function that has no exact integration and cannot be expanded by a Taylor series\", \"Calculate:$\\\\int \\\\frac{1}{(x+1)^\\\\frac{3}{4}(x+2)^{\\\\frac{5}{4}}}\\\\ dx$\", \"Stuck in definite integral of a function\", \"Prove the reduction formula\", \"integrate $\\\\int{\\\\sin(x)\\\\cos(2x)dx}$\", \"Prove that $\\\\int_0^{\\\\infty}\\\\left(\\\\frac{\\\\log (1+x)}{x}\\\\right)^2dx$ converges.\", \"Proving the reduction formula\", \"Why are the units Radians? Related rates with an angle and $\\\\frac{d\\\\theta}{dt}$\", \"Confused with Leibniz notation of a derivative\", \"Evaluate $\\\\int_{1}^{2}\\\\frac{x}{(x^2-3)^2}\\\\mathrm dx$\", \"Simple Partial Fractions Question\", \"calculus - possible u sub or trig sub\", \"Separation of an integral\", \"need help on this fraction equation $2/5 = 2/3 - r/5$\", \"What is Leibnitz rule for a double integral?\", \"Integrate difference of exponentials\", \"Consider the function $f(x)=\\\\tan(\\\\frac{\\\\pi x}{2})$ and $g(x)=\\\\frac12\\\\sec(\\\\frac{\\\\pi x}{2})$\", \"Partial Fraction Decomposition Problem... half answered...\", \"How do I solve this integral (volume of a torus)?\", \"factorisation of algebra\", \"How to solve the integral $\\\\frac{d}{dx} \\\\int_0^{7x^2} \\\\frac{t}{t+66}\\\\ dt$\", \"Series Problem in Stewart's Calculus Book\", \"Tricky Gaussian\", \"Interpretation of an integral involving two curves\", \"Evaluating: $\\\\int^{n}_{1}[\\\\ln(x) - \\\\ln(\\\\lfloor x \\\\rfloor)] dx $\", \"Distance point on ellipse to centre\", \"Problem with integrating by parts\", \"Very basic line integrals (worked out)\", \"Calculating the following integral:\", \"Evaluating $\\\\int\\\\sqrt{1 + \\\\frac1{x^2}}\\\\mathrm dx$\", \"Integral calculus\", \"trigonometric function integration\", \"Limit of Functions Using $\\\\lim_{n\\\\to\\\\infty} (1+\\\\frac{x}{n}) ^n = e^x $\", \"How to integrate these two?\", \"Given a relation between two variables, find another.\", \"derivative $\\\\frac{d}{dt} \\\\left[ \\\\frac{-2}{\\\\dot{x}^3} + \\\\frac{-2x^2}{\\\\dot{x}^3} \\\\right]$\", \"$\\\\int_0^{1/2} \\\\cos^{-1} x \\\\, dx$ using integration by parts.\", \"Spivak's Calculus Chapter 11, Problem 39 (a)\", \"Simple Integral Involving Radicals: Why Does Mathematica Fail?\", \"Does this inequality hold in general?\", \"Total derivative of scalar function with respect to a vector\", \"Is my answer to this trig question correct\", \"Showing an Integral Exists\", \"Differential calculus: word problem\", \"Forget about the sin and cos functions, show that $(x-x^3/3!+x^5/5!-x^7/7!+...)^2+ (1-x^2/2!+x^4/4!-x^6/6!+...)^2=1$.\", \"Following integral?\", \"Integration of a trigonometric function\", \"How to integrate fraction\", \"How to determine solutions: $\\\\;2^x=3^y=36^{-z}\\\\; \\\\implies \\\\frac1x +\\\\frac 1y +\\\\frac 1{2z} = \\\\quad ?$\", \"Compute $\\\\int_{-\\\\pi}^\\\\pi{x^2\\\\sin\\\\frac{x}{2}dx}$\", \"How to evaluate this definite integral $\\\\int_0^2(1-x^2)^\\\\frac{1}{3}~dx$\", \"Applying The Cauchy-Schwarz Inequality\", \"Need help with a power equation\", \"Reducing to exact form by integrating factor\", \"Definite Integrals problem\", \"Problem with trigonometric substitution proof\", \"How to calculate the following integral?\", \"To evaluate $\\\\int_0^{\\\\frac{\\\\pi}2} \\\\frac{\\\\cos x}{x+2} dx $ and $\\\\int_0^4{\\\\frac{\\\\sin x \\\\cos x}{(x+1)^2}} dx$\", \"What property allows me to integrate a gaussian function?\", \"Help with evaluating $\\\\frac{1}{\\\\pi} \\\\int_{-\\\\infty}^\\\\infty exp(-iwx) g(x) dx $\", \"Derivative of double integral over Region\", \"How to caluclate the integral of $\\\\int \\\\frac{1}{\\\\sqrt{4x^{2}+1}}dx$ using a trig substitution?\", \"How to integrate $\\\\frac{1}{x^4\\\\sqrt{(x^2+3)}}$\", \"Integral of $\\\\int \\\\tan^4 x \\\\, \\\\sec^6 x dx$\", \"How can I integrate $\\\\int_{2}^{\\\\infty}\\\\frac{\\\\ln x}{x^3}\\\\,\\\\mathrm dx$\", \"Need help evaluating the definite integral.\", \"How to integrate this function\", \"How do I solve for $dy/dx$ if $y=\\\\ln (\\\\sin x+\\\\ln x)$?\", \"Integration using different substitutions resulting in different answers?\", \"Integrating an equation with both cos and tan\", \"A transform function from $(-\\\\infty, \\\\infty)$ to $(t_0, \\\\infty)$?\", \"Integral relationship problem\", \"Integral of gaussian and sine/cosine\", \"What exactly happens in the algebraic steps here?\", \"Leibniz Integral Rule\", \"How to integrate by parts and $u$-sub $8 \\\\ln(\\\\sqrt[3]{x})$?\", \"Another parametric integral relating to hyperbolic function\", \"$\\\\frac{\\\\frac{dx}{dt}}{\\\\frac{dy}{dt}}$, for $x(t),y(t)$\", \"$\\\\int \\\\frac{x^3}{x^3-a^3} \\\\, dx$\", \"i cant find this integral $\\\\int_0^1 x^{-x} \\\\mathrm{dx}$\", \"How to prove $ \\\\int \\\\sqrt{a^2-u^2}du $\", \"Work required to pump water out of a tank in the shape of a right circular cone\", \"How to prove $\\\\int_0^1 \\\\frac{\\\\arctan( a x)}{x \\\\sqrt{1 - x^2}} dx = \\\\frac{\\\\pi}{2} \\\\ln (a + \\\\sqrt{1 + a^2})$?\", \"Prove some identites.\", \"AM-GM application\", \"Double checking my progress on finding critical numbers\", \"Integral $\\\\int_{-\\\\infty}^{\\\\infty}\\\\frac{\\\\mathrm dx}{(ax^2+2bx+c)^{\\\\alpha}}$\", \"Differentiation of improper integral\", \"Definite integral resolution\", \"Integration Formula\", \"How to evaluate the definite integral?\", \"Conversion a three-dimensional integral into a one-dimensional one\", \"Integral Equation $\\\\int_{-\\\\infty}^\\\\infty \\\\frac{f(y)}{1+(x-y)^2}\\\\mathrm dy =0 \\\\quad \\\\forall x$\", \"Can't figure out a way to integrate $\\\\int_{A}\\\\log(\\\\sin(x-y))dx dy$\", \"the smallest value of $\\\\alpha$\", \"Integration: How to Begin?\", \"Instantaneous relative growth\", \"Implicit diff on $\\\\frac{2x}{y} - \\\\frac{3y}{x} = 8$\", \"Show $\\\\lim_{\\\\lambda \\\\to \\\\infty} \\\\ \\\\frac{S}{hs} = 4 \\\\pi$\", \"Integration by parts: $\\\\int xe^{-x}dx$\", \"Intuition for why ln|x| is the integral for 1/x\", \"How to calculate the integral\", \"How to integrate $\\\\int_{0}^{\\\\sqrt{3\\\\pi}}\\\\int_{y}^{\\\\sqrt{3\\\\pi}}\\\\cos 7x^2\\\\;dxdy$?\", \"What's a better way to integrate this?\", \"Splitting up the interval of integration\", \"Long division in integration by partial fractions\", \"Evaluate $\\\\int \\\\limits _{0}^{\\\\infty}\\\\ln\\\\left({x+\\\\frac{1}{x}}\\\\right)\\\\cdot\\\\frac{\\\\mathrm dx}{1+x^2}$\", \"Why is my solution wrong? (Putnam 1985 B2)\", \"Evaluate the Integral $\\\\frac{\\\\sec^2\\\\theta}{\\\\tan^4\\\\theta-1}$\", \"Differentiation with sigma notation\", \"Volume problem: Is my integral correct?\", \"Integrating square of derivative of log function\", \"Steps in evaluating $\\\\int \\\\frac{1}{x^4-c^4} dx$?\", \"I need more help on calculus integrals\", \"Estimating Residues in McLauren's Polynomial\", \"Probably a dumb question on integration(Geometry of a simple double integral of $x$\", \"Solve for $x$ ; $\\\\dfrac{2x}{4\\\\pi}+\\\\dfrac{1-x}{2}=0$\", \"Integrate $\\\\int \\\\sqrt{(\\\\sec{x} +\\\\tan{x})}\\\\ \\\\cdot \\\\sec^2x\\\\,dx$\", \"Optimal decomposition of $\\\\frac{m}{n}$\", \"Definite integral reciprocal of polynomial plus trig function\", \"Is $\\\\frac{1}{\\\\min(\\\\frac{1}{a},\\\\frac{1}{b})}=\\\\max(a,b)$?\", \"Solve this equation $\\\\frac{1}{x+\\\\sqrt{x^2-1}}=\\\\frac{1}{4x}+\\\\frac{3x}{2x^2+2}$\", \"How do you apply $u$-substitution to the integral $\\\\int v\\\\sqrt{2v^2+1}\\\\,dv$?\", \"If $dx/dy =\\\\sin(x)$ then is $dy/dx = 1/\\\\sin(x)$?\", \"related rate problem\", \"Integrate $\\\\int{9x^5\\\\sqrt[4]{x^3+8} dx}$\", \"Integrating $3\\\\sin(x/2)$.\", \"How to differentiate this function\", \"Integral of exponential and algebraic function\", \"I am trying to find derivative $f$\", \"$\\\\int_{-\\\\pi}^{\\\\pi}\\\\sinh(x) \\\\sin(nx)dx$, using complex transformation.\", \"Estimate the decrease in the period of the satellite to the nearest one-hundredth hour....\", \"Convergence of type $1/(kn+r)$ type series\", \"$\\\\int_{y=-1}^{y=1}\\\\int_{x=y^{2/3}}^{x=(2-y)^2}f(x,y)\\\\ \\\\mathrm dx \\\\mathrm dy$ what does the region look like?\"], \"type\": \"htmltooltip\", \"id\": \"el959585372227856pts\", \"hoffset\": 10}, {\"type\": \"toptoolbar\"}, {\"voffset\": 10, \"labels\": [\"Write $\\\\cos(x)$ in terms of $\\\\sin(x)$\", \"Evaluating $\\\\int_0^L\\\\int_0^L \\\\cos^{-1}\\\\left(\\\\frac{x^2+y^2-a^2}{2xy}\\\\right)xy~dx~dy$\", \"Calculus - Find critical points\", \"Find all $ x \\\\in [0^{\\\\circ},360^{\\\\circ}] $ for which $ |2 \\\\sin(x) \\u2212 5| < 4 $.\", \"Precalculus Trig Problem\", \"Solve $\\\\cos(\\\\theta) + \\\\sin(\\\\theta) = x$ for known $x$, unknown $\\\\theta$?\", \"real solution of eqn. in $\\\\sin x+2\\\\sin 2x-\\\\sin 3x = 3,$ where $x\\\\in (0,\\\\pi)$.\", \"Where did I miss the minus?\", \"a question on : why sin(x) = sin(180-x)\", \"How can this be re-written with the following identity?\", \"Integral in greatest integer and absolute functions\", \"Another magic re-write question, picture!\", \"Find $f(4)$ if $x \\\\sin(\\\\pi x) = \\\\int_0^{x^2} f(t)\\\\,\\\\mathrm dt$\", \"How to tackle these trig questions correctly\", \"Area computed using polar coordinates\", \"trigonometric equations calculations and their implementation in practise.\", \"Integrate $\\\\sin^5 x$\", \"Integral of Form $(a^2 - x^2)^{1/2}$\", \"Adding sine waves of different phase, sin(\\u03c0/2) + sin(3\\u03c0/2)?\", \"What have I done incorrectly; integration by parts\", \"Computing the indefinite integral $\\\\int x^n \\\\sin x\\\\,dx$\", \"Expressing $\\\\cos\\\\theta - \\\\sqrt{3}\\\\sin\\\\theta = r\\\\sin(\\\\theta - \\\\alpha)$\", \"Trigonometric functions - finding solutions\", \"Showing that $\\\\frac{2}{3\\\\pi}\\\\leq\\\\int_{2\\\\pi}^{3\\\\pi}\\\\frac{\\\\sin x}{x} \\\\, dx \\\\leq \\\\frac{1}{\\\\pi}$\", \"What is the easiest way to find the maximum of $9\\\\cos(t) - 8\\\\cos(3t)$?\", \"How to differentiate integrals with variable limits?\", \"Evaluate $\\\\int_0^\\\\pi xf(\\\\sin x)dx$\", \"Please solve this equation\", \"Issue with proof of theorem limx->0 (sinx)/(x)=1\", \"How to prove two trigonometric identities\", \"Differentiability of function involving absolute values\", \"Position of a point on a moving unit circle?\", \"Proving that $x\\\\sin x+\\\\cos x=x^2$ has only one positive answer\", \"Prove $\\\\int_0^{2\\\\pi}\\\\frac{3a\\\\sin^2\\\\theta}{(1-a\\\\cos \\\\theta)^4}$ or $\\\\int_0^{2\\\\pi}\\\\frac{\\\\cos\\\\theta}{(1-a\\\\cos\\\\theta)^3}=\\\\frac{3a\\\\pi}{(1-a^2)^{5/2}}$\", \"Prove this identity...\", \"How to factorize this expression?\", \"Evaluate $ \\\\int \\\\cfrac { \\\\sec^2x}{ ( \\\\sec x + \\\\tan x)^{9/2}}dx $\", \"Solve for $x$; $\\\\cos^2x-\\\\sin^2x=\\\\sin x; -\\\\pi\\\\lt x\\\\leq\\\\pi$\", \"If $\\\\left(1+\\\\sin \\\\phi\\\\right)\\\\cdot \\\\left(1+\\\\cos \\\\phi\\\\right) = \\\\frac{5}{4}\\\\;,$ Then $\\\\left(1-\\\\sin \\\\phi\\\\right)\\\\cdot \\\\left(1-\\\\cos \\\\phi\\\\right)$\", \"How prove this $\\\\sum_{k=0}^{l}\\\\frac{(2l-2k)!(2k)!}{2^{2l}(k!)^2[(l-k)!]^2}\\\\sin{(l-2k)\\\\theta}=0$\", \"Basic trigonometry\", \"Calculate depth using triginometry\", \"Lissajous curve - highest velocity\", \"Trigonometric development help.\", \"Is $\\\\sin^3 x=\\\\frac{3}{4}\\\\sin x - \\\\frac{1}{4}\\\\sin 3x$?\", \"Evaluate $\\\\int \\\\sin^5{(x)}\\\\cos^4{(x)} \\\\ dx$\", \"did:$\\\\lim_{x\\\\to 0}\\\\frac{\\\\sin(x^2 + \\\\frac{1}{x} )- \\\\sin(\\\\frac{1}{x}))}{x}$\", \"Darboux sums. find an integral .\", \"Simple trigonometry question\", \"Differentiate y=Cot\\u00b2(sinx)\", \"Question about fundamental theorem of calculus\", \"Find the exact value of $t$ that maximizes $\\\\int_{t}^{t+1}\\\\sin e^x \\\\ dx$\", \"trigonometry: $2cos^2(x)+3cos(x)-2=0$ -> $cos(x)=-2$ OR $cos(x)=1/2$\", \"Eliminating $\\\\theta$ from the system\", \"What is $\\\\cos^2(t) + \\\\sin^2(-t)$?\", \"Can someone explain the math used in this query?\", \"Find the second derivative of the given function\", \"How can I differentiate this?\", \"Equation with sin 1/x\", \"Trigonometry $1+\\\\tan{x}=\\\\frac{\\\\sin{(\\\\frac{\\\\pi}{4}+x)}}{\\\\cos{\\\\frac{\\\\pi}{4}}\\\\cos{x}}$\", \"Losing information when solving trig problem\", \"What would be the sum of Trigonometric Functions\", \"Trigonometric Identity $\\\\frac{1}{1-\\\\cos t} + \\\\frac{1}{1+\\\\cos t}$\", \"Faster way of deriving equations of this type?\", \"Proving Sin Cos Tan\", \"Derivative of following functions $f(x) = \\\\cos^{-1}\\\\left(1-2x^2\\\\right)$\", \"What is an intuitive way to see $\\\\frac{d}{dx}\\\\sin^{-1}x+\\\\frac{d}{dx}\\\\cos^{-1}x=0$?\", \"The cosine of the angle between two vectors proof\", \"$\\\\int_{C}{|y|ds}$\", \"prove the following equations\", \"Trigonometric Functions Problem\", \"Help with implicit differentation\", \"Finding intersection with newton's method for $\\\\cos(x) = 2x$\", \"Stuck in a simple trigonometry problem\", \"Substitution integral with sines and cosines\", \"Integral of cos(5x)cos(3x)cos(4x)dx\", \"check my work on this problem: given tan(2x), find sin x + cos x?\", \"The antiderivative of $\\\\cos^5(x)\\\\sin^5(x)$ - is this incorrect?\", \"Trigonometric equation, missing some solutions\", \"G\\u00e2teaux and Fr\\u00e9chet derivate\", \"Solving the trigonometric equation $\\\\cos(x)-.4=0$.\", \"How to solve $a\\\\cos^2(\\\\theta) + b \\\\sin^2(\\\\theta) = 0$ for $\\\\theta$\", \"Can I get some assistance with this intregral / area problem?\", \"How prove or disprove this limit $\\\\lim_{n\\\\to\\\\infty}\\\\frac{\\\\sum_{k=1}^{n}|\\\\sin{(x+k)}|}{n}=\\\\dfrac{1}{\\\\pi}\\\\int_{0}^{\\\\pi}|\\\\sin{x}|dx$\", \"Sin in terms of t , 0 < B < pi/2\", \"Precalc - Trig Identities\", \"Assuming *only* that $\\\\sin^2{\\\\theta}$ + $\\\\cos^2{\\\\theta} = 1$, show that $\\\\sin{\\\\theta}\\\\cos{\\\\theta}\\\\le1/2$\"], \"type\": \"htmltooltip\", \"id\": \"el959585415571856pts\", \"hoffset\": 10}, {\"type\": \"toptoolbar\"}, {\"voffset\": 10, \"labels\": [\"The integral $\\\\int_{\\\\varepsilon}^1 r^n(1-r)^{k-n}\\\\,dr $\", \"Sum of all numbers x such that $(3x^2+9x-2012)^{(x^3-2012x^2-10x+1)} = 1$?\", \"Can someone please explain the ratio test to me please?\", \"How to do a Riemann Sum\", \"Problems with Trigonometric Identities\", \"Problems understanding error of approximation\", \"Comb Function -- First Derivative at a Point\", \"Explain this proof without words of integration by parts to me\", \"Word problem,percentage\", \"please help me. ive been trying to solve this for hours\", \"Finding asymptotes to general functions\", \"Optimal yarn balls\", \"Elliptic Cylinder Coordinates Integral\", \"Trying to reverse an equation and solve for a different variable\", \"Calculating wholesale and shipping costs for book order\", \"If $|z| = 2$. Then Locus of $z$ Representing The Complex no. $-1+5z,$ is\", \"dividing a unit in several different ways\", \"$f(0) = 65$, $f(20) = 60$, Possible to determine $f(x)$?\", \"Why can we only talk about derivatives on an open interval?\", \"complex conjugate of exponent\", \"Converting solution of linear equations to slope intercept form\", \"Solving for the value inside a base 10 logarithm\", \"Given the graph of $y=f(x)$ on the left, and $f(x)=(x-2)^2-7$ graph the function\", \"Volume of Cylindrical Wedge (not Segment)\", \"trying to prove equality of composition of functions\", \"Can two regular tetrahedrons make an octahedron?\", \"Average of all numbers from $1$ to $100$ that end in $2$\", \"Area of an elliptic?\", \"What is this question asking and Help me solve this equation step by step\", \"Graph $\\\\ell(x) = 3x +2$. What would $\\\\ell(x+1) - \\\\ell(x)$ be for all $x$?\", \"find the extremal of a function\", \"Use of integration and difference between two equations in monograph\", \"using the chain rule for f(x,y)\", \"Problem about a simple division\", \"Help with this binomial coefficent problem\", \"Question which has no answers\", \"Maximum, minimum, rate of change behavior of $H(t)=t^6-\\\\frac{3}{4}t^8$\", \"Property of a Cissoid?\", \"Rate of global resource consumption\", \"Work out value between two numbers from percentage.\", \"How many mappings $\\\\phi:\\\\Bbb{N}\\\\cup\\\\{0\\\\}\\\\to\\\\Bbb{N}\\\\cup\\\\{0\\\\}$ exist such that $\\\\phi(ab)=\\\\phi(a)+\\\\phi(b)$?\", \"Help with trigonometry problem\", \"General solution of the equation $x_1 \\\\cdots x_n + A = 0$ in complex numbers\", \"Write $\\\\csc(x)$ in terms of $\\\\sec(x)$\", \"How to find the $x^2+y^2=?$\", \"Applications of differentiation\", \"What is Derivative of order more than one?\", \"Find largest function such that the limit goes to 0\", \"A rectangle is scissors congruent to a square of the same area.\", \"Find all the values of $x \\\\in \\\\mathbb R$ from an equation\", \"directional derivative of convex function always exist\", \"How to integrate a multiplication\", \"How can I factor the polynomial $125x^3 + 216$?\", \"What is natural logarithm of this expression?\", \"Figuring out the proof of limit\", \"How to solve these equations?\", \"Parameterizing a function where you cannot isolate y\", \"length of Cardioid\", \"Volume of half torus. What's wrong with my solution?\", \"Write in Terms of sine and cosine and simplify\", \"Darboux sums inequality\", \"What does $\\\\cos(2\\\\tan^{\\u22121} x)$ mean and how do solve?\", \"Similar Triangles, Ratios and Proportions, Similar Polygons\", \"$a^2-b^2=bc$ and $b^2-c^2=ac \\\\Rightarrow a^2-c^2=ab$\", \"$\\\\epsilon$-$\\\\delta$ proof of discontinuity\", \"sum of the alternating series $\\\\sum_{n=0}^\\\\infty (-1)^n (n+1)/n!$\", \"How do I factor a polynomial over the reals?\", \"Suppose that $f(x)= xg(x)$ for some function $g$ which is continuous at $0$. Prove that $f$ is differentiable at 0 , and find $f'(0)$ in terms of $g$.\", \"Find $n$ satisfying the equation $[\\\\log_21]+[\\\\log_22]+[\\\\log_23]+\\\\dots[\\\\log_2n]=1538 $\", \"What is the name of this identity for a power symmetric polynomial?\", \"How to understand sinus?\", \"How to solve the following equation by extracting square roots?\", \"How to find the surface area of an egg?\", \"Solving for distance and time. Please help, I am stuck, and need to know how to do this please.\", \"Prove that the sum of a sequence diverges\", \"Gabriel's horn, calculus Integration\", \"How to evaluate this using algebra?\", \"How many solutions are there for this equation: $(x^2-x-1)^{x^2}=(x^2-x-1)$\", \"What is the slope of the line tangent to $f(x)=-2x^2+4x+6$ when $x=3$?\", \"given that the curve $x^3+ax^2+bx$ has no turning points show that $a^2<3b$\", \"Finding possible 2d positions of a transmitter, using multilateration.\", \"Minimizing a multivariable function given restraint\", \"Show that the set of polynomials $P = \\\\{p_k(x) = x^{5k + 4} + x^3 + x^2 + x + 1| k\\\\in \\\\mathbb{N}\\\\}$ has a common non-trivial polynomial divisor\", \"A completes 36% work in 12 days.\", \"Conditions for integrability\", \"Simplification of a simple expression\", \"Finding concavity and factoring\", \"Calculate the good Paypal fees\", \"If $(x^y)^z = x^{y\\\\cdot z}$, why does $(-5)^{2^{0.5}}$not equal $(-5)^1$?\", \"Simplifying a fraction.\", \"Writing a number as power of two\", \"Reverse a formula with codependent expressions\", \"Finding the solution to a trig equation\", \"What is this geometric pattern called?\", \"Calculate the angle of a vector in compass (360) direction\", \"how to prove that the curvature of sin x is greatest at its extremum?\", \"Find the rate of change. $P=250(1+(2t/(49+t^2)))$\", \"Find the derivative of $y=(2x-1)^{10}(x-1)^3$\", \"Probability 5th grade\", \"Convert percentage to number between 120 and 150\", \"Prove in harmonic progression\", \"Error of Equirectangular Approximation for spherical distance\", \"How to move from powers to simple logarithms?\", \"Using the numbers 2, 0, 1 and 3: 1-100\", \"How to make this polynomial have equal roots?\", \"Rewriting an equation in percentage terms\", \"Mixed integration problem\", \"Inequalities In Algebra\", \"How to solve this equation?\", \"Natural logarithm, equivalent function\", \"Is it possible to simplify $\\\\frac{2^{2x-1} - 2^{x-1}}{2^{2x-1}}$?\", \"Integral: $\\\\int_0^{1/2}\\\\frac{\\\\ln(1+2x)}{1+4x^2}{\\\\rm d}x$ [Other method type question.]\", \"solving time with the given distance and acceleration\", \"How do I arrange the following to solve for\", \"What is $\\\\sin x \\\\sin 2x \\\\sin 4x$ converted to a sum?\", \"Evaluating $\\\\int_{0}^{1} x^m \\\\ln^\\\\alpha(x) dx$\", \"I can't find differences between $P(1+r)^n$ and $P(2.71828)^{rn}$\", \"surface area of $y = e^{-x}, x \\\\geq 1$, about $x$-axis\", \"Find the mass of a rod with the given density function\", \"How to find $\\\\theta$ for $\\\\tan\\\\theta=-\\\\frac{4}{3}$?\", \"Evaluating fractional indices (negative)\", \"differentiation of Polynomials\", \"Prove this differential equation of a angle\", \"Showing a function can't be even\", \"perimeter and side length linear equation section\", \"Evaluating one integral in terms of another\", \"Solve for $x$ in $0 = e^{x^2} (2x)$\", \"Work done pulling a leaky bucket\", \"If a second car leaves later at a higher speed, how long will it take to catch up?\", \"A family of functions graphing\", \"Eliminate $A$ from these two equations.\", \"Which is bigger $x^{log(x)}$ OR $(log(x))^x$\", \"Second derivative multivariate functions\", \"If integral is zero and function is continuous and non negative, then what about the function?\", \"find $\\\\alpha$ such that $f(x)=x^\\\\alpha*sin(\\\\frac{1}{x})$ is n th order derivable at (0,0)\", \"Proving that a point is the maximum of a continuous function\", \"Logarithm Expansion Question\", \"Determining which intervals decrease and increase and concavity\", \"Complex mathematical question. Any help is much appreciated.\", \"Derivative of the area under $f(x)$ between $a(x)$ and $b(x)$\", \"What is glide reflection?\", \"Show that the directional derivative is linear by definition\", \"derive formula for height of tower on a hill\", \"Does anyone know names of some of Newton's THEOREM?\", \"How prove $\\\\sum_{j=k}^{n}x_{j}\\\\prod_{i=j+1}^{n}(1-x_{i})=1-(1-x_{1})(1-x_{2})\\\\cdots(1-x_{k})$\", \"Solving for volume using washer and cylindrical shell method\", \"Derivative of $x^2$\", \"Modeling Linear Functions\", \"Equality of norms on $L^1 (\\\\mathbb{R}, \\\\mathbb{R})$\", \"proof by negation - there is no supremum\", \"Minimum value Of trigonometry expression\", \"Solve $\\\\log x + \\\\log(2x-5) = \\\\log 96 \\u2013 \\\\log 8$\", \"Finding the ratio of two persons time spent driving to a meeting\", \"Reverse percentages\", \"$f(4)=3$ and $f'(4)=7$. If $g(x)=x^2f(x)$ then find $g'(4)$.\", \"planarity of a quadrilateral\", \"Is there a rule for integrating $f(x) f(f(x))$?\", \"Prove Why is Less than a number equals to this?\", \"How to solve the proportion $3n(n-5) = n-6(3n+1)$?\", \"How to find absolute min and max of a function over interval?\", \"Textbook clarification: $\\\\log = \\\\ln$\", \"Simplifying formula with Laplacians\", \"Transformational geometry software\", \"Extending hyperbolas to 3 and 4 foci\", \"How do they integrate this exponential?\", \"Solving a differential equation with composite functions\", \"Harmonic progression\", \"Chain rule and gradients\", \"Logarithmic differentiation for this function\", \"Two proofs I'm having difficulty with\", \"closed form solution for summation of  $\\\\log(i)$\", \"Given the angle find the dot product\", \"solid of revolution (x-axis)\", \"Prove that $\\\\tan55^\\\\circ\\\\cdot\\\\tan65^\\\\circ\\\\cdot\\\\tan75^\\\\circ=\\\\tan85^\\\\circ$\", \"How to solve $x \\\\log^2x - c=0$?\", \"Is there a \\\"more correct\\\" way to differentiate $\\\\frac{f(x)}{g(x)}$?\", \"What is this result called: $\\\\int_a^b f(x)g(x)dx=f(c)\\\\int_a^b g(x)dx$?\", \"Convergence of a series question: $\\\\sum_{n=1}^\\\\infty\\\\frac{n^{3/2}(-1)^n}{3n^3-(-1)^n}$\", \"Remainder Theorem, solve for K\", \"How find this value $\\\\frac{S_{\\\\Delta ABC}}{\\\\overrightarrow{OA}\\\\cdot\\\\overrightarrow{OB}}$\", \"How to solve $\\\\int \\\\ln(x)\\\\cos(x)\\\\: \\\\mathrm{d}x$?\", \"Deriving Simple Interest from given compound interest of 3 years.\", \"Wrong step in linear equations with fractions\", \"Solve this Trigonometric equation\", \"Proving that for every real $x$ there exists $y$ with $x+y^2\\\\in\\\\mathbb{Q}$\", \"simplify $x^4-3x^2+2=0$\", \"Find the equation of the tangent and normal to the curve $y = x + \\\\frac{1}{x}$ at $x = 1$.\", \"does it exist a formula for $a^2 + b^2$?\", \"-10 - 2 = -8 : How can I make this equation true?\", \"Ideas To Show this statement: $\\\\prod_2^{2n+1}(1-k^{-2})=(n+1)/(2n+1)$\", \"How can I prove the even derivatives of $\\\\frac{d^n}{dx^n}\\\\left \\\\{ \\\\right.tan(x)\\\\left. \\\\right \\\\}=0$ at $x=\\\\pi$\", \"Descrbing solutions of $\\\\sin\\\\theta = k$ & $\\\\cos\\\\theta = k$.\", \"Origin or author of 'Japanese Multiplication Method'\", \"Showing a function is differentiable at the origin\", \"Differentiate the following expression: $f(x)=2x^2 + 7x - \\\\ln(x^2+1)$\", \"Error function--How to take the limit?\", \"Computing the derivative of $H(z)= \\\\int_{e^z}^{\\\\cos z} \\\\ln(w^3) ~dw$\", \"Factor the Expression completely$ (a+b)^2 - (a-b)^2$\", \"Tangent lines in parametric curve\", \"Infinite derivative\", \"An awful factorisation question.\", \"\\\"Maximum area enclosing rectangle\\\"\", \"Determine the inverse function of $f(x)=3^{x-1}-2$\", \"Coordinate substitution between two cartesian systems\", \"exponentiation with the base between 0 and 1\", \"Work calculation from Thomas' calculus...does the text contain an error?\", \"Equivalence of growth rate found through derivation of growth equation and rate found through $A = Pe^{rt}$.\", \"Prove that there are $n$ pairwise distinct numbers $t_1,t_2,...,t_n$ in $(0,1)$, such that $\\\\sum_{i=1}^n\\\\frac{k_i}{f'(t_i)}=\\\\sum_{i=1}^n k_i$\", \"Skipping and percentage\", \"Shadow of a Tesseract\", \"Proving that $\\\\lim\\\\limits_{h\\\\to 0}\\\\frac{f(x+h)-2f(x)+f(x-h)}{h^2}=f''(x)$\", \"limit of a function that includes floor function\", \"The derivative of square root of $g$ from numerical values of $g$ and $g'$\", \"How many k-hyper-cubes does a n-hyper-cube have?\", \"Solving a sets problem with fractions.\", \"partial fraction decomposition and balancing rule\", \"Prove that $\\\\sin^7 x + \\\\cos^7 x < 1$ if $0 < x < \\\\frac{\\\\pi}{2}. $\", \"Prove that at any given moment, there exists a pair of diametrically opposed points on the equator of the Earth that have the same temperature.\", \"Does it Make Sense to Use the Variable of Integration as a Bound?\", \"Calculus definite integrals declining word problem\", \"Reciprocal sum equal to $1$\", \"Calculate number of pages given n items\", \"Express the length a, b, c, and d in the figure in terms of the trigonometric ratios of \\u03b8.\", \"Space filling curve with locality for odd column/row count\", \"Logarithm Question $\\\\log_{3}9x+\\\\log_{3}x=4$\", \"Are there oscillating functions that don't reduce to trigonometric functions?\", \"Prove, using the mean value theorem, that $x+1 \\\\lt e^x \\\\lt xe^x+1$ for $x \\\\gt 0$\", \"Why exactly is the sum/difference of two (and possibly more) differentiable and continous functions also inherit this property?\", \"Let $f(x)$ denote the sum of the infinite trigonometric series, $f(x) =\\\\sum^{\\\\infty}_{n=1} \\\\sin\\\\frac{2x}{3^n}\\\\sin\\\\frac{x}{3^n}$\", \"Capacity of car radiator\", \"$0=a \\\\cos (\\\\phi + b) +c \\\\cos (\\\\phi +d)$\", \"Integrate a rational function with a denominator in the form a - cos(x)\", \"Solution of trigonometric equation $at + \\\\sin(t) = 0$\", \"How to calculate sin(65) without a calculator.\", \"What is the solution set of $x-(1/x)\\\\le 0$?\", \"Analytic solution of $ \\\\int_t^{t+r} \\\\frac{x^2}{(t+r-\\\\sqrt{2rx-x^2})^4}dx $\", \"What is the minimum possible value of $(a+b+c)$?\", \"Expressing a multivarible function as \\u2207\\u03d5\", \"How find this integral $I=\\\\int_{0}^{1}\\\\frac{1}{2-x}\\\\ln{\\\\frac{1}{x}}dx$\", \"The proportionality symbol\", \"How can I find the area of the region bounded by the hyperbola\", \"Testing $\\\\sin\\\\theta$ and $\\\\cos\\\\theta$ without referring to the trigonometric functions\", \"If $f(x)g(x) = x$, then is it possible that $f$ and $g$ are differentiable and $f(0)=g(0)=0$?\", \"Is this function infinitly often differentiable?\", \"Differential to estimate a number\", \"Formula for Damage Calculation Based on Distance\", \"Calculating the amout of rotation on a line and the length compared to a gear\", \"Solve for: $8\\\\log_4\\\\sqrt{x^2-9}+3\\\\sqrt{2\\\\log_4\\\\left(x+3\\\\right)^2}=10+\\\\log_2\\\\left(x-3\\\\right)^2$\", \"(4x^2+2kx-5)/(x+2) remainder is 3 find value of k?\", \"Fundamental theorem of Calculus Part 1\", \"What is the relationship between the area of a triangle and an area of a segment of a circle?\", \"Integral Application Word Problem\", \"Finding the derivative of $y=12x^4\\\\sqrt[3]{x^2}-2e^x+9$\", \"Is $\\\\frac{5x}{3}$ The Same As $\\\\frac{5}{3}x$?\", \"Show that $x$, $y$, and $z$ are not distinct if $x^2(z-y) + y^2(x-z) + z^2(y-x) = 0$.\", \"Is any sequence of the form $\\\\lim_{n \\\\to \\\\infty} a_n \\\\ne L$ is divergent?\", \"True or False: Between 2 sequential roots of $f'(x)$ there is at most one root for $f(x)$\", \"Which of the following is true\", \"What Percent of two numbers to get to one\", \"Cylinderical Shell Calculus Question\", \"Find the value of x if $\\\\log_{2}({5 * 2^x + 1})$, $\\\\log_{2}({2^{1 -x} + 1})$ and 1 are in arithmetic progression\", \"find the differential dy\", \"How would I go about showing that f is one-to-one?\", \"Convex hull of Minkowski sums\", \"How to solve following equation?\", \"What is this type of problem called?\", \"Expand $(a\\u2212b)^2 +(b\\u2212c)^2 +(a\\u2212c)^2$ , and hence prove that $a ^2 +b^2 +c^2 \\u2265 ab+bc+ac$.\", \"Refinement of Notion of Integration\", \"Closed form for $\\\\int \\\\left(k e^{-2x}+4e^{-x}\\\\right)^{-1/2}dx$\", \"How to find $\\\\arccos(\\\\cos15\\\\pi/11)$?\", \"Problem with understanding integration by parts method?\", \"Calculate the area bounded by two different curves\", \"Hydrostatic Force and Integration\", \"Find all Critical Values for a Function\", \"Solve the following equation algebraically for n. Show your working using factorial notation.?\", \"Proving the function is concave\", \"Definite integral with negative log\", \"Proving that $\\\\frac{\\\\csc\\\\theta}{\\\\cot\\\\theta}-\\\\frac{\\\\cot\\\\theta}{\\\\csc\\\\theta}=\\\\tan\\\\theta\\\\sin\\\\theta$\", \"differentiability check\", \"intuition behind logarithm properties\", \"Work and time, when work is split into parts\", \"Solving $35(1-e^{-10k})=20(1-e^{-20k})$\", \"Problem Solving an Inverse Function\", \"calculus volume problem\", \"Calculating area of a shaded region inside a square\", \"general formulation for 1/g(x) derivative\", \"Fast way to prove that $(a^2+b^2+c^2-ab-ac-bc)^2=(a-b)^2\\\\times (a-c)^2 + (b-c)^2\\\\times(b-a)^2 + (c-b)^2\\\\times(c-a)^2$\", \"Find the instantaneous velocity\", \"pyramid with a trapezoid as a base.\", \"Signing $y''$ from $\\\\log(\\\\frac{x+y}{x})=x+y$\", \"How to determine $x$ and $y$ intercepts for $y = 4(x - 2)^2(x + 2)^3$\", \"Expressing $ 12\\\\sin( \\\\omega t - 10) $ in cosine form\", \"absolute and conditional convergence of series\", \"Cannot solve by hand:$ x + y = 2; 4x^2 + y^2 = 5(2x - y)(xy)^{\\\\frac12}$\", \"How to express $\\\\max\\\\{a,b,c\\\\}$\", \"Manipulation of differentials\", \"Evaluating a sum(could be decomposed into partial sum)\", \"If $f(x)=\\\\int_0^x x^2 \\\\sin {t^2}~dt $, find $f'(x)$.\", \"Prove the following trig identities\", \"If the first 10 positive integer is placed in a circle(any order), 3 integer in consecutive locations around the circle that have a sum > 17?\", \"Find $log_{p}X^2$?\", \"Why is it true that $\\\\int_0^\\\\pi \\\\! \\\\sin(z\\\\cos\\\\theta) (\\\\sin\\\\theta)^{2\\\\nu} \\\\, d\\\\theta = 0$?\", \"Prove that $f(x)$ be a constant\", \"Chemicals from a storage tank are leaking into a pond!\", \"Solving a tricky equation\", \"Why dividing by zero still works\", \"Finding the area between 2 curves using Green's Theorem\", \"Using integrating factor\", \"How to evaluate $\\\\displaystyle\\\\int {1\\\\over (1+kx^2)^{3/2}}dx$\", \"Find Volume of solid using method of cylindrical shells\", \"Proof of Vector Valued Function Derivative\", \"How to simplify $(x+4)^2$?\", \"Find interval of increase and decrease\", \"Algebra Equation with equals on left hand side\", \"Epsilon-Delta More Confusion\", \"Trapezoidal vs Simpsons Rule\", \"Doing simple math in your head\", \"Solution of the equation $\\\\left(x+\\\\frac{1}{x}\\\\right)^{\\\\frac{1}{x}}=A$\", \"Ignoring constants when finding derivatives of trig functions\", \"Solving an equation with variable in exponent\", \"An equation involving an integral\", \"Find the inverse function of $ f(x) = 4 - x^2$,$ x\\\\geq 0$\", \"Question about continuous functions and indefinite integrals\", \"Can you encode if-then-else in arithmetic\", \"Consider a function $g(x)$ with derivative of $g(x)$ prime = $x^3(x-2)^2(x+8)^9$. For what value(s) of $x$ does $g(x)$ have a local maximum\", \"Why is the absolute value function not differentiable at $X=0$?\", \"Vector Field, Curl and Divergence. Simple computing and proving:\", \"Proof of the image of a set\", \"How can I write an epsilon-delta proof that a rational function has a certain limit?\", \"Invent transformation mapping ellipsoid to unit sphere\", \"On convex $n$-gons with special properties\", \"An inequality containing prime numbers.\", \"Product of a geometric series from it's middle term\", \"Finding the number of each type of fruit bought\", \"finding the value of $Z+Z^{2}+Z^{3}........ $ if...\", \"Could trigonometry exist in one dimension?\", \"Sketch the Graph $x = {(y + 4)^2} - 8$\", \"When is this statement true?\", \"What is the derivative of the following?\", \"Cosine proof of vectors\", \"Find the closed form of $\\\\tan\\\\frac{\\\\pi }{64}$ by using the number $2$ only?\", \"Is this $f(x)$ answer correct in regards to functions?\", \"Simple logarithmic equation\", \"integrating $x^e$\", \"Is the given function exponential?\", \"Stuck with factoring an expression\", \"How to differentiate $-x^3(3x^4-2)$\", \"Question about differential function.\", \"vector - clarification\", \"I don't understand this step in this exercise involving algebra\", \"L'Hospital Rule With Exponents - $ \\\\tan x/x $\", \"Exponential Equations\", \"Inverse of an exponential summatory\", \"Function Problem\", \"Fundamental theorem of calculus problem - trig functions\", \"SAT practice problem question\", \"Evaluate the definite integral.\", \"Integration of a complicated rational function\", \"Find the function $f(x,y)$ if $f_y(x,y)=x^2+2y$ and $f(x,x^2)=1$\", \"Antiderivative function of $\\\\arccos(1/x)/\\\\sqrt{x^2-a}$\", \"When multiplying a number with an exponent attached do you add or multiply the exponent?\", \"Troubled by the question of showing that $f \\\\equiv 0$\", \"Does a differentiable $f[g(x)]$ imply a differentiable $g(x)$ or the reverse?\", \"Minimizing Volume of Solid\", \"Finding a four digit number\", \"Confirm right model\", \"Find the resulting speed and direction\", \"$X=(1 + \\\\tan 1^{\\\\circ})(1 + \\\\tan 2^{\\\\circ})(1 + \\\\tan 3^{\\\\circ})\\\\ldots(1 + \\\\tan {45}^{\\\\circ})$. what is the value of X?\", \"What are the steps necessary to solve this Calculus problem?\", \"Solve $x^{\\\\frac{1}{x}}=0$\", \"Prove that a function is bounded\", \"Calculus Electricity problem\", \"Can you solve for a value within a floor function?\", \"discovering the optimum 'spacing' formula?\", \"Arc Lengths of Sine Curve\", \"No real solution to logarithmic equation?\", \"Rate of Change of Cylindrical Roll's Volume as it Unrolls\", \"limit of $f$ and $f''$ exists implies limit of $f'$ is 0\", \"Show there is a closed interval $[a, b]$ such that the function $f(x) = |x|^{\\\\frac1{2}}$ is continuous but not Lipschitz on on $[a, b]$.\", \"gradient of function on unit circle\", \"Area of a circular segment.\", \"Without performing the integral to show\", \"Is the equation $\\\\log[A/(-B)]=\\\\log[(-A)/B]$ valid?\", \"How to prove $L_{f}(P) \\\\leq L_{f}(Q)$ when $Q$ and $P$ are partitions of $[a,b]$ and $Q \\\\supseteq P$\", \"How to show a function is identically equal to zero?\", \"Prove: the function series, $\\\\sum_{n=0}^{\\\\infty}\\\\frac{(-1)^{n-1}x^2}{(1+x^2)^n}$ uniformly converges\", \"Use the laws of Logarithms to express $\\\\log_3(\\\\sqrt{27}/9)$\", \"Find the derivative of an integral.\", \"calculus essay assistance\", \"Question about the variations\", \"Calculate the double integral $\\\\iint x + y\\\\; dxdy$ over the ellipse segment\", \"$\\\\int_0^x f(t)dt = [f(x)]^2$ and f is never 0\", \"solving this equation sinx-cosx=1/\\u221a2\", \"Calculating the number of times a digit is written when given two numbers\", \"Find parameter \\\"$a$\\\" given an implicit curve and a tangent\", \"How to differentiate this function?\", \"Algebra simplification question\", \"Can someone explain to me the thought process behind this proof for a linear equation?\", \"exponent y=x^a sequences.\", \"Dividing a picture into N number of equal parts\", \"Minimizing a functional definite integral\", \"Is this function bounded?\", \"Definite integral of trig function\", \"I want to prove the following limit $\\\\lim_{x\\\\rightarrow 0} \\\\frac{\\\\sin x}{x^{2}}=\\\\infty$ using the definition of limit.\", \"Need help with hydroponic ML to Gallon conversion\", \"If $x \\\\in (0,1)$ then how do you show the inequality $r > s > 0$ implies $x^r < x^s$?\", \"Calculate Hourly vacation accrual\", \"How to find how far something has traveled. trig help\", \"Simplifying a trigonometric equation\", \"Problem with spherical coordiantes\", \"How many positive values of $a$ are possible in $2^{3}\\\\le a\\\\lfloor a\\\\rfloor \\\\le 4^{2} + 1$\", \"If $ f(x) = \\\\sin x+\\\\lfloor \\\\frac{x^2}{a}\\\\rfloor $ be an odd function. Then the set of values of parameter $a$ is/are\", \"Precalculus word problem on rocket height\", \"$(1-\\\\frac{x}{n})^n\\\\lt \\\\exp(-x)$\", \"Find a number such that the sum of the number and its square will be as small as possible.\", \"Why is speed * travel duration = total distance?\", \"How to perform a double integration\", \"Is a ball a polyhedron?\", \"d/dx Notation Explanation please?\", \"Map range of values to another range, non-linearly\", \"How to calculate average of sine squared\", \"Complicated multivariable implicit differentiation problem\", \"Fractional Power Interpretation\", \"A nonlinear single variable equation\", \"question about logarithms\", \"Related Rates Galore!\", \"How does one solve $y^y-x^x=x$ for $x$ as a function of $y$?\", \"Properties of exponents with logarithims\", \"How to prove that $\\\\int_0^{\\\\pi} \\\\log(|\\\\sin t|)\\\\,\\\\textrm{dt} \\\\;\\\\;\\\\textrm{is integrable }$\", \"Show transformation is locally invertible\", \"using Integration by parts\", \"Solving $2x+8=6x-12$ by using the guess and check method\", \"prove that there is no supremum for mn/1+m+n\", \"Exponential growth and bacteria\", \"Integral of $re^{-r/a}$\", \"Why does $7^{2\\\\ln x}\\\\cdot \\\\ln(7) \\\\cdot (2/x)$ equal to $7^{2\\\\ln x}\\\\cdot \\\\ln(49) /x$?\", \"Solve$(log_{2}(x+1))^2=4$\", \"Find the points on the given curve where the tangent line is horizontal or vertical\", \"Can asymptotes be imaginary?\", \"Find the solution of the differential equation that satisfies the given initial condition\", \"Trouble factoring polynomial\", \"What is the graph of $r^{2} = 16\\\\cos\\\\left(2\\\\theta\\\\right)$ ?.\", \"simplifying $\\\\min(\\\\max(A,B),C) $\", \"Solve $\\\\cos x>1/2$ for $-180<x<180$\", \"Implicit Differentiation... the triple product rule?\", \"CORE 1, Expanding and Simplifying - HELP?\", \"Proof that $\\\\int_1^x \\\\frac{1}{t} dt$ is $\\\\ln(x)$\", \"How many days are there in 70 years?\", \"Related Rates and Angle of elevation\", \"Can't understand a reduction formula question\", \"Definition of linear approximation\", \"Factor $x^2+10x+21$\", \"How to calculate a reverse scale factor?\", \"Solve two equations\", \"Why is n^(1/m) no valid way to calculate a root\", \"if $a,b$ such $a^2+b^2+4=2a+ab+2b$,find $a^2b$\", \"Let $f(x)=a_0^2x^n+a_1x^{n-1}+a_2x^{n-2}+...........+a_n,\\\\,$ where $a_0,a_1,....,a_n \\\\in \\\\Bbb R$\", \"Is it possible to express addition as repeated multiplication?\", \"Extract time frames from days\", \"Why is x^(a/b) equivalent to the bth root of x raised to the a power?\", \"Simple algebra question\", \"The error in simple Taylor's Polynomial with gap between power\", \"Solving $\\\\sum_{\\\\alpha=1}^{\\\\mu}\\\\frac{1}{\\\\alpha!}\\\\Big(1-\\\\alpha(2 \\\\mu- \\\\alpha)\\\\Big(\\\\frac{M-2l}{2 \\\\mu^2 KM}\\\\Big)\\\\Big)^{\\\\lambda}$\", \"Find the value of $A$ and $B$ such that $P$ is a rational number\", \"Using Lagrange multipliers to find volume of a cone\", \"The volume is to be found\", \"Calculate $1*1+2*2+3*3+4*4+....+r*r$\", \"For what value of k, $x^{2} + 2(k-1)x + k+5$ has at least one positive root?\", \"Number to the exponent divided by exponent value\", \"Algebra Word Problem\", \"Trig identity problem from Gelfand's Trigonometry\", \"Concavity related question.\", \"Proof involving circumradius of triangle and Law of Sines\", \"Derivative of a multiple sum of matrix elements\", \"$\\\\int\\\\frac{\\\\sin\\\\left(x\\\\right)}{\\\\cos\\\\left(x\\\\right)}\\\\,\\\\mathrm{d}x$ by substitution\", \"Integrating 2(100+t)\", \"How to link definite integral $\\\\leftrightarrow$ Area under curve $\\\\leftrightarrow$ total displacement\", \"Calculate the derivative of $\\\\sqrt{1+\\\\cot^2(x)}$\", \"Long division differs from calculator\", \"Prove that $m^{2} + n^{2} = \\\\csc^{2}\\\\left(\\\\theta\\\\right)$\", \"I have a really dumb algebra question for you\", \"Good arguments to why a modified Dirichlet function has a derivative at some points\", \"Piecewise Continuity\", \"Solve simultaneous equations $2\\\\log(y) = \\\\log(2) + \\\\log(x)$ and $2^y = 4^x$\", \"Find a simplified form for $n!+(n-1)!+(n-2)!+(n-3)!+ \\\\dots +1!$ .\", \"Derivative of special function\", \"Word Problem - Finding a Function for Volume\", \"$\\\\lim\\\\limits_{x\\\\to\\\\infty } \\\\frac{\\\\ln x}{\\\\sqrt{x}\\\\,{\\\\sin{x}}}$\", \"Investments in M -HomeWork\", \"Calculate Danny allowances in 2010.\", \"Integration with respect to a parameter\", \"How do I solve for $t$ and $s$ in $y = x^{-t/s}$?\", \"remainder of stirling formula divergent?\", \"Determine whether $\\\\int _{1}^{\\\\infty}\\\\frac{x\\\\sin\\\\left(x\\\\right)}{\\\\sqrt{1+x^5}}\\\\,{\\\\rm d}x$ is convergent or divergent\", \"Find all pairs of positive whole numbers\", \"Consider the function, f and its second derivative:\", \"Differentiable only at $x=0$ and $f'(0)>0$\", \"Is any submanifold of $\\\\mathbb{R}^{n}$ the zero set of some polynomial?\", \"How to solve $\\\\sqrt{3}x-\\\\cos 2x=0$ for sketching the graph of $y=\\\\sqrt{3}x-\\\\cos 2x$?\", \"Derivative inside integral of a translated function\", \"$\\\\prod \\\\cos(x2^{-k})$\", \"Operations for operands with powers of different bases\", \"Parallelogram inside of a quadrilateral.\", \"Find the value of $\\\\sin(x + y)$\", \"How much above the cost price must he marks his goods above the cost price to make a profit of 17%\", \"How can I find the derivative $ \\\\operatorname{sech}^2(e^x)$?\", \"To find the arc length\", \"evaluating trig without a calculator\", \"Derivative of a fraction with respect to another\", \"Evaluate $\\\\int_0^\\\\infty e^{-b\\\\left(\\\\frac{r^2}{a^2}+1\\\\right)^\\\\frac{-\\\\gamma}{2}}\\\\left (\\\\frac{r^2}{a^2}+1\\\\right)^\\\\frac{-\\\\gamma}{2} r^2 dr $\", \"A problem of Logarithm\", \"How would you find $\\\\tan(3\\\\cdot\\\\arctan(x))$?\", \"Find the formula\", \"Simple equation, but I don't get it\", \"Trigonometry - Bearings\", \"Solve $\\\\sqrt{3}\\\\cos2\\\\theta+\\\\sin2\\\\theta-1=0$\", \"Olympiad Algebra Problem\", \"Light bulb decimal question\", \"Why do we have a symbol for root of -1, but none for divide by zero?\", \"Rate of flow Question\", \"Velocity word problem\", \"How do you differentiate a function with respect to the negative of its variable?\", \"Solving A Second Order Ordinary Differential Equation\", \"How to calculate extreme values for functions with three variables using derivatives?\", \"Find limit of function as $x$ approaches $ 0$\", \"Show $ a\\u00b7b = |a| \\u00d7 |b| \\\\cos(\\\\theta)$ geometrically and by using no algebraic arguments at all\", \"Salary paid a week early - does that mean I get less of my annual salary?\", \"Series Problems\", \"Is it possible to have a fraction wherein the numerator and denominator are also fractions?\", \"Solving log equation\", \"Determing the order when moving to the other side of the equation.\", \"How do you solve this using only given values, logarithm rules and no calculator?\", \"Absolute value => Directly integrable, separable and/or linear?\", \"Lopsided percentages\", \"An exercise from 'Giaquinta,Modica,Mathematical Analysis,2'\", \"Euler's theorem regarding Homogenous Functions\", \"prove that $\\\\displaystyle\\\\lim_{x\\\\rightarrow 1}\\\\frac{x^{1/m}-1}{x^{1/n}-1}=\\\\frac{n}{m}$\", \"Show that these are equivalent $x-\\\\ln|1+e^x| = -\\\\ln|e^{-x}+1|$\", \"a question on definite integral $\\\\int\\\\limits_0^t e^{\\\\alpha t}\\\\sin(\\\\omega t)\\\\,\\\\mathrm dt$\", \"Example of function that is differentiable at $0$, and has inverse function that is not continuous at $0$?\"], \"type\": \"htmltooltip\", \"id\": \"el959585414734032pts\", \"hoffset\": 10}, {\"type\": \"toptoolbar\"}, {\"voffset\": 10, \"labels\": [\"Solve equations $\\\\sqrt{t +9} - \\\\sqrt{t} = 1$\", \"Formula for perimeter of a figure formed by cutting 4 inscribed congruent figures.\", \"If $y^y=x$, can $y$ be expressed as a function of $x$?\", \"Proof of identity $\\\\sqrt {xy} = \\\\sqrt x \\\\sqrt y$ for $x,y \\\\in \\\\mathbb R^+$\", \"Simplifying the expression\", \"How to justify the rule for the product of square roots of real numbers?\", \"How do I simplify $\\\\frac{\\\\sqrt{1-x} + \\\\frac{1}{\\\\sqrt{1+x}}}{1 + \\\\frac{1}{\\\\sqrt{1-x}}}$?\", \"How are $\\\\pi/4$ and $3\\\\pi/4$ solutions to $\\\\sec^2 \\\\theta -2 = 0$?\", \"How can $\\\\frac12 \\\\log(x) = \\\\log(\\\\sqrt{x})$?\", \"absolute and Cubic System of equations of $3$ variables\", \"Inspecting the function $f(x)=-x\\\\sqrt{1-x^2}$\", \"Derivative of the Square Root of a Logarithm\", \"How to approach, substitution - definite integral\", \"Simplify $\\\\frac{1-\\\\sqrt{x+1}}{1+\\\\sqrt{x+1}}$.\", \"How to simplify $\\\\frac{\\\\sqrt{4+h}-2}{h}$\", \"Prove Minimum values\", \"Limit with square root\", \"$f(x,y) = \\\\sqrt{x^2+(y-1)^2}+\\\\sqrt{(x-3)^2+(y-4)^2}-\\\\sqrt{x^2+y^2}-\\\\sqrt{(x-1)^2+y^2}\\\\;\\\\;,x,y\\\\in \\\\mathbb{R}$.\", \"About the Magnitude of a variable\", \"Write this surd in its simplest form.\", \"Finding the inverse function.\", \"Derivative of $f(x)=\\\\frac{7x^3+3x+30}{\\\\sqrt{x}}$\", \"Help finding trig values with the given information\", \"$\\\\lim\\\\limits_{x\\\\to\\\\infty} \\\\frac{\\\\sqrt{(4x +3) +2\\\\sqrt{1+ x}}}{\\\\sqrt x}$ without L'H\\u00f4pital's rule\", \"$\\\\int_0^{2\\\\pi} \\\\sqrt{1-\\\\cos(x)}\\\\,dx = 4\\\\sqrt{2}$. Why?\", \"Solve $\\\\int{\\\\frac{x-1}{x\\\\sqrt{3x^2-4}}}\\\\;dx$\", \"What is the limit of $\\\\lim_{x\\\\to -\\\\infty}\\\\frac{\\\\sqrt{x^2}}{x}$?\", \"Operations with surds (Pre-calculus)\", \"Simplify this expression with nested radical signs\", \"Square Root in inequalities\", \"Find the value of $\\\\sqrt{i+\\\\sqrt{\\\\frac12i+\\\\sqrt{\\\\frac13i+\\\\dots}}}$\", \"Roots equal constant\", \"Solving a trigonometric function\", \"How to show that alle graphs share a point\", \"How do we solve the equation?\", \"Rationalize Below Equation\", \"Evaluting $\\\\tan15\\u00b0$ using difference formula\", \"How do I solve an equation with three terms, with the unknown inside a square root, inside a third root, in two of them?\", \"Differentiation using first principles with rational powers\", \"Help with logarithmic differentiation problems\", \"Set up an integral for the length of the curve.\", \"How to find an analytic solution to $\\\\lim_{x \\\\to +\\\\infty} \\\\frac{x+\\\\sin(x^2)}{\\\\sqrt{x^2+1}}$\", \"solving $\\\\sqrt{3-\\\\sqrt{3+x}}=x$.\", \"Are my derivatives correct? my answer is different from my books.\", \"How do you Compute a Squareroot limit?\", \"Trigonometric equations with cosec\", \"Solving $\\\\sqrt{x+2}+\\\\sqrt{x-3}=\\\\sqrt{3x+4}$\", \"if $ -3\\\\left(x-\\\\lfloor x \\\\rfloor \\\\right)^2+2(x-\\\\lfloor x \\\\rfloor )+a^2=0$.has no integral solution, then $a$ is\", \"Find the derivative of the function\", \"How is the plus-minus sign used for solving exponential and radical equations?\", \"Solving $\\\\sqrt{(x-2)^2 + (y-1)^2} = \\\\sqrt 2$\", \"Differentiate $5(\\\\sqrt{x})(x^3\\u22125\\\\sqrt{x}+5)$\", \"Closed form solution?\", \"Max value of half circle\", \"Solve: $\\\\int_{2}^{3}\\\\ \\\\left(\\\\sqrt {2x -\\\\sqrt{5\\\\left(4x-5\\\\right)}}+\\\\sqrt {2x +\\\\sqrt{5\\\\left(4x-5\\\\right)}}\\\\right)dx $\", \"Differentiating function with radicals\", \"Solving for a variable with square roots in equation\", \"Finding equation of the tangent line\", \"How do you solve this radical equation $\\\\sqrt{2x+5} + 2\\\\sqrt{x+6} = 5$?\", \"Orthonormal Functions\", \"Adding square roots\", \"Trig substitution; why can we ignore the absolute value?\", \"How does one simplify the expression $\\\\sqrt[3]{2 \\\\sqrt{2}}\\\\left(\\\\sqrt{2-\\\\sqrt{3}}+\\\\sqrt{2+\\\\sqrt{3}}\\\\right)$\", \"What is the farthest distance a vertice of the smaller square could be from a vertice of the big square?\"], \"type\": \"htmltooltip\", \"id\": \"el959585418505360pts\", \"hoffset\": 10}, {\"type\": \"toptoolbar\"}, {\"voffset\": 10, \"labels\": [\"compare slopes of two line\", \"Coordinates of Intersection of two circles\", \"Equation of a tangent line: $f(x)=(x-4)(x^2-5)$, at $(2,2)$\", \"Calc 1: story problems using maximums and minumums\", \"Do these three lines intersect the same point, and if so, where?\", \"How can I calculate the angle of a slice of an ellipse?\", \"finding a tangent vector\", \"How to construct a perfect cube in two point perspective\", \"Find the area of the smallest tangential trapezoid?\", \"Angle between two vectors, where am I wrong?\", \"How to find a center/axis of rotation?\", \"How to find the area of a segment of an ellipse\", \"How to get a parabola from 2 points and a slope\", \"Find an equation of the plane\", \"Integration ( Area of a shaded region )\", \"Find connected components of a a set Y\", \"9th grade trig question\", \"Equation for the family of lines that passes through $3y-5x-10=0$ and $3y-\\\\frac{x}{3}-\\\\frac{5}{3}=0$\", \"How to calculate the total number of possible triangles where the perimeter is given, and all sides are integers?\", \"Prove that these two angles are equal\", \"Simplifying a trigonom. expression\", \"What creates a unique quaternion?\", \"Finding the MidPoint of a Right Angle triangle\", \"Triangles in the Gauss Plane\", \"Algebra - Find the equation of the line perpendicular to 3x+2y-4=0 going through point (2,-3)\", \"Tetrahedron- Inscribed Sphere\", \"Find the equation of a parabola which passes through the points $(5,10),(\\u22125,0),(9,\\u22126)$?\", \"What's the diameter of a circle suppose to be if\", \"Find a the value of a point on the tangent line\", \"Very simple problem for my daughter but we, adults, find 2 different answers\", \"find equation of tangent line to y=1/x^2 at point where x=-1\", \"quasi concave function and convex set => unique maximum\", \"Similar angle problem\", \"Does $f'(0)$ exist?\", \"Finding a point in a parallelogram\", \"If $x=a$ is not an inflection point and $f''(a)=0$, is $f(a)$ a local extremum?\", \"Prove that Honeycomb Structures are the Most Geometrically Efficient Structure\", \"How do I calculate the distance between 2 unmeasured points in a cloud?\", \"What is the relationship between geometric center and geometric mean?\", \"Geometry problem without using trigonometry or similar triangles.\", \"acute triangle and internal point\", \"Trigonometry: Height of a Tree\", \"How do I find $x$ for a parabola such that the arc length is equal to\", \"How to find the distance using dot product from point $A$ to the line through $B$ and $C$?\", \"Board Cuts for Platter\", \"Finding the angle of a sector\", \"Area of a square inscribed in a triangle?\", \"how to apply implicit function in derivatives\", \"Difficult elementary triangle problem\", \"Finding minimum value of a function of two variables\", \"Application of pythagoras theorems (circles on sides of a right triangle)\", \"Find angle inside of isosceles triangle\", \"How to solve when the unknown is given?\", \"Dealing with Coordinates and curves\", \"tangent line parallel to vector\", \"How to apply the law of sines in a non right triangle?\", \"Determine the central angle theta\", \"how many lines can be drawn from a point in space with n degrees of freedom?\", \"Software for solving geometry problems symbolically\", \"How to draw this particular rectangle?\", \"Finding two sides of a triangle\", \"Parallels in the planes: Differences between horizontal and vertical\", \"angle of rotation and axis of rotation of 3x3 matrix\", \"flaw in law of cosines usage\", \"Almost identical map\", \"Incircle in triangle\", \"Predicate for intersection of polygons\", \"Construction of the equation from a given graph\", \"Calculate the height of a distant object using estimated angles from two different points.\", \"How did Archimedes find the surface area of a sphere?\", \"Find the intersection points of the line L with the three coordinate planes Oxy, Oyz, and Ozx\", \"Use Stoke's theorem to calculate the surface integral\", \"How to find the sum of maximum and minimum area of a triangle within a rectangle?\", \"Steepest tangent vector to an explicit surface\", \"condition required for a quadrilateral $ABCD$ such that every point inside $ABCD$ satisfies $PA^2+PC^2 = PB^2+PD^2$\", \"Common Triangle\", \"Can I cut a lamington into 3 congruent pieces having equal icing?\", \"Find the intersection of two parametric equations at one point\", \"Angles of a Triangle\", \"Is the set of lines through the origin equals to $\\\\mathbb{R}^2$?\", \"Implicit Differentiation and Tangent Lines\", \"the intersection of n disks/circles\", \"finding solutions by using the discriminant\", \"Would like some pointers on this geometry problem\", \"Triple Angle Condition\", \"Simplest way to calculate the intersect area of two rectangles\", \"Surface bounded by a cylinder and two planes\", \"Is this property of parabola true?\", \"Finding the angle\", \"How many such squares can be formed?\", \"What is a Solid Angle?\", \"Forming a ring with equilateral triangle of the same size\", \"Intersection between a sphere and a plane\", \"Show that $x$ and $y$ satisfy the equation $y = x^2$ if $(x, y)$ is equidistant from $y = -1/4$ and $(0, 1/4)$\", \"Intersection of a disc with an axis-aligned cube\", \"In a similar triangle, if the property is SAS the the other two property automatically becomes true?\", \"Product and Quotient rules in Calculus\", \"Implicit Differentiation to find equation if the tangent line to a curve\", \"Does the normal line exist at $x=2$ given a parabola $f(x)=x^2-4x+3$?\", \"Maximize and Minimize a 12\\\" piece of wire into a square and circle\", \"Intersection of line with elliptic curve\", \"Rotate a 2D function\", \"How to calculate the angle made by 3 coordinates without using cosine rule\", \"Find the area of the convex quadrilateral\", \"Generalized Mass Points\", \"\\\"The intersection of a plane with a right circular cylinder could be which of the following?\\\"\", \"Why integrate using dy instead of dx using shell method?\", \"Quadrilateral Top Point\", \"Find points on a triangle\", \"How does the graph shows horizontal tangency,but how?\", \"Linear and circular distance to horizon\", \"Finding the 3D coordinates of an unknown point from three known points\", \"Find tangent line to graph by computing a limit\", \"How to prove: $S=\\\\frac{4}{3}\\\\sqrt{ m(m-m_a)(m-m_b)(m-m_c)}$\", \"What is the locus of vertices of isosceles triangles with a given base?\", \"How to find the length of a right triangle?\", \"How to get to linear form?\", \"Geometry Problem on medians\", \"Isn't this definition of an isosceles trapezoid slightly redundant?\", \"solving 3D trigonometry\", \"Maximum area / perimeter ratio\", \"Area of intersection between line and circle?\", \"Find the Angle ( as Measured in Counter Clock Wise Direction) Between Two Edges\", \"Finite points from graph of the following equations?\", \"Condition for a quadrilateral to be tangential\", \"Finding Length Of Segment\", \"Give $3$ coterminal angles\", \"How find the maximum possible length of OC, where ABCD is a square, and AD is the chord of the circle?\", \"Determine a regular hexagon given points\", \"Critical points for undefined fraction on closed interval\", \"A point $(x,y)$ moves so that its distance from the line...\", \"Standard form of the equation of a circle involving two points.\", \"Rotate around a horizontal line\", \"Calculate point on hypotenuse of right-angled triangle\", \"[Geometry]Prove that $AZ = 2ZC$\", \"Check whether a point is within a 3D Triangle\", \"The $y$ coordinate when rotating around the $x$-axis.\", \"Finding Speed at a Single Point\", \"Find equation of the tangent line, given a point at which the function is undefined?\", \"Square-To what should $x$ be equal?\", \"diamond circumscribes a circle\", \"Find the value of $a>1$ such that the curve $y=a^x$ meets the line $y=x$ once and only once.\", \"Stationary points of a function\", \"Generalized Heron's formula for n-dimensional \\\"n-angle\\\" instead of \\\"triangle\\\"\", \"How prove this $|ON|\\\\le \\\\sqrt{a^2+b^2}$\", \"Regular polygon determined by three vertices\", \"Calculus Vector Question\"], \"type\": \"htmltooltip\", \"id\": \"el959585408126160pts\", \"hoffset\": 10}, {\"type\": \"toptoolbar\"}], \"data\": {\"data06\": [[0.031212664277180398, 0.2256571087216249, 0.18085424133811237, 0.1360513739545998, 0.09124850657108728, 0.046445639187574696]], \"data07\": [[0.008213859020310632, 0.016427718040621292], [0.360175384557945, 0.016427718040621292], [0.360175384557945, 0.2502986857825568], [0.008213859020310632, 0.2502986857825568]], \"data04\": [[-0.48810275541968323, -0.10538283752472935], [-0.526705855124262, -0.5431862425707211], [-0.39031054941116244, -0.3322523289957465], [-0.39615151985384556, -0.2774689982630765], [0.37214461933016446, -0.41360178559637845], [-0.38100228620494075, 0.4181428787054151], [-0.33459084830973584, -0.229816615179357], [-0.4571805272699887, -0.05916116028923408], [-0.5167324271692431, -0.48079687920579356], [0.1859619324933247, -0.5612170608081818], [-0.22644263330228764, -0.2063624511095321], [-0.6029502536157973, 0.04844511995861488], [-0.5964485558320608, 0.3069322398635609], [-0.32619721930003637, -0.5384985645481178], [-0.18825696455025787, -0.4242302711878834], [-0.201353709965961, -0.49649646833235306], [0.31327674851022574, -0.5653435105990526], [0.47896214709956475, -0.18121489890455525], [0.6280021342182275, 0.10890729970892551], [-0.5564190298231211, -0.23793937009348434], [0.09694113615113342, -0.4415296424210905], [0.25639894477717856, 0.4031274467120443], [-0.2026056258129301, 0.335144285734071], [-0.09541639370205547, 0.5156652109584676], [-0.12745343650283641, 0.10799151764755084], [-0.2102830544298811, -0.12724722436129732], [-0.48813966434946865, -0.3785850476002692], [0.20461429311006632, 0.12998950667029868], [-0.39201529974337884, -0.24535957657970645], [-0.5173763952646612, 0.258730983713211], [-0.3401309422505665, 0.5770087869745183], [-0.6500794442170676, 0.028161792094328675], [-0.4526347630352065, 0.2682677646774], [-0.37795762965574564, -0.043358136480193626], [0.2642553528274249, 0.30204438201039174], [-0.48317442854371195, -0.17231238264501078], [-0.22196432508812436, -0.24839691260822017], [-0.6695540423174298, -0.0872663105937689], [0.2964667585026629, -0.12984684889592832], [0.3206338625249749, -0.2510932708622615], [-0.6474154246708396, 0.14913146122408918], [-0.28875028318313467, -0.2480797588389106], [-0.334080933028821, -0.5242533481042624], [-0.19211484602999918, 0.5920149152426962], [-0.4405424776788592, -0.41235830884777136], [-0.12316276767876057, 0.08944120522045164], [0.3141249361139134, 0.048851685110648135], [-0.07284661461491432, -0.5756724095255831], [-0.47708916352530734, 0.25439444604742256], [-0.6459860519743083, -0.25850067811191324], [-0.37113669190947135, -0.5246134579116294], [-0.31989788584435896, -0.2033427868336956], [0.25332087087948907, -0.08516166366565464], [0.08489359465628828, -0.5795634398938376], [-0.37696694589098, -0.37915044130029196], [-0.31567678454771064, -0.10932264036846553], [-0.2249219904366887, -0.26022739085169677], [-0.623035631176021, 0.44351690407567507], [0.49940439415044857, 0.06517475551042626], [-0.19492029565413077, 0.09745804402760055], [0.2707714819345035, 0.36319916637572497], [-0.2555242572253583, 0.2719363896014579], [-0.5130648915999173, -0.000656963836787], [-0.7176027804553937, 0.23710611791816313]], \"data05\": [[0.7039114445745522, -0.16974774038470275], [-0.22271980632155147, 0.6457306883129919], [0.6969349141448524, 0.21033158265245586], [-0.4512763109168459, 0.5194699713932495], [-0.3087973612487063, -0.6129131787752137], [0.5767257765381145, 0.49912810673923763], [-0.7203423878745756, -0.19055936202002718], [-0.6325225312507942, -0.38724433889709137], [-0.6801224261811217, 0.3753827398165824], [-0.5892765389529454, 0.44769131863422273], [0.45242173405273184, -0.5728758365383706], [0.7047319986606104, -0.3036212240786214], [-0.1423803556735558, 0.7713959936194986], [0.16632218025647508, -0.6992968049745427], [0.26367513469310666, 0.5221048102762843], [0.4933496621333483, 0.5150089839381732], [0.6223979727829695, -0.3951595793554278], [-0.08937708034123613, -0.7291913570958362], [0.7100409000765433, 0.2810984130705463], [0.39416540283697565, 0.6127734987162325], [0.21652810751669221, 0.6410352338000428], [-0.12944738846880735, -0.7375354119032717], [0.2570828474557739, 0.474144729144197], [-0.748072093808972, 0.1774868708527205], [-0.671599570519992, -0.009195115468745229], [-0.6766396743382236, -0.41515740588017824], [-0.6230182355063301, 0.42788808835256026], [-0.541564151938485, 0.5419435031165732], [0.3180635643676583, -0.5535996597320173], [-0.6566351196369669, 0.25128863648854716], [0.45837854245112797, 0.04954640274236978], [-0.44033989993875966, 0.6405030353693038], [0.6578773003685825, 0.30333781307406493], [-0.3272416839636816, 0.3009589314863178], [0.335003995817591, -0.6985132327713446], [0.34509115722009187, -0.662680946299771], [-0.6883378589156727, 0.26334578366705375], [-0.7279526357007491, 0.08926412606821194], [0.5807315419465867, -0.5465337642216777], [-0.39715194442279717, 0.5399602662938963], [-0.40581791621287716, -0.17188894405675512], [-0.6548549770082819, -0.45267372331918826], [0.29374419780552147, -0.7278688166769316], [0.43263877307844634, 0.5541996284684617], [-0.7965315093687814, 0.10762043248046692], [0.6301837067270523, 0.4259241838671862], [0.4828753836047261, 0.42074684323141776], [0.582362815244249, 0.5194909573190271], [-0.29863965399271564, -0.6616304172526474], [0.6768621220958436, 0.10743794617516145], [-0.7463892819728724, 0.1500206890593889], [0.5190095561780372, 0.5623304939837453], [0.7360281225572688, 0.07658421044716497], [0.5016033141058294, -0.40303455581628245], [0.12254189640939085, -0.6095338417320142], [0.6312576989800694, -0.17865496107624046], [-0.6834577327363249, 0.4070741561686414], [0.4954684083106724, -0.09170028808421142], [0.2662636444254574, 0.6826090054574959], [-0.48377270317371823, -0.6112590234000683], [0.16827724941302777, 0.6641783239746355], [-0.11086139752600806, -0.7859367579751234], [0.3754587391110646, -0.6693770632067843], [-0.29681611938219016, 0.530606493964382], [0.7666060215205056, 0.006378659578447938], [-0.42334839039255434, -0.5737650310195677], [0.44783908946098283, 0.622338180104985], [-0.1905804145779325, 0.4445770232634214], [-0.7181860571176212, 0.043079222215081085], [0.737052250718978, -0.08879023313130183], [-0.33692901350821447, 0.637434350765625], [0.38699591135646244, 0.6359884336890705], [-0.6692258691929774, 0.23432246612274835], [0.569692526517602, 0.2886233996021121], [0.6508975873319304, 0.4001824125223796], [0.6904500580489579, 0.33475423246749314], [0.2365773233217462, 0.7547771890010783], [-0.4076801097315785, -0.6200792851446874], [0.6737230188850444, 0.20409141798965855], [-0.32206312763332645, 0.49405512072677094], [-0.1296690217794527, -0.7270922670304281], [0.2482568985492113, 0.7238423505763135], [0.2857746144871449, 0.7322092523650948], [-0.23449040729021992, 0.4247959189819012], [0.6790389748324202, 0.19637061701146122], [-0.0379689236428659, -0.5922707261345127], [-0.39405150818635315, 0.6640403161843385], [-0.566086483784271, -0.49662515054097395], [-0.6113804898789978, -0.4678723512216308], [-0.5440271251799472, -0.4990377560727023], [-0.37761024264219334, 0.6978003537730015], [0.2188984885550259, 0.654964244052062], [0.5724643503000116, -0.48205862494670776], [0.37817618406987935, 0.5337559111202669], [0.2019420578067334, -0.739252046433586], [0.31024184286954104, -0.6854883004120139], [-0.42773748281146495, 0.5847899015488942], [-0.26675146630940566, -0.562233875463578], [-0.44573365788064806, 0.5446119119697556], [0.4138328008673909, -0.32835522822198654], [0.021724408207053177, 0.7537023444939673], [-0.6137410985297953, -0.4628865621697942], [-0.1543583405564286, 0.3990757101621329], [0.2591535504658894, 0.3746196036185336], [0.5003350417030269, 0.5868413864227021], [-0.38067206784219915, -0.692338373846287], [0.612941791447375, 0.5099946016502898], [0.1372631661427483, 0.2838836521270862], [0.5105678614068621, 0.5199966799483153], [0.6379664117996477, 0.34191510277564413], [-0.5125997439252108, -0.47217749485444266], [-0.7036628816643353, 0.2997620108922344], [-0.31402336651241153, -0.6823596969435176], [-0.3036100650865574, -0.6871953985093392], [0.134462820103091, -0.7707670601060018], [-0.7494197129769028, 0.052417957656549975], [-0.6994717878138097, -0.18756487369916158], [0.11859259231852075, 0.7891022265064502], [-0.3394644133116327, 0.5518165813403968], [0.5033336700181178, -0.6070694256053834], [-0.6783986387991617, -0.0940787412764546], [-0.5489759633390501, 0.4717372158293518], [0.04402656438500719, 0.684322532572785], [0.5936100027537934, 0.3145289445511443], [0.5911226385521559, -0.4698727209140259], [0.19348803909149906, 0.7429134014502378], [-0.64362215651373, 0.4635334731649617], [0.7459135364874464, -0.1463851583980634], [-0.5168468664655069, 0.507266177454313], [0.3159530319529217, -0.4039685903326893], [0.5981265697320796, 0.148017735267258], [-0.47480242631083147, -0.2872808237196497], [0.7755558808449786, 0.07135049500171498], [-0.5193799224941227, -0.5873729216736976], [0.6050070788638248, 0.4529381911694851], [-0.27437814207292643, -0.7096641682339119], [0.5036207235488914, 0.03710869175955399], [-0.6554009817824136, 0.19622005255162386], [0.3560256304072942, 0.49040681778626116], [-0.10526817274296148, -0.5103668587720067], [-0.7686670705934917, 0.016297855844812914], [0.2799595076668361, -0.7355905081344509], [-0.7386013112698339, -0.30816790291791757], [0.5834401717623879, 0.4618512042873319], [-0.5899893004572307, 0.1997828276922248], [-0.20712423314720896, -0.7608454219602293], [-0.5325844643548152, 0.15523570732242514]], \"data02\": [[0.020468288553787135, 0.5622083202138032], [0.15988727650510812, 0.33862356741133803], [0.0919529357060706, 0.6356331766378072], [0.6437171433638196, 0.3805710476184124], [0.13573368963823207, 0.6425321810247524], [-0.03404015857660939, 0.369523271571711], [0.19877446065991838, 0.6053128555525799], [-0.2669389006655125, 0.40152219328213506], [-0.2836620037078639, 0.5478508815640603], [0.05095926364574067, 0.35945233484858874], [0.026955018396896294, 0.3375892171522645], [0.1592191667355046, 0.19316731567250078], [0.14473542164484166, 0.44714165358143365], [-0.39346024780797195, 0.2600513533774746], [-0.09664788300878828, 0.35484586147145664], [-0.37265236896253473, 0.5152400520799078], [-0.12248436358981171, 0.6678161025460776], [-0.09189722738164735, 0.5325997925479506], [-0.4099929923282383, -0.5558811081735031], [-0.03323424961705231, 0.5543181195782138], [0.6333204258971793, -0.058353324929268785], [0.07128394560962022, -0.3813333811573962], [-0.01359837692832617, 0.4836528390301068], [0.06720684408324006, 0.1667617345924264], [0.05158238747231832, 0.739198678075469], [0.4392536898854215, 0.24104615960855277], [0.05369057850930309, 0.6091593304065416], [0.2908915962334544, 0.48996247990512304], [0.3408697040546773, 0.2911769718876204], [0.195301651834214, 0.21444273486495824], [-0.08327803276518936, 0.05540546406185022], [-0.0027899573891217947, 0.3442542566950388], [-0.32268496171580285, 0.17638996621262243], [0.070732887249437, 0.13599562348117253], [0.08700157602061478, 0.4133446990973795], [-0.49829316308777827, -0.587584508602997], [0.2512247579708373, -0.0767570527853406], [-0.2052307776260399, -0.6431024029606472], [-0.19499609110614838, 0.23866940981368717], [0.17519410163587398, 0.5334692079642723], [0.21766792214807917, 0.5478417930404198], [0.07340554979830081, 0.2808951557797489], [-0.036489360812505145, 0.436458397748311], [0.5798377170293669, 0.479924879239835], [0.13198343533740597, 0.46633302870575655], [0.15681206459583863, 0.6156917263258843], [0.036667583149352416, -0.04076313036897119], [0.35644376684454376, 0.40832460298390305], [0.2237904020698019, 0.5761931241425877], [0.35233358001704923, -0.4971818366191561], [-0.06556806257926638, 0.2048859562946959], [0.08330016156491302, 0.23091064096010933], [0.006412753526528463, 0.7583742046670638], [-0.3669771813392636, 0.5751788531912113], [-0.13945885771161382, 0.51657350887906], [0.24151100385956867, 0.7164363620781594], [0.18619874891237775, 0.3167568904924973], [0.015913842071538474, -0.024874536431543224], [0.2521213117333129, 0.5052842477066661], [0.031102101985810152, 0.2530459164011007], [-0.059349276558443916, 0.5635318163289091], [0.07833826534980783, 0.5063021371765889], [-0.15136173368120312, 0.3276734303052683], [-0.12920438409731744, -0.4532114297493992], [0.0646480686488344, 0.4914216783134552], [-0.018631823156454366, 0.3911263512393337], [0.2920258011126088, 0.36130829946309545], [-0.5315746520049733, 0.5389087012594957], [0.2239611182468027, 0.20603235182435847], [0.19020983449717982, 0.5828751316037873], [0.004925296744000381, 0.4444201729646183], [0.0775320601950393, 0.2698923214412838], [0.4093857771036997, 0.3846446601860915], [-0.06000922185021591, 0.19723536974839972], [-0.030071393059119347, 0.5867063751883045], [0.05593448491271499, 0.39865214309569885], [-0.32409974887068965, -0.255882598067168], [-0.04508549458282056, 0.2563001421340435], [0.011821829242307383, 0.3765808623367696], [0.13762792799201878, -0.6912416227436742], [0.42102542878336174, 0.033313773312321805], [0.25994846255882786, 0.6522761859589621], [0.33318708042791123, 0.4275888966569349], [-0.13775308054080324, 0.5142809448816633], [0.05060533429244058, 0.4805513957112766], [0.0716538661754303, 0.5787864659034363], [0.16838718425655497, 0.6877584039581074]], \"data03\": [[0.6713851494478756, 0.20902497808442913], [0.7391662977255314, 0.30974960287910147], [-0.17247714647970894, 0.7594106715896541], [0.19623773668177652, -0.4104193387899268], [0.4751640156024675, 0.02882768641951659], [0.6519816094030572, -0.28398188167644545], [0.34762212944289433, -0.3531677602189578], [0.539614803008408, -0.09073523020985233], [-0.5791021684845807, 0.5523618477148879], [0.7937470641729938, -0.1272491421663961], [-0.6124451970825895, -0.33958538267923105], [0.5770468521474879, 0.5298862058744169], [0.2101602793979981, 0.6795435102093307], [0.3436600817705955, 0.5053469294971138], [-0.7730670098329123, 0.2122318673112158], [0.6238120487662164, 0.40077935598603487], [0.434129583400342, 0.6450387646482684], [0.5606121442734502, -0.39534239855852843], [0.2591886070126128, -0.6941384824945396], [0.2430325910469253, -0.7313214114386812], [0.4017009431081246, 0.28714731081932876], [0.12205007083340584, 0.7157020231902606], [0.7794462712459604, 0.1228682637348973], [0.7017156471275565, -0.35224621257889394], [0.008003849966409887, -0.6110377422419289], [-0.7466709974843955, 0.2649215138404344], [0.6079739740172642, -0.46384299829673203], [-0.5714706200579067, 0.4521600382878802], [0.23810773671279659, -0.6822899417981899], [-0.4729561744559862, 0.6061754403134157], [0.32287203035247686, 0.04200936990216103], [0.4813366096999946, 0.5230476827334168], [0.4309507269289328, -0.12136691071304784], [-0.71991978155633, -0.264172829491858], [-0.22663227288315899, -0.7027675174709419], [-0.7015912766375121, 0.16679392964907372], [0.7888905752002954, -0.06506153641483292], [-0.7624054273273216, 0.13313520858512654], [0.7651193449789505, 0.2283406150041523], [0.6441283980971941, -0.25001482341413794], [0.5968444784002126, 0.4805204137779656], [0.2567712768595407, -0.557023229491996], [-0.7391454728016832, 0.20029617775246275], [-0.36259678325771383, -0.061891757950868424], [0.09358422107456768, -0.7174641399267158], [0.7999868208517548, 0.04902379646281006], [0.7265825856417527, -0.06179377340358543], [-0.606086248030326, 0.15344808909036214], [-0.49099121269902274, -0.6280396417051384], [0.4818159864743182, 0.6158780091332254], [-0.6100340288486046, -0.16254829797924977], [-0.24153707974297622, 0.7350891928174088], [0.05750387342050905, -0.6775949588182871], [-0.7887389571284498, -0.05953473169019101], [0.4371812012493881, 0.05208813925991317], [-0.7490577341087418, 0.07791812081454542], [0.39318712127687094, -0.1100545614638929], [0.479633319770632, -0.3603397132239581], [0.33621030901463866, 0.41619559283486524], [-0.08258364008908031, 0.6768712722892122], [0.542661428492409, -0.42412979107317617], [0.48241661811354475, 0.5909242270089612], [-0.2634852886832553, -0.7003419654273361], [-0.0003402842490284861, -0.41751256890764493], [-0.522409093722036, 0.4957361663560114], [-0.7589711415702171, 0.0943318165248781], [-0.7890224615831468, -0.012342829430812108], [0.21774485814445263, -0.3037962484481777], [-0.5848310516224208, 0.28199780917944467], [-0.48325271869649844, -0.6494925182077356], [-0.6817376381116327, 0.1698800699713999], [-0.7466033719714159, -0.17238993945538986], [0.517546552158156, 0.5703320152369438], [0.5816898078039108, -0.5589290764446189], [0.7498211594040555, 0.1951829563333787], [0.5006685997234277, -0.48799699706547867], [-0.6682034061323453, -0.3715415462070395], [0.4703792823800849, 0.5999220320533885], [0.4172906204337041, -0.39423117676449393], [0.727103259019165, -0.16332767591338737], [-0.47377108877134044, 0.07457507319667836], [0.7115802601429974, -0.10358428176331963], [-0.23208813872033984, -0.7586624136318918], [-0.7844788802252249, 0.06481535527422058], [-0.6028661484590911, 0.3854123455075517], [0.7465580277639705, 0.03690125443402125], [0.40931714990878787, -0.2698950212929168], [-0.3646354873228255, -0.6912962052988293], [0.4862724874014734, 0.44377686884548284], [0.08125117100853844, -0.6804838293826794], [0.5516922203726055, 0.2080565157761077], [0.4556405879500004, 0.13259867504439962], [-0.14997934607336955, 0.6440374686264511], [-0.3561123175831875, -0.7325743163307328], [-0.6915646714609157, -0.24891333533432053], [-0.3052724768833078, 0.6463192302374732], [0.1999056598285711, -0.7341043898424902], [-0.010539571368853458, 0.7095615744678262], [0.5074385116464739, -0.6146911900950035], [-0.6017934615161685, 0.39626871065311586], [-0.248408745355465, 0.7404459988341932], [-0.7329614835056056, 0.19200043708548242], [0.5935562924022147, 0.29832733881719603], [0.18105030267227215, 0.5627394565275087], [-0.6872336543405928, -0.0033819239596554525], [0.6175112695633183, 0.07732592175775434], [0.36256778305238613, 0.5519468526545478], [-0.4194578542055554, -0.11426028493075135], [0.5201239411822187, 0.04070424517737502], [0.5292866891994736, -0.14855972701127293], [0.38219082102834995, 0.6554425731584095], [0.5358042515669095, -0.11507813567334914], [-0.7852733042485511, 0.13437014007250409], [-0.24838028357592795, -0.5115908874999913], [0.6208303750860731, -0.29679212619650086], [-0.44837947451947585, 0.4685185888168546], [-0.2768266494402912, -0.6560106037695767], [0.703464825017899, 0.08163067544080396], [-0.3219265631755231, -0.3970805307089927], [0.3803402345845526, -0.38192399998947457], [0.6483876216668059, -0.3559958730101921], [-0.39416231562423143, 0.22553724725714844], [-0.44212418661878755, 0.2058077617655556], [0.43394659387888324, -0.3039559471592205], [0.8052251477360803, -0.08595796713637932], [0.6380923975274305, -0.41429488009458904], [-0.704509537213847, -0.3488209661090731], [-0.5131474785042297, -0.5798700566923959], [-0.7791389886537102, -0.09221204268771721], [-0.7774524307726243, -0.07556964428939493], [0.7227117068770523, 0.2661340821423493], [-0.1742094489101268, -0.709642646649213], [-0.1602844665738463, 0.37546737296343524], [0.5020257149517577, -0.2971302878653026], [-0.42398359274229946, 0.08918371678393296], [0.42402998197487596, -0.5199015552828252], [-0.6716768159948865, -0.2247867941315407], [0.47333585488247776, 0.5267633523822792], [-0.32203207258900013, -0.7139770394332012], [0.6767099246980316, -0.1285849187495249], [-0.2675935080717334, 0.761421014386186], [-0.6758312505616911, 0.29710877922169476], [0.42780686844345495, 0.49467900154872996], [0.46722982215047415, 0.5728105689414743], [-0.16512066073168008, -0.6875096380443023], [-0.7271208369362087, -0.12363013317972582], [-0.15806535395356527, 0.7001441292528757], [-0.08099891540145622, -0.6748199133623092], [0.7267747699022925, 0.2679035222245462], [0.3407954820212655, -0.6480891519553481], [0.32454463584142657, 0.6528280542107533], [0.41259317697053965, 0.6256279536601824], [-0.7613766719919356, -0.26702663835639917], [0.2736624822684799, -0.7127648973449839], [-0.3999710619757621, -0.6652275929865561], [0.6943694453085484, -0.11359534736130955], [-0.5664813116804507, -0.42244088293244053], [-0.11362408779831529, -0.7110752998317822], [-0.7290634948458423, 0.22319541028894496], [-0.2734615081285359, 0.6244119643197054], [0.6658538684652472, 0.4165881167747335], [-0.10746017118860758, 0.7851968896915671], [-0.7273080871954575, -0.3039454222196751], [-0.7539686529002501, 0.0028307535471533032], [-0.6764633773217696, 0.3386508883100622], [-0.43302196746815236, -0.6285774746499013], [0.7549092352656007, -0.23225142416704767], [0.772889221471662, -0.12752156751280883], [-0.5907656630756324, -0.4330473317010911], [-0.3431376844635737, -0.6155394877535236], [0.5694354397848235, -0.4270950692256181], [0.7612173723593023, -0.12765775326289622], [0.47938806617694085, 0.5836818869349433], [0.5361568042018067, -0.5115748993236126], [-0.737887191085311, -0.2096247371007553], [0.5159480084618308, -0.1431601066456867], [0.019868503748732898, -0.7117401287215055], [0.018791040639349745, 0.7339779155554323], [-0.35544500222878794, 0.6896984974647179], [0.5672288127026123, 0.46793567881194814], [-0.3760688379168063, -0.5047736275885932], [0.7117363153852053, -0.06546940867531217], [-0.3520184505816025, -0.31401774719466025], [0.6516504004426621, -0.45205307099192615], [5.5081193619653584e-06, -0.7363057694106422], [0.5968659274303281, -0.43661765754296816], [-0.7304493283304444, -0.16875386436343848], [-0.51734236065223, 0.569066931990511], [0.5934395523903382, -0.11800466677263635], [0.5597781506640077, 0.49340393825675105], [0.11278979856155612, -0.5984127816465261], [-0.2896703519570632, -0.4897271759314112], [0.767100569180024, 0.2017603628106323], [-0.12474823218841005, -0.522485278181634], [-0.5211338060269234, -0.28570852514248807], [-0.7116355614349299, -0.10911593077765436], [0.14069247770122048, 0.664097929291467], [0.015092565285380917, 0.7629573950798617], [0.11955354697239853, 0.604294651101363], [0.1039253717558811, -0.4593367465377803], [-0.14326053306341208, 0.7504865714151044], [-0.08390019012912008, -0.7574387997455035], [0.046084082365290845, -0.7742999612687164], [-0.06311821141306725, 0.761972065920399], [-0.592440064737878, 0.47120406119936054], [-0.7337207548392011, -0.012893631652356127], [0.18062451399795876, -0.4813990647323638], [0.467375403824353, 0.38530935807408423], [0.48605445014121945, -0.6164773970638222], [-0.2654632547946029, -0.743636784081039], [0.5046716206218971, 0.5497840357708398], [0.1753039046012875, 0.7657035950626574], [-0.7246640450475526, 0.28221285449809713], [0.3194918335667837, 0.73451413515039], [0.5249897117893638, 0.5129214075400814], [-0.33557441199273624, -0.3794926087312527], [-0.19095033004605108, -0.7651371248266596], [-0.20350714876665674, 0.7289260544837395], [-0.2729621733294549, 0.5043889021988045], [-0.4093099447931701, -0.6754846157364851], [-0.46008481217193115, -0.6200187114510866], [-0.746158462668745, -0.2951880630566749], [-0.259772261499331, -0.7130406461907857], [0.009324106115909444, -0.7696679061965007], [-0.7249052694707518, -0.16932982227706952], [-0.008646939137224391, -0.6739989930711778], [-0.5876660716769585, 0.33417980078300535], [-0.1280075644023879, -0.6252552019427704], [0.5447452243478921, -0.3926311633816321], [-0.6049765593519989, -0.007355120422050574], [0.25913157612667176, -0.14383163838330157], [-0.10286022123698513, 0.4543022150771522], [0.47480941861264214, 0.4570535908048598], [-0.5174134311570396, -0.020234001260014647], [-0.7605968360504147, 0.20266761759634355], [-0.21994583524565955, -0.6196090003458324], [-0.5402985823909356, -0.4282771266128361], [0.19282183051314464, -0.769620323441543], [-0.07557766507739316, -0.7956505312207117], [-0.6041028891639845, 0.07849018094742934], [0.6901225825561172, 0.06663227705816539], [-0.7176709021219726, 0.15641735330666945], [0.18070293309551835, 0.7230109386786489], [-0.5713491422037051, 0.3436049310244444], [-0.4175599451318789, 0.45915830537858177], [0.5610328164221419, -0.13463477756075903], [0.6345431417732522, -0.19450186777078393], [-0.6657749648563671, 0.43371332434762666], [-0.6323575697697604, 0.4044297261609439], [0.5279576512120986, -0.09446756569245218], [0.6043678614705144, 0.09089616155223723], [0.5447673803355222, -0.5372466990401842], [0.7377876616468441, 0.29114250515123974], [0.7582950895445132, -0.14400944537091376], [-0.5108888309634867, -0.6228364446669228], [0.7155633215857838, 0.1803102246058847], [-0.1693231654526551, 0.6777726777571365], [0.44978848279803907, 0.4157582426612806], [0.2380023340282166, 0.7009287450954614], [-0.646383425450664, 0.12306065483974554], [-0.5652414263707867, -0.38024070406448096], [-0.13663968104021937, 0.7406083737571383], [-0.031174165786413417, -0.6196025606774791], [0.7635218358535385, 0.17563864188657863], [-0.4172065056169626, -0.6201588797488573], [0.504534307645772, 0.04386937402889942], [0.47902841800163143, -0.5925404584504521], [0.27044652819233145, 0.3337176606789196], [-0.4754911260556663, -0.038637379564264135], [-0.7825021597005013, -0.006262678757703431], [-0.29319574118743985, 0.39083405797165505], [0.6527312723978574, 0.4434465627960222], [-0.2222583592726976, -0.642158645394096], [0.6459555234805235, -0.2648713986643502], [0.5747435766152503, 0.23385031538525006], [0.26403766658157724, -0.38752133455376764], [0.3322525508175532, 0.08588769104270269], [-0.5721095494823624, 0.4283494015036664], [0.5015287210220679, -0.0806587272121097], [0.43557501527454545, 0.47170956748025555], [-0.5734409549001557, 0.4310329704396133], [-0.3150001652832008, 0.32140639549657635], [0.6852955934894928, -0.11097890105901309], [0.510514620245461, 0.12770648594998057], [-0.22109272847474665, -0.7341474442793174], [0.7414487634612281, 0.2120934714379932], [0.6114493914681822, -0.4735610512580632], [0.6148111398247363, 0.5165237513116469], [0.4003978703386005, 0.674768755506313], [0.3404158144321458, -0.346440021387793], [0.2916065753094867, 0.6576032001613396], [-0.3443927926317969, -0.5101332497195187], [-0.6671472308481247, 0.2792011203164294], [0.4103520751861865, 0.6136839080735986], [0.4427931850329728, 0.6424380519713626], [0.17672160792073122, -0.3649939458524753], [-0.2152816012063766, -0.7290720485255817], [0.251056935545088, -0.6801279020742205], [0.2825174363381217, -0.71347442939823], [-0.5742741726434737, -0.4243658937311661], [-0.15194134382074134, 0.7429763561878485], [-0.3351688612140836, 0.3231524064005916], [-0.05033544783663897, -0.7035565801614128], [-0.6382205708185973, -0.018324369239900155], [-0.4103069883040558, -0.6385233839796017], [0.7063018773906127, -0.30781672912932656], [-0.3966213464135375, 0.38471626461325975], [0.5130480067266453, -0.27975295024258556], [0.5056697783680107, 0.3414145659126816], [-0.2622223017080526, -0.7156142048918244], [0.3969651559090499, 0.508470369351966], [0.7240106392135386, -0.3046658854239654], [-0.6409631449008032, -0.4661590862411119], [0.3013084668983007, -0.732137036585272], [0.4069418053191511, -0.6775641881479574], [-0.6377555363204364, -0.24777696676078273], [0.3869273180580821, 0.5586874358472278], [0.3499917248800046, -0.2231911688563796], [0.4241824372757261, 0.00975672550220194], [0.2870186631973624, -0.5091552594183688], [-0.3091560723094655, 0.6765171281757351], [-0.38391900859973727, 0.6361688428541695], [0.5183547117708518, -0.4060081801186043], [-0.04279585490781689, -0.7725344509888991], [-0.5278085262984408, -0.4262179014229749], [0.6413573367847624, 0.04958928248627094], [0.610052508660911, 0.42224598308876365], [0.7173418944033562, 0.21746365930030426], [0.529473667842075, -0.3907244452739913], [0.6713022985457267, -0.18769853760480065], [-0.7286219187941205, -0.06002857644242719], [-0.6539639483524244, 0.2034762792328099], [0.1875327975074115, 0.7421786014625174], [0.08730198970400822, 0.7922338620322122], [0.0585932649332226, 0.7405278889426856], [0.2518387724378744, 0.6468868408146917], [0.7207071434744218, -0.31462409653816614], [0.4753312552475074, -0.5173142387674081], [0.5615428811683683, 0.18715310508065142], [0.16472644092039335, 0.7559746342671521], [0.5014916590521653, 0.5231840994451561], [0.3552915128275882, 0.6711372835540909], [-0.7494963669970461, 0.08406351737764081], [0.07813873657955064, 0.7152915108245766], [-0.6895731776286789, -0.3028678787784262], [-0.3611778135028707, 0.6174879820099528], [0.6742497195431211, -0.4025630523527797], [0.2633771284266894, -0.5893296287290605], [0.025260098478837527, -0.7395987839704524], [0.3006036767688109, 0.7320714435462582], [-0.5151997427007686, -0.20079062971820236], [0.2904512400594709, 0.6446592914613142], [0.39847197038801846, 0.1509459422675576], [-0.5606504369386623, -0.457864352695545], [0.15739339205706168, 0.6492562249225952], [0.09203053958325576, -0.7786647596105591], [0.35930432806874024, 0.01649707234318113], [-0.7268269654552268, 0.025708605419945053], [-0.39077883406662756, -0.499447279880242], [0.3063485414393771, -0.47093992558844666], [0.573959080503749, -0.5521758816164777], [0.20202627344993532, -0.5719427628179306], [0.7353140345738786, 0.17316333995657865], [-0.45272759311780275, -0.6207769448506277], [-0.5907545679582787, -0.3196893823790051], [0.7356716239616308, 0.058497908331956006], [-0.3645302688589025, 0.70002322207592], [0.355407975323609, -0.7185504358850401], [0.0712463582738092, -0.637398632727492], [-0.4877844716043279, 0.024587839538786627], [-0.1335408974682981, 0.7450493846345282], [-0.3914239742843743, -0.4770805664763549], [-0.13558995882247568, 0.7471028909744554], [0.10307518889305935, -0.72835466465701], [0.3747790213270081, 0.28901758467986083], [0.38014856854429474, -0.4952112817278196], [-0.6129727400472326, 0.3940941442374044], [0.6990713969876424, -0.3958220302670295], [0.2545446079809538, 0.6217093151031893], [0.34369557089783, -0.5996825330703887], [0.36201898895607004, -0.06929596702393417], [-0.3788524591751832, 0.5959536470759512], [-0.5127446773800244, -0.6063429461500036], [0.7374007676336073, 0.13189962732185542], [0.5985540296876406, 0.3449645268797079], [0.3394178763095043, 0.532739614593951], [0.4508624717446507, 0.4417339635018757], [-0.2454895715375006, 0.5823298272568386], [0.3725557195221251, 0.3211701048839651], [0.7683102741690139, -0.057635098980709384], [-0.32863121401808937, 0.7207617654839572], [0.41747693356896737, 0.3244415721019887], [-0.7289136490747529, 0.3075063443692448], [-0.41615546045623836, -0.4888699524946135], [-0.2589707659841494, 0.2555819356152577], [0.3085657526765551, -0.22938598034534377], [0.14724169889520622, -0.7259831422701085], [-0.024722212819152222, -0.6897902441039213], [0.3212006629763009, -0.6820434837148163], [0.6123198581145476, 0.37941461888795597], [-0.1705141610307684, 0.5751149480486399], [-0.5920295594261471, -0.04603786545173305], [0.4878849951931214, 0.2391620413166696], [0.5535696535558609, 0.12948681306138274], [0.7475321003985572, -0.25468271140905935], [0.4681533815406383, -0.6133571908604986], [-0.5269326073847018, 0.5165233897349129], [0.0819469660435938, -0.7270807637132933], [-0.6657694619733613, 0.12430356443596306], [-0.7745895356555306, 0.14857633637629533], [0.4181078113598563, 0.6139853411436434], [0.23653355020653963, 0.08621293979241738], [-0.674227658462448, -0.17584111123287247], [-0.709209720311919, 0.07090937941060091], [-0.7559640491730266, -0.19191618550716744], [-0.6444098547646477, -0.29200445772120526], [0.6023333685664262, -0.036421880765243025], [0.07654355906339302, -0.7743492792854042], [0.025193864134049084, -0.6095951140029212], [0.21342890369557568, -0.7527223769785322], [-0.7298207504358483, -0.10175226812581631], [0.46622711531557465, 0.19691269935024616], [-0.7254756150152933, -0.2692829706903337], [-0.10649889144889456, -0.5726281379583833], [-0.6853635020714121, 0.42644827634843163], [0.7447065040198685, 0.2618514781424522], [0.5822770277977763, 0.167845351458971], [-0.562432011250579, -0.4050784115218784], [-0.1068690064462279, -0.6758026910569959], [0.7402264855358777, -0.03518906038052775], [-0.0020479070313508185, -0.6899343379942555], [-0.4939087716744539, 0.38779311331325533], [-0.712900537261328, -0.15929926527567848], [0.4369093177334197, -0.6017123109067756], [0.34128066559874687, 0.6187397725729795], [-0.21284585321141236, 0.7431913195082953], [0.056200440999200185, 0.7730879144770936], [0.6325306300182261, -0.409481469245847], [-0.3736325587208313, 0.5387625518756706], [0.569493509338785, -0.5201196378577468], [-0.004256769229783439, -0.5169898548573633], [-0.7550601373460244, 0.2803854567979095], [-0.26720890559194843, 0.7236222832075266], [0.6508168448042292, -0.09400213871871156], [0.7734578994704054, -0.03991983699075037], [-0.3754732799725763, -0.49460541956938153], [0.6273004354373362, -0.28825331785600705], [-0.6937219230746224, -0.3901354449598456], [-0.5203911480581532, 0.38577014625771183], [-0.3446790371698603, -0.5891862938999354], [0.4711993883694581, -0.46972723331780847], [0.2890621368875082, -0.6630839405669333], [0.6832022805127238, 0.397653876418984], [-0.01975342094152725, 0.6883424512135965], [-0.3385183443802223, -0.6210393277831853], [0.33161060032707296, -0.5013726776622075], [-0.6217405069234476, 0.30657359607122575], [0.6446377355696497, -0.2997578874126359], [-0.39199177902350557, 0.6192479977644595], [0.7268733856420756, 0.24011904385751984], [-0.7270699989453551, 0.13994790314376845], [-0.48353223837898135, -0.5509046056215732], [-0.5829464677864096, 0.16713299967746642], [-0.43947944114415544, 0.3897180055828785], [-0.11563744701787068, 0.7752500387262519], [0.29004556249544927, -0.6305905030999865], [0.42811489100436156, -0.18135745815067697], [0.5560418302572766, -0.44167445564703006], [0.38090141489582335, 0.49635194945218286], [-0.23123599564007954, 0.7375016469840484], [0.5857719105615817, 0.30001318608167227], [-0.37315224193859353, -0.7090764858642601], [-0.5152046375029377, 0.2888887096058468], [0.7902462827457597, 0.002216917965256967], [-0.5512382728446188, 0.49839905866354184], [0.44523807345009303, 0.5278275147268852], [0.4004787465896647, -0.5048953030990694], [0.512576975634758, -0.057367273067185615], [-0.6503633376612104, 0.39246613937967073], [0.7641907517813963, 0.1964931915320999], [0.10409446119454799, -0.7044741930584998], [0.4720931345915605, -0.2162777558376902], [0.5169769807432629, -0.4352083106297074], [0.04447966765516875, -0.7223748313558237], [-0.7123923199306741, -0.13104843972176639], [-0.06952497098465237, 0.70315886324585], [0.4385720316742489, -0.578328422889539], [0.34418616822572845, -0.07513801527331536], [0.2459035161460403, -0.7630687080374131], [-0.6527401774249051, -0.41052892315693473], [0.38967977488645317, 0.36007843134760187], [0.17004908937575197, -0.7713478939272297], [-0.5987988596434298, -0.46053344353011966], [-0.548912005237949, 0.07801290653660149], [-0.7284449463533844, 0.053528924156936296], [-0.3537221363540081, -0.41820354524079395], [-0.6417987419793246, 0.43999780928117926], [0.6172562772334843, -0.32517327213860475], [-0.475673117477625, 0.19184650979966694], [0.2562709557424838, -0.21961486877870898], [-0.6835841858375807, -0.2662197743408432], [0.24928801914357016, -0.6652330117358743], [-0.30020508993346656, -0.7449124421898721], [0.20964182145427568, 0.17354922396277245], [0.7470662680591365, -0.1816516259934284], [-0.7374523261141822, 0.11126688232567263], [0.7109530233247396, 0.12090760415551688], [0.5917850169648631, -0.14659526677934698], [0.22907055770954313, 0.7547290425355813], [-0.3789013406251549, 0.10600567308646885], [-0.27938819160812556, -0.4923319071156022], [-0.23647423308165086, 0.6756624827592297], [-0.5600333521649038, 0.5670856785749833], [-0.07754393798577225, 0.6072913967944453], [-0.5570774918381094, -0.3463156567954712], [0.3915256082738484, 0.41564819382773976], [0.31190565993446956, 0.6995300428903632], [-0.7035093428421049, -0.37878670681095145], [-0.7885189697286528, -0.09782641581455437], [-0.19037726776141878, -0.5275100543868257], [0.5444962826122577, 0.3044939769746555], [-0.3186131683106572, 0.6960622830784226], [0.5369752010038142, -0.0395845397048477], [0.6635388350473569, -0.024760130849550876], [0.30426406877403833, -0.7184095868864513], [-0.23066422126754385, 0.6561129964129444], [0.6744153289683966, 0.3017753167037166], [-0.3725388137245114, 0.6811557000223593], [-0.38928959171357086, 0.6290372437285804], [-0.2166235307306562, -0.47386021884705254], [-0.6593390642873614, -0.3040207862232152], [0.054899976360019496, -0.6873246671873623], [-0.41383890790018163, 0.13189664001573073], [0.5649329685467249, 0.5308949006013448], [0.7346883067702834, -0.16495771497922035], [0.6958183188645733, -0.008607391417650215], [-0.19632143224368762, -0.565262585366949], [0.4371654950644252, 0.1602632283274614], [0.5209309223546651, 0.3264047007093118], [0.7176403495606056, -0.11445153715881808]], \"data01\": [[0.07962863414778083, -0.042154420092388185], [-0.13150752522916873, 0.6290390188798965], [-0.015082879399628284, -0.39798452837524273], [-0.4074240508665376, 0.04636413698005844], [0.1691532018806749, -0.21711130986762092], [0.155742387881699, -0.46097397114796596], [-0.25289506470050693, 0.015349772323687018], [-0.15463486035612295, 0.11632619937640808], [0.32980191972436307, 0.2315549442107672], [-0.30328863708358517, 0.07703061900020562], [-0.2841806795877949, 0.009130061452524551], [0.6463409848601542, -0.37603770744316245], [-0.5894058320670511, 0.0503449999428328], [0.0010576058178176874, 0.34027090214588196], [-0.0003776674686432991, -0.22655469273251835], [0.20514229903920497, -0.31904359639978597], [-0.06752563820167097, 0.5950133616250877], [0.01971390100730157, -0.038037602089121596], [-0.03179666627670831, -0.0673975012084281], [-0.1808662770659755, 0.39898205942452314], [0.30848353440270326, -0.0879020371352589], [0.15503080834697336, 0.48304829491765217], [-0.5389674724662139, 0.2887372764965489], [0.04833619347419827, 0.1468381680856259], [0.04524602622227379, -0.1285139471811457], [0.23935370327024744, -0.3028727336743308], [0.01894699042595326, -0.4406084349357061], [-0.6047018982257755, -0.27187558898763187], [-0.032954615562081284, -0.14050771700848977], [-0.06006215559786057, -0.19232329886943944], [0.09521336623272787, 0.1832372199323275], [-0.14218229379781205, -0.04250781299485284], [0.13372809060887753, 0.3812152484643267], [-0.49409864240783474, 0.1593493879590638], [0.38372862878131275, -0.2713965028457916], [-0.3057542156900223, -0.08165587979926912], [0.11008220076061133, -0.3030616487802066], [-0.41930688521474213, 0.13716389495169362], [-0.087858755735054, -0.18253778889054556], [-0.2155306903380099, -0.16296418875816693], [0.38231870674748847, -0.548105310478035], [-0.1498574300093231, -0.4008388566196244], [-0.1524492191295616, 0.04042033807361081], [-0.21973211299670545, 0.12660912361398963], [-0.1354907607679833, -0.5034043207293621], [-0.15117212268709132, -0.16230132981974504], [0.25304666140325816, 0.2296252970597289], [0.2912390465250367, -0.33839925764240314], [-0.29058677098049784, 0.06663029775951605], [-0.07979210407526352, -0.17504164550439577], [0.5522252717036927, 0.05110866006326578], [-0.131899680089763, 0.10554296064971003], [-0.17130665007921483, -0.6397286881991614], [-0.09969283564168671, 0.06809189426463648], [-0.3592431473041488, -0.22185937452884125], [-0.05639226270329298, -0.03942704509334614], [0.528000854002542, -0.062303214663159134], [-0.37294232714118397, -0.0750528257103519], [-0.7012179063207766, -0.10526828786505976], [0.07496748714793416, 0.11085970585254645], [-0.35092941017277407, -0.3299595854640707], [-0.12096511555357209, -0.5889006832272182], [-0.13563130573663418, -0.43343841420568846], [-0.25338984329424524, 0.3464046304290582], [0.08692777388543849, 0.42234061225437847], [0.06411427200769435, -0.41359737346310843], [0.2171877269278248, 0.25007151712556097], [-0.124463277149656, -0.5068749797477455], [-0.49001195520577834, 0.11205113777350938], [0.015252956379471437, 0.013826623443083271], [0.2653274998059575, -0.282241671791498], [0.002951383470698694, -0.7274838902129105], [-0.04378043474768361, -0.14659844618332102], [-0.23620530933296652, -0.19556208196684916], [-0.34842208573499966, 0.07201281753514847], [0.18172370701206828, -0.10609703998741062], [-0.19321703451299949, -0.4464283413570244], [0.17554192578815292, 0.39825614758141564], [0.28314763118808783, -0.07826400962161546], [0.587777763355285, -0.12277947861307878], [-0.25467077984389697, -0.4043766114559389], [-0.4643105064587206, -0.0501757818720399], [-0.4516892957208022, 0.09130741759185577], [-0.2815858280087, 0.06209712031693372], [0.4457288618706585, 0.13536020582467037], [-0.06100402234984929, 0.21667464288016042], [-0.4722874478321494, -0.24880920751334476], [-0.16849796654789348, 0.05751352981994495], [0.23614884620370732, -0.31747816056177486], [-0.03626590814261906, 0.013874188321496317], [-0.5257005185744859, -0.003497473517555729], [-0.060357815458711425, 0.06746744073563757], [-0.2542141908737153, 0.16889980278312994], [-0.27549081859363966, -0.34207192739922926], [-0.27100737685429377, 0.4456338979192383], [0.18330264778861508, 0.35970238709817115], [-0.10788147499523972, 0.04612308808393821], [0.28578555315542575, 0.12648119208454012], [0.742897189344218, 0.04395535002978857], [-0.41534527087590617, 0.14830258514664327], [0.1471060763769428, -0.3606715117435268], [-0.06196987143236579, -0.38341301600715405], [-0.3799286724164824, 0.06516027527708237], [-0.43258022352039865, 0.14702093642489222], [0.5306779886561165, 0.39891747169425984], [-0.2026496784067507, -0.32486431865457105], [0.447754780392178, -0.08472705220679017], [0.41404521976836395, -0.6061388590711287], [0.03660474461478901, -0.37334419542055797], [-0.09972447412802087, 0.09827731556843387], [-0.10367639009314356, -0.01943732620496514], [-0.1305673443029279, -0.20394729085316468], [-0.1077390743148148, -0.4399947088848374], [-0.062053486129603735, -0.2622726020198184], [-0.38219324855047687, 0.27158040512342535], [0.22543326301815042, -0.187254413535951], [-0.2433574781429616, 0.1352785504551903], [-0.42421818998363325, 0.006166511971052838], [-0.30762525319117034, -0.020510660327534975], [0.35166917329800684, -0.018970253422998205], [0.3801937134934446, -0.31590194220826223], [-0.17861556380895763, 0.15596533132835796], [0.1818422669577901, -0.25649332270062203], [-0.014969708614956142, 0.007032135580028056], [0.21073833325818597, -0.45111182540682543], [0.02933864152342427, -0.23903971407260965], [0.1557656748732507, -0.0908545772698627], [0.15292510433539194, 0.4998676888595269], [-0.28400164939795547, -0.4124879660047289], [0.3894555898447487, -0.06665607526166974], [-0.39163088267652535, 0.11557866508603698], [-0.3414640044250605, -0.3137133968300924], [-0.31422375102813394, 0.4118947434337187], [0.09498133128221245, -0.09670015478954747], [0.14961153104964148, -0.08371414041411261], [-0.45113190141431314, -0.1645046672582977], [0.3833789732348598, -0.2935121961379051], [-0.5425972033421539, -0.2812355452763881], [-0.31061637815422377, 0.2701861302570477], [-0.2801342523814973, -0.056220985540262225], [-0.1414681531874929, -0.0911097719353495], [0.5313600012765068, 0.4840401817712571], [0.1912450904528835, -0.4651029939560354], [0.2827751368116269, 0.06277790022237886], [0.251182962459145, 0.21642190439346215], [-0.7094204175524559, 0.20678277040843418], [-0.17434503301399779, -0.4026876521983756], [-0.24726877580883616, 0.22977410325564038], [-0.16173592696718928, -0.3406604854329406], [0.048225563371603136, -0.2727543315838017], [0.607830136116495, -0.3124129909029272], [-0.27040150668064555, 0.6245208961894061], [-0.033080476315658726, -0.4005139794120688], [0.6286848459844527, -0.1135233945397764], [-0.23583839076063984, -0.06734806189244931], [-0.27485300420732417, -0.42813451087868937], [-0.6020145012208536, 0.09774238403484349], [0.18936383110695837, -0.20090393365984238], [0.24260536726420903, 0.3442011648235405], [-0.4256914294036336, -0.07549420946315605], [-0.4668961552799955, -0.3454755187099525], [-0.6473162814675759, -0.34457542916648887]]}, \"id\": \"el959585375094544\"});\n",
       "      });\n",
       "    });\n",
       "}else{\n",
       "    // require.js not available: dynamically load d3 & mpld3\n",
       "    mpld3_load_lib(\"https://mpld3.github.io/js/d3.v3.min.js\", function(){\n",
       "         mpld3_load_lib(\"https://mpld3.github.io/js/mpld3.v0.2.js\", function(){\n",
       "                 \n",
       "    mpld3.register_plugin(\"htmltooltip\", HtmlTooltipPlugin);\n",
       "    HtmlTooltipPlugin.prototype = Object.create(mpld3.Plugin.prototype);\n",
       "    HtmlTooltipPlugin.prototype.constructor = HtmlTooltipPlugin;\n",
       "    HtmlTooltipPlugin.prototype.requiredProps = [\"id\"];\n",
       "    HtmlTooltipPlugin.prototype.defaultProps = {labels:null, hoffset:0, voffset:10};\n",
       "    function HtmlTooltipPlugin(fig, props){\n",
       "        mpld3.Plugin.call(this, fig, props);\n",
       "    };\n",
       "\n",
       "    HtmlTooltipPlugin.prototype.draw = function(){\n",
       "       var obj = mpld3.get_element(this.props.id);\n",
       "       var labels = this.props.labels;\n",
       "       var tooltip = d3.select(\"body\").append(\"div\")\n",
       "                    .attr(\"class\", \"mpld3-tooltip\")\n",
       "                    .style(\"position\", \"absolute\")\n",
       "                    .style(\"z-index\", \"10\")\n",
       "                    .style(\"visibility\", \"hidden\");\n",
       "\n",
       "       obj.elements()\n",
       "           .on(\"mouseover\", function(d, i){\n",
       "                              tooltip.html(labels[i])\n",
       "                                     .style(\"visibility\", \"visible\");})\n",
       "           .on(\"mousemove\", function(d, i){\n",
       "                    tooltip\n",
       "                      .style(\"top\", d3.event.pageY + this.props.voffset + \"px\")\n",
       "                      .style(\"left\",d3.event.pageX + this.props.hoffset + \"px\");\n",
       "                 }.bind(this))\n",
       "           .on(\"mouseout\",  function(d, i){\n",
       "                           tooltip.style(\"visibility\", \"hidden\");});\n",
       "    };\n",
       "    \n",
       "    mpld3.register_plugin(\"toptoolbar\", TopToolbar);\n",
       "    TopToolbar.prototype = Object.create(mpld3.Plugin.prototype);\n",
       "    TopToolbar.prototype.constructor = TopToolbar;\n",
       "    function TopToolbar(fig, props){\n",
       "        mpld3.Plugin.call(this, fig, props);\n",
       "    };\n",
       "\n",
       "    TopToolbar.prototype.draw = function(){\n",
       "      // the toolbar svg doesn't exist\n",
       "      // yet, so first draw it\n",
       "      this.fig.toolbar.draw();\n",
       "\n",
       "      // then change the y position to be\n",
       "      // at the top of the figure\n",
       "      this.fig.toolbar.toolbar.attr(\"x\", 150);\n",
       "      this.fig.toolbar.toolbar.attr(\"y\", 400);\n",
       "\n",
       "      // then remove the draw function,\n",
       "      // so that it is not called again\n",
       "      this.fig.toolbar.draw = function() {}\n",
       "    }\n",
       "    \n",
       "    mpld3.register_plugin(\"htmltooltip\", HtmlTooltipPlugin);\n",
       "    HtmlTooltipPlugin.prototype = Object.create(mpld3.Plugin.prototype);\n",
       "    HtmlTooltipPlugin.prototype.constructor = HtmlTooltipPlugin;\n",
       "    HtmlTooltipPlugin.prototype.requiredProps = [\"id\"];\n",
       "    HtmlTooltipPlugin.prototype.defaultProps = {labels:null, hoffset:0, voffset:10};\n",
       "    function HtmlTooltipPlugin(fig, props){\n",
       "        mpld3.Plugin.call(this, fig, props);\n",
       "    };\n",
       "\n",
       "    HtmlTooltipPlugin.prototype.draw = function(){\n",
       "       var obj = mpld3.get_element(this.props.id);\n",
       "       var labels = this.props.labels;\n",
       "       var tooltip = d3.select(\"body\").append(\"div\")\n",
       "                    .attr(\"class\", \"mpld3-tooltip\")\n",
       "                    .style(\"position\", \"absolute\")\n",
       "                    .style(\"z-index\", \"10\")\n",
       "                    .style(\"visibility\", \"hidden\");\n",
       "\n",
       "       obj.elements()\n",
       "           .on(\"mouseover\", function(d, i){\n",
       "                              tooltip.html(labels[i])\n",
       "                                     .style(\"visibility\", \"visible\");})\n",
       "           .on(\"mousemove\", function(d, i){\n",
       "                    tooltip\n",
       "                      .style(\"top\", d3.event.pageY + this.props.voffset + \"px\")\n",
       "                      .style(\"left\",d3.event.pageX + this.props.hoffset + \"px\");\n",
       "                 }.bind(this))\n",
       "           .on(\"mouseout\",  function(d, i){\n",
       "                           tooltip.style(\"visibility\", \"hidden\");});\n",
       "    };\n",
       "    \n",
       "    mpld3.register_plugin(\"toptoolbar\", TopToolbar);\n",
       "    TopToolbar.prototype = Object.create(mpld3.Plugin.prototype);\n",
       "    TopToolbar.prototype.constructor = TopToolbar;\n",
       "    function TopToolbar(fig, props){\n",
       "        mpld3.Plugin.call(this, fig, props);\n",
       "    };\n",
       "\n",
       "    TopToolbar.prototype.draw = function(){\n",
       "      // the toolbar svg doesn't exist\n",
       "      // yet, so first draw it\n",
       "      this.fig.toolbar.draw();\n",
       "\n",
       "      // then change the y position to be\n",
       "      // at the top of the figure\n",
       "      this.fig.toolbar.toolbar.attr(\"x\", 150);\n",
       "      this.fig.toolbar.toolbar.attr(\"y\", 400);\n",
       "\n",
       "      // then remove the draw function,\n",
       "      // so that it is not called again\n",
       "      this.fig.toolbar.draw = function() {}\n",
       "    }\n",
       "    \n",
       "    mpld3.register_plugin(\"htmltooltip\", HtmlTooltipPlugin);\n",
       "    HtmlTooltipPlugin.prototype = Object.create(mpld3.Plugin.prototype);\n",
       "    HtmlTooltipPlugin.prototype.constructor = HtmlTooltipPlugin;\n",
       "    HtmlTooltipPlugin.prototype.requiredProps = [\"id\"];\n",
       "    HtmlTooltipPlugin.prototype.defaultProps = {labels:null, hoffset:0, voffset:10};\n",
       "    function HtmlTooltipPlugin(fig, props){\n",
       "        mpld3.Plugin.call(this, fig, props);\n",
       "    };\n",
       "\n",
       "    HtmlTooltipPlugin.prototype.draw = function(){\n",
       "       var obj = mpld3.get_element(this.props.id);\n",
       "       var labels = this.props.labels;\n",
       "       var tooltip = d3.select(\"body\").append(\"div\")\n",
       "                    .attr(\"class\", \"mpld3-tooltip\")\n",
       "                    .style(\"position\", \"absolute\")\n",
       "                    .style(\"z-index\", \"10\")\n",
       "                    .style(\"visibility\", \"hidden\");\n",
       "\n",
       "       obj.elements()\n",
       "           .on(\"mouseover\", function(d, i){\n",
       "                              tooltip.html(labels[i])\n",
       "                                     .style(\"visibility\", \"visible\");})\n",
       "           .on(\"mousemove\", function(d, i){\n",
       "                    tooltip\n",
       "                      .style(\"top\", d3.event.pageY + this.props.voffset + \"px\")\n",
       "                      .style(\"left\",d3.event.pageX + this.props.hoffset + \"px\");\n",
       "                 }.bind(this))\n",
       "           .on(\"mouseout\",  function(d, i){\n",
       "                           tooltip.style(\"visibility\", \"hidden\");});\n",
       "    };\n",
       "    \n",
       "    mpld3.register_plugin(\"toptoolbar\", TopToolbar);\n",
       "    TopToolbar.prototype = Object.create(mpld3.Plugin.prototype);\n",
       "    TopToolbar.prototype.constructor = TopToolbar;\n",
       "    function TopToolbar(fig, props){\n",
       "        mpld3.Plugin.call(this, fig, props);\n",
       "    };\n",
       "\n",
       "    TopToolbar.prototype.draw = function(){\n",
       "      // the toolbar svg doesn't exist\n",
       "      // yet, so first draw it\n",
       "      this.fig.toolbar.draw();\n",
       "\n",
       "      // then change the y position to be\n",
       "      // at the top of the figure\n",
       "      this.fig.toolbar.toolbar.attr(\"x\", 150);\n",
       "      this.fig.toolbar.toolbar.attr(\"y\", 400);\n",
       "\n",
       "      // then remove the draw function,\n",
       "      // so that it is not called again\n",
       "      this.fig.toolbar.draw = function() {}\n",
       "    }\n",
       "    \n",
       "    mpld3.register_plugin(\"htmltooltip\", HtmlTooltipPlugin);\n",
       "    HtmlTooltipPlugin.prototype = Object.create(mpld3.Plugin.prototype);\n",
       "    HtmlTooltipPlugin.prototype.constructor = HtmlTooltipPlugin;\n",
       "    HtmlTooltipPlugin.prototype.requiredProps = [\"id\"];\n",
       "    HtmlTooltipPlugin.prototype.defaultProps = {labels:null, hoffset:0, voffset:10};\n",
       "    function HtmlTooltipPlugin(fig, props){\n",
       "        mpld3.Plugin.call(this, fig, props);\n",
       "    };\n",
       "\n",
       "    HtmlTooltipPlugin.prototype.draw = function(){\n",
       "       var obj = mpld3.get_element(this.props.id);\n",
       "       var labels = this.props.labels;\n",
       "       var tooltip = d3.select(\"body\").append(\"div\")\n",
       "                    .attr(\"class\", \"mpld3-tooltip\")\n",
       "                    .style(\"position\", \"absolute\")\n",
       "                    .style(\"z-index\", \"10\")\n",
       "                    .style(\"visibility\", \"hidden\");\n",
       "\n",
       "       obj.elements()\n",
       "           .on(\"mouseover\", function(d, i){\n",
       "                              tooltip.html(labels[i])\n",
       "                                     .style(\"visibility\", \"visible\");})\n",
       "           .on(\"mousemove\", function(d, i){\n",
       "                    tooltip\n",
       "                      .style(\"top\", d3.event.pageY + this.props.voffset + \"px\")\n",
       "                      .style(\"left\",d3.event.pageX + this.props.hoffset + \"px\");\n",
       "                 }.bind(this))\n",
       "           .on(\"mouseout\",  function(d, i){\n",
       "                           tooltip.style(\"visibility\", \"hidden\");});\n",
       "    };\n",
       "    \n",
       "    mpld3.register_plugin(\"toptoolbar\", TopToolbar);\n",
       "    TopToolbar.prototype = Object.create(mpld3.Plugin.prototype);\n",
       "    TopToolbar.prototype.constructor = TopToolbar;\n",
       "    function TopToolbar(fig, props){\n",
       "        mpld3.Plugin.call(this, fig, props);\n",
       "    };\n",
       "\n",
       "    TopToolbar.prototype.draw = function(){\n",
       "      // the toolbar svg doesn't exist\n",
       "      // yet, so first draw it\n",
       "      this.fig.toolbar.draw();\n",
       "\n",
       "      // then change the y position to be\n",
       "      // at the top of the figure\n",
       "      this.fig.toolbar.toolbar.attr(\"x\", 150);\n",
       "      this.fig.toolbar.toolbar.attr(\"y\", 400);\n",
       "\n",
       "      // then remove the draw function,\n",
       "      // so that it is not called again\n",
       "      this.fig.toolbar.draw = function() {}\n",
       "    }\n",
       "    \n",
       "    mpld3.register_plugin(\"htmltooltip\", HtmlTooltipPlugin);\n",
       "    HtmlTooltipPlugin.prototype = Object.create(mpld3.Plugin.prototype);\n",
       "    HtmlTooltipPlugin.prototype.constructor = HtmlTooltipPlugin;\n",
       "    HtmlTooltipPlugin.prototype.requiredProps = [\"id\"];\n",
       "    HtmlTooltipPlugin.prototype.defaultProps = {labels:null, hoffset:0, voffset:10};\n",
       "    function HtmlTooltipPlugin(fig, props){\n",
       "        mpld3.Plugin.call(this, fig, props);\n",
       "    };\n",
       "\n",
       "    HtmlTooltipPlugin.prototype.draw = function(){\n",
       "       var obj = mpld3.get_element(this.props.id);\n",
       "       var labels = this.props.labels;\n",
       "       var tooltip = d3.select(\"body\").append(\"div\")\n",
       "                    .attr(\"class\", \"mpld3-tooltip\")\n",
       "                    .style(\"position\", \"absolute\")\n",
       "                    .style(\"z-index\", \"10\")\n",
       "                    .style(\"visibility\", \"hidden\");\n",
       "\n",
       "       obj.elements()\n",
       "           .on(\"mouseover\", function(d, i){\n",
       "                              tooltip.html(labels[i])\n",
       "                                     .style(\"visibility\", \"visible\");})\n",
       "           .on(\"mousemove\", function(d, i){\n",
       "                    tooltip\n",
       "                      .style(\"top\", d3.event.pageY + this.props.voffset + \"px\")\n",
       "                      .style(\"left\",d3.event.pageX + this.props.hoffset + \"px\");\n",
       "                 }.bind(this))\n",
       "           .on(\"mouseout\",  function(d, i){\n",
       "                           tooltip.style(\"visibility\", \"hidden\");});\n",
       "    };\n",
       "    \n",
       "    mpld3.register_plugin(\"toptoolbar\", TopToolbar);\n",
       "    TopToolbar.prototype = Object.create(mpld3.Plugin.prototype);\n",
       "    TopToolbar.prototype.constructor = TopToolbar;\n",
       "    function TopToolbar(fig, props){\n",
       "        mpld3.Plugin.call(this, fig, props);\n",
       "    };\n",
       "\n",
       "    TopToolbar.prototype.draw = function(){\n",
       "      // the toolbar svg doesn't exist\n",
       "      // yet, so first draw it\n",
       "      this.fig.toolbar.draw();\n",
       "\n",
       "      // then change the y position to be\n",
       "      // at the top of the figure\n",
       "      this.fig.toolbar.toolbar.attr(\"x\", 150);\n",
       "      this.fig.toolbar.toolbar.attr(\"y\", 400);\n",
       "\n",
       "      // then remove the draw function,\n",
       "      // so that it is not called again\n",
       "      this.fig.toolbar.draw = function() {}\n",
       "    }\n",
       "    \n",
       "                 mpld3.draw_figure(\"fig_el9595853750945446552526953\", {\"axes\": [{\"xlim\": [-1.1168828407897538, 1.1255764791570526], \"yscale\": \"linear\", \"axesbg\": \"none\", \"texts\": [{\"v_baseline\": \"auto\", \"h_anchor\": \"start\", \"color\": \"#262626\", \"text\": \"None\", \"coordinates\": \"axes\", \"zorder\": 1000003.0, \"alpha\": 1, \"fontsize\": 10.0, \"position\": [-0.16129032258064518, -0.16129032258064518], \"rotation\": -0.0, \"id\": \"el959585415973840\"}, {\"v_baseline\": \"auto\", \"h_anchor\": \"start\", \"color\": \"#262626\", \"text\": \"int, dx, integral, infty\", \"coordinates\": \"axes\", \"zorder\": 1000003.0, \"alpha\": 1, \"fontsize\": 11.0, \"position\": [0.0607825567502987, 0.21415770609319001], \"rotation\": -0.0, \"id\": \"el959585412420688\"}, {\"v_baseline\": \"auto\", \"h_anchor\": \"start\", \"color\": \"#262626\", \"text\": \"sin, cos, theta, pi, sin\", \"coordinates\": \"axes\", \"zorder\": 1000003.0, \"alpha\": 1, \"fontsize\": 11.0, \"position\": [0.0607825567502987, 0.16935483870967749], \"rotation\": -0.0, \"id\": \"el959585411695248\"}, {\"v_baseline\": \"auto\", \"h_anchor\": \"start\", \"color\": \"#262626\", \"text\": \"nt, function, know, solve, use\", \"coordinates\": \"axes\", \"zorder\": 1000003.0, \"alpha\": 1, \"fontsize\": 11.0, \"position\": [0.0607825567502987, 0.12455197132616491], \"rotation\": -0.0, \"id\": \"el959585410735824\"}, {\"v_baseline\": \"auto\", \"h_anchor\": \"start\", \"color\": \"#262626\", \"text\": \"log, ln, logarithm, square, sqrt\", \"coordinates\": \"axes\", \"zorder\": 1000003.0, \"alpha\": 1, \"fontsize\": 11.0, \"position\": [0.0607825567502987, 0.079749103942652388], \"rotation\": -0.0, \"id\": \"el959585411492368\"}, {\"v_baseline\": \"auto\", \"h_anchor\": \"start\", \"color\": \"#262626\", \"text\": \"points, angle, line, triangle, circle, length\", \"coordinates\": \"axes\", \"zorder\": 1000003.0, \"alpha\": 1, \"fontsize\": 11.0, \"position\": [0.0607825567502987, 0.034946236559139809], \"rotation\": -0.0, \"id\": \"el959585410418768\"}], \"zoomable\": true, \"images\": [], \"xdomain\": [-1.1168828407897538, 1.1255764791570526], \"ylim\": [-1.1132274098712966, 1.1098107406827971], \"paths\": [{\"edgecolor\": \"#FFFFFF\", \"facecolor\": \"none\", \"edgewidth\": 0.3, \"pathcodes\": [\"M\", \"L\", \"L\", \"L\", \"Z\"], \"yindex\": 1, \"coordinates\": \"axes\", \"dasharray\": \"10,0\", \"zorder\": 1000001.0, \"alpha\": 1, \"xindex\": 0, \"data\": \"data07\", \"id\": \"el959585415574352\"}], \"sharey\": [], \"sharex\": [], \"axesbgalpha\": null, \"axes\": [{\"scale\": \"linear\", \"tickformat\": \"\", \"grid\": {\"gridOn\": false}, \"fontsize\": null, \"position\": \"bottom\", \"nticks\": 0, \"tickvalues\": []}, {\"scale\": \"linear\", \"tickformat\": \"\", \"grid\": {\"gridOn\": false}, \"fontsize\": null, \"position\": \"left\", \"nticks\": 0, \"tickvalues\": []}], \"lines\": [], \"markers\": [{\"edgecolor\": \"none\", \"facecolor\": \"#0070FF\", \"edgewidth\": 0.0, \"yindex\": 1, \"coordinates\": \"data\", \"zorder\": 2, \"markerpath\": [[[0.0, 4.5], [1.19341395, 4.5], [2.3381094185318405, 4.025851612147088], [3.1819805153394642, 3.1819805153394642], [4.025851612147088, 2.3381094185318405], [4.5, 1.19341395], [4.5, 0.0], [4.5, -1.19341395], [4.025851612147088, -2.3381094185318405], [3.1819805153394642, -3.1819805153394642], [2.3381094185318405, -4.025851612147088], [1.19341395, -4.5], [0.0, -4.5], [-1.19341395, -4.5], [-2.3381094185318405, -4.025851612147088], [-3.1819805153394642, -3.1819805153394642], [-4.025851612147088, -2.3381094185318405], [-4.5, -1.19341395], [-4.5, 0.0], [-4.5, 1.19341395], [-4.025851612147088, 2.3381094185318405], [-3.1819805153394642, 3.1819805153394642], [-2.3381094185318405, 4.025851612147088], [-1.19341395, 4.5], [0.0, 4.5]], [\"M\", \"C\", \"C\", \"C\", \"C\", \"C\", \"C\", \"C\", \"C\", \"Z\"]], \"alpha\": 1, \"xindex\": 0, \"data\": \"data01\", \"id\": \"el959585372227856pts\"}, {\"edgecolor\": \"none\", \"facecolor\": \"#FFBF00\", \"edgewidth\": 0.0, \"yindex\": 1, \"coordinates\": \"data\", \"zorder\": 2, \"markerpath\": [[[0.0, 4.5], [1.19341395, 4.5], [2.3381094185318405, 4.025851612147088], [3.1819805153394642, 3.1819805153394642], [4.025851612147088, 2.3381094185318405], [4.5, 1.19341395], [4.5, 0.0], [4.5, -1.19341395], [4.025851612147088, -2.3381094185318405], [3.1819805153394642, -3.1819805153394642], [2.3381094185318405, -4.025851612147088], [1.19341395, -4.5], [0.0, -4.5], [-1.19341395, -4.5], [-2.3381094185318405, -4.025851612147088], [-3.1819805153394642, -3.1819805153394642], [-4.025851612147088, -2.3381094185318405], [-4.5, -1.19341395], [-4.5, 0.0], [-4.5, 1.19341395], [-4.025851612147088, 2.3381094185318405], [-3.1819805153394642, 3.1819805153394642], [-2.3381094185318405, 4.025851612147088], [-1.19341395, 4.5], [0.0, 4.5]], [\"M\", \"C\", \"C\", \"C\", \"C\", \"C\", \"C\", \"C\", \"C\", \"Z\"]], \"alpha\": 1, \"xindex\": 0, \"data\": \"data02\", \"id\": \"el959585415571856pts\"}, {\"edgecolor\": \"none\", \"facecolor\": \"#7570B3\", \"edgewidth\": 0.0, \"yindex\": 1, \"coordinates\": \"data\", \"zorder\": 2, \"markerpath\": [[[0.0, 4.5], [1.19341395, 4.5], [2.3381094185318405, 4.025851612147088], [3.1819805153394642, 3.1819805153394642], [4.025851612147088, 2.3381094185318405], [4.5, 1.19341395], [4.5, 0.0], [4.5, -1.19341395], [4.025851612147088, -2.3381094185318405], [3.1819805153394642, -3.1819805153394642], [2.3381094185318405, -4.025851612147088], [1.19341395, -4.5], [0.0, -4.5], [-1.19341395, -4.5], [-2.3381094185318405, -4.025851612147088], [-3.1819805153394642, -3.1819805153394642], [-4.025851612147088, -2.3381094185318405], [-4.5, -1.19341395], [-4.5, 0.0], [-4.5, 1.19341395], [-4.025851612147088, 2.3381094185318405], [-3.1819805153394642, 3.1819805153394642], [-2.3381094185318405, 4.025851612147088], [-1.19341395, 4.5], [0.0, 4.5]], [\"M\", \"C\", \"C\", \"C\", \"C\", \"C\", \"C\", \"C\", \"C\", \"Z\"]], \"alpha\": 1, \"xindex\": 0, \"data\": \"data03\", \"id\": \"el959585414734032pts\"}, {\"edgecolor\": \"none\", \"facecolor\": \"#E7298A\", \"edgewidth\": 0.0, \"yindex\": 1, \"coordinates\": \"data\", \"zorder\": 2, \"markerpath\": [[[0.0, 4.5], [1.19341395, 4.5], [2.3381094185318405, 4.025851612147088], [3.1819805153394642, 3.1819805153394642], [4.025851612147088, 2.3381094185318405], [4.5, 1.19341395], [4.5, 0.0], [4.5, -1.19341395], [4.025851612147088, -2.3381094185318405], [3.1819805153394642, -3.1819805153394642], [2.3381094185318405, -4.025851612147088], [1.19341395, -4.5], [0.0, -4.5], [-1.19341395, -4.5], [-2.3381094185318405, -4.025851612147088], [-3.1819805153394642, -3.1819805153394642], [-4.025851612147088, -2.3381094185318405], [-4.5, -1.19341395], [-4.5, 0.0], [-4.5, 1.19341395], [-4.025851612147088, 2.3381094185318405], [-3.1819805153394642, 3.1819805153394642], [-2.3381094185318405, 4.025851612147088], [-1.19341395, 4.5], [0.0, 4.5]], [\"M\", \"C\", \"C\", \"C\", \"C\", \"C\", \"C\", \"C\", \"C\", \"Z\"]], \"alpha\": 1, \"xindex\": 0, \"data\": \"data04\", \"id\": \"el959585418505360pts\"}, {\"edgecolor\": \"none\", \"facecolor\": \"#66A61E\", \"edgewidth\": 0.0, \"yindex\": 1, \"coordinates\": \"data\", \"zorder\": 2, \"markerpath\": [[[0.0, 4.5], [1.19341395, 4.5], [2.3381094185318405, 4.025851612147088], [3.1819805153394642, 3.1819805153394642], [4.025851612147088, 2.3381094185318405], [4.5, 1.19341395], [4.5, 0.0], [4.5, -1.19341395], [4.025851612147088, -2.3381094185318405], [3.1819805153394642, -3.1819805153394642], [2.3381094185318405, -4.025851612147088], [1.19341395, -4.5], [0.0, -4.5], [-1.19341395, -4.5], [-2.3381094185318405, -4.025851612147088], [-3.1819805153394642, -3.1819805153394642], [-4.025851612147088, -2.3381094185318405], [-4.5, -1.19341395], [-4.5, 0.0], [-4.5, 1.19341395], [-4.025851612147088, 2.3381094185318405], [-3.1819805153394642, 3.1819805153394642], [-2.3381094185318405, 4.025851612147088], [-1.19341395, 4.5], [0.0, 4.5]], [\"M\", \"C\", \"C\", \"C\", \"C\", \"C\", \"C\", \"C\", \"C\", \"Z\"]], \"alpha\": 1, \"xindex\": 0, \"data\": \"data05\", \"id\": \"el959585408126160pts\"}, {\"edgecolor\": \"none\", \"facecolor\": \"#0070FF\", \"edgewidth\": 0.0, \"yindex\": 1, \"coordinates\": \"axes\", \"zorder\": 1000002.0, \"markerpath\": [[[0.0, 4.5], [1.19341395, 4.5], [2.3381094185318405, 4.025851612147088], [3.1819805153394642, 3.1819805153394642], [4.025851612147088, 2.3381094185318405], [4.5, 1.19341395], [4.5, 0.0], [4.5, -1.19341395], [4.025851612147088, -2.3381094185318405], [3.1819805153394642, -3.1819805153394642], [2.3381094185318405, -4.025851612147088], [1.19341395, -4.5], [0.0, -4.5], [-1.19341395, -4.5], [-2.3381094185318405, -4.025851612147088], [-3.1819805153394642, -3.1819805153394642], [-4.025851612147088, -2.3381094185318405], [-4.5, -1.19341395], [-4.5, 0.0], [-4.5, 1.19341395], [-4.025851612147088, 2.3381094185318405], [-3.1819805153394642, 3.1819805153394642], [-2.3381094185318405, 4.025851612147088], [-1.19341395, 4.5], [0.0, 4.5]], [\"M\", \"C\", \"C\", \"C\", \"C\", \"C\", \"C\", \"C\", \"C\", \"Z\"]], \"alpha\": 1, \"xindex\": 0, \"data\": \"data06\", \"id\": \"el959585407768336pts\"}, {\"edgecolor\": \"none\", \"facecolor\": \"#FFBF00\", \"edgewidth\": 0.0, \"yindex\": 2, \"coordinates\": \"axes\", \"zorder\": 1000002.0, \"markerpath\": [[[0.0, 4.5], [1.19341395, 4.5], [2.3381094185318405, 4.025851612147088], [3.1819805153394642, 3.1819805153394642], [4.025851612147088, 2.3381094185318405], [4.5, 1.19341395], [4.5, 0.0], [4.5, -1.19341395], [4.025851612147088, -2.3381094185318405], [3.1819805153394642, -3.1819805153394642], [2.3381094185318405, -4.025851612147088], [1.19341395, -4.5], [0.0, -4.5], [-1.19341395, -4.5], [-2.3381094185318405, -4.025851612147088], [-3.1819805153394642, -3.1819805153394642], [-4.025851612147088, -2.3381094185318405], [-4.5, -1.19341395], [-4.5, 0.0], [-4.5, 1.19341395], [-4.025851612147088, 2.3381094185318405], [-3.1819805153394642, 3.1819805153394642], [-2.3381094185318405, 4.025851612147088], [-1.19341395, 4.5], [0.0, 4.5]], [\"M\", \"C\", \"C\", \"C\", \"C\", \"C\", \"C\", \"C\", \"C\", \"Z\"]], \"alpha\": 1, \"xindex\": 0, \"data\": \"data06\", \"id\": \"el959585410735120pts\"}, {\"edgecolor\": \"none\", \"facecolor\": \"#7570B3\", \"edgewidth\": 0.0, \"yindex\": 3, \"coordinates\": \"axes\", \"zorder\": 1000002.0, \"markerpath\": [[[0.0, 4.5], [1.19341395, 4.5], [2.3381094185318405, 4.025851612147088], [3.1819805153394642, 3.1819805153394642], [4.025851612147088, 2.3381094185318405], [4.5, 1.19341395], [4.5, 0.0], [4.5, -1.19341395], [4.025851612147088, -2.3381094185318405], [3.1819805153394642, -3.1819805153394642], [2.3381094185318405, -4.025851612147088], [1.19341395, -4.5], [0.0, -4.5], [-1.19341395, -4.5], [-2.3381094185318405, -4.025851612147088], [-3.1819805153394642, -3.1819805153394642], [-4.025851612147088, -2.3381094185318405], [-4.5, -1.19341395], [-4.5, 0.0], [-4.5, 1.19341395], [-4.025851612147088, 2.3381094185318405], [-3.1819805153394642, 3.1819805153394642], [-2.3381094185318405, 4.025851612147088], [-1.19341395, 4.5], [0.0, 4.5]], [\"M\", \"C\", \"C\", \"C\", \"C\", \"C\", \"C\", \"C\", \"C\", \"Z\"]], \"alpha\": 1, \"xindex\": 0, \"data\": \"data06\", \"id\": \"el959585415812880pts\"}, {\"edgecolor\": \"none\", \"facecolor\": \"#E7298A\", \"edgewidth\": 0.0, \"yindex\": 4, \"coordinates\": \"axes\", \"zorder\": 1000002.0, \"markerpath\": [[[0.0, 4.5], [1.19341395, 4.5], [2.3381094185318405, 4.025851612147088], [3.1819805153394642, 3.1819805153394642], [4.025851612147088, 2.3381094185318405], [4.5, 1.19341395], [4.5, 0.0], [4.5, -1.19341395], [4.025851612147088, -2.3381094185318405], [3.1819805153394642, -3.1819805153394642], [2.3381094185318405, -4.025851612147088], [1.19341395, -4.5], [0.0, -4.5], [-1.19341395, -4.5], [-2.3381094185318405, -4.025851612147088], [-3.1819805153394642, -3.1819805153394642], [-4.025851612147088, -2.3381094185318405], [-4.5, -1.19341395], [-4.5, 0.0], [-4.5, 1.19341395], [-4.025851612147088, 2.3381094185318405], [-3.1819805153394642, 3.1819805153394642], [-2.3381094185318405, 4.025851612147088], [-1.19341395, 4.5], [0.0, 4.5]], [\"M\", \"C\", \"C\", \"C\", \"C\", \"C\", \"C\", \"C\", \"C\", \"Z\"]], \"alpha\": 1, \"xindex\": 0, \"data\": \"data06\", \"id\": \"el959585410421840pts\"}, {\"edgecolor\": \"none\", \"facecolor\": \"#66A61E\", \"edgewidth\": 0.0, \"yindex\": 5, \"coordinates\": \"axes\", \"zorder\": 1000002.0, \"markerpath\": [[[0.0, 4.5], [1.19341395, 4.5], [2.3381094185318405, 4.025851612147088], [3.1819805153394642, 3.1819805153394642], [4.025851612147088, 2.3381094185318405], [4.5, 1.19341395], [4.5, 0.0], [4.5, -1.19341395], [4.025851612147088, -2.3381094185318405], [3.1819805153394642, -3.1819805153394642], [2.3381094185318405, -4.025851612147088], [1.19341395, -4.5], [0.0, -4.5], [-1.19341395, -4.5], [-2.3381094185318405, -4.025851612147088], [-3.1819805153394642, -3.1819805153394642], [-4.025851612147088, -2.3381094185318405], [-4.5, -1.19341395], [-4.5, 0.0], [-4.5, 1.19341395], [-4.025851612147088, 2.3381094185318405], [-3.1819805153394642, 3.1819805153394642], [-2.3381094185318405, 4.025851612147088], [-1.19341395, 4.5], [0.0, 4.5]], [\"M\", \"C\", \"C\", \"C\", \"C\", \"C\", \"C\", \"C\", \"C\", \"Z\"]], \"alpha\": 1, \"xindex\": 0, \"data\": \"data06\", \"id\": \"el959585418555472pts\"}], \"id\": \"el959585407562896\", \"ydomain\": [-1.1132274098712966, 1.1098107406827971], \"collections\": [], \"xscale\": \"linear\", \"bbox\": [0.125, 0.125, 0.77500000000000002, 0.77500000000000002]}], \"height\": 480.0, \"width\": 960.0, \"plugins\": [{\"type\": \"reset\"}, {\"enabled\": false, \"button\": true, \"type\": \"zoom\"}, {\"enabled\": false, \"button\": true, \"type\": \"boxzoom\"}, {\"voffset\": 10, \"labels\": [\"What is $\\\\cot(\\\\pi/2)$?\", \"Is $\\\\int_a^b f(x) dx = \\\\int_{f(a)}^{f(b)} f^{-1}(x) dy$?\", \"Derivation of Rational Expression\", \"Computing the integral of $e^{-x^2}$ over the entire line\", \"Find Equation of a normal to a curve - Where is my mistake?\", \"evaluation of limit $\\\\lim_{n\\\\rightarrow \\\\infty}\\\\left(\\\\frac{n!}{n^n}\\\\right)^{\\\\frac{1}{n}}$\", \"Integration by Parts via Tabular Integration, where am I wrong?\", \"Integrating $\\\\int{3\\\\sin^2x\\\\cos x \\\\;dx}$\", \"Difficult integration problem (unique headline)\", \"Using trig substitution to solve for integration?\", \"Differentiating under Integral sign for all n\", \"A problem in continuity of f(x)\", \"Why am I not getting an infinite limit?\", \"What technique of integration is applicable for this?\", \"Maclaurin polynomial of $\\\\ln(1+x)$\", \"integration by parts of $x f(x)f'(x)$\", \"How can I find $\\\\int\\\\tan\\\\;x\\\\;\\\\cos\\\\;2x\\\\;\\\\mathrm dx$?\", \"Parametric problem (differentiation under the integral sign)\", \"integral representation\", \"Calculus question on application of the quotient rule\", \"Evaluate the given integral\", \"Integral calculus by part or with complex numbers\", \"How do I use substitution in integrals?\", \"Indefinite Integral $\\\\int \\\\sin (x) \\\\ln (\\\\tan (x))dx$\", \"Constants of integration in integration by parts\", \"Evaluation of $\\\\int\\\\frac{1}{(x^3+1)^2}\\\\mathrm dx \\\\cdots$\", \"why does integration by parts give a different answer\", \"Simple Calculus with PDEs\", \"How to integrate a function that has no exact integration and cannot be expanded by a Taylor series\", \"Calculate:$\\\\int \\\\frac{1}{(x+1)^\\\\frac{3}{4}(x+2)^{\\\\frac{5}{4}}}\\\\ dx$\", \"Stuck in definite integral of a function\", \"Prove the reduction formula\", \"integrate $\\\\int{\\\\sin(x)\\\\cos(2x)dx}$\", \"Prove that $\\\\int_0^{\\\\infty}\\\\left(\\\\frac{\\\\log (1+x)}{x}\\\\right)^2dx$ converges.\", \"Proving the reduction formula\", \"Why are the units Radians? Related rates with an angle and $\\\\frac{d\\\\theta}{dt}$\", \"Confused with Leibniz notation of a derivative\", \"Evaluate $\\\\int_{1}^{2}\\\\frac{x}{(x^2-3)^2}\\\\mathrm dx$\", \"Simple Partial Fractions Question\", \"calculus - possible u sub or trig sub\", \"Separation of an integral\", \"need help on this fraction equation $2/5 = 2/3 - r/5$\", \"What is Leibnitz rule for a double integral?\", \"Integrate difference of exponentials\", \"Consider the function $f(x)=\\\\tan(\\\\frac{\\\\pi x}{2})$ and $g(x)=\\\\frac12\\\\sec(\\\\frac{\\\\pi x}{2})$\", \"Partial Fraction Decomposition Problem... half answered...\", \"How do I solve this integral (volume of a torus)?\", \"factorisation of algebra\", \"How to solve the integral $\\\\frac{d}{dx} \\\\int_0^{7x^2} \\\\frac{t}{t+66}\\\\ dt$\", \"Series Problem in Stewart's Calculus Book\", \"Tricky Gaussian\", \"Interpretation of an integral involving two curves\", \"Evaluating: $\\\\int^{n}_{1}[\\\\ln(x) - \\\\ln(\\\\lfloor x \\\\rfloor)] dx $\", \"Distance point on ellipse to centre\", \"Problem with integrating by parts\", \"Very basic line integrals (worked out)\", \"Calculating the following integral:\", \"Evaluating $\\\\int\\\\sqrt{1 + \\\\frac1{x^2}}\\\\mathrm dx$\", \"Integral calculus\", \"trigonometric function integration\", \"Limit of Functions Using $\\\\lim_{n\\\\to\\\\infty} (1+\\\\frac{x}{n}) ^n = e^x $\", \"How to integrate these two?\", \"Given a relation between two variables, find another.\", \"derivative $\\\\frac{d}{dt} \\\\left[ \\\\frac{-2}{\\\\dot{x}^3} + \\\\frac{-2x^2}{\\\\dot{x}^3} \\\\right]$\", \"$\\\\int_0^{1/2} \\\\cos^{-1} x \\\\, dx$ using integration by parts.\", \"Spivak's Calculus Chapter 11, Problem 39 (a)\", \"Simple Integral Involving Radicals: Why Does Mathematica Fail?\", \"Does this inequality hold in general?\", \"Total derivative of scalar function with respect to a vector\", \"Is my answer to this trig question correct\", \"Showing an Integral Exists\", \"Differential calculus: word problem\", \"Forget about the sin and cos functions, show that $(x-x^3/3!+x^5/5!-x^7/7!+...)^2+ (1-x^2/2!+x^4/4!-x^6/6!+...)^2=1$.\", \"Following integral?\", \"Integration of a trigonometric function\", \"How to integrate fraction\", \"How to determine solutions: $\\\\;2^x=3^y=36^{-z}\\\\; \\\\implies \\\\frac1x +\\\\frac 1y +\\\\frac 1{2z} = \\\\quad ?$\", \"Compute $\\\\int_{-\\\\pi}^\\\\pi{x^2\\\\sin\\\\frac{x}{2}dx}$\", \"How to evaluate this definite integral $\\\\int_0^2(1-x^2)^\\\\frac{1}{3}~dx$\", \"Applying The Cauchy-Schwarz Inequality\", \"Need help with a power equation\", \"Reducing to exact form by integrating factor\", \"Definite Integrals problem\", \"Problem with trigonometric substitution proof\", \"How to calculate the following integral?\", \"To evaluate $\\\\int_0^{\\\\frac{\\\\pi}2} \\\\frac{\\\\cos x}{x+2} dx $ and $\\\\int_0^4{\\\\frac{\\\\sin x \\\\cos x}{(x+1)^2}} dx$\", \"What property allows me to integrate a gaussian function?\", \"Help with evaluating $\\\\frac{1}{\\\\pi} \\\\int_{-\\\\infty}^\\\\infty exp(-iwx) g(x) dx $\", \"Derivative of double integral over Region\", \"How to caluclate the integral of $\\\\int \\\\frac{1}{\\\\sqrt{4x^{2}+1}}dx$ using a trig substitution?\", \"How to integrate $\\\\frac{1}{x^4\\\\sqrt{(x^2+3)}}$\", \"Integral of $\\\\int \\\\tan^4 x \\\\, \\\\sec^6 x dx$\", \"How can I integrate $\\\\int_{2}^{\\\\infty}\\\\frac{\\\\ln x}{x^3}\\\\,\\\\mathrm dx$\", \"Need help evaluating the definite integral.\", \"How to integrate this function\", \"How do I solve for $dy/dx$ if $y=\\\\ln (\\\\sin x+\\\\ln x)$?\", \"Integration using different substitutions resulting in different answers?\", \"Integrating an equation with both cos and tan\", \"A transform function from $(-\\\\infty, \\\\infty)$ to $(t_0, \\\\infty)$?\", \"Integral relationship problem\", \"Integral of gaussian and sine/cosine\", \"What exactly happens in the algebraic steps here?\", \"Leibniz Integral Rule\", \"How to integrate by parts and $u$-sub $8 \\\\ln(\\\\sqrt[3]{x})$?\", \"Another parametric integral relating to hyperbolic function\", \"$\\\\frac{\\\\frac{dx}{dt}}{\\\\frac{dy}{dt}}$, for $x(t),y(t)$\", \"$\\\\int \\\\frac{x^3}{x^3-a^3} \\\\, dx$\", \"i cant find this integral $\\\\int_0^1 x^{-x} \\\\mathrm{dx}$\", \"How to prove $ \\\\int \\\\sqrt{a^2-u^2}du $\", \"Work required to pump water out of a tank in the shape of a right circular cone\", \"How to prove $\\\\int_0^1 \\\\frac{\\\\arctan( a x)}{x \\\\sqrt{1 - x^2}} dx = \\\\frac{\\\\pi}{2} \\\\ln (a + \\\\sqrt{1 + a^2})$?\", \"Prove some identites.\", \"AM-GM application\", \"Double checking my progress on finding critical numbers\", \"Integral $\\\\int_{-\\\\infty}^{\\\\infty}\\\\frac{\\\\mathrm dx}{(ax^2+2bx+c)^{\\\\alpha}}$\", \"Differentiation of improper integral\", \"Definite integral resolution\", \"Integration Formula\", \"How to evaluate the definite integral?\", \"Conversion a three-dimensional integral into a one-dimensional one\", \"Integral Equation $\\\\int_{-\\\\infty}^\\\\infty \\\\frac{f(y)}{1+(x-y)^2}\\\\mathrm dy =0 \\\\quad \\\\forall x$\", \"Can't figure out a way to integrate $\\\\int_{A}\\\\log(\\\\sin(x-y))dx dy$\", \"the smallest value of $\\\\alpha$\", \"Integration: How to Begin?\", \"Instantaneous relative growth\", \"Implicit diff on $\\\\frac{2x}{y} - \\\\frac{3y}{x} = 8$\", \"Show $\\\\lim_{\\\\lambda \\\\to \\\\infty} \\\\ \\\\frac{S}{hs} = 4 \\\\pi$\", \"Integration by parts: $\\\\int xe^{-x}dx$\", \"Intuition for why ln|x| is the integral for 1/x\", \"How to calculate the integral\", \"How to integrate $\\\\int_{0}^{\\\\sqrt{3\\\\pi}}\\\\int_{y}^{\\\\sqrt{3\\\\pi}}\\\\cos 7x^2\\\\;dxdy$?\", \"What's a better way to integrate this?\", \"Splitting up the interval of integration\", \"Long division in integration by partial fractions\", \"Evaluate $\\\\int \\\\limits _{0}^{\\\\infty}\\\\ln\\\\left({x+\\\\frac{1}{x}}\\\\right)\\\\cdot\\\\frac{\\\\mathrm dx}{1+x^2}$\", \"Why is my solution wrong? (Putnam 1985 B2)\", \"Evaluate the Integral $\\\\frac{\\\\sec^2\\\\theta}{\\\\tan^4\\\\theta-1}$\", \"Differentiation with sigma notation\", \"Volume problem: Is my integral correct?\", \"Integrating square of derivative of log function\", \"Steps in evaluating $\\\\int \\\\frac{1}{x^4-c^4} dx$?\", \"I need more help on calculus integrals\", \"Estimating Residues in McLauren's Polynomial\", \"Probably a dumb question on integration(Geometry of a simple double integral of $x$\", \"Solve for $x$ ; $\\\\dfrac{2x}{4\\\\pi}+\\\\dfrac{1-x}{2}=0$\", \"Integrate $\\\\int \\\\sqrt{(\\\\sec{x} +\\\\tan{x})}\\\\ \\\\cdot \\\\sec^2x\\\\,dx$\", \"Optimal decomposition of $\\\\frac{m}{n}$\", \"Definite integral reciprocal of polynomial plus trig function\", \"Is $\\\\frac{1}{\\\\min(\\\\frac{1}{a},\\\\frac{1}{b})}=\\\\max(a,b)$?\", \"Solve this equation $\\\\frac{1}{x+\\\\sqrt{x^2-1}}=\\\\frac{1}{4x}+\\\\frac{3x}{2x^2+2}$\", \"How do you apply $u$-substitution to the integral $\\\\int v\\\\sqrt{2v^2+1}\\\\,dv$?\", \"If $dx/dy =\\\\sin(x)$ then is $dy/dx = 1/\\\\sin(x)$?\", \"related rate problem\", \"Integrate $\\\\int{9x^5\\\\sqrt[4]{x^3+8} dx}$\", \"Integrating $3\\\\sin(x/2)$.\", \"How to differentiate this function\", \"Integral of exponential and algebraic function\", \"I am trying to find derivative $f$\", \"$\\\\int_{-\\\\pi}^{\\\\pi}\\\\sinh(x) \\\\sin(nx)dx$, using complex transformation.\", \"Estimate the decrease in the period of the satellite to the nearest one-hundredth hour....\", \"Convergence of type $1/(kn+r)$ type series\", \"$\\\\int_{y=-1}^{y=1}\\\\int_{x=y^{2/3}}^{x=(2-y)^2}f(x,y)\\\\ \\\\mathrm dx \\\\mathrm dy$ what does the region look like?\"], \"type\": \"htmltooltip\", \"id\": \"el959585372227856pts\", \"hoffset\": 10}, {\"type\": \"toptoolbar\"}, {\"voffset\": 10, \"labels\": [\"Write $\\\\cos(x)$ in terms of $\\\\sin(x)$\", \"Evaluating $\\\\int_0^L\\\\int_0^L \\\\cos^{-1}\\\\left(\\\\frac{x^2+y^2-a^2}{2xy}\\\\right)xy~dx~dy$\", \"Calculus - Find critical points\", \"Find all $ x \\\\in [0^{\\\\circ},360^{\\\\circ}] $ for which $ |2 \\\\sin(x) \\u2212 5| < 4 $.\", \"Precalculus Trig Problem\", \"Solve $\\\\cos(\\\\theta) + \\\\sin(\\\\theta) = x$ for known $x$, unknown $\\\\theta$?\", \"real solution of eqn. in $\\\\sin x+2\\\\sin 2x-\\\\sin 3x = 3,$ where $x\\\\in (0,\\\\pi)$.\", \"Where did I miss the minus?\", \"a question on : why sin(x) = sin(180-x)\", \"How can this be re-written with the following identity?\", \"Integral in greatest integer and absolute functions\", \"Another magic re-write question, picture!\", \"Find $f(4)$ if $x \\\\sin(\\\\pi x) = \\\\int_0^{x^2} f(t)\\\\,\\\\mathrm dt$\", \"How to tackle these trig questions correctly\", \"Area computed using polar coordinates\", \"trigonometric equations calculations and their implementation in practise.\", \"Integrate $\\\\sin^5 x$\", \"Integral of Form $(a^2 - x^2)^{1/2}$\", \"Adding sine waves of different phase, sin(\\u03c0/2) + sin(3\\u03c0/2)?\", \"What have I done incorrectly; integration by parts\", \"Computing the indefinite integral $\\\\int x^n \\\\sin x\\\\,dx$\", \"Expressing $\\\\cos\\\\theta - \\\\sqrt{3}\\\\sin\\\\theta = r\\\\sin(\\\\theta - \\\\alpha)$\", \"Trigonometric functions - finding solutions\", \"Showing that $\\\\frac{2}{3\\\\pi}\\\\leq\\\\int_{2\\\\pi}^{3\\\\pi}\\\\frac{\\\\sin x}{x} \\\\, dx \\\\leq \\\\frac{1}{\\\\pi}$\", \"What is the easiest way to find the maximum of $9\\\\cos(t) - 8\\\\cos(3t)$?\", \"How to differentiate integrals with variable limits?\", \"Evaluate $\\\\int_0^\\\\pi xf(\\\\sin x)dx$\", \"Please solve this equation\", \"Issue with proof of theorem limx->0 (sinx)/(x)=1\", \"How to prove two trigonometric identities\", \"Differentiability of function involving absolute values\", \"Position of a point on a moving unit circle?\", \"Proving that $x\\\\sin x+\\\\cos x=x^2$ has only one positive answer\", \"Prove $\\\\int_0^{2\\\\pi}\\\\frac{3a\\\\sin^2\\\\theta}{(1-a\\\\cos \\\\theta)^4}$ or $\\\\int_0^{2\\\\pi}\\\\frac{\\\\cos\\\\theta}{(1-a\\\\cos\\\\theta)^3}=\\\\frac{3a\\\\pi}{(1-a^2)^{5/2}}$\", \"Prove this identity...\", \"How to factorize this expression?\", \"Evaluate $ \\\\int \\\\cfrac { \\\\sec^2x}{ ( \\\\sec x + \\\\tan x)^{9/2}}dx $\", \"Solve for $x$; $\\\\cos^2x-\\\\sin^2x=\\\\sin x; -\\\\pi\\\\lt x\\\\leq\\\\pi$\", \"If $\\\\left(1+\\\\sin \\\\phi\\\\right)\\\\cdot \\\\left(1+\\\\cos \\\\phi\\\\right) = \\\\frac{5}{4}\\\\;,$ Then $\\\\left(1-\\\\sin \\\\phi\\\\right)\\\\cdot \\\\left(1-\\\\cos \\\\phi\\\\right)$\", \"How prove this $\\\\sum_{k=0}^{l}\\\\frac{(2l-2k)!(2k)!}{2^{2l}(k!)^2[(l-k)!]^2}\\\\sin{(l-2k)\\\\theta}=0$\", \"Basic trigonometry\", \"Calculate depth using triginometry\", \"Lissajous curve - highest velocity\", \"Trigonometric development help.\", \"Is $\\\\sin^3 x=\\\\frac{3}{4}\\\\sin x - \\\\frac{1}{4}\\\\sin 3x$?\", \"Evaluate $\\\\int \\\\sin^5{(x)}\\\\cos^4{(x)} \\\\ dx$\", \"did:$\\\\lim_{x\\\\to 0}\\\\frac{\\\\sin(x^2 + \\\\frac{1}{x} )- \\\\sin(\\\\frac{1}{x}))}{x}$\", \"Darboux sums. find an integral .\", \"Simple trigonometry question\", \"Differentiate y=Cot\\u00b2(sinx)\", \"Question about fundamental theorem of calculus\", \"Find the exact value of $t$ that maximizes $\\\\int_{t}^{t+1}\\\\sin e^x \\\\ dx$\", \"trigonometry: $2cos^2(x)+3cos(x)-2=0$ -> $cos(x)=-2$ OR $cos(x)=1/2$\", \"Eliminating $\\\\theta$ from the system\", \"What is $\\\\cos^2(t) + \\\\sin^2(-t)$?\", \"Can someone explain the math used in this query?\", \"Find the second derivative of the given function\", \"How can I differentiate this?\", \"Equation with sin 1/x\", \"Trigonometry $1+\\\\tan{x}=\\\\frac{\\\\sin{(\\\\frac{\\\\pi}{4}+x)}}{\\\\cos{\\\\frac{\\\\pi}{4}}\\\\cos{x}}$\", \"Losing information when solving trig problem\", \"What would be the sum of Trigonometric Functions\", \"Trigonometric Identity $\\\\frac{1}{1-\\\\cos t} + \\\\frac{1}{1+\\\\cos t}$\", \"Faster way of deriving equations of this type?\", \"Proving Sin Cos Tan\", \"Derivative of following functions $f(x) = \\\\cos^{-1}\\\\left(1-2x^2\\\\right)$\", \"What is an intuitive way to see $\\\\frac{d}{dx}\\\\sin^{-1}x+\\\\frac{d}{dx}\\\\cos^{-1}x=0$?\", \"The cosine of the angle between two vectors proof\", \"$\\\\int_{C}{|y|ds}$\", \"prove the following equations\", \"Trigonometric Functions Problem\", \"Help with implicit differentation\", \"Finding intersection with newton's method for $\\\\cos(x) = 2x$\", \"Stuck in a simple trigonometry problem\", \"Substitution integral with sines and cosines\", \"Integral of cos(5x)cos(3x)cos(4x)dx\", \"check my work on this problem: given tan(2x), find sin x + cos x?\", \"The antiderivative of $\\\\cos^5(x)\\\\sin^5(x)$ - is this incorrect?\", \"Trigonometric equation, missing some solutions\", \"G\\u00e2teaux and Fr\\u00e9chet derivate\", \"Solving the trigonometric equation $\\\\cos(x)-.4=0$.\", \"How to solve $a\\\\cos^2(\\\\theta) + b \\\\sin^2(\\\\theta) = 0$ for $\\\\theta$\", \"Can I get some assistance with this intregral / area problem?\", \"How prove or disprove this limit $\\\\lim_{n\\\\to\\\\infty}\\\\frac{\\\\sum_{k=1}^{n}|\\\\sin{(x+k)}|}{n}=\\\\dfrac{1}{\\\\pi}\\\\int_{0}^{\\\\pi}|\\\\sin{x}|dx$\", \"Sin in terms of t , 0 < B < pi/2\", \"Precalc - Trig Identities\", \"Assuming *only* that $\\\\sin^2{\\\\theta}$ + $\\\\cos^2{\\\\theta} = 1$, show that $\\\\sin{\\\\theta}\\\\cos{\\\\theta}\\\\le1/2$\"], \"type\": \"htmltooltip\", \"id\": \"el959585415571856pts\", \"hoffset\": 10}, {\"type\": \"toptoolbar\"}, {\"voffset\": 10, \"labels\": [\"The integral $\\\\int_{\\\\varepsilon}^1 r^n(1-r)^{k-n}\\\\,dr $\", \"Sum of all numbers x such that $(3x^2+9x-2012)^{(x^3-2012x^2-10x+1)} = 1$?\", \"Can someone please explain the ratio test to me please?\", \"How to do a Riemann Sum\", \"Problems with Trigonometric Identities\", \"Problems understanding error of approximation\", \"Comb Function -- First Derivative at a Point\", \"Explain this proof without words of integration by parts to me\", \"Word problem,percentage\", \"please help me. ive been trying to solve this for hours\", \"Finding asymptotes to general functions\", \"Optimal yarn balls\", \"Elliptic Cylinder Coordinates Integral\", \"Trying to reverse an equation and solve for a different variable\", \"Calculating wholesale and shipping costs for book order\", \"If $|z| = 2$. Then Locus of $z$ Representing The Complex no. $-1+5z,$ is\", \"dividing a unit in several different ways\", \"$f(0) = 65$, $f(20) = 60$, Possible to determine $f(x)$?\", \"Why can we only talk about derivatives on an open interval?\", \"complex conjugate of exponent\", \"Converting solution of linear equations to slope intercept form\", \"Solving for the value inside a base 10 logarithm\", \"Given the graph of $y=f(x)$ on the left, and $f(x)=(x-2)^2-7$ graph the function\", \"Volume of Cylindrical Wedge (not Segment)\", \"trying to prove equality of composition of functions\", \"Can two regular tetrahedrons make an octahedron?\", \"Average of all numbers from $1$ to $100$ that end in $2$\", \"Area of an elliptic?\", \"What is this question asking and Help me solve this equation step by step\", \"Graph $\\\\ell(x) = 3x +2$. What would $\\\\ell(x+1) - \\\\ell(x)$ be for all $x$?\", \"find the extremal of a function\", \"Use of integration and difference between two equations in monograph\", \"using the chain rule for f(x,y)\", \"Problem about a simple division\", \"Help with this binomial coefficent problem\", \"Question which has no answers\", \"Maximum, minimum, rate of change behavior of $H(t)=t^6-\\\\frac{3}{4}t^8$\", \"Property of a Cissoid?\", \"Rate of global resource consumption\", \"Work out value between two numbers from percentage.\", \"How many mappings $\\\\phi:\\\\Bbb{N}\\\\cup\\\\{0\\\\}\\\\to\\\\Bbb{N}\\\\cup\\\\{0\\\\}$ exist such that $\\\\phi(ab)=\\\\phi(a)+\\\\phi(b)$?\", \"Help with trigonometry problem\", \"General solution of the equation $x_1 \\\\cdots x_n + A = 0$ in complex numbers\", \"Write $\\\\csc(x)$ in terms of $\\\\sec(x)$\", \"How to find the $x^2+y^2=?$\", \"Applications of differentiation\", \"What is Derivative of order more than one?\", \"Find largest function such that the limit goes to 0\", \"A rectangle is scissors congruent to a square of the same area.\", \"Find all the values of $x \\\\in \\\\mathbb R$ from an equation\", \"directional derivative of convex function always exist\", \"How to integrate a multiplication\", \"How can I factor the polynomial $125x^3 + 216$?\", \"What is natural logarithm of this expression?\", \"Figuring out the proof of limit\", \"How to solve these equations?\", \"Parameterizing a function where you cannot isolate y\", \"length of Cardioid\", \"Volume of half torus. What's wrong with my solution?\", \"Write in Terms of sine and cosine and simplify\", \"Darboux sums inequality\", \"What does $\\\\cos(2\\\\tan^{\\u22121} x)$ mean and how do solve?\", \"Similar Triangles, Ratios and Proportions, Similar Polygons\", \"$a^2-b^2=bc$ and $b^2-c^2=ac \\\\Rightarrow a^2-c^2=ab$\", \"$\\\\epsilon$-$\\\\delta$ proof of discontinuity\", \"sum of the alternating series $\\\\sum_{n=0}^\\\\infty (-1)^n (n+1)/n!$\", \"How do I factor a polynomial over the reals?\", \"Suppose that $f(x)= xg(x)$ for some function $g$ which is continuous at $0$. Prove that $f$ is differentiable at 0 , and find $f'(0)$ in terms of $g$.\", \"Find $n$ satisfying the equation $[\\\\log_21]+[\\\\log_22]+[\\\\log_23]+\\\\dots[\\\\log_2n]=1538 $\", \"What is the name of this identity for a power symmetric polynomial?\", \"How to understand sinus?\", \"How to solve the following equation by extracting square roots?\", \"How to find the surface area of an egg?\", \"Solving for distance and time. Please help, I am stuck, and need to know how to do this please.\", \"Prove that the sum of a sequence diverges\", \"Gabriel's horn, calculus Integration\", \"How to evaluate this using algebra?\", \"How many solutions are there for this equation: $(x^2-x-1)^{x^2}=(x^2-x-1)$\", \"What is the slope of the line tangent to $f(x)=-2x^2+4x+6$ when $x=3$?\", \"given that the curve $x^3+ax^2+bx$ has no turning points show that $a^2<3b$\", \"Finding possible 2d positions of a transmitter, using multilateration.\", \"Minimizing a multivariable function given restraint\", \"Show that the set of polynomials $P = \\\\{p_k(x) = x^{5k + 4} + x^3 + x^2 + x + 1| k\\\\in \\\\mathbb{N}\\\\}$ has a common non-trivial polynomial divisor\", \"A completes 36% work in 12 days.\", \"Conditions for integrability\", \"Simplification of a simple expression\", \"Finding concavity and factoring\", \"Calculate the good Paypal fees\", \"If $(x^y)^z = x^{y\\\\cdot z}$, why does $(-5)^{2^{0.5}}$not equal $(-5)^1$?\", \"Simplifying a fraction.\", \"Writing a number as power of two\", \"Reverse a formula with codependent expressions\", \"Finding the solution to a trig equation\", \"What is this geometric pattern called?\", \"Calculate the angle of a vector in compass (360) direction\", \"how to prove that the curvature of sin x is greatest at its extremum?\", \"Find the rate of change. $P=250(1+(2t/(49+t^2)))$\", \"Find the derivative of $y=(2x-1)^{10}(x-1)^3$\", \"Probability 5th grade\", \"Convert percentage to number between 120 and 150\", \"Prove in harmonic progression\", \"Error of Equirectangular Approximation for spherical distance\", \"How to move from powers to simple logarithms?\", \"Using the numbers 2, 0, 1 and 3: 1-100\", \"How to make this polynomial have equal roots?\", \"Rewriting an equation in percentage terms\", \"Mixed integration problem\", \"Inequalities In Algebra\", \"How to solve this equation?\", \"Natural logarithm, equivalent function\", \"Is it possible to simplify $\\\\frac{2^{2x-1} - 2^{x-1}}{2^{2x-1}}$?\", \"Integral: $\\\\int_0^{1/2}\\\\frac{\\\\ln(1+2x)}{1+4x^2}{\\\\rm d}x$ [Other method type question.]\", \"solving time with the given distance and acceleration\", \"How do I arrange the following to solve for\", \"What is $\\\\sin x \\\\sin 2x \\\\sin 4x$ converted to a sum?\", \"Evaluating $\\\\int_{0}^{1} x^m \\\\ln^\\\\alpha(x) dx$\", \"I can't find differences between $P(1+r)^n$ and $P(2.71828)^{rn}$\", \"surface area of $y = e^{-x}, x \\\\geq 1$, about $x$-axis\", \"Find the mass of a rod with the given density function\", \"How to find $\\\\theta$ for $\\\\tan\\\\theta=-\\\\frac{4}{3}$?\", \"Evaluating fractional indices (negative)\", \"differentiation of Polynomials\", \"Prove this differential equation of a angle\", \"Showing a function can't be even\", \"perimeter and side length linear equation section\", \"Evaluating one integral in terms of another\", \"Solve for $x$ in $0 = e^{x^2} (2x)$\", \"Work done pulling a leaky bucket\", \"If a second car leaves later at a higher speed, how long will it take to catch up?\", \"A family of functions graphing\", \"Eliminate $A$ from these two equations.\", \"Which is bigger $x^{log(x)}$ OR $(log(x))^x$\", \"Second derivative multivariate functions\", \"If integral is zero and function is continuous and non negative, then what about the function?\", \"find $\\\\alpha$ such that $f(x)=x^\\\\alpha*sin(\\\\frac{1}{x})$ is n th order derivable at (0,0)\", \"Proving that a point is the maximum of a continuous function\", \"Logarithm Expansion Question\", \"Determining which intervals decrease and increase and concavity\", \"Complex mathematical question. Any help is much appreciated.\", \"Derivative of the area under $f(x)$ between $a(x)$ and $b(x)$\", \"What is glide reflection?\", \"Show that the directional derivative is linear by definition\", \"derive formula for height of tower on a hill\", \"Does anyone know names of some of Newton's THEOREM?\", \"How prove $\\\\sum_{j=k}^{n}x_{j}\\\\prod_{i=j+1}^{n}(1-x_{i})=1-(1-x_{1})(1-x_{2})\\\\cdots(1-x_{k})$\", \"Solving for volume using washer and cylindrical shell method\", \"Derivative of $x^2$\", \"Modeling Linear Functions\", \"Equality of norms on $L^1 (\\\\mathbb{R}, \\\\mathbb{R})$\", \"proof by negation - there is no supremum\", \"Minimum value Of trigonometry expression\", \"Solve $\\\\log x + \\\\log(2x-5) = \\\\log 96 \\u2013 \\\\log 8$\", \"Finding the ratio of two persons time spent driving to a meeting\", \"Reverse percentages\", \"$f(4)=3$ and $f'(4)=7$. If $g(x)=x^2f(x)$ then find $g'(4)$.\", \"planarity of a quadrilateral\", \"Is there a rule for integrating $f(x) f(f(x))$?\", \"Prove Why is Less than a number equals to this?\", \"How to solve the proportion $3n(n-5) = n-6(3n+1)$?\", \"How to find absolute min and max of a function over interval?\", \"Textbook clarification: $\\\\log = \\\\ln$\", \"Simplifying formula with Laplacians\", \"Transformational geometry software\", \"Extending hyperbolas to 3 and 4 foci\", \"How do they integrate this exponential?\", \"Solving a differential equation with composite functions\", \"Harmonic progression\", \"Chain rule and gradients\", \"Logarithmic differentiation for this function\", \"Two proofs I'm having difficulty with\", \"closed form solution for summation of  $\\\\log(i)$\", \"Given the angle find the dot product\", \"solid of revolution (x-axis)\", \"Prove that $\\\\tan55^\\\\circ\\\\cdot\\\\tan65^\\\\circ\\\\cdot\\\\tan75^\\\\circ=\\\\tan85^\\\\circ$\", \"How to solve $x \\\\log^2x - c=0$?\", \"Is there a \\\"more correct\\\" way to differentiate $\\\\frac{f(x)}{g(x)}$?\", \"What is this result called: $\\\\int_a^b f(x)g(x)dx=f(c)\\\\int_a^b g(x)dx$?\", \"Convergence of a series question: $\\\\sum_{n=1}^\\\\infty\\\\frac{n^{3/2}(-1)^n}{3n^3-(-1)^n}$\", \"Remainder Theorem, solve for K\", \"How find this value $\\\\frac{S_{\\\\Delta ABC}}{\\\\overrightarrow{OA}\\\\cdot\\\\overrightarrow{OB}}$\", \"How to solve $\\\\int \\\\ln(x)\\\\cos(x)\\\\: \\\\mathrm{d}x$?\", \"Deriving Simple Interest from given compound interest of 3 years.\", \"Wrong step in linear equations with fractions\", \"Solve this Trigonometric equation\", \"Proving that for every real $x$ there exists $y$ with $x+y^2\\\\in\\\\mathbb{Q}$\", \"simplify $x^4-3x^2+2=0$\", \"Find the equation of the tangent and normal to the curve $y = x + \\\\frac{1}{x}$ at $x = 1$.\", \"does it exist a formula for $a^2 + b^2$?\", \"-10 - 2 = -8 : How can I make this equation true?\", \"Ideas To Show this statement: $\\\\prod_2^{2n+1}(1-k^{-2})=(n+1)/(2n+1)$\", \"How can I prove the even derivatives of $\\\\frac{d^n}{dx^n}\\\\left \\\\{ \\\\right.tan(x)\\\\left. \\\\right \\\\}=0$ at $x=\\\\pi$\", \"Descrbing solutions of $\\\\sin\\\\theta = k$ & $\\\\cos\\\\theta = k$.\", \"Origin or author of 'Japanese Multiplication Method'\", \"Showing a function is differentiable at the origin\", \"Differentiate the following expression: $f(x)=2x^2 + 7x - \\\\ln(x^2+1)$\", \"Error function--How to take the limit?\", \"Computing the derivative of $H(z)= \\\\int_{e^z}^{\\\\cos z} \\\\ln(w^3) ~dw$\", \"Factor the Expression completely$ (a+b)^2 - (a-b)^2$\", \"Tangent lines in parametric curve\", \"Infinite derivative\", \"An awful factorisation question.\", \"\\\"Maximum area enclosing rectangle\\\"\", \"Determine the inverse function of $f(x)=3^{x-1}-2$\", \"Coordinate substitution between two cartesian systems\", \"exponentiation with the base between 0 and 1\", \"Work calculation from Thomas' calculus...does the text contain an error?\", \"Equivalence of growth rate found through derivation of growth equation and rate found through $A = Pe^{rt}$.\", \"Prove that there are $n$ pairwise distinct numbers $t_1,t_2,...,t_n$ in $(0,1)$, such that $\\\\sum_{i=1}^n\\\\frac{k_i}{f'(t_i)}=\\\\sum_{i=1}^n k_i$\", \"Skipping and percentage\", \"Shadow of a Tesseract\", \"Proving that $\\\\lim\\\\limits_{h\\\\to 0}\\\\frac{f(x+h)-2f(x)+f(x-h)}{h^2}=f''(x)$\", \"limit of a function that includes floor function\", \"The derivative of square root of $g$ from numerical values of $g$ and $g'$\", \"How many k-hyper-cubes does a n-hyper-cube have?\", \"Solving a sets problem with fractions.\", \"partial fraction decomposition and balancing rule\", \"Prove that $\\\\sin^7 x + \\\\cos^7 x < 1$ if $0 < x < \\\\frac{\\\\pi}{2}. $\", \"Prove that at any given moment, there exists a pair of diametrically opposed points on the equator of the Earth that have the same temperature.\", \"Does it Make Sense to Use the Variable of Integration as a Bound?\", \"Calculus definite integrals declining word problem\", \"Reciprocal sum equal to $1$\", \"Calculate number of pages given n items\", \"Express the length a, b, c, and d in the figure in terms of the trigonometric ratios of \\u03b8.\", \"Space filling curve with locality for odd column/row count\", \"Logarithm Question $\\\\log_{3}9x+\\\\log_{3}x=4$\", \"Are there oscillating functions that don't reduce to trigonometric functions?\", \"Prove, using the mean value theorem, that $x+1 \\\\lt e^x \\\\lt xe^x+1$ for $x \\\\gt 0$\", \"Why exactly is the sum/difference of two (and possibly more) differentiable and continous functions also inherit this property?\", \"Let $f(x)$ denote the sum of the infinite trigonometric series, $f(x) =\\\\sum^{\\\\infty}_{n=1} \\\\sin\\\\frac{2x}{3^n}\\\\sin\\\\frac{x}{3^n}$\", \"Capacity of car radiator\", \"$0=a \\\\cos (\\\\phi + b) +c \\\\cos (\\\\phi +d)$\", \"Integrate a rational function with a denominator in the form a - cos(x)\", \"Solution of trigonometric equation $at + \\\\sin(t) = 0$\", \"How to calculate sin(65) without a calculator.\", \"What is the solution set of $x-(1/x)\\\\le 0$?\", \"Analytic solution of $ \\\\int_t^{t+r} \\\\frac{x^2}{(t+r-\\\\sqrt{2rx-x^2})^4}dx $\", \"What is the minimum possible value of $(a+b+c)$?\", \"Expressing a multivarible function as \\u2207\\u03d5\", \"How find this integral $I=\\\\int_{0}^{1}\\\\frac{1}{2-x}\\\\ln{\\\\frac{1}{x}}dx$\", \"The proportionality symbol\", \"How can I find the area of the region bounded by the hyperbola\", \"Testing $\\\\sin\\\\theta$ and $\\\\cos\\\\theta$ without referring to the trigonometric functions\", \"If $f(x)g(x) = x$, then is it possible that $f$ and $g$ are differentiable and $f(0)=g(0)=0$?\", \"Is this function infinitly often differentiable?\", \"Differential to estimate a number\", \"Formula for Damage Calculation Based on Distance\", \"Calculating the amout of rotation on a line and the length compared to a gear\", \"Solve for: $8\\\\log_4\\\\sqrt{x^2-9}+3\\\\sqrt{2\\\\log_4\\\\left(x+3\\\\right)^2}=10+\\\\log_2\\\\left(x-3\\\\right)^2$\", \"(4x^2+2kx-5)/(x+2) remainder is 3 find value of k?\", \"Fundamental theorem of Calculus Part 1\", \"What is the relationship between the area of a triangle and an area of a segment of a circle?\", \"Integral Application Word Problem\", \"Finding the derivative of $y=12x^4\\\\sqrt[3]{x^2}-2e^x+9$\", \"Is $\\\\frac{5x}{3}$ The Same As $\\\\frac{5}{3}x$?\", \"Show that $x$, $y$, and $z$ are not distinct if $x^2(z-y) + y^2(x-z) + z^2(y-x) = 0$.\", \"Is any sequence of the form $\\\\lim_{n \\\\to \\\\infty} a_n \\\\ne L$ is divergent?\", \"True or False: Between 2 sequential roots of $f'(x)$ there is at most one root for $f(x)$\", \"Which of the following is true\", \"What Percent of two numbers to get to one\", \"Cylinderical Shell Calculus Question\", \"Find the value of x if $\\\\log_{2}({5 * 2^x + 1})$, $\\\\log_{2}({2^{1 -x} + 1})$ and 1 are in arithmetic progression\", \"find the differential dy\", \"How would I go about showing that f is one-to-one?\", \"Convex hull of Minkowski sums\", \"How to solve following equation?\", \"What is this type of problem called?\", \"Expand $(a\\u2212b)^2 +(b\\u2212c)^2 +(a\\u2212c)^2$ , and hence prove that $a ^2 +b^2 +c^2 \\u2265 ab+bc+ac$.\", \"Refinement of Notion of Integration\", \"Closed form for $\\\\int \\\\left(k e^{-2x}+4e^{-x}\\\\right)^{-1/2}dx$\", \"How to find $\\\\arccos(\\\\cos15\\\\pi/11)$?\", \"Problem with understanding integration by parts method?\", \"Calculate the area bounded by two different curves\", \"Hydrostatic Force and Integration\", \"Find all Critical Values for a Function\", \"Solve the following equation algebraically for n. Show your working using factorial notation.?\", \"Proving the function is concave\", \"Definite integral with negative log\", \"Proving that $\\\\frac{\\\\csc\\\\theta}{\\\\cot\\\\theta}-\\\\frac{\\\\cot\\\\theta}{\\\\csc\\\\theta}=\\\\tan\\\\theta\\\\sin\\\\theta$\", \"differentiability check\", \"intuition behind logarithm properties\", \"Work and time, when work is split into parts\", \"Solving $35(1-e^{-10k})=20(1-e^{-20k})$\", \"Problem Solving an Inverse Function\", \"calculus volume problem\", \"Calculating area of a shaded region inside a square\", \"general formulation for 1/g(x) derivative\", \"Fast way to prove that $(a^2+b^2+c^2-ab-ac-bc)^2=(a-b)^2\\\\times (a-c)^2 + (b-c)^2\\\\times(b-a)^2 + (c-b)^2\\\\times(c-a)^2$\", \"Find the instantaneous velocity\", \"pyramid with a trapezoid as a base.\", \"Signing $y''$ from $\\\\log(\\\\frac{x+y}{x})=x+y$\", \"How to determine $x$ and $y$ intercepts for $y = 4(x - 2)^2(x + 2)^3$\", \"Expressing $ 12\\\\sin( \\\\omega t - 10) $ in cosine form\", \"absolute and conditional convergence of series\", \"Cannot solve by hand:$ x + y = 2; 4x^2 + y^2 = 5(2x - y)(xy)^{\\\\frac12}$\", \"How to express $\\\\max\\\\{a,b,c\\\\}$\", \"Manipulation of differentials\", \"Evaluating a sum(could be decomposed into partial sum)\", \"If $f(x)=\\\\int_0^x x^2 \\\\sin {t^2}~dt $, find $f'(x)$.\", \"Prove the following trig identities\", \"If the first 10 positive integer is placed in a circle(any order), 3 integer in consecutive locations around the circle that have a sum > 17?\", \"Find $log_{p}X^2$?\", \"Why is it true that $\\\\int_0^\\\\pi \\\\! \\\\sin(z\\\\cos\\\\theta) (\\\\sin\\\\theta)^{2\\\\nu} \\\\, d\\\\theta = 0$?\", \"Prove that $f(x)$ be a constant\", \"Chemicals from a storage tank are leaking into a pond!\", \"Solving a tricky equation\", \"Why dividing by zero still works\", \"Finding the area between 2 curves using Green's Theorem\", \"Using integrating factor\", \"How to evaluate $\\\\displaystyle\\\\int {1\\\\over (1+kx^2)^{3/2}}dx$\", \"Find Volume of solid using method of cylindrical shells\", \"Proof of Vector Valued Function Derivative\", \"How to simplify $(x+4)^2$?\", \"Find interval of increase and decrease\", \"Algebra Equation with equals on left hand side\", \"Epsilon-Delta More Confusion\", \"Trapezoidal vs Simpsons Rule\", \"Doing simple math in your head\", \"Solution of the equation $\\\\left(x+\\\\frac{1}{x}\\\\right)^{\\\\frac{1}{x}}=A$\", \"Ignoring constants when finding derivatives of trig functions\", \"Solving an equation with variable in exponent\", \"An equation involving an integral\", \"Find the inverse function of $ f(x) = 4 - x^2$,$ x\\\\geq 0$\", \"Question about continuous functions and indefinite integrals\", \"Can you encode if-then-else in arithmetic\", \"Consider a function $g(x)$ with derivative of $g(x)$ prime = $x^3(x-2)^2(x+8)^9$. For what value(s) of $x$ does $g(x)$ have a local maximum\", \"Why is the absolute value function not differentiable at $X=0$?\", \"Vector Field, Curl and Divergence. Simple computing and proving:\", \"Proof of the image of a set\", \"How can I write an epsilon-delta proof that a rational function has a certain limit?\", \"Invent transformation mapping ellipsoid to unit sphere\", \"On convex $n$-gons with special properties\", \"An inequality containing prime numbers.\", \"Product of a geometric series from it's middle term\", \"Finding the number of each type of fruit bought\", \"finding the value of $Z+Z^{2}+Z^{3}........ $ if...\", \"Could trigonometry exist in one dimension?\", \"Sketch the Graph $x = {(y + 4)^2} - 8$\", \"When is this statement true?\", \"What is the derivative of the following?\", \"Cosine proof of vectors\", \"Find the closed form of $\\\\tan\\\\frac{\\\\pi }{64}$ by using the number $2$ only?\", \"Is this $f(x)$ answer correct in regards to functions?\", \"Simple logarithmic equation\", \"integrating $x^e$\", \"Is the given function exponential?\", \"Stuck with factoring an expression\", \"How to differentiate $-x^3(3x^4-2)$\", \"Question about differential function.\", \"vector - clarification\", \"I don't understand this step in this exercise involving algebra\", \"L'Hospital Rule With Exponents - $ \\\\tan x/x $\", \"Exponential Equations\", \"Inverse of an exponential summatory\", \"Function Problem\", \"Fundamental theorem of calculus problem - trig functions\", \"SAT practice problem question\", \"Evaluate the definite integral.\", \"Integration of a complicated rational function\", \"Find the function $f(x,y)$ if $f_y(x,y)=x^2+2y$ and $f(x,x^2)=1$\", \"Antiderivative function of $\\\\arccos(1/x)/\\\\sqrt{x^2-a}$\", \"When multiplying a number with an exponent attached do you add or multiply the exponent?\", \"Troubled by the question of showing that $f \\\\equiv 0$\", \"Does a differentiable $f[g(x)]$ imply a differentiable $g(x)$ or the reverse?\", \"Minimizing Volume of Solid\", \"Finding a four digit number\", \"Confirm right model\", \"Find the resulting speed and direction\", \"$X=(1 + \\\\tan 1^{\\\\circ})(1 + \\\\tan 2^{\\\\circ})(1 + \\\\tan 3^{\\\\circ})\\\\ldots(1 + \\\\tan {45}^{\\\\circ})$. what is the value of X?\", \"What are the steps necessary to solve this Calculus problem?\", \"Solve $x^{\\\\frac{1}{x}}=0$\", \"Prove that a function is bounded\", \"Calculus Electricity problem\", \"Can you solve for a value within a floor function?\", \"discovering the optimum 'spacing' formula?\", \"Arc Lengths of Sine Curve\", \"No real solution to logarithmic equation?\", \"Rate of Change of Cylindrical Roll's Volume as it Unrolls\", \"limit of $f$ and $f''$ exists implies limit of $f'$ is 0\", \"Show there is a closed interval $[a, b]$ such that the function $f(x) = |x|^{\\\\frac1{2}}$ is continuous but not Lipschitz on on $[a, b]$.\", \"gradient of function on unit circle\", \"Area of a circular segment.\", \"Without performing the integral to show\", \"Is the equation $\\\\log[A/(-B)]=\\\\log[(-A)/B]$ valid?\", \"How to prove $L_{f}(P) \\\\leq L_{f}(Q)$ when $Q$ and $P$ are partitions of $[a,b]$ and $Q \\\\supseteq P$\", \"How to show a function is identically equal to zero?\", \"Prove: the function series, $\\\\sum_{n=0}^{\\\\infty}\\\\frac{(-1)^{n-1}x^2}{(1+x^2)^n}$ uniformly converges\", \"Use the laws of Logarithms to express $\\\\log_3(\\\\sqrt{27}/9)$\", \"Find the derivative of an integral.\", \"calculus essay assistance\", \"Question about the variations\", \"Calculate the double integral $\\\\iint x + y\\\\; dxdy$ over the ellipse segment\", \"$\\\\int_0^x f(t)dt = [f(x)]^2$ and f is never 0\", \"solving this equation sinx-cosx=1/\\u221a2\", \"Calculating the number of times a digit is written when given two numbers\", \"Find parameter \\\"$a$\\\" given an implicit curve and a tangent\", \"How to differentiate this function?\", \"Algebra simplification question\", \"Can someone explain to me the thought process behind this proof for a linear equation?\", \"exponent y=x^a sequences.\", \"Dividing a picture into N number of equal parts\", \"Minimizing a functional definite integral\", \"Is this function bounded?\", \"Definite integral of trig function\", \"I want to prove the following limit $\\\\lim_{x\\\\rightarrow 0} \\\\frac{\\\\sin x}{x^{2}}=\\\\infty$ using the definition of limit.\", \"Need help with hydroponic ML to Gallon conversion\", \"If $x \\\\in (0,1)$ then how do you show the inequality $r > s > 0$ implies $x^r < x^s$?\", \"Calculate Hourly vacation accrual\", \"How to find how far something has traveled. trig help\", \"Simplifying a trigonometric equation\", \"Problem with spherical coordiantes\", \"How many positive values of $a$ are possible in $2^{3}\\\\le a\\\\lfloor a\\\\rfloor \\\\le 4^{2} + 1$\", \"If $ f(x) = \\\\sin x+\\\\lfloor \\\\frac{x^2}{a}\\\\rfloor $ be an odd function. Then the set of values of parameter $a$ is/are\", \"Precalculus word problem on rocket height\", \"$(1-\\\\frac{x}{n})^n\\\\lt \\\\exp(-x)$\", \"Find a number such that the sum of the number and its square will be as small as possible.\", \"Why is speed * travel duration = total distance?\", \"How to perform a double integration\", \"Is a ball a polyhedron?\", \"d/dx Notation Explanation please?\", \"Map range of values to another range, non-linearly\", \"How to calculate average of sine squared\", \"Complicated multivariable implicit differentiation problem\", \"Fractional Power Interpretation\", \"A nonlinear single variable equation\", \"question about logarithms\", \"Related Rates Galore!\", \"How does one solve $y^y-x^x=x$ for $x$ as a function of $y$?\", \"Properties of exponents with logarithims\", \"How to prove that $\\\\int_0^{\\\\pi} \\\\log(|\\\\sin t|)\\\\,\\\\textrm{dt} \\\\;\\\\;\\\\textrm{is integrable }$\", \"Show transformation is locally invertible\", \"using Integration by parts\", \"Solving $2x+8=6x-12$ by using the guess and check method\", \"prove that there is no supremum for mn/1+m+n\", \"Exponential growth and bacteria\", \"Integral of $re^{-r/a}$\", \"Why does $7^{2\\\\ln x}\\\\cdot \\\\ln(7) \\\\cdot (2/x)$ equal to $7^{2\\\\ln x}\\\\cdot \\\\ln(49) /x$?\", \"Solve$(log_{2}(x+1))^2=4$\", \"Find the points on the given curve where the tangent line is horizontal or vertical\", \"Can asymptotes be imaginary?\", \"Find the solution of the differential equation that satisfies the given initial condition\", \"Trouble factoring polynomial\", \"What is the graph of $r^{2} = 16\\\\cos\\\\left(2\\\\theta\\\\right)$ ?.\", \"simplifying $\\\\min(\\\\max(A,B),C) $\", \"Solve $\\\\cos x>1/2$ for $-180<x<180$\", \"Implicit Differentiation... the triple product rule?\", \"CORE 1, Expanding and Simplifying - HELP?\", \"Proof that $\\\\int_1^x \\\\frac{1}{t} dt$ is $\\\\ln(x)$\", \"How many days are there in 70 years?\", \"Related Rates and Angle of elevation\", \"Can't understand a reduction formula question\", \"Definition of linear approximation\", \"Factor $x^2+10x+21$\", \"How to calculate a reverse scale factor?\", \"Solve two equations\", \"Why is n^(1/m) no valid way to calculate a root\", \"if $a,b$ such $a^2+b^2+4=2a+ab+2b$,find $a^2b$\", \"Let $f(x)=a_0^2x^n+a_1x^{n-1}+a_2x^{n-2}+...........+a_n,\\\\,$ where $a_0,a_1,....,a_n \\\\in \\\\Bbb R$\", \"Is it possible to express addition as repeated multiplication?\", \"Extract time frames from days\", \"Why is x^(a/b) equivalent to the bth root of x raised to the a power?\", \"Simple algebra question\", \"The error in simple Taylor's Polynomial with gap between power\", \"Solving $\\\\sum_{\\\\alpha=1}^{\\\\mu}\\\\frac{1}{\\\\alpha!}\\\\Big(1-\\\\alpha(2 \\\\mu- \\\\alpha)\\\\Big(\\\\frac{M-2l}{2 \\\\mu^2 KM}\\\\Big)\\\\Big)^{\\\\lambda}$\", \"Find the value of $A$ and $B$ such that $P$ is a rational number\", \"Using Lagrange multipliers to find volume of a cone\", \"The volume is to be found\", \"Calculate $1*1+2*2+3*3+4*4+....+r*r$\", \"For what value of k, $x^{2} + 2(k-1)x + k+5$ has at least one positive root?\", \"Number to the exponent divided by exponent value\", \"Algebra Word Problem\", \"Trig identity problem from Gelfand's Trigonometry\", \"Concavity related question.\", \"Proof involving circumradius of triangle and Law of Sines\", \"Derivative of a multiple sum of matrix elements\", \"$\\\\int\\\\frac{\\\\sin\\\\left(x\\\\right)}{\\\\cos\\\\left(x\\\\right)}\\\\,\\\\mathrm{d}x$ by substitution\", \"Integrating 2(100+t)\", \"How to link definite integral $\\\\leftrightarrow$ Area under curve $\\\\leftrightarrow$ total displacement\", \"Calculate the derivative of $\\\\sqrt{1+\\\\cot^2(x)}$\", \"Long division differs from calculator\", \"Prove that $m^{2} + n^{2} = \\\\csc^{2}\\\\left(\\\\theta\\\\right)$\", \"I have a really dumb algebra question for you\", \"Good arguments to why a modified Dirichlet function has a derivative at some points\", \"Piecewise Continuity\", \"Solve simultaneous equations $2\\\\log(y) = \\\\log(2) + \\\\log(x)$ and $2^y = 4^x$\", \"Find a simplified form for $n!+(n-1)!+(n-2)!+(n-3)!+ \\\\dots +1!$ .\", \"Derivative of special function\", \"Word Problem - Finding a Function for Volume\", \"$\\\\lim\\\\limits_{x\\\\to\\\\infty } \\\\frac{\\\\ln x}{\\\\sqrt{x}\\\\,{\\\\sin{x}}}$\", \"Investments in M -HomeWork\", \"Calculate Danny allowances in 2010.\", \"Integration with respect to a parameter\", \"How do I solve for $t$ and $s$ in $y = x^{-t/s}$?\", \"remainder of stirling formula divergent?\", \"Determine whether $\\\\int _{1}^{\\\\infty}\\\\frac{x\\\\sin\\\\left(x\\\\right)}{\\\\sqrt{1+x^5}}\\\\,{\\\\rm d}x$ is convergent or divergent\", \"Find all pairs of positive whole numbers\", \"Consider the function, f and its second derivative:\", \"Differentiable only at $x=0$ and $f'(0)>0$\", \"Is any submanifold of $\\\\mathbb{R}^{n}$ the zero set of some polynomial?\", \"How to solve $\\\\sqrt{3}x-\\\\cos 2x=0$ for sketching the graph of $y=\\\\sqrt{3}x-\\\\cos 2x$?\", \"Derivative inside integral of a translated function\", \"$\\\\prod \\\\cos(x2^{-k})$\", \"Operations for operands with powers of different bases\", \"Parallelogram inside of a quadrilateral.\", \"Find the value of $\\\\sin(x + y)$\", \"How much above the cost price must he marks his goods above the cost price to make a profit of 17%\", \"How can I find the derivative $ \\\\operatorname{sech}^2(e^x)$?\", \"To find the arc length\", \"evaluating trig without a calculator\", \"Derivative of a fraction with respect to another\", \"Evaluate $\\\\int_0^\\\\infty e^{-b\\\\left(\\\\frac{r^2}{a^2}+1\\\\right)^\\\\frac{-\\\\gamma}{2}}\\\\left (\\\\frac{r^2}{a^2}+1\\\\right)^\\\\frac{-\\\\gamma}{2} r^2 dr $\", \"A problem of Logarithm\", \"How would you find $\\\\tan(3\\\\cdot\\\\arctan(x))$?\", \"Find the formula\", \"Simple equation, but I don't get it\", \"Trigonometry - Bearings\", \"Solve $\\\\sqrt{3}\\\\cos2\\\\theta+\\\\sin2\\\\theta-1=0$\", \"Olympiad Algebra Problem\", \"Light bulb decimal question\", \"Why do we have a symbol for root of -1, but none for divide by zero?\", \"Rate of flow Question\", \"Velocity word problem\", \"How do you differentiate a function with respect to the negative of its variable?\", \"Solving A Second Order Ordinary Differential Equation\", \"How to calculate extreme values for functions with three variables using derivatives?\", \"Find limit of function as $x$ approaches $ 0$\", \"Show $ a\\u00b7b = |a| \\u00d7 |b| \\\\cos(\\\\theta)$ geometrically and by using no algebraic arguments at all\", \"Salary paid a week early - does that mean I get less of my annual salary?\", \"Series Problems\", \"Is it possible to have a fraction wherein the numerator and denominator are also fractions?\", \"Solving log equation\", \"Determing the order when moving to the other side of the equation.\", \"How do you solve this using only given values, logarithm rules and no calculator?\", \"Absolute value => Directly integrable, separable and/or linear?\", \"Lopsided percentages\", \"An exercise from 'Giaquinta,Modica,Mathematical Analysis,2'\", \"Euler's theorem regarding Homogenous Functions\", \"prove that $\\\\displaystyle\\\\lim_{x\\\\rightarrow 1}\\\\frac{x^{1/m}-1}{x^{1/n}-1}=\\\\frac{n}{m}$\", \"Show that these are equivalent $x-\\\\ln|1+e^x| = -\\\\ln|e^{-x}+1|$\", \"a question on definite integral $\\\\int\\\\limits_0^t e^{\\\\alpha t}\\\\sin(\\\\omega t)\\\\,\\\\mathrm dt$\", \"Example of function that is differentiable at $0$, and has inverse function that is not continuous at $0$?\"], \"type\": \"htmltooltip\", \"id\": \"el959585414734032pts\", \"hoffset\": 10}, {\"type\": \"toptoolbar\"}, {\"voffset\": 10, \"labels\": [\"Solve equations $\\\\sqrt{t +9} - \\\\sqrt{t} = 1$\", \"Formula for perimeter of a figure formed by cutting 4 inscribed congruent figures.\", \"If $y^y=x$, can $y$ be expressed as a function of $x$?\", \"Proof of identity $\\\\sqrt {xy} = \\\\sqrt x \\\\sqrt y$ for $x,y \\\\in \\\\mathbb R^+$\", \"Simplifying the expression\", \"How to justify the rule for the product of square roots of real numbers?\", \"How do I simplify $\\\\frac{\\\\sqrt{1-x} + \\\\frac{1}{\\\\sqrt{1+x}}}{1 + \\\\frac{1}{\\\\sqrt{1-x}}}$?\", \"How are $\\\\pi/4$ and $3\\\\pi/4$ solutions to $\\\\sec^2 \\\\theta -2 = 0$?\", \"How can $\\\\frac12 \\\\log(x) = \\\\log(\\\\sqrt{x})$?\", \"absolute and Cubic System of equations of $3$ variables\", \"Inspecting the function $f(x)=-x\\\\sqrt{1-x^2}$\", \"Derivative of the Square Root of a Logarithm\", \"How to approach, substitution - definite integral\", \"Simplify $\\\\frac{1-\\\\sqrt{x+1}}{1+\\\\sqrt{x+1}}$.\", \"How to simplify $\\\\frac{\\\\sqrt{4+h}-2}{h}$\", \"Prove Minimum values\", \"Limit with square root\", \"$f(x,y) = \\\\sqrt{x^2+(y-1)^2}+\\\\sqrt{(x-3)^2+(y-4)^2}-\\\\sqrt{x^2+y^2}-\\\\sqrt{(x-1)^2+y^2}\\\\;\\\\;,x,y\\\\in \\\\mathbb{R}$.\", \"About the Magnitude of a variable\", \"Write this surd in its simplest form.\", \"Finding the inverse function.\", \"Derivative of $f(x)=\\\\frac{7x^3+3x+30}{\\\\sqrt{x}}$\", \"Help finding trig values with the given information\", \"$\\\\lim\\\\limits_{x\\\\to\\\\infty} \\\\frac{\\\\sqrt{(4x +3) +2\\\\sqrt{1+ x}}}{\\\\sqrt x}$ without L'H\\u00f4pital's rule\", \"$\\\\int_0^{2\\\\pi} \\\\sqrt{1-\\\\cos(x)}\\\\,dx = 4\\\\sqrt{2}$. Why?\", \"Solve $\\\\int{\\\\frac{x-1}{x\\\\sqrt{3x^2-4}}}\\\\;dx$\", \"What is the limit of $\\\\lim_{x\\\\to -\\\\infty}\\\\frac{\\\\sqrt{x^2}}{x}$?\", \"Operations with surds (Pre-calculus)\", \"Simplify this expression with nested radical signs\", \"Square Root in inequalities\", \"Find the value of $\\\\sqrt{i+\\\\sqrt{\\\\frac12i+\\\\sqrt{\\\\frac13i+\\\\dots}}}$\", \"Roots equal constant\", \"Solving a trigonometric function\", \"How to show that alle graphs share a point\", \"How do we solve the equation?\", \"Rationalize Below Equation\", \"Evaluting $\\\\tan15\\u00b0$ using difference formula\", \"How do I solve an equation with three terms, with the unknown inside a square root, inside a third root, in two of them?\", \"Differentiation using first principles with rational powers\", \"Help with logarithmic differentiation problems\", \"Set up an integral for the length of the curve.\", \"How to find an analytic solution to $\\\\lim_{x \\\\to +\\\\infty} \\\\frac{x+\\\\sin(x^2)}{\\\\sqrt{x^2+1}}$\", \"solving $\\\\sqrt{3-\\\\sqrt{3+x}}=x$.\", \"Are my derivatives correct? my answer is different from my books.\", \"How do you Compute a Squareroot limit?\", \"Trigonometric equations with cosec\", \"Solving $\\\\sqrt{x+2}+\\\\sqrt{x-3}=\\\\sqrt{3x+4}$\", \"if $ -3\\\\left(x-\\\\lfloor x \\\\rfloor \\\\right)^2+2(x-\\\\lfloor x \\\\rfloor )+a^2=0$.has no integral solution, then $a$ is\", \"Find the derivative of the function\", \"How is the plus-minus sign used for solving exponential and radical equations?\", \"Solving $\\\\sqrt{(x-2)^2 + (y-1)^2} = \\\\sqrt 2$\", \"Differentiate $5(\\\\sqrt{x})(x^3\\u22125\\\\sqrt{x}+5)$\", \"Closed form solution?\", \"Max value of half circle\", \"Solve: $\\\\int_{2}^{3}\\\\ \\\\left(\\\\sqrt {2x -\\\\sqrt{5\\\\left(4x-5\\\\right)}}+\\\\sqrt {2x +\\\\sqrt{5\\\\left(4x-5\\\\right)}}\\\\right)dx $\", \"Differentiating function with radicals\", \"Solving for a variable with square roots in equation\", \"Finding equation of the tangent line\", \"How do you solve this radical equation $\\\\sqrt{2x+5} + 2\\\\sqrt{x+6} = 5$?\", \"Orthonormal Functions\", \"Adding square roots\", \"Trig substitution; why can we ignore the absolute value?\", \"How does one simplify the expression $\\\\sqrt[3]{2 \\\\sqrt{2}}\\\\left(\\\\sqrt{2-\\\\sqrt{3}}+\\\\sqrt{2+\\\\sqrt{3}}\\\\right)$\", \"What is the farthest distance a vertice of the smaller square could be from a vertice of the big square?\"], \"type\": \"htmltooltip\", \"id\": \"el959585418505360pts\", \"hoffset\": 10}, {\"type\": \"toptoolbar\"}, {\"voffset\": 10, \"labels\": [\"compare slopes of two line\", \"Coordinates of Intersection of two circles\", \"Equation of a tangent line: $f(x)=(x-4)(x^2-5)$, at $(2,2)$\", \"Calc 1: story problems using maximums and minumums\", \"Do these three lines intersect the same point, and if so, where?\", \"How can I calculate the angle of a slice of an ellipse?\", \"finding a tangent vector\", \"How to construct a perfect cube in two point perspective\", \"Find the area of the smallest tangential trapezoid?\", \"Angle between two vectors, where am I wrong?\", \"How to find a center/axis of rotation?\", \"How to find the area of a segment of an ellipse\", \"How to get a parabola from 2 points and a slope\", \"Find an equation of the plane\", \"Integration ( Area of a shaded region )\", \"Find connected components of a a set Y\", \"9th grade trig question\", \"Equation for the family of lines that passes through $3y-5x-10=0$ and $3y-\\\\frac{x}{3}-\\\\frac{5}{3}=0$\", \"How to calculate the total number of possible triangles where the perimeter is given, and all sides are integers?\", \"Prove that these two angles are equal\", \"Simplifying a trigonom. expression\", \"What creates a unique quaternion?\", \"Finding the MidPoint of a Right Angle triangle\", \"Triangles in the Gauss Plane\", \"Algebra - Find the equation of the line perpendicular to 3x+2y-4=0 going through point (2,-3)\", \"Tetrahedron- Inscribed Sphere\", \"Find the equation of a parabola which passes through the points $(5,10),(\\u22125,0),(9,\\u22126)$?\", \"What's the diameter of a circle suppose to be if\", \"Find a the value of a point on the tangent line\", \"Very simple problem for my daughter but we, adults, find 2 different answers\", \"find equation of tangent line to y=1/x^2 at point where x=-1\", \"quasi concave function and convex set => unique maximum\", \"Similar angle problem\", \"Does $f'(0)$ exist?\", \"Finding a point in a parallelogram\", \"If $x=a$ is not an inflection point and $f''(a)=0$, is $f(a)$ a local extremum?\", \"Prove that Honeycomb Structures are the Most Geometrically Efficient Structure\", \"How do I calculate the distance between 2 unmeasured points in a cloud?\", \"What is the relationship between geometric center and geometric mean?\", \"Geometry problem without using trigonometry or similar triangles.\", \"acute triangle and internal point\", \"Trigonometry: Height of a Tree\", \"How do I find $x$ for a parabola such that the arc length is equal to\", \"How to find the distance using dot product from point $A$ to the line through $B$ and $C$?\", \"Board Cuts for Platter\", \"Finding the angle of a sector\", \"Area of a square inscribed in a triangle?\", \"how to apply implicit function in derivatives\", \"Difficult elementary triangle problem\", \"Finding minimum value of a function of two variables\", \"Application of pythagoras theorems (circles on sides of a right triangle)\", \"Find angle inside of isosceles triangle\", \"How to solve when the unknown is given?\", \"Dealing with Coordinates and curves\", \"tangent line parallel to vector\", \"How to apply the law of sines in a non right triangle?\", \"Determine the central angle theta\", \"how many lines can be drawn from a point in space with n degrees of freedom?\", \"Software for solving geometry problems symbolically\", \"How to draw this particular rectangle?\", \"Finding two sides of a triangle\", \"Parallels in the planes: Differences between horizontal and vertical\", \"angle of rotation and axis of rotation of 3x3 matrix\", \"flaw in law of cosines usage\", \"Almost identical map\", \"Incircle in triangle\", \"Predicate for intersection of polygons\", \"Construction of the equation from a given graph\", \"Calculate the height of a distant object using estimated angles from two different points.\", \"How did Archimedes find the surface area of a sphere?\", \"Find the intersection points of the line L with the three coordinate planes Oxy, Oyz, and Ozx\", \"Use Stoke's theorem to calculate the surface integral\", \"How to find the sum of maximum and minimum area of a triangle within a rectangle?\", \"Steepest tangent vector to an explicit surface\", \"condition required for a quadrilateral $ABCD$ such that every point inside $ABCD$ satisfies $PA^2+PC^2 = PB^2+PD^2$\", \"Common Triangle\", \"Can I cut a lamington into 3 congruent pieces having equal icing?\", \"Find the intersection of two parametric equations at one point\", \"Angles of a Triangle\", \"Is the set of lines through the origin equals to $\\\\mathbb{R}^2$?\", \"Implicit Differentiation and Tangent Lines\", \"the intersection of n disks/circles\", \"finding solutions by using the discriminant\", \"Would like some pointers on this geometry problem\", \"Triple Angle Condition\", \"Simplest way to calculate the intersect area of two rectangles\", \"Surface bounded by a cylinder and two planes\", \"Is this property of parabola true?\", \"Finding the angle\", \"How many such squares can be formed?\", \"What is a Solid Angle?\", \"Forming a ring with equilateral triangle of the same size\", \"Intersection between a sphere and a plane\", \"Show that $x$ and $y$ satisfy the equation $y = x^2$ if $(x, y)$ is equidistant from $y = -1/4$ and $(0, 1/4)$\", \"Intersection of a disc with an axis-aligned cube\", \"In a similar triangle, if the property is SAS the the other two property automatically becomes true?\", \"Product and Quotient rules in Calculus\", \"Implicit Differentiation to find equation if the tangent line to a curve\", \"Does the normal line exist at $x=2$ given a parabola $f(x)=x^2-4x+3$?\", \"Maximize and Minimize a 12\\\" piece of wire into a square and circle\", \"Intersection of line with elliptic curve\", \"Rotate a 2D function\", \"How to calculate the angle made by 3 coordinates without using cosine rule\", \"Find the area of the convex quadrilateral\", \"Generalized Mass Points\", \"\\\"The intersection of a plane with a right circular cylinder could be which of the following?\\\"\", \"Why integrate using dy instead of dx using shell method?\", \"Quadrilateral Top Point\", \"Find points on a triangle\", \"How does the graph shows horizontal tangency,but how?\", \"Linear and circular distance to horizon\", \"Finding the 3D coordinates of an unknown point from three known points\", \"Find tangent line to graph by computing a limit\", \"How to prove: $S=\\\\frac{4}{3}\\\\sqrt{ m(m-m_a)(m-m_b)(m-m_c)}$\", \"What is the locus of vertices of isosceles triangles with a given base?\", \"How to find the length of a right triangle?\", \"How to get to linear form?\", \"Geometry Problem on medians\", \"Isn't this definition of an isosceles trapezoid slightly redundant?\", \"solving 3D trigonometry\", \"Maximum area / perimeter ratio\", \"Area of intersection between line and circle?\", \"Find the Angle ( as Measured in Counter Clock Wise Direction) Between Two Edges\", \"Finite points from graph of the following equations?\", \"Condition for a quadrilateral to be tangential\", \"Finding Length Of Segment\", \"Give $3$ coterminal angles\", \"How find the maximum possible length of OC, where ABCD is a square, and AD is the chord of the circle?\", \"Determine a regular hexagon given points\", \"Critical points for undefined fraction on closed interval\", \"A point $(x,y)$ moves so that its distance from the line...\", \"Standard form of the equation of a circle involving two points.\", \"Rotate around a horizontal line\", \"Calculate point on hypotenuse of right-angled triangle\", \"[Geometry]Prove that $AZ = 2ZC$\", \"Check whether a point is within a 3D Triangle\", \"The $y$ coordinate when rotating around the $x$-axis.\", \"Finding Speed at a Single Point\", \"Find equation of the tangent line, given a point at which the function is undefined?\", \"Square-To what should $x$ be equal?\", \"diamond circumscribes a circle\", \"Find the value of $a>1$ such that the curve $y=a^x$ meets the line $y=x$ once and only once.\", \"Stationary points of a function\", \"Generalized Heron's formula for n-dimensional \\\"n-angle\\\" instead of \\\"triangle\\\"\", \"How prove this $|ON|\\\\le \\\\sqrt{a^2+b^2}$\", \"Regular polygon determined by three vertices\", \"Calculus Vector Question\"], \"type\": \"htmltooltip\", \"id\": \"el959585408126160pts\", \"hoffset\": 10}, {\"type\": \"toptoolbar\"}], \"data\": {\"data06\": [[0.031212664277180398, 0.2256571087216249, 0.18085424133811237, 0.1360513739545998, 0.09124850657108728, 0.046445639187574696]], \"data07\": [[0.008213859020310632, 0.016427718040621292], [0.360175384557945, 0.016427718040621292], [0.360175384557945, 0.2502986857825568], [0.008213859020310632, 0.2502986857825568]], \"data04\": [[-0.48810275541968323, -0.10538283752472935], [-0.526705855124262, -0.5431862425707211], [-0.39031054941116244, -0.3322523289957465], [-0.39615151985384556, -0.2774689982630765], [0.37214461933016446, -0.41360178559637845], [-0.38100228620494075, 0.4181428787054151], [-0.33459084830973584, -0.229816615179357], [-0.4571805272699887, -0.05916116028923408], [-0.5167324271692431, -0.48079687920579356], [0.1859619324933247, -0.5612170608081818], [-0.22644263330228764, -0.2063624511095321], [-0.6029502536157973, 0.04844511995861488], [-0.5964485558320608, 0.3069322398635609], [-0.32619721930003637, -0.5384985645481178], [-0.18825696455025787, -0.4242302711878834], [-0.201353709965961, -0.49649646833235306], [0.31327674851022574, -0.5653435105990526], [0.47896214709956475, -0.18121489890455525], [0.6280021342182275, 0.10890729970892551], [-0.5564190298231211, -0.23793937009348434], [0.09694113615113342, -0.4415296424210905], [0.25639894477717856, 0.4031274467120443], [-0.2026056258129301, 0.335144285734071], [-0.09541639370205547, 0.5156652109584676], [-0.12745343650283641, 0.10799151764755084], [-0.2102830544298811, -0.12724722436129732], [-0.48813966434946865, -0.3785850476002692], [0.20461429311006632, 0.12998950667029868], [-0.39201529974337884, -0.24535957657970645], [-0.5173763952646612, 0.258730983713211], [-0.3401309422505665, 0.5770087869745183], [-0.6500794442170676, 0.028161792094328675], [-0.4526347630352065, 0.2682677646774], [-0.37795762965574564, -0.043358136480193626], [0.2642553528274249, 0.30204438201039174], [-0.48317442854371195, -0.17231238264501078], [-0.22196432508812436, -0.24839691260822017], [-0.6695540423174298, -0.0872663105937689], [0.2964667585026629, -0.12984684889592832], [0.3206338625249749, -0.2510932708622615], [-0.6474154246708396, 0.14913146122408918], [-0.28875028318313467, -0.2480797588389106], [-0.334080933028821, -0.5242533481042624], [-0.19211484602999918, 0.5920149152426962], [-0.4405424776788592, -0.41235830884777136], [-0.12316276767876057, 0.08944120522045164], [0.3141249361139134, 0.048851685110648135], [-0.07284661461491432, -0.5756724095255831], [-0.47708916352530734, 0.25439444604742256], [-0.6459860519743083, -0.25850067811191324], [-0.37113669190947135, -0.5246134579116294], [-0.31989788584435896, -0.2033427868336956], [0.25332087087948907, -0.08516166366565464], [0.08489359465628828, -0.5795634398938376], [-0.37696694589098, -0.37915044130029196], [-0.31567678454771064, -0.10932264036846553], [-0.2249219904366887, -0.26022739085169677], [-0.623035631176021, 0.44351690407567507], [0.49940439415044857, 0.06517475551042626], [-0.19492029565413077, 0.09745804402760055], [0.2707714819345035, 0.36319916637572497], [-0.2555242572253583, 0.2719363896014579], [-0.5130648915999173, -0.000656963836787], [-0.7176027804553937, 0.23710611791816313]], \"data05\": [[0.7039114445745522, -0.16974774038470275], [-0.22271980632155147, 0.6457306883129919], [0.6969349141448524, 0.21033158265245586], [-0.4512763109168459, 0.5194699713932495], [-0.3087973612487063, -0.6129131787752137], [0.5767257765381145, 0.49912810673923763], [-0.7203423878745756, -0.19055936202002718], [-0.6325225312507942, -0.38724433889709137], [-0.6801224261811217, 0.3753827398165824], [-0.5892765389529454, 0.44769131863422273], [0.45242173405273184, -0.5728758365383706], [0.7047319986606104, -0.3036212240786214], [-0.1423803556735558, 0.7713959936194986], [0.16632218025647508, -0.6992968049745427], [0.26367513469310666, 0.5221048102762843], [0.4933496621333483, 0.5150089839381732], [0.6223979727829695, -0.3951595793554278], [-0.08937708034123613, -0.7291913570958362], [0.7100409000765433, 0.2810984130705463], [0.39416540283697565, 0.6127734987162325], [0.21652810751669221, 0.6410352338000428], [-0.12944738846880735, -0.7375354119032717], [0.2570828474557739, 0.474144729144197], [-0.748072093808972, 0.1774868708527205], [-0.671599570519992, -0.009195115468745229], [-0.6766396743382236, -0.41515740588017824], [-0.6230182355063301, 0.42788808835256026], [-0.541564151938485, 0.5419435031165732], [0.3180635643676583, -0.5535996597320173], [-0.6566351196369669, 0.25128863648854716], [0.45837854245112797, 0.04954640274236978], [-0.44033989993875966, 0.6405030353693038], [0.6578773003685825, 0.30333781307406493], [-0.3272416839636816, 0.3009589314863178], [0.335003995817591, -0.6985132327713446], [0.34509115722009187, -0.662680946299771], [-0.6883378589156727, 0.26334578366705375], [-0.7279526357007491, 0.08926412606821194], [0.5807315419465867, -0.5465337642216777], [-0.39715194442279717, 0.5399602662938963], [-0.40581791621287716, -0.17188894405675512], [-0.6548549770082819, -0.45267372331918826], [0.29374419780552147, -0.7278688166769316], [0.43263877307844634, 0.5541996284684617], [-0.7965315093687814, 0.10762043248046692], [0.6301837067270523, 0.4259241838671862], [0.4828753836047261, 0.42074684323141776], [0.582362815244249, 0.5194909573190271], [-0.29863965399271564, -0.6616304172526474], [0.6768621220958436, 0.10743794617516145], [-0.7463892819728724, 0.1500206890593889], [0.5190095561780372, 0.5623304939837453], [0.7360281225572688, 0.07658421044716497], [0.5016033141058294, -0.40303455581628245], [0.12254189640939085, -0.6095338417320142], [0.6312576989800694, -0.17865496107624046], [-0.6834577327363249, 0.4070741561686414], [0.4954684083106724, -0.09170028808421142], [0.2662636444254574, 0.6826090054574959], [-0.48377270317371823, -0.6112590234000683], [0.16827724941302777, 0.6641783239746355], [-0.11086139752600806, -0.7859367579751234], [0.3754587391110646, -0.6693770632067843], [-0.29681611938219016, 0.530606493964382], [0.7666060215205056, 0.006378659578447938], [-0.42334839039255434, -0.5737650310195677], [0.44783908946098283, 0.622338180104985], [-0.1905804145779325, 0.4445770232634214], [-0.7181860571176212, 0.043079222215081085], [0.737052250718978, -0.08879023313130183], [-0.33692901350821447, 0.637434350765625], [0.38699591135646244, 0.6359884336890705], [-0.6692258691929774, 0.23432246612274835], [0.569692526517602, 0.2886233996021121], [0.6508975873319304, 0.4001824125223796], [0.6904500580489579, 0.33475423246749314], [0.2365773233217462, 0.7547771890010783], [-0.4076801097315785, -0.6200792851446874], [0.6737230188850444, 0.20409141798965855], [-0.32206312763332645, 0.49405512072677094], [-0.1296690217794527, -0.7270922670304281], [0.2482568985492113, 0.7238423505763135], [0.2857746144871449, 0.7322092523650948], [-0.23449040729021992, 0.4247959189819012], [0.6790389748324202, 0.19637061701146122], [-0.0379689236428659, -0.5922707261345127], [-0.39405150818635315, 0.6640403161843385], [-0.566086483784271, -0.49662515054097395], [-0.6113804898789978, -0.4678723512216308], [-0.5440271251799472, -0.4990377560727023], [-0.37761024264219334, 0.6978003537730015], [0.2188984885550259, 0.654964244052062], [0.5724643503000116, -0.48205862494670776], [0.37817618406987935, 0.5337559111202669], [0.2019420578067334, -0.739252046433586], [0.31024184286954104, -0.6854883004120139], [-0.42773748281146495, 0.5847899015488942], [-0.26675146630940566, -0.562233875463578], [-0.44573365788064806, 0.5446119119697556], [0.4138328008673909, -0.32835522822198654], [0.021724408207053177, 0.7537023444939673], [-0.6137410985297953, -0.4628865621697942], [-0.1543583405564286, 0.3990757101621329], [0.2591535504658894, 0.3746196036185336], [0.5003350417030269, 0.5868413864227021], [-0.38067206784219915, -0.692338373846287], [0.612941791447375, 0.5099946016502898], [0.1372631661427483, 0.2838836521270862], [0.5105678614068621, 0.5199966799483153], [0.6379664117996477, 0.34191510277564413], [-0.5125997439252108, -0.47217749485444266], [-0.7036628816643353, 0.2997620108922344], [-0.31402336651241153, -0.6823596969435176], [-0.3036100650865574, -0.6871953985093392], [0.134462820103091, -0.7707670601060018], [-0.7494197129769028, 0.052417957656549975], [-0.6994717878138097, -0.18756487369916158], [0.11859259231852075, 0.7891022265064502], [-0.3394644133116327, 0.5518165813403968], [0.5033336700181178, -0.6070694256053834], [-0.6783986387991617, -0.0940787412764546], [-0.5489759633390501, 0.4717372158293518], [0.04402656438500719, 0.684322532572785], [0.5936100027537934, 0.3145289445511443], [0.5911226385521559, -0.4698727209140259], [0.19348803909149906, 0.7429134014502378], [-0.64362215651373, 0.4635334731649617], [0.7459135364874464, -0.1463851583980634], [-0.5168468664655069, 0.507266177454313], [0.3159530319529217, -0.4039685903326893], [0.5981265697320796, 0.148017735267258], [-0.47480242631083147, -0.2872808237196497], [0.7755558808449786, 0.07135049500171498], [-0.5193799224941227, -0.5873729216736976], [0.6050070788638248, 0.4529381911694851], [-0.27437814207292643, -0.7096641682339119], [0.5036207235488914, 0.03710869175955399], [-0.6554009817824136, 0.19622005255162386], [0.3560256304072942, 0.49040681778626116], [-0.10526817274296148, -0.5103668587720067], [-0.7686670705934917, 0.016297855844812914], [0.2799595076668361, -0.7355905081344509], [-0.7386013112698339, -0.30816790291791757], [0.5834401717623879, 0.4618512042873319], [-0.5899893004572307, 0.1997828276922248], [-0.20712423314720896, -0.7608454219602293], [-0.5325844643548152, 0.15523570732242514]], \"data02\": [[0.020468288553787135, 0.5622083202138032], [0.15988727650510812, 0.33862356741133803], [0.0919529357060706, 0.6356331766378072], [0.6437171433638196, 0.3805710476184124], [0.13573368963823207, 0.6425321810247524], [-0.03404015857660939, 0.369523271571711], [0.19877446065991838, 0.6053128555525799], [-0.2669389006655125, 0.40152219328213506], [-0.2836620037078639, 0.5478508815640603], [0.05095926364574067, 0.35945233484858874], [0.026955018396896294, 0.3375892171522645], [0.1592191667355046, 0.19316731567250078], [0.14473542164484166, 0.44714165358143365], [-0.39346024780797195, 0.2600513533774746], [-0.09664788300878828, 0.35484586147145664], [-0.37265236896253473, 0.5152400520799078], [-0.12248436358981171, 0.6678161025460776], [-0.09189722738164735, 0.5325997925479506], [-0.4099929923282383, -0.5558811081735031], [-0.03323424961705231, 0.5543181195782138], [0.6333204258971793, -0.058353324929268785], [0.07128394560962022, -0.3813333811573962], [-0.01359837692832617, 0.4836528390301068], [0.06720684408324006, 0.1667617345924264], [0.05158238747231832, 0.739198678075469], [0.4392536898854215, 0.24104615960855277], [0.05369057850930309, 0.6091593304065416], [0.2908915962334544, 0.48996247990512304], [0.3408697040546773, 0.2911769718876204], [0.195301651834214, 0.21444273486495824], [-0.08327803276518936, 0.05540546406185022], [-0.0027899573891217947, 0.3442542566950388], [-0.32268496171580285, 0.17638996621262243], [0.070732887249437, 0.13599562348117253], [0.08700157602061478, 0.4133446990973795], [-0.49829316308777827, -0.587584508602997], [0.2512247579708373, -0.0767570527853406], [-0.2052307776260399, -0.6431024029606472], [-0.19499609110614838, 0.23866940981368717], [0.17519410163587398, 0.5334692079642723], [0.21766792214807917, 0.5478417930404198], [0.07340554979830081, 0.2808951557797489], [-0.036489360812505145, 0.436458397748311], [0.5798377170293669, 0.479924879239835], [0.13198343533740597, 0.46633302870575655], [0.15681206459583863, 0.6156917263258843], [0.036667583149352416, -0.04076313036897119], [0.35644376684454376, 0.40832460298390305], [0.2237904020698019, 0.5761931241425877], [0.35233358001704923, -0.4971818366191561], [-0.06556806257926638, 0.2048859562946959], [0.08330016156491302, 0.23091064096010933], [0.006412753526528463, 0.7583742046670638], [-0.3669771813392636, 0.5751788531912113], [-0.13945885771161382, 0.51657350887906], [0.24151100385956867, 0.7164363620781594], [0.18619874891237775, 0.3167568904924973], [0.015913842071538474, -0.024874536431543224], [0.2521213117333129, 0.5052842477066661], [0.031102101985810152, 0.2530459164011007], [-0.059349276558443916, 0.5635318163289091], [0.07833826534980783, 0.5063021371765889], [-0.15136173368120312, 0.3276734303052683], [-0.12920438409731744, -0.4532114297493992], [0.0646480686488344, 0.4914216783134552], [-0.018631823156454366, 0.3911263512393337], [0.2920258011126088, 0.36130829946309545], [-0.5315746520049733, 0.5389087012594957], [0.2239611182468027, 0.20603235182435847], [0.19020983449717982, 0.5828751316037873], [0.004925296744000381, 0.4444201729646183], [0.0775320601950393, 0.2698923214412838], [0.4093857771036997, 0.3846446601860915], [-0.06000922185021591, 0.19723536974839972], [-0.030071393059119347, 0.5867063751883045], [0.05593448491271499, 0.39865214309569885], [-0.32409974887068965, -0.255882598067168], [-0.04508549458282056, 0.2563001421340435], [0.011821829242307383, 0.3765808623367696], [0.13762792799201878, -0.6912416227436742], [0.42102542878336174, 0.033313773312321805], [0.25994846255882786, 0.6522761859589621], [0.33318708042791123, 0.4275888966569349], [-0.13775308054080324, 0.5142809448816633], [0.05060533429244058, 0.4805513957112766], [0.0716538661754303, 0.5787864659034363], [0.16838718425655497, 0.6877584039581074]], \"data03\": [[0.6713851494478756, 0.20902497808442913], [0.7391662977255314, 0.30974960287910147], [-0.17247714647970894, 0.7594106715896541], [0.19623773668177652, -0.4104193387899268], [0.4751640156024675, 0.02882768641951659], [0.6519816094030572, -0.28398188167644545], [0.34762212944289433, -0.3531677602189578], [0.539614803008408, -0.09073523020985233], [-0.5791021684845807, 0.5523618477148879], [0.7937470641729938, -0.1272491421663961], [-0.6124451970825895, -0.33958538267923105], [0.5770468521474879, 0.5298862058744169], [0.2101602793979981, 0.6795435102093307], [0.3436600817705955, 0.5053469294971138], [-0.7730670098329123, 0.2122318673112158], [0.6238120487662164, 0.40077935598603487], [0.434129583400342, 0.6450387646482684], [0.5606121442734502, -0.39534239855852843], [0.2591886070126128, -0.6941384824945396], [0.2430325910469253, -0.7313214114386812], [0.4017009431081246, 0.28714731081932876], [0.12205007083340584, 0.7157020231902606], [0.7794462712459604, 0.1228682637348973], [0.7017156471275565, -0.35224621257889394], [0.008003849966409887, -0.6110377422419289], [-0.7466709974843955, 0.2649215138404344], [0.6079739740172642, -0.46384299829673203], [-0.5714706200579067, 0.4521600382878802], [0.23810773671279659, -0.6822899417981899], [-0.4729561744559862, 0.6061754403134157], [0.32287203035247686, 0.04200936990216103], [0.4813366096999946, 0.5230476827334168], [0.4309507269289328, -0.12136691071304784], [-0.71991978155633, -0.264172829491858], [-0.22663227288315899, -0.7027675174709419], [-0.7015912766375121, 0.16679392964907372], [0.7888905752002954, -0.06506153641483292], [-0.7624054273273216, 0.13313520858512654], [0.7651193449789505, 0.2283406150041523], [0.6441283980971941, -0.25001482341413794], [0.5968444784002126, 0.4805204137779656], [0.2567712768595407, -0.557023229491996], [-0.7391454728016832, 0.20029617775246275], [-0.36259678325771383, -0.061891757950868424], [0.09358422107456768, -0.7174641399267158], [0.7999868208517548, 0.04902379646281006], [0.7265825856417527, -0.06179377340358543], [-0.606086248030326, 0.15344808909036214], [-0.49099121269902274, -0.6280396417051384], [0.4818159864743182, 0.6158780091332254], [-0.6100340288486046, -0.16254829797924977], [-0.24153707974297622, 0.7350891928174088], [0.05750387342050905, -0.6775949588182871], [-0.7887389571284498, -0.05953473169019101], [0.4371812012493881, 0.05208813925991317], [-0.7490577341087418, 0.07791812081454542], [0.39318712127687094, -0.1100545614638929], [0.479633319770632, -0.3603397132239581], [0.33621030901463866, 0.41619559283486524], [-0.08258364008908031, 0.6768712722892122], [0.542661428492409, -0.42412979107317617], [0.48241661811354475, 0.5909242270089612], [-0.2634852886832553, -0.7003419654273361], [-0.0003402842490284861, -0.41751256890764493], [-0.522409093722036, 0.4957361663560114], [-0.7589711415702171, 0.0943318165248781], [-0.7890224615831468, -0.012342829430812108], [0.21774485814445263, -0.3037962484481777], [-0.5848310516224208, 0.28199780917944467], [-0.48325271869649844, -0.6494925182077356], [-0.6817376381116327, 0.1698800699713999], [-0.7466033719714159, -0.17238993945538986], [0.517546552158156, 0.5703320152369438], [0.5816898078039108, -0.5589290764446189], [0.7498211594040555, 0.1951829563333787], [0.5006685997234277, -0.48799699706547867], [-0.6682034061323453, -0.3715415462070395], [0.4703792823800849, 0.5999220320533885], [0.4172906204337041, -0.39423117676449393], [0.727103259019165, -0.16332767591338737], [-0.47377108877134044, 0.07457507319667836], [0.7115802601429974, -0.10358428176331963], [-0.23208813872033984, -0.7586624136318918], [-0.7844788802252249, 0.06481535527422058], [-0.6028661484590911, 0.3854123455075517], [0.7465580277639705, 0.03690125443402125], [0.40931714990878787, -0.2698950212929168], [-0.3646354873228255, -0.6912962052988293], [0.4862724874014734, 0.44377686884548284], [0.08125117100853844, -0.6804838293826794], [0.5516922203726055, 0.2080565157761077], [0.4556405879500004, 0.13259867504439962], [-0.14997934607336955, 0.6440374686264511], [-0.3561123175831875, -0.7325743163307328], [-0.6915646714609157, -0.24891333533432053], [-0.3052724768833078, 0.6463192302374732], [0.1999056598285711, -0.7341043898424902], [-0.010539571368853458, 0.7095615744678262], [0.5074385116464739, -0.6146911900950035], [-0.6017934615161685, 0.39626871065311586], [-0.248408745355465, 0.7404459988341932], [-0.7329614835056056, 0.19200043708548242], [0.5935562924022147, 0.29832733881719603], [0.18105030267227215, 0.5627394565275087], [-0.6872336543405928, -0.0033819239596554525], [0.6175112695633183, 0.07732592175775434], [0.36256778305238613, 0.5519468526545478], [-0.4194578542055554, -0.11426028493075135], [0.5201239411822187, 0.04070424517737502], [0.5292866891994736, -0.14855972701127293], [0.38219082102834995, 0.6554425731584095], [0.5358042515669095, -0.11507813567334914], [-0.7852733042485511, 0.13437014007250409], [-0.24838028357592795, -0.5115908874999913], [0.6208303750860731, -0.29679212619650086], [-0.44837947451947585, 0.4685185888168546], [-0.2768266494402912, -0.6560106037695767], [0.703464825017899, 0.08163067544080396], [-0.3219265631755231, -0.3970805307089927], [0.3803402345845526, -0.38192399998947457], [0.6483876216668059, -0.3559958730101921], [-0.39416231562423143, 0.22553724725714844], [-0.44212418661878755, 0.2058077617655556], [0.43394659387888324, -0.3039559471592205], [0.8052251477360803, -0.08595796713637932], [0.6380923975274305, -0.41429488009458904], [-0.704509537213847, -0.3488209661090731], [-0.5131474785042297, -0.5798700566923959], [-0.7791389886537102, -0.09221204268771721], [-0.7774524307726243, -0.07556964428939493], [0.7227117068770523, 0.2661340821423493], [-0.1742094489101268, -0.709642646649213], [-0.1602844665738463, 0.37546737296343524], [0.5020257149517577, -0.2971302878653026], [-0.42398359274229946, 0.08918371678393296], [0.42402998197487596, -0.5199015552828252], [-0.6716768159948865, -0.2247867941315407], [0.47333585488247776, 0.5267633523822792], [-0.32203207258900013, -0.7139770394332012], [0.6767099246980316, -0.1285849187495249], [-0.2675935080717334, 0.761421014386186], [-0.6758312505616911, 0.29710877922169476], [0.42780686844345495, 0.49467900154872996], [0.46722982215047415, 0.5728105689414743], [-0.16512066073168008, -0.6875096380443023], [-0.7271208369362087, -0.12363013317972582], [-0.15806535395356527, 0.7001441292528757], [-0.08099891540145622, -0.6748199133623092], [0.7267747699022925, 0.2679035222245462], [0.3407954820212655, -0.6480891519553481], [0.32454463584142657, 0.6528280542107533], [0.41259317697053965, 0.6256279536601824], [-0.7613766719919356, -0.26702663835639917], [0.2736624822684799, -0.7127648973449839], [-0.3999710619757621, -0.6652275929865561], [0.6943694453085484, -0.11359534736130955], [-0.5664813116804507, -0.42244088293244053], [-0.11362408779831529, -0.7110752998317822], [-0.7290634948458423, 0.22319541028894496], [-0.2734615081285359, 0.6244119643197054], [0.6658538684652472, 0.4165881167747335], [-0.10746017118860758, 0.7851968896915671], [-0.7273080871954575, -0.3039454222196751], [-0.7539686529002501, 0.0028307535471533032], [-0.6764633773217696, 0.3386508883100622], [-0.43302196746815236, -0.6285774746499013], [0.7549092352656007, -0.23225142416704767], [0.772889221471662, -0.12752156751280883], [-0.5907656630756324, -0.4330473317010911], [-0.3431376844635737, -0.6155394877535236], [0.5694354397848235, -0.4270950692256181], [0.7612173723593023, -0.12765775326289622], [0.47938806617694085, 0.5836818869349433], [0.5361568042018067, -0.5115748993236126], [-0.737887191085311, -0.2096247371007553], [0.5159480084618308, -0.1431601066456867], [0.019868503748732898, -0.7117401287215055], [0.018791040639349745, 0.7339779155554323], [-0.35544500222878794, 0.6896984974647179], [0.5672288127026123, 0.46793567881194814], [-0.3760688379168063, -0.5047736275885932], [0.7117363153852053, -0.06546940867531217], [-0.3520184505816025, -0.31401774719466025], [0.6516504004426621, -0.45205307099192615], [5.5081193619653584e-06, -0.7363057694106422], [0.5968659274303281, -0.43661765754296816], [-0.7304493283304444, -0.16875386436343848], [-0.51734236065223, 0.569066931990511], [0.5934395523903382, -0.11800466677263635], [0.5597781506640077, 0.49340393825675105], [0.11278979856155612, -0.5984127816465261], [-0.2896703519570632, -0.4897271759314112], [0.767100569180024, 0.2017603628106323], [-0.12474823218841005, -0.522485278181634], [-0.5211338060269234, -0.28570852514248807], [-0.7116355614349299, -0.10911593077765436], [0.14069247770122048, 0.664097929291467], [0.015092565285380917, 0.7629573950798617], [0.11955354697239853, 0.604294651101363], [0.1039253717558811, -0.4593367465377803], [-0.14326053306341208, 0.7504865714151044], [-0.08390019012912008, -0.7574387997455035], [0.046084082365290845, -0.7742999612687164], [-0.06311821141306725, 0.761972065920399], [-0.592440064737878, 0.47120406119936054], [-0.7337207548392011, -0.012893631652356127], [0.18062451399795876, -0.4813990647323638], [0.467375403824353, 0.38530935807408423], [0.48605445014121945, -0.6164773970638222], [-0.2654632547946029, -0.743636784081039], [0.5046716206218971, 0.5497840357708398], [0.1753039046012875, 0.7657035950626574], [-0.7246640450475526, 0.28221285449809713], [0.3194918335667837, 0.73451413515039], [0.5249897117893638, 0.5129214075400814], [-0.33557441199273624, -0.3794926087312527], [-0.19095033004605108, -0.7651371248266596], [-0.20350714876665674, 0.7289260544837395], [-0.2729621733294549, 0.5043889021988045], [-0.4093099447931701, -0.6754846157364851], [-0.46008481217193115, -0.6200187114510866], [-0.746158462668745, -0.2951880630566749], [-0.259772261499331, -0.7130406461907857], [0.009324106115909444, -0.7696679061965007], [-0.7249052694707518, -0.16932982227706952], [-0.008646939137224391, -0.6739989930711778], [-0.5876660716769585, 0.33417980078300535], [-0.1280075644023879, -0.6252552019427704], [0.5447452243478921, -0.3926311633816321], [-0.6049765593519989, -0.007355120422050574], [0.25913157612667176, -0.14383163838330157], [-0.10286022123698513, 0.4543022150771522], [0.47480941861264214, 0.4570535908048598], [-0.5174134311570396, -0.020234001260014647], [-0.7605968360504147, 0.20266761759634355], [-0.21994583524565955, -0.6196090003458324], [-0.5402985823909356, -0.4282771266128361], [0.19282183051314464, -0.769620323441543], [-0.07557766507739316, -0.7956505312207117], [-0.6041028891639845, 0.07849018094742934], [0.6901225825561172, 0.06663227705816539], [-0.7176709021219726, 0.15641735330666945], [0.18070293309551835, 0.7230109386786489], [-0.5713491422037051, 0.3436049310244444], [-0.4175599451318789, 0.45915830537858177], [0.5610328164221419, -0.13463477756075903], [0.6345431417732522, -0.19450186777078393], [-0.6657749648563671, 0.43371332434762666], [-0.6323575697697604, 0.4044297261609439], [0.5279576512120986, -0.09446756569245218], [0.6043678614705144, 0.09089616155223723], [0.5447673803355222, -0.5372466990401842], [0.7377876616468441, 0.29114250515123974], [0.7582950895445132, -0.14400944537091376], [-0.5108888309634867, -0.6228364446669228], [0.7155633215857838, 0.1803102246058847], [-0.1693231654526551, 0.6777726777571365], [0.44978848279803907, 0.4157582426612806], [0.2380023340282166, 0.7009287450954614], [-0.646383425450664, 0.12306065483974554], [-0.5652414263707867, -0.38024070406448096], [-0.13663968104021937, 0.7406083737571383], [-0.031174165786413417, -0.6196025606774791], [0.7635218358535385, 0.17563864188657863], [-0.4172065056169626, -0.6201588797488573], [0.504534307645772, 0.04386937402889942], [0.47902841800163143, -0.5925404584504521], [0.27044652819233145, 0.3337176606789196], [-0.4754911260556663, -0.038637379564264135], [-0.7825021597005013, -0.006262678757703431], [-0.29319574118743985, 0.39083405797165505], [0.6527312723978574, 0.4434465627960222], [-0.2222583592726976, -0.642158645394096], [0.6459555234805235, -0.2648713986643502], [0.5747435766152503, 0.23385031538525006], [0.26403766658157724, -0.38752133455376764], [0.3322525508175532, 0.08588769104270269], [-0.5721095494823624, 0.4283494015036664], [0.5015287210220679, -0.0806587272121097], [0.43557501527454545, 0.47170956748025555], [-0.5734409549001557, 0.4310329704396133], [-0.3150001652832008, 0.32140639549657635], [0.6852955934894928, -0.11097890105901309], [0.510514620245461, 0.12770648594998057], [-0.22109272847474665, -0.7341474442793174], [0.7414487634612281, 0.2120934714379932], [0.6114493914681822, -0.4735610512580632], [0.6148111398247363, 0.5165237513116469], [0.4003978703386005, 0.674768755506313], [0.3404158144321458, -0.346440021387793], [0.2916065753094867, 0.6576032001613396], [-0.3443927926317969, -0.5101332497195187], [-0.6671472308481247, 0.2792011203164294], [0.4103520751861865, 0.6136839080735986], [0.4427931850329728, 0.6424380519713626], [0.17672160792073122, -0.3649939458524753], [-0.2152816012063766, -0.7290720485255817], [0.251056935545088, -0.6801279020742205], [0.2825174363381217, -0.71347442939823], [-0.5742741726434737, -0.4243658937311661], [-0.15194134382074134, 0.7429763561878485], [-0.3351688612140836, 0.3231524064005916], [-0.05033544783663897, -0.7035565801614128], [-0.6382205708185973, -0.018324369239900155], [-0.4103069883040558, -0.6385233839796017], [0.7063018773906127, -0.30781672912932656], [-0.3966213464135375, 0.38471626461325975], [0.5130480067266453, -0.27975295024258556], [0.5056697783680107, 0.3414145659126816], [-0.2622223017080526, -0.7156142048918244], [0.3969651559090499, 0.508470369351966], [0.7240106392135386, -0.3046658854239654], [-0.6409631449008032, -0.4661590862411119], [0.3013084668983007, -0.732137036585272], [0.4069418053191511, -0.6775641881479574], [-0.6377555363204364, -0.24777696676078273], [0.3869273180580821, 0.5586874358472278], [0.3499917248800046, -0.2231911688563796], [0.4241824372757261, 0.00975672550220194], [0.2870186631973624, -0.5091552594183688], [-0.3091560723094655, 0.6765171281757351], [-0.38391900859973727, 0.6361688428541695], [0.5183547117708518, -0.4060081801186043], [-0.04279585490781689, -0.7725344509888991], [-0.5278085262984408, -0.4262179014229749], [0.6413573367847624, 0.04958928248627094], [0.610052508660911, 0.42224598308876365], [0.7173418944033562, 0.21746365930030426], [0.529473667842075, -0.3907244452739913], [0.6713022985457267, -0.18769853760480065], [-0.7286219187941205, -0.06002857644242719], [-0.6539639483524244, 0.2034762792328099], [0.1875327975074115, 0.7421786014625174], [0.08730198970400822, 0.7922338620322122], [0.0585932649332226, 0.7405278889426856], [0.2518387724378744, 0.6468868408146917], [0.7207071434744218, -0.31462409653816614], [0.4753312552475074, -0.5173142387674081], [0.5615428811683683, 0.18715310508065142], [0.16472644092039335, 0.7559746342671521], [0.5014916590521653, 0.5231840994451561], [0.3552915128275882, 0.6711372835540909], [-0.7494963669970461, 0.08406351737764081], [0.07813873657955064, 0.7152915108245766], [-0.6895731776286789, -0.3028678787784262], [-0.3611778135028707, 0.6174879820099528], [0.6742497195431211, -0.4025630523527797], [0.2633771284266894, -0.5893296287290605], [0.025260098478837527, -0.7395987839704524], [0.3006036767688109, 0.7320714435462582], [-0.5151997427007686, -0.20079062971820236], [0.2904512400594709, 0.6446592914613142], [0.39847197038801846, 0.1509459422675576], [-0.5606504369386623, -0.457864352695545], [0.15739339205706168, 0.6492562249225952], [0.09203053958325576, -0.7786647596105591], [0.35930432806874024, 0.01649707234318113], [-0.7268269654552268, 0.025708605419945053], [-0.39077883406662756, -0.499447279880242], [0.3063485414393771, -0.47093992558844666], [0.573959080503749, -0.5521758816164777], [0.20202627344993532, -0.5719427628179306], [0.7353140345738786, 0.17316333995657865], [-0.45272759311780275, -0.6207769448506277], [-0.5907545679582787, -0.3196893823790051], [0.7356716239616308, 0.058497908331956006], [-0.3645302688589025, 0.70002322207592], [0.355407975323609, -0.7185504358850401], [0.0712463582738092, -0.637398632727492], [-0.4877844716043279, 0.024587839538786627], [-0.1335408974682981, 0.7450493846345282], [-0.3914239742843743, -0.4770805664763549], [-0.13558995882247568, 0.7471028909744554], [0.10307518889305935, -0.72835466465701], [0.3747790213270081, 0.28901758467986083], [0.38014856854429474, -0.4952112817278196], [-0.6129727400472326, 0.3940941442374044], [0.6990713969876424, -0.3958220302670295], [0.2545446079809538, 0.6217093151031893], [0.34369557089783, -0.5996825330703887], [0.36201898895607004, -0.06929596702393417], [-0.3788524591751832, 0.5959536470759512], [-0.5127446773800244, -0.6063429461500036], [0.7374007676336073, 0.13189962732185542], [0.5985540296876406, 0.3449645268797079], [0.3394178763095043, 0.532739614593951], [0.4508624717446507, 0.4417339635018757], [-0.2454895715375006, 0.5823298272568386], [0.3725557195221251, 0.3211701048839651], [0.7683102741690139, -0.057635098980709384], [-0.32863121401808937, 0.7207617654839572], [0.41747693356896737, 0.3244415721019887], [-0.7289136490747529, 0.3075063443692448], [-0.41615546045623836, -0.4888699524946135], [-0.2589707659841494, 0.2555819356152577], [0.3085657526765551, -0.22938598034534377], [0.14724169889520622, -0.7259831422701085], [-0.024722212819152222, -0.6897902441039213], [0.3212006629763009, -0.6820434837148163], [0.6123198581145476, 0.37941461888795597], [-0.1705141610307684, 0.5751149480486399], [-0.5920295594261471, -0.04603786545173305], [0.4878849951931214, 0.2391620413166696], [0.5535696535558609, 0.12948681306138274], [0.7475321003985572, -0.25468271140905935], [0.4681533815406383, -0.6133571908604986], [-0.5269326073847018, 0.5165233897349129], [0.0819469660435938, -0.7270807637132933], [-0.6657694619733613, 0.12430356443596306], [-0.7745895356555306, 0.14857633637629533], [0.4181078113598563, 0.6139853411436434], [0.23653355020653963, 0.08621293979241738], [-0.674227658462448, -0.17584111123287247], [-0.709209720311919, 0.07090937941060091], [-0.7559640491730266, -0.19191618550716744], [-0.6444098547646477, -0.29200445772120526], [0.6023333685664262, -0.036421880765243025], [0.07654355906339302, -0.7743492792854042], [0.025193864134049084, -0.6095951140029212], [0.21342890369557568, -0.7527223769785322], [-0.7298207504358483, -0.10175226812581631], [0.46622711531557465, 0.19691269935024616], [-0.7254756150152933, -0.2692829706903337], [-0.10649889144889456, -0.5726281379583833], [-0.6853635020714121, 0.42644827634843163], [0.7447065040198685, 0.2618514781424522], [0.5822770277977763, 0.167845351458971], [-0.562432011250579, -0.4050784115218784], [-0.1068690064462279, -0.6758026910569959], [0.7402264855358777, -0.03518906038052775], [-0.0020479070313508185, -0.6899343379942555], [-0.4939087716744539, 0.38779311331325533], [-0.712900537261328, -0.15929926527567848], [0.4369093177334197, -0.6017123109067756], [0.34128066559874687, 0.6187397725729795], [-0.21284585321141236, 0.7431913195082953], [0.056200440999200185, 0.7730879144770936], [0.6325306300182261, -0.409481469245847], [-0.3736325587208313, 0.5387625518756706], [0.569493509338785, -0.5201196378577468], [-0.004256769229783439, -0.5169898548573633], [-0.7550601373460244, 0.2803854567979095], [-0.26720890559194843, 0.7236222832075266], [0.6508168448042292, -0.09400213871871156], [0.7734578994704054, -0.03991983699075037], [-0.3754732799725763, -0.49460541956938153], [0.6273004354373362, -0.28825331785600705], [-0.6937219230746224, -0.3901354449598456], [-0.5203911480581532, 0.38577014625771183], [-0.3446790371698603, -0.5891862938999354], [0.4711993883694581, -0.46972723331780847], [0.2890621368875082, -0.6630839405669333], [0.6832022805127238, 0.397653876418984], [-0.01975342094152725, 0.6883424512135965], [-0.3385183443802223, -0.6210393277831853], [0.33161060032707296, -0.5013726776622075], [-0.6217405069234476, 0.30657359607122575], [0.6446377355696497, -0.2997578874126359], [-0.39199177902350557, 0.6192479977644595], [0.7268733856420756, 0.24011904385751984], [-0.7270699989453551, 0.13994790314376845], [-0.48353223837898135, -0.5509046056215732], [-0.5829464677864096, 0.16713299967746642], [-0.43947944114415544, 0.3897180055828785], [-0.11563744701787068, 0.7752500387262519], [0.29004556249544927, -0.6305905030999865], [0.42811489100436156, -0.18135745815067697], [0.5560418302572766, -0.44167445564703006], [0.38090141489582335, 0.49635194945218286], [-0.23123599564007954, 0.7375016469840484], [0.5857719105615817, 0.30001318608167227], [-0.37315224193859353, -0.7090764858642601], [-0.5152046375029377, 0.2888887096058468], [0.7902462827457597, 0.002216917965256967], [-0.5512382728446188, 0.49839905866354184], [0.44523807345009303, 0.5278275147268852], [0.4004787465896647, -0.5048953030990694], [0.512576975634758, -0.057367273067185615], [-0.6503633376612104, 0.39246613937967073], [0.7641907517813963, 0.1964931915320999], [0.10409446119454799, -0.7044741930584998], [0.4720931345915605, -0.2162777558376902], [0.5169769807432629, -0.4352083106297074], [0.04447966765516875, -0.7223748313558237], [-0.7123923199306741, -0.13104843972176639], [-0.06952497098465237, 0.70315886324585], [0.4385720316742489, -0.578328422889539], [0.34418616822572845, -0.07513801527331536], [0.2459035161460403, -0.7630687080374131], [-0.6527401774249051, -0.41052892315693473], [0.38967977488645317, 0.36007843134760187], [0.17004908937575197, -0.7713478939272297], [-0.5987988596434298, -0.46053344353011966], [-0.548912005237949, 0.07801290653660149], [-0.7284449463533844, 0.053528924156936296], [-0.3537221363540081, -0.41820354524079395], [-0.6417987419793246, 0.43999780928117926], [0.6172562772334843, -0.32517327213860475], [-0.475673117477625, 0.19184650979966694], [0.2562709557424838, -0.21961486877870898], [-0.6835841858375807, -0.2662197743408432], [0.24928801914357016, -0.6652330117358743], [-0.30020508993346656, -0.7449124421898721], [0.20964182145427568, 0.17354922396277245], [0.7470662680591365, -0.1816516259934284], [-0.7374523261141822, 0.11126688232567263], [0.7109530233247396, 0.12090760415551688], [0.5917850169648631, -0.14659526677934698], [0.22907055770954313, 0.7547290425355813], [-0.3789013406251549, 0.10600567308646885], [-0.27938819160812556, -0.4923319071156022], [-0.23647423308165086, 0.6756624827592297], [-0.5600333521649038, 0.5670856785749833], [-0.07754393798577225, 0.6072913967944453], [-0.5570774918381094, -0.3463156567954712], [0.3915256082738484, 0.41564819382773976], [0.31190565993446956, 0.6995300428903632], [-0.7035093428421049, -0.37878670681095145], [-0.7885189697286528, -0.09782641581455437], [-0.19037726776141878, -0.5275100543868257], [0.5444962826122577, 0.3044939769746555], [-0.3186131683106572, 0.6960622830784226], [0.5369752010038142, -0.0395845397048477], [0.6635388350473569, -0.024760130849550876], [0.30426406877403833, -0.7184095868864513], [-0.23066422126754385, 0.6561129964129444], [0.6744153289683966, 0.3017753167037166], [-0.3725388137245114, 0.6811557000223593], [-0.38928959171357086, 0.6290372437285804], [-0.2166235307306562, -0.47386021884705254], [-0.6593390642873614, -0.3040207862232152], [0.054899976360019496, -0.6873246671873623], [-0.41383890790018163, 0.13189664001573073], [0.5649329685467249, 0.5308949006013448], [0.7346883067702834, -0.16495771497922035], [0.6958183188645733, -0.008607391417650215], [-0.19632143224368762, -0.565262585366949], [0.4371654950644252, 0.1602632283274614], [0.5209309223546651, 0.3264047007093118], [0.7176403495606056, -0.11445153715881808]], \"data01\": [[0.07962863414778083, -0.042154420092388185], [-0.13150752522916873, 0.6290390188798965], [-0.015082879399628284, -0.39798452837524273], [-0.4074240508665376, 0.04636413698005844], [0.1691532018806749, -0.21711130986762092], [0.155742387881699, -0.46097397114796596], [-0.25289506470050693, 0.015349772323687018], [-0.15463486035612295, 0.11632619937640808], [0.32980191972436307, 0.2315549442107672], [-0.30328863708358517, 0.07703061900020562], [-0.2841806795877949, 0.009130061452524551], [0.6463409848601542, -0.37603770744316245], [-0.5894058320670511, 0.0503449999428328], [0.0010576058178176874, 0.34027090214588196], [-0.0003776674686432991, -0.22655469273251835], [0.20514229903920497, -0.31904359639978597], [-0.06752563820167097, 0.5950133616250877], [0.01971390100730157, -0.038037602089121596], [-0.03179666627670831, -0.0673975012084281], [-0.1808662770659755, 0.39898205942452314], [0.30848353440270326, -0.0879020371352589], [0.15503080834697336, 0.48304829491765217], [-0.5389674724662139, 0.2887372764965489], [0.04833619347419827, 0.1468381680856259], [0.04524602622227379, -0.1285139471811457], [0.23935370327024744, -0.3028727336743308], [0.01894699042595326, -0.4406084349357061], [-0.6047018982257755, -0.27187558898763187], [-0.032954615562081284, -0.14050771700848977], [-0.06006215559786057, -0.19232329886943944], [0.09521336623272787, 0.1832372199323275], [-0.14218229379781205, -0.04250781299485284], [0.13372809060887753, 0.3812152484643267], [-0.49409864240783474, 0.1593493879590638], [0.38372862878131275, -0.2713965028457916], [-0.3057542156900223, -0.08165587979926912], [0.11008220076061133, -0.3030616487802066], [-0.41930688521474213, 0.13716389495169362], [-0.087858755735054, -0.18253778889054556], [-0.2155306903380099, -0.16296418875816693], [0.38231870674748847, -0.548105310478035], [-0.1498574300093231, -0.4008388566196244], [-0.1524492191295616, 0.04042033807361081], [-0.21973211299670545, 0.12660912361398963], [-0.1354907607679833, -0.5034043207293621], [-0.15117212268709132, -0.16230132981974504], [0.25304666140325816, 0.2296252970597289], [0.2912390465250367, -0.33839925764240314], [-0.29058677098049784, 0.06663029775951605], [-0.07979210407526352, -0.17504164550439577], [0.5522252717036927, 0.05110866006326578], [-0.131899680089763, 0.10554296064971003], [-0.17130665007921483, -0.6397286881991614], [-0.09969283564168671, 0.06809189426463648], [-0.3592431473041488, -0.22185937452884125], [-0.05639226270329298, -0.03942704509334614], [0.528000854002542, -0.062303214663159134], [-0.37294232714118397, -0.0750528257103519], [-0.7012179063207766, -0.10526828786505976], [0.07496748714793416, 0.11085970585254645], [-0.35092941017277407, -0.3299595854640707], [-0.12096511555357209, -0.5889006832272182], [-0.13563130573663418, -0.43343841420568846], [-0.25338984329424524, 0.3464046304290582], [0.08692777388543849, 0.42234061225437847], [0.06411427200769435, -0.41359737346310843], [0.2171877269278248, 0.25007151712556097], [-0.124463277149656, -0.5068749797477455], [-0.49001195520577834, 0.11205113777350938], [0.015252956379471437, 0.013826623443083271], [0.2653274998059575, -0.282241671791498], [0.002951383470698694, -0.7274838902129105], [-0.04378043474768361, -0.14659844618332102], [-0.23620530933296652, -0.19556208196684916], [-0.34842208573499966, 0.07201281753514847], [0.18172370701206828, -0.10609703998741062], [-0.19321703451299949, -0.4464283413570244], [0.17554192578815292, 0.39825614758141564], [0.28314763118808783, -0.07826400962161546], [0.587777763355285, -0.12277947861307878], [-0.25467077984389697, -0.4043766114559389], [-0.4643105064587206, -0.0501757818720399], [-0.4516892957208022, 0.09130741759185577], [-0.2815858280087, 0.06209712031693372], [0.4457288618706585, 0.13536020582467037], [-0.06100402234984929, 0.21667464288016042], [-0.4722874478321494, -0.24880920751334476], [-0.16849796654789348, 0.05751352981994495], [0.23614884620370732, -0.31747816056177486], [-0.03626590814261906, 0.013874188321496317], [-0.5257005185744859, -0.003497473517555729], [-0.060357815458711425, 0.06746744073563757], [-0.2542141908737153, 0.16889980278312994], [-0.27549081859363966, -0.34207192739922926], [-0.27100737685429377, 0.4456338979192383], [0.18330264778861508, 0.35970238709817115], [-0.10788147499523972, 0.04612308808393821], [0.28578555315542575, 0.12648119208454012], [0.742897189344218, 0.04395535002978857], [-0.41534527087590617, 0.14830258514664327], [0.1471060763769428, -0.3606715117435268], [-0.06196987143236579, -0.38341301600715405], [-0.3799286724164824, 0.06516027527708237], [-0.43258022352039865, 0.14702093642489222], [0.5306779886561165, 0.39891747169425984], [-0.2026496784067507, -0.32486431865457105], [0.447754780392178, -0.08472705220679017], [0.41404521976836395, -0.6061388590711287], [0.03660474461478901, -0.37334419542055797], [-0.09972447412802087, 0.09827731556843387], [-0.10367639009314356, -0.01943732620496514], [-0.1305673443029279, -0.20394729085316468], [-0.1077390743148148, -0.4399947088848374], [-0.062053486129603735, -0.2622726020198184], [-0.38219324855047687, 0.27158040512342535], [0.22543326301815042, -0.187254413535951], [-0.2433574781429616, 0.1352785504551903], [-0.42421818998363325, 0.006166511971052838], [-0.30762525319117034, -0.020510660327534975], [0.35166917329800684, -0.018970253422998205], [0.3801937134934446, -0.31590194220826223], [-0.17861556380895763, 0.15596533132835796], [0.1818422669577901, -0.25649332270062203], [-0.014969708614956142, 0.007032135580028056], [0.21073833325818597, -0.45111182540682543], [0.02933864152342427, -0.23903971407260965], [0.1557656748732507, -0.0908545772698627], [0.15292510433539194, 0.4998676888595269], [-0.28400164939795547, -0.4124879660047289], [0.3894555898447487, -0.06665607526166974], [-0.39163088267652535, 0.11557866508603698], [-0.3414640044250605, -0.3137133968300924], [-0.31422375102813394, 0.4118947434337187], [0.09498133128221245, -0.09670015478954747], [0.14961153104964148, -0.08371414041411261], [-0.45113190141431314, -0.1645046672582977], [0.3833789732348598, -0.2935121961379051], [-0.5425972033421539, -0.2812355452763881], [-0.31061637815422377, 0.2701861302570477], [-0.2801342523814973, -0.056220985540262225], [-0.1414681531874929, -0.0911097719353495], [0.5313600012765068, 0.4840401817712571], [0.1912450904528835, -0.4651029939560354], [0.2827751368116269, 0.06277790022237886], [0.251182962459145, 0.21642190439346215], [-0.7094204175524559, 0.20678277040843418], [-0.17434503301399779, -0.4026876521983756], [-0.24726877580883616, 0.22977410325564038], [-0.16173592696718928, -0.3406604854329406], [0.048225563371603136, -0.2727543315838017], [0.607830136116495, -0.3124129909029272], [-0.27040150668064555, 0.6245208961894061], [-0.033080476315658726, -0.4005139794120688], [0.6286848459844527, -0.1135233945397764], [-0.23583839076063984, -0.06734806189244931], [-0.27485300420732417, -0.42813451087868937], [-0.6020145012208536, 0.09774238403484349], [0.18936383110695837, -0.20090393365984238], [0.24260536726420903, 0.3442011648235405], [-0.4256914294036336, -0.07549420946315605], [-0.4668961552799955, -0.3454755187099525], [-0.6473162814675759, -0.34457542916648887]]}, \"id\": \"el959585375094544\"});\n",
       "            })\n",
       "         });\n",
       "}\n",
       "</script>"
      ],
      "text/plain": [
       "<IPython.core.display.HTML object>"
      ]
     },
     "execution_count": 381,
     "metadata": {},
     "output_type": "execute_result"
    }
   ],
   "source": [
    "#create data frame that has the result of the MDS plus the cluster numbers and titles\n",
    "titles = highschool3.Title\n",
    "df = pd.DataFrame(dict(x=xs, y=ys, label=clusters, title=titles)) \n",
    "\n",
    "def some(x, n):\n",
    "    return x.ix[random.sample(x.index, n)]\n",
    "df = some(df,1000)\n",
    "\n",
    "#group by cluster\n",
    "groups = df.groupby('label')\n",
    "\n",
    "#define custom css to format the font and to remove the axis labeling\n",
    "css = \"\"\"\n",
    "text.mpld3-text, div.mpld3-tooltip {\n",
    "  font-family:Arial, Helvetica, sans-serif;\n",
    "}\n",
    "\n",
    "g.mpld3-xaxis, g.mpld3-yaxis {\n",
    "display: none; }\n",
    "\n",
    "svg.mpld3-figure {\n",
    "margin-left: -100px;\n",
    "margin-top: -50px;\n",
    "margin-right: -100px;\n",
    "margin-bottom: -50px;}\n",
    "\"\"\"\n",
    "\n",
    "# Plot \n",
    "fig, ax = plt.subplots(figsize=(12,6)) #set plot size\n",
    "ax.margins(0.2) # Optional, just adds 5% padding to the autoscaling\n",
    "\n",
    "#iterate through groups to layer the plot\n",
    "#note that I use the cluster_name and cluster_color dicts with the 'name' lookup to return the appropriate color/label\n",
    "for name, group in groups:\n",
    "    points = ax.plot(group.x, group.y, marker='o', linestyle='', ms=9, \n",
    "                     label=cluster_names[name], mec='none', \n",
    "                     color=cluster_colors[name])\n",
    "    ax.set_aspect('auto')\n",
    "    labels = [i for i in group.title]\n",
    "    \n",
    "    #set tooltip using points, labels and the already defined 'css'\n",
    "    tooltip = mpld3.plugins.PointHTMLTooltip(points[0], labels,\n",
    "                                       voffset=10, hoffset=10, css=css)\n",
    "    #connect tooltip to fig\n",
    "    mpld3.plugins.connect(fig, tooltip, TopToolbar())    \n",
    "    \n",
    "    #set tick marks as blank\n",
    "    ax.axes.get_xaxis().set_ticks([])\n",
    "    ax.axes.get_yaxis().set_ticks([])\n",
    "    \n",
    "    #set axis as blank\n",
    "    ax.axes.get_xaxis().set_visible(True)\n",
    "    ax.axes.get_yaxis().set_visible(True)\n",
    "\n",
    "    \n",
    "ax.legend(numpoints=1,fontsize=11,loc='lower left') #show legend with only one dot\n",
    "\n",
    "mpld3.display() #show the plot\n",
    "\n",
    "# uncomment the below to export to html\n",
    "# html = mpld3.fig_to_html(fig)\n",
    "# print(html)"
   ]
  },
  {
   "cell_type": "code",
   "execution_count": 236,
   "metadata": {
    "collapsed": false
   },
   "outputs": [
    {
     "data": {
      "text/plain": [
       "'calculus,algebra-precalculus'"
      ]
     },
     "execution_count": 236,
     "metadata": {},
     "output_type": "execute_result"
    }
   ],
   "source": [
    "highschool2.Tags[4755]"
   ]
  },
  {
   "cell_type": "code",
   "execution_count": 248,
   "metadata": {
    "collapsed": false
   },
   "outputs": [
    {
     "ename": "KeyError",
     "evalue": "-4755",
     "output_type": "error",
     "traceback": [
      "\u001b[0;31m---------------------------------------------------------------------------\u001b[0m",
      "\u001b[0;31mKeyError\u001b[0m                                  Traceback (most recent call last)",
      "\u001b[0;32m<ipython-input-248-87d3538439a6>\u001b[0m in \u001b[0;36m<module>\u001b[0;34m()\u001b[0m\n\u001b[1;32m      5\u001b[0m \u001b[0;34m\u001b[0m\u001b[0m\n\u001b[1;32m      6\u001b[0m \u001b[0mfig\u001b[0m\u001b[0;34m,\u001b[0m \u001b[0max\u001b[0m \u001b[0;34m=\u001b[0m \u001b[0mplt\u001b[0m\u001b[0;34m.\u001b[0m\u001b[0msubplots\u001b[0m\u001b[0;34m(\u001b[0m\u001b[0mfigsize\u001b[0m\u001b[0;34m=\u001b[0m\u001b[0;34m(\u001b[0m\u001b[0;36m15\u001b[0m\u001b[0;34m,\u001b[0m \u001b[0;36m20\u001b[0m\u001b[0;34m)\u001b[0m\u001b[0;34m)\u001b[0m \u001b[0;31m# set size\u001b[0m\u001b[0;34m\u001b[0m\u001b[0m\n\u001b[0;32m----> 7\u001b[0;31m \u001b[0max\u001b[0m \u001b[0;34m=\u001b[0m \u001b[0mdendrogram\u001b[0m\u001b[0;34m(\u001b[0m\u001b[0mlinkage_matrix\u001b[0m\u001b[0;34m,\u001b[0m \u001b[0morientation\u001b[0m\u001b[0;34m=\u001b[0m\u001b[0;34m\"right\"\u001b[0m\u001b[0;34m,\u001b[0m \u001b[0mlabels\u001b[0m\u001b[0;34m=\u001b[0m\u001b[0mtitles\u001b[0m\u001b[0;34m)\u001b[0m\u001b[0;34m;\u001b[0m\u001b[0;34m\u001b[0m\u001b[0m\n\u001b[0m\u001b[1;32m      8\u001b[0m \u001b[0;34m\u001b[0m\u001b[0m\n\u001b[1;32m      9\u001b[0m plt.tick_params(    axis= 'x',          # changes apply to the x-axis\n",
      "\u001b[0;32m/usr/local/lib/python2.7/site-packages/scipy/cluster/hierarchy.pyc\u001b[0m in \u001b[0;36mdendrogram\u001b[0;34m(Z, p, truncate_mode, color_threshold, get_leaves, orientation, labels, count_sort, distance_sort, show_leaf_counts, no_plot, no_labels, color_list, leaf_font_size, leaf_rotation, leaf_label_func, no_leaves, show_contracted, link_color_func, ax)\u001b[0m\n\u001b[1;32m   2190\u001b[0m         \u001b[0mleaf_label_func\u001b[0m\u001b[0;34m=\u001b[0m\u001b[0mleaf_label_func\u001b[0m\u001b[0;34m,\u001b[0m\u001b[0;34m\u001b[0m\u001b[0m\n\u001b[1;32m   2191\u001b[0m         \u001b[0mcontraction_marks\u001b[0m\u001b[0;34m=\u001b[0m\u001b[0mcontraction_marks\u001b[0m\u001b[0;34m,\u001b[0m\u001b[0;34m\u001b[0m\u001b[0m\n\u001b[0;32m-> 2192\u001b[0;31m         link_color_func=link_color_func)\n\u001b[0m\u001b[1;32m   2193\u001b[0m     \u001b[0;32mif\u001b[0m \u001b[0;32mnot\u001b[0m \u001b[0mno_plot\u001b[0m\u001b[0;34m:\u001b[0m\u001b[0;34m\u001b[0m\u001b[0m\n\u001b[1;32m   2194\u001b[0m         \u001b[0mmh\u001b[0m \u001b[0;34m=\u001b[0m \u001b[0mmax\u001b[0m\u001b[0;34m(\u001b[0m\u001b[0mZ\u001b[0m\u001b[0;34m[\u001b[0m\u001b[0;34m:\u001b[0m\u001b[0;34m,\u001b[0m \u001b[0;36m2\u001b[0m\u001b[0;34m]\u001b[0m\u001b[0;34m)\u001b[0m\u001b[0;34m\u001b[0m\u001b[0m\n",
      "\u001b[0;32m/usr/local/lib/python2.7/site-packages/scipy/cluster/hierarchy.pyc\u001b[0m in \u001b[0;36m_dendrogram_calculate_info\u001b[0;34m(Z, p, truncate_mode, color_threshold, get_leaves, orientation, labels, count_sort, distance_sort, show_leaf_counts, i, iv, ivl, n, icoord_list, dcoord_list, lvs, mhr, current_color, color_list, currently_below_threshold, leaf_label_func, level, contraction_marks, link_color_func)\u001b[0m\n\u001b[1;32m   2440\u001b[0m             \u001b[0mleaf_label_func\u001b[0m\u001b[0;34m=\u001b[0m\u001b[0mleaf_label_func\u001b[0m\u001b[0;34m,\u001b[0m\u001b[0;34m\u001b[0m\u001b[0m\n\u001b[1;32m   2441\u001b[0m             \u001b[0mlevel\u001b[0m\u001b[0;34m=\u001b[0m\u001b[0mlevel\u001b[0m \u001b[0;34m+\u001b[0m \u001b[0;36m1\u001b[0m\u001b[0;34m,\u001b[0m \u001b[0mcontraction_marks\u001b[0m\u001b[0;34m=\u001b[0m\u001b[0mcontraction_marks\u001b[0m\u001b[0;34m,\u001b[0m\u001b[0;34m\u001b[0m\u001b[0m\n\u001b[0;32m-> 2442\u001b[0;31m             link_color_func=link_color_func)\n\u001b[0m\u001b[1;32m   2443\u001b[0m \u001b[0;34m\u001b[0m\u001b[0m\n\u001b[1;32m   2444\u001b[0m     \u001b[0mh\u001b[0m \u001b[0;34m=\u001b[0m \u001b[0mZ\u001b[0m\u001b[0;34m[\u001b[0m\u001b[0mi\u001b[0m \u001b[0;34m-\u001b[0m \u001b[0mn\u001b[0m\u001b[0;34m,\u001b[0m \u001b[0;36m2\u001b[0m\u001b[0;34m]\u001b[0m\u001b[0;34m\u001b[0m\u001b[0m\n",
      "\u001b[0;32m/usr/local/lib/python2.7/site-packages/scipy/cluster/hierarchy.pyc\u001b[0m in \u001b[0;36m_dendrogram_calculate_info\u001b[0;34m(Z, p, truncate_mode, color_threshold, get_leaves, orientation, labels, count_sort, distance_sort, show_leaf_counts, i, iv, ivl, n, icoord_list, dcoord_list, lvs, mhr, current_color, color_list, currently_below_threshold, leaf_label_func, level, contraction_marks, link_color_func)\u001b[0m\n\u001b[1;32m   2440\u001b[0m             \u001b[0mleaf_label_func\u001b[0m\u001b[0;34m=\u001b[0m\u001b[0mleaf_label_func\u001b[0m\u001b[0;34m,\u001b[0m\u001b[0;34m\u001b[0m\u001b[0m\n\u001b[1;32m   2441\u001b[0m             \u001b[0mlevel\u001b[0m\u001b[0;34m=\u001b[0m\u001b[0mlevel\u001b[0m \u001b[0;34m+\u001b[0m \u001b[0;36m1\u001b[0m\u001b[0;34m,\u001b[0m \u001b[0mcontraction_marks\u001b[0m\u001b[0;34m=\u001b[0m\u001b[0mcontraction_marks\u001b[0m\u001b[0;34m,\u001b[0m\u001b[0;34m\u001b[0m\u001b[0m\n\u001b[0;32m-> 2442\u001b[0;31m             link_color_func=link_color_func)\n\u001b[0m\u001b[1;32m   2443\u001b[0m \u001b[0;34m\u001b[0m\u001b[0m\n\u001b[1;32m   2444\u001b[0m     \u001b[0mh\u001b[0m \u001b[0;34m=\u001b[0m \u001b[0mZ\u001b[0m\u001b[0;34m[\u001b[0m\u001b[0mi\u001b[0m \u001b[0;34m-\u001b[0m \u001b[0mn\u001b[0m\u001b[0;34m,\u001b[0m \u001b[0;36m2\u001b[0m\u001b[0;34m]\u001b[0m\u001b[0;34m\u001b[0m\u001b[0m\n",
      "\u001b[0;32m/usr/local/lib/python2.7/site-packages/scipy/cluster/hierarchy.pyc\u001b[0m in \u001b[0;36m_dendrogram_calculate_info\u001b[0;34m(Z, p, truncate_mode, color_threshold, get_leaves, orientation, labels, count_sort, distance_sort, show_leaf_counts, i, iv, ivl, n, icoord_list, dcoord_list, lvs, mhr, current_color, color_list, currently_below_threshold, leaf_label_func, level, contraction_marks, link_color_func)\u001b[0m\n\u001b[1;32m   2440\u001b[0m             \u001b[0mleaf_label_func\u001b[0m\u001b[0;34m=\u001b[0m\u001b[0mleaf_label_func\u001b[0m\u001b[0;34m,\u001b[0m\u001b[0;34m\u001b[0m\u001b[0m\n\u001b[1;32m   2441\u001b[0m             \u001b[0mlevel\u001b[0m\u001b[0;34m=\u001b[0m\u001b[0mlevel\u001b[0m \u001b[0;34m+\u001b[0m \u001b[0;36m1\u001b[0m\u001b[0;34m,\u001b[0m \u001b[0mcontraction_marks\u001b[0m\u001b[0;34m=\u001b[0m\u001b[0mcontraction_marks\u001b[0m\u001b[0;34m,\u001b[0m\u001b[0;34m\u001b[0m\u001b[0m\n\u001b[0;32m-> 2442\u001b[0;31m             link_color_func=link_color_func)\n\u001b[0m\u001b[1;32m   2443\u001b[0m \u001b[0;34m\u001b[0m\u001b[0m\n\u001b[1;32m   2444\u001b[0m     \u001b[0mh\u001b[0m \u001b[0;34m=\u001b[0m \u001b[0mZ\u001b[0m\u001b[0;34m[\u001b[0m\u001b[0mi\u001b[0m \u001b[0;34m-\u001b[0m \u001b[0mn\u001b[0m\u001b[0;34m,\u001b[0m \u001b[0;36m2\u001b[0m\u001b[0;34m]\u001b[0m\u001b[0;34m\u001b[0m\u001b[0m\n",
      "\u001b[0;32m/usr/local/lib/python2.7/site-packages/scipy/cluster/hierarchy.pyc\u001b[0m in \u001b[0;36m_dendrogram_calculate_info\u001b[0;34m(Z, p, truncate_mode, color_threshold, get_leaves, orientation, labels, count_sort, distance_sort, show_leaf_counts, i, iv, ivl, n, icoord_list, dcoord_list, lvs, mhr, current_color, color_list, currently_below_threshold, leaf_label_func, level, contraction_marks, link_color_func)\u001b[0m\n\u001b[1;32m   2440\u001b[0m             \u001b[0mleaf_label_func\u001b[0m\u001b[0;34m=\u001b[0m\u001b[0mleaf_label_func\u001b[0m\u001b[0;34m,\u001b[0m\u001b[0;34m\u001b[0m\u001b[0m\n\u001b[1;32m   2441\u001b[0m             \u001b[0mlevel\u001b[0m\u001b[0;34m=\u001b[0m\u001b[0mlevel\u001b[0m \u001b[0;34m+\u001b[0m \u001b[0;36m1\u001b[0m\u001b[0;34m,\u001b[0m \u001b[0mcontraction_marks\u001b[0m\u001b[0;34m=\u001b[0m\u001b[0mcontraction_marks\u001b[0m\u001b[0;34m,\u001b[0m\u001b[0;34m\u001b[0m\u001b[0m\n\u001b[0;32m-> 2442\u001b[0;31m             link_color_func=link_color_func)\n\u001b[0m\u001b[1;32m   2443\u001b[0m \u001b[0;34m\u001b[0m\u001b[0m\n\u001b[1;32m   2444\u001b[0m     \u001b[0mh\u001b[0m \u001b[0;34m=\u001b[0m \u001b[0mZ\u001b[0m\u001b[0;34m[\u001b[0m\u001b[0mi\u001b[0m \u001b[0;34m-\u001b[0m \u001b[0mn\u001b[0m\u001b[0;34m,\u001b[0m \u001b[0;36m2\u001b[0m\u001b[0;34m]\u001b[0m\u001b[0;34m\u001b[0m\u001b[0m\n",
      "\u001b[0;32m/usr/local/lib/python2.7/site-packages/scipy/cluster/hierarchy.pyc\u001b[0m in \u001b[0;36m_dendrogram_calculate_info\u001b[0;34m(Z, p, truncate_mode, color_threshold, get_leaves, orientation, labels, count_sort, distance_sort, show_leaf_counts, i, iv, ivl, n, icoord_list, dcoord_list, lvs, mhr, current_color, color_list, currently_below_threshold, leaf_label_func, level, contraction_marks, link_color_func)\u001b[0m\n\u001b[1;32m   2440\u001b[0m             \u001b[0mleaf_label_func\u001b[0m\u001b[0;34m=\u001b[0m\u001b[0mleaf_label_func\u001b[0m\u001b[0;34m,\u001b[0m\u001b[0;34m\u001b[0m\u001b[0m\n\u001b[1;32m   2441\u001b[0m             \u001b[0mlevel\u001b[0m\u001b[0;34m=\u001b[0m\u001b[0mlevel\u001b[0m \u001b[0;34m+\u001b[0m \u001b[0;36m1\u001b[0m\u001b[0;34m,\u001b[0m \u001b[0mcontraction_marks\u001b[0m\u001b[0;34m=\u001b[0m\u001b[0mcontraction_marks\u001b[0m\u001b[0;34m,\u001b[0m\u001b[0;34m\u001b[0m\u001b[0m\n\u001b[0;32m-> 2442\u001b[0;31m             link_color_func=link_color_func)\n\u001b[0m\u001b[1;32m   2443\u001b[0m \u001b[0;34m\u001b[0m\u001b[0m\n\u001b[1;32m   2444\u001b[0m     \u001b[0mh\u001b[0m \u001b[0;34m=\u001b[0m \u001b[0mZ\u001b[0m\u001b[0;34m[\u001b[0m\u001b[0mi\u001b[0m \u001b[0;34m-\u001b[0m \u001b[0mn\u001b[0m\u001b[0;34m,\u001b[0m \u001b[0;36m2\u001b[0m\u001b[0;34m]\u001b[0m\u001b[0;34m\u001b[0m\u001b[0m\n",
      "\u001b[0;32m/usr/local/lib/python2.7/site-packages/scipy/cluster/hierarchy.pyc\u001b[0m in \u001b[0;36m_dendrogram_calculate_info\u001b[0;34m(Z, p, truncate_mode, color_threshold, get_leaves, orientation, labels, count_sort, distance_sort, show_leaf_counts, i, iv, ivl, n, icoord_list, dcoord_list, lvs, mhr, current_color, color_list, currently_below_threshold, leaf_label_func, level, contraction_marks, link_color_func)\u001b[0m\n\u001b[1;32m   2440\u001b[0m             \u001b[0mleaf_label_func\u001b[0m\u001b[0;34m=\u001b[0m\u001b[0mleaf_label_func\u001b[0m\u001b[0;34m,\u001b[0m\u001b[0;34m\u001b[0m\u001b[0m\n\u001b[1;32m   2441\u001b[0m             \u001b[0mlevel\u001b[0m\u001b[0;34m=\u001b[0m\u001b[0mlevel\u001b[0m \u001b[0;34m+\u001b[0m \u001b[0;36m1\u001b[0m\u001b[0;34m,\u001b[0m \u001b[0mcontraction_marks\u001b[0m\u001b[0;34m=\u001b[0m\u001b[0mcontraction_marks\u001b[0m\u001b[0;34m,\u001b[0m\u001b[0;34m\u001b[0m\u001b[0m\n\u001b[0;32m-> 2442\u001b[0;31m             link_color_func=link_color_func)\n\u001b[0m\u001b[1;32m   2443\u001b[0m \u001b[0;34m\u001b[0m\u001b[0m\n\u001b[1;32m   2444\u001b[0m     \u001b[0mh\u001b[0m \u001b[0;34m=\u001b[0m \u001b[0mZ\u001b[0m\u001b[0;34m[\u001b[0m\u001b[0mi\u001b[0m \u001b[0;34m-\u001b[0m \u001b[0mn\u001b[0m\u001b[0;34m,\u001b[0m \u001b[0;36m2\u001b[0m\u001b[0;34m]\u001b[0m\u001b[0;34m\u001b[0m\u001b[0m\n",
      "\u001b[0;32m/usr/local/lib/python2.7/site-packages/scipy/cluster/hierarchy.pyc\u001b[0m in \u001b[0;36m_dendrogram_calculate_info\u001b[0;34m(Z, p, truncate_mode, color_threshold, get_leaves, orientation, labels, count_sort, distance_sort, show_leaf_counts, i, iv, ivl, n, icoord_list, dcoord_list, lvs, mhr, current_color, color_list, currently_below_threshold, leaf_label_func, level, contraction_marks, link_color_func)\u001b[0m\n\u001b[1;32m   2440\u001b[0m             \u001b[0mleaf_label_func\u001b[0m\u001b[0;34m=\u001b[0m\u001b[0mleaf_label_func\u001b[0m\u001b[0;34m,\u001b[0m\u001b[0;34m\u001b[0m\u001b[0m\n\u001b[1;32m   2441\u001b[0m             \u001b[0mlevel\u001b[0m\u001b[0;34m=\u001b[0m\u001b[0mlevel\u001b[0m \u001b[0;34m+\u001b[0m \u001b[0;36m1\u001b[0m\u001b[0;34m,\u001b[0m \u001b[0mcontraction_marks\u001b[0m\u001b[0;34m=\u001b[0m\u001b[0mcontraction_marks\u001b[0m\u001b[0;34m,\u001b[0m\u001b[0;34m\u001b[0m\u001b[0m\n\u001b[0;32m-> 2442\u001b[0;31m             link_color_func=link_color_func)\n\u001b[0m\u001b[1;32m   2443\u001b[0m \u001b[0;34m\u001b[0m\u001b[0m\n\u001b[1;32m   2444\u001b[0m     \u001b[0mh\u001b[0m \u001b[0;34m=\u001b[0m \u001b[0mZ\u001b[0m\u001b[0;34m[\u001b[0m\u001b[0mi\u001b[0m \u001b[0;34m-\u001b[0m \u001b[0mn\u001b[0m\u001b[0;34m,\u001b[0m \u001b[0;36m2\u001b[0m\u001b[0;34m]\u001b[0m\u001b[0;34m\u001b[0m\u001b[0m\n",
      "\u001b[0;32m/usr/local/lib/python2.7/site-packages/scipy/cluster/hierarchy.pyc\u001b[0m in \u001b[0;36m_dendrogram_calculate_info\u001b[0;34m(Z, p, truncate_mode, color_threshold, get_leaves, orientation, labels, count_sort, distance_sort, show_leaf_counts, i, iv, ivl, n, icoord_list, dcoord_list, lvs, mhr, current_color, color_list, currently_below_threshold, leaf_label_func, level, contraction_marks, link_color_func)\u001b[0m\n\u001b[1;32m   2353\u001b[0m     \u001b[0;32mif\u001b[0m \u001b[0mi\u001b[0m \u001b[0;34m<\u001b[0m \u001b[0mn\u001b[0m\u001b[0;34m:\u001b[0m\u001b[0;34m\u001b[0m\u001b[0m\n\u001b[1;32m   2354\u001b[0m         _append_singleton_leaf_node(Z, p, n, level, lvs, ivl,\n\u001b[0;32m-> 2355\u001b[0;31m                                     leaf_label_func, i, labels)\n\u001b[0m\u001b[1;32m   2356\u001b[0m         \u001b[0;32mreturn\u001b[0m \u001b[0;34m(\u001b[0m\u001b[0miv\u001b[0m \u001b[0;34m+\u001b[0m \u001b[0;36m5.0\u001b[0m\u001b[0;34m,\u001b[0m \u001b[0;36m10.0\u001b[0m\u001b[0;34m,\u001b[0m \u001b[0;36m0.0\u001b[0m\u001b[0;34m,\u001b[0m \u001b[0;36m0.0\u001b[0m\u001b[0;34m)\u001b[0m\u001b[0;34m\u001b[0m\u001b[0m\n\u001b[1;32m   2357\u001b[0m \u001b[0;34m\u001b[0m\u001b[0m\n",
      "\u001b[0;32m/usr/local/lib/python2.7/site-packages/scipy/cluster/hierarchy.pyc\u001b[0m in \u001b[0;36m_append_singleton_leaf_node\u001b[0;34m(Z, p, n, level, lvs, ivl, leaf_label_func, i, labels)\u001b[0m\n\u001b[1;32m   2222\u001b[0m             \u001b[0;31m# for the leaf nodes, use it.\u001b[0m\u001b[0;34m\u001b[0m\u001b[0;34m\u001b[0m\u001b[0m\n\u001b[1;32m   2223\u001b[0m             \u001b[0;32mif\u001b[0m \u001b[0mlabels\u001b[0m \u001b[0;32mis\u001b[0m \u001b[0;32mnot\u001b[0m \u001b[0mNone\u001b[0m\u001b[0;34m:\u001b[0m\u001b[0;34m\u001b[0m\u001b[0m\n\u001b[0;32m-> 2224\u001b[0;31m                 \u001b[0mivl\u001b[0m\u001b[0;34m.\u001b[0m\u001b[0mappend\u001b[0m\u001b[0;34m(\u001b[0m\u001b[0mlabels\u001b[0m\u001b[0;34m[\u001b[0m\u001b[0mint\u001b[0m\u001b[0;34m(\u001b[0m\u001b[0mi\u001b[0m \u001b[0;34m-\u001b[0m \u001b[0mn\u001b[0m\u001b[0;34m)\u001b[0m\u001b[0;34m]\u001b[0m\u001b[0;34m)\u001b[0m\u001b[0;34m\u001b[0m\u001b[0m\n\u001b[0m\u001b[1;32m   2225\u001b[0m             \u001b[0;32melse\u001b[0m\u001b[0;34m:\u001b[0m\u001b[0;34m\u001b[0m\u001b[0m\n\u001b[1;32m   2226\u001b[0m                 \u001b[0;31m# Otherwise, use the id as the label for the leaf.x\u001b[0m\u001b[0;34m\u001b[0m\u001b[0;34m\u001b[0m\u001b[0m\n",
      "\u001b[0;32m/usr/local/lib/python2.7/site-packages/pandas/core/series.pyc\u001b[0m in \u001b[0;36m__getitem__\u001b[0;34m(self, key)\u001b[0m\n\u001b[1;32m    512\u001b[0m     \u001b[0;32mdef\u001b[0m \u001b[0m__getitem__\u001b[0m\u001b[0;34m(\u001b[0m\u001b[0mself\u001b[0m\u001b[0;34m,\u001b[0m \u001b[0mkey\u001b[0m\u001b[0;34m)\u001b[0m\u001b[0;34m:\u001b[0m\u001b[0;34m\u001b[0m\u001b[0m\n\u001b[1;32m    513\u001b[0m         \u001b[0;32mtry\u001b[0m\u001b[0;34m:\u001b[0m\u001b[0;34m\u001b[0m\u001b[0m\n\u001b[0;32m--> 514\u001b[0;31m             \u001b[0mresult\u001b[0m \u001b[0;34m=\u001b[0m \u001b[0mself\u001b[0m\u001b[0;34m.\u001b[0m\u001b[0mindex\u001b[0m\u001b[0;34m.\u001b[0m\u001b[0mget_value\u001b[0m\u001b[0;34m(\u001b[0m\u001b[0mself\u001b[0m\u001b[0;34m,\u001b[0m \u001b[0mkey\u001b[0m\u001b[0;34m)\u001b[0m\u001b[0;34m\u001b[0m\u001b[0m\n\u001b[0m\u001b[1;32m    515\u001b[0m \u001b[0;34m\u001b[0m\u001b[0m\n\u001b[1;32m    516\u001b[0m             \u001b[0;32mif\u001b[0m \u001b[0;32mnot\u001b[0m \u001b[0mnp\u001b[0m\u001b[0;34m.\u001b[0m\u001b[0misscalar\u001b[0m\u001b[0;34m(\u001b[0m\u001b[0mresult\u001b[0m\u001b[0;34m)\u001b[0m\u001b[0;34m:\u001b[0m\u001b[0;34m\u001b[0m\u001b[0m\n",
      "\u001b[0;32m/usr/local/lib/python2.7/site-packages/pandas/core/index.pyc\u001b[0m in \u001b[0;36mget_value\u001b[0;34m(self, series, key)\u001b[0m\n\u001b[1;32m   1458\u001b[0m \u001b[0;34m\u001b[0m\u001b[0m\n\u001b[1;32m   1459\u001b[0m         \u001b[0;32mtry\u001b[0m\u001b[0;34m:\u001b[0m\u001b[0;34m\u001b[0m\u001b[0m\n\u001b[0;32m-> 1460\u001b[0;31m             \u001b[0;32mreturn\u001b[0m \u001b[0mself\u001b[0m\u001b[0;34m.\u001b[0m\u001b[0m_engine\u001b[0m\u001b[0;34m.\u001b[0m\u001b[0mget_value\u001b[0m\u001b[0;34m(\u001b[0m\u001b[0ms\u001b[0m\u001b[0;34m,\u001b[0m \u001b[0mk\u001b[0m\u001b[0;34m)\u001b[0m\u001b[0;34m\u001b[0m\u001b[0m\n\u001b[0m\u001b[1;32m   1461\u001b[0m         \u001b[0;32mexcept\u001b[0m \u001b[0mKeyError\u001b[0m \u001b[0;32mas\u001b[0m \u001b[0me1\u001b[0m\u001b[0;34m:\u001b[0m\u001b[0;34m\u001b[0m\u001b[0m\n\u001b[1;32m   1462\u001b[0m             \u001b[0;32mif\u001b[0m \u001b[0mlen\u001b[0m\u001b[0;34m(\u001b[0m\u001b[0mself\u001b[0m\u001b[0;34m)\u001b[0m \u001b[0;34m>\u001b[0m \u001b[0;36m0\u001b[0m \u001b[0;32mand\u001b[0m \u001b[0mself\u001b[0m\u001b[0;34m.\u001b[0m\u001b[0minferred_type\u001b[0m \u001b[0;32min\u001b[0m \u001b[0;34m[\u001b[0m\u001b[0;34m'integer'\u001b[0m\u001b[0;34m,\u001b[0m\u001b[0;34m'boolean'\u001b[0m\u001b[0;34m]\u001b[0m\u001b[0;34m:\u001b[0m\u001b[0;34m\u001b[0m\u001b[0m\n",
      "\u001b[0;32mpandas/index.pyx\u001b[0m in \u001b[0;36mpandas.index.IndexEngine.get_value (pandas/index.c:3113)\u001b[0;34m()\u001b[0m\n",
      "\u001b[0;32mpandas/index.pyx\u001b[0m in \u001b[0;36mpandas.index.IndexEngine.get_value (pandas/index.c:2844)\u001b[0;34m()\u001b[0m\n",
      "\u001b[0;32mpandas/index.pyx\u001b[0m in \u001b[0;36mpandas.index.IndexEngine.get_loc (pandas/index.c:3704)\u001b[0;34m()\u001b[0m\n",
      "\u001b[0;32mpandas/hashtable.pyx\u001b[0m in \u001b[0;36mpandas.hashtable.Int64HashTable.get_item (pandas/hashtable.c:7255)\u001b[0;34m()\u001b[0m\n",
      "\u001b[0;32mpandas/hashtable.pyx\u001b[0m in \u001b[0;36mpandas.hashtable.Int64HashTable.get_item (pandas/hashtable.c:7193)\u001b[0;34m()\u001b[0m\n",
      "\u001b[0;31mKeyError\u001b[0m: -4755"
     ]
    },
    {
     "data": {
      "image/png": "[encoded data removed]",
      "text/plain": [
       "<matplotlib.figure.Figure at 0x136990f10>"
      ]
     },
     "metadata": {},
     "output_type": "display_data"
    }
   ],
   "source": [
    "from scipy.cluster.hierarchy import ward, dendrogram\n",
    "\n",
    "linkage_matrix = ward(dist) #define the linkage_matrix using ward clustering pre-computed distances\n",
    "titles = highschool3.Title\n",
    "\n",
    "fig, ax = plt.subplots(figsize=(15, 20)) # set size\n",
    "ax = dendrogram(linkage_matrix, orientation=\"right\", labels=titles);\n",
    "\n",
    "plt.tick_params(\\\n",
    "    axis= 'x',          # changes apply to the x-axis\n",
    "    which='both',      # both major and minor ticks are affected\n",
    "    bottom='off',      # ticks along the bottom edge are off\n",
    "    top='off',         # ticks along the top edge are off\n",
    "    labelbottom='off')\n",
    "\n",
    "plt.tight_layout() #show plot with tight layout\n",
    "\n",
    "#uncomment below to save figure\n",
    "# plt.savefig('ward_clusters.png', dpi=200) #save figure as ward_clusters"
   ]
  },
  {
   "cell_type": "markdown",
   "metadata": {},
   "source": [
    "## Final Analysis\n",
    "    - What fundamental topics which are the pain points\n",
    "    - Which clusters have the most fundamental topics?\n",
    "    - Which clusters are overrepresented with fundamental topics?\n",
    "    - What are fundamental topics within calculus?"
   ]
  },
  {
   "cell_type": "markdown",
   "metadata": {
    "collapsed": true
   },
   "source": [
    "##Visualizations"
   ]
  },
  {
   "cell_type": "markdown",
   "metadata": {
    "collapsed": true
   },
   "source": [
    "### Presentation\n",
    "- High school is like a user experience. How can we identify when high school students as users  of the education system experience pain points which may inhibit their progress. \n",
    "- Everyone has pain points with the process. Some students are able to surmount those obstacles, while other may need targeted help to get the most out of the available system.\n",
    "- Often when speaking about mathematics you hear people say that they aren't math people, or aren't good at math and you find out that they hit a wall. It's like anything in life which is difficult. You hit a wall and you either push through it or you don't. \n",
    "- present it as a paradigm which is a process which can be improved upon. there are answers that we can deivgn about how to teach people that are better or worse than others. Testing to figure out where are the pain points and where are students falling behind, particularly in math/science. \n",
    "- These are users /consumers of education. \n",
    "- I'm building a tool which can target at what point students are exiting the process. "
   ]
  },
  {
   "cell_type": "code",
   "execution_count": null,
   "metadata": {
    "collapsed": true
   },
   "outputs": [],
   "source": []
  }
 ],
 "metadata": {
  "kernelspec": {
   "display_name": "Python 2",
   "language": "python",
   "name": "python2"
  },
  "language_info": {
   "codemirror_mode": {
    "name": "ipython",
    "version": 2
   },
   "file_extension": ".py",
   "mimetype": "text/x-python",
   "name": "python",
   "nbconvert_exporter": "python",
   "pygments_lexer": "ipython2",
   "version": "2.7.9"
  }
 },
 "nbformat": 4,
 "nbformat_minor": 0
}
