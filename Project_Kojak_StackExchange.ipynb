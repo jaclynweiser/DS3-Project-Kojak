{
 "cells": [
  {
   "cell_type": "markdown",
   "metadata": {},
   "source": [
    "###At what point in high school do students give up on math? Identifying knowledge gaps in high school and college math education using Stack Exchange's Math forum\n",
    "\n",
    "#### Additional Questions:\n",
    "    1. What are the most popular subjects over time? (Upvotes, Favorites and Views)\n",
    "    2. What are the most hotly debated subjects over time? (Comment Count, Longevity)\n",
    "    3. What are the most fundamental subjects students are asking about over time? (Asked multiple times, answered quickly and by only a few commenters)\n",
    "    4. What are the demographics of the posters and commenters? (Education level, age and location)\n",
    "    5. Who are the most active math people? How quickly do they reply? Who has way too much free time?\n",
    "    6. Can I determine sex from username?"
   ]
  },
  {
   "cell_type": "code",
   "execution_count": 160,
   "metadata": {
    "collapsed": false
   },
   "outputs": [],
   "source": [
    "import numpy as np\n",
    "import pandas as pd\n",
    "\n",
    "from xml.etree import ElementTree as ET\n",
    "from HTMLParser import HTMLParser\n",
    "\n",
    "import matplotlib.pyplot as plt\n",
    "%matplotlib inline \n",
    "import seaborn as sns"
   ]
  },
  {
   "cell_type": "code",
   "execution_count": 161,
   "metadata": {
    "collapsed": true
   },
   "outputs": [],
   "source": [
    "class MLStripper(HTMLParser):\n",
    "    def __init__(self):\n",
    "        self.reset()\n",
    "        self.fed = []\n",
    "    def handle_data(self, d):\n",
    "        self.fed.append(d)\n",
    "    def get_data(self):\n",
    "        return ''.join(self.fed)\n",
    "\n",
    "def strip_tags(html):\n",
    "    s = MLStripper()\n",
    "    s.feed(html)\n",
    "    return s.get_data()"
   ]
  },
  {
   "cell_type": "code",
   "execution_count": 162,
   "metadata": {
    "collapsed": false,
    "scrolled": true
   },
   "outputs": [],
   "source": [
    "etree = ET.parse('Data/Math/math.stackexchange.com/Posts.xml')\n",
    "root = etree.getroot()\n",
    "i = 0\n",
    "postdicts = []\n",
    "for x in root.iter():\n",
    "    postdicts.append(x.attrib)\n",
    "postdata = pd.DataFrame(postdicts).ix[1:]"
   ]
  },
  {
   "cell_type": "code",
   "execution_count": 163,
   "metadata": {
    "collapsed": true
   },
   "outputs": [],
   "source": [
    "for index, row in postdata.iterrows():\n",
    "    row['Body'] = strip_tags(row['Body'])"
   ]
  },
  {
   "cell_type": "code",
   "execution_count": 164,
   "metadata": {
    "collapsed": false,
    "scrolled": true
   },
   "outputs": [],
   "source": [
    "etree = ET.parse('Data/Math/math.stackexchange.com/Users.xml')\n",
    "root = etree.getroot()\n",
    "i = 0\n",
    "userdicts = []\n",
    "for x in root.iter():\n",
    "    userdicts.append(x.attrib)\n",
    "userdata = pd.DataFrame(userdicts).ix[1:]"
   ]
  },
  {
   "cell_type": "code",
   "execution_count": 165,
   "metadata": {
    "collapsed": true
   },
   "outputs": [],
   "source": [
    "location2 = userdata['Location']"
   ]
  },
  {
   "cell_type": "code",
   "execution_count": 166,
   "metadata": {
    "collapsed": false
   },
   "outputs": [],
   "source": [
    "userdata.replace(to_replace=['Bangalore, India','London, United Kingdom','New York, United States','San Francisco, CA','Mumbai, India','Paris, France','Sydney, Australia','Toronto, Canada','Moscow, Russia','Chennai, India','Los Angeles, CA','Berlin, Germany','Montreal, Canada','Melbourne, Australia','Hyderabad, India','Pune, India','Beijing, China','Vancouver, Canada','Stockholm, Sweden','Kolkata, India','New Delhi, India','UK','London'], \n",
    "                 value=['India','United Kingdom','New York, NY','California','India','France','Australia','Canada','Russia','India','California','Germany','Canada','Australia','India','India','China','Canada','Sweden','India','India','United Kingdom','United Kingdom'],inplace=True)"
   ]
  },
  {
   "cell_type": "code",
   "execution_count": 167,
   "metadata": {
    "collapsed": true
   },
   "outputs": [],
   "source": [
    "userdata.replace(to_replace=['California','New York, NY','Seattle, WA','Boston, MA','Chicago, IL','Austin, TX','Atlanta, GA','Pittsburgh, PA','Portland, OR','USA','San Diego, CA','Berkeley, CA'],value='United States',inplace=True)"
   ]
  },
  {
   "cell_type": "code",
   "execution_count": 168,
   "metadata": {
    "collapsed": false
   },
   "outputs": [
    {
     "data": {
      "text/plain": [
       "Index([u'AboutMe', u'AccountId', u'Age', u'CreationDate', u'DisplayName', u'DownVotes', u'Id', u'LastAccessDate', u'Location', u'ProfileImageUrl', u'Reputation', u'UpVotes', u'Views', u'WebsiteUrl', u'Location2'], dtype='object')"
      ]
     },
     "execution_count": 168,
     "metadata": {},
     "output_type": "execute_result"
    }
   ],
   "source": [
    "userdata['Location2'] = location2\n",
    "userdata.columns"
   ]
  },
  {
   "cell_type": "code",
   "execution_count": 169,
   "metadata": {
    "collapsed": false
   },
   "outputs": [],
   "source": [
    "def counter(x):\n",
    "    x['Counter'] = x.Location.count()\n",
    "    return x\n",
    "counts = userdata.groupby(\"Location\").apply(counter)\n",
    "counts2 = counts[['Location','Counter']]\n",
    "counts3 = counts2.drop_duplicates(cols='Location',take_last = True)\n",
    "counts3.sort(columns='Counter',ascending=False,inplace=True)\n",
    "counts4 = counts3[['Location','Counter']]\n",
    "# userdata2.sort(columns='',ascending=False,inplace=True)"
   ]
  },
  {
   "cell_type": "code",
   "execution_count": 170,
   "metadata": {
    "collapsed": false
   },
   "outputs": [
    {
     "data": {
      "text/html": [
       "<div style=\"max-height:1000px;max-width:1500px;overflow:auto;\">\n",
       "<table border=\"1\" class=\"dataframe\">\n",
       "  <thead>\n",
       "    <tr style=\"text-align: right;\">\n",
       "      <th></th>\n",
       "      <th>Location</th>\n",
       "      <th>Counter</th>\n",
       "    </tr>\n",
       "  </thead>\n",
       "  <tbody>\n",
       "    <tr>\n",
       "      <th>171513</th>\n",
       "      <td>United States</td>\n",
       "      <td>3945</td>\n",
       "    </tr>\n",
       "    <tr>\n",
       "      <th>171322</th>\n",
       "      <td>India</td>\n",
       "      <td>2706</td>\n",
       "    </tr>\n",
       "    <tr>\n",
       "      <th>171622</th>\n",
       "      <td>United Kingdom</td>\n",
       "      <td>1482</td>\n",
       "    </tr>\n",
       "    <tr>\n",
       "      <th>171489</th>\n",
       "      <td>Germany</td>\n",
       "      <td>902</td>\n",
       "    </tr>\n",
       "    <tr>\n",
       "      <th>171132</th>\n",
       "      <td>Canada</td>\n",
       "      <td>877</td>\n",
       "    </tr>\n",
       "    <tr>\n",
       "      <th>171559</th>\n",
       "      <td>Australia</td>\n",
       "      <td>623</td>\n",
       "    </tr>\n",
       "    <tr>\n",
       "      <th>170315</th>\n",
       "      <td>France</td>\n",
       "      <td>576</td>\n",
       "    </tr>\n",
       "    <tr>\n",
       "      <th>171718</th>\n",
       "      <td>Russia</td>\n",
       "      <td>462</td>\n",
       "    </tr>\n",
       "    <tr>\n",
       "      <th>167586</th>\n",
       "      <td>Sweden</td>\n",
       "      <td>382</td>\n",
       "    </tr>\n",
       "    <tr>\n",
       "      <th>171098</th>\n",
       "      <td>Netherlands</td>\n",
       "      <td>325</td>\n",
       "    </tr>\n",
       "    <tr>\n",
       "      <th>170847</th>\n",
       "      <td>Brazil</td>\n",
       "      <td>324</td>\n",
       "    </tr>\n",
       "    <tr>\n",
       "      <th>170762</th>\n",
       "      <td>China</td>\n",
       "      <td>320</td>\n",
       "    </tr>\n",
       "    <tr>\n",
       "      <th>165159</th>\n",
       "      <td>Israel</td>\n",
       "      <td>278</td>\n",
       "    </tr>\n",
       "    <tr>\n",
       "      <th>170942</th>\n",
       "      <td>Italy</td>\n",
       "      <td>272</td>\n",
       "    </tr>\n",
       "    <tr>\n",
       "      <th>160127</th>\n",
       "      <td>Belgium</td>\n",
       "      <td>199</td>\n",
       "    </tr>\n",
       "    <tr>\n",
       "      <th>168057</th>\n",
       "      <td>Denmark</td>\n",
       "      <td>177</td>\n",
       "    </tr>\n",
       "    <tr>\n",
       "      <th>170791</th>\n",
       "      <td>Poland</td>\n",
       "      <td>176</td>\n",
       "    </tr>\n",
       "    <tr>\n",
       "      <th>171140</th>\n",
       "      <td>Switzerland</td>\n",
       "      <td>166</td>\n",
       "    </tr>\n",
       "    <tr>\n",
       "      <th>170072</th>\n",
       "      <td>Singapore</td>\n",
       "      <td>162</td>\n",
       "    </tr>\n",
       "    <tr>\n",
       "      <th>171557</th>\n",
       "      <td>Iran</td>\n",
       "      <td>146</td>\n",
       "    </tr>\n",
       "    <tr>\n",
       "      <th>160559</th>\n",
       "      <td>South Africa</td>\n",
       "      <td>124</td>\n",
       "    </tr>\n",
       "    <tr>\n",
       "      <th>168173</th>\n",
       "      <td>Ukraine</td>\n",
       "      <td>120</td>\n",
       "    </tr>\n",
       "    <tr>\n",
       "      <th>168420</th>\n",
       "      <td>Earth</td>\n",
       "      <td>119</td>\n",
       "    </tr>\n",
       "    <tr>\n",
       "      <th>165967</th>\n",
       "      <td>Norway</td>\n",
       "      <td>115</td>\n",
       "    </tr>\n",
       "    <tr>\n",
       "      <th>171089</th>\n",
       "      <td>Spain</td>\n",
       "      <td>109</td>\n",
       "    </tr>\n",
       "    <tr>\n",
       "      <th>170483</th>\n",
       "      <td>Hong Kong</td>\n",
       "      <td>108</td>\n",
       "    </tr>\n",
       "    <tr>\n",
       "      <th>170304</th>\n",
       "      <td>Finland</td>\n",
       "      <td>104</td>\n",
       "    </tr>\n",
       "    <tr>\n",
       "      <th>169434</th>\n",
       "      <td>Dhaka, Bangladesh</td>\n",
       "      <td>104</td>\n",
       "    </tr>\n",
       "    <tr>\n",
       "      <th>167757</th>\n",
       "      <td>Mexico</td>\n",
       "      <td>103</td>\n",
       "    </tr>\n",
       "    <tr>\n",
       "      <th>171192</th>\n",
       "      <td>Turkey</td>\n",
       "      <td>102</td>\n",
       "    </tr>\n",
       "  </tbody>\n",
       "</table>\n",
       "</div>"
      ],
      "text/plain": [
       "                 Location  Counter\n",
       "171513      United States     3945\n",
       "171322              India     2706\n",
       "171622     United Kingdom     1482\n",
       "171489            Germany      902\n",
       "171132             Canada      877\n",
       "171559          Australia      623\n",
       "170315             France      576\n",
       "171718             Russia      462\n",
       "167586             Sweden      382\n",
       "171098        Netherlands      325\n",
       "170847             Brazil      324\n",
       "170762              China      320\n",
       "165159             Israel      278\n",
       "170942              Italy      272\n",
       "160127            Belgium      199\n",
       "168057            Denmark      177\n",
       "170791             Poland      176\n",
       "171140        Switzerland      166\n",
       "170072          Singapore      162\n",
       "171557               Iran      146\n",
       "160559       South Africa      124\n",
       "168173            Ukraine      120\n",
       "168420              Earth      119\n",
       "165967             Norway      115\n",
       "171089              Spain      109\n",
       "170483          Hong Kong      108\n",
       "170304            Finland      104\n",
       "169434  Dhaka, Bangladesh      104\n",
       "167757             Mexico      103\n",
       "171192             Turkey      102"
      ]
     },
     "execution_count": 170,
     "metadata": {},
     "output_type": "execute_result"
    }
   ],
   "source": [
    "counts4.head(30)"
   ]
  },
  {
   "cell_type": "code",
   "execution_count": 171,
   "metadata": {
    "collapsed": false
   },
   "outputs": [
    {
     "data": {
      "image/png": "[encoded data removed]",
      "text/plain": [
       "<matplotlib.figure.Figure at 0x1d0495210>"
      ]
     },
     "metadata": {},
     "output_type": "display_data"
    }
   ],
   "source": [
    "# Who are the users of the Math Forum?\n",
    "sns.set_palette(\"deep\", desat=.8)\n",
    "sns.set(font_scale=2.0)\n",
    "sns.set_context(rc={\"figure.figsize\": (20, 10)})   \n",
    "ax = counts4[0:20].plot(x='Location', y='Counter',kind='bar',colormap='jet',title='Top 20 User Locations',legend=False)"
   ]
  },
  {
   "cell_type": "code",
   "execution_count": 172,
   "metadata": {
    "collapsed": false
   },
   "outputs": [],
   "source": [
    "postdata = pd.merge(postdata, userdata, left_on='OwnerUserId', right_on='Id', how='left')"
   ]
  },
  {
   "cell_type": "code",
   "execution_count": 173,
   "metadata": {
    "collapsed": false,
    "scrolled": false
   },
   "outputs": [],
   "source": [
    "etree = ET.parse('Data/Math/math.stackexchange.com/Comments.xml')\n",
    "root = etree.getroot()\n",
    "i = 0\n",
    "commentdicts = []\n",
    "for x in root.iter():\n",
    "    commentdicts.append(x.attrib)\n",
    "commentdata = pd.DataFrame(commentdicts).ix[1:]"
   ]
  },
  {
   "cell_type": "code",
   "execution_count": 174,
   "metadata": {
    "collapsed": true
   },
   "outputs": [],
   "source": [
    "for index, row in commentdata.iterrows():\n",
    "    row['Text'] = strip_tags(row['Text'])"
   ]
  },
  {
   "cell_type": "code",
   "execution_count": 175,
   "metadata": {
    "collapsed": false
   },
   "outputs": [],
   "source": [
    "commentdata = pd.merge(commentdata, userdata, left_on='UserId', right_on='Id', how='left')"
   ]
  },
  {
   "cell_type": "code",
   "execution_count": 176,
   "metadata": {
    "collapsed": false
   },
   "outputs": [],
   "source": [
    "postdata.CreationDate_x = pd.to_datetime(postdata.CreationDate_x)\n",
    "postdata.LastActivityDate = pd.to_datetime(postdata.LastActivityDate)"
   ]
  },
  {
   "cell_type": "code",
   "execution_count": 177,
   "metadata": {
    "collapsed": false
   },
   "outputs": [],
   "source": [
    "postdata['Longevity'] = postdata.LastActivityDate - postdata.CreationDate_x"
   ]
  },
  {
   "cell_type": "code",
   "execution_count": 178,
   "metadata": {
    "collapsed": false
   },
   "outputs": [],
   "source": [
    "LongevitySeconds = []\n",
    "for row in postdata.Longevity:\n",
    "    LongevitySeconds.append(row.total_seconds())\n",
    "postdata['LongevitySeconds'] = LongevitySeconds"
   ]
  },
  {
   "cell_type": "code",
   "execution_count": 179,
   "metadata": {
    "collapsed": false,
    "scrolled": false
   },
   "outputs": [
    {
     "data": {
      "text/plain": [
       "0                            set-theory,intuition,faq,\n",
       "1                          calculus,limits,definition,\n",
       "2             soft-question,big-list,online-resources,\n",
       "3                                                  NaN\n",
       "4                    number-theory,irrational-numbers,\n",
       "5                         soft-question,math-software,\n",
       "6                                                  NaN\n",
       "7    linear-algebra,combinatorics,generating-functi...\n",
       "8                                                  NaN\n",
       "9               algebra-precalculus,decimal-expansion,\n",
       "Name: Tags, dtype: object"
      ]
     },
     "execution_count": 179,
     "metadata": {},
     "output_type": "execute_result"
    }
   ],
   "source": [
    "# Pull out tags\n",
    "postdata.Tags = postdata.Tags.str.replace('\\\\<', '')\n",
    "postdata.Tags = postdata.Tags.str.replace('\\\\>', ',')\n",
    "postdata.Tags[0:10]"
   ]
  },
  {
   "cell_type": "code",
   "execution_count": 180,
   "metadata": {
    "collapsed": false
   },
   "outputs": [],
   "source": [
    "removenans = postdata.Tags\n",
    "removenans = removenans.fillna('')\n",
    "postdata.Tags = removenans\n",
    "postdata.Tags = postdata.Tags.str.strip(',')"
   ]
  },
  {
   "cell_type": "code",
   "execution_count": 181,
   "metadata": {
    "collapsed": false
   },
   "outputs": [
    {
     "name": "stdout",
     "output_type": "stream",
     "text": [
      "0     269\n",
      "1      71\n",
      "2      72\n",
      "3     191\n",
      "4     196\n",
      "5     117\n",
      "6     285\n",
      "7     392\n",
      "8    1490\n",
      "9     122\n",
      "Name: BodyLength, dtype: int64\n"
     ]
    }
   ],
   "source": [
    "postdata['BodyLength'] = postdata['Body'].str.len()\n",
    "print postdata['BodyLength'][0:10]"
   ]
  },
  {
   "cell_type": "code",
   "execution_count": 182,
   "metadata": {
    "collapsed": false
   },
   "outputs": [],
   "source": [
    "# Get unique list of subjects and their counts\n",
    "subjectlist = []\n",
    "for row in postdata.Tags:\n",
    "    for subject in row.split(','):\n",
    "        subjectlist.append(subject)"
   ]
  },
  {
   "cell_type": "code",
   "execution_count": 183,
   "metadata": {
    "collapsed": false
   },
   "outputs": [],
   "source": [
    "from collections import Counter\n",
    "counts = Counter(subjectlist)"
   ]
  },
  {
   "cell_type": "code",
   "execution_count": 184,
   "metadata": {
    "collapsed": false
   },
   "outputs": [],
   "source": [
    "taglist = []\n",
    "tagcounts = []\n",
    "for word, count in counts.iteritems():\n",
    "    taglist.append(word)\n",
    "    tagcounts.append(count)\n",
    "uniquetaglist = zip(*[taglist,tagcounts])\n",
    "uniquetags = pd.DataFrame(uniquetaglist)\n",
    "uniquetags.columns = ['Tag','Count']\n",
    "uniquetags.sort(columns='Count',ascending=False,inplace=True)"
   ]
  },
  {
   "cell_type": "code",
   "execution_count": 185,
   "metadata": {
    "collapsed": false
   },
   "outputs": [],
   "source": [
    "# Modify with high-school, non-high school values in Excel\n",
    "# uniquetags.to_csv('uniquetags.csv')"
   ]
  },
  {
   "cell_type": "code",
   "execution_count": 186,
   "metadata": {
    "collapsed": false
   },
   "outputs": [],
   "source": [
    "uniquetags2 = uniquetags.from_csv('uniquetags.csv',header = 0)"
   ]
  },
  {
   "cell_type": "code",
   "execution_count": 187,
   "metadata": {
    "collapsed": false
   },
   "outputs": [
    {
     "data": {
      "text/plain": [
       "Index([u'Tag', u'Count', u'HighSchoolSubjects'], dtype='object')"
      ]
     },
     "execution_count": 187,
     "metadata": {},
     "output_type": "execute_result"
    }
   ],
   "source": [
    "uniquetags2.columns"
   ]
  },
  {
   "cell_type": "code",
   "execution_count": 188,
   "metadata": {
    "collapsed": false
   },
   "outputs": [
    {
     "data": {
      "text/plain": [
       "['real-analysis',\n",
       " 'linear-algebra',\n",
       " 'probability',\n",
       " 'abstract-algebra',\n",
       " 'sequences-and-series',\n",
       " 'general-topology',\n",
       " 'combinatorics',\n",
       " 'group-theory',\n",
       " 'complex-analysis']"
      ]
     },
     "execution_count": 188,
     "metadata": {},
     "output_type": "execute_result"
    }
   ],
   "source": [
    "highschoolbinary = uniquetags2['HighSchoolSubjects'].tolist()\n",
    "tagstemp = uniquetags2['Tag'].tolist()\n",
    "subjectbinary = zip(*[tagstemp,highschoolbinary])\n",
    "highschooltags = []\n",
    "defnothighschooltags = []\n",
    "for item in subjectbinary:\n",
    "    if item[1] == 1:\n",
    "        highschooltags.append(item[0])\n",
    "    elif item[1] == 0:\n",
    "        defnothighschooltags.append(item[0])\n",
    "highschooltags[0:9]    \n",
    "defnothighschooltags[0:9]"
   ]
  },
  {
   "cell_type": "code",
   "execution_count": 189,
   "metadata": {
    "collapsed": true
   },
   "outputs": [],
   "source": [
    "# Develop training set from subjects I am sure are \n",
    "# high-school or not high-school level\n",
    "highschoolsubject = []\n",
    "for row in postdata.Tags:\n",
    "    if any(subject not in highschooltags for subject in row.split(',')):\n",
    "        if any(subject in defnothighschooltags for subject in row.split(',')):\n",
    "            highschoolsubject.append(0.0)\n",
    "        else:\n",
    "            highschoolsubject.append(0.5)\n",
    "    elif any(subject not in defnothighschooltags for subject in row.split(',')):\n",
    "        highschoolsubject.append(1.0)\n",
    "    else:\n",
    "        highschoolsubject.append(1)\n",
    "    for subject in row.split(','):\n",
    "        subjectlist.append(subject)\n",
    "postdata['HighSchoolSubject'] = highschoolsubject"
   ]
  },
  {
   "cell_type": "code",
   "execution_count": 190,
   "metadata": {
    "collapsed": false
   },
   "outputs": [
    {
     "data": {
      "text/html": [
       "<div style=\"max-height:1000px;max-width:1500px;overflow:auto;\">\n",
       "<table border=\"1\" class=\"dataframe\">\n",
       "  <thead>\n",
       "    <tr style=\"text-align: right;\">\n",
       "      <th></th>\n",
       "      <th>Tags</th>\n",
       "      <th>HighSchoolSubject</th>\n",
       "    </tr>\n",
       "  </thead>\n",
       "  <tbody>\n",
       "    <tr>\n",
       "      <th>0</th>\n",
       "      <td>set-theory,intuition,faq</td>\n",
       "      <td>0.0</td>\n",
       "    </tr>\n",
       "    <tr>\n",
       "      <th>1</th>\n",
       "      <td>calculus,limits,definition</td>\n",
       "      <td>0.5</td>\n",
       "    </tr>\n",
       "    <tr>\n",
       "      <th>2</th>\n",
       "      <td>soft-question,big-list,online-resources</td>\n",
       "      <td>0.5</td>\n",
       "    </tr>\n",
       "    <tr>\n",
       "      <th>3</th>\n",
       "      <td></td>\n",
       "      <td>0.5</td>\n",
       "    </tr>\n",
       "    <tr>\n",
       "      <th>4</th>\n",
       "      <td>number-theory,irrational-numbers</td>\n",
       "      <td>0.0</td>\n",
       "    </tr>\n",
       "    <tr>\n",
       "      <th>5</th>\n",
       "      <td>soft-question,math-software</td>\n",
       "      <td>0.5</td>\n",
       "    </tr>\n",
       "    <tr>\n",
       "      <th>6</th>\n",
       "      <td></td>\n",
       "      <td>0.5</td>\n",
       "    </tr>\n",
       "    <tr>\n",
       "      <th>7</th>\n",
       "      <td>linear-algebra,combinatorics,generating-functi...</td>\n",
       "      <td>0.0</td>\n",
       "    </tr>\n",
       "    <tr>\n",
       "      <th>8</th>\n",
       "      <td></td>\n",
       "      <td>0.5</td>\n",
       "    </tr>\n",
       "  </tbody>\n",
       "</table>\n",
       "</div>"
      ],
      "text/plain": [
       "                                                Tags  HighSchoolSubject\n",
       "0                           set-theory,intuition,faq                0.0\n",
       "1                         calculus,limits,definition                0.5\n",
       "2            soft-question,big-list,online-resources                0.5\n",
       "3                                                                   0.5\n",
       "4                   number-theory,irrational-numbers                0.0\n",
       "5                        soft-question,math-software                0.5\n",
       "6                                                                   0.5\n",
       "7  linear-algebra,combinatorics,generating-functi...                0.0\n",
       "8                                                                   0.5"
      ]
     },
     "execution_count": 190,
     "metadata": {},
     "output_type": "execute_result"
    }
   ],
   "source": [
    "postdata[['Tags','HighSchoolSubject']][0:9]"
   ]
  },
  {
   "cell_type": "code",
   "execution_count": 191,
   "metadata": {
    "collapsed": false
   },
   "outputs": [],
   "source": [
    "postdata.AnswerCount = postdata.AnswerCount.fillna(0)\n",
    "postdata.Longevity = postdata.Longevity.fillna(0)\n",
    "postdata.FavoriteCount = postdata.FavoriteCount.fillna(0)\n",
    "postdata.CommentCount = postdata.CommentCount.fillna(0)\n",
    "postdata.ViewCount = postdata.ViewCount.fillna(0)\n",
    "postdata.BodyLength = postdata.BodyLength.fillna(0)\n",
    "for col in ['AnswerCount', 'FavoriteCount', 'CommentCount', 'ViewCount']:\n",
    "    postdata[col] = postdata[col].astype(float)"
   ]
  },
  {
   "cell_type": "markdown",
   "metadata": {},
   "source": [
    "### Pickle dataframe for posterity"
   ]
  },
  {
   "cell_type": "code",
   "execution_count": 192,
   "metadata": {
    "collapsed": false
   },
   "outputs": [],
   "source": [
    "# import pickle\n",
    "# with open('StackOverflowPostData.pkl', 'w') as picklefile:\n",
    "#     pickle.dump(postdata, picklefile)"
   ]
  },
  {
   "cell_type": "markdown",
   "metadata": {
    "collapsed": true
   },
   "source": [
    "###Unpickle"
   ]
  },
  {
   "cell_type": "code",
   "execution_count": 2,
   "metadata": {
    "collapsed": false
   },
   "outputs": [],
   "source": [
    "import pickle\n",
    "with open(\"StackOverflowPostData.pkl\", 'r') as picklefile: \n",
    "    postdata = pickle.load(picklefile)"
   ]
  },
  {
   "cell_type": "markdown",
   "metadata": {
    "collapsed": true
   },
   "source": [
    "##What are the most popular topics?"
   ]
  },
  {
   "cell_type": "code",
   "execution_count": 82,
   "metadata": {
    "collapsed": false
   },
   "outputs": [],
   "source": [
    "# %%timeit\n",
    "things = ['LongevitySeconds', 'AnswerCount', 'FavoriteCount',\n",
    "          'CommentCount', 'ViewCount', 'BodyLength']\n",
    "results = {}\n",
    "running_sum = 0\n",
    "running_count = 0\n",
    "for index in xrange(len(postdata)):\n",
    "    tags = postdata.iloc[index]['Tags'].split(',')\n",
    "    for tag in tags:\n",
    "        for thing in things:\n",
    "            value = postdata.iloc[index][thing]\n",
    "            running_sum, running_count = results.setdefault(tag, {}).get(thing, (0, 0))\n",
    "            results[tag][thing] = [running_sum + value, running_count + 1]"
   ]
  },
  {
   "cell_type": "code",
   "execution_count": 83,
   "metadata": {
    "collapsed": false
   },
   "outputs": [],
   "source": [
    "tagstats = pd.DataFrame.from_dict(results)\n",
    "tagstats2 = tagstats.transpose()"
   ]
  },
  {
   "cell_type": "code",
   "execution_count": 84,
   "metadata": {
    "collapsed": false
   },
   "outputs": [
    {
     "name": "stdout",
     "output_type": "stream",
     "text": [
      "[596320, 9, 7, 814, 193, 957, 51, 73, 576, 22687]\n"
     ]
    }
   ],
   "source": [
    "Frequency = []\n",
    "for row in tagstats2.AnswerCount:\n",
    "    Frequency.append(row.pop())\n",
    "print Frequency[0:10]"
   ]
  },
  {
   "cell_type": "code",
   "execution_count": 85,
   "metadata": {
    "collapsed": false
   },
   "outputs": [],
   "source": [
    "for index in xrange(len(tagstats2)):\n",
    "    for col in range(1,6):\n",
    "        tagstats2.iloc[index][col].pop()"
   ]
  },
  {
   "cell_type": "code",
   "execution_count": 86,
   "metadata": {
    "collapsed": false
   },
   "outputs": [
    {
     "data": {
      "text/html": [
       "<div style=\"max-height:1000px;max-width:1500px;overflow:auto;\">\n",
       "<table border=\"1\" class=\"dataframe\">\n",
       "  <thead>\n",
       "    <tr style=\"text-align: right;\">\n",
       "      <th></th>\n",
       "      <th>AnswerCount</th>\n",
       "      <th>BodyLength</th>\n",
       "      <th>CommentCount</th>\n",
       "      <th>FavoriteCount</th>\n",
       "      <th>LongevitySeconds</th>\n",
       "      <th>ViewCount</th>\n",
       "    </tr>\n",
       "  </thead>\n",
       "  <tbody>\n",
       "    <tr>\n",
       "      <th></th>\n",
       "      <td>[0.0]</td>\n",
       "      <td>[422587540]</td>\n",
       "      <td>[896301.0]</td>\n",
       "      <td>[0.0]</td>\n",
       "      <td>[360427361860.0]</td>\n",
       "      <td>[0.0]</td>\n",
       "    </tr>\n",
       "    <tr>\n",
       "      <th>2-categories</th>\n",
       "      <td>[6.0]</td>\n",
       "      <td>[6131]</td>\n",
       "      <td>[8.0]</td>\n",
       "      <td>[2.0]</td>\n",
       "      <td>[6516330.828]</td>\n",
       "      <td>[370.0]</td>\n",
       "    </tr>\n",
       "    <tr>\n",
       "      <th>2-groups</th>\n",
       "      <td>[6.0]</td>\n",
       "      <td>[4762]</td>\n",
       "      <td>[29.0]</td>\n",
       "      <td>[17.0]</td>\n",
       "      <td>[183307981.115]</td>\n",
       "      <td>[772.0]</td>\n",
       "    </tr>\n",
       "    <tr>\n",
       "      <th>3d</th>\n",
       "      <td>[966.0]</td>\n",
       "      <td>[617443]</td>\n",
       "      <td>[1583.0]</td>\n",
       "      <td>[254.0]</td>\n",
       "      <td>[3962347268.74]</td>\n",
       "      <td>[413932.0]</td>\n",
       "    </tr>\n",
       "    <tr>\n",
       "      <th>abelian-categories</th>\n",
       "      <td>[197.0]</td>\n",
       "      <td>[150127]</td>\n",
       "      <td>[443.0]</td>\n",
       "      <td>[221.0]</td>\n",
       "      <td>[777818719.881]</td>\n",
       "      <td>[34933.0]</td>\n",
       "    </tr>\n",
       "  </tbody>\n",
       "</table>\n",
       "</div>"
      ],
      "text/plain": [
       "                   AnswerCount   BodyLength CommentCount FavoriteCount  \\\n",
       "                         [0.0]  [422587540]   [896301.0]         [0.0]   \n",
       "2-categories             [6.0]       [6131]        [8.0]         [2.0]   \n",
       "2-groups                 [6.0]       [4762]       [29.0]        [17.0]   \n",
       "3d                     [966.0]     [617443]     [1583.0]       [254.0]   \n",
       "abelian-categories     [197.0]     [150127]      [443.0]       [221.0]   \n",
       "\n",
       "                    LongevitySeconds   ViewCount  \n",
       "                    [360427361860.0]       [0.0]  \n",
       "2-categories           [6516330.828]     [370.0]  \n",
       "2-groups             [183307981.115]     [772.0]  \n",
       "3d                   [3962347268.74]  [413932.0]  \n",
       "abelian-categories   [777818719.881]   [34933.0]  "
      ]
     },
     "execution_count": 86,
     "metadata": {},
     "output_type": "execute_result"
    }
   ],
   "source": [
    "tagstats2.head()"
   ]
  },
  {
   "cell_type": "code",
   "execution_count": 87,
   "metadata": {
    "collapsed": false
   },
   "outputs": [],
   "source": [
    "for index in xrange(len(tagstats2)):\n",
    "    for col in range(0,6):\n",
    "        tagstats2.iloc[index][col] = tagstats2.iloc[index][col][0]"
   ]
  },
  {
   "cell_type": "code",
   "execution_count": 88,
   "metadata": {
    "collapsed": false
   },
   "outputs": [],
   "source": [
    "tagstats2['Frequency'] = Frequency"
   ]
  },
  {
   "cell_type": "code",
   "execution_count": 89,
   "metadata": {
    "collapsed": false
   },
   "outputs": [],
   "source": [
    "tagstats2.LongevitySeconds = tagstats2.LongevitySeconds/3600.0"
   ]
  },
  {
   "cell_type": "code",
   "execution_count": 90,
   "metadata": {
    "collapsed": true
   },
   "outputs": [],
   "source": [
    "tagstats2.columns = ['AnswerCount','BodyLength','CommentCount','FavoriteCount','LongevityHours','ViewCount','Frequency']"
   ]
  },
  {
   "cell_type": "code",
   "execution_count": 91,
   "metadata": {
    "collapsed": false
   },
   "outputs": [
    {
     "data": {
      "text/html": [
       "<div style=\"max-height:1000px;max-width:1500px;overflow:auto;\">\n",
       "<table border=\"1\" class=\"dataframe\">\n",
       "  <thead>\n",
       "    <tr style=\"text-align: right;\">\n",
       "      <th></th>\n",
       "      <th>AnswerCount</th>\n",
       "      <th>BodyLength</th>\n",
       "      <th>CommentCount</th>\n",
       "      <th>FavoriteCount</th>\n",
       "      <th>LongevityHours</th>\n",
       "      <th>ViewCount</th>\n",
       "      <th>Frequency</th>\n",
       "    </tr>\n",
       "  </thead>\n",
       "  <tbody>\n",
       "    <tr>\n",
       "      <th></th>\n",
       "      <td>0</td>\n",
       "      <td>422587540</td>\n",
       "      <td>896301</td>\n",
       "      <td>0</td>\n",
       "      <td>1.001187e+08</td>\n",
       "      <td>0</td>\n",
       "      <td>596320</td>\n",
       "    </tr>\n",
       "    <tr>\n",
       "      <th>2-categories</th>\n",
       "      <td>6</td>\n",
       "      <td>6131</td>\n",
       "      <td>8</td>\n",
       "      <td>2</td>\n",
       "      <td>1810.092</td>\n",
       "      <td>370</td>\n",
       "      <td>9</td>\n",
       "    </tr>\n",
       "    <tr>\n",
       "      <th>2-groups</th>\n",
       "      <td>6</td>\n",
       "      <td>4762</td>\n",
       "      <td>29</td>\n",
       "      <td>17</td>\n",
       "      <td>50918.88</td>\n",
       "      <td>772</td>\n",
       "      <td>7</td>\n",
       "    </tr>\n",
       "    <tr>\n",
       "      <th>3d</th>\n",
       "      <td>966</td>\n",
       "      <td>617443</td>\n",
       "      <td>1583</td>\n",
       "      <td>254</td>\n",
       "      <td>1100652</td>\n",
       "      <td>413932</td>\n",
       "      <td>814</td>\n",
       "    </tr>\n",
       "    <tr>\n",
       "      <th>abelian-categories</th>\n",
       "      <td>197</td>\n",
       "      <td>150127</td>\n",
       "      <td>443</td>\n",
       "      <td>221</td>\n",
       "      <td>216060.8</td>\n",
       "      <td>34933</td>\n",
       "      <td>193</td>\n",
       "    </tr>\n",
       "  </tbody>\n",
       "</table>\n",
       "</div>"
      ],
      "text/plain": [
       "                   AnswerCount BodyLength CommentCount FavoriteCount  \\\n",
       "                             0  422587540       896301             0   \n",
       "2-categories                 6       6131            8             2   \n",
       "2-groups                     6       4762           29            17   \n",
       "3d                         966     617443         1583           254   \n",
       "abelian-categories         197     150127          443           221   \n",
       "\n",
       "                   LongevityHours ViewCount  Frequency  \n",
       "                     1.001187e+08         0     596320  \n",
       "2-categories             1810.092       370          9  \n",
       "2-groups                 50918.88       772          7  \n",
       "3d                        1100652    413932        814  \n",
       "abelian-categories       216060.8     34933        193  "
      ]
     },
     "execution_count": 91,
     "metadata": {},
     "output_type": "execute_result"
    }
   ],
   "source": [
    "tagstats2.head()"
   ]
  },
  {
   "cell_type": "code",
   "execution_count": 92,
   "metadata": {
    "collapsed": false
   },
   "outputs": [
    {
     "name": "stderr",
     "output_type": "stream",
     "text": [
      "/usr/local/lib/python2.7/site-packages/pandas/core/generic.py:2005: SettingWithCopyWarning: \n",
      "A value is trying to be set on a copy of a slice from a DataFrame.\n",
      "Try using .loc[row_indexer,col_indexer] = value instead\n",
      "\n",
      "See the the caveats in the documentation: http://pandas.pydata.org/pandas-docs/stable/indexing.html#indexing-view-versus-copy\n",
      "  self[name] = value\n"
     ]
    }
   ],
   "source": [
    "toptopics = tagstats2[['Frequency','CommentCount','ViewCount','FavoriteCount']]\n",
    "toptopics.CommentCount = toptopics.CommentCount / toptopics.Frequency\n",
    "toptopics.ViewCount = toptopics.ViewCount / toptopics.Frequency\n",
    "toptopics.FavoriteCount = toptopics.FavoriteCount / toptopics.Frequency\n",
    "toptopics.sort(columns='ViewCount',ascending=False,inplace=True)"
   ]
  },
  {
   "cell_type": "code",
   "execution_count": 93,
   "metadata": {
    "collapsed": false
   },
   "outputs": [],
   "source": [
    "toptopics2 = toptopics.apply(lambda c: c / c.sum() * 100, axis=0)\n",
    "toptopics2['SumOfTotal'] = (toptopics2.Frequency + toptopics2.CommentCount + toptopics2.ViewCount + toptopics2.FavoriteCount) / 4.0"
   ]
  },
  {
   "cell_type": "code",
   "execution_count": 94,
   "metadata": {
    "collapsed": false
   },
   "outputs": [
    {
     "data": {
      "text/html": [
       "<div style=\"max-height:1000px;max-width:1500px;overflow:auto;\">\n",
       "<table border=\"1\" class=\"dataframe\">\n",
       "  <thead>\n",
       "    <tr style=\"text-align: right;\">\n",
       "      <th></th>\n",
       "      <th>Frequency</th>\n",
       "      <th>CommentCount</th>\n",
       "      <th>ViewCount</th>\n",
       "      <th>FavoriteCount</th>\n",
       "      <th>SumOfTotal</th>\n",
       "    </tr>\n",
       "  </thead>\n",
       "  <tbody>\n",
       "    <tr>\n",
       "      <th>faq</th>\n",
       "      <td>0.003975</td>\n",
       "      <td>0.158527</td>\n",
       "      <td>1.563809</td>\n",
       "      <td>1.426973</td>\n",
       "      <td>0.788321</td>\n",
       "    </tr>\n",
       "    <tr>\n",
       "      <th>calculus</th>\n",
       "      <td>2.453872</td>\n",
       "      <td>0.099888</td>\n",
       "      <td>0.121150</td>\n",
       "      <td>0.074706</td>\n",
       "      <td>0.687404</td>\n",
       "    </tr>\n",
       "    <tr>\n",
       "      <th>big-list</th>\n",
       "      <td>0.055930</td>\n",
       "      <td>0.210802</td>\n",
       "      <td>0.922642</td>\n",
       "      <td>1.343721</td>\n",
       "      <td>0.633274</td>\n",
       "    </tr>\n",
       "    <tr>\n",
       "      <th>real-analysis</th>\n",
       "      <td>2.240752</td>\n",
       "      <td>0.096296</td>\n",
       "      <td>0.080328</td>\n",
       "      <td>0.067275</td>\n",
       "      <td>0.621163</td>\n",
       "    </tr>\n",
       "    <tr>\n",
       "      <th>differential-field</th>\n",
       "      <td>0.000279</td>\n",
       "      <td>0.181528</td>\n",
       "      <td>0.501039</td>\n",
       "      <td>1.747037</td>\n",
       "      <td>0.607471</td>\n",
       "    </tr>\n",
       "    <tr>\n",
       "      <th>linear-algebra</th>\n",
       "      <td>2.057551</td>\n",
       "      <td>0.089543</td>\n",
       "      <td>0.118755</td>\n",
       "      <td>0.044665</td>\n",
       "      <td>0.577628</td>\n",
       "    </tr>\n",
       "    <tr>\n",
       "      <th>fair-division</th>\n",
       "      <td>0.001674</td>\n",
       "      <td>0.139508</td>\n",
       "      <td>1.016114</td>\n",
       "      <td>1.112185</td>\n",
       "      <td>0.567370</td>\n",
       "    </tr>\n",
       "    <tr>\n",
       "      <th>music-theory</th>\n",
       "      <td>0.002441</td>\n",
       "      <td>0.162511</td>\n",
       "      <td>0.852564</td>\n",
       "      <td>0.887020</td>\n",
       "      <td>0.476134</td>\n",
       "    </tr>\n",
       "    <tr>\n",
       "      <th>probability</th>\n",
       "      <td>1.627685</td>\n",
       "      <td>0.081255</td>\n",
       "      <td>0.121350</td>\n",
       "      <td>0.038417</td>\n",
       "      <td>0.467177</td>\n",
       "    </tr>\n",
       "    <tr>\n",
       "      <th>abstract-algebra</th>\n",
       "      <td>1.582147</td>\n",
       "      <td>0.103705</td>\n",
       "      <td>0.077735</td>\n",
       "      <td>0.066250</td>\n",
       "      <td>0.457459</td>\n",
       "    </tr>\n",
       "    <tr>\n",
       "      <th>career-development</th>\n",
       "      <td>0.006555</td>\n",
       "      <td>0.215860</td>\n",
       "      <td>0.625789</td>\n",
       "      <td>0.928666</td>\n",
       "      <td>0.444217</td>\n",
       "    </tr>\n",
       "    <tr>\n",
       "      <th>finitism</th>\n",
       "      <td>0.000558</td>\n",
       "      <td>0.221868</td>\n",
       "      <td>0.438194</td>\n",
       "      <td>1.002398</td>\n",
       "      <td>0.415754</td>\n",
       "    </tr>\n",
       "    <tr>\n",
       "      <th>mathematicians</th>\n",
       "      <td>0.003626</td>\n",
       "      <td>0.231952</td>\n",
       "      <td>0.608919</td>\n",
       "      <td>0.709390</td>\n",
       "      <td>0.388472</td>\n",
       "    </tr>\n",
       "    <tr>\n",
       "      <th>integration</th>\n",
       "      <td>1.204585</td>\n",
       "      <td>0.100918</td>\n",
       "      <td>0.104942</td>\n",
       "      <td>0.101189</td>\n",
       "      <td>0.377908</td>\n",
       "    </tr>\n",
       "    <tr>\n",
       "      <th>hardware</th>\n",
       "      <td>0.000767</td>\n",
       "      <td>0.179694</td>\n",
       "      <td>0.701821</td>\n",
       "      <td>0.614457</td>\n",
       "      <td>0.374185</td>\n",
       "    </tr>\n",
       "    <tr>\n",
       "      <th>sequences-and-series</th>\n",
       "      <td>1.061901</td>\n",
       "      <td>0.104570</td>\n",
       "      <td>0.094795</td>\n",
       "      <td>0.094502</td>\n",
       "      <td>0.338942</td>\n",
       "    </tr>\n",
       "    <tr>\n",
       "      <th>teaching</th>\n",
       "      <td>0.030964</td>\n",
       "      <td>0.212873</td>\n",
       "      <td>0.544828</td>\n",
       "      <td>0.554480</td>\n",
       "      <td>0.335786</td>\n",
       "    </tr>\n",
       "    <tr>\n",
       "      <th>soft-question</th>\n",
       "      <td>0.312078</td>\n",
       "      <td>0.183335</td>\n",
       "      <td>0.364410</td>\n",
       "      <td>0.455628</td>\n",
       "      <td>0.328863</td>\n",
       "    </tr>\n",
       "    <tr>\n",
       "      <th>combinatorics</th>\n",
       "      <td>0.984073</td>\n",
       "      <td>0.093226</td>\n",
       "      <td>0.112900</td>\n",
       "      <td>0.062496</td>\n",
       "      <td>0.313174</td>\n",
       "    </tr>\n",
       "    <tr>\n",
       "      <th>learning</th>\n",
       "      <td>0.020782</td>\n",
       "      <td>0.175843</td>\n",
       "      <td>0.467098</td>\n",
       "      <td>0.588176</td>\n",
       "      <td>0.312975</td>\n",
       "    </tr>\n",
       "  </tbody>\n",
       "</table>\n",
       "</div>"
      ],
      "text/plain": [
       "                      Frequency  CommentCount  ViewCount  FavoriteCount  \\\n",
       "faq                    0.003975      0.158527   1.563809       1.426973   \n",
       "calculus               2.453872      0.099888   0.121150       0.074706   \n",
       "big-list               0.055930      0.210802   0.922642       1.343721   \n",
       "real-analysis          2.240752      0.096296   0.080328       0.067275   \n",
       "differential-field     0.000279      0.181528   0.501039       1.747037   \n",
       "linear-algebra         2.057551      0.089543   0.118755       0.044665   \n",
       "fair-division          0.001674      0.139508   1.016114       1.112185   \n",
       "music-theory           0.002441      0.162511   0.852564       0.887020   \n",
       "probability            1.627685      0.081255   0.121350       0.038417   \n",
       "abstract-algebra       1.582147      0.103705   0.077735       0.066250   \n",
       "career-development     0.006555      0.215860   0.625789       0.928666   \n",
       "finitism               0.000558      0.221868   0.438194       1.002398   \n",
       "mathematicians         0.003626      0.231952   0.608919       0.709390   \n",
       "integration            1.204585      0.100918   0.104942       0.101189   \n",
       "hardware               0.000767      0.179694   0.701821       0.614457   \n",
       "sequences-and-series   1.061901      0.104570   0.094795       0.094502   \n",
       "teaching               0.030964      0.212873   0.544828       0.554480   \n",
       "soft-question          0.312078      0.183335   0.364410       0.455628   \n",
       "combinatorics          0.984073      0.093226   0.112900       0.062496   \n",
       "learning               0.020782      0.175843   0.467098       0.588176   \n",
       "\n",
       "                      SumOfTotal  \n",
       "faq                     0.788321  \n",
       "calculus                0.687404  \n",
       "big-list                0.633274  \n",
       "real-analysis           0.621163  \n",
       "differential-field      0.607471  \n",
       "linear-algebra          0.577628  \n",
       "fair-division           0.567370  \n",
       "music-theory            0.476134  \n",
       "probability             0.467177  \n",
       "abstract-algebra        0.457459  \n",
       "career-development      0.444217  \n",
       "finitism                0.415754  \n",
       "mathematicians          0.388472  \n",
       "integration             0.377908  \n",
       "hardware                0.374185  \n",
       "sequences-and-series    0.338942  \n",
       "teaching                0.335786  \n",
       "soft-question           0.328863  \n",
       "combinatorics           0.313174  \n",
       "learning                0.312975  "
      ]
     },
     "execution_count": 94,
     "metadata": {},
     "output_type": "execute_result"
    }
   ],
   "source": [
    "toptopics2.sort(columns='SumOfTotal',ascending=False,inplace=True)\n",
    "toptopics2[1:21]"
   ]
  },
  {
   "cell_type": "code",
   "execution_count": 95,
   "metadata": {
    "collapsed": false
   },
   "outputs": [
    {
     "data": {
      "image/png": "[encoded data removed]",
      "text/plain": [
       "<matplotlib.figure.Figure at 0x12e9162d0>"
      ]
     },
     "metadata": {},
     "output_type": "display_data"
    }
   ],
   "source": [
    "toptopics3 = toptopics2[['Frequency','CommentCount','ViewCount','FavoriteCount']]\n",
    "sns.set(font_scale=1.2)   \n",
    "sns.set_palette(\"deep\", desat=.8)\n",
    "ax = toptopics3[1:26].plot(kind='barh',stacked=True,title='Most Popular Subjects as % of Total',rot=0)\n",
    "ax.set_ylabel(\"Subject Tag\",rotation = 90)\n",
    "sns.set_context(rc={\"figure.figsize\": (8, 20),'figure.facecolor':'cornflowerblue'})"
   ]
  },
  {
   "cell_type": "markdown",
   "metadata": {},
   "source": [
    "## Document Clustering"
   ]
  },
  {
   "cell_type": "code",
   "execution_count": null,
   "metadata": {
    "collapsed": true
   },
   "outputs": [],
   "source": [
    "# k-means have to specify clusters\n",
    "# look at inertia curve for a natural kink \n",
    "# with mini-batch k-means it is much faster (for full dataset)\n",
    "\n",
    "# hierarchical - don't have to specify\n"
   ]
  },
  {
   "cell_type": "code",
   "execution_count": 3,
   "metadata": {
    "collapsed": true
   },
   "outputs": [],
   "source": [
    "import numpy as np\n",
    "import pandas as pd\n",
    "import nltk\n",
    "import re\n",
    "import os\n",
    "import codecs\n",
    "from sklearn import feature_extraction\n",
    "import mpld3"
   ]
  },
  {
   "cell_type": "markdown",
   "metadata": {},
   "source": [
    "## Create training set of subjects classified as highschool and non-highschool"
   ]
  },
  {
   "cell_type": "code",
   "execution_count": 113,
   "metadata": {
    "collapsed": false
   },
   "outputs": [
    {
     "name": "stdout",
     "output_type": "stream",
     "text": [
      "311082    355314\n",
      "Name: Id_x, dtype: object\n"
     ]
    }
   ],
   "source": [
    "print postdatadc3.Id_x[88187:88188]"
   ]
  },
  {
   "cell_type": "code",
   "execution_count": 112,
   "metadata": {
    "collapsed": false
   },
   "outputs": [
    {
     "name": "stdout",
     "output_type": "stream",
     "text": [
      "311082    İf $C$ has the spanning set $S$, where $S = \\{...\n",
      "Name: Body, dtype: object\n"
     ]
    }
   ],
   "source": [
    "print postdatadc3.Body[88187:88188]"
   ]
  },
  {
   "cell_type": "code",
   "execution_count": 4,
   "metadata": {
    "collapsed": true
   },
   "outputs": [],
   "source": [
    "postdata.replace(to_replace='\\//', value='',inplace=True)"
   ]
  },
  {
   "cell_type": "code",
   "execution_count": 5,
   "metadata": {
    "collapsed": false
   },
   "outputs": [],
   "source": [
    "postdatadc = postdata[postdata.HighSchoolSubject != 0.5]"
   ]
  },
  {
   "cell_type": "code",
   "execution_count": 6,
   "metadata": {
    "collapsed": false
   },
   "outputs": [
    {
     "data": {
      "text/plain": [
       "302353"
      ]
     },
     "execution_count": 6,
     "metadata": {},
     "output_type": "execute_result"
    }
   ],
   "source": [
    "len(postdatadc)"
   ]
  },
  {
   "cell_type": "code",
   "execution_count": 7,
   "metadata": {
    "collapsed": false
   },
   "outputs": [
    {
     "data": {
      "text/plain": [
       "302350"
      ]
     },
     "execution_count": 7,
     "metadata": {},
     "output_type": "execute_result"
    }
   ],
   "source": [
    "IdsToRemove = ['639691','961354','355318']\n",
    "criterion = lambda row: row['Id_x'] not in IdsToRemove\n",
    "postdatadc2 = postdatadc[postdatadc.apply(criterion, axis=1)]\n",
    "len(postdatadc2)"
   ]
  },
  {
   "cell_type": "code",
   "execution_count": 8,
   "metadata": {
    "collapsed": false
   },
   "outputs": [],
   "source": [
    "import random\n",
    "\n",
    "def some(x, n):\n",
    "    return x.ix[random.sample(x.index, n)]\n",
    "postdatadc3 = some(postdatadc2,20000)"
   ]
  },
  {
   "cell_type": "code",
   "execution_count": 9,
   "metadata": {
    "collapsed": false
   },
   "outputs": [
    {
     "data": {
      "text/plain": [
       "20000"
      ]
     },
     "execution_count": 9,
     "metadata": {},
     "output_type": "execute_result"
    }
   ],
   "source": [
    "len(postdatadc3)"
   ]
  },
  {
   "cell_type": "markdown",
   "metadata": {},
   "source": [
    "##Create Tf-idf matrix\n",
    "### Every question is a row, every column is a word"
   ]
  },
  {
   "cell_type": "code",
   "execution_count": 10,
   "metadata": {
    "collapsed": true
   },
   "outputs": [],
   "source": [
    "stopwords = nltk.corpus.stopwords.words('english')\n",
    "from nltk.stem.snowball import SnowballStemmer\n",
    "stemmer = SnowballStemmer(\"english\")"
   ]
  },
  {
   "cell_type": "code",
   "execution_count": 11,
   "metadata": {
    "collapsed": true
   },
   "outputs": [],
   "source": [
    "def tokenize_and_stem(text):\n",
    "    # first tokenize by sentence, then by word to ensure that punctuation is caught as its own token\n",
    "    tokens = [word for sent in nltk.sent_tokenize(text) for word in nltk.word_tokenize(sent)]\n",
    "    filtered_tokens = []\n",
    "    # filter out any tokens not containing letters (e.g., numeric tokens, raw punctuation)\n",
    "    for token in tokens:\n",
    "        regex = re.compile('[^a-zA-Z]')\n",
    "        cleaned = regex.sub('', token).rstrip()\n",
    "        if len(cleaned) > 1:\n",
    "            filtered_tokens.append(cleaned)\n",
    "#         if re.search('[a-zA-Z]', token):\n",
    "#             filtered_tokens.append(token)\n",
    "    stems = [stemmer.stem(t) for t in filtered_tokens]\n",
    "    return stems\n",
    "\n",
    "\n",
    "def tokenize_only(text):\n",
    "    # first tokenize by sentence, then by word to ensure that punctuation is caught as its own token\n",
    "    tokens = [word.lower() for sent in nltk.sent_tokenize(text) for word in nltk.word_tokenize(sent)]\n",
    "    filtered_tokens = []\n",
    "    # filter out any tokens not containing letters (e.g., numeric tokens, raw punctuation)\n",
    "    for token in tokens:\n",
    "        regex = re.compile('[^a-zA-Z]')\n",
    "        cleaned = regex.sub('', token).rstrip()\n",
    "        if len(cleaned) > 1:\n",
    "            filtered_tokens.append(cleaned)\n",
    "#         if re.search('[a-zA-Z]', token):\n",
    "#             filtered_tokens.append(token)\n",
    "    return filtered_tokens"
   ]
  },
  {
   "cell_type": "code",
   "execution_count": 12,
   "metadata": {
    "collapsed": false,
    "scrolled": true
   },
   "outputs": [],
   "source": [
    "totalvocab_stemmed = []\n",
    "totalvocab_tokenized = []\n",
    "skipped_indeces = []\n",
    "j = 0\n",
    "for i in postdatadc3.Body:\n",
    "    allwords_stemmed = tokenize_and_stem(i) #for each item in 'synopses', tokenize/stem\n",
    "    allwords_tokenized = tokenize_only(i)\n",
    "    \n",
    "    if len(allwords_stemmed) == len(allwords_tokenized):\n",
    "        totalvocab_tokenized.extend(allwords_tokenized)\n",
    "        totalvocab_stemmed.extend(allwords_stemmed)\n",
    "    else:\n",
    "#         print i\n",
    "#         print \"\\n\"\n",
    "        skipped_indeces.append(j)\n",
    "#     j += 1    \n",
    "#     if j % 10000 == 0:\n",
    "#         print j\n",
    "#     if len(totalvocab_tokenized) != len(totalvocab_stemmed):\n",
    "#         print j, i, tokenize_only(i), tokenize_and_stem(i)\n",
    "#         break"
   ]
  },
  {
   "cell_type": "code",
   "execution_count": 13,
   "metadata": {
    "collapsed": false
   },
   "outputs": [
    {
     "name": "stdout",
     "output_type": "stream",
     "text": [
      "1713894\n",
      "1713894\n"
     ]
    }
   ],
   "source": [
    "print len(totalvocab_tokenized)\n",
    "print len(totalvocab_stemmed)"
   ]
  },
  {
   "cell_type": "code",
   "execution_count": 14,
   "metadata": {
    "collapsed": false
   },
   "outputs": [
    {
     "name": "stdout",
     "output_type": "stream",
     "text": [
      "there are 1713894 items in vocab_frame\n"
     ]
    }
   ],
   "source": [
    "vocab_frame = pd.DataFrame({'words': totalvocab_tokenized}, index = totalvocab_stemmed)\n",
    "print 'there are ' + str(vocab_frame.shape[0]) + ' items in vocab_frame'"
   ]
  },
  {
   "cell_type": "code",
   "execution_count": 15,
   "metadata": {
    "collapsed": false
   },
   "outputs": [
    {
     "data": {
      "text/plain": [
       "[]"
      ]
     },
     "execution_count": 15,
     "metadata": {},
     "output_type": "execute_result"
    }
   ],
   "source": [
    "skipped_indeces"
   ]
  },
  {
   "cell_type": "code",
   "execution_count": 156,
   "metadata": {
    "collapsed": false
   },
   "outputs": [],
   "source": [
    "# postdatadc4 = postdatadc3.drop(postdatadc3.index[skipped_indeces])"
   ]
  },
  {
   "cell_type": "code",
   "execution_count": 16,
   "metadata": {
    "collapsed": false
   },
   "outputs": [
    {
     "name": "stdout",
     "output_type": "stream",
     "text": [
      "20000\n"
     ]
    }
   ],
   "source": [
    "# print len(postdatadc4)\n",
    "print len(postdatadc3)"
   ]
  },
  {
   "cell_type": "code",
   "execution_count": 20,
   "metadata": {
    "collapsed": false
   },
   "outputs": [
    {
     "name": "stdout",
     "output_type": "stream",
     "text": [
      "CPU times: user 1min 37s, sys: 2.76 s, total: 1min 40s\n",
      "Wall time: 1min 38s\n",
      "(20000, 5633)\n"
     ]
    }
   ],
   "source": [
    "from sklearn.feature_extraction.text import TfidfVectorizer\n",
    "\n",
    "#define vectorizer parameters\n",
    "tfidf_vectorizer = TfidfVectorizer(max_df= 0.99,\n",
    "                                 min_df= 0.001, \n",
    "                                 stop_words='english',\n",
    "                                 use_idf=True, \n",
    "                                 tokenizer=tokenize_and_stem, \n",
    "                                 ngram_range=(1,3))\n",
    "\n",
    "%time tfidf_matrix = tfidf_vectorizer.fit_transform(postdatadc3.Body) #fit the vectorizer to body\n",
    "\n",
    "print(tfidf_matrix.shape)"
   ]
  },
  {
   "cell_type": "code",
   "execution_count": 21,
   "metadata": {
    "collapsed": false
   },
   "outputs": [],
   "source": [
    "terms = tfidf_vectorizer.get_feature_names()"
   ]
  },
  {
   "cell_type": "code",
   "execution_count": 40,
   "metadata": {
    "collapsed": false
   },
   "outputs": [
    {
     "data": {
      "text/plain": [
       "5633"
      ]
     },
     "execution_count": 40,
     "metadata": {},
     "output_type": "execute_result"
    }
   ],
   "source": [
    "len(terms)"
   ]
  },
  {
   "cell_type": "code",
   "execution_count": null,
   "metadata": {
    "collapsed": false
   },
   "outputs": [],
   "source": [
    "break"
   ]
  },
  {
   "cell_type": "code",
   "execution_count": 23,
   "metadata": {
    "collapsed": false
   },
   "outputs": [],
   "source": [
    "# from sklearn.decomposition import TruncatedSVD\n",
    "# X = tfidf_matrix\n",
    "# svd = TruncatedSVD(n_components=1000, random_state=42)\n",
    "# svd.fit(X) \n",
    "# print(svd.explained_variance_ratio_) \n",
    "# print(svd.explained_variance_ratio_.sum()) "
   ]
  },
  {
   "cell_type": "code",
   "execution_count": 172,
   "metadata": {
    "collapsed": false
   },
   "outputs": [],
   "source": [
    "# print(svd.components_ )"
   ]
  },
  {
   "cell_type": "code",
   "execution_count": 25,
   "metadata": {
    "collapsed": false
   },
   "outputs": [],
   "source": [
    "from sklearn.metrics.pairwise import cosine_similarity\n",
    "# dist = []\n",
    "# matrixlen = tfidf_matrix.shape[0]\n",
    "# j = 0\n",
    "dist = 1 - cosine_similarity(tfidf_matrix)\n",
    "# for i in range(0,matrixlen):\n",
    "#     dist.append(1 - cosine_similarity(tfidf_matrix[i:min(i+100000,matrixlen)]))\n",
    "#     i = i + 100000\n",
    "#     j += 1\n",
    "#     if j % 10000 == 0:\n",
    "#         print j"
   ]
  },
  {
   "cell_type": "code",
   "execution_count": null,
   "metadata": {
    "collapsed": false
   },
   "outputs": [],
   "source": [
    "break"
   ]
  },
  {
   "cell_type": "markdown",
   "metadata": {},
   "source": [
    "##Implement binary classifier with TFIDF matrix as features"
   ]
  },
  {
   "cell_type": "code",
   "execution_count": 67,
   "metadata": {
    "collapsed": true
   },
   "outputs": [],
   "source": [
    "from sklearn.neighbors import KNeighborsClassifier\n",
    "from sklearn.linear_model import LogisticRegression\n",
    "from sklearn.ensemble import RandomForestClassifier\n",
    "from sklearn.tree import DecisionTreeClassifier\n",
    "from sklearn.cross_validation import train_test_split\n",
    "from sklearn import linear_model, datasets, metrics\n",
    "from sklearn.metrics import accuracy_score, precision_score, recall_score, f1_score\n",
    "from sklearn.cross_validation import cross_val_score\n",
    "from sklearn.learning_curve import learning_curve\n",
    "from sklearn.datasets import make_classification\n",
    "from sklearn.metrics import roc_auc_score\n",
    "from sklearn.metrics import accuracy_score, precision_score, recall_score, f1_score, auc, roc_curve"
   ]
  },
  {
   "cell_type": "code",
   "execution_count": 30,
   "metadata": {
    "collapsed": false
   },
   "outputs": [
    {
     "data": {
      "text/plain": [
       "scipy.sparse.csr.csr_matrix"
      ]
     },
     "execution_count": 30,
     "metadata": {},
     "output_type": "execute_result"
    }
   ],
   "source": [
    "type(tfidf_matrix)"
   ]
  },
  {
   "cell_type": "code",
   "execution_count": 49,
   "metadata": {
    "collapsed": false
   },
   "outputs": [],
   "source": [
    "postdataml = pd.SparseDataFrame([ pd.SparseSeries(tfidf_matrix[i].toarray().ravel()) \n",
    "                              for i in np.arange(tfidf_matrix.shape[0]) ])"
   ]
  },
  {
   "cell_type": "code",
   "execution_count": 44,
   "metadata": {
    "collapsed": false
   },
   "outputs": [
    {
     "data": {
      "text/plain": [
       "Index([u'AcceptedAnswerId', u'AnswerCount', u'Body', u'ClosedDate', u'CommentCount', u'CommunityOwnedDate', u'CreationDate_x', u'FavoriteCount', u'Id_x', u'LastActivityDate', u'LastEditDate', u'LastEditorDisplayName', u'LastEditorUserId', u'OwnerDisplayName', u'OwnerUserId', u'ParentId', u'PostTypeId', u'Score', u'Tags', u'Title', u'ViewCount', u'AboutMe', u'AccountId', u'Age', u'CreationDate_y', u'DisplayName', u'DownVotes', u'Id_y', u'LastAccessDate', u'Location', u'ProfileImageUrl', u'Reputation', u'UpVotes', u'Views', u'WebsiteUrl', u'Location2', u'Longevity', u'LongevitySeconds', u'BodyLength', u'HighSchoolSubject'], dtype='object')"
      ]
     },
     "execution_count": 44,
     "metadata": {},
     "output_type": "execute_result"
    }
   ],
   "source": [
    "postdatadc3.columns"
   ]
  },
  {
   "cell_type": "code",
   "execution_count": 42,
   "metadata": {
    "collapsed": false
   },
   "outputs": [],
   "source": [
    "postdataml.head()"
   ]
  },
  {
   "cell_type": "code",
   "execution_count": 50,
   "metadata": {
    "collapsed": true
   },
   "outputs": [],
   "source": [
    "X = postdataml\n",
    "y = postdatadc3.HighSchoolSubject"
   ]
  },
  {
   "cell_type": "code",
   "execution_count": 51,
   "metadata": {
    "collapsed": false
   },
   "outputs": [],
   "source": [
    "X_train, X_test, y_train, y_test = train_test_split(X, y, test_size = 0.25, random_state = 42)"
   ]
  },
  {
   "cell_type": "code",
   "execution_count": 55,
   "metadata": {
    "collapsed": true
   },
   "outputs": [],
   "source": [
    "models = [LogisticRegression(), DecisionTreeClassifier(max_depth = 4), RandomForestClassifier(), KNeighborsClassifier(n_neighbors = 12)]\n",
    "\n",
    "def roc_param(estimator, train_X, test_X):\n",
    "    model = estimator\n",
    "    model.fit(train_X, y_train)\n",
    "    test_pred = model.predict_proba(test_X)\n",
    "    fpr, tpr, _ = metrics.roc_curve(y_test, test_pred[:,1])\n",
    "    roc_params = [fpr, tpr]\n",
    "    return roc_params"
   ]
  },
  {
   "cell_type": "code",
   "execution_count": 56,
   "metadata": {
    "collapsed": false
   },
   "outputs": [],
   "source": [
    "log_roc = roc_param(models[0], X_train, X_test)\n",
    "dtree_roc = roc_param(models[1], X_train, X_test)\n",
    "rf_roc = roc_param(models[2], X_train, X_test)\n",
    "knn_roc = roc_param(models[3], X_train, X_test)"
   ]
  },
  {
   "cell_type": "code",
   "execution_count": 62,
   "metadata": {
    "collapsed": false
   },
   "outputs": [
    {
     "data": {
      "image/png": "[encoded data removed]",
      "text/plain": [
       "<matplotlib.figure.Figure at 0x2202b6150>"
      ]
     },
     "metadata": {},
     "output_type": "display_data"
    }
   ],
   "source": [
    "import matplotlib.pyplot as plt\n",
    "%matplotlib inline \n",
    "import seaborn as sns\n",
    "plt.title(\"ROC curves\")\n",
    "plt.plot(log_roc[0], log_roc[1], \"b\", linewidth = 2, label = \"Logistic Regression\")\n",
    "plt.plot(dtree_roc[0], dtree_roc[1], \"r\", linewidth = 2, label = \"Decision Tree\")\n",
    "plt.plot(rf_roc[0], rf_roc[1], \"c\", linewidth = 2, label = \"Random Forest\")\n",
    "plt.plot(knn_roc[0], knn_roc[1], \"y\", linewidth = 2, label = \"K Neighbors (9)\")\n",
    "plt.legend(loc = 4, prop={'size':12})\n",
    "sns.set_context(rc={\"figure.figsize\": (20, 6)})   \n",
    "sns.set_palette(\"deep\", desat=.8)\n",
    "sns.set(font_scale=1.0)\n",
    "plt.show()"
   ]
  },
  {
   "cell_type": "code",
   "execution_count": 68,
   "metadata": {
    "collapsed": false
   },
   "outputs": [
    {
     "name": "stdout",
     "output_type": "stream",
     "text": [
      "Area under the ROC curve : 0.909987\n"
     ]
    },
    {
     "data": {
      "image/png": "[encoded data removed]",
      "text/plain": [
       "<matplotlib.figure.Figure at 0x10f517bd0>"
      ]
     },
     "metadata": {},
     "output_type": "display_data"
    }
   ],
   "source": [
    "# Run classifier\n",
    "model = LogisticRegression().fit(X_train, y_train)\n",
    "probas_ = model.predict_proba(X_test)[:,1]\n",
    "\n",
    "# Compute ROC curve and area the curve\n",
    "fpr, tpr, thresholds = roc_curve(y_test, probas_)\n",
    "roc_auc = auc(fpr, tpr)\n",
    "print \"Area under the ROC curve : %f\" % roc_auc\n",
    "\n",
    "# Plot ROC curve\n",
    "plt.clf()\n",
    "plt.plot(fpr, tpr, label='ROC curve (area = %0.2f)' % roc_auc)\n",
    "plt.plot([0, 1], [0, 1], 'k--')\n",
    "plt.xlim([0.0, 1.0])\n",
    "plt.ylim([0.0, 1.0])\n",
    "plt.xlabel('False Positive Rate')\n",
    "plt.ylabel('True Positive Rate')\n",
    "plt.title('Receiver operating characteristic')\n",
    "plt.legend(loc=\"lower right\")\n",
    "plt.show()"
   ]
  },
  {
   "cell_type": "markdown",
   "metadata": {},
   "source": [
    "##Plot learning curve and cross validate"
   ]
  },
  {
   "cell_type": "code",
   "execution_count": 69,
   "metadata": {
    "collapsed": false
   },
   "outputs": [
    {
     "name": "stdout",
     "output_type": "stream",
     "text": [
      "CrossValScore:  0.9222\n"
     ]
    }
   ],
   "source": [
    "log_score = cross_val_score(LogisticRegression(),X,y, cv=5).mean()\n",
    "print \"CrossValScore: \", log_score.round(4)"
   ]
  },
  {
   "cell_type": "code",
   "execution_count": 70,
   "metadata": {
    "collapsed": false
   },
   "outputs": [
    {
     "name": "stdout",
     "output_type": "stream",
     "text": [
      "Automatically created module for IPython interactive environment\n"
     ]
    }
   ],
   "source": [
    "print(__doc__)\n",
    "\n",
    "import numpy as np\n",
    "import matplotlib.pyplot as plt\n",
    "from sklearn import cross_validation\n",
    "from sklearn.naive_bayes import GaussianNB\n",
    "from sklearn.svm import SVC\n",
    "from sklearn.datasets import load_digits\n",
    "from sklearn.learning_curve import learning_curve\n",
    "\n",
    "\n",
    "def plot_learning_curve(estimator, title, X, y, ylim=None, cv=None,\n",
    "                        n_jobs=1, train_sizes=np.linspace(.1, 1.0, 5)):\n",
    "    plt.figure()\n",
    "    plt.title(title)\n",
    "    if ylim is not None:\n",
    "        plt.ylim(*ylim)\n",
    "    plt.xlabel(\"Training examples\")\n",
    "    plt.ylabel(\"Score\")\n",
    "    train_sizes, train_scores, test_scores = learning_curve(\n",
    "        estimator, X, y, cv=cv, n_jobs=n_jobs, train_sizes=train_sizes)\n",
    "    train_scores_mean = np.mean(train_scores, axis=1)\n",
    "    train_scores_std = np.std(train_scores, axis=1)\n",
    "    test_scores_mean = np.mean(test_scores, axis=1)\n",
    "    test_scores_std = np.std(test_scores, axis=1)\n",
    "    plt.grid()\n",
    "\n",
    "    plt.fill_between(train_sizes, train_scores_mean - train_scores_std,\n",
    "                     train_scores_mean + train_scores_std, alpha=0.1,\n",
    "                     color=\"r\")\n",
    "    plt.fill_between(train_sizes, test_scores_mean - test_scores_std,\n",
    "                     test_scores_mean + test_scores_std, alpha=0.1, color=\"g\")\n",
    "    plt.plot(train_sizes, train_scores_mean, 'o-', color=\"r\",\n",
    "             label=\"Training score\")\n",
    "    plt.plot(train_sizes, test_scores_mean, 'o-', color=\"g\",\n",
    "             label=\"Cross-validation score\")\n",
    "\n",
    "    plt.legend(loc=\"best\")\n",
    "    return plt\n"
   ]
  },
  {
   "cell_type": "code",
   "execution_count": null,
   "metadata": {
    "collapsed": true
   },
   "outputs": [],
   "source": [
    "digits = load_digits()\n",
    "\n",
    "title = \"Learning Curves (Logistic)\"\n",
    "# Cross validation with 100 iterations to get smoother mean test and train\n",
    "# score curves, each time with 20% data randomly selected as a validation set.\n",
    "cv = cross_validation.ShuffleSplit(digits.data.shape[0], n_iter=100,\n",
    "                                   test_size=0.2, random_state=0)\n",
    "\n",
    "estimator = LogisticRegression()\n",
    "plot_learning_curve(estimator, title, X, y, ylim=(0.7, 1.01), cv=cv, n_jobs=4)\n",
    "\n",
    "# SVC is more expensive so we do a lower number of CV iterations:\n",
    "cv = cross_validation.ShuffleSplit(digits.data.shape[0], n_iter=10,\n",
    "                                   test_size=0.2, random_state=0)\n",
    "plt.show()"
   ]
  },
  {
   "cell_type": "markdown",
   "metadata": {},
   "source": [
    "##Generate TFIDF Matrix for remaining unclassified questions"
   ]
  },
  {
   "cell_type": "code",
   "execution_count": null,
   "metadata": {
    "collapsed": true
   },
   "outputs": [],
   "source": [
    "unclassified = postdata[postdata.HighSchoolSubject == 0.5]"
   ]
  },
  {
   "cell_type": "code",
   "execution_count": null,
   "metadata": {
    "collapsed": true
   },
   "outputs": [],
   "source": [
    "totalvocab_stemmed = []\n",
    "totalvocab_tokenized = []\n",
    "j = 0\n",
    "for i in unclassified.Body:\n",
    "    j += 1\n",
    "    allwords_stemmed = tokenize_and_stem(i) #for each item in 'synopses', tokenize/stem\n",
    "    totalvocab_stemmed.extend(allwords_stemmed) #extend the 'totalvocab_stemmed' list\n",
    "    \n",
    "    allwords_tokenized = tokenize_only(i)\n",
    "    totalvocab_tokenized.extend(allwords_tokenized)\n",
    "    if j % 10000 == 0:\n",
    "        print j\n",
    "    if len(totalvocab_tokenized) != len(totalvocab_stemmed):\n",
    "        print j, i\n",
    "        break"
   ]
  },
  {
   "cell_type": "code",
   "execution_count": null,
   "metadata": {
    "collapsed": true
   },
   "outputs": [],
   "source": [
    "vocab_frame_uc = pd.DataFrame({'words': totalvocab_tokenized}, index = totalvocab_stemmed)\n",
    "print 'there are ' + str(vocab_frame.shape[0]) + ' items in vocab_frame'"
   ]
  },
  {
   "cell_type": "code",
   "execution_count": null,
   "metadata": {
    "collapsed": true
   },
   "outputs": [],
   "source": [
    "tfidf_vectorizer_uc = TfidfVectorizer(max_df=0.8, max_features=200000,\n",
    "                                 min_df=0.2, stop_words='english',\n",
    "                                 use_idf=True, tokenizer=tokenize_and_stem, ngram_range=(1,3))\n",
    "\n",
    "%time tfidf_matrix_uc = tfidf_vectorizer_uc.fit_transform(postdatauc.Body) #fit the vectorizer to body\n",
    "\n",
    "print(tfidf_matrix.shape)"
   ]
  },
  {
   "cell_type": "code",
   "execution_count": null,
   "metadata": {
    "collapsed": true
   },
   "outputs": [],
   "source": [
    "terms_uc = tfidf_vectorizer.get_feature_names()"
   ]
  },
  {
   "cell_type": "code",
   "execution_count": null,
   "metadata": {
    "collapsed": true
   },
   "outputs": [],
   "source": [
    "from sklearn.metrics.pairwise import cosine_similarity\n",
    "dist_uc = 1 - cosine_similarity(tfidf_matrix_uc)"
   ]
  },
  {
   "cell_type": "markdown",
   "metadata": {},
   "source": [
    "##Apply classification to untagged questions to get high-school/non-high school"
   ]
  },
  {
   "cell_type": "code",
   "execution_count": null,
   "metadata": {
    "collapsed": true
   },
   "outputs": [],
   "source": []
  },
  {
   "cell_type": "markdown",
   "metadata": {},
   "source": [
    "##Mini batch K-means clustering algorithm to get topics"
   ]
  },
  {
   "cell_type": "code",
   "execution_count": null,
   "metadata": {
    "collapsed": true
   },
   "outputs": [],
   "source": [
    "# run mini batch k-means with a bunch of different k's\n",
    "# look at inertia curve for a kink, with different k's, what is the squared distance between centroid and top'\n",
    "# use cosine distance\n",
    "# run aglomerative hierarchical clustering so don't need to know how many clusters\n",
    "# tweak as much as time allows"
   ]
  },
  {
   "cell_type": "code",
   "execution_count": null,
   "metadata": {
    "collapsed": false
   },
   "outputs": [],
   "source": [
    "from sklearn.cluster import KMeans\n",
    "\n",
    "num_clusters = 5\n",
    "\n",
    "km = KMeans(n_clusters=num_clusters)\n",
    "\n",
    "%time km.fit(tfidf_matrix)\n",
    "\n",
    "clusters = km.labels_.tolist()"
   ]
  },
  {
   "cell_type": "code",
   "execution_count": null,
   "metadata": {
    "collapsed": true
   },
   "outputs": [],
   "source": [
    "from sklearn.externals import joblib\n",
    "\n",
    "#uncomment the below to save your model \n",
    "#since I've already run my model I am loading from the pickle\n",
    "\n",
    "joblib.dump(km,  'doc_cluster.pkl')\n",
    "\n",
    "km = joblib.load('doc_cluster.pkl')\n",
    "clusters = km.labels_.tolist()"
   ]
  },
  {
   "cell_type": "code",
   "execution_count": null,
   "metadata": {
    "collapsed": false
   },
   "outputs": [],
   "source": [
    "questions = { 'Title': Title, 'ViewCount': ViewCount, 'Body': Body, 'cluster': clusters, 'Tags': Tags }\n",
    "\n",
    "frame = pd.DataFrame(questions, index = [clusters] , columns = ['ViewCount', 'Title', 'cluster', 'Tags'])"
   ]
  },
  {
   "cell_type": "code",
   "execution_count": null,
   "metadata": {
    "collapsed": true
   },
   "outputs": [],
   "source": [
    "frame['cluster'].value_counts() #number of films per cluster (clusters from 0 to 4)"
   ]
  },
  {
   "cell_type": "code",
   "execution_count": null,
   "metadata": {
    "collapsed": true
   },
   "outputs": [],
   "source": [
    "grouped = frame['ViewCount'].groupby(frame['cluster']) #groupby cluster for aggregation purposes\n",
    "grouped.mean() #average rank (1 to 100) per cluster"
   ]
  },
  {
   "cell_type": "code",
   "execution_count": null,
   "metadata": {
    "collapsed": true
   },
   "outputs": [],
   "source": [
    "from __future__ import print_function\n",
    "\n",
    "print(\"Top terms per cluster:\")\n",
    "print()\n",
    "#sort cluster centers by proximity to centroid\n",
    "order_centroids = km.cluster_centers_.argsort()[:, ::-1] \n",
    "\n",
    "for i in range(num_clusters):\n",
    "    print(\"Cluster %d words:\" % i, end='')\n",
    "    \n",
    "    for ind in order_centroids[i, :6]: #replace 6 with n words per cluster\n",
    "        print(' %s' % vocab_frame.ix[terms[ind].split(' ')].values.tolist()[0][0].encode('utf-8', 'ignore'), end=',')\n",
    "    print() #add whitespace\n",
    "    print() #add whitespace\n",
    "    \n",
    "    print(\"Cluster %d titles:\" % i, end='')\n",
    "    for title in frame.ix[i]['title'].values.tolist():\n",
    "        print(' %s,' % title, end='')\n",
    "    print() #add whitespace\n",
    "    print() #add whitespace\n",
    "    \n",
    "print()\n",
    "print()"
   ]
  },
  {
   "cell_type": "code",
   "execution_count": null,
   "metadata": {
    "collapsed": true
   },
   "outputs": [],
   "source": [
    "import os  # for os.path.basename\n",
    "\n",
    "import matplotlib.pyplot as plt\n",
    "import matplotlib as mpl\n",
    "\n",
    "from sklearn.manifold import MDS\n",
    "\n",
    "MDS()\n",
    "\n",
    "# convert two components as we're plotting points in a two-dimensional plane\n",
    "# \"precomputed\" because we provide a distance matrix\n",
    "# we will also specify `random_state` so the plot is reproducible.\n",
    "mds = MDS(n_components=2, dissimilarity=\"precomputed\", random_state=1)\n",
    "\n",
    "pos = mds.fit_transform(dist)  # shape (n_components, n_samples)\n",
    "\n",
    "xs, ys = pos[:, 0], pos[:, 1]\n",
    "print()\n",
    "print()"
   ]
  },
  {
   "cell_type": "code",
   "execution_count": null,
   "metadata": {
    "collapsed": true
   },
   "outputs": [],
   "source": [
    "#set up colors per clusters using a dict\n",
    "cluster_colors = {0: '#1b9e77', 1: '#d95f02', 2: '#7570b3', 3: '#e7298a', 4: '#66a61e'}\n",
    "\n",
    "#set up cluster names using a dict\n",
    "cluster_names = {0: 'Family, home, war', \n",
    "                 1: 'Police, killed, murders', \n",
    "                 2: 'Father, New York, brothers', \n",
    "                 3: 'Dance, singing, love', \n",
    "                 4: 'Killed, soldiers, captain'}"
   ]
  },
  {
   "cell_type": "code",
   "execution_count": null,
   "metadata": {
    "collapsed": true
   },
   "outputs": [],
   "source": [
    "#some ipython magic to show the matplotlib plots inline\n",
    "%matplotlib inline \n",
    "\n",
    "#create data frame that has the result of the MDS plus the cluster numbers and titles\n",
    "df = pd.DataFrame(dict(x=xs, y=ys, label=clusters, title=titles)) \n",
    "\n",
    "#group by cluster\n",
    "groups = df.groupby('label')\n",
    "\n",
    "\n",
    "# set up plot\n",
    "fig, ax = plt.subplots(figsize=(17, 9)) # set size\n",
    "ax.margins(0.05) # Optional, just adds 5% padding to the autoscaling\n",
    "\n",
    "#iterate through groups to layer the plot\n",
    "#note that I use the cluster_name and cluster_color dicts with the 'name' lookup to return the appropriate color/label\n",
    "for name, group in groups:\n",
    "    ax.plot(group.x, group.y, marker='o', linestyle='', ms=12, \n",
    "            label=cluster_names[name], color=cluster_colors[name], \n",
    "            mec='none')\n",
    "    ax.set_aspect('auto')\n",
    "    ax.tick_params(\\\n",
    "        axis= 'x',          # changes apply to the x-axis\n",
    "        which='both',      # both major and minor ticks are affected\n",
    "        bottom='off',      # ticks along the bottom edge are off\n",
    "        top='off',         # ticks along the top edge are off\n",
    "        labelbottom='off')\n",
    "    ax.tick_params(\\\n",
    "        axis= 'y',         # changes apply to the y-axis\n",
    "        which='both',      # both major and minor ticks are affected\n",
    "        left='off',      # ticks along the bottom edge are off\n",
    "        top='off',         # ticks along the top edge are off\n",
    "        labelleft='off')\n",
    "    \n",
    "ax.legend(numpoints=1)  #show legend with only 1 point\n",
    "\n",
    "#add label in x,y position with the label as the film title\n",
    "for i in range(len(df)):\n",
    "    ax.text(df.ix[i]['x'], df.ix[i]['y'], df.ix[i]['title'], size=8)  \n",
    "\n",
    "    \n",
    "    \n",
    "plt.show() #show the plot\n",
    "\n",
    "#uncomment the below to save the plot if need be\n",
    "#plt.savefig('clusters_small_noaxes.png', dpi=200)"
   ]
  },
  {
   "cell_type": "code",
   "execution_count": null,
   "metadata": {
    "collapsed": true
   },
   "outputs": [],
   "source": [
    "#define custom toolbar location\n",
    "class TopToolbar(mpld3.plugins.PluginBase):\n",
    "    \"\"\"Plugin for moving toolbar to top of figure\"\"\"\n",
    "\n",
    "    JAVASCRIPT = \"\"\"\n",
    "    mpld3.register_plugin(\"toptoolbar\", TopToolbar);\n",
    "    TopToolbar.prototype = Object.create(mpld3.Plugin.prototype);\n",
    "    TopToolbar.prototype.constructor = TopToolbar;\n",
    "    function TopToolbar(fig, props){\n",
    "        mpld3.Plugin.call(this, fig, props);\n",
    "    };\n",
    "\n",
    "    TopToolbar.prototype.draw = function(){\n",
    "      // the toolbar svg doesn't exist\n",
    "      // yet, so first draw it\n",
    "      this.fig.toolbar.draw();\n",
    "\n",
    "      // then change the y position to be\n",
    "      // at the top of the figure\n",
    "      this.fig.toolbar.toolbar.attr(\"x\", 150);\n",
    "      this.fig.toolbar.toolbar.attr(\"y\", 400);\n",
    "\n",
    "      // then remove the draw function,\n",
    "      // so that it is not called again\n",
    "      this.fig.toolbar.draw = function() {}\n",
    "    }\n",
    "    \"\"\"\n",
    "    def __init__(self):\n",
    "        self.dict_ = {\"type\": \"toptoolbar\"}"
   ]
  },
  {
   "cell_type": "code",
   "execution_count": null,
   "metadata": {
    "collapsed": true
   },
   "outputs": [],
   "source": [
    "#create data frame that has the result of the MDS plus the cluster numbers and titles\n",
    "df = pd.DataFrame(dict(x=xs, y=ys, label=clusters, title=titles)) \n",
    "\n",
    "#group by cluster\n",
    "groups = df.groupby('label')\n",
    "\n",
    "#define custom css to format the font and to remove the axis labeling\n",
    "css = \"\"\"\n",
    "text.mpld3-text, div.mpld3-tooltip {\n",
    "  font-family:Arial, Helvetica, sans-serif;\n",
    "}\n",
    "\n",
    "g.mpld3-xaxis, g.mpld3-yaxis {\n",
    "display: none; }\n",
    "\n",
    "svg.mpld3-figure {\n",
    "margin-left: -200px;}\n",
    "\"\"\"\n",
    "\n",
    "# Plot \n",
    "fig, ax = plt.subplots(figsize=(14,6)) #set plot size\n",
    "ax.margins(0.03) # Optional, just adds 5% padding to the autoscaling\n",
    "\n",
    "#iterate through groups to layer the plot\n",
    "#note that I use the cluster_name and cluster_color dicts with the 'name' lookup to return the appropriate color/label\n",
    "for name, group in groups:\n",
    "    points = ax.plot(group.x, group.y, marker='o', linestyle='', ms=18, \n",
    "                     label=cluster_names[name], mec='none', \n",
    "                     color=cluster_colors[name])\n",
    "    ax.set_aspect('auto')\n",
    "    labels = [i for i in group.title]\n",
    "    \n",
    "    #set tooltip using points, labels and the already defined 'css'\n",
    "    tooltip = mpld3.plugins.PointHTMLTooltip(points[0], labels,\n",
    "                                       voffset=10, hoffset=10, css=css)\n",
    "    #connect tooltip to fig\n",
    "    mpld3.plugins.connect(fig, tooltip, TopToolbar())    \n",
    "    \n",
    "    #set tick marks as blank\n",
    "    ax.axes.get_xaxis().set_ticks([])\n",
    "    ax.axes.get_yaxis().set_ticks([])\n",
    "    \n",
    "    #set axis as blank\n",
    "    ax.axes.get_xaxis().set_visible(False)\n",
    "    ax.axes.get_yaxis().set_visible(False)\n",
    "\n",
    "    \n",
    "ax.legend(numpoints=1) #show legend with only one dot\n",
    "\n",
    "mpld3.display() #show the plot\n",
    "\n",
    "#uncomment the below to export to html\n",
    "#html = mpld3.fig_to_html(fig)\n",
    "#print(html)"
   ]
  },
  {
   "cell_type": "code",
   "execution_count": null,
   "metadata": {
    "collapsed": true
   },
   "outputs": [],
   "source": [
    "from scipy.cluster.hierarchy import ward, dendrogram\n",
    "\n",
    "linkage_matrix = ward(dist) #define the linkage_matrix using ward clustering pre-computed distances\n",
    "\n",
    "fig, ax = plt.subplots(figsize=(15, 20)) # set size\n",
    "ax = dendrogram(linkage_matrix, orientation=\"right\", labels=titles);\n",
    "\n",
    "plt.tick_params(\\\n",
    "    axis= 'x',          # changes apply to the x-axis\n",
    "    which='both',      # both major and minor ticks are affected\n",
    "    bottom='off',      # ticks along the bottom edge are off\n",
    "    top='off',         # ticks along the top edge are off\n",
    "    labelbottom='off')\n",
    "\n",
    "plt.tight_layout() #show plot with tight layout\n",
    "\n",
    "#uncomment below to save figure\n",
    "plt.savefig('ward_clusters.png', dpi=200) #save figure as ward_clusters"
   ]
  },
  {
   "cell_type": "markdown",
   "metadata": {},
   "source": [
    "## Final Analysis\n",
    "    - What fundamental topics which are the pain points\n",
    "    - Which clusters have the most fundamental topics?\n",
    "    - Which clusters are overrepresented with fundamental topics?\n",
    "    - What are fundamental topics within calculus?"
   ]
  },
  {
   "cell_type": "markdown",
   "metadata": {
    "collapsed": true
   },
   "source": [
    "##Visualizations"
   ]
  },
  {
   "cell_type": "markdown",
   "metadata": {
    "collapsed": true
   },
   "source": [
    "### Presentation\n",
    "- High school is like a user experience. How can we identify when high school students as users  of the education system experience pain points which may inhibit their progress. \n",
    "- Everyone has pain points with the process. Some students are able to surmount those obstacles, while other may need targeted help to get the most out of the available system.\n",
    "- Often when speaking about mathematics you hear people say that they aren't math people, or aren't good at math and you find out that they hit a wall. It's like anything in life which is difficult. You hit a wall and you either push through it or you don't. \n",
    "- present it as a paradigm which is a process which can be improved upon. there are answers that we can deivgn about how to teach people that are better or worse than others. Testing to figure out where are the pain points and where are students falling behind, particularly in math/science. \n",
    "- These are users /consumers of education. \n",
    "- I'm building a tool which can target at what point students are exiting the process. "
   ]
  },
  {
   "cell_type": "code",
   "execution_count": null,
   "metadata": {
    "collapsed": true
   },
   "outputs": [],
   "source": []
  }
 ],
 "metadata": {
  "kernelspec": {
   "display_name": "Python 2",
   "language": "python",
   "name": "python2"
  },
  "language_info": {
   "codemirror_mode": {
    "name": "ipython",
    "version": 2
   },
   "file_extension": ".py",
   "mimetype": "text/x-python",
   "name": "python",
   "nbconvert_exporter": "python",
   "pygments_lexer": "ipython2",
   "version": "2.7.9"
  }
 },
 "nbformat": 4,
 "nbformat_minor": 0
}
