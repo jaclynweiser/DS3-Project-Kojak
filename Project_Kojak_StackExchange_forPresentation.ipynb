{
 "cells": [
  {
   "cell_type": "markdown",
   "metadata": {},
   "source": [
    "###At what point in high school do students give up on math? Identifying knowledge gaps in high school and college math education using Stack Exchange's Math forum\n",
    "\n",
    "#### Additional Questions:\n",
    "    1. What are the most popular subjects over time? (Upvotes, Favorites and Views)\n",
    "    2. What are the most hotly debated subjects over time? (Comment Count, Longevity)\n",
    "    3. What are the most fundamental subjects students are asking about over time? (Asked multiple times, answered quickly and by only a few commenters)\n",
    "    4. What are the demographics of the posters and commenters? (Education level, age and location)\n",
    "    5. Who are the most active math people? How quickly do they reply? Who has way too much free time?\n",
    "    6. Can I determine sex from username?"
   ]
  },
  {
   "cell_type": "code",
   "execution_count": 1,
   "metadata": {
    "collapsed": false
   },
   "outputs": [],
   "source": [
    "import numpy as np\n",
    "import pandas as pd\n",
    "\n",
    "from xml.etree import ElementTree as ET\n",
    "from HTMLParser import HTMLParser\n",
    "\n",
    "import matplotlib.pyplot as plt\n",
    "%matplotlib inline \n",
    "import seaborn as sns"
   ]
  },
  {
   "cell_type": "markdown",
   "metadata": {},
   "source": [
    "#Parse Stackoverflow XML files"
   ]
  },
  {
   "cell_type": "code",
   "execution_count": 161,
   "metadata": {
    "collapsed": true
   },
   "outputs": [],
   "source": [
    "class MLStripper(HTMLParser):\n",
    "    def __init__(self):\n",
    "        self.reset()\n",
    "        self.fed = []\n",
    "    def handle_data(self, d):\n",
    "        self.fed.append(d)\n",
    "    def get_data(self):\n",
    "        return ''.join(self.fed)\n",
    "\n",
    "def strip_tags(html):\n",
    "    s = MLStripper()\n",
    "    s.feed(html)\n",
    "    return s.get_data()"
   ]
  },
  {
   "cell_type": "code",
   "execution_count": 162,
   "metadata": {
    "collapsed": false,
    "scrolled": true
   },
   "outputs": [],
   "source": [
    "etree = ET.parse('Data/Math/math.stackexchange.com/Posts.xml')\n",
    "root = etree.getroot()\n",
    "i = 0\n",
    "postdicts = []\n",
    "for x in root.iter():\n",
    "    postdicts.append(x.attrib)\n",
    "postdata = pd.DataFrame(postdicts).ix[1:]"
   ]
  },
  {
   "cell_type": "code",
   "execution_count": 163,
   "metadata": {
    "collapsed": true
   },
   "outputs": [],
   "source": [
    "for index, row in postdata.iterrows():\n",
    "    row['Body'] = strip_tags(row['Body'])"
   ]
  },
  {
   "cell_type": "code",
   "execution_count": 164,
   "metadata": {
    "collapsed": false,
    "scrolled": true
   },
   "outputs": [],
   "source": [
    "etree = ET.parse('Data/Math/math.stackexchange.com/Users.xml')\n",
    "root = etree.getroot()\n",
    "i = 0\n",
    "userdicts = []\n",
    "for x in root.iter():\n",
    "    userdicts.append(x.attrib)\n",
    "userdata = pd.DataFrame(userdicts).ix[1:]"
   ]
  },
  {
   "cell_type": "markdown",
   "metadata": {},
   "source": [
    "#Where are the users?"
   ]
  },
  {
   "cell_type": "code",
   "execution_count": 165,
   "metadata": {
    "collapsed": true
   },
   "outputs": [],
   "source": [
    "location2 = userdata['Location']"
   ]
  },
  {
   "cell_type": "code",
   "execution_count": 166,
   "metadata": {
    "collapsed": false
   },
   "outputs": [],
   "source": [
    "userdata.replace(to_replace=['Bangalore, India','London, United Kingdom','New York, United States','San Francisco, CA','Mumbai, India','Paris, France','Sydney, Australia','Toronto, Canada','Moscow, Russia','Chennai, India','Los Angeles, CA','Berlin, Germany','Montreal, Canada','Melbourne, Australia','Hyderabad, India','Pune, India','Beijing, China','Vancouver, Canada','Stockholm, Sweden','Kolkata, India','New Delhi, India','UK','London'], \n",
    "                 value=['India','United Kingdom','New York, NY','California','India','France','Australia','Canada','Russia','India','California','Germany','Canada','Australia','India','India','China','Canada','Sweden','India','India','United Kingdom','United Kingdom'],inplace=True)"
   ]
  },
  {
   "cell_type": "code",
   "execution_count": 167,
   "metadata": {
    "collapsed": true
   },
   "outputs": [],
   "source": [
    "userdata.replace(to_replace=['California','New York, NY','Seattle, WA','Boston, MA','Chicago, IL','Austin, TX','Atlanta, GA','Pittsburgh, PA','Portland, OR','USA','San Diego, CA','Berkeley, CA'],value='United States',inplace=True)"
   ]
  },
  {
   "cell_type": "code",
   "execution_count": 168,
   "metadata": {
    "collapsed": false
   },
   "outputs": [
    {
     "data": {
      "text/plain": [
       "Index([u'AboutMe', u'AccountId', u'Age', u'CreationDate', u'DisplayName', u'DownVotes', u'Id', u'LastAccessDate', u'Location', u'ProfileImageUrl', u'Reputation', u'UpVotes', u'Views', u'WebsiteUrl', u'Location2'], dtype='object')"
      ]
     },
     "execution_count": 168,
     "metadata": {},
     "output_type": "execute_result"
    }
   ],
   "source": [
    "userdata['Location2'] = location2\n",
    "userdata.columns"
   ]
  },
  {
   "cell_type": "code",
   "execution_count": 169,
   "metadata": {
    "collapsed": false
   },
   "outputs": [],
   "source": [
    "def counter(x):\n",
    "    x['Counter'] = x.Location.count()\n",
    "    return x\n",
    "counts = userdata.groupby(\"Location\").apply(counter)\n",
    "counts2 = counts[['Location','Counter']]\n",
    "counts3 = counts2.drop_duplicates(cols='Location',take_last = True)\n",
    "counts3.sort(columns='Counter',ascending=False,inplace=True)\n",
    "counts4 = counts3[['Location','Counter']]\n",
    "# userdata2.sort(columns='',ascending=False,inplace=True)"
   ]
  },
  {
   "cell_type": "code",
   "execution_count": 170,
   "metadata": {
    "collapsed": false
   },
   "outputs": [
    {
     "data": {
      "text/html": [
       "<div style=\"max-height:1000px;max-width:1500px;overflow:auto;\">\n",
       "<table border=\"1\" class=\"dataframe\">\n",
       "  <thead>\n",
       "    <tr style=\"text-align: right;\">\n",
       "      <th></th>\n",
       "      <th>Location</th>\n",
       "      <th>Counter</th>\n",
       "    </tr>\n",
       "  </thead>\n",
       "  <tbody>\n",
       "    <tr>\n",
       "      <th>171513</th>\n",
       "      <td>United States</td>\n",
       "      <td>3945</td>\n",
       "    </tr>\n",
       "    <tr>\n",
       "      <th>171322</th>\n",
       "      <td>India</td>\n",
       "      <td>2706</td>\n",
       "    </tr>\n",
       "    <tr>\n",
       "      <th>171622</th>\n",
       "      <td>United Kingdom</td>\n",
       "      <td>1482</td>\n",
       "    </tr>\n",
       "    <tr>\n",
       "      <th>171489</th>\n",
       "      <td>Germany</td>\n",
       "      <td>902</td>\n",
       "    </tr>\n",
       "    <tr>\n",
       "      <th>171132</th>\n",
       "      <td>Canada</td>\n",
       "      <td>877</td>\n",
       "    </tr>\n",
       "    <tr>\n",
       "      <th>171559</th>\n",
       "      <td>Australia</td>\n",
       "      <td>623</td>\n",
       "    </tr>\n",
       "    <tr>\n",
       "      <th>170315</th>\n",
       "      <td>France</td>\n",
       "      <td>576</td>\n",
       "    </tr>\n",
       "    <tr>\n",
       "      <th>171718</th>\n",
       "      <td>Russia</td>\n",
       "      <td>462</td>\n",
       "    </tr>\n",
       "    <tr>\n",
       "      <th>167586</th>\n",
       "      <td>Sweden</td>\n",
       "      <td>382</td>\n",
       "    </tr>\n",
       "    <tr>\n",
       "      <th>171098</th>\n",
       "      <td>Netherlands</td>\n",
       "      <td>325</td>\n",
       "    </tr>\n",
       "    <tr>\n",
       "      <th>170847</th>\n",
       "      <td>Brazil</td>\n",
       "      <td>324</td>\n",
       "    </tr>\n",
       "    <tr>\n",
       "      <th>170762</th>\n",
       "      <td>China</td>\n",
       "      <td>320</td>\n",
       "    </tr>\n",
       "    <tr>\n",
       "      <th>165159</th>\n",
       "      <td>Israel</td>\n",
       "      <td>278</td>\n",
       "    </tr>\n",
       "    <tr>\n",
       "      <th>170942</th>\n",
       "      <td>Italy</td>\n",
       "      <td>272</td>\n",
       "    </tr>\n",
       "    <tr>\n",
       "      <th>160127</th>\n",
       "      <td>Belgium</td>\n",
       "      <td>199</td>\n",
       "    </tr>\n",
       "    <tr>\n",
       "      <th>168057</th>\n",
       "      <td>Denmark</td>\n",
       "      <td>177</td>\n",
       "    </tr>\n",
       "    <tr>\n",
       "      <th>170791</th>\n",
       "      <td>Poland</td>\n",
       "      <td>176</td>\n",
       "    </tr>\n",
       "    <tr>\n",
       "      <th>171140</th>\n",
       "      <td>Switzerland</td>\n",
       "      <td>166</td>\n",
       "    </tr>\n",
       "    <tr>\n",
       "      <th>170072</th>\n",
       "      <td>Singapore</td>\n",
       "      <td>162</td>\n",
       "    </tr>\n",
       "    <tr>\n",
       "      <th>171557</th>\n",
       "      <td>Iran</td>\n",
       "      <td>146</td>\n",
       "    </tr>\n",
       "    <tr>\n",
       "      <th>160559</th>\n",
       "      <td>South Africa</td>\n",
       "      <td>124</td>\n",
       "    </tr>\n",
       "    <tr>\n",
       "      <th>168173</th>\n",
       "      <td>Ukraine</td>\n",
       "      <td>120</td>\n",
       "    </tr>\n",
       "    <tr>\n",
       "      <th>168420</th>\n",
       "      <td>Earth</td>\n",
       "      <td>119</td>\n",
       "    </tr>\n",
       "    <tr>\n",
       "      <th>165967</th>\n",
       "      <td>Norway</td>\n",
       "      <td>115</td>\n",
       "    </tr>\n",
       "    <tr>\n",
       "      <th>171089</th>\n",
       "      <td>Spain</td>\n",
       "      <td>109</td>\n",
       "    </tr>\n",
       "    <tr>\n",
       "      <th>170483</th>\n",
       "      <td>Hong Kong</td>\n",
       "      <td>108</td>\n",
       "    </tr>\n",
       "    <tr>\n",
       "      <th>170304</th>\n",
       "      <td>Finland</td>\n",
       "      <td>104</td>\n",
       "    </tr>\n",
       "    <tr>\n",
       "      <th>169434</th>\n",
       "      <td>Dhaka, Bangladesh</td>\n",
       "      <td>104</td>\n",
       "    </tr>\n",
       "    <tr>\n",
       "      <th>167757</th>\n",
       "      <td>Mexico</td>\n",
       "      <td>103</td>\n",
       "    </tr>\n",
       "    <tr>\n",
       "      <th>171192</th>\n",
       "      <td>Turkey</td>\n",
       "      <td>102</td>\n",
       "    </tr>\n",
       "  </tbody>\n",
       "</table>\n",
       "</div>"
      ],
      "text/plain": [
       "                 Location  Counter\n",
       "171513      United States     3945\n",
       "171322              India     2706\n",
       "171622     United Kingdom     1482\n",
       "171489            Germany      902\n",
       "171132             Canada      877\n",
       "171559          Australia      623\n",
       "170315             France      576\n",
       "171718             Russia      462\n",
       "167586             Sweden      382\n",
       "171098        Netherlands      325\n",
       "170847             Brazil      324\n",
       "170762              China      320\n",
       "165159             Israel      278\n",
       "170942              Italy      272\n",
       "160127            Belgium      199\n",
       "168057            Denmark      177\n",
       "170791             Poland      176\n",
       "171140        Switzerland      166\n",
       "170072          Singapore      162\n",
       "171557               Iran      146\n",
       "160559       South Africa      124\n",
       "168173            Ukraine      120\n",
       "168420              Earth      119\n",
       "165967             Norway      115\n",
       "171089              Spain      109\n",
       "170483          Hong Kong      108\n",
       "170304            Finland      104\n",
       "169434  Dhaka, Bangladesh      104\n",
       "167757             Mexico      103\n",
       "171192             Turkey      102"
      ]
     },
     "execution_count": 170,
     "metadata": {},
     "output_type": "execute_result"
    }
   ],
   "source": [
    "counts4.head(30)"
   ]
  },
  {
   "cell_type": "code",
   "execution_count": 171,
   "metadata": {
    "collapsed": false
   },
   "outputs": [
    {
     "data": {
      "image/png": "[encoded data removed]",
      "text/plain": [
       "<matplotlib.figure.Figure at 0x1d0495210>"
      ]
     },
     "metadata": {},
     "output_type": "display_data"
    }
   ],
   "source": [
    "# Who are the users of the Math Forum?\n",
    "sns.set_palette(\"deep\", desat=.8)\n",
    "sns.set(font_scale=2.0)\n",
    "sns.set_context(rc={\"figure.figsize\": (20, 10)})   \n",
    "ax = counts4[0:20].plot(x='Location', y='Counter',kind='bar',colormap='jet',title='Top 20 User Locations',legend=False)"
   ]
  },
  {
   "cell_type": "code",
   "execution_count": 172,
   "metadata": {
    "collapsed": false
   },
   "outputs": [],
   "source": [
    "postdata = pd.merge(postdata, userdata, left_on='OwnerUserId', right_on='Id', how='left')"
   ]
  },
  {
   "cell_type": "code",
   "execution_count": 173,
   "metadata": {
    "collapsed": false,
    "scrolled": false
   },
   "outputs": [],
   "source": [
    "etree = ET.parse('Data/Math/math.stackexchange.com/Comments.xml')\n",
    "root = etree.getroot()\n",
    "i = 0\n",
    "commentdicts = []\n",
    "for x in root.iter():\n",
    "    commentdicts.append(x.attrib)\n",
    "commentdata = pd.DataFrame(commentdicts).ix[1:]"
   ]
  },
  {
   "cell_type": "code",
   "execution_count": 174,
   "metadata": {
    "collapsed": true
   },
   "outputs": [],
   "source": [
    "for index, row in commentdata.iterrows():\n",
    "    row['Text'] = strip_tags(row['Text'])"
   ]
  },
  {
   "cell_type": "code",
   "execution_count": 175,
   "metadata": {
    "collapsed": false
   },
   "outputs": [],
   "source": [
    "commentdata = pd.merge(commentdata, userdata, left_on='UserId', right_on='Id', how='left')"
   ]
  },
  {
   "cell_type": "code",
   "execution_count": 176,
   "metadata": {
    "collapsed": false
   },
   "outputs": [],
   "source": [
    "postdata.CreationDate_x = pd.to_datetime(postdata.CreationDate_x)\n",
    "postdata.LastActivityDate = pd.to_datetime(postdata.LastActivityDate)"
   ]
  },
  {
   "cell_type": "code",
   "execution_count": 177,
   "metadata": {
    "collapsed": false
   },
   "outputs": [],
   "source": [
    "postdata['Longevity'] = postdata.LastActivityDate - postdata.CreationDate_x"
   ]
  },
  {
   "cell_type": "code",
   "execution_count": 178,
   "metadata": {
    "collapsed": false
   },
   "outputs": [],
   "source": [
    "LongevitySeconds = []\n",
    "for row in postdata.Longevity:\n",
    "    LongevitySeconds.append(row.total_seconds())\n",
    "postdata['LongevitySeconds'] = LongevitySeconds"
   ]
  },
  {
   "cell_type": "code",
   "execution_count": 179,
   "metadata": {
    "collapsed": false,
    "scrolled": false
   },
   "outputs": [
    {
     "data": {
      "text/plain": [
       "0                            set-theory,intuition,faq,\n",
       "1                          calculus,limits,definition,\n",
       "2             soft-question,big-list,online-resources,\n",
       "3                                                  NaN\n",
       "4                    number-theory,irrational-numbers,\n",
       "5                         soft-question,math-software,\n",
       "6                                                  NaN\n",
       "7    linear-algebra,combinatorics,generating-functi...\n",
       "8                                                  NaN\n",
       "9               algebra-precalculus,decimal-expansion,\n",
       "Name: Tags, dtype: object"
      ]
     },
     "execution_count": 179,
     "metadata": {},
     "output_type": "execute_result"
    }
   ],
   "source": [
    "# Pull out tags\n",
    "postdata.Tags = postdata.Tags.str.replace('\\\\<', '')\n",
    "postdata.Tags = postdata.Tags.str.replace('\\\\>', ',')\n",
    "postdata.Tags[0:10]"
   ]
  },
  {
   "cell_type": "code",
   "execution_count": 180,
   "metadata": {
    "collapsed": false
   },
   "outputs": [],
   "source": [
    "removenans = postdata.Tags\n",
    "removenans = removenans.fillna('')\n",
    "postdata.Tags = removenans\n",
    "postdata.Tags = postdata.Tags.str.strip(',')"
   ]
  },
  {
   "cell_type": "code",
   "execution_count": 181,
   "metadata": {
    "collapsed": false
   },
   "outputs": [
    {
     "name": "stdout",
     "output_type": "stream",
     "text": [
      "0     269\n",
      "1      71\n",
      "2      72\n",
      "3     191\n",
      "4     196\n",
      "5     117\n",
      "6     285\n",
      "7     392\n",
      "8    1490\n",
      "9     122\n",
      "Name: BodyLength, dtype: int64\n"
     ]
    }
   ],
   "source": [
    "postdata['BodyLength'] = postdata['Body'].str.len()\n",
    "print postdata['BodyLength'][0:10]"
   ]
  },
  {
   "cell_type": "code",
   "execution_count": 182,
   "metadata": {
    "collapsed": false
   },
   "outputs": [],
   "source": [
    "# Get unique list of subjects and their counts\n",
    "subjectlist = []\n",
    "for row in postdata.Tags:\n",
    "    for subject in row.split(','):\n",
    "        subjectlist.append(subject)"
   ]
  },
  {
   "cell_type": "code",
   "execution_count": 183,
   "metadata": {
    "collapsed": false
   },
   "outputs": [],
   "source": [
    "from collections import Counter\n",
    "counts = Counter(subjectlist)"
   ]
  },
  {
   "cell_type": "code",
   "execution_count": 184,
   "metadata": {
    "collapsed": false
   },
   "outputs": [],
   "source": [
    "taglist = []\n",
    "tagcounts = []\n",
    "for word, count in counts.iteritems():\n",
    "    taglist.append(word)\n",
    "    tagcounts.append(count)\n",
    "uniquetaglist = zip(*[taglist,tagcounts])\n",
    "uniquetags = pd.DataFrame(uniquetaglist)\n",
    "uniquetags.columns = ['Tag','Count']\n",
    "uniquetags.sort(columns='Count',ascending=False,inplace=True)"
   ]
  },
  {
   "cell_type": "code",
   "execution_count": 185,
   "metadata": {
    "collapsed": false
   },
   "outputs": [],
   "source": [
    "# Modify with high-school, non-high school values in Excel\n",
    "# uniquetags.to_csv('uniquetags.csv')"
   ]
  },
  {
   "cell_type": "code",
   "execution_count": 186,
   "metadata": {
    "collapsed": false
   },
   "outputs": [],
   "source": [
    "uniquetags2 = uniquetags.from_csv('uniquetags.csv',header = 0)"
   ]
  },
  {
   "cell_type": "code",
   "execution_count": 187,
   "metadata": {
    "collapsed": false
   },
   "outputs": [
    {
     "data": {
      "text/plain": [
       "Index([u'Tag', u'Count', u'HighSchoolSubjects'], dtype='object')"
      ]
     },
     "execution_count": 187,
     "metadata": {},
     "output_type": "execute_result"
    }
   ],
   "source": [
    "uniquetags2.columns"
   ]
  },
  {
   "cell_type": "code",
   "execution_count": 188,
   "metadata": {
    "collapsed": false
   },
   "outputs": [
    {
     "data": {
      "text/plain": [
       "['real-analysis',\n",
       " 'linear-algebra',\n",
       " 'probability',\n",
       " 'abstract-algebra',\n",
       " 'sequences-and-series',\n",
       " 'general-topology',\n",
       " 'combinatorics',\n",
       " 'group-theory',\n",
       " 'complex-analysis']"
      ]
     },
     "execution_count": 188,
     "metadata": {},
     "output_type": "execute_result"
    }
   ],
   "source": [
    "highschoolbinary = uniquetags2['HighSchoolSubjects'].tolist()\n",
    "tagstemp = uniquetags2['Tag'].tolist()\n",
    "subjectbinary = zip(*[tagstemp,highschoolbinary])\n",
    "highschooltags = []\n",
    "defnothighschooltags = []\n",
    "for item in subjectbinary:\n",
    "    if item[1] == 1:\n",
    "        highschooltags.append(item[0])\n",
    "    elif item[1] == 0:\n",
    "        defnothighschooltags.append(item[0])\n",
    "highschooltags[0:9]    \n",
    "defnothighschooltags[0:9]"
   ]
  },
  {
   "cell_type": "code",
   "execution_count": 189,
   "metadata": {
    "collapsed": true
   },
   "outputs": [],
   "source": [
    "# Develop training set from subjects I am sure are \n",
    "# high-school or not high-school level\n",
    "highschoolsubject = []\n",
    "for row in postdata.Tags:\n",
    "    if any(subject not in highschooltags for subject in row.split(',')):\n",
    "        if any(subject in defnothighschooltags for subject in row.split(',')):\n",
    "            highschoolsubject.append(0.0)\n",
    "        else:\n",
    "            highschoolsubject.append(0.5)\n",
    "    elif any(subject not in defnothighschooltags for subject in row.split(',')):\n",
    "        highschoolsubject.append(1.0)\n",
    "    else:\n",
    "        highschoolsubject.append(1)\n",
    "    for subject in row.split(','):\n",
    "        subjectlist.append(subject)\n",
    "postdata['HighSchoolSubject'] = highschoolsubject"
   ]
  },
  {
   "cell_type": "code",
   "execution_count": 190,
   "metadata": {
    "collapsed": false
   },
   "outputs": [
    {
     "data": {
      "text/html": [
       "<div style=\"max-height:1000px;max-width:1500px;overflow:auto;\">\n",
       "<table border=\"1\" class=\"dataframe\">\n",
       "  <thead>\n",
       "    <tr style=\"text-align: right;\">\n",
       "      <th></th>\n",
       "      <th>Tags</th>\n",
       "      <th>HighSchoolSubject</th>\n",
       "    </tr>\n",
       "  </thead>\n",
       "  <tbody>\n",
       "    <tr>\n",
       "      <th>0</th>\n",
       "      <td>set-theory,intuition,faq</td>\n",
       "      <td>0.0</td>\n",
       "    </tr>\n",
       "    <tr>\n",
       "      <th>1</th>\n",
       "      <td>calculus,limits,definition</td>\n",
       "      <td>0.5</td>\n",
       "    </tr>\n",
       "    <tr>\n",
       "      <th>2</th>\n",
       "      <td>soft-question,big-list,online-resources</td>\n",
       "      <td>0.5</td>\n",
       "    </tr>\n",
       "    <tr>\n",
       "      <th>3</th>\n",
       "      <td></td>\n",
       "      <td>0.5</td>\n",
       "    </tr>\n",
       "    <tr>\n",
       "      <th>4</th>\n",
       "      <td>number-theory,irrational-numbers</td>\n",
       "      <td>0.0</td>\n",
       "    </tr>\n",
       "    <tr>\n",
       "      <th>5</th>\n",
       "      <td>soft-question,math-software</td>\n",
       "      <td>0.5</td>\n",
       "    </tr>\n",
       "    <tr>\n",
       "      <th>6</th>\n",
       "      <td></td>\n",
       "      <td>0.5</td>\n",
       "    </tr>\n",
       "    <tr>\n",
       "      <th>7</th>\n",
       "      <td>linear-algebra,combinatorics,generating-functi...</td>\n",
       "      <td>0.0</td>\n",
       "    </tr>\n",
       "    <tr>\n",
       "      <th>8</th>\n",
       "      <td></td>\n",
       "      <td>0.5</td>\n",
       "    </tr>\n",
       "  </tbody>\n",
       "</table>\n",
       "</div>"
      ],
      "text/plain": [
       "                                                Tags  HighSchoolSubject\n",
       "0                           set-theory,intuition,faq                0.0\n",
       "1                         calculus,limits,definition                0.5\n",
       "2            soft-question,big-list,online-resources                0.5\n",
       "3                                                                   0.5\n",
       "4                   number-theory,irrational-numbers                0.0\n",
       "5                        soft-question,math-software                0.5\n",
       "6                                                                   0.5\n",
       "7  linear-algebra,combinatorics,generating-functi...                0.0\n",
       "8                                                                   0.5"
      ]
     },
     "execution_count": 190,
     "metadata": {},
     "output_type": "execute_result"
    }
   ],
   "source": [
    "postdata[['Tags','HighSchoolSubject']][0:9]"
   ]
  },
  {
   "cell_type": "code",
   "execution_count": 191,
   "metadata": {
    "collapsed": false
   },
   "outputs": [],
   "source": [
    "postdata.AnswerCount = postdata.AnswerCount.fillna(0)\n",
    "postdata.Longevity = postdata.Longevity.fillna(0)\n",
    "postdata.FavoriteCount = postdata.FavoriteCount.fillna(0)\n",
    "postdata.CommentCount = postdata.CommentCount.fillna(0)\n",
    "postdata.ViewCount = postdata.ViewCount.fillna(0)\n",
    "postdata.BodyLength = postdata.BodyLength.fillna(0)\n",
    "for col in ['AnswerCount', 'FavoriteCount', 'CommentCount', 'ViewCount']:\n",
    "    postdata[col] = postdata[col].astype(float)"
   ]
  },
  {
   "cell_type": "markdown",
   "metadata": {},
   "source": [
    "### Pickle dataframe for posterity"
   ]
  },
  {
   "cell_type": "code",
   "execution_count": 192,
   "metadata": {
    "collapsed": false
   },
   "outputs": [],
   "source": [
    "# import pickle\n",
    "# with open('StackOverflowPostData.pkl', 'w') as picklefile:\n",
    "#     pickle.dump(postdata, picklefile)"
   ]
  },
  {
   "cell_type": "markdown",
   "metadata": {
    "collapsed": true
   },
   "source": [
    "###Unpickle"
   ]
  },
  {
   "cell_type": "code",
   "execution_count": 2,
   "metadata": {
    "collapsed": false
   },
   "outputs": [],
   "source": [
    "import pickle\n",
    "with open(\"StackOverflowPostData.pkl\", 'r') as picklefile: \n",
    "    postdata = pickle.load(picklefile)"
   ]
  },
  {
   "cell_type": "markdown",
   "metadata": {
    "collapsed": true
   },
   "source": [
    "#What are the most popular topics?"
   ]
  },
  {
   "cell_type": "code",
   "execution_count": 82,
   "metadata": {
    "collapsed": false
   },
   "outputs": [],
   "source": [
    "# %%timeit\n",
    "things = ['LongevitySeconds', 'AnswerCount', 'FavoriteCount',\n",
    "          'CommentCount', 'ViewCount', 'BodyLength']\n",
    "results = {}\n",
    "running_sum = 0\n",
    "running_count = 0\n",
    "for index in xrange(len(postdata)):\n",
    "    tags = postdata.iloc[index]['Tags'].split(',')\n",
    "    for tag in tags:\n",
    "        for thing in things:\n",
    "            value = postdata.iloc[index][thing]\n",
    "            running_sum, running_count = results.setdefault(tag, {}).get(thing, (0, 0))\n",
    "            results[tag][thing] = [running_sum + value, running_count + 1]"
   ]
  },
  {
   "cell_type": "code",
   "execution_count": 83,
   "metadata": {
    "collapsed": false
   },
   "outputs": [],
   "source": [
    "tagstats = pd.DataFrame.from_dict(results)\n",
    "tagstats2 = tagstats.transpose()"
   ]
  },
  {
   "cell_type": "code",
   "execution_count": 84,
   "metadata": {
    "collapsed": false
   },
   "outputs": [
    {
     "name": "stdout",
     "output_type": "stream",
     "text": [
      "[596320, 9, 7, 814, 193, 957, 51, 73, 576, 22687]\n"
     ]
    }
   ],
   "source": [
    "Frequency = []\n",
    "for row in tagstats2.AnswerCount:\n",
    "    Frequency.append(row.pop())\n",
    "print Frequency[0:10]"
   ]
  },
  {
   "cell_type": "code",
   "execution_count": 85,
   "metadata": {
    "collapsed": false
   },
   "outputs": [],
   "source": [
    "for index in xrange(len(tagstats2)):\n",
    "    for col in range(1,6):\n",
    "        tagstats2.iloc[index][col].pop()"
   ]
  },
  {
   "cell_type": "code",
   "execution_count": 86,
   "metadata": {
    "collapsed": false
   },
   "outputs": [
    {
     "data": {
      "text/html": [
       "<div style=\"max-height:1000px;max-width:1500px;overflow:auto;\">\n",
       "<table border=\"1\" class=\"dataframe\">\n",
       "  <thead>\n",
       "    <tr style=\"text-align: right;\">\n",
       "      <th></th>\n",
       "      <th>AnswerCount</th>\n",
       "      <th>BodyLength</th>\n",
       "      <th>CommentCount</th>\n",
       "      <th>FavoriteCount</th>\n",
       "      <th>LongevitySeconds</th>\n",
       "      <th>ViewCount</th>\n",
       "    </tr>\n",
       "  </thead>\n",
       "  <tbody>\n",
       "    <tr>\n",
       "      <th></th>\n",
       "      <td>[0.0]</td>\n",
       "      <td>[422587540]</td>\n",
       "      <td>[896301.0]</td>\n",
       "      <td>[0.0]</td>\n",
       "      <td>[360427361860.0]</td>\n",
       "      <td>[0.0]</td>\n",
       "    </tr>\n",
       "    <tr>\n",
       "      <th>2-categories</th>\n",
       "      <td>[6.0]</td>\n",
       "      <td>[6131]</td>\n",
       "      <td>[8.0]</td>\n",
       "      <td>[2.0]</td>\n",
       "      <td>[6516330.828]</td>\n",
       "      <td>[370.0]</td>\n",
       "    </tr>\n",
       "    <tr>\n",
       "      <th>2-groups</th>\n",
       "      <td>[6.0]</td>\n",
       "      <td>[4762]</td>\n",
       "      <td>[29.0]</td>\n",
       "      <td>[17.0]</td>\n",
       "      <td>[183307981.115]</td>\n",
       "      <td>[772.0]</td>\n",
       "    </tr>\n",
       "    <tr>\n",
       "      <th>3d</th>\n",
       "      <td>[966.0]</td>\n",
       "      <td>[617443]</td>\n",
       "      <td>[1583.0]</td>\n",
       "      <td>[254.0]</td>\n",
       "      <td>[3962347268.74]</td>\n",
       "      <td>[413932.0]</td>\n",
       "    </tr>\n",
       "    <tr>\n",
       "      <th>abelian-categories</th>\n",
       "      <td>[197.0]</td>\n",
       "      <td>[150127]</td>\n",
       "      <td>[443.0]</td>\n",
       "      <td>[221.0]</td>\n",
       "      <td>[777818719.881]</td>\n",
       "      <td>[34933.0]</td>\n",
       "    </tr>\n",
       "  </tbody>\n",
       "</table>\n",
       "</div>"
      ],
      "text/plain": [
       "                   AnswerCount   BodyLength CommentCount FavoriteCount  \\\n",
       "                         [0.0]  [422587540]   [896301.0]         [0.0]   \n",
       "2-categories             [6.0]       [6131]        [8.0]         [2.0]   \n",
       "2-groups                 [6.0]       [4762]       [29.0]        [17.0]   \n",
       "3d                     [966.0]     [617443]     [1583.0]       [254.0]   \n",
       "abelian-categories     [197.0]     [150127]      [443.0]       [221.0]   \n",
       "\n",
       "                    LongevitySeconds   ViewCount  \n",
       "                    [360427361860.0]       [0.0]  \n",
       "2-categories           [6516330.828]     [370.0]  \n",
       "2-groups             [183307981.115]     [772.0]  \n",
       "3d                   [3962347268.74]  [413932.0]  \n",
       "abelian-categories   [777818719.881]   [34933.0]  "
      ]
     },
     "execution_count": 86,
     "metadata": {},
     "output_type": "execute_result"
    }
   ],
   "source": [
    "tagstats2.head()"
   ]
  },
  {
   "cell_type": "code",
   "execution_count": 87,
   "metadata": {
    "collapsed": false
   },
   "outputs": [],
   "source": [
    "for index in xrange(len(tagstats2)):\n",
    "    for col in range(0,6):\n",
    "        tagstats2.iloc[index][col] = tagstats2.iloc[index][col][0]"
   ]
  },
  {
   "cell_type": "code",
   "execution_count": 88,
   "metadata": {
    "collapsed": false
   },
   "outputs": [],
   "source": [
    "tagstats2['Frequency'] = Frequency"
   ]
  },
  {
   "cell_type": "code",
   "execution_count": 89,
   "metadata": {
    "collapsed": false
   },
   "outputs": [],
   "source": [
    "tagstats2.LongevitySeconds = tagstats2.LongevitySeconds/3600.0"
   ]
  },
  {
   "cell_type": "code",
   "execution_count": 90,
   "metadata": {
    "collapsed": true
   },
   "outputs": [],
   "source": [
    "tagstats2.columns = ['AnswerCount','BodyLength','CommentCount','FavoriteCount','LongevityHours','ViewCount','Frequency']"
   ]
  },
  {
   "cell_type": "code",
   "execution_count": 91,
   "metadata": {
    "collapsed": false
   },
   "outputs": [
    {
     "data": {
      "text/html": [
       "<div style=\"max-height:1000px;max-width:1500px;overflow:auto;\">\n",
       "<table border=\"1\" class=\"dataframe\">\n",
       "  <thead>\n",
       "    <tr style=\"text-align: right;\">\n",
       "      <th></th>\n",
       "      <th>AnswerCount</th>\n",
       "      <th>BodyLength</th>\n",
       "      <th>CommentCount</th>\n",
       "      <th>FavoriteCount</th>\n",
       "      <th>LongevityHours</th>\n",
       "      <th>ViewCount</th>\n",
       "      <th>Frequency</th>\n",
       "    </tr>\n",
       "  </thead>\n",
       "  <tbody>\n",
       "    <tr>\n",
       "      <th></th>\n",
       "      <td>0</td>\n",
       "      <td>422587540</td>\n",
       "      <td>896301</td>\n",
       "      <td>0</td>\n",
       "      <td>1.001187e+08</td>\n",
       "      <td>0</td>\n",
       "      <td>596320</td>\n",
       "    </tr>\n",
       "    <tr>\n",
       "      <th>2-categories</th>\n",
       "      <td>6</td>\n",
       "      <td>6131</td>\n",
       "      <td>8</td>\n",
       "      <td>2</td>\n",
       "      <td>1810.092</td>\n",
       "      <td>370</td>\n",
       "      <td>9</td>\n",
       "    </tr>\n",
       "    <tr>\n",
       "      <th>2-groups</th>\n",
       "      <td>6</td>\n",
       "      <td>4762</td>\n",
       "      <td>29</td>\n",
       "      <td>17</td>\n",
       "      <td>50918.88</td>\n",
       "      <td>772</td>\n",
       "      <td>7</td>\n",
       "    </tr>\n",
       "    <tr>\n",
       "      <th>3d</th>\n",
       "      <td>966</td>\n",
       "      <td>617443</td>\n",
       "      <td>1583</td>\n",
       "      <td>254</td>\n",
       "      <td>1100652</td>\n",
       "      <td>413932</td>\n",
       "      <td>814</td>\n",
       "    </tr>\n",
       "    <tr>\n",
       "      <th>abelian-categories</th>\n",
       "      <td>197</td>\n",
       "      <td>150127</td>\n",
       "      <td>443</td>\n",
       "      <td>221</td>\n",
       "      <td>216060.8</td>\n",
       "      <td>34933</td>\n",
       "      <td>193</td>\n",
       "    </tr>\n",
       "  </tbody>\n",
       "</table>\n",
       "</div>"
      ],
      "text/plain": [
       "                   AnswerCount BodyLength CommentCount FavoriteCount  \\\n",
       "                             0  422587540       896301             0   \n",
       "2-categories                 6       6131            8             2   \n",
       "2-groups                     6       4762           29            17   \n",
       "3d                         966     617443         1583           254   \n",
       "abelian-categories         197     150127          443           221   \n",
       "\n",
       "                   LongevityHours ViewCount  Frequency  \n",
       "                     1.001187e+08         0     596320  \n",
       "2-categories             1810.092       370          9  \n",
       "2-groups                 50918.88       772          7  \n",
       "3d                        1100652    413932        814  \n",
       "abelian-categories       216060.8     34933        193  "
      ]
     },
     "execution_count": 91,
     "metadata": {},
     "output_type": "execute_result"
    }
   ],
   "source": [
    "tagstats2.head()"
   ]
  },
  {
   "cell_type": "code",
   "execution_count": 92,
   "metadata": {
    "collapsed": false
   },
   "outputs": [
    {
     "name": "stderr",
     "output_type": "stream",
     "text": [
      "/usr/local/lib/python2.7/site-packages/pandas/core/generic.py:2005: SettingWithCopyWarning: \n",
      "A value is trying to be set on a copy of a slice from a DataFrame.\n",
      "Try using .loc[row_indexer,col_indexer] = value instead\n",
      "\n",
      "See the the caveats in the documentation: http://pandas.pydata.org/pandas-docs/stable/indexing.html#indexing-view-versus-copy\n",
      "  self[name] = value\n"
     ]
    }
   ],
   "source": [
    "toptopics = tagstats2[['Frequency','CommentCount','ViewCount','FavoriteCount']]\n",
    "toptopics.CommentCount = toptopics.CommentCount / toptopics.Frequency\n",
    "toptopics.ViewCount = toptopics.ViewCount / toptopics.Frequency\n",
    "toptopics.FavoriteCount = toptopics.FavoriteCount / toptopics.Frequency\n",
    "toptopics.sort(columns='ViewCount',ascending=False,inplace=True)"
   ]
  },
  {
   "cell_type": "code",
   "execution_count": 93,
   "metadata": {
    "collapsed": false
   },
   "outputs": [],
   "source": [
    "toptopics2 = toptopics.apply(lambda c: c / c.sum() * 100, axis=0)\n",
    "toptopics2['SumOfTotal'] = (toptopics2.Frequency + toptopics2.CommentCount + toptopics2.ViewCount + toptopics2.FavoriteCount) / 4.0"
   ]
  },
  {
   "cell_type": "code",
   "execution_count": 94,
   "metadata": {
    "collapsed": false
   },
   "outputs": [
    {
     "data": {
      "text/html": [
       "<div style=\"max-height:1000px;max-width:1500px;overflow:auto;\">\n",
       "<table border=\"1\" class=\"dataframe\">\n",
       "  <thead>\n",
       "    <tr style=\"text-align: right;\">\n",
       "      <th></th>\n",
       "      <th>Frequency</th>\n",
       "      <th>CommentCount</th>\n",
       "      <th>ViewCount</th>\n",
       "      <th>FavoriteCount</th>\n",
       "      <th>SumOfTotal</th>\n",
       "    </tr>\n",
       "  </thead>\n",
       "  <tbody>\n",
       "    <tr>\n",
       "      <th>faq</th>\n",
       "      <td>0.003975</td>\n",
       "      <td>0.158527</td>\n",
       "      <td>1.563809</td>\n",
       "      <td>1.426973</td>\n",
       "      <td>0.788321</td>\n",
       "    </tr>\n",
       "    <tr>\n",
       "      <th>calculus</th>\n",
       "      <td>2.453872</td>\n",
       "      <td>0.099888</td>\n",
       "      <td>0.121150</td>\n",
       "      <td>0.074706</td>\n",
       "      <td>0.687404</td>\n",
       "    </tr>\n",
       "    <tr>\n",
       "      <th>big-list</th>\n",
       "      <td>0.055930</td>\n",
       "      <td>0.210802</td>\n",
       "      <td>0.922642</td>\n",
       "      <td>1.343721</td>\n",
       "      <td>0.633274</td>\n",
       "    </tr>\n",
       "    <tr>\n",
       "      <th>real-analysis</th>\n",
       "      <td>2.240752</td>\n",
       "      <td>0.096296</td>\n",
       "      <td>0.080328</td>\n",
       "      <td>0.067275</td>\n",
       "      <td>0.621163</td>\n",
       "    </tr>\n",
       "    <tr>\n",
       "      <th>differential-field</th>\n",
       "      <td>0.000279</td>\n",
       "      <td>0.181528</td>\n",
       "      <td>0.501039</td>\n",
       "      <td>1.747037</td>\n",
       "      <td>0.607471</td>\n",
       "    </tr>\n",
       "    <tr>\n",
       "      <th>linear-algebra</th>\n",
       "      <td>2.057551</td>\n",
       "      <td>0.089543</td>\n",
       "      <td>0.118755</td>\n",
       "      <td>0.044665</td>\n",
       "      <td>0.577628</td>\n",
       "    </tr>\n",
       "    <tr>\n",
       "      <th>fair-division</th>\n",
       "      <td>0.001674</td>\n",
       "      <td>0.139508</td>\n",
       "      <td>1.016114</td>\n",
       "      <td>1.112185</td>\n",
       "      <td>0.567370</td>\n",
       "    </tr>\n",
       "    <tr>\n",
       "      <th>music-theory</th>\n",
       "      <td>0.002441</td>\n",
       "      <td>0.162511</td>\n",
       "      <td>0.852564</td>\n",
       "      <td>0.887020</td>\n",
       "      <td>0.476134</td>\n",
       "    </tr>\n",
       "    <tr>\n",
       "      <th>probability</th>\n",
       "      <td>1.627685</td>\n",
       "      <td>0.081255</td>\n",
       "      <td>0.121350</td>\n",
       "      <td>0.038417</td>\n",
       "      <td>0.467177</td>\n",
       "    </tr>\n",
       "    <tr>\n",
       "      <th>abstract-algebra</th>\n",
       "      <td>1.582147</td>\n",
       "      <td>0.103705</td>\n",
       "      <td>0.077735</td>\n",
       "      <td>0.066250</td>\n",
       "      <td>0.457459</td>\n",
       "    </tr>\n",
       "    <tr>\n",
       "      <th>career-development</th>\n",
       "      <td>0.006555</td>\n",
       "      <td>0.215860</td>\n",
       "      <td>0.625789</td>\n",
       "      <td>0.928666</td>\n",
       "      <td>0.444217</td>\n",
       "    </tr>\n",
       "    <tr>\n",
       "      <th>finitism</th>\n",
       "      <td>0.000558</td>\n",
       "      <td>0.221868</td>\n",
       "      <td>0.438194</td>\n",
       "      <td>1.002398</td>\n",
       "      <td>0.415754</td>\n",
       "    </tr>\n",
       "    <tr>\n",
       "      <th>mathematicians</th>\n",
       "      <td>0.003626</td>\n",
       "      <td>0.231952</td>\n",
       "      <td>0.608919</td>\n",
       "      <td>0.709390</td>\n",
       "      <td>0.388472</td>\n",
       "    </tr>\n",
       "    <tr>\n",
       "      <th>integration</th>\n",
       "      <td>1.204585</td>\n",
       "      <td>0.100918</td>\n",
       "      <td>0.104942</td>\n",
       "      <td>0.101189</td>\n",
       "      <td>0.377908</td>\n",
       "    </tr>\n",
       "    <tr>\n",
       "      <th>hardware</th>\n",
       "      <td>0.000767</td>\n",
       "      <td>0.179694</td>\n",
       "      <td>0.701821</td>\n",
       "      <td>0.614457</td>\n",
       "      <td>0.374185</td>\n",
       "    </tr>\n",
       "    <tr>\n",
       "      <th>sequences-and-series</th>\n",
       "      <td>1.061901</td>\n",
       "      <td>0.104570</td>\n",
       "      <td>0.094795</td>\n",
       "      <td>0.094502</td>\n",
       "      <td>0.338942</td>\n",
       "    </tr>\n",
       "    <tr>\n",
       "      <th>teaching</th>\n",
       "      <td>0.030964</td>\n",
       "      <td>0.212873</td>\n",
       "      <td>0.544828</td>\n",
       "      <td>0.554480</td>\n",
       "      <td>0.335786</td>\n",
       "    </tr>\n",
       "    <tr>\n",
       "      <th>soft-question</th>\n",
       "      <td>0.312078</td>\n",
       "      <td>0.183335</td>\n",
       "      <td>0.364410</td>\n",
       "      <td>0.455628</td>\n",
       "      <td>0.328863</td>\n",
       "    </tr>\n",
       "    <tr>\n",
       "      <th>combinatorics</th>\n",
       "      <td>0.984073</td>\n",
       "      <td>0.093226</td>\n",
       "      <td>0.112900</td>\n",
       "      <td>0.062496</td>\n",
       "      <td>0.313174</td>\n",
       "    </tr>\n",
       "    <tr>\n",
       "      <th>learning</th>\n",
       "      <td>0.020782</td>\n",
       "      <td>0.175843</td>\n",
       "      <td>0.467098</td>\n",
       "      <td>0.588176</td>\n",
       "      <td>0.312975</td>\n",
       "    </tr>\n",
       "  </tbody>\n",
       "</table>\n",
       "</div>"
      ],
      "text/plain": [
       "                      Frequency  CommentCount  ViewCount  FavoriteCount  \\\n",
       "faq                    0.003975      0.158527   1.563809       1.426973   \n",
       "calculus               2.453872      0.099888   0.121150       0.074706   \n",
       "big-list               0.055930      0.210802   0.922642       1.343721   \n",
       "real-analysis          2.240752      0.096296   0.080328       0.067275   \n",
       "differential-field     0.000279      0.181528   0.501039       1.747037   \n",
       "linear-algebra         2.057551      0.089543   0.118755       0.044665   \n",
       "fair-division          0.001674      0.139508   1.016114       1.112185   \n",
       "music-theory           0.002441      0.162511   0.852564       0.887020   \n",
       "probability            1.627685      0.081255   0.121350       0.038417   \n",
       "abstract-algebra       1.582147      0.103705   0.077735       0.066250   \n",
       "career-development     0.006555      0.215860   0.625789       0.928666   \n",
       "finitism               0.000558      0.221868   0.438194       1.002398   \n",
       "mathematicians         0.003626      0.231952   0.608919       0.709390   \n",
       "integration            1.204585      0.100918   0.104942       0.101189   \n",
       "hardware               0.000767      0.179694   0.701821       0.614457   \n",
       "sequences-and-series   1.061901      0.104570   0.094795       0.094502   \n",
       "teaching               0.030964      0.212873   0.544828       0.554480   \n",
       "soft-question          0.312078      0.183335   0.364410       0.455628   \n",
       "combinatorics          0.984073      0.093226   0.112900       0.062496   \n",
       "learning               0.020782      0.175843   0.467098       0.588176   \n",
       "\n",
       "                      SumOfTotal  \n",
       "faq                     0.788321  \n",
       "calculus                0.687404  \n",
       "big-list                0.633274  \n",
       "real-analysis           0.621163  \n",
       "differential-field      0.607471  \n",
       "linear-algebra          0.577628  \n",
       "fair-division           0.567370  \n",
       "music-theory            0.476134  \n",
       "probability             0.467177  \n",
       "abstract-algebra        0.457459  \n",
       "career-development      0.444217  \n",
       "finitism                0.415754  \n",
       "mathematicians          0.388472  \n",
       "integration             0.377908  \n",
       "hardware                0.374185  \n",
       "sequences-and-series    0.338942  \n",
       "teaching                0.335786  \n",
       "soft-question           0.328863  \n",
       "combinatorics           0.313174  \n",
       "learning                0.312975  "
      ]
     },
     "execution_count": 94,
     "metadata": {},
     "output_type": "execute_result"
    }
   ],
   "source": [
    "toptopics2.sort(columns='SumOfTotal',ascending=False,inplace=True)\n",
    "toptopics2[1:21]"
   ]
  },
  {
   "cell_type": "code",
   "execution_count": 95,
   "metadata": {
    "collapsed": false
   },
   "outputs": [
    {
     "data": {
      "image/png": "[encoded data removed]",
      "text/plain": [
       "<matplotlib.figure.Figure at 0x12e9162d0>"
      ]
     },
     "metadata": {},
     "output_type": "display_data"
    }
   ],
   "source": [
    "toptopics3 = toptopics2[['Frequency','CommentCount','ViewCount','FavoriteCount']]\n",
    "sns.set(font_scale=1.2)   \n",
    "sns.set_palette(\"deep\", desat=.8)\n",
    "ax = toptopics3[1:26].plot(kind='barh',stacked=True,title='Most Popular Subjects as % of Total',rot=0)\n",
    "ax.set_ylabel(\"Subject Tag\",rotation = 90)\n",
    "sns.set_context(rc={\"figure.figsize\": (8, 20),'figure.facecolor':'cornflowerblue'})"
   ]
  },
  {
   "cell_type": "markdown",
   "metadata": {},
   "source": [
    "# Create training set of subjects classified as highschool and non-highschool"
   ]
  },
  {
   "cell_type": "code",
   "execution_count": 65,
   "metadata": {
    "collapsed": true
   },
   "outputs": [],
   "source": [
    "import numpy as np\n",
    "import pandas as pd\n",
    "import nltk\n",
    "import re\n",
    "import os\n",
    "import codecs\n",
    "from sklearn import feature_extraction\n",
    "import mpld3\n",
    "\n",
    "sample_size = 10000"
   ]
  },
  {
   "cell_type": "code",
   "execution_count": 66,
   "metadata": {
    "collapsed": true
   },
   "outputs": [],
   "source": [
    "import pickle\n",
    "with open(\"StackOverflowPostData.pkl\", 'r') as picklefile: \n",
    "    postdata = pickle.load(picklefile)"
   ]
  },
  {
   "cell_type": "code",
   "execution_count": 67,
   "metadata": {
    "collapsed": true
   },
   "outputs": [],
   "source": [
    "postdata.replace(to_replace='\\//', value='',inplace=True)"
   ]
  },
  {
   "cell_type": "code",
   "execution_count": 68,
   "metadata": {
    "collapsed": false
   },
   "outputs": [],
   "source": [
    "postdatadc2 = postdata[postdata.HighSchoolSubject != 0.5]"
   ]
  },
  {
   "cell_type": "code",
   "execution_count": 69,
   "metadata": {
    "collapsed": false
   },
   "outputs": [],
   "source": [
    "# IdsToRemove = ['639691','961354','355318']\n",
    "# criterion = lambda row: row['Id_x'] not in IdsToRemove\n",
    "# postdatadc2 = postdatadc[postdatadc.apply(criterion, axis=1)]\n",
    "# len(postdatadc2)"
   ]
  },
  {
   "cell_type": "code",
   "execution_count": 70,
   "metadata": {
    "collapsed": false
   },
   "outputs": [],
   "source": [
    "import random\n",
    "\n",
    "def some(x, n):\n",
    "    return x.ix[random.sample(x.index, n)]\n",
    "postdatadc3 = some(postdatadc2,sample_size)"
   ]
  },
  {
   "cell_type": "code",
   "execution_count": 71,
   "metadata": {
    "collapsed": true
   },
   "outputs": [],
   "source": [
    "unclassified = postdata[postdata.HighSchoolSubject == 0.5]\n",
    "def some(x, n):\n",
    "    return x.ix[random.sample(x.index, n)]\n",
    "unclassified2 = some(unclassified,sample_size)"
   ]
  },
  {
   "cell_type": "code",
   "execution_count": 72,
   "metadata": {
    "collapsed": true
   },
   "outputs": [],
   "source": [
    "finaldf = postdatadc3.append(unclassified2, ignore_index=False, verify_integrity=False)"
   ]
  },
  {
   "cell_type": "code",
   "execution_count": 73,
   "metadata": {
    "collapsed": false
   },
   "outputs": [],
   "source": [
    "finaldf.reset_index(inplace=True)"
   ]
  },
  {
   "cell_type": "code",
   "execution_count": 74,
   "metadata": {
    "collapsed": false,
    "scrolled": true
   },
   "outputs": [],
   "source": [
    "finaldf = finaldf.drop('index', 1)"
   ]
  },
  {
   "cell_type": "code",
   "execution_count": 75,
   "metadata": {
    "collapsed": false
   },
   "outputs": [
    {
     "data": {
      "text/plain": [
       "20000"
      ]
     },
     "execution_count": 75,
     "metadata": {},
     "output_type": "execute_result"
    }
   ],
   "source": [
    "len(finaldf)"
   ]
  },
  {
   "cell_type": "markdown",
   "metadata": {},
   "source": [
    "##Create Tf-idf matrix\n",
    "### Every question is a row, every column is a word"
   ]
  },
  {
   "cell_type": "code",
   "execution_count": 76,
   "metadata": {
    "collapsed": true
   },
   "outputs": [],
   "source": [
    "stopwords = nltk.corpus.stopwords.words('english')\n",
    "from nltk.stem.snowball import SnowballStemmer\n",
    "stemmer = SnowballStemmer(\"english\")"
   ]
  },
  {
   "cell_type": "code",
   "execution_count": 77,
   "metadata": {
    "collapsed": true
   },
   "outputs": [],
   "source": [
    "def tokenize_and_stem(text):\n",
    "    # first tokenize by sentence, then by word to ensure that punctuation is caught as its own token\n",
    "    tokens = [word for sent in nltk.sent_tokenize(text) for word in nltk.word_tokenize(sent)]\n",
    "    filtered_tokens = []\n",
    "    # filter out any tokens not containing letters (e.g., numeric tokens, raw punctuation)\n",
    "    for token in tokens:\n",
    "        regex = re.compile('[^a-zA-Z]')\n",
    "        cleaned = regex.sub('', token).rstrip()\n",
    "        if len(cleaned) > 1:\n",
    "            filtered_tokens.append(cleaned)\n",
    "#         if re.search('[a-zA-Z]', token):\n",
    "#             filtered_tokens.append(token)\n",
    "    stems = [stemmer.stem(t) for t in filtered_tokens]\n",
    "    return stems\n",
    "\n",
    "\n",
    "def tokenize_only(text):\n",
    "    # first tokenize by sentence, then by word to ensure that punctuation is caught as its own token\n",
    "    tokens = [word.lower() for sent in nltk.sent_tokenize(text) for word in nltk.word_tokenize(sent)]\n",
    "    filtered_tokens = []\n",
    "    # filter out any tokens not containing letters (e.g., numeric tokens, raw punctuation)\n",
    "    for token in tokens:\n",
    "        regex = re.compile('[^a-zA-Z]')\n",
    "        cleaned = regex.sub('', token).rstrip()\n",
    "        if len(cleaned) > 1:\n",
    "            filtered_tokens.append(cleaned)\n",
    "#         if re.search('[a-zA-Z]', token):\n",
    "#             filtered_tokens.append(token)\n",
    "    return filtered_tokens"
   ]
  },
  {
   "cell_type": "code",
   "execution_count": 78,
   "metadata": {
    "collapsed": false,
    "scrolled": true
   },
   "outputs": [
    {
     "name": "stdout",
     "output_type": "stream",
     "text": [
      "10000\n",
      "20000\n"
     ]
    }
   ],
   "source": [
    "totalvocab_stemmed = []\n",
    "totalvocab_tokenized = []\n",
    "skipped_indexes = []\n",
    "j = 0\n",
    "for i in finaldf.Body:\n",
    "    allwords_stemmed = tokenize_and_stem(i) #for each item in 'synopses', tokenize/stem\n",
    "    allwords_tokenized = tokenize_only(i)\n",
    "    \n",
    "    if len(allwords_stemmed) == len(allwords_tokenized):\n",
    "        totalvocab_tokenized.extend(allwords_tokenized)\n",
    "        totalvocab_stemmed.extend(allwords_stemmed)\n",
    "    else:\n",
    "#         print i\n",
    "#         print \"\\n\"\n",
    "        skipped_indexes.append(j)\n",
    "    j += 1    \n",
    "    if j % 10000 == 0:\n",
    "        print j\n",
    "#     if len(totalvocab_tokenized) != len(totalvocab_stemmed):\n",
    "#         print j, i, tokenize_only(i), tokenize_and_stem(i)\n",
    "#         break"
   ]
  },
  {
   "cell_type": "code",
   "execution_count": 79,
   "metadata": {
    "collapsed": false
   },
   "outputs": [
    {
     "name": "stdout",
     "output_type": "stream",
     "text": [
      "there are 1805596 items in vocab_frame\n"
     ]
    }
   ],
   "source": [
    "vocab_frame = pd.DataFrame({'words': totalvocab_tokenized}, index = totalvocab_stemmed)\n",
    "print 'there are ' + str(vocab_frame.shape[0]) + ' items in vocab_frame'"
   ]
  },
  {
   "cell_type": "code",
   "execution_count": 80,
   "metadata": {
    "collapsed": false
   },
   "outputs": [
    {
     "name": "stdout",
     "output_type": "stream",
     "text": [
      "[]\n"
     ]
    }
   ],
   "source": [
    "print skipped_indexes"
   ]
  },
  {
   "cell_type": "code",
   "execution_count": 81,
   "metadata": {
    "collapsed": false
   },
   "outputs": [],
   "source": [
    "postdatadc4 = finaldf.drop(finaldf.index[skipped_indexes])"
   ]
  },
  {
   "cell_type": "code",
   "execution_count": 82,
   "metadata": {
    "collapsed": false
   },
   "outputs": [
    {
     "name": "stdout",
     "output_type": "stream",
     "text": [
      "10000\n",
      "20000\n"
     ]
    }
   ],
   "source": [
    "print len(postdatadc3)\n",
    "print len(postdatadc4)"
   ]
  },
  {
   "cell_type": "code",
   "execution_count": 83,
   "metadata": {
    "collapsed": false,
    "scrolled": true
   },
   "outputs": [
    {
     "name": "stdout",
     "output_type": "stream",
     "text": [
      "CPU times: user 2min 3s, sys: 2.5 s, total: 2min 6s\n",
      "Wall time: 2min 6s\n",
      "(20000, 5607)\n"
     ]
    }
   ],
   "source": [
    "from sklearn.feature_extraction.text import TfidfVectorizer\n",
    "\n",
    "#define vectorizer parameters\n",
    "tfidf_vectorizer = TfidfVectorizer(max_df= 0.99,\n",
    "                                 min_df= 0.001, \n",
    "                                 stop_words='english',\n",
    "                                 use_idf=True, \n",
    "                                 tokenizer=tokenize_and_stem, \n",
    "                                 ngram_range=(1,3))\n",
    "\n",
    "%time tfidf_matrix = tfidf_vectorizer.fit_transform(postdatadc4.Body) #fit the vectorizer to body\n",
    "\n",
    "print(tfidf_matrix.shape)"
   ]
  },
  {
   "cell_type": "code",
   "execution_count": 84,
   "metadata": {
    "collapsed": true
   },
   "outputs": [],
   "source": [
    "tfidf_ml = tfidf_matrix[:sample_size]\n",
    "tfidf_uc = tfidf_matrix[sample_size:] "
   ]
  },
  {
   "cell_type": "code",
   "execution_count": 85,
   "metadata": {
    "collapsed": false,
    "scrolled": true
   },
   "outputs": [
    {
     "name": "stdout",
     "output_type": "stream",
     "text": [
      "(10000, 5607)\n",
      "(10000, 5607)\n"
     ]
    }
   ],
   "source": [
    "print tfidf_ml.shape\n",
    "print tfidf_uc.shape"
   ]
  },
  {
   "cell_type": "code",
   "execution_count": 86,
   "metadata": {
    "collapsed": false
   },
   "outputs": [],
   "source": [
    "terms = tfidf_vectorizer.get_feature_names()"
   ]
  },
  {
   "cell_type": "code",
   "execution_count": 87,
   "metadata": {
    "collapsed": false
   },
   "outputs": [],
   "source": [
    "from sklearn.metrics.pairwise import cosine_similarity\n",
    "dist = 1 - cosine_similarity(tfidf_matrix)"
   ]
  },
  {
   "cell_type": "markdown",
   "metadata": {},
   "source": [
    "##Implement binary classifier with TFIDF matrix as features"
   ]
  },
  {
   "cell_type": "code",
   "execution_count": 89,
   "metadata": {
    "collapsed": true
   },
   "outputs": [],
   "source": [
    "from sklearn.linear_model import LogisticRegression\n",
    "from sklearn.cross_validation import train_test_split\n",
    "from sklearn import linear_model, datasets, metrics\n",
    "from sklearn.cross_validation import cross_val_score\n",
    "from sklearn.learning_curve import learning_curve\n",
    "from sklearn.metrics import roc_auc_score\n",
    "from sklearn.metrics import accuracy_score, precision_score, recall_score, f1_score, auc, roc_curve"
   ]
  },
  {
   "cell_type": "code",
   "execution_count": 90,
   "metadata": {
    "collapsed": false
   },
   "outputs": [],
   "source": [
    "postdataml = pd.SparseDataFrame([ pd.SparseSeries(tfidf_ml[i].toarray().ravel()) \n",
    "                              for i in np.arange(tfidf_ml.shape[0]) ])"
   ]
  },
  {
   "cell_type": "code",
   "execution_count": 91,
   "metadata": {
    "collapsed": true
   },
   "outputs": [],
   "source": [
    "postdatauc = pd.SparseDataFrame([ pd.SparseSeries(tfidf_uc[i].toarray().ravel()) \n",
    "                              for i in np.arange(tfidf_uc.shape[0]) ])"
   ]
  },
  {
   "cell_type": "code",
   "execution_count": 92,
   "metadata": {
    "collapsed": true
   },
   "outputs": [],
   "source": [
    "import pickle\n",
    "with open('TFIDF_ML.pkl', 'w') as picklefile:\n",
    "    pickle.dump(postdataml, picklefile)\n",
    "with open('TFIDF_UC.pkl', 'w') as picklefile:\n",
    "    pickle.dump(postdatauc, picklefile)\n",
    "with open('postdatadc4.pkl', 'w') as picklefile:\n",
    "    pickle.dump(postdatadc3, picklefile)"
   ]
  },
  {
   "cell_type": "code",
   "execution_count": 93,
   "metadata": {
    "collapsed": false
   },
   "outputs": [],
   "source": [
    "# import pickle\n",
    "# with open(\"TFIDF_ML.pkl\", 'r') as picklefile: \n",
    "#     tfidf_ml = pickle.load(picklefile)\n",
    "# with open(\"TFIDF_UC.pkl\", 'r') as picklefile: \n",
    "#     tfidf_uc = pickle.load(picklefile)\n",
    "# with open(\"postdatadc4.pkl\", 'r') as picklefile: \n",
    "#     postdatadc4 = pickle.load(picklefile)"
   ]
  },
  {
   "cell_type": "code",
   "execution_count": 94,
   "metadata": {
    "collapsed": false
   },
   "outputs": [
    {
     "data": {
      "text/plain": [
       "20000"
      ]
     },
     "execution_count": 94,
     "metadata": {},
     "output_type": "execute_result"
    }
   ],
   "source": [
    "len(postdatadc4)"
   ]
  },
  {
   "cell_type": "code",
   "execution_count": 95,
   "metadata": {
    "collapsed": false
   },
   "outputs": [
    {
     "name": "stdout",
     "output_type": "stream",
     "text": [
      "10000\n",
      "10000\n"
     ]
    }
   ],
   "source": [
    "X = postdataml\n",
    "y = postdatadc4.HighSchoolSubject[0:sample_size]\n",
    "print len(X)\n",
    "print len(y)"
   ]
  },
  {
   "cell_type": "code",
   "execution_count": 96,
   "metadata": {
    "collapsed": false
   },
   "outputs": [],
   "source": [
    "X_train, X_test, y_train, y_test = train_test_split(X, y, test_size = 0.25, random_state = 42)"
   ]
  },
  {
   "cell_type": "code",
   "execution_count": 97,
   "metadata": {
    "collapsed": false
   },
   "outputs": [
    {
     "name": "stderr",
     "output_type": "stream",
     "text": [
      "/usr/local/lib/python2.7/site-packages/numpy/lib/utils.py:95: DeprecationWarning: `scipy.linalg.calc_lwork` is deprecated!\n",
      "\n",
      "calc_lwork was an internal module in Scipy and has been removed.\n",
      "\n",
      "Several functions in scipy.linalg.lapack have *_lwork variants\n",
      "that perform the lwork calculation (from Scipy >= 0.15.0), or\n",
      "allow passing in LWORK=-1 argument to perform the computation.\n",
      "\n",
      "\n",
      "  warnings.warn(depdoc, DeprecationWarning)\n"
     ]
    }
   ],
   "source": [
    "import matplotlib.pyplot as plt\n",
    "%matplotlib inline \n",
    "import seaborn as sns"
   ]
  },
  {
   "cell_type": "code",
   "execution_count": 98,
   "metadata": {
    "collapsed": false
   },
   "outputs": [
    {
     "name": "stdout",
     "output_type": "stream",
     "text": [
      "Area under the ROC curve : 0.909818\n"
     ]
    },
    {
     "data": {
      "image/png": "[encoded data removed]",
      "text/plain": [
       "<matplotlib.figure.Figure at 0x1a55d44d0>"
      ]
     },
     "metadata": {},
     "output_type": "display_data"
    }
   ],
   "source": [
    "# Run classifier\n",
    "model = LogisticRegression().fit(X_train, y_train)\n",
    "probas_ = model.predict_proba(X_test)[:,1]\n",
    "\n",
    "# Compute ROC curve and area the curve\n",
    "fpr, tpr, thresholds = roc_curve(y_test, probas_)\n",
    "roc_auc = auc(fpr, tpr)\n",
    "print \"Area under the ROC curve : %f\" % roc_auc\n",
    "\n",
    "# Plot ROC curve\n",
    "plt.clf()\n",
    "plt.plot(fpr, tpr, label='ROC curve (area = %0.2f)' % roc_auc)\n",
    "plt.plot([0, 1], [0, 1], 'k--')\n",
    "plt.xlim([0.0, 1.0])\n",
    "plt.ylim([0.0, 1.0])\n",
    "plt.xlabel('False Positive Rate')\n",
    "plt.ylabel('True Positive Rate')\n",
    "plt.title('Receiver operating characteristic')\n",
    "plt.legend(loc=\"lower right\")\n",
    "sns.set_palette(\"deep\", desat=.8)\n",
    "sns.set(font_scale=2.0)\n",
    "sns.set_context(rc={\"figure.figsize\": (30, 10)})   \n",
    "plt.show()"
   ]
  },
  {
   "cell_type": "markdown",
   "metadata": {},
   "source": [
    "##Plot learning curve and cross validate"
   ]
  },
  {
   "cell_type": "code",
   "execution_count": 99,
   "metadata": {
    "collapsed": false,
    "scrolled": true
   },
   "outputs": [
    {
     "name": "stdout",
     "output_type": "stream",
     "text": [
      "CrossValScore:  0.9124\n"
     ]
    }
   ],
   "source": [
    "log_score = cross_val_score(LogisticRegression(),X,y, cv=5).mean()\n",
    "print \"CrossValScore: \", log_score.round(4)"
   ]
  },
  {
   "cell_type": "code",
   "execution_count": 100,
   "metadata": {
    "collapsed": false
   },
   "outputs": [
    {
     "data": {
      "text/plain": [
       "['my_model.pkl']"
      ]
     },
     "execution_count": 100,
     "metadata": {},
     "output_type": "execute_result"
    }
   ],
   "source": [
    "from sklearn.externals import joblib\n",
    "joblib.dump(model, 'my_model.pkl', compress=9)"
   ]
  },
  {
   "cell_type": "code",
   "execution_count": 101,
   "metadata": {
    "collapsed": true
   },
   "outputs": [],
   "source": [
    "# from sklearn.externals import joblib\n",
    "# model = joblib.load('my_model.pkl') "
   ]
  },
  {
   "cell_type": "markdown",
   "metadata": {},
   "source": [
    "##Apply classification to untagged questions to get high-school/non-high school"
   ]
  },
  {
   "cell_type": "code",
   "execution_count": 102,
   "metadata": {
    "collapsed": false
   },
   "outputs": [],
   "source": [
    "results = model.predict(postdatauc)"
   ]
  },
  {
   "cell_type": "code",
   "execution_count": 103,
   "metadata": {
    "collapsed": false
   },
   "outputs": [],
   "source": [
    "postdatauc['HighSchoolSubject'] = results"
   ]
  },
  {
   "cell_type": "code",
   "execution_count": 104,
   "metadata": {
    "collapsed": false
   },
   "outputs": [],
   "source": [
    "postdataml['HighSchoolSubject'] = y"
   ]
  },
  {
   "cell_type": "code",
   "execution_count": 105,
   "metadata": {
    "collapsed": true
   },
   "outputs": [],
   "source": [
    "postdatadc4.fillna(value='',inplace=True)"
   ]
  },
  {
   "cell_type": "code",
   "execution_count": null,
   "metadata": {
    "collapsed": false
   },
   "outputs": [],
   "source": []
  },
  {
   "cell_type": "code",
   "execution_count": 106,
   "metadata": {
    "collapsed": false,
    "scrolled": true
   },
   "outputs": [],
   "source": [
    "postdatadc4['Id_x'] = postdatadc4['Id_x'].astype(float)\n",
    "postdatadc4['UpVotes'] = postdatadc4['UpVotes'].convert_objects(convert_numeric=True)"
   ]
  },
  {
   "cell_type": "code",
   "execution_count": 107,
   "metadata": {
    "collapsed": false
   },
   "outputs": [],
   "source": [
    "postdataml['Id_x'] = postdatadc4['Id_x'][0:sample_size]\n",
    "# postdataml['Title'] = postdatadc4['Title'][0:sample_size]\n",
    "# postdataml['Tags'] = postdatadc4['Tags'][0:sample_size]\n",
    "postdataml['BodyLength'] = postdatadc4['BodyLength'][0:sample_size]\n",
    "postdataml['ViewCount'] = postdatadc4['ViewCount'][0:sample_size]\n",
    "postdataml['UpVotes'] = postdatadc4['UpVotes'][0:sample_size]\n",
    "postdataml['CommentCount'] = postdatadc4['CommentCount'][0:sample_size]\n",
    "postdataml['FavoriteCount'] = postdatadc4['FavoriteCount'][0:sample_size]\n",
    "postdataml['LongevitySeconds'] = postdatadc4['LongevitySeconds'][0:sample_size]\n",
    "# postdataml['Location'] = postdatadc4['Location'][0:sample_size]\n",
    "# postdataml['Location2'] = postdatadc4['Location2'][0:sample_size]\n",
    "\n",
    "postdatauc['Id_x'] = postdatadc4['Id_x'][sample_size:0]\n",
    "# postdatauc['Title'] = postdatadc4['Title'][sample_size:0]\n",
    "# postdatauc['Tags'] = postdatadc4['Tags'][sample_size:0]\n",
    "postdatauc['BodyLength'] = postdatadc4['BodyLength'][sample_size:0]\n",
    "postdatauc['ViewCount'] = postdatadc4['ViewCount'][sample_size:0]\n",
    "postdatauc['UpVotes'] = postdatadc4['UpVotes'][sample_size:0]\n",
    "postdatauc['CommentCount'] = postdatadc4['CommentCount'][sample_size:0]\n",
    "postdatauc['FavoriteCount'] = postdatadc4['FavoriteCount'][sample_size:0]\n",
    "postdatauc['LongevitySeconds'] = postdatadc4['LongevitySeconds'][sample_size:0]\n",
    "# postdatauc['Location'] = postdatadc4['Location'][sample_size:0]\n",
    "# postdatauc['Location2'] = postdatadc4['Location2'][sample_size:0]"
   ]
  },
  {
   "cell_type": "markdown",
   "metadata": {},
   "source": [
    "##Mini batch K-means clustering algorithm to get topics"
   ]
  },
  {
   "cell_type": "code",
   "execution_count": 108,
   "metadata": {
    "collapsed": true
   },
   "outputs": [],
   "source": [
    "## Document Clustering\n",
    "# k-means have to specify clusters\n",
    "# look at inertia curve for a natural kink \n",
    "# with mini-batch k-means it is much faster (for full dataset)\n",
    "\n",
    "# hierarchical - don't have to specify\n",
    "\n",
    "# run mini batch k-means with a bunch of different k's\n",
    "# look at inertia curve for a kink, with different k's, what is the squared distance between centroid and top'\n",
    "# use cosine distance\n",
    "# run aglomerative hierarchical clustering so don't need to know how many clusters\n",
    "# tweak as much as time allows"
   ]
  },
  {
   "cell_type": "code",
   "execution_count": 109,
   "metadata": {
    "collapsed": false
   },
   "outputs": [
    {
     "name": "stdout",
     "output_type": "stream",
     "text": [
      "20000\n"
     ]
    }
   ],
   "source": [
    "print len(postdatadc4)"
   ]
  },
  {
   "cell_type": "code",
   "execution_count": 110,
   "metadata": {
    "collapsed": false
   },
   "outputs": [
    {
     "name": "stdout",
     "output_type": "stream",
     "text": [
      "1013\n",
      "341\n"
     ]
    }
   ],
   "source": [
    "# Within tfidf_ml pull out only rows with HighSchoolSubject == 1\n",
    "tfidf_ml_hs = postdataml[postdataml.HighSchoolSubject == 1]\n",
    "tfidf_uc_hs = postdatauc[postdatauc.HighSchoolSubject == 1]\n",
    "print len(tfidf_ml_hs)\n",
    "print len(tfidf_uc_hs)"
   ]
  },
  {
   "cell_type": "code",
   "execution_count": 111,
   "metadata": {
    "collapsed": true
   },
   "outputs": [],
   "source": [
    "tfidf_final_hs = tfidf_ml_hs.append(tfidf_uc_hs)"
   ]
  },
  {
   "cell_type": "code",
   "execution_count": 114,
   "metadata": {
    "collapsed": false,
    "scrolled": true
   },
   "outputs": [
    {
     "data": {
      "text/plain": [
       "Index([5605, 5606, u'HighSchoolSubject', u'Id_x', u'BodyLength', u'ViewCount', u'UpVotes', u'CommentCount', u'FavoriteCount', u'LongevitySeconds'], dtype='object')"
      ]
     },
     "execution_count": 114,
     "metadata": {},
     "output_type": "execute_result"
    }
   ],
   "source": [
    "tfidf_final_hs.columns[-10:]"
   ]
  },
  {
   "cell_type": "code",
   "execution_count": 115,
   "metadata": {
    "collapsed": false
   },
   "outputs": [
    {
     "data": {
      "text/plain": [
       "Index([u'HighSchoolSubject', u'Id_x', u'BodyLength', u'ViewCount', u'UpVotes', u'CommentCount', u'FavoriteCount', u'LongevitySeconds'], dtype='object')"
      ]
     },
     "execution_count": 115,
     "metadata": {},
     "output_type": "execute_result"
    }
   ],
   "source": [
    "tfidf_final_hs_clustering = tfidf_final_hs.ix[:,0:-8]\n",
    "tfidf_final_hs_data = tfidf_final_hs.ix[:,-8:]\n",
    "tfidf_final_hs_data.columns"
   ]
  },
  {
   "cell_type": "code",
   "execution_count": 116,
   "metadata": {
    "collapsed": false
   },
   "outputs": [
    {
     "name": "stdout",
     "output_type": "stream",
     "text": [
      "CPU times: user 862 ms, sys: 177 ms, total: 1.04 s\n",
      "Wall time: 963 ms\n"
     ]
    }
   ],
   "source": [
    "from sklearn.cluster import MiniBatchKMeans\n",
    "\n",
    "num_clusters = 10\n",
    "\n",
    "km = MiniBatchKMeans(n_clusters=num_clusters, \n",
    "                     init='k-means++', \n",
    "                     max_iter=100, \n",
    "                     batch_size=100, \n",
    "                     verbose=0, \n",
    "                     compute_labels=True, \n",
    "                     random_state=None, \n",
    "                     tol=0.0, \n",
    "                     max_no_improvement=10, \n",
    "                     init_size=None, \n",
    "                     n_init=3, \n",
    "                     reassignment_ratio=0.01)\n",
    "\n",
    "%time km.fit(tfidf_final_hs_clustering)\n",
    "\n",
    "clusters = km.labels_.tolist()"
   ]
  },
  {
   "cell_type": "code",
   "execution_count": 117,
   "metadata": {
    "collapsed": false
   },
   "outputs": [
    {
     "data": {
      "text/plain": [
       "['doc_cluster.pkl',\n",
       " 'doc_cluster.pkl_01.npy',\n",
       " 'doc_cluster.pkl_02.npy',\n",
       " 'doc_cluster.pkl_03.npy']"
      ]
     },
     "execution_count": 117,
     "metadata": {},
     "output_type": "execute_result"
    }
   ],
   "source": [
    "from sklearn.externals import joblib\n",
    "\n",
    "#uncomment the below to save your model \n",
    "#since I've already run my model I am loading from the pickle\n",
    "\n",
    "joblib.dump(km,  'doc_cluster.pkl')\n",
    "\n",
    "# km = joblib.load('doc_cluster.pkl')\n",
    "# clusters = km.labels_.tolist()"
   ]
  },
  {
   "cell_type": "code",
   "execution_count": 118,
   "metadata": {
    "collapsed": true
   },
   "outputs": [],
   "source": [
    "tfidf_final_hs_data['clusters'] = clusters"
   ]
  },
  {
   "cell_type": "code",
   "execution_count": 119,
   "metadata": {
    "collapsed": false
   },
   "outputs": [
    {
     "data": {
      "text/plain": [
       "Index([u'HighSchoolSubject', u'Id_x', u'BodyLength', u'ViewCount', u'UpVotes', u'CommentCount', u'FavoriteCount', u'LongevitySeconds', u'clusters'], dtype='object')"
      ]
     },
     "execution_count": 119,
     "metadata": {},
     "output_type": "execute_result"
    }
   ],
   "source": [
    "tfidf_final_hs_data.columns"
   ]
  },
  {
   "cell_type": "code",
   "execution_count": 120,
   "metadata": {
    "collapsed": false
   },
   "outputs": [],
   "source": [
    "tfidf_final_hs_data = tfidf_final_hs_data.to_dense()"
   ]
  },
  {
   "cell_type": "code",
   "execution_count": 121,
   "metadata": {
    "collapsed": false
   },
   "outputs": [
    {
     "data": {
      "text/html": [
       "<div style=\"max-height:1000px;max-width:1500px;overflow:auto;\">\n",
       "<table border=\"1\" class=\"dataframe\">\n",
       "  <thead>\n",
       "    <tr style=\"text-align: right;\">\n",
       "      <th></th>\n",
       "      <th>BodyLength</th>\n",
       "      <th>CommentCount</th>\n",
       "      <th>FavoriteCount</th>\n",
       "      <th>HighSchoolSubject</th>\n",
       "      <th>Id_x</th>\n",
       "      <th>LongevitySeconds</th>\n",
       "      <th>UpVotes</th>\n",
       "      <th>ViewCount</th>\n",
       "      <th>clusters</th>\n",
       "    </tr>\n",
       "  </thead>\n",
       "  <tbody>\n",
       "    <tr>\n",
       "      <th>4</th>\n",
       "      <td>327</td>\n",
       "      <td>1</td>\n",
       "      <td>0</td>\n",
       "      <td>1</td>\n",
       "      <td>745185</td>\n",
       "      <td>1357.863</td>\n",
       "      <td>0</td>\n",
       "      <td>63</td>\n",
       "      <td>0</td>\n",
       "    </tr>\n",
       "    <tr>\n",
       "      <th>11</th>\n",
       "      <td>838</td>\n",
       "      <td>1</td>\n",
       "      <td>0</td>\n",
       "      <td>1</td>\n",
       "      <td>360957</td>\n",
       "      <td>29236940.587</td>\n",
       "      <td>853</td>\n",
       "      <td>1814</td>\n",
       "      <td>0</td>\n",
       "    </tr>\n",
       "    <tr>\n",
       "      <th>27</th>\n",
       "      <td>183</td>\n",
       "      <td>1</td>\n",
       "      <td>0</td>\n",
       "      <td>1</td>\n",
       "      <td>684516</td>\n",
       "      <td>528.290</td>\n",
       "      <td>37</td>\n",
       "      <td>88</td>\n",
       "      <td>7</td>\n",
       "    </tr>\n",
       "    <tr>\n",
       "      <th>43</th>\n",
       "      <td>499</td>\n",
       "      <td>0</td>\n",
       "      <td>0</td>\n",
       "      <td>1</td>\n",
       "      <td>219174</td>\n",
       "      <td>794.536</td>\n",
       "      <td>83</td>\n",
       "      <td>57</td>\n",
       "      <td>0</td>\n",
       "    </tr>\n",
       "    <tr>\n",
       "      <th>53</th>\n",
       "      <td>628</td>\n",
       "      <td>0</td>\n",
       "      <td>0</td>\n",
       "      <td>1</td>\n",
       "      <td>459113</td>\n",
       "      <td>1218.747</td>\n",
       "      <td>5608</td>\n",
       "      <td>658</td>\n",
       "      <td>0</td>\n",
       "    </tr>\n",
       "  </tbody>\n",
       "</table>\n",
       "</div>"
      ],
      "text/plain": [
       "    BodyLength  CommentCount  FavoriteCount  HighSchoolSubject    Id_x  \\\n",
       "4          327             1              0                  1  745185   \n",
       "11         838             1              0                  1  360957   \n",
       "27         183             1              0                  1  684516   \n",
       "43         499             0              0                  1  219174   \n",
       "53         628             0              0                  1  459113   \n",
       "\n",
       "    LongevitySeconds  UpVotes  ViewCount  clusters  \n",
       "4           1357.863        0         63         0  \n",
       "11      29236940.587      853       1814         0  \n",
       "27           528.290       37         88         7  \n",
       "43           794.536       83         57         0  \n",
       "53          1218.747     5608        658         0  "
      ]
     },
     "execution_count": 121,
     "metadata": {},
     "output_type": "execute_result"
    }
   ],
   "source": [
    "tfidf_final_hs_data.head()"
   ]
  },
  {
   "cell_type": "code",
   "execution_count": 122,
   "metadata": {
    "collapsed": false
   },
   "outputs": [
    {
     "data": {
      "text/plain": [
       "[0.0, 7.0, 4.0, 3.0, 2.0, 9.0, 8.0, 1.0, 5.0, 6.0]"
      ]
     },
     "execution_count": 122,
     "metadata": {},
     "output_type": "execute_result"
    }
   ],
   "source": [
    "counter = []\n",
    "for i in tfidf_final_hs_data.clusters:\n",
    "    if i not in counter:\n",
    "        counter.append(i)\n",
    "counter"
   ]
  },
  {
   "cell_type": "code",
   "execution_count": 123,
   "metadata": {
    "collapsed": false
   },
   "outputs": [],
   "source": [
    "Titletagsml = postdatadc4[['Id_x','Title','Tags','Body','HighSchoolSubject']][0:sample_size]\n",
    "Titletagsuc = postdatadc4[['Id_x','Title','Tags','Body','HighSchoolSubject']][sample_size:]\n",
    "Titletagsuc['HighSchoolSubject'] = results"
   ]
  },
  {
   "cell_type": "code",
   "execution_count": 124,
   "metadata": {
    "collapsed": false
   },
   "outputs": [],
   "source": [
    "Titletagsml = Titletagsml[Titletagsml.HighSchoolSubject == 1]\n",
    "Titletagsuc = Titletagsuc[Titletagsuc.HighSchoolSubject == 1]"
   ]
  },
  {
   "cell_type": "code",
   "execution_count": 127,
   "metadata": {
    "collapsed": false
   },
   "outputs": [
    {
     "name": "stdout",
     "output_type": "stream",
     "text": [
      "1013\n",
      "341\n"
     ]
    }
   ],
   "source": [
    "print len(Titletagsml)\n",
    "print len(Titletagsuc)"
   ]
  },
  {
   "cell_type": "code",
   "execution_count": 128,
   "metadata": {
    "collapsed": false
   },
   "outputs": [],
   "source": [
    "Titletags = Titletagsml.append(Titletagsuc)"
   ]
  },
  {
   "cell_type": "code",
   "execution_count": 129,
   "metadata": {
    "collapsed": true
   },
   "outputs": [],
   "source": [
    "df_final = tfidf_final_hs_data.merge(Titletags, how='left', on='Id_x')"
   ]
  },
  {
   "cell_type": "code",
   "execution_count": 130,
   "metadata": {
    "collapsed": true
   },
   "outputs": [],
   "source": [
    "df_final.index = clusters"
   ]
  },
  {
   "cell_type": "code",
   "execution_count": 131,
   "metadata": {
    "collapsed": false
   },
   "outputs": [
    {
     "data": {
      "text/plain": [
       "0    483\n",
       "6    170\n",
       "7    127\n",
       "9    120\n",
       "2     96\n",
       "8     92\n",
       "3     88\n",
       "1     83\n",
       "4     57\n",
       "5     38\n",
       "dtype: int64"
      ]
     },
     "execution_count": 131,
     "metadata": {},
     "output_type": "execute_result"
    }
   ],
   "source": [
    "df_final.clusters.value_counts()"
   ]
  },
  {
   "cell_type": "code",
   "execution_count": 132,
   "metadata": {
    "collapsed": false
   },
   "outputs": [
    {
     "data": {
      "text/plain": [
       "clusters\n",
       "0    204.603486\n",
       "1     82.545455\n",
       "2    162.657895\n",
       "3    259.672414\n",
       "4    172.500000\n",
       "5     69.612903\n",
       "6    198.024390\n",
       "7    211.569231\n",
       "8    245.857143\n",
       "9    167.339623\n",
       "Name: UpVotes, dtype: float64"
      ]
     },
     "execution_count": 132,
     "metadata": {},
     "output_type": "execute_result"
    }
   ],
   "source": [
    "grouped = df_final['UpVotes'].groupby(df_final['clusters']) #groupby cluster for aggregation purposes\n",
    "grouped.mean() #average rank (1 to 100) per cluster"
   ]
  },
  {
   "cell_type": "code",
   "execution_count": 134,
   "metadata": {
    "collapsed": false
   },
   "outputs": [
    {
     "name": "stdout",
     "output_type": "stream",
     "text": [
      "()\n"
     ]
    }
   ],
   "source": [
    "# import os  # for os.path.basename\n",
    "\n",
    "# import matplotlib.pyplot as plt\n",
    "# import matplotlib as mpl\n",
    "\n",
    "# from sklearn.manifold import MDS\n",
    "\n",
    "# MDS()\n",
    "\n",
    "# # convert two components as we're plotting points in a two-dimensional plane\n",
    "# # \"precomputed\" because we provide a distance matrix\n",
    "# # we will also specify `random_state` so the plot is reproducible.\n",
    "# mds = MDS(n_components=2, dissimilarity=\"precomputed\", random_state=1)\n",
    "\n",
    "# pos = mds.fit_transform(dist)  # shape (n_components, n_samples)\n",
    "\n",
    "xs, ys = dist[:, 0], dist[:, 1]\n",
    "print()"
   ]
  },
  {
   "cell_type": "code",
   "execution_count": 135,
   "metadata": {
    "collapsed": false
   },
   "outputs": [
    {
     "name": "stdout",
     "output_type": "stream",
     "text": [
      "Top terms per cluster:\n",
      "\n",
      "Cluster 0 words: nt, functions, know, value, derivative, question,\n",
      "\n",
      "Cluster 0 titles: Reason for the diferentiability of function on open interval in Rolle's Theorem, Find the coordinates of any stationary points on the curve $y = {1 \\over {1 + {x^2}}}$ and state it's nature, Existence of a certain interval, Understanding the role of sales tax in problems involving prices, Why do the denominators of two fractions with numerators $1$ add up to a third fraction that have the special things below?, Solutions of $n$th derivative of $(x-a)^n(x-b)^n=0$, how to factorize $x^4+2x^3+3x^2+2x+1$, How to measure spatial concentration of points of interest over a specified geographic zone?, Energy Radiating Off of a Cube Split Into Two Pieces, How do I prove $\\csc^4 x-\\cot^4x=(1+\\cos^2x)/\\sin^2x$, Average Velocity, If 8 divides $a^2$ + $3b^2$, prove that both a and b are even., With 2 lists of numbers is it possible to get the actual ratio of the sum of both lists with only the ratio of each individual group?, Finding the exact value of $\\tan(\\pi/5)$, Geometry vector, mathematics doubt help, Is $\\psi (n)=G(1-n)-\\beta \\frac{G'(1-n)F(n)}{F'(n)}$ monotonically decreasing?, Third and higher derivatives of n-dimensional funtctions, Calculating the selling price of a house, given the mortgage, commission, and closing costs, Evaluating a function, Mixed repeating decimals, Solving $1/n^{\\lg (n)}$, how to find the volume of this solid of revolution?, Integer roots of $(6x^2+15xy)^{1/2}+y^2=10$ and $x+y=3$, Subtracting two points, the math., Maximizing the area of the rectangular part of a running track only, The negation of a limit condition, Spivak style., What is the solution of cos(x)=x?, Unconventional way to solve trig question, Bowling balls colliding in space., Speed of a runner, How to solve geometric question like this?, plane throw two points and paralell to another plane, How I can use the mean value theorem in this problem?, Finding the Area of a Stack of Books...using only their distance from your eyes., A simple arithmetic problem, Is there any integration of a defined function that could not be express as a convergent infinite series?, Prove that $\\arcsin (x)$ differentiates to $\\frac{1}{ \\sqrt {1-x^2}}$, How find this integral $I=\\int_{-\\infty}^{+\\infty}\\frac{x^3\\sin{x}}{x^4+x^2+1}dx$, Determine all paths of particle #2, Convergence/Divergence of $\\sum_{n=1}^{\\infty} \\sin(1/n)$, Basic Algebra Factoring Problem w/ Parameters?, Consider the function $f(x)= 0$ if $x≤0$ and $f(x)=e^{-1/x^2}$ if $x>0$. Prove that $f$ is infinitely differentiable on $\\mathbb{R}$, Circumcircles of a trapezoid, Stereographic projection of cube and tetrahedron, Is $|x^r|=|x|^r$ for real numbers $x$ and $r$?, Integration Problem with a Trig substitution, $f''$ bounded implies $f'$ is bounded, Find the distance between a surface and a plane, Find a polynomial of degree $4$ with the coefficient $x^2$ equal to $6$, and zeros $-3$, $ 2$, $ -1$, $-2$, Jacobian of the inverse of two functions, LCM doubt in algebraic equations, Linear Motion and derivatives, Why is dividing by zero = undefine., Local minimal about x=0, Longest cylinder of specified radius in a given cuboid, Differentiating once gives you the gradient function. What do you get when you differentiate twice?, Logarithms involving decimals, Find the resulting speed and direction, How far apart do they live from each other?, Volume of rotated region, can't finish task.., De l'Hospital theorem Wazewski's proof, Find the angle between hour hand and minute hand at 1:59?, Integrating an Exponent in the Denominator, Graph $\\ell(x) = 3x +2$. What would $\\ell(x+1) - \\ell(x)$ be for all $x$?, Why do non-real solutions of a polynom occur pairwise complex-conjugated?, Rules for rounding (positive and negative numbers), Graphing with calculus, find x+y if $ (x+\\sqrt{x^2+1})(y+\\sqrt{y^2+1})=42 $?, Putting limits on an ODE solution, How to factorize $x^3-3x-2$ with a technique similar to the cross factoring method, What is the formula for the period of any trignometric function?, Please Explain: $-\\sqrt{x}(3x^2)$, What subject does this fall under (differential curves maybe?), Spivak's Calculus exercise, possible error in text. Chapter 10, problem 24(a)., Engineering Mathematics, Finding inverse function with derivative, Finding the fraction $\\frac{a^5+b^5+c^5+d^5}{a^6+b^6+c^6+d^6}$ when knowing the sums $a+b+c+d$ to $a^4+b^4+c^4+d^4$, Geometrically find the center of a pentagon or hexagon, The Sum of ${11^{th}}$ power of the roots of the equation ${x^5+5x+1=0}$, Can this problem be solved using induction, How to prove that $(\\sec x-\\cos x)(\\csc x -\\sin x)=\\tan x/(1+\\tan^2x)$?, Cauchy Principal Value Example, Find compositions and images - please?, Locus of a point?, any help with how to do equations like this or what I can read is greatly appreciated, Minimum number sticks requirement, If $10^{20} +20^{10}$ is divided by 4 then what would be its remainder?, Trying to explain what \"consistent\" means to a middle schooler, Given three points on a plane and two points on a line that intersects the plane. I need the angle between the plane and the line., Find the value of the sum, Question on Polynomial function, Generiloze: the difference of two squares is equal to a odd number., Calculating annual occurrence of an event that happens less than once per year, Sketch logaritmic spiral, Surface Area Problem, Equivalency of percentage formulas, Function with equal limits that is defined but not continous, How do I factor $z^4+2z^3+4z^2+2z+3$?, Which type of equation produce this kind of multiple decay function?, Find the volume of the solid if the cross-sections perpendicular to the x-axis are equilateral triangles., How to integrate $\\int\\frac{1}{\\sqrt{1+x^3}}\\mathrm dx$?, Finding the equation of displacement, Finding the solution to a trig equation, How to show that $1$ is the $\\sup$ of this set?, why is the derivative of a number 0 while the derivative of $x$ is 1?, Understanding Bernoulli's Inequality, Showing that the roots of an equation are real and distinct., How to simplify an expression like this: $(x^2+x^{-2}-2)^{1/2}$, Distance and time of two boats?, Basic math ahead , Hyper 5 lower arithmetic operation., Converting repeating decimal to fraction, If $r\\in(0,1)$ is rational and $m$ is a positive integer, then $[rm]+[(1-r)m]=m-1$ where $[\\cdot]$ denotes the integral part, Here is an arithmetic sequece find the 20 th term, How to integrate $\\int _{ 0 }^{ 1 }{ { e }^{ { x }^{ 2 } } } dx$?, Ice in a refrigerator (packing cubes in a box) .. Check, Very confused? Derivative or chain rule?, simplify the expression $\\arctan\\frac{x\\sin t}{1-x\\cos t}$, Reflections and Rotations, Question on Quadric Surfaces, Rate of change vs. average rate of change of a function, Arithmetic sequence explicit formula., Calculating points in an arc, Why is $\\tan((1/2)\\pi)$ undefined?, B-Spline Derivatives, Clifford multiplication in $V  \\oplus V^*$, Fractional exponents - adding the exponent?, Vertices of an equilateral triangle, Find intersection of two ranges on line, Algebra question help here please?, Integer $a$ , If $x ^ 2 + (a-6) x + a = 0 (a ≠ 0)$ has two integer roots, How is this possible? Can someone explain?, prove that $f:\\mathbb R^2 \\to \\mathbb R^2$ that has continuous partial derivative, then $f(A)$ is open for any open set $A \\subset \\mathbb R^2$, $A = Pe^{rt}$? How do I properly calculate this?, Determine limit of |a+b|, A problem with an inscribed oval, Solving simultaneous equations $2x = 1 - 3y$ and $3y^2 - x^2 = 2$, Rate of Change of a Draining Water Tank, complex number geometry -1, The exact value of csc -420 degrees (Find the exact value of each trigonometric funtion), What is 'zero of multiplicity'?, I'm puzzled with 0.99999, If $a + 1/b = b + 1/c = c + 1/a$, how to find the value of $abc$?, Assignment: Find $a$ and $b$ such that a piecewise function is continuous, calculus new methods functional equationI, Identify the formula for the following graph, Partial derivatives a function, General solution of $ \\frac{d^j}{d\\sigma^j}(\\exp(0.5(\\alpha-\\sigma)^2) $, find missing value that was multiplied by, Graph of the Dirichlet Function, Importance if Rolle's and Lagrange's theorem in daily life: for school children, Calculus II, Curve length question., Derivative of a function with quotient rule: $\\frac {3x^{3}} {2(x^{2}-4)}.$, Find the size of two radius at once, Why are randomly drawn vectors nearly perpendicular in high dimensions, Tax Computation Question, Deriving Simple Interest from given compound interest of 3 years., How to find $\\arccos(\\cos15\\pi/11)$?, Given $y_1,y_2,\\ldots,y_N \\in \\mathbb{R}$, Prove: $f(x)= \\sum \\limits_{i=1}^{N}|x-y_i|^2$ gets a minimum, and find it., Choose constants a and b so that the function is differentiable for all x?, Finding the critical points of $\\sin(x)/x$ and $\\cosh(x^2)$, Solving word problems involving triangles/bearings, Vector valued function: What part of the train is always moving backward?, Algebra 2-Factoring sum of cubes by grouping, how to differentiate an indicator function?, If $f'(x)=g(x)$ and $g'(x)= -f(x)$ for all $x$ and $f(2)=4=f'(2)$. Find value of $f^2(4) +g^2(4)$, Simplifying a simple fraction with exponent, Finding a relative minimum. (I don't understand how its possible for the answer sheet to be correct), Equation of a 3D spiral, Suggest quicker method for finding rate percent per annum, Question involving De Moivre's Theorem, Confused about notation of $\\sin^2 \\theta$, Math question related to Train, Is a dollar gain truly equal to a dollar lost?, What is the value of the expression $2x^2 + 3xy – 4y^2$ when $x = 2$ and $y = - 4$?, calculate anticipated drilling depth to target bed, which quantity is greater in bars?, Horizontal, Vertical, & Oblique Asymptote?, Find the values of the positive constants $k$ and $c$ such that $-37\\le k(3\\sin\\theta + 4\\cos\\theta) +c\\le 43$ for all values of $\\theta$, Approach GCF and LCM problems, Find $a$ such that $x^3 +3x^2-9x+a = 0$ has only one real root, Why is ${x^{\\frac{1}{2}}}$ the same as $\\sqrt x $?, For what value is the local minimum the largest?, Maximum value of a given function., Interesting percentage calculation shortcut formulae, Combining With Squares and Exponents, Area of a region between two curves definition, how was this angle found?, Need Sine form of Cotangent equation, How should one prove: $\\lim_{x\\to a}~ x^2 = a^2$? [Sketch of proof inside], Rectangle with largest area under y=x^2, that lies under y=a, Composition of Reflections is a Rotation, Determine values of the constants a & b so the limit exists and is equal to f(2) in a piece-wise function, How can I prove that a set of natural numbers always have a minimum?, Evaluting triple integerals, $\\frac{2x + 10}{2} - x = 5$: How do I show that all kinds numbers satisfy this equation?, why cosine rule proof is the same for obtuse and acute, Angle between 2 points, Show the origin is the only critical point of $f$, Minimizing cost materials for a cylindrical can which must hold 100 cubic inches (Max-Min pre-calc), A highschool factoring problem, Length of Lace Algorithm, How to simplifythe expression (to closed form), Calculate width and height of a rectangle, given its diagonal and ratio, Sum of all numbers x such that $(3x^2+9x-2012)^{(x^3-2012x^2-10x+1)} = 1$?, Stereographic projections, Find the Domain and Sketch the Graph of the Function $h(x)= \\frac{3x+|x|}{x}$, Integral $\\int \\ (2x+6)^5+\\frac{10}{(3x-1)^2} \\text{d}x$, Quick question: I need help with first inequality in a proof of Borsuk's problem, Possible to imitate a sphere with 1000 congruent polygons?, Find $\\sec \\theta + \\tan \\theta$., Find the exact value of $\\sin\\left(\\arcsin(0.5)+\\arctan(-4)\\right)$, Stationary and Extreme points, Number of copper atoms in $1\\mbox{cm}^3$ of copper, Calculating the meeting point of these two runners, Characterizing $r^*(g):∫_0^1(x-\\frac{1}{g})x^{\\frac{1}{gr-1}}\\frac{\\ln x}{(1+xgr)²}dx=0.$, Path Integral over cross product, Solving Linear Equation in One Unknown, denseness of rational numbers in $Q$, Exponential algebra problem, Basic algebraic equation question, Three equal cevians, Closed-form of $\\tan(\\frac{\\pi }{9})$., Find the value of A, B and C in the identities., Approximation of sum of products of exponentials, Limit of $\\lim_{x \\to 0} x^y$?, Basic Calculus (Integration), Show that exists $x \\in [a,b]$ such that $\\int_a^x f(t)dt = \\int_x^b f(t)dt$, Calculating half-life?, Evaluate $\\cos 180^\\circ$, Radius at a height of a cylinder whose radius of the base and top may be different., How to round off timestamp in milliseconds to nearest seconds?, How to do long division of 5555 / 55, Prove that there exists a c such that $f(c)^2 = c$, when $f(x)$ is continuous., Showing that $\\max\\{f+g\\} \\leq \\max f + \\max g$, $(\\sin\\theta+\\cos\\theta)^2=1+\\sin2\\theta$  , Sketching $y=\\sqrt{x^2+1}-x$, Find the equation of a parabola which passes through the points $(5,10),(−5,0),(9,−6)$?, Can a Polyhedron have infinite vertex or edge set ? - and what is the exact definition of a solid., How can I prove $\\arctan x < x$ for $x > 0$, Bicycle Question, Evaluation of a series, Using the definition of derivatives., Identifying inflection points and critical points, Triples of positive real numbers $(a,b,c)$ such that $\\lfloor a\\rfloor bc=3,\\; a\\lfloor b\\rfloor c=4,\\;ab\\lfloor c\\rfloor=5$, Find L for $r = \\cos 3 \\theta$., Proving $(1-x)\\cos x=\\sin x$ has a solution in the section $(0,1)$, Cost of a can (check my answer please), Trigonometry - Bearings, A couple of problems on set theoretic manipulations and / or percentages, Find the derivative using the definition derivatives: $f(x) = xH(x)$ where $H(x) = 0$ when $x < 0$ & $ H(x) = x$ when $x\\ge 0$, Pre calculus problem, Work done pulling a leaky bucket, How do you solve these types of related rates questions?, How can I find the coordinates of a point given a function, graph, and Tangent line point?, Partial Derivatives: $f(x,y) = x^5y^4+\\sin\\left({x\\over{y}}\\right)$, Is this basic proof complete?, How fast is the object’s shadow moving on the ground one second later?, Integration separation of variable, Taking the derivative of $x^{\\sin(e^x)}$, Finding one sided derivative, calculus quesiton about area of the region, General strategy to solve systems of 4 variables after using lagrange method?, Find maximum of a function 4, Geometric Progression related question., Can I draw a net for a Steinmetz solid with a compass?, Exponents with the same power, Differentiate the function: $y = \\tan\\theta(\\sin\\theta + \\cos\\theta)$, Volume of a solid of revolution given two functions of $x$ and a horizontal axis, with shells?, Related Rates Equation, Implicit differentiation of $(x^2 + y^2)^2 = (x-y)^2$, Algebraic maninpulation of formula to isolate a variable, Simplifying $3^2 + (-8\\div2)$, Difficulty understanding addition of exponents, Compound interest formula with regular deposits, solve for time, Check point is between two points, A question on the property of continuous functions, Question about a scetch in the book and vector length?, Laplace Transformation, Re-arranging an equation help, Finding the absolute max and min of a function bounded by a domain D., Find points on curve $y = (x^2 - 1)^3 / (x^2 + 1)^3$ when slope of tangent line is zero?, Geometric Trigonometry, Finding unknowns in terms of polynomials, Determining local maximum or minimum - derivative worded problem, Find radius of convergence, and then test the endpoints to determine the interval of convergence., Determine $X-Y$ offset for rotated element given the $Y$-offset without rotation, What is the derivative of $\\cos^4(x)$?, Area under the curve?, How does Schwarz's paradox of surface area effect modelling of 3D objects?, Work-Time Problem, Fitting random sized rectangles into larger rectangle, Calculating the number of chords in a polygon, Arc Length: Difficulty With The Integral, Differentiate $g(t)= {e^t - e^{-t} \\over e^t + e^{-t}}$, Fractional Derivative of Nonlinear Function, What's the nth integral of $\\frac1{x}$?, Constructing a torus with regular tetrahedral of same size, Transform a plane to the xy plane., What is the right solution for derivative of implicit function?, How to find the derivative of the function $y=5^{-1/x}$?, Constructing $\\exp$ on $\\mathbb R$, Trapezoid and inscribed square, How can I find maximum and and minimum values of $ f(x,y)=xye^{-(x+y)}$?, Mathematical Induction for: $ \\binom{-1/2}{n-1} + \\sum_{k=1}^{n-1} a_{n-k} \\binom{-1/2}{k-1}=0 $, Linear approximation question of $xy-5y^2$, What does increase globally by percentage mean?, Trigonometry: Law of Sines, Differentiation under integral sign for exponential, Does $\\ln|x+2|=\\ln|2x+4|$ and if so why so?, Does monotonicity and derivability of a function $f\\colon \\mathbb{R}\\to\\mathbb{R}$ imply bijectiveness?, Finding out the total math played, How do I explain why multiplying $0.8 \\times 0.8$ is less than $0.8$?, Coordinate Geometry, Percentage question, Question about the coefficents of a line., Find a solution for f(x)=g(x) having 2 given values., Factoring $r^8-1$, Conversion from the linear-combination to the sinusoidal form of a sinusoidal function (simple problem, but I'm missing something.), Find $f(x)$ such that $f'(x)<0$ for all $x$. $f''(x)(|x|-1)>0$ and $\\lim\\limits_{x \\to \\pm\\infty}f(x)=-x$, Meaning of linear, Why is one minute of angle very close to 1\" at 100 yards?, Any book on mathematical demonstration, Product rule intuition, Strange kind of Integration (analytical), Find the Average Velocity and the Instantaneous Velocity, Would this infinite product converge?, triple integration in the positive ocatant, Calculus formula help for velocity, center of mass of constant density solids, Can't isolate $x$ for this equation, Given a convex quadrilateral(ABCD) decide if D is inside the circumcircle of triangle ABC, Determining whether points are collinear, Semicircle Hanging Out of a Rectangle, Calculate reproduction rate, How to simplify this easy expression, Plane separation axiom, Integrating $\\frac{df}{f}$, Range of a sum of sine waves, Generalized angle sum identity for $\\arctan$?, Why are only singly and doubly ruled non-planar surfaces found? Why not triply ruled?, Why do we need an open interval to define local maxima?, The river shore problem, Logical problem about a guy's and 2 girls' motion on a line., How prove that $|AB - CD| + |AD - BC| \\geq 2|AC - BD|$ in cyclic quadrilateral?, The sum of the roots, Intermediate Value Theorem for Rationals, Integration Techniques - Adding [arbitrary] values to the numerator., Area of the portion of the sphere, Floor function properties., Matrix Multiplication, Let f be a differentiable function defined on real numbers such that $f(0)= -3$ if $f'(x)≤ 5$ for all $x$ then $f(2)$ will be equal to?, Integration... by parts? (For question on convolution theorem), How can I show that the relation is not true for each natural number?, Show that $f''(x)+g(x)f'(x)-f(x)=0$ has at least one root, Derivative of an inverse, Solve y in terms of x: $ax + c\\sin(y) - bx^3\\cos(y) = 0$, Minimize distance between the ships, What is the smallest value of $x^2+y^2$ when $x+y=6$?, Identify all x-intercepts and all asymptotes of the graph $f(x) = 3\\tan(x)$, Is there a way to get trig functions without a calculator?, Sketching a function given certain properties, distance of two point (latitude and longitude) on earth to meters without using $\\cos,\\sin, \\mathrm{harversine}$ formula, etc., how to find center of ellipse when arc of ellipse given?, Earth and Sun - fast question, Proof using properties of real nos, Rolle's theorem and mean value theorem 2 questions, Calculating body volume? (3-variables), Tell me the ideal selling price to get back a specified number, How to calculate one side of an arbitrary square, I got a question about trig on the unit circle, Remaining volume of a sphere, How to solve $2^x+3^x=6^x$ for $x \\in R$, How many real roots are there to $2^x=x^2$?, If $f:\\mathbb{R}\\rightarrow \\mathbb{{R}}$ and $f(x)$ satisfying $f(2x+3)+f(2x+5) = 2$ . The period of $f(x)$, How to show where a funcion is differetiable?, Given a polygon, and the fix number of grid, find the grid size, Supposedly simple integral, How to calculate the curvature of a curve whose equation is not given., Geometry - Proof involving a triangle inside another triangle., Calculus: prove that the equation has at least 3 real roots., Remembering exact sine cosine and tangent values?, Use synthetic division to find the quotient and remainder when:, How do you determine the derivative of $\\pi$?, Finding cos(a-B) using tan a = 4/3 in quad III and cos B = 12/13 in quad IV, Please explain how this ratio is being calculated, Differentiating: quotient rule problem, Find an antiderivative of the function, Solving for volume using washer and cylindrical shell method, Cosine Rule Question, Cube roots answers, Is long division the most optimal \"effective procedure\" for doing division problems?, Please help me prove this inequality, Infinity when evaluating limits involving infinity. Is infinity zero, for all intents and purposes?, The ratio of the perimeter of rect P to the perimeter of rect Q is 2:5. The area of rectangle P is 12 sq ft. What is the area of rect Q?, Test review for calculus, related rates & critical numbers, Equations of tangent lines, How are these two terms approximately equal?, Evaluating $\\int \\sqrt{5 + 4x - x^2}dx$, When can I say that $f(x) \\gt g(x) \\implies f'(x) \\gt g'(x)$?, Find the values of the constants in the following identities $A(x^2-1)+B(x-1)+c = (3x-1)(x+1)$, Find outlet of $x^3y-x^2-9xy+2x+8=0$, Exact value of $\\tan 50^\\circ$, Prove that for all real numbers $x$ and $y$, if $x+y \\geq 100$, then $x \\geq 50$ or $y \\geq 50$., How to manually calculate Roots, How do I interpret this mathematical model?, Let $f'(0)=f''(0)=1$, $f^{(12)}(x)$ is differentiable and $g=f(x^{10})$ What's the value of $g^{(11)}(0)$?, What is the equation for finding a number that is X% less than another number?, Time and Work: pipe and cistern related problem, Derivative of composition, Absolute Maximum of the integral, difference between differential calculus and finite difference, Surface Area of the simple figure, How the arc length of sine wave is calculated?, How should I use the integral in this problem?, Evaluate $\\int\\frac{1}{1+(\\tan x)^\\sqrt2}\\ dx$, Finding the inflection point for a function, What is the distance travelled by the circle?, Calculate score for a quiz, Compound Interest -Confirming Answer-, Max/min for calculus, L'Hopital's Rule?, Relative minimum,Relative maximum or saddle point?, Finding all real solutions to the equation $3^x+4^x=5^x$, We are looking for a function $f(x)$ that satisfies the functional equation of both $f(1)=1$ and $f(x+1)=xf(x)$., Area between two functions, Prove that these two integrals are equal, Real variable lemma, How old did the man live to be?, quicker way of doing this in your head?, Basic Algebra questions, Are fractional exponents considered logarithms?, Square Root of $x^2$, Sigma notation for areas and distances under a curve, A question about Exponents, Is there a \"more correct\" way to differentiate $\\frac{f(x)}{g(x)}$?, Proving the sup of $\\{\\frac{n-m}{n+m}|n,m\\in \\mathbb{N}, m<n\\}$, Solving a System of Linear Equations, Factorizing Cubic equation into quadratic and linear equation?, hitting a pool ball at exactly 90 degrees, Find all four-digit numbers with both a square and a cube root, Does $\\to$ imply that the function is defined at the point?, Investigate the convergence of $\\int_0^\\infty (-1)^\\left[{x^2}\\right] \\, dx$, derivate of a piecewise function $f(x)$ at$ x=0$., Average Deviation with respect to, Solve this inequality: $\\sin x<1$, What does  $\\sin^{2k}\\theta+\\cos^{2k}\\theta=$?, Function Problem, To prove that the following equation has no solution, Finding out the local minima from derivative of smooth data or smooth derivative of data?, Smallest values of y for values of x, Maximum and minimum inflection points, Help required: please evaluate the two given integrals, Related Rates of Change rectangle, Please help me solve the cubic equation $x^3+7x^2+m=0$, Use differential to approximate $\\sqrt{16+8h^4} = 4+h^4$ for small h?, Volume of revolution ,least posible volume, Aptitude Question, Describe to me what is happening here (Pre-algebra), Determine the primitive of the function...., Equation of the sphere centered at $(a,b,c)$ that passes through the origin, How do I find the area of this region?, Give a function $f$ with no limit at $0$ s.t.$ f: {\\mathbb{R}}^2 \\rightarrow \\mathbb{R}$ and $\\lim_{t \\to 0} f(tv) = 0$ for every vector $v \\neq 0$, Using monotonicity/basic calculus theorems to find no. of roots of a simple equation?, If real number x and y satisfy $(x+5)^2 +(y-12)^2=14^2$ then find the minimum value of $x^2 +y^2$, How to take the derivative with respect to $x^0$?, Calculate Euler yaw pitch and roll for a 3d point to face another, Mulitnomial Coefficient Power on a number, nan, nan, nan, nan, nan, nan, nan, nan, nan, nan, nan, nan, nan, nan,\n",
      "\n",
      "Cluster 1 words: sqrt, sqrt, frac, dfrac, frac, sqrt,\n",
      "\n",
      "Cluster 1 titles: Why is this valid: $2 \\int^{\\sqrt t}_0 \\frac 1 {\\sqrt {2\\pi}} e^{-u^2/2} du = \\frac 1 {\\sqrt {2 \\pi}} \\int^t_0 e^{-s/2}s^{-1/2}ds$, If $m+n=5$ and $mn=3$, find $\\sqrt{\\frac{n+1}{m+1}} + \\sqrt{\\frac{m+1}{n+1}}$?, Solving quadratic complex equation, Roots of fractions, Evaluate x given the equation $x + \\sqrt x = \\sqrt 3$, First derivative of this secial function, Finding all real solutions of algebraic equations, Not understanding the solution to this rational expression, Find the value of $\\sqrt{i+\\sqrt{\\frac12i+\\sqrt{\\frac13i+\\dots}}}$, Proof of simplification of radicals in fraction, solving this algebra question, Comparing the size of square roots, Find $x_n$ if $x_1,x_2,\\ldots,x_n$ is a set of positive numbers that satisfy $\\frac{x_n+2}{2}=\\sqrt{2S_n}$., $a,b,c>0 \\text{ s.t. }a+b+c=1 \\implies \\sqrt{ab+c}+\\sqrt{bc+a}+\\sqrt{ca+b} \\ge 1+ \\sqrt{ab}+\\sqrt{bc}+\\sqrt{ca}$, Proof for an equality involving square roots, Find the maximum rate of change of f at the origin, Transforming linear combination of the cosine and sine function, I need to find $\\frac{d^{2}y}{dx^{2}}$ of $\\sqrt{y} + 4xy = 4$, How do you solve this radical equation $\\sqrt{2x+5} + 2\\sqrt{x+6} = 5$?, Convergence of a series with factorials, parameters and ratio test, Having a problem when figuring out a better way to solve $\\int \\sqrt{3-2x} \\: \\: x \\, \\, \\, dx$, Proofs in coordinate geometry, Maximum ratio between diameter of shape and diameter of enclosing circle, Prove that $2\\sqrt n \\ge 1/\\sqrt1+1/\\sqrt2+\\cdots+1/\\sqrt n\\ge2(\\sqrt{n+1}-1) $, finding the slope of a line connecting two given Terminal points, Shell method on $f(x) = \\frac{1}{\\sqrt{x^2 + 1}}$, How to find the minimum value of the expression? $\\sqrt{(x-0,5)^2+0,75}+\\sqrt{(x-\\frac{\\sqrt{3}}{2})^2+0,25}$?, How to solve this equation involving $()^x$?, Limit with roots, Estimation of the fraction, Derivative of Square Root Polynomial?, Product of discontinuous function with zero, Find the value of $x+y$ if $x^2+y^2+10 = 2\\sqrt2x+4\\sqrt2y$, integral $\\sqrt{x+2}+\\frac{1}{\\sqrt{x+2}}$, Evaluating $\\lim_{x\\to 0} \\sqrt{x}$, Integral $ I=\\int_{-r}^r \\int_{-\\sqrt{r^2-x^2}}^{\\sqrt{r^2-x^2}} \\sqrt{1 - \\frac{x^2 + y^2}{x^2 + y^2 - r^2}} dy dx $, Does $\\log_a b = \\log_\\sqrt a \\sqrt b$ can be a basic logarithm law?, Evaluate $\\int x e^{\\sqrt{x}} \\, dx$, Domain and Range of f(x), Prove that $\\lim _{n\\to \\infty \\:}\\left(\\sqrt{n^2+3}-\\sqrt{n^2+1}\\right)=0$, Prove that $\\sqrt[3]{\\sec\\frac{2\\pi }{7}} + \\sqrt[3]{\\sec\\frac{4\\pi }{7}} + \\sqrt[3]{\\sec\\frac{8\\pi }{7}} = \\sqrt[3]{8-6\\sqrt[3]{7}}$, Converting a radical to a mixed radical, How do I solve an equation with three terms, with the unknown inside a square root, inside a third root, in two of them?, negative exponent problem, Need Help With These 2 Problems find k*x)=f(og), nan, nan, nan, nan, nan, nan, nan, nan, nan, nan, nan, nan, nan, nan, nan, nan, nan, nan, nan, nan, nan, nan, nan, nan, nan, nan, nan, nan, nan, nan, nan, nan, nan, nan, nan, nan, nan, nan,\n",
      "\n",
      "Cluster 2 words: integration, int, dx, integration, help, functions,\n",
      "\n",
      "Cluster 2 titles: Convergence of the beta function $\\beta(x,y)$, If f is monotone, then $\\int_{L+a}^L f(x) dx=K$ has a unique solution for L, Use the integration formula $\\frac{1}{a}\\arctan\\frac{x}{a}$ to solve $\\frac{1}{2} \\int_{-1}^1 \\mathrm{ \\frac{dx}{1+\\sqrt{2}x+x^2} }\\, $, Integration by substitution, derivative of $g ' (x)$, why?, Remarkable integral: $\\int_0^{\\infty} x \\left(1 - \\frac{\\sinh x}{\\cosh x-\\sqrt 3/2} \\right) = -\\frac{13 \\pi ^2}{72}$?, Integrating by parts with exponential and power-law functions, Reversing the limits of an integration, Integration of a trig function, Triple Integral Application Question, Finding the integral of a product of exp and cosine, How to evaluate $ \\int_{0}^{2015}e^{e^{e^{e^{2015x}}}}e^{e^{e^{2015x}}}e^{e^{2015x}}e^{2015x}dx $?, When can we use Gauss Hermite integration technique, what is the$ \\int \\sin (x^2) \\, dx$?, Calculus - limit involving uniform convergence, Elliptic Cylinder Coordinates Integral, Finding $\\int { \\exp\\left(\\frac { -\\gamma { r }^{ 2 } }{ 2 } \\right) } \\exp\\left(-ik \\cdot r\\right) { d }^{ 3 }r$, Integral on a surface, Limitations and alternatives to Riemann Integral, Find the sign of $\\int_{0}^{2 \\pi}\\frac{\\sin x}{x} dx$, Finding average value of function over given region, Triple Integral in cylindrical coordinate, How to integrate $\\int_{-\\infty}^\\infty {y\\exp (-y^2)\\over 1+y^2}dy$?, multi-dimensional impulse with kernel, How do you find the triple integral?, Evaluate $\\displaystyle\\int{\\frac{e^{2x}} {\\sqrt{1-e^x}}}\\ dx$, calculate double integral on quadrangle domain by changing of variables, Integrating $\\sqrt{1+\\cos^2}$, Uniform continuity allows pushing limit inside integral?, $\\int_0^1\\mathrm{d} u_1 \\cdots \\int_0^1\\mathrm{d} u_n \\frac{\\delta(1-u_1-\\cdots-u_n)}{(u_1+u_2)(u_2+u_3)\\cdots(u_{n-1}+u_n)(u_n+u_1)}$, Find the value of the integral $\\int_0^{2\\pi}\\ln|a+b\\sin x|dx$ where $0\\lt a\\lt b$, Evaluating $\\int^1_0\\frac{x^2}{4x+5}dx$, Double Integration, How to integrate $ \\int x^n e^x dx$?, Can't figure out a way to integrate $\\int_{A}\\log(\\sin(x-y))dx dy$, Power Series and their sums, Double Integral of a piecewise function, Understanding Limits of Integration in Integration-by-Parts, (High school) How to become an expert on integration?, Trigonometric Functions Involving Calculus, Evaluate the indefinite integral $\\sec(7x)\\tan(7x)$, Re-interpreting double integral as a Type II Region $\\mathrm{d}y\\,\\mathrm{d}x$ vs $\\mathrm{d}x\\,\\mathrm{d}y$, integration substances, Evaluate $\\int _0 ^1 \\frac{e^{ax}-e^{bx}}{(e^{ax}+1)(e^{bx}+1)} \\mathrm{d}x$, Evaluating $\\int \\tan^{1/3}(\\theta) d \\theta$, What does $ d\\tan(x) = \\sec^2(x)dx $ mean?, Prove that these integrals are equal. How to complete the proof?, How to $\\int e^{-u^2/2} du$, $\\int_{-\\infty}^\\infty x^2 \\cdot \\frac12Ce^{-C|x|}\\,dx$ where C is a constant, Integral of $\\int \\frac{\\sin^22x}{\\cos2x}dx$, How to integrate the nth root of n, Calculus Question - change order of integration, A rod with density $\\delta(x) = x^2+2x$ lies on the $x$-axis between $x= 0$ and $x= 2$. Find the mass and center of mass of the rod., Integrating $r^4\\cos^2\\theta\\sin\\theta$ Over an Ellipse, Integrate $\\int\\tan (x)\\sin (ax)dx$, Order of an integral, How to draw the graph of this function?, Is the reverse of the second fundamental theorem of calculus always true?, changing order of integration to obtain equivalent double integral, proving $\\int_{0}^{1}f=A$ when $f:\\left [ 0,1 \\right ] \\rightarrow \\mathbb{R}$, $u$-substitution into integral, Area of solid revolution using integration., Dimension analysis of an integral, Find the volume of the solid that remains after a circular hole of radius a is bored through the center of a solid sphere of radius r > a., how to derive the fact that the integral of $1/\\sin^2(x) = -\\cot (x)$, In a principal value integral, how do I know if I have a single or double pole?, Changing the order of integration for double integral, Representing area as an integral independent of the coordinate systems, Integrals and domain of integration, Find the total distance that the particle travels over the given interval?, Use Integration by Parts to find $\\int \\cos x\\cdot e^x\\;dx$, Prove reduction formula, $\\int_{b_L}^{b_H} (x^z+k)^{(1/z)} dx$?, Let $a>0$, $b$ and $c$ be real constants. Evaluate the integral $ \\int_{-\\infty}^{\\infty}e^{-ax^2}[ab\\cos(bx)+bc\\sin(bx)]dx. $, Partial Fraction and the Integration, How to show a function is identically equal to zero?, How to integrate $\\int_{0}^{\\pi /2} e^{−2x}\\sin(3x)\\rm dx $?, How do I calculate: $\\int \\frac{dx}{3\\sin^2 x+5\\cos^2x}?$, nan, nan, nan, nan, nan, nan, nan, nan, nan, nan, nan, nan, nan, nan, nan, nan, nan, nan, nan,\n",
      "\n",
      "Cluster 3 words: line, circle, point, tangent, radius, tangent,\n",
      "\n",
      "Cluster 3 titles: Showing three points are collinear, 2 circle questions, Determine a regular hexagon given points, the segment through a fixed interior point of a compact convex set which is at least as long as its parallels, Intersection of two equally long lines in a set with diameter $1$, How to calculate percentage of comment lines in a code?, A function with an undefined second derivative at a point, Two points a line, three points a circle... Three points triangle inequality, four points Ptolemy-Euler inequality..., Circle Intersections, A curve has the equation $y=(2x-3)^2$. Continue in description!, Minimum triangle perimeter with vertex on circle perimeter, Best way to split up a circle into subsections, Finding the angle, Radius either integer or $\\sqrt{2}\\cdot$integer, A (not so?) simple calculus problem, Finding an equation for a line with given criteria, circle of inversion, Trapezoid, find the sides, How do you find T-Junctions in an array of triangles?, Find the slope of the normal line to the curve $7x^2-10y^2=3xy$ at the point (-1,1)., why does the area bounded by a cubic curve and a tangent line have a same ratio with other area bounded between cubic curve and tangent line, Cutting a sandwich with a crust, Find the normal plane and osculating plane, Prove that $PQ=2r$, Finding all tangent lines that pass through a specific point (not the origin), Prove three points collinear, Area between two circles equal to half the area of one of the circles, put some elements on a sphere, Make a curve have only one horizontal tangent line, Proving that the medians of a triangle are concurrent, Proof of parallel lines, Lottery Odds as Multiples of Fractions, Slope of the tangent line in Calculus, Area of a region between curves and a point., Goat tethered in a circular field, Find the intersection of two parametric equations at one point, Dividing open domains in $\\mathbb R^2$ in parts of equal area, How to find position of a point based on known angle, radius and center of rotation?, How to find vector equation of a plane given a line and a point?, distance to the edge of a rounded rectangle, Dividing random cloud of points in two equal groups with a single line, Minimal circle containing set of points, Any four points on the space curve given by the parametrization $(t,t^2,t^3)$ are noncolinear, Finding locus problem, Three inflection points are on a line, Show that $x$ and $y$ satisfy the equation $y = x^2$ if $(x, y)$ is equidistant from $y = -1/4$ and $(0, 1/4)$, Find equation of tangent line to a curve $g(x)$ at $x=4$, How to prove this three-dimensional geometry theorem?, Show that $f(x) $ has either exactly 4 intersection points or either of the $3$ points is local maximum or miniumu., calculation of tangents for cardinal spline curve, Equation for the family of lines that passes through $3y-5x-10=0$ and $3y-\\frac{x}{3}-\\frac{5}{3}=0$, Find connected components of a a set Y, In plane geometry is it possible to represent the product of two line segments (p and q) as a line segment?, Increase length of line, Is there a geometrical definition of a tangent line?, How to find equations of tangent lines to the graph passing through a line, Circumcircle questions, Dynamic Sizing of Circles Along a Logarithmic Spiral, Perpendicular line intersection issues, nan, nan, nan, nan, nan, nan, nan, nan, nan, nan, nan, nan, nan, nan, nan, nan, nan, nan, nan, nan, nan, nan, nan, nan, nan, nan, nan, nan, nan,\n",
      "\n",
      "Cluster 4 words: ln, frac, integration, frac, ln, solve,\n",
      "\n",
      "Cluster 4 titles: why does $\\sum_{n=2}^{\\infty}\\frac{1}{n \\ln(n)}$ converge?, Proving the reduction formula, improper integrals calculus, Prove $y=\\ln(2x-1)/\\ln(x)$ is a decreasing function, Show that two integrals are equal, Integration by parts of $\\frac{\\ln(1+\\sqrt{x})}{\\sqrt{x}}$, Simplify a logarithm function, How to seperate out a variable from a log, How to integrate this integral $\\int_{1}^{e}e^{x}\\ln(x)\\textrm{d}x$, Trying to confirm my answer (Integral), Logarithmic integral, How to integrate $1/x$?, Indefinite integrals with natural logs, Per partes integration, How to simplify $\\ln^2\\left(x\\right)+2 \\ln x-3$, Solving equation with integrals, Integral with a natural logarithm in the denominator, Simple Derivative $\\frac{x}{\\ln x}$, Calculation of no. of real solution of $ x^{x^{2015}} = 2015.$, How to solve if I have ln on both sides of equation?, Determine $f'(4)$ for $f(x)=4e^\\frac{\\ln (x-3)}{24x}$, Find all values of parameters to make a certain function continuous., What is the following Calculation about?, How does this factor to 6(1-ln6), Differentiate this equation (below):, Integration by Parametric Integration., Need help with a definite integral, How to solve for $x$ when given function is $f(\\ln(x))$, Definite integral involving arctangents, log-trig integral with sin, cos, and tan, Trick in solving for $x$., For which values ​​of a equation $y=ax^2$ is tangent to $y=\\ln(2x)$, Solution for $x = -c_1  e ^ x + c_2  e ^{-x}$, Expand the function $\\ln(27+x^3)$ as a power series at x=0, nan, nan, nan, nan, nan, nan, nan, nan, nan, nan, nan, nan, nan, nan, nan, nan, nan, nan, nan, nan, nan, nan, nan,\n",
      "\n",
      "Cluster 5 words: log, solve, equation, log, solve, value,\n",
      "\n",
      "Cluster 5 titles: What is the integral of $\\int\\frac{(x-1)e^{1/x}dx}{x}$?, prove logarithmic inequality for N>1200, solve the following equation for x and y, Simplification of different base logarithms, How to solve this linear equation and \"discuss its solutions\"?, Solving exponential equations using logarithms, Solve $x\\log x=y$, Solving equation $\\log_y(\\log_y(x))= \\log_n(x)$ for $n$, Dealing with Logarithms. $\\log(b^x + a) = \\log(c)$, how to find the value of $\\log_3 7$, $\\ln|x|$ vs.$\\ln(x)$? When is the $\\ln$ antiderivative marked as an absolute value?, Solving the trigonometric equation $A\\cos x + B\\sin x = C$, Why choose Gaussian when calculating the volumes of high dimensional spheres?, How to solve for negative numbers in logarithmic equations, Logarithm question, Logarithm rules in $8^{\\log_2 n} = n^{\\log_2 8}$, Fourier series of Log sine and Log cos, determining which values or solves solve $y'' - 2y' - y = 0$ for $e^{ r t}$, Solving $8n^2=64 n\\log(n)$, Product of logarithms, prove this identity., How do I calculate this logarithmic expression?, Can this equation be rewritten to solve for y as a function of F?, Find the value of: tan(100) + tan(125) + tan(100)•tan(125), Finding where the surface $z=2 + x + y^2$ intersects the $xy$ plane, Differentiation problem of power to infinity by using log property, Converting to logarithm, solve $\\log _{0.5}x$ = $0.5^x$, How can I solve the equation $8=5x+2$?, Find $n$ satisfying the equation $[\\log_21]+[\\log_22]+[\\log_23]+\\dots[\\log_2n]=1538 $, How do I find the decimal part of the answer of a logarithm problem, why $\\log(n!)$ isn't zero?, nan, nan, nan, nan, nan, nan, nan,\n",
      "\n",
      "Cluster 6 words: sin, cos, frac, cos, pi, sin,\n",
      "\n",
      "Cluster 6 titles: Finding the integral of $e^{\\cos t} \\sin 2t$, Is the following legal? $\\dfrac{d}{d \\theta}\\cos(n\\theta)=\\dfrac{d \\cos n\\theta}{d \\cos \\theta}\\dfrac{d \\cos \\theta}{d \\theta}$., prove this properties of triangles trigonometric question, Using Euler's formula for cos/sin 12 degrees and cos/sin 48 degrees, How to evaluate $I=\\displaystyle\\int_0^{\\pi/2}x^2\\ln(\\sin x)\\ln(\\cos x)\\ \\mathrm dx$, Let $f(x)=\\frac{2x+1}{\\sin(x)}$ find $f'(x)$, Trigonometric ratios involving negative angles, When calculating Taylor Series of cos(x) what is the meaning on the index n?, Derivative of $2\\sqrt{1+\\sin{t}}$, Time average of $\\cos^2 x$ function, Trigonometric equation $2\\sin x+\\cos x+1=0$, Line integrals for a circle, Integration help - question: $e^{-\\sin(x)}$, Trigonometric system, Computing taylor series for trigonometric exponential function, Approximation using Taylor series expansion of $\\sin x$, Integrating a trig function with a compound angle and raised to a power, What is the integral of this function?, $R(\\theta)=151250\\sin(2\\theta) $ Find angle of inclination of gun., Find the acute angle of intersection of the curves $y=\\cos x$ and $y=e^{-x}$ at the point $(0,1)$., Log integrals IV, How  to verify this trigonometric identity?, How do you get to this step?, Find all primitives to the function $f(x)=x^{5/3}+\\cos(5x)+e^{-3x}$, Prove that $\\cos (A + B)\\cos (A - B) = {\\cos ^2}A - {\\sin ^2}B$, Trigonometric equations with more than one function, How to simplify $(\\sin \\theta-\\cos \\theta+1)/(\\sin \\theta +\\cos \\theta-1)$?, How can I solve $\\sin(x)=\\sin(2x)$?, How to evaluate this expression: $ \\int\\frac{\\sin(2x)}{1+\\cos(2x)}dx $, solving $\\frac{x}{3}+{[\\frac{x}{3}]} = \\sin(x) + [\\sin(x)]$ for real x , in an efficient manner, Phase Relationships of Sinsuoidal Waveforms?!, Object moving on x axis integration, Why is $A(\\cos x)=x/2$ in the unit circle definition of cosine?, Evaluate integral with trigonometric functions in denominator, Velocity/position and derivatives, Arbitrary circles equal to polar coordinates, Value of $\\cos 20^\\circ + 2 \\sin^2 55^\\circ - \\sqrt{2} \\sin 65^\\circ$, Finding minima and maxima of $\\sin^2x \\cos^2x$, Integral $ \\int _0^6 \\lfloor x \\rfloor \\sin( \\frac {6x}{\\pi}) \\ \\mathrm dx $, Trigonometry question finding the sin and tan, The chain rule problem with second composite, If $f(x) = \\cos x$, explain, without taking the derivative, how you would find the $f^{(99)}(x)$?, How prove this $\\tan{\\frac{2\\pi}{13}}+4\\sin{\\frac{6\\pi}{13}}=\\sqrt{13+2\\sqrt{13}}$, How to solve this trignometric equation?, Trigonometry tangent line question, Prove this identity? $\\cos t ⋅ \\cos u ⋅ \\cos v = \\frac14(\\cos(t + u + v)+ \\cos(t + u - v)+cos(t-u-v))$, Tell whether each function is a sinusoid and explain, Improper integral, Definition of integration, Prove $\\frac{\\sin A \\cos A}{\\cos^2 A - \\sin^2 A} = \\frac{\\tan A}{1-\\tan^2 A}$, Integrate $\\sin^5 x$, find p,q to the expression A does not depend on x?, How to evaluate this difficult definite integral?, Integration of trig - reduction formula $\\int \\cos^4 x\\; dx$, Intersection points of two trignometric equations, Finding area bounded by $y=2 \\sin{x} - 1$ and $y = \\frac{x}{\\pi}$, Why $\\int_{0}^{\\pi}\\arctan{\\cos{x}}dx = 0$?, Trigonometric Identities and formulas, maximize $\\csc{(\\pi b)}\\sin{(\\pi ab)}+\\csc{(\\pi (\\frac{1}{a}-b))}\\sin{(\\pi a(\\frac{1}{a}-b))}$, Trig Question Lemma Application, Injective function $f(x) = x + \\sin x$, Why is this solution to $2\\sin^2(x) + \\sin(x) - 1 = 0$ incorrect?, Calc- Trig Identity Help!, Show that $\\frac{\\mathrm{d} }{\\mathrm{d} x}(\\sin^n x \\sin(nx))= n \\sin ^{n-1} x \\sin((n+1)x))$, Integration of $1/\\sin^3 x$, Are these two answers to $\\int \\sin ^3(x)dx$ equivalent?, How do you evaluate an integral with an absolute value?, How to prove this in smart way, How to fit a sinusoid to 2 points and their gradients, $\\sin^2 \\alpha + \\sin^2 \\beta - \\cos \\gamma < M$ given that the sum of the angles is $\\pi$, How do I verify $\\frac{(\\sin x - \\cos x + 1)}{(\\sin x + \\cos x-1)}=\\frac{\\sin x + 1}{\\cos x}$?, How do I solve $\\int_{\\frac{\\pi}{6}}^{\\frac{\\pi}{4}}\\frac{4\\,dx}{\\sin^2(x)\\cos^2(x)}$?, Sine & Cosine Word Problem, How prove or disprove this limit $\\lim_{n\\to\\infty}\\frac{\\sum_{k=1}^{n}|\\sin{(x+k)}|}{n}=\\dfrac{1}{\\pi}\\int_{0}^{\\pi}|\\sin{x}|dx$, How can find this integral(10)?, Question about the Fundamental Theorem of Calculus, Solving $\\arccos(11/14)+\\arcsin(-1/7)=x$, Integral: Moments of the semicircle distribution, Can anyone help me find an $x$ for which $\\sin x=-1/2$ and $\\sin x=\\sqrt{2}/2$?, Solving trigonometry equations from graphs when transformations (e.g. $3\\tan^2$) are involved?, Integral of $\\int 2\\,\\sin^{2}{x}\\cos{x}\\,dx$, Find a formula for $\\sin(5x)$ in terms of $\\sin(x)$ and $\\cos(x)$., How to find the min and max of $y = x \\sin(\\ln|x|)$?, nan, nan, nan, nan, nan, nan, nan, nan, nan, nan, nan, nan, nan, nan, nan, nan, nan, nan, nan, nan, nan, nan, nan, nan, nan, nan, nan, nan, nan, nan, nan, nan, nan, nan, nan, nan, nan, nan, nan, nan, nan, nan, nan, nan, nan, nan, nan, nan, nan, nan, nan, nan, nan, nan, nan, nan, nan, nan, nan, nan, nan, nan, nan, nan, nan, nan, nan, nan, nan, nan, nan, nan, nan, nan, nan, nan, nan, nan, nan, nan, nan, nan, nan, nan, nan, nan, nan,\n",
      "\n",
      "Cluster 7 words: int, dx, frac, int, integration, int,\n",
      "\n",
      "Cluster 7 titles: Need help with integrating $\\int \\frac{x}{x+2}dx$, stuck with an integral involving an exponential function, What is the value of $\\int_{-2}^3\\min\\{1,x^2\\}dx$, Non-elementary antiderivative inequality, Evaluation of Integral $\\int_{0}^1 \\frac{\\arctan x }{1+x} dx$, Definite integral property, How does trigonometric substitution work?, What Derivative Rule does Trig Substitution match up with?, How to compute $\\int_0^{\\infty} \\ln (1 + e^{-x})\\, dx$?, Finding $\\int \\cos^4 (2t)$, What are other methods to Evaluate $\\int_0^{\\infty} \\frac{y^{m-1}}{1+y} dy$?, Derivative of an Integral?, Can't Solve an Integral, How to calculate an integral, Integrate $\\int \\frac{6x-15}{x^2 +8x+101}dx$, calculating an integral with arctg and polynomal, Evaluation of $\\int \\frac{\\sqrt[3]{x+\\sqrt[4]{x}}}{\\sqrt{x}}dx$, Evaluate the integral: integral of $\\int 6^{-2x} dx$, Supreme of some functional, Is there a formula for solving integrals of this form?, Compute Integral of: $\\int x^2\\sqrt{a^2-x^2} \\,dx$, Evaluating $\\int_{0}^{\\infty }(2e^{-3x}+4e^{-7x})^2dx$, How to solve the integral $\\int \\frac{1}{e^x}\\,dx$ step by step?, Integrate $\\int_{0}^{1}{x^{-x}(1-x)^{x-1}\\sin{\\pi x}dx}$, How can i solve this? (Integration), having a small problem with a integration calculation, Find Definite Integral, What is the integral of $\\int e^x\\,\\sin x\\,\\,dx$?, Without integration, explain the following equation, Proof of definite integral is finite, How to prove $ \\int _0 ^1 \\left ( \\sqrt{1-x^2}\\right )^n dx = \\prod_{k=1} ^n \\frac {2k}{2k+1} $, Convergence of integral/series, Evaluate : $\\int^{\\frac{\\pi}{2}}_0 \\frac{\\cos^2x\\,dx}{\\cos^2x+4\\sin^2x}$, Integration by parts: Is this correct?, $\\int_{0}^{\\pi}\\sin(\\theta)\\sin(n\\theta)d{\\theta}=0$, Is the solution correct?, Definite integral reciprocal of polynomial plus trig function, Integral involving trig functions, Integral of $e^{(x-x^3)/3n}$ from $0$ to $\\infty$, Indefinite Integrals $\\tan^3(\\theta)$, Derivative of double integral over Region, Problem with change of variables, Given that $\\int_{0}^{100} (a^x-1) \\:\\mathrm{d}x = 30$, how can I calculate $a$?, Evaluate $\\int {2x\\over x^2-1}dx$, How can I can solve integrals of rational functions of polynomials in $x$?, Giving a bound to an integral, Integral of $\\int(4-2x)^\\frac{1}{3}dx$, How to solve this double integral?, Evaluation of $ \\int_{0}^{2a}x\\cdot \\sin^{-1}\\left(\\frac{1}{2}\\sqrt{\\frac{2a-x}{a}}\\right)dx$, Evaluate $\\int ^1 _0 x^2 \\, dx$ without using the Fundamental Theorem of Calculus, $\\int \\cos^{-1} x \\; dx$; trying to salvage an unsuccessful attempt, what is the value of $\\int_{-1}^{1}\\frac{1}{x^n}dx$, x is a natural number., Double integral question reverse order?, Integral with partial fractions algebra problem, Interchanging $\\Re$ and integral sign, Integrating a special class of functions, How do you integrate $e^{x^2}$?, Assigning a finite value to a divergent integral, Elementary question concerning flux integral, Definite Integral of $e^{\\large x^2}$, Integral involving $\\sec(x^4)$, Evaluate : $\\int_{-1}^{1}\\int_{-\\sqrt{1-y^2}}^{0}\\frac{dxdy}{1+x^2+y^2}$, Integration symbol specifications, How do I calculate the triple integral $\\int_{0}^{2\\pi}\\int_0^1 \\int_0^1 xy\\sqrt{x^2 + y^2 -2xy\\cos(\\theta)} dx \\text{ }dy \\text{ } d\\theta$?, Determining k: $\\int_{6}^{16} \\frac{dx}{\\sqrt{x^3 + 7x^2 + 8x - 16}} = \\frac{\\pi}{k}$, Evaluate $ \\int^4_1 e^ \\sqrt {x}dx $, Can you use indefinite integration to prove equivalence of two functions?, nan, nan, nan, nan, nan, nan, nan, nan, nan, nan, nan, nan, nan, nan, nan, nan, nan, nan, nan, nan, nan, nan, nan, nan, nan, nan, nan, nan, nan, nan, nan, nan, nan, nan, nan, nan, nan, nan, nan, nan, nan, nan, nan, nan, nan, nan, nan, nan, nan, nan, nan, nan, nan, nan, nan, nan, nan, nan, nan, nan, nan,\n",
      "\n",
      "Cluster 8 words: angle, triangle, area, abc, triangle, circle,\n",
      "\n",
      "Cluster 8 titles: Finding out the value of an angle, Trigonometry: Applications, Finding more details about a triangle using the given details., Why do small angle approximations have to be in radians?, Prove: sum of angles in triangle is invariant, Generalizing an alternative derivation of distance, Geometry question with three triangles, one more clock related challenge!, Radius & arc length = what angle from c.p.?, In neutral geometry, the line connecting midpoints in a triangle is orthogonal to the perpendicular bisector?, question about triangle, Angle of intersection lines, What is Angle(A,b) about something., Sum of Interior Angles of a Triangle, What are these specific trigonometric functions used for?, Deriving and applying the cosine law, Working out two lengths when only one length and an angle is known on a right-angled triangle, What is the theorem called that states that equal angles gives equal sides?, Let the opposite sides of a cyclic quadrangle be extended to meet at V and W. Then the internal bisectors of the angles at V and W are perpendicular., square inscribed in a right triangle, Solve the triangle trigonometry., Ratio of Circle Areas, How to solve this geometry problem involving circles and tangents?, Solving Right Triangle Given Two Sides, Can I prove Pythagoras' Theorem using that $\\sin^2(\\theta)+\\cos^2(\\theta)=1$?, Trigonometry, some true or false tasks about cosine-rule and sine-rule, Derivative of the sin(x) when x is measured in degrees, Flawed law of cosines application, Geometry; find that show this. Circle with some chords., Problem on triangle similarity., Is it possible to calculate sine by hand?, Rate of change of rectangle inside triangle, Angle points calculation, Geometry: Measurements of right triangle inscribed in a circle, Prove that the each angle of regular hexagon is 120., Worded trig question, How to prove: $S=\\frac{4}{3}\\sqrt{ m(m-m_a)(m-m_b)(m-m_c)}$, When can you use a triangle to represent trig substitution?, If we know two of the angles between three lines in space can we figure out the third one?, What is the angle of a space diagonal in a cuboid?, A moving triangle, Finding the area of the triangle, Find the magnitude of a parallelogram?, nan, nan, nan, nan, nan, nan, nan, nan, nan, nan, nan, nan, nan, nan, nan, nan, nan, nan, nan, nan, nan, nan, nan, nan, nan, nan, nan, nan, nan, nan, nan, nan, nan, nan, nan, nan, nan, nan, nan, nan, nan, nan, nan, nan, nan, nan, nan, nan, nan,\n",
      "\n",
      "Cluster 9 words: frac, frac, dx, right, equation, arctan,\n",
      "\n",
      "Cluster 9 titles: General result of the following integral, If $f'(x) = \\sin{\\frac{\\pi e^x}{2}}$ and $f(0)= 1$, what is $f(2)$?, Prove $F(x)=\\frac{1}{x}\\int_0^xf(t)$ is convex, Derivative of $\\ln(1+\\sin 2x)$, How do I get the integral of $\\frac{1}{(x^2 - x -2)}$, Explicit solution to $100(y + \\frac{100}{10-y}) = x + 1000$, Find mirror image of an point, Differentiation of improper integral, Derivative Arc-tangens, How to solve the integral $\\int \\frac {(x^2 +1)}{x^4- x^2 +1} dx$, Derivative calculation stuck with two results, Calculating time to arbitrary points of distance with initial velocity and non-uniform acceleration, More help with implicit differentiation, Partial Derivates Question, Why is $\\frac{a}{b}-\\frac{a+1}{b+1}=\\frac{a-b}{b(b+1)}$, Calculate the arclength of $y=\\frac{\\sqrt{x}(x^2+2)}{3}, \\hspace{0.5cm} 2\\leq x\\leq 4$, How to find the line that splits the area into two equal parts?, Algebra; if one variable doubles how does it affect another one?, a step function 2, How do you do partial fraction $\\frac2{x^2 - 8}$?, Calculus question on application of the quotient rule, Calculation of $\\sum_{m=1}^{\\infty}\\sum_{n=1}^{\\infty}\\frac{m^2n}{3^n\\left(m\\cdot 3^n+n\\cdot 3^m\\right)}$, Solving the equation $- y^2 - x^2 - xy = 0$, Difficult Definite Integral with ArcCosh, How do I evaluate $\\lim_{n \\rightarrow \\infty} \\frac{1\\cdot2+2\\cdot3 +3\\cdot4 +4\\cdot5+\\ldots}{n^3}$, How come $\\left(\\frac{n+1}{n-1}\\right)^n = \\left(1+\\frac{2}{n-1}\\right)^n$, Elementary doubt on ratios, general form sin and arctan integral, Different expressions...how to turn from one to another?, How do I use the partial fractions technique in this case?, Why isn't $\\frac{1}{0} = 0$?, Counting the volume of block., How to find the value of this function, Evaluating Inverse Trigonometry Functions, Arcsin-Arccos-Arctan manually converting to degrees/radians, maximum of $f(x)=\\sin{(\\pi Ax)}\\left(\\,\\csc{(\\pi x)}+\\csc{(\\pi (\\frac{1}{A}-x))}\\,\\right)$, How many critical values does $f$ have on $(0,10)$, given $f '(x)=\\frac{\\cos^2 x}{x} -\\frac{1}{5}$?, How far apart need two circles be so the intersecting area is A?, question on derivation in book. integration, What is the average rate of change over this interval?, Simplification : $\\biggl(\\frac{ 1+x^2}{1-x^2}\\biggr)^2 = \\frac{1}{1-y^2}$, Simple Algebraic Manipulation I am Stuck On?, Proof for $\\frac{x^n}{x^n}=x^{n-n}$, Show that $ \\frac{\\tan x}{1+\\sec x}+\\frac{1+\\sec x}{\\tan x}= 2 \\csc x$, Laplacians and delta functions, Simple Differentiation, Rational Expression Simplification, Fractional Exponents and Fractions, How to compute $d^2y$?, Integral by partial fractions, Find the equation of a line tangent at a specific point, How to do this indices example?, If $t = \\tanh (x/2)$, prove what $\\sinh (x)$ and $\\cosh (x)$ are in terms of $t$?, Difference in derivative between $\\frac{6}{3x^2+1}$ and $\\frac{6}{3x^2}$, Implicit differentiation of $e^x(x^2 + y^2)$, Find Power Series, show that $(x^b+y^b)^{1/b} < (x^a+y^a)^{1/a}$ if $x>0$, $y>0$, and $0<a<b$, Related Rates problem involving pythagorean theorem., How can I solve: $\\begin{cases} 5x - y = 2 \\\\ 4y^2 + 4xy - 4x^2 - 1 = 0 \\\\ \\end{cases}$?, Logarithm Evaluating, Why does L'Hospital's rule work?, How to simplify this summation equation?, Why does $\\int\\frac{1}{2x+1}dx=\\frac{1}{2}\\ln|2x+1|+C$?, Rate Of Change Of Shadow, Flash question about expanding the derivative definition, analytic solution to non-linear system of equations., If $g(x) = \\max(y^2-xy)(0 \\leq y\\leq 1)\\;,$ Then minimum value of $g(x)$, Finding derivative and getting desired result., $dy$ by $dx$ or $dy$ divided by $dx$, derivative of $\\sec^2(x/12)$, finding integral, Solve an equation involving the sine and the inverse tangent, partial sum question, Is this an accepted/given form of the definition of derivative?, Is this proof about limit involving e correct?, Question about the Geometric Sequence Theorem, Evaluating the line integral $\\int(x-y)dS$ for $r^2=a^2\\cos(2\\phi)$ and $-\\frac{\\pi}{4} \\leq \\phi \\leq \\frac{\\pi}{4}$, Tangent Line at given point. Help!, Simplification & Differentiation of $\\frac{2x}{x^{1/3}}$, Derivative of a delta function of a function, $\\iint_D \\cos \\left( \\frac{x-y}{x+y} \\right)\\,dA$, Proving an equality on $\\arctan x$, Differentiate $ f(x) = \\frac 2x $ from first principles, How to add compound fractions?, I'm trying to understand an equality, Finding Concavity in Curves, Confused about taking absolute value after integrating reciprocal, \"Multiplying\" by a dt then cancelling?, I need help finding the critical values of this function., Determine the sum of the series, Express $\\frac{\\partial^{2}z}{\\partial r^{2}}$ in terms of r, $\\theta$, and the partial derivative of f., The given equation is either linear or equivalent to a linear equation. Solve the equation., A differential inequality, Finding $\\int_0^{2\\pi}\\,d\\theta\\,\\,\\frac{a-i\\cdot{b}\\cos(\\pi+\\theta)}{c-i\\cdot{d}\\cos(\\pi+\\theta)}$, Approximating a three-times differentiable function by a linear combination of derivatives, Is this operation legal?, A Limit of a function involving big O notation., Manually Finding Values of Inverse Trigonometric Functions, Differential equation $a+bf(x)$, Partial derivative at (0,0)., Two different ways to take the derivative on composite functions?, Fraction Derivative, How many seconds are there in 7 3/8 minutes?, How to calculate the limit of $(n+1)^{\\frac{1}{n}}$ as $n\\to\\infty$, Calculating a calculable Integral using Integration, How to substitute function variables?, nan, nan, nan, nan, nan, nan, nan, nan, nan, nan, nan, nan, nan, nan,\n",
      "\n",
      "\n",
      "\n"
     ]
    }
   ],
   "source": [
    "from __future__ import print_function\n",
    "\n",
    "print(\"Top terms per cluster:\")\n",
    "print()\n",
    "#sort cluster centers by proximity to centroid\n",
    "order_centroids = km.cluster_centers_.argsort()[:, ::-1] \n",
    "\n",
    "for i in range(num_clusters):\n",
    "    print(\"Cluster %d words:\" % i, end='')\n",
    "    \n",
    "    for ind in order_centroids[i, :6]: #replace 6 with n words per cluster\n",
    "        print(' %s' % vocab_frame.ix[terms[ind].split(' ')].values.tolist()[0][0].encode('utf-8', 'ignore'), end=',')\n",
    "    print() #add whitespace\n",
    "    print() #add whitespace\n",
    "    \n",
    "    print(\"Cluster %d titles:\" % i, end='')\n",
    "    for title in df_final.ix[i]['Title'].values.tolist():\n",
    "        print(' %s,' % title, end='')\n",
    "    print() #add whitespace\n",
    "    print() #add whitespace\n",
    "    \n",
    "print()\n",
    "print()"
   ]
  },
  {
   "cell_type": "code",
   "execution_count": 136,
   "metadata": {
    "collapsed": false
   },
   "outputs": [],
   "source": [
    "#set up colors per clusters using a dict\n",
    "cluster_colors = {0: '#1b9e77', 1: '#d95f02', 2: '#7570b3', 3: '#e7298a', 4: '#66a61e',\n",
    "                 5: '#1b9e77', 6: '#d95f02', 7: '#7570b3', 8: '#e7298a', 9: '#66a61e'}\n",
    "\n",
    "#set up cluster names using a dict\n",
    "cluster_names = {0: 'derivation, functions, rules, differentiable, second, values', \n",
    "                 1: 'sqrt, frac, int', \n",
    "                 2: 'theta, sin, cos,frac',\n",
    "                 3: 'sin, frac, cos', \n",
    "                 4: 'frac, dx, int, pi, right', \n",
    "                 5: 'solve, equations, area, answer, know',\n",
    "                 6: 'tan, dfrac, log, frac',\n",
    "                 7: 'line, point, circle, tangent, slope, equations',\n",
    "                 8: 'integrable, dx, int, frac, ln, pi',\n",
    "                 9: 'triangle, angle, length, area, abc, ab'\n",
    "                }"
   ]
  },
  {
   "cell_type": "code",
   "execution_count": 145,
   "metadata": {
    "collapsed": false
   },
   "outputs": [
    {
     "data": {
      "text/plain": [
       "1354"
      ]
     },
     "execution_count": 145,
     "metadata": {},
     "output_type": "execute_result"
    }
   ],
   "source": [
    "len(clusters)"
   ]
  },
  {
   "cell_type": "code",
   "execution_count": 140,
   "metadata": {
    "collapsed": false
   },
   "outputs": [
    {
     "ename": "ValueError",
     "evalue": "arrays must all be same length",
     "output_type": "error",
     "traceback": [
      "\u001b[0;31m---------------------------------------------------------------------------\u001b[0m",
      "\u001b[0;31mValueError\u001b[0m                                Traceback (most recent call last)",
      "\u001b[0;32m<ipython-input-140-3ff5b6dcde5d>\u001b[0m in \u001b[0;36m<module>\u001b[0;34m()\u001b[0m\n\u001b[1;32m      3\u001b[0m \u001b[0mtitles\u001b[0m \u001b[0;34m=\u001b[0m \u001b[0mdf_final\u001b[0m\u001b[0;34m.\u001b[0m\u001b[0mTitle\u001b[0m\u001b[0;34m\u001b[0m\u001b[0m\n\u001b[1;32m      4\u001b[0m \u001b[0;31m#create data frame that has the result of the MDS plus the cluster numbers and titles\u001b[0m\u001b[0;34m\u001b[0m\u001b[0;34m\u001b[0m\u001b[0m\n\u001b[0;32m----> 5\u001b[0;31m \u001b[0mdf\u001b[0m \u001b[0;34m=\u001b[0m \u001b[0mpd\u001b[0m\u001b[0;34m.\u001b[0m\u001b[0mDataFrame\u001b[0m\u001b[0;34m(\u001b[0m\u001b[0mdict\u001b[0m\u001b[0;34m(\u001b[0m\u001b[0mx\u001b[0m\u001b[0;34m=\u001b[0m\u001b[0mxs\u001b[0m\u001b[0;34m,\u001b[0m \u001b[0my\u001b[0m\u001b[0;34m=\u001b[0m\u001b[0mys\u001b[0m\u001b[0;34m,\u001b[0m \u001b[0mlabel\u001b[0m\u001b[0;34m=\u001b[0m\u001b[0mclusters\u001b[0m\u001b[0;34m,\u001b[0m \u001b[0mtitle\u001b[0m\u001b[0;34m=\u001b[0m\u001b[0mtitles\u001b[0m\u001b[0;34m)\u001b[0m\u001b[0;34m)\u001b[0m\u001b[0;34m\u001b[0m\u001b[0m\n\u001b[0m\u001b[1;32m      6\u001b[0m \u001b[0;34m\u001b[0m\u001b[0m\n\u001b[1;32m      7\u001b[0m \u001b[0;31m#group by cluster\u001b[0m\u001b[0;34m\u001b[0m\u001b[0;34m\u001b[0m\u001b[0m\n",
      "\u001b[0;32m/usr/local/lib/python2.7/site-packages/pandas/core/frame.pyc\u001b[0m in \u001b[0;36m__init__\u001b[0;34m(self, data, index, columns, dtype, copy)\u001b[0m\n\u001b[1;32m    206\u001b[0m                                  dtype=dtype, copy=copy)\n\u001b[1;32m    207\u001b[0m         \u001b[0;32melif\u001b[0m \u001b[0misinstance\u001b[0m\u001b[0;34m(\u001b[0m\u001b[0mdata\u001b[0m\u001b[0;34m,\u001b[0m \u001b[0mdict\u001b[0m\u001b[0;34m)\u001b[0m\u001b[0;34m:\u001b[0m\u001b[0;34m\u001b[0m\u001b[0m\n\u001b[0;32m--> 208\u001b[0;31m             \u001b[0mmgr\u001b[0m \u001b[0;34m=\u001b[0m \u001b[0mself\u001b[0m\u001b[0;34m.\u001b[0m\u001b[0m_init_dict\u001b[0m\u001b[0;34m(\u001b[0m\u001b[0mdata\u001b[0m\u001b[0;34m,\u001b[0m \u001b[0mindex\u001b[0m\u001b[0;34m,\u001b[0m \u001b[0mcolumns\u001b[0m\u001b[0;34m,\u001b[0m \u001b[0mdtype\u001b[0m\u001b[0;34m=\u001b[0m\u001b[0mdtype\u001b[0m\u001b[0;34m)\u001b[0m\u001b[0;34m\u001b[0m\u001b[0m\n\u001b[0m\u001b[1;32m    209\u001b[0m         \u001b[0;32melif\u001b[0m \u001b[0misinstance\u001b[0m\u001b[0;34m(\u001b[0m\u001b[0mdata\u001b[0m\u001b[0;34m,\u001b[0m \u001b[0mma\u001b[0m\u001b[0;34m.\u001b[0m\u001b[0mMaskedArray\u001b[0m\u001b[0;34m)\u001b[0m\u001b[0;34m:\u001b[0m\u001b[0;34m\u001b[0m\u001b[0m\n\u001b[1;32m    210\u001b[0m             \u001b[0;32mimport\u001b[0m \u001b[0mnumpy\u001b[0m\u001b[0;34m.\u001b[0m\u001b[0mma\u001b[0m\u001b[0;34m.\u001b[0m\u001b[0mmrecords\u001b[0m \u001b[0;32mas\u001b[0m \u001b[0mmrecords\u001b[0m\u001b[0;34m\u001b[0m\u001b[0m\n",
      "\u001b[0;32m/usr/local/lib/python2.7/site-packages/pandas/core/frame.pyc\u001b[0m in \u001b[0;36m_init_dict\u001b[0;34m(self, data, index, columns, dtype)\u001b[0m\n\u001b[1;32m    334\u001b[0m \u001b[0;34m\u001b[0m\u001b[0m\n\u001b[1;32m    335\u001b[0m         return _arrays_to_mgr(arrays, data_names, index, columns,\n\u001b[0;32m--> 336\u001b[0;31m                               dtype=dtype)\n\u001b[0m\u001b[1;32m    337\u001b[0m \u001b[0;34m\u001b[0m\u001b[0m\n\u001b[1;32m    338\u001b[0m     def _init_ndarray(self, values, index, columns, dtype=None,\n",
      "\u001b[0;32m/usr/local/lib/python2.7/site-packages/pandas/core/frame.pyc\u001b[0m in \u001b[0;36m_arrays_to_mgr\u001b[0;34m(arrays, arr_names, index, columns, dtype)\u001b[0m\n\u001b[1;32m   4749\u001b[0m     \u001b[0;31m# figure out the index, if necessary\u001b[0m\u001b[0;34m\u001b[0m\u001b[0;34m\u001b[0m\u001b[0m\n\u001b[1;32m   4750\u001b[0m     \u001b[0;32mif\u001b[0m \u001b[0mindex\u001b[0m \u001b[0;32mis\u001b[0m \u001b[0mNone\u001b[0m\u001b[0;34m:\u001b[0m\u001b[0;34m\u001b[0m\u001b[0m\n\u001b[0;32m-> 4751\u001b[0;31m         \u001b[0mindex\u001b[0m \u001b[0;34m=\u001b[0m \u001b[0mextract_index\u001b[0m\u001b[0;34m(\u001b[0m\u001b[0marrays\u001b[0m\u001b[0;34m)\u001b[0m\u001b[0;34m\u001b[0m\u001b[0m\n\u001b[0m\u001b[1;32m   4752\u001b[0m     \u001b[0;32melse\u001b[0m\u001b[0;34m:\u001b[0m\u001b[0;34m\u001b[0m\u001b[0m\n\u001b[1;32m   4753\u001b[0m         \u001b[0mindex\u001b[0m \u001b[0;34m=\u001b[0m \u001b[0m_ensure_index\u001b[0m\u001b[0;34m(\u001b[0m\u001b[0mindex\u001b[0m\u001b[0;34m)\u001b[0m\u001b[0;34m\u001b[0m\u001b[0m\n",
      "\u001b[0;32m/usr/local/lib/python2.7/site-packages/pandas/core/frame.pyc\u001b[0m in \u001b[0;36mextract_index\u001b[0;34m(data)\u001b[0m\n\u001b[1;32m   4797\u001b[0m             \u001b[0mlengths\u001b[0m \u001b[0;34m=\u001b[0m \u001b[0mlist\u001b[0m\u001b[0;34m(\u001b[0m\u001b[0mset\u001b[0m\u001b[0;34m(\u001b[0m\u001b[0mraw_lengths\u001b[0m\u001b[0;34m)\u001b[0m\u001b[0;34m)\u001b[0m\u001b[0;34m\u001b[0m\u001b[0m\n\u001b[1;32m   4798\u001b[0m             \u001b[0;32mif\u001b[0m \u001b[0mlen\u001b[0m\u001b[0;34m(\u001b[0m\u001b[0mlengths\u001b[0m\u001b[0;34m)\u001b[0m \u001b[0;34m>\u001b[0m \u001b[0;36m1\u001b[0m\u001b[0;34m:\u001b[0m\u001b[0;34m\u001b[0m\u001b[0m\n\u001b[0;32m-> 4799\u001b[0;31m                 \u001b[0;32mraise\u001b[0m \u001b[0mValueError\u001b[0m\u001b[0;34m(\u001b[0m\u001b[0;34m'arrays must all be same length'\u001b[0m\u001b[0;34m)\u001b[0m\u001b[0;34m\u001b[0m\u001b[0m\n\u001b[0m\u001b[1;32m   4800\u001b[0m \u001b[0;34m\u001b[0m\u001b[0m\n\u001b[1;32m   4801\u001b[0m             \u001b[0;32mif\u001b[0m \u001b[0mhave_dicts\u001b[0m\u001b[0;34m:\u001b[0m\u001b[0;34m\u001b[0m\u001b[0m\n",
      "\u001b[0;31mValueError\u001b[0m: arrays must all be same length"
     ]
    }
   ],
   "source": [
    "#some ipython magic to show the matplotlib plots inline\n",
    "%matplotlib inline \n",
    "titles = df_final.Title\n",
    "#create data frame that has the result of the MDS plus the cluster numbers and titles\n",
    "df = pd.DataFrame(dict(x=xs, y=ys, label=clusters, title=titles)) \n",
    "\n",
    "#group by cluster\n",
    "groups = df.groupby('label')\n",
    "\n",
    "\n",
    "# set up plot\n",
    "fig, ax = plt.subplots(figsize=(17, 9)) # set size\n",
    "ax.margins(0.05) # Optional, just adds 5% padding to the autoscaling\n",
    "\n",
    "#iterate through groups to layer the plot\n",
    "#note that I use the cluster_name and cluster_color dicts with the 'name' lookup to return the appropriate color/label\n",
    "for name, group in groups:\n",
    "    ax.plot(group.x, group.y, marker='o', linestyle='', ms=12, \n",
    "            label=cluster_names[name], color=cluster_colors[name], \n",
    "            mec='none')\n",
    "    ax.set_aspect('auto')\n",
    "    ax.tick_params(\\\n",
    "        axis= 'x',          # changes apply to the x-axis\n",
    "        which='both',      # both major and minor ticks are affected\n",
    "        bottom='off',      # ticks along the bottom edge are off\n",
    "        top='off',         # ticks along the top edge are off\n",
    "        labelbottom='off')\n",
    "    ax.tick_params(\\\n",
    "        axis= 'y',         # changes apply to the y-axis\n",
    "        which='both',      # both major and minor ticks are affected\n",
    "        left='off',      # ticks along the bottom edge are off\n",
    "        top='off',         # ticks along the top edge are off\n",
    "        labelleft='off')\n",
    "    \n",
    "ax.legend(numpoints=1)  #show legend with only 1 point\n",
    "\n",
    "#add label in x,y position with the label as the film title\n",
    "for i in range(len(df)):\n",
    "    ax.text(df.ix[i]['x'], df.ix[i]['y'], df.ix[i]['title'], size=8)  \n",
    "\n",
    "    \n",
    "    \n",
    "plt.show() #show the plot\n",
    "\n",
    "#uncomment the below to save the plot if need be\n",
    "#plt.savefig('clusters_small_noaxes.png', dpi=200)"
   ]
  },
  {
   "cell_type": "code",
   "execution_count": null,
   "metadata": {
    "collapsed": true
   },
   "outputs": [],
   "source": [
    "#define custom toolbar location\n",
    "class TopToolbar(mpld3.plugins.PluginBase):\n",
    "    \"\"\"Plugin for moving toolbar to top of figure\"\"\"\n",
    "\n",
    "    JAVASCRIPT = \"\"\"\n",
    "    mpld3.register_plugin(\"toptoolbar\", TopToolbar);\n",
    "    TopToolbar.prototype = Object.create(mpld3.Plugin.prototype);\n",
    "    TopToolbar.prototype.constructor = TopToolbar;\n",
    "    function TopToolbar(fig, props){\n",
    "        mpld3.Plugin.call(this, fig, props);\n",
    "    };\n",
    "\n",
    "    TopToolbar.prototype.draw = function(){\n",
    "      // the toolbar svg doesn't exist\n",
    "      // yet, so first draw it\n",
    "      this.fig.toolbar.draw();\n",
    "\n",
    "      // then change the y position to be\n",
    "      // at the top of the figure\n",
    "      this.fig.toolbar.toolbar.attr(\"x\", 150);\n",
    "      this.fig.toolbar.toolbar.attr(\"y\", 400);\n",
    "\n",
    "      // then remove the draw function,\n",
    "      // so that it is not called again\n",
    "      this.fig.toolbar.draw = function() {}\n",
    "    }\n",
    "    \"\"\"\n",
    "    def __init__(self):\n",
    "        self.dict_ = {\"type\": \"toptoolbar\"}"
   ]
  },
  {
   "cell_type": "code",
   "execution_count": null,
   "metadata": {
    "collapsed": true
   },
   "outputs": [],
   "source": [
    "#create data frame that has the result of the MDS plus the cluster numbers and titles\n",
    "df = pd.DataFrame(dict(x=xs, y=ys, label=clusters, title=titles)) \n",
    "\n",
    "#group by cluster\n",
    "groups = df.groupby('label')\n",
    "\n",
    "#define custom css to format the font and to remove the axis labeling\n",
    "css = \"\"\"\n",
    "text.mpld3-text, div.mpld3-tooltip {\n",
    "  font-family:Arial, Helvetica, sans-serif;\n",
    "}\n",
    "\n",
    "g.mpld3-xaxis, g.mpld3-yaxis {\n",
    "display: none; }\n",
    "\n",
    "svg.mpld3-figure {\n",
    "margin-left: -200px;}\n",
    "\"\"\"\n",
    "\n",
    "# Plot \n",
    "fig, ax = plt.subplots(figsize=(14,6)) #set plot size\n",
    "ax.margins(0.03) # Optional, just adds 5% padding to the autoscaling\n",
    "\n",
    "#iterate through groups to layer the plot\n",
    "#note that I use the cluster_name and cluster_color dicts with the 'name' lookup to return the appropriate color/label\n",
    "for name, group in groups:\n",
    "    points = ax.plot(group.x, group.y, marker='o', linestyle='', ms=18, \n",
    "                     label=cluster_names[name], mec='none', \n",
    "                     color=cluster_colors[name])\n",
    "    ax.set_aspect('auto')\n",
    "    labels = [i for i in group.title]\n",
    "    \n",
    "    #set tooltip using points, labels and the already defined 'css'\n",
    "    tooltip = mpld3.plugins.PointHTMLTooltip(points[0], labels,\n",
    "                                       voffset=10, hoffset=10, css=css)\n",
    "    #connect tooltip to fig\n",
    "    mpld3.plugins.connect(fig, tooltip, TopToolbar())    \n",
    "    \n",
    "    #set tick marks as blank\n",
    "    ax.axes.get_xaxis().set_ticks([])\n",
    "    ax.axes.get_yaxis().set_ticks([])\n",
    "    \n",
    "    #set axis as blank\n",
    "    ax.axes.get_xaxis().set_visible(False)\n",
    "    ax.axes.get_yaxis().set_visible(False)\n",
    "\n",
    "    \n",
    "ax.legend(numpoints=1) #show legend with only one dot\n",
    "\n",
    "mpld3.display() #show the plot\n",
    "\n",
    "#uncomment the below to export to html\n",
    "#html = mpld3.fig_to_html(fig)\n",
    "#print(html)"
   ]
  },
  {
   "cell_type": "code",
   "execution_count": null,
   "metadata": {
    "collapsed": true
   },
   "outputs": [],
   "source": [
    "from scipy.cluster.hierarchy import ward, dendrogram\n",
    "\n",
    "linkage_matrix = ward(dist) #define the linkage_matrix using ward clustering pre-computed distances\n",
    "\n",
    "fig, ax = plt.subplots(figsize=(15, 20)) # set size\n",
    "ax = dendrogram(linkage_matrix, orientation=\"right\", labels=titles);\n",
    "\n",
    "plt.tick_params(\\\n",
    "    axis= 'x',          # changes apply to the x-axis\n",
    "    which='both',      # both major and minor ticks are affected\n",
    "    bottom='off',      # ticks along the bottom edge are off\n",
    "    top='off',         # ticks along the top edge are off\n",
    "    labelbottom='off')\n",
    "\n",
    "plt.tight_layout() #show plot with tight layout\n",
    "\n",
    "#uncomment below to save figure\n",
    "plt.savefig('ward_clusters.png', dpi=200) #save figure as ward_clusters"
   ]
  },
  {
   "cell_type": "markdown",
   "metadata": {},
   "source": [
    "## Final Analysis\n",
    "    - What fundamental topics which are the pain points\n",
    "    - Which clusters have the most fundamental topics?\n",
    "    - Which clusters are overrepresented with fundamental topics?\n",
    "    - What are fundamental topics within calculus?"
   ]
  },
  {
   "cell_type": "markdown",
   "metadata": {
    "collapsed": true
   },
   "source": [
    "##Visualizations"
   ]
  },
  {
   "cell_type": "markdown",
   "metadata": {
    "collapsed": true
   },
   "source": [
    "### Presentation\n",
    "- High school is like a user experience. How can we identify when high school students as users  of the education system experience pain points which may inhibit their progress. \n",
    "- Everyone has pain points with the process. Some students are able to surmount those obstacles, while other may need targeted help to get the most out of the available system.\n",
    "- Often when speaking about mathematics you hear people say that they aren't math people, or aren't good at math and you find out that they hit a wall. It's like anything in life which is difficult. You hit a wall and you either push through it or you don't. \n",
    "- present it as a paradigm which is a process which can be improved upon. there are answers that we can deivgn about how to teach people that are better or worse than others. Testing to figure out where are the pain points and where are students falling behind, particularly in math/science. \n",
    "- These are users /consumers of education. \n",
    "- I'm building a tool which can target at what point students are exiting the process. "
   ]
  },
  {
   "cell_type": "code",
   "execution_count": null,
   "metadata": {
    "collapsed": true
   },
   "outputs": [],
   "source": []
  }
 ],
 "metadata": {
  "kernelspec": {
   "display_name": "Python 2",
   "language": "python",
   "name": "python2"
  },
  "language_info": {
   "codemirror_mode": {
    "name": "ipython",
    "version": 2
   },
   "file_extension": ".py",
   "mimetype": "text/x-python",
   "name": "python",
   "nbconvert_exporter": "python",
   "pygments_lexer": "ipython2",
   "version": "2.7.9"
  }
 },
 "nbformat": 4,
 "nbformat_minor": 0
}
